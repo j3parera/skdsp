{
 "cells": [
  {
   "cell_type": "code",
   "execution_count": 1,
   "metadata": {
    "collapsed": false
   },
   "outputs": [],
   "source": [
    "import matplotlib.pyplot as plt\n",
    "%matplotlib inline\n",
    "import skdsp.signal.discrete as ds\n",
    "import skdsp.signal.printer as pt\n",
    "import numpy as np\n",
    "import sympy as sp\n",
    "import scipy.signal as cp\n",
    "from ipywidgets import interact, fixed\n",
    "np.seterr(all='ignore')\n",
    "PI = sp.S.Pi\n",
    "pi = np.pi"
   ]
  },
  {
   "cell_type": "markdown",
   "metadata": {},
   "source": [
    "## 1.- Básicas"
   ]
  },
  {
   "cell_type": "code",
   "execution_count": 2,
   "metadata": {
    "code_folding": [],
    "collapsed": false
   },
   "outputs": [],
   "source": [
    "def s1(sg='delta', fd='nothing', delay=0):\n",
    "    npts = 15\n",
    "    if sg == 'delta':\n",
    "        s = ds.Delta()\n",
    "    elif sg == 'step':\n",
    "        s = ds.Step()\n",
    "    elif sg == 'ramp':\n",
    "        s = ds.Ramp()\n",
    "    elif sg == 'unit ramp':\n",
    "        s = ds.Ramp() * ds.Step()\n",
    "    if fd == 'flip then delay':\n",
    "        s = s.flip().delay(delay)\n",
    "    elif fd == 'delay then flip':\n",
    "        s = s.delay(delay).flip()\n",
    "    elif fd == 'just delay':\n",
    "        s = s.delay(delay)\n",
    "    ns = np.arange(-npts, npts+1)\n",
    "    ys = s[ns]\n",
    "    plt.figure(figsize=(20, 4))\n",
    "    ml = plt.stem(ns, ys, markerfmt='bo', linefmt='b-', basefmt='k-')\n",
    "    plt.setp(ml, ms=8)\n",
    "    plt.xlim([-npts-0.5, npts+0.5])\n",
    "    min_ = min(0, np.min(ys))\n",
    "    max_ = max(np.max(ys), 1)\n",
    "    range_ = (max_ - min_)*0.1\n",
    "    plt.ylim([min_-range_, max_+range_])\n",
    "    plt.axvline(0, color='k')\n",
    "    plt.axhline(0, color='k')\n",
    "    plt.title(pt.latex(s, mode='inline'), size=24)"
   ]
  },
  {
   "cell_type": "code",
   "execution_count": 3,
   "metadata": {
    "collapsed": false
   },
   "outputs": [
    {
     "data": {
      "image/png": "[encoded data removed]",
      "text/plain": [
       "<matplotlib.figure.Figure at 0x7f12a9743780>"
      ]
     },
     "metadata": {},
     "output_type": "display_data"
    }
   ],
   "source": [
    "interact(s1, sg=('delta', 'step', 'ramp', 'unit ramp'),\n",
    "         fd=('just delay', 'flip then delay', 'delay then flip'),\n",
    "         delay=(-15, 15))"
   ]
  },
  {
   "cell_type": "code",
   "execution_count": null,
   "metadata": {
    "collapsed": true
   },
   "outputs": [],
   "source": []
  }
 ],
 "metadata": {
  "kernelspec": {
   "display_name": "Python 3",
   "language": "python",
   "name": "python3"
  },
  "language_info": {
   "codemirror_mode": {
    "name": "ipython",
    "version": 3
   },
   "file_extension": ".py",
   "mimetype": "text/x-python",
   "name": "python",
   "nbconvert_exporter": "python",
   "pygments_lexer": "ipython3",
   "version": "3.4.3+"
  },
  "widgets": {
   "state": {
    "1e5becd54c1341ba82df701c5593a2c3": {
     "views": [
      {
       "cell": {
        "cell_type": "code",
        "execution_count": 3,
        "metadata": {
         "collapsed": false,
         "trusted": true
        },
        "outputs": [
         {
          "data": {
           "image/png": "iVBORw0KGgoAAAANSUhEUgAABH4AAAEVCAYAAACWviInAAAABHNCSVQICAgIfAhkiAAAAAlwSFlz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\n",
           "text/plain": "<matplotlib.figure.Figure at 0x7f12a9743780>"
          },
          "metadata": {},
          "output_type": "display_data"
         }
        ],
        "source": "interact(s1, sg=('delta', 'step', 'ramp', 'unit ramp'),\n         fd=('just delay', 'flip then delay', 'delay then flip'),\n         delay=(-15, 15))"
       },
       "cell_index": 3,
       "root": true
      }
     ]
    },
    "593e91fa5d144cc7b133b7bd28db61e4": {
     "views": []
    },
    "5e25d0626f3743b48c5891076341752a": {
     "views": []
    },
    "c1114ba874034d4dbb01915c7d136064": {
     "views": []
    },
    "d5152a36c20843f38c9b933bf1486a94": {
     "views": []
    },
    "e690db2d817242238190450a91532627": {
     "views": []
    },
    "f8c873500c47467295efa8264b54f19c": {
     "views": []
    },
    "f921568496c54ae2aafad22eb729ae7e": {
     "views": []
    }
   },
   "version": "1.0.0"
  }
 },
 "nbformat": 4,
 "nbformat_minor": 0
}
