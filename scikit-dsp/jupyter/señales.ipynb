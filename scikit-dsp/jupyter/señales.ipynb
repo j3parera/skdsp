{
 "cells": [
  {
   "cell_type": "code",
   "execution_count": 1,
   "metadata": {
    "collapsed": false
   },
   "outputs": [],
   "source": [
    "import matplotlib.pyplot as plt\n",
    "%matplotlib inline\n",
    "import skdsp.signal.discrete as ds\n",
    "import skdsp.signal.printer as pt\n",
    "import numpy as np\n",
    "import sympy as sp\n",
    "import scipy.signal as cp\n",
    "from ipywidgets import interact, fixed\n",
    "np.seterr(all='ignore')\n",
    "PI = sp.S.Pi\n",
    "pi = np.pi"
   ]
  },
  {
   "cell_type": "markdown",
   "metadata": {},
   "source": [
    "## 1.- Básicas"
   ]
  },
  {
   "cell_type": "code",
   "execution_count": 2,
   "metadata": {
    "code_folding": [],
    "collapsed": false
   },
   "outputs": [],
   "source": [
    "def s1(sg='delta', fd='nothing', delay=0):\n",
    "    npts = 15\n",
    "    if sg == 'delta':\n",
    "        s = ds.Delta()\n",
    "    elif sg == 'step':\n",
    "        s = ds.Step()\n",
    "    elif sg == 'ramp':\n",
    "        s = ds.Ramp()\n",
    "    elif sg == 'unit ramp':\n",
    "        s = ds.Ramp() * ds.Step()\n",
    "    if fd == 'flip then delay':\n",
    "        s = s.flip().delay(delay)\n",
    "    elif fd == 'delay then flip':\n",
    "        s = s.delay(delay).flip()\n",
    "    elif fd == 'just delay':\n",
    "        s = s.delay(delay)\n",
    "    ns = np.arange(-npts, npts+1)\n",
    "    ys = s[ns]\n",
    "    plt.figure(figsize=(20, 4))\n",
    "    ml = plt.stem(ns, ys, markerfmt='bo', linefmt='b-', basefmt='k-')\n",
    "    plt.setp(ml, ms=8)\n",
    "    plt.xlim([-npts-0.5, npts+0.5])\n",
    "    min_ = min(0, np.min(ys))\n",
    "    max_ = max(np.max(ys), 1)\n",
    "    range_ = (max_ - min_)*0.1\n",
    "    plt.ylim([min_-range_, max_+range_])\n",
    "    plt.axvline(0, color='k')\n",
    "    plt.axhline(0, color='k')\n",
    "    plt.title(pt.latex(s, mode='inline'), size=24)"
   ]
  },
  {
   "cell_type": "code",
   "execution_count": 3,
   "metadata": {
    "collapsed": false
   },
   "outputs": [
    {
     "data": {
      "image/png": "[encoded data removed]",
      "text/plain": [
       "<matplotlib.figure.Figure at 0x7fbfbcceaf28>"
      ]
     },
     "metadata": {},
     "output_type": "display_data"
    }
   ],
   "source": [
    "interact(s1, sg=('delta', 'step', 'ramp', 'unit ramp'),\n",
    "         fd=('just delay', 'flip then delay', 'delay then flip'),\n",
    "         delay=(-15, 15))"
   ]
  },
  {
   "cell_type": "code",
   "execution_count": null,
   "metadata": {
    "collapsed": true
   },
   "outputs": [],
   "source": []
  }
 ],
 "metadata": {
  "kernelspec": {
   "display_name": "Python 3",
   "language": "python",
   "name": "python3"
  },
  "language_info": {
   "codemirror_mode": {
    "name": "ipython",
    "version": 3
   },
   "file_extension": ".py",
   "mimetype": "text/x-python",
   "name": "python",
   "nbconvert_exporter": "python",
   "pygments_lexer": "ipython3",
   "version": "3.4.3+"
  },
  "widgets": {
   "state": {
    "04ee4fb828674f5299591a09528e92b8": {
     "views": []
    },
    "2d7b12cb5f5045b58346b1ec3bb5e7bf": {
     "views": []
    },
    "384199aa2c8142bd8064205c34403742": {
     "views": []
    },
    "53a3fc97d60143a5a950fd10ae6e8cf6": {
     "views": []
    },
    "5b7a5a7c81ff42978c1cde80f205d929": {
     "views": []
    },
    "7ef2f67b62414bbdafe56ce301338357": {
     "views": []
    },
    "9d169feb05204fbc94072b197d9f85d4": {
     "views": []
    },
    "e60f581d1809411f84daf7c5cc4d5458": {
     "views": [
      {
       "cell": {
        "cell_type": "code",
        "execution_count": 3,
        "metadata": {
         "collapsed": false,
         "trusted": true
        },
        "outputs": [
         {
          "data": {
           "image/png": "iVBORw0KGgoAAAANSUhEUgAABH4AAAEVCAYAAACWviInAAAABHNCSVQICAgIfAhkiAAAAAlwSFlz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\n+T30XQAAAABJRU5ErkJggg==\n",
           "text/plain": "<matplotlib.figure.Figure at 0x7fbfbcceaf28>"
          },
          "metadata": {},
          "output_type": "display_data"
         }
        ],
        "source": "interact(s1, sg=('delta', 'step', 'ramp', 'unit ramp'),\n         fd=('just delay', 'flip then delay', 'delay then flip'),\n         delay=(-15, 15))"
       },
       "cell_index": 3,
       "root": true
      }
     ]
    }
   },
   "version": "1.0.0"
  }
 },
 "nbformat": 4,
 "nbformat_minor": 0
}
