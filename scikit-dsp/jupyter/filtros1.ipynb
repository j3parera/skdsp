{
 "cells": [
  {
   "cell_type": "code",
   "execution_count": 7,
   "metadata": {
    "collapsed": false
   },
   "outputs": [],
   "source": [
    "import matplotlib.pyplot as plt\n",
    "%matplotlib inline\n",
    "import skdsp.signal.discrete as ds\n",
    "import numpy as np\n",
    "import sympy as sp\n",
    "from scipy.signal import group_delay\n",
    "from scipy.fftpack import fftshift\n",
    "from ipywidgets import interact, fixed\n",
    "np.seterr(all='ignore')\n",
    "PI = sp.S.Pi\n",
    "pi = np.pi"
   ]
  },
  {
   "cell_type": "markdown",
   "metadata": {},
   "source": [
    "## 1.- Un cero"
   ]
  },
  {
   "cell_type": "code",
   "execution_count": 46,
   "metadata": {
    "code_folding": [],
    "collapsed": false
   },
   "outputs": [],
   "source": [
    "def f1(b0=0, b1=0):\n",
    "    omega = np.linspace(-pi, pi, 512, endpoint=True)\n",
    "    H = b0 + b1*np.exp(-1j*omega)\n",
    "    plt.figure(figsize=(20, 4))\n",
    "    plt.subplot(1,3,1)\n",
    "    plt.plot(omega, np.abs(H), 'b')\n",
    "    plt.axis([omega[0], omega[-1], -0.1, 2.1])\n",
    "    plt.axhline(0, color='k')\n",
    "    plt.title('Respuesta en amplitud', size=14)\n",
    "    plt.xlabel(r'$\\omega$', size=18)\n",
    "    plt.ylabel('amplitud', size=12)\n",
    "    \n",
    "    plt.subplot(1,3,2)\n",
    "    pH = np.unwrap(np.angle(H))\n",
    "    plt.plot(omega, pH, 'b')\n",
    "    plt.axis([omega[0], omega[-1], -2*pi-0.1, 2*pi+0.1])\n",
    "    plt.axhline(0, color='k')\n",
    "    plt.title('Respuesta en fase', size=14)\n",
    "    plt.xlabel(r'$\\omega$', size=18)\n",
    "    plt.ylabel('fase (rad)', size=12)\n",
    "    \n",
    "    plt.subplot(1,3,3)\n",
    "    gd = b1*(b0*np.cos(omega) + b1)/(b0**2 + 2*b0*b1*np.cos(omega) + b1**2)\n",
    "    plt.plot(omega, gd, 'b')\n",
    "    plt.axis([omega[0], omega[-1], -25, 25])\n",
    "    plt.axhline(0, color='k')\n",
    "    plt.title('Retardo de grupo', size=14)\n",
    "    plt.xlabel(r'$\\omega$', size=18)\n",
    "    plt.ylabel(r'$\\tau$ (muestras)', size=12)"
   ]
  },
  {
   "cell_type": "code",
   "execution_count": 47,
   "metadata": {
    "collapsed": false
   },
   "outputs": [
    {
     "data": {
      "image/png": "[encoded data removed]",
      "text/plain": [
       "<matplotlib.figure.Figure at 0x7f8e1acc0208>"
      ]
     },
     "metadata": {},
     "output_type": "display_data"
    }
   ],
   "source": [
    "interact(f1, b0=(-1, 1, 0.05), b1=(-1, 1, 0.05))"
   ]
  },
  {
   "cell_type": "code",
   "execution_count": 33,
   "metadata": {
    "collapsed": false
   },
   "outputs": [
    {
     "name": "stdout",
     "output_type": "stream",
     "text": [
      "b1*(b0*cos(omega) + b1)/(b0**2 + 2*b0*b1*cos(omega) + b1**2)\n"
     ]
    }
   ],
   "source": [
    "om, b0, b1 = sp.symbols('omega b0 b1', real=True)\n",
    "Hs = b0 + b1*sp.exp(-sp.I*om)\n",
    "gds = -sp.diff(sp.arg(Hs), om)\n",
    "print(sp.simplify(gds))"
   ]
  },
  {
   "cell_type": "code",
   "execution_count": null,
   "metadata": {
    "collapsed": true
   },
   "outputs": [],
   "source": []
  }
 ],
 "metadata": {
  "kernelspec": {
   "display_name": "Python 3",
   "language": "python",
   "name": "python3"
  },
  "language_info": {
   "codemirror_mode": {
    "name": "ipython",
    "version": 3
   },
   "file_extension": ".py",
   "mimetype": "text/x-python",
   "name": "python",
   "nbconvert_exporter": "python",
   "pygments_lexer": "ipython3",
   "version": "3.4.3+"
  },
  "widgets": {
   "state": {
    "02059936a58b47e9abfc753e4c683dcd": {
     "views": []
    },
    "0334e3b83ada444a965f37a6dea96329": {
     "views": []
    },
    "0641e77c753148b4b7e7f610422ca6da": {
     "views": []
    },
    "0760964d96fa4280827e6b0c1f99104d": {
     "views": []
    },
    "0a70bdd18d404d218ea7c5e2bdabf1ea": {
     "views": []
    },
    "0c35f912d0744b8ca98467f0c47aaf40": {
     "views": []
    },
    "146d0e7632c941acbb0e7aba35658fd6": {
     "views": []
    },
    "15c3e455fa6a4aab9731f328491386b2": {
     "views": []
    },
    "169dc59ca9e64ed59d8c322540cc888e": {
     "views": []
    },
    "18ccef7c0f5448d783940cf5db49d90e": {
     "views": []
    },
    "1cc28622ff0e44b2a12d78837bd001e4": {
     "views": []
    },
    "221dce4737fb4ea8978d51d9624e658e": {
     "views": []
    },
    "252682176bb147ef9a4ab20b1983a3cf": {
     "views": []
    },
    "26d029450caf40acb788c7bba5db509b": {
     "views": []
    },
    "2b76536152b34dc6a4fdb89567385139": {
     "views": []
    },
    "2b899f4ab8754513824df3879511075a": {
     "views": []
    },
    "2d6e4e2b6dc54d769664321e93921f1f": {
     "views": []
    },
    "3325e308381d477b9ae6d8b0ebfcd325": {
     "views": []
    },
    "3a4ade51b4b74416b4c158d8aab679a5": {
     "views": []
    },
    "3e97ceea60a04c2e83323422713258fa": {
     "views": []
    },
    "3effa111ee45492ba95c38127ffbb62d": {
     "views": []
    },
    "4055017f83ed4f5895e3dfea1f8839d3": {
     "views": []
    },
    "407a0c20a5dc4211abdff18b423e5a42": {
     "views": []
    },
    "414f85a75e53457085af2fb4169b1a28": {
     "views": []
    },
    "41ac377307a84fe1b68cb4b3c36b6dbf": {
     "views": []
    },
    "41d78f83f08e40069fcd7dd4f2573d2c": {
     "views": []
    },
    "448cbbd439c7447697bb05830f72df42": {
     "views": []
    },
    "44cc2dacd0ea4c8c901dce85e0ab479e": {
     "views": []
    },
    "45544dfcdf8049b19b9556f4c919a3ef": {
     "views": []
    },
    "49b644adae844d01a036b3640407c95f": {
     "views": []
    },
    "566482bd7a654b659ed7a8fc3477d67f": {
     "views": []
    },
    "5ad330e63eab432a9bc73158378245f1": {
     "views": []
    },
    "5edd7dfcc5b5418d8e599203dbf46a20": {
     "views": []
    },
    "6142727f3c524929b73926fead50c667": {
     "views": []
    },
    "66927732942346b495231410d69174a8": {
     "views": []
    },
    "6708d37c688d4dae87fa0b5039d0dcec": {
     "views": []
    },
    "67daed23a16f4da598300b51f46c9bce": {
     "views": [
      {
       "cell": {
        "cell_type": "code",
        "execution_count": 47,
        "metadata": {
         "collapsed": false,
         "trusted": true
        },
        "outputs": [
         {
          "data": {
           "image/png": "iVBORw0KGgoAAAANSUhEUgAABJAAAAEiCAYAAACm6ijwAAAABHNCSVQICAgIfAhkiAAAAAlwSFlz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\nkiRJkiRJpWwgSZIkSZIkqdT/AvsIIxOH6Iq+AAAAAElFTkSuQmCC\n",
           "text/plain": "<matplotlib.figure.Figure at 0x7f8e1acc0208>"
          },
          "metadata": {},
          "output_type": "display_data"
         }
        ],
        "source": "interact(f1, b0=(-1, 1, 0.05), b1=(-1, 1, 0.05))"
       },
       "cell_index": 3,
       "root": true
      }
     ]
    },
    "692a3fb08c844333800637412c600920": {
     "views": []
    },
    "69e31d20a6a4486da39c07db36fa7e68": {
     "views": []
    },
    "6bdc5f4084e041c7a329978330320dba": {
     "views": []
    },
    "6c681288dd374f2d8a0a6f7be235afc9": {
     "views": []
    },
    "6ec364ca182642838fd49bb22539e625": {
     "views": []
    },
    "6f7d35d9edf14392a96903bfb052f36d": {
     "views": []
    },
    "71654c95ebdf4b54ac544da445bc761e": {
     "views": []
    },
    "71ffd46dc4e64caf8d8e8e608e8ca51c": {
     "views": []
    },
    "731a2a5f2cf447d091c3e3637bba6227": {
     "views": []
    },
    "763ec9eb3d6344af9d16e57ba63cd1a9": {
     "views": []
    },
    "7693623c17ef4059a8973e94a7fd2580": {
     "views": []
    },
    "77897d8a8468407c916a05334b4c90d0": {
     "views": []
    },
    "79b0368c31654d4bbdd8e88e4a122d51": {
     "views": []
    },
    "7a5c7f5c42e341ddae82ce965c838538": {
     "views": []
    },
    "7a9a07fba59647e1a0152342226c9033": {
     "views": []
    },
    "7d6097f293cf4f86bbaf6380d928af8b": {
     "views": []
    },
    "818e638628c4430bb0cf4181c6e2e604": {
     "views": []
    },
    "83163c1272ef477c9dbb02269339682c": {
     "views": []
    },
    "8321cebc8efe43a68a5432748824768c": {
     "views": []
    },
    "8764264592e5430d9e2a180b5454763c": {
     "views": []
    },
    "876692a685494358af07e6dfaa9323a4": {
     "views": []
    },
    "8b8cedd9aca043febfd06b388a87117b": {
     "views": []
    },
    "8de26ee42b9b43108d7f4f19796cdac4": {
     "views": []
    },
    "91d37f04a3564a2aa87ed3def4a51a99": {
     "views": []
    },
    "924468e6d33148f1bf9a313aa777c4e5": {
     "views": []
    },
    "928c9bb4e0f949a0a199c876ba924d85": {
     "views": []
    },
    "932ea847025c4e68a0a1d54458171098": {
     "views": []
    },
    "98d7a6074b30426abf9801c6d37f4a51": {
     "views": []
    },
    "990e09ab433a4e0a8de8207edb1af812": {
     "views": []
    },
    "994b5ce3b87846628d871eb39bd98d6d": {
     "views": []
    },
    "9a19f0b75b7d47a6b22211f038a2cd1b": {
     "views": []
    },
    "9a34a2eb00c540b886434a314a8c9a7b": {
     "views": []
    },
    "9c1d61bf158e4144adcf087f78f79630": {
     "views": []
    },
    "9d4b36c2e5e84aa99e65e24afd9a957c": {
     "views": []
    },
    "9f56015ff7384023bd0754a654d8b215": {
     "views": []
    },
    "a1424fdf2030481c864918f8e1211110": {
     "views": []
    },
    "a2e824d506554096b77bb6fa899a2c76": {
     "views": []
    },
    "a45aab5233bd4afe9c792bd2f7597b36": {
     "views": []
    },
    "a47a55ff20d1406cb75f46063f197c25": {
     "views": []
    },
    "a543c438ae7a4ce696c51366e7e2f588": {
     "views": []
    },
    "a8f581582bd443a6a34fbacc67040cde": {
     "views": []
    },
    "aa0c5a34cfe74c0ea388424821922327": {
     "views": []
    },
    "ac5c333a657d4e8eacab4116df9a74f4": {
     "views": []
    },
    "b07220c367b04ab796df59f3c6db5922": {
     "views": []
    },
    "b2463d2025a64aa7b81da959475c47e4": {
     "views": []
    },
    "b3d74f35f86c4f9d9021d5f9ccddbccd": {
     "views": []
    },
    "b7799345310b4986aff9c91adbd8d3c3": {
     "views": []
    },
    "b8ea5f2ae3f2434a9369850ebbe7a8f9": {
     "views": []
    },
    "b8f45395d84e4e038e138040ffa16d40": {
     "views": []
    },
    "b9ca6c9cd19d413aa442b2a5c7ed42d0": {
     "views": []
    },
    "baa1d8d290d941988a456d6215df79c5": {
     "views": []
    },
    "bac77a53e2714b7fa5f065d2af3491e7": {
     "views": []
    },
    "bf2915bbbbc4486ab6246802aa82516e": {
     "views": []
    },
    "bf687ede88714e9eb2a51181f46ab74e": {
     "views": []
    },
    "bfc751d717114292a43fc12700c3c2c4": {
     "views": []
    },
    "c3263e3605e347529386e868151eecee": {
     "views": []
    },
    "c34a7584973140338acc23debd4014fa": {
     "views": []
    },
    "c9b5abce1d154002b4902581bae990b9": {
     "views": []
    },
    "cab01ffa7252452781d02008af74dbb0": {
     "views": []
    },
    "cef2820812fd4fd2b429d76493fe8db8": {
     "views": []
    },
    "cf2c9faf248e4b51844248a52d6839bd": {
     "views": []
    },
    "cff4d8694f9b4046b4bad2732898162d": {
     "views": []
    },
    "d5936136942d434b8fe6b3435b260946": {
     "views": []
    },
    "d5d01f25a56642e199cfcc1676aee440": {
     "views": []
    },
    "d960cd71bf9643a184c9e99bd32947a9": {
     "views": []
    },
    "dc791261fec74748a489a350f7d70f66": {
     "views": []
    },
    "dcacc832db9347b8b47e3b44739e3b94": {
     "views": []
    },
    "e0c43bea6cf94dcc9c8923fa3b8a307f": {
     "views": []
    },
    "e17a1732c9064ab786367cadb6532141": {
     "views": []
    },
    "e1c7cdd3b0164d58b26dee6109f3cd9c": {
     "views": []
    },
    "e23397964a1f4e0786c5785dd7c60af1": {
     "views": []
    },
    "e490e52d8987402bbe073ba9b53a78be": {
     "views": []
    },
    "e516ba62d3b742d5bb26da9e72117bd5": {
     "views": []
    },
    "e88e97af648542edb48b4a966a23d73c": {
     "views": []
    },
    "e9649e619c99458ca4db5878582ef786": {
     "views": []
    },
    "ec13637034be4c6da0ade815da7567ef": {
     "views": []
    },
    "eda6d4b8d9194084be3e2b00fa4ced81": {
     "views": []
    },
    "f0a4613284bd4d8fb80a466f5f2d5b6e": {
     "views": []
    },
    "f0af4f00785d47ea9bcf6ca948d5b18c": {
     "views": []
    },
    "f43ce1cba933404fafa0d1496673cae7": {
     "views": []
    },
    "f5734000a3c04f34bf2013e40112f748": {
     "views": []
    },
    "f5814d09e41f4dda99da3fc7ea2b5860": {
     "views": []
    },
    "f5d19087ff684ea7a4c5b337ac33b955": {
     "views": []
    },
    "f62d112c67b74f8eb6dc5c4465c65902": {
     "views": []
    },
    "f69b7150535446528a4028ac0fb8115a": {
     "views": []
    },
    "f7af0b33f4cb461c92ecb63225b04669": {
     "views": []
    },
    "faa9011b7ec145d89e9922c16c10b5b4": {
     "views": []
    },
    "fdd994678ca44268b44c7014e153a122": {
     "views": []
    },
    "ff385b358825469093f5a8a68bf00208": {
     "views": []
    }
   },
   "version": "1.0.0"
  }
 },
 "nbformat": 4,
 "nbformat_minor": 0
}
