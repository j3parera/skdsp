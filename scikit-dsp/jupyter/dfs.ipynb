{
 "cells": [
  {
   "cell_type": "code",
   "execution_count": 16,
   "metadata": {
    "collapsed": false,
    "run_control": {
     "read_only": false
    }
   },
   "outputs": [],
   "source": [
    "import matplotlib.pyplot as plt\n",
    "%matplotlib inline\n",
    "import skdsp.signal.discrete as ds\n",
    "import numpy as np\n",
    "import sympy as sp\n",
    "import scipy.fftpack as fftp\n",
    "from ipywidgets import interactive, IntSlider, FloatSlider, Checkbox, ToggleButton, ToggleButtons, HBox, VBox\n",
    "from IPython.display import display"
   ]
  },
  {
   "cell_type": "code",
   "execution_count": 23,
   "metadata": {
    "code_folding": [],
    "collapsed": false,
    "run_control": {
     "read_only": false
    }
   },
   "outputs": [],
   "source": [
    "def dsfdemo(signal='Diente de sierra', N=8, width=0, offset=0, shift=0, center=True):\n",
    "    if width > N:\n",
    "        raise ValueError('width debe ser menor que N')\n",
    "    if signal == 'Diente de sierra':\n",
    "        s = ds.Sawtooth(N, width)\n",
    "    elif signal == 'Cuadrada':\n",
    "        s = ds.Square(N, width)\n",
    "    s = offset + (s >> shift)\n",
    "    npts = 32\n",
    "    n = np.arange(-npts, npts+1)\n",
    "    plt.figure(figsize=(20, 7))\n",
    "    plt.subplot(2, 2, (1, 2))\n",
    "    plt.stem(n, s[-npts:npts+1], markerfmt='bo', linefmt='b-', basefmt='k-')\n",
    "    plt.axis([-npts-0.5, npts+0.5, -2.1, 2.1])\n",
    "    plt.axvline(0, color='k')\n",
    "    plt.axhline(0, color='k')\n",
    "    plt.grid(True)\n",
    "    X = s.dfs()\n",
    "    X.real[np.isclose(np.real(X), 0)] = 0\n",
    "    X.imag[np.isclose(np.imag(X), 0)] = 0\n",
    "    if center:\n",
    "        X = fftp.fftshift(X)\n",
    "        kidx = np.arange(-int(N/2), int((N-1)/2)+1)\n",
    "    else:\n",
    "        kidx = np.arange(0, N)\n",
    "    plt.subplot(2, 2, 3)\n",
    "    mX = np.abs(X)\n",
    "    plt.stem(kidx, mX)\n",
    "    min_ = min(0, np.min(mX))\n",
    "    max_ = np.max(mX)\n",
    "    dr = min(1.0, (max_ - min_))\n",
    "    plt.axis([kidx[0]-0.5, kidx[-1]+0.5, min_-0.15*dr, max_+0.15*dr])\n",
    "    plt.axhline(0, color='k')\n",
    "    plt.axvline(0, color='k')\n",
    "    plt.grid(True)\n",
    "    plt.subplot(2, 2, 4)\n",
    "    plt.stem(kidx, np.angle(X))\n",
    "    plt.axis([kidx[0]-0.5, kidx[-1]+0.5, -np.pi-0.5, np.pi+0.5])\n",
    "    plt.axhline(0, color='k')\n",
    "    plt.axvline(0, color='k')\n",
    "    plt.grid(True)"
   ]
  },
  {
   "cell_type": "code",
   "execution_count": 24,
   "metadata": {
    "collapsed": false,
    "run_control": {
     "read_only": false
    },
    "scrolled": true
   },
   "outputs": [],
   "source": [
    "Nw = IntSlider(value=16, min=2, max=32, step=1, continuous_update=False, description='N:')\n",
    "kw = IntSlider(value=1, min=1, max=32, step=1, continuous_update=False, description='width:')\n",
    "ow = FloatSlider(value=0, min=-1.0, max=1.0, step=0.1, continuous_update=False, description='offset:')\n",
    "sw = IntSlider(value=0, min=-64, max=64, step=1, continuous_update=False, description='shift:')\n",
    "cw = ToggleButton(value=True, description='DFS centrada')\n",
    "ww = ToggleButtons(options=['Diente de sierra', 'Cuadrada'], description='Señal:')\n",
    "w = interactive(dsfdemo, signal=ww, N=Nw, width=kw, offset=ow, shift=sw, center=cw)"
   ]
  },
  {
   "cell_type": "code",
   "execution_count": 25,
   "metadata": {
    "collapsed": false,
    "run_control": {
     "read_only": false
    },
    "scrolled": false
   },
   "outputs": [],
   "source": [
    "display(HBox(children=[VBox(children=[ww, Nw, kw]), VBox(children=[cw, ow, sw])]))"
   ]
  },
  {
   "cell_type": "code",
   "execution_count": null,
   "metadata": {
    "collapsed": true
   },
   "outputs": [],
   "source": []
  }
 ],
 "metadata": {
  "kernelspec": {
   "display_name": "Python 3",
   "language": "python",
   "name": "python3"
  },
  "language_info": {
   "codemirror_mode": {
    "name": "ipython",
    "version": 3
   },
   "file_extension": ".py",
   "mimetype": "text/x-python",
   "name": "python",
   "nbconvert_exporter": "python",
   "pygments_lexer": "ipython3",
   "version": "3.4.3+"
  },
  "widgets": {
   "state": {
    "0024b5f539b240748fd2f4be2216528e": {
     "views": []
    },
    "0071392a746a4698bf568c0d95315282": {
     "views": []
    },
    "009ee476f29446ed977444dc989c5af9": {
     "views": []
    },
    "00b5c963df844691a306cb4567660666": {
     "views": []
    },
    "013127af19074a03ab78f1e1bad9884f": {
     "views": []
    },
    "0150d7c081e04f889207b9499f1059ac": {
     "views": []
    },
    "0264f8d60cfb467d8045cfd162dbe616": {
     "views": []
    },
    "02713ebe0b5a405685e44c3e3a592aaf": {
     "views": []
    },
    "02c1ddbfffd94b0f8a30a30a59d98aca": {
     "views": []
    },
    "042d85a5398b4fb59cbefaa4ccfa6773": {
     "views": []
    },
    "047db9b8968c40e690933163ce0a3d7a": {
     "views": []
    },
    "052b4af20f16453f8277daad2e2690b6": {
     "views": []
    },
    "053b5843418546d7885c83cbc27ddd0b": {
     "views": []
    },
    "05cb478a2c1c4f1e9d43476587eff079": {
     "views": []
    },
    "06084a1f735b44a29fa6a2f8c5cc828a": {
     "views": []
    },
    "06513763e79944ecb1da97a9ac596a6e": {
     "views": []
    },
    "06f5ca98843f474dacbcea697b377601": {
     "views": []
    },
    "06f5d41ba1e04f3ba7e59ddb106b7be6": {
     "views": []
    },
    "0872097b9d0f42098dd7470d53de1002": {
     "views": []
    },
    "09d3f7e16a974e9aa4e2b553bdda1d90": {
     "views": []
    },
    "09fd21ddb3444db682994a087a1b589f": {
     "views": []
    },
    "0a4ea761d0024482b1fc11e291d79a99": {
     "views": []
    },
    "0afcf57712d7444e9ad1fa7d8d30626f": {
     "views": []
    },
    "0b27571862864c0d959b9d5f1983cfa9": {
     "views": []
    },
    "0b5ed44941134aa6b32242462aed397f": {
     "views": []
    },
    "0b885a2a00374fc4b0ab1fb80a64fa9d": {
     "views": []
    },
    "0bcf03ef8a874c41b0433612299b8fca": {
     "views": []
    },
    "0c16a080849d4d779161630e8f800297": {
     "views": []
    },
    "0cc5c661decb422d8cc170550d2d13ef": {
     "views": []
    },
    "0d025cfd9cbc44eaba50f52a68bad794": {
     "views": []
    },
    "0deaddaf66fd41d2940d3aee93ffbec3": {
     "views": []
    },
    "0df64fcde9dd4ec2a76d498c2cc48471": {
     "views": []
    },
    "0e3ca98c32fe4fdc82a9c754f7872811": {
     "views": []
    },
    "0e62c44159a144fe957bd7507fe75f78": {
     "views": []
    },
    "0eafce33f34f4c75b0e50a5160703679": {
     "views": []
    },
    "0f25212ab71d4cc2a7115b4ba7378075": {
     "views": []
    },
    "0f268ec890d44f1099851b22ad04d8e4": {
     "views": []
    },
    "0fc2d9dd7e2d4920941a23db04d0d704": {
     "views": []
    },
    "0feabeb6ab7e434985b4c49be1fb4627": {
     "views": []
    },
    "102b376c7e134696b4ff07ded20959ef": {
     "views": []
    },
    "10a9e038cc9c45cd8f79e2c58bcc7095": {
     "views": []
    },
    "10b41b8068a94fa09be845dc8b9ccf6a": {
     "views": []
    },
    "11644e4f934b4aff92bdd6f1d2a554ae": {
     "views": []
    },
    "11dfd545b07e4eaa8d42e26c00219066": {
     "views": []
    },
    "11ea32fe96c143adb1a150188cf85595": {
     "views": []
    },
    "11ea98ef7b374a0aa2f33b467321bde7": {
     "views": []
    },
    "12891529991c4f75a56c595347fd3f10": {
     "views": []
    },
    "12c809e848cd48bfa346417c8c8eecdd": {
     "views": []
    },
    "130416054f39480fb72cb00f621249b9": {
     "views": []
    },
    "13a8a292d9d9465fa8b8d57268230dd8": {
     "views": []
    },
    "13b20f274a5b4007a3d23d44817e6005": {
     "views": []
    },
    "13c3d6ca48bf456eb2003b4187f06900": {
     "views": []
    },
    "141c4c00e0bb45cb951d9e74e8e0b983": {
     "views": []
    },
    "14bb3096cc6d40bb8772ff039f39485b": {
     "views": []
    },
    "14e41ec082124dc394ee920313902510": {
     "views": []
    },
    "1532bd791546473ba2971c69d8fb3ffe": {
     "views": []
    },
    "15478616811c41a7812048c8690ec4d5": {
     "views": []
    },
    "154d4ef9534e41eaa7c70d9815b92559": {
     "views": []
    },
    "15894a5da1d74f1eae8498723f172249": {
     "views": []
    },
    "15fd0d88387048a3bee6924ee730c38a": {
     "views": []
    },
    "161c1bd1f0ab4b34bc19acf709f86c41": {
     "views": []
    },
    "16b904f9064e46d1bb737c4d648b2ca2": {
     "views": []
    },
    "16f391605fe9440f89c821cfa66190ff": {
     "views": []
    },
    "172c36bad6fb4f39b7b090eac6295941": {
     "views": []
    },
    "172d698ab7264249940b258a0ea3cadc": {
     "views": []
    },
    "174e788095fa47be9e97b15d1cb72dba": {
     "views": []
    },
    "175db41cc85c426994cff916a7f90c81": {
     "views": []
    },
    "179fc2a42ff54d76b51464fe0bd86172": {
     "views": []
    },
    "17c4311452424de9a37a69a097184a01": {
     "views": []
    },
    "184d2cfdc9b14ce5802ff2fd0992171f": {
     "views": []
    },
    "18f7701414674b228810da8fbb69d1a3": {
     "views": []
    },
    "198f7c4b838c479792d7b2d09aa8412d": {
     "views": []
    },
    "19dca759dc1e482e868fadb83bbf530d": {
     "views": []
    },
    "1a542a24aad843188a5c6e7af7d6569d": {
     "views": []
    },
    "1a9d90ca9f9d4fcfae44d7be1208f2d7": {
     "views": []
    },
    "1b1c00a7dd2e471a98d0690f9c9cf344": {
     "views": []
    },
    "1b2732259e194ef3b820a412b6c8b108": {
     "views": []
    },
    "1b4e00e308994d82ac2055431f8a39fa": {
     "views": []
    },
    "1bb110c29ee94e259175b9a4213866cd": {
     "views": []
    },
    "1c114944019a48b3966bebfc6effd9d2": {
     "views": []
    },
    "1c8bf543ed394cb785d62627723ebcbd": {
     "views": []
    },
    "1c90c12067f3453fbac267e4a19046ef": {
     "views": []
    },
    "1ccd8c02caac4996a5aee0533ad5cf06": {
     "views": []
    },
    "1cd3dee0be2741bb969bf5c9452126a1": {
     "views": []
    },
    "1cf266efcc7147c5b351ea8ba9911f0b": {
     "views": []
    },
    "1d670cc6b1d1499dae23fe3cb356d322": {
     "views": []
    },
    "1d7c30b0cc28414da6c452124162095c": {
     "views": []
    },
    "1d8e2d49da564e8081b358ef26a26fc9": {
     "views": []
    },
    "1d8eb35feede4082b65d9039b84cf637": {
     "views": []
    },
    "1e6329c874ca439e832649dc61594c4f": {
     "views": []
    },
    "1f9b606bc90048d792a428334f83e0d8": {
     "views": []
    },
    "200a5417efc749489cc9ede5997b0bc5": {
     "views": []
    },
    "20458411b9c346258755da2f8e94ff97": {
     "views": []
    },
    "205580fd0d9d4f08bea4cb7213545213": {
     "views": []
    },
    "20bc158174d8476ab57dc0cd3b057b5f": {
     "views": []
    },
    "20cf9d9f88b548fbbfc2dd8330750204": {
     "views": []
    },
    "20d319bd0ef94467851496568cfcb20c": {
     "views": []
    },
    "20d3ec4019c446afb026b621d7cff5cd": {
     "views": []
    },
    "20d9357e78864b13ab85f8d63567cf4e": {
     "views": []
    },
    "213aa0276e2144718ff31391f6920f2c": {
     "views": []
    },
    "22552d39a75e44f88414baf4e7a49849": {
     "views": []
    },
    "2292c20b11684095a11ab8943762d4f4": {
     "views": []
    },
    "23074a755c944eb78a65e2ee7f8fe1d3": {
     "views": []
    },
    "23203f203cc24d718505138e8ff4c7d3": {
     "views": []
    },
    "23280475117e46918b1f7dd12e0b3e55": {
     "views": []
    },
    "23cba8a441c244bca806e0554656a7d1": {
     "views": []
    },
    "24ae678d1367444386b9e660c3454209": {
     "views": []
    },
    "24b6674c7cdb4cca858d8e895095faa0": {
     "views": []
    },
    "25431bd9b56049c387546eed5446fd6c": {
     "views": []
    },
    "2564353dc2cb411e9d525cb951303fb4": {
     "views": []
    },
    "25dac2944bad42b4a6e749e7fdc68e28": {
     "views": []
    },
    "25ff00dfb52f4bcea4b4f596fdac4668": {
     "views": []
    },
    "26c5c6230022434eb8dfb1d5a02df65c": {
     "views": []
    },
    "2769e84bf4eb46da9f6d9dce5549dbc8": {
     "views": []
    },
    "28af7a1f36b24a6db95ffc9f308fece4": {
     "views": []
    },
    "28fbf57597ea4584bd7f5a44eb32e8e2": {
     "views": []
    },
    "2915a8c0b9754a1587066dc2a5b7b9b5": {
     "views": []
    },
    "296330a6805b4169baab87c04979df22": {
     "views": []
    },
    "29ca0ef2a8bc4948b7da79ad11a6e738": {
     "views": []
    },
    "29df1629ec4e42c39377f4f363c62244": {
     "views": []
    },
    "2a9b6222203a483c938cd0b23f170a1b": {
     "views": []
    },
    "2aa9c96ca8fa46c29d4b818cbd01569f": {
     "views": []
    },
    "2af240c547e745328c3efbbe2edcf4d3": {
     "views": []
    },
    "2b2358c642764a0295359fce9412c0c1": {
     "views": []
    },
    "2b255983d3044a9997f7420c699ffabf": {
     "views": []
    },
    "2b28120631e944408d6ed6bddbfb3925": {
     "views": []
    },
    "2bc254854b64483494054fbda9131eea": {
     "views": []
    },
    "2bffc39da6c942129417eba32a1af01e": {
     "views": []
    },
    "2c2ef561692d4ba38efcedc28ddacfa7": {
     "views": []
    },
    "2ccac1dc973346108d4724548e7e9b18": {
     "views": []
    },
    "2d3ca74418d9496b89b7f17206ba2a74": {
     "views": []
    },
    "2d5a5372eaa244bb98c3296dc19b4144": {
     "views": []
    },
    "2d7f81e1c6a64074b16b1058f31de6cd": {
     "views": []
    },
    "2d833aa7b02e47b28296ace081a832ac": {
     "views": []
    },
    "2df21eb05914415b83f8534bc5e98182": {
     "views": []
    },
    "2e21da4887ac41e4adf274ffe4a82e61": {
     "views": []
    },
    "2e2ea126c6e343c89ed89cfea562badb": {
     "views": []
    },
    "2e5efca59b75429db7311b9e64e19308": {
     "views": []
    },
    "2ef6e52391d14f84a4bf7bf0d1f3ccd6": {
     "views": []
    },
    "2f2c8a1b037148d8a08daff80b78edc3": {
     "views": []
    },
    "2f48abb47e814f7094e717c929100097": {
     "views": []
    },
    "2f65545c5841463696b13966b78817f0": {
     "views": []
    },
    "3013ac794e404cd29f6d7254b04c0f5f": {
     "views": []
    },
    "302134cd3917420cbba8f577b5e92ba6": {
     "views": []
    },
    "30b27cce817f437f9d4711490cb48490": {
     "views": []
    },
    "30c29a414c9d4e5e81b8717aa471ead7": {
     "views": []
    },
    "311160d2ffd1430db24c8c7de24018c3": {
     "views": []
    },
    "3140f7dbcd4642bd92c76aa6bff0a84c": {
     "views": []
    },
    "31851cada7d54dea97a09e0e509f02d3": {
     "views": []
    },
    "31971d0f090649adb489b8c154e2371a": {
     "views": []
    },
    "31e1f4904a964a4893da703fada3bdad": {
     "views": []
    },
    "329df79ec5754fe097dfe3891e21c623": {
     "views": []
    },
    "32c84f189f2843c287ca66b24362b9bd": {
     "views": []
    },
    "330fe8371321485f81f5eb2c3a1f108d": {
     "views": []
    },
    "3313a5fe3a544b6a8f48f61869aac5ee": {
     "views": []
    },
    "3365fe7c493e45e3b5f7c937500813f9": {
     "views": []
    },
    "3475d90d9c9b4aad8d5f0565e4c47c75": {
     "views": []
    },
    "3596cc6bf1c8474eb843d0c84596a391": {
     "views": []
    },
    "35be7604cf3747ac83818be7ca83c901": {
     "views": []
    },
    "35cb0946221a4fd0aba64904dff8cac3": {
     "views": []
    },
    "361aa1a6bd7e42aeb9bb01899a33ee4a": {
     "views": []
    },
    "36797aef25e14fc0bcfbb59b05d01124": {
     "views": []
    },
    "36a2c7ca866b4485be4cc1a8a76b7e29": {
     "views": []
    },
    "371c583f871647cba94c1b08cb8e8932": {
     "views": []
    },
    "37398f1e4d2f4992912d783db634982e": {
     "views": []
    },
    "37a7664fd6234d82b4da2b9dd4f98493": {
     "views": []
    },
    "3887ae2fc1654096beceb2cf4303b808": {
     "views": []
    },
    "389d127d01564fddb1095880bca95b5d": {
     "views": []
    },
    "38c2163b54d443b58342e4d35db837dd": {
     "views": []
    },
    "38caddc457cc4020ad17482300725535": {
     "views": []
    },
    "396a1493ff184698bee4c77274cc775e": {
     "views": []
    },
    "3a672688eaab4e0a8be721119be91fa0": {
     "views": []
    },
    "3a6cef6d1b4047378428f7641ae15380": {
     "views": []
    },
    "3aeb961f6462445e806dedaa3e235501": {
     "views": []
    },
    "3b38e82f9e5343e88b8cf6feb455e018": {
     "views": []
    },
    "3be56164310d46638d53153cf19372d2": {
     "views": []
    },
    "3c0ace9c9db148cdabeaa2971863843f": {
     "views": []
    },
    "3c18971a6ffc42f48a018a366a3da734": {
     "views": []
    },
    "3d50b48c525548c1bf939e3537396f3f": {
     "views": []
    },
    "3d50bc4b21344c7ca5a01847d5309963": {
     "views": []
    },
    "3d5a9d1a1746453d91aee8fada5d9ce3": {
     "views": []
    },
    "3d796987e5a14048b660c6196d8c8fbf": {
     "views": []
    },
    "3d918dabc50849febd45df1f71237dc5": {
     "views": []
    },
    "3ddeaef290b44913ae32c9746cc13c2e": {
     "views": []
    },
    "3def5bcea0fc4eb3acca12ca9dcc6971": {
     "views": []
    },
    "3e026ae845da44538794e74b324614a9": {
     "views": []
    },
    "3e034724d98a41d1b8eb02178e9dd7f2": {
     "views": []
    },
    "3e60f13f0b0e452b919b552a8665c648": {
     "views": []
    },
    "3ef3c3e19a124a6986c7ab9561ad1efd": {
     "views": []
    },
    "3f3f91df693040d08b9f522e66304b96": {
     "views": []
    },
    "3f7f28bd5dfe459289b40a27df24adb2": {
     "views": []
    },
    "408d781668a7460e9e781058c315c09d": {
     "views": []
    },
    "40dd12be54164e85a1458474da22d531": {
     "views": []
    },
    "41052e9c78984d179fdbc19693905877": {
     "views": []
    },
    "4132840532184011a807b6017ab08172": {
     "views": []
    },
    "4160f74f679340fbbbd2b094e1c69c6c": {
     "views": []
    },
    "4188cff91a464dbe9b192e127314e4de": {
     "views": []
    },
    "4209fc7402e9468195984a40ca487579": {
     "views": []
    },
    "429348f93bea41088d534b406893d5c5": {
     "views": []
    },
    "42b74cec1d5d43ffb41b5a9e2134407d": {
     "views": []
    },
    "42ccc116d81d4e8f89000c3d1a9a86ad": {
     "views": []
    },
    "43761e329b634ddf81391f22dde2c08b": {
     "views": []
    },
    "439447b10f3a4673aa8349ce8fd2b40c": {
     "views": []
    },
    "43d533892fe04fc3b1adad23b01ff7b2": {
     "views": []
    },
    "43e4b26071724690af2ce20c50878174": {
     "views": []
    },
    "4439658d44514d3ebcdebe877080b707": {
     "views": []
    },
    "449e3afdd2bf48818dc59a0bcf415129": {
     "views": []
    },
    "4509c5ece64e430f87ce076ba1ffdf7c": {
     "views": []
    },
    "4511dbe27d8e42358c544cafb83f2f14": {
     "views": []
    },
    "45ecb291ae8941cfbc1833f66ad5f6a2": {
     "views": []
    },
    "4618c7269ef148ebb485f5b123a06a99": {
     "views": []
    },
    "462e91047ca34543b154e6b23f2111f9": {
     "views": []
    },
    "46349371e79242e09a0fbfe27908aaf0": {
     "views": []
    },
    "4635f6c2413e47e290b90b35bd764852": {
     "views": []
    },
    "4665295001534f0c97aaffda407edc76": {
     "views": []
    },
    "468574c28f2543799ba9810ac4444934": {
     "views": []
    },
    "468b84d9a9484b4a92239c3ccf9c2021": {
     "views": []
    },
    "46c5503481a84a6e81ca64ed4a362075": {
     "views": []
    },
    "470cd8cdccf54096816d93819d4e5911": {
     "views": []
    },
    "478553890b804964884774f789ca40f6": {
     "views": []
    },
    "4789453dd5cf47a1978b18f9d86eabad": {
     "views": []
    },
    "47dd90e619644dfc91302a3afdea72ba": {
     "views": []
    },
    "48eb93fe2fd94a3a8bb1442d2cbb21ab": {
     "views": []
    },
    "490752ecdec44fe58fdb4c05f60e1743": {
     "views": []
    },
    "4928287bfc9144a6b70017479a5187c3": {
     "views": []
    },
    "4950ea6ccd7e4e1a8017abed82cd5296": {
     "views": []
    },
    "495d6aa50691438cb300b21c337efb37": {
     "views": []
    },
    "497b0ce87726449cb223df771ac6fc0f": {
     "views": []
    },
    "49d73859bbec4cf9b63e440de28902f2": {
     "views": []
    },
    "49fde7c62265466abdfeeca5e0583275": {
     "views": []
    },
    "4abb6087f592435d9239940179891f72": {
     "views": []
    },
    "4abba355f06248e0ac5694cf65569305": {
     "views": []
    },
    "4b2bfdb2528e4ff1b51403e9735dda66": {
     "views": []
    },
    "4b42732b8d9a4e6b804874bd092f849f": {
     "views": []
    },
    "4b643525dfc84f8884bce0e253e9a9cb": {
     "views": []
    },
    "4b9e47e9138d4fb4bc61a6c165d5af7b": {
     "views": []
    },
    "4bc6423f393d491998b61ac5775a22ce": {
     "views": []
    },
    "4bdb31de910b4ad7b1c285011af72a1f": {
     "views": []
    },
    "4c292103d9774b258006091cd576a101": {
     "views": []
    },
    "4c66c8fba2f94be3875dbacf4d457fb4": {
     "views": []
    },
    "4cfcdb9612024e05b8108e62afcbaa80": {
     "views": []
    },
    "4d2908eda19449c08ea32ddffe74a58e": {
     "views": []
    },
    "4d334cd5b0ca4d249687aad1e31c72db": {
     "views": []
    },
    "4d5291941c9241e3be81767ca8e32253": {
     "views": []
    },
    "4d83d3fc82ab4f98a219d584b5a69a20": {
     "views": []
    },
    "4db2e6bae8074fadbc395621113ee7e3": {
     "views": []
    },
    "4f296519ccf14a73bfe6a97fe69be139": {
     "views": []
    },
    "4f32514ef41943dab569928e9312f25c": {
     "views": []
    },
    "4f50e9941cc24f9aadbb43a9bf3c14b0": {
     "views": []
    },
    "4f5500a098534ad28b873d33f3dd4a05": {
     "views": []
    },
    "4f5ce78326574d74aa7a8aaa15595775": {
     "views": []
    },
    "4f64d0cf7d80421d8e7710a17f3a16c4": {
     "views": []
    },
    "4f84c522469f4ed1aecb84c58d377c04": {
     "views": []
    },
    "4f940943f1b94fddba52b2c57efcfea2": {
     "views": []
    },
    "50d6451c882f4e6d82ed072002051c30": {
     "views": []
    },
    "519db71e3b89422eaa945f99c8bb3b06": {
     "views": []
    },
    "5253a93e1b7e40c980834fabd98cd656": {
     "views": []
    },
    "52998349eca4495fa998799deb57ee84": {
     "views": []
    },
    "52b9c999986f46c2bbf27083d475fdc8": {
     "views": []
    },
    "52e35487556044dcbb69bbad787d3449": {
     "views": []
    },
    "5371b30713e04f30bcff4112ff8b89f9": {
     "views": []
    },
    "537f4c47b7d041778ed895e054065b44": {
     "views": []
    },
    "53a217448fc24fd59cb90256898a297c": {
     "views": []
    },
    "53d26d265d5246c8acb7b4306a8d2377": {
     "views": []
    },
    "543c08fac8e041bfbb5459fcf0086568": {
     "views": []
    },
    "545971fb816a4b3d8fce07c0243e9c59": {
     "views": []
    },
    "546d442aada146658a9a1e42ba418fc9": {
     "views": []
    },
    "548f2fb026e14bac9791f56e3b9a05b5": {
     "views": []
    },
    "54ccd590e86d4b06a0538fed5ac16174": {
     "views": []
    },
    "553127fb28c04b9aa9e2aa9d2cc282e4": {
     "views": []
    },
    "553e7b655af244168cd5c237f69c99ac": {
     "views": []
    },
    "55902dc551004a5891e6791ce506f6ab": {
     "views": []
    },
    "559a03d0d73f453da5df986e2b667119": {
     "views": []
    },
    "55ce3db1b34f44ac99d7050359465765": {
     "views": []
    },
    "55d3b756b8e644959d3e02f9d2e1d9a0": {
     "views": []
    },
    "562b43acaf914d17ba71551bc0b745aa": {
     "views": []
    },
    "5731160145af41adb79a3b87ebd43f93": {
     "views": []
    },
    "5778346920d74d83a1b252308451fd9f": {
     "views": []
    },
    "57ccc43487c74dae8f56f1ac2bf868d8": {
     "views": []
    },
    "58401085c3a848b68665d6f84964c914": {
     "views": []
    },
    "58be25ff02cc4e7d91caf8a4a4756b91": {
     "views": []
    },
    "59652bb3a652423d923f3efa20154d5e": {
     "views": []
    },
    "598395e728e2417c87247ba32756b4bb": {
     "views": []
    },
    "5a961f6f23f742cc8e782f1d921fbfc9": {
     "views": []
    },
    "5b846e11a86247a6b47df332e3c50d40": {
     "views": []
    },
    "5bc28066613f4ef09f20c225d45549c9": {
     "views": []
    },
    "5bfa973ef7f94562850de8a528ed14ee": {
     "views": []
    },
    "5c520f0f39dd4a88985ba2d676f2e6c8": {
     "views": []
    },
    "5ce3a8494e3a44cd8a808686a74e7ef4": {
     "views": []
    },
    "5cfebb71998e4a4d81d0433de5e48b0e": {
     "views": []
    },
    "5da3aea9573041f38d9fe62376063947": {
     "views": []
    },
    "5e8d982fcea04ff7a83c8249a2cb9bee": {
     "views": []
    },
    "5f2e8b228592404da6b1fff4b3c26fbc": {
     "views": []
    },
    "5f34d2a1b1594c0c8caa6cdfc7c492ee": {
     "views": []
    },
    "5f5021d2c27845e2a916f181e9474a3e": {
     "views": []
    },
    "5f65949c70224621a548136f8c0e2aa1": {
     "views": []
    },
    "5fe27e82a6d644b09498e3ffc13ac2bc": {
     "views": []
    },
    "5ff1e4f029f84b26813a71ccccab7f55": {
     "views": []
    },
    "6069711145774f3790ddfc933d79291a": {
     "views": []
    },
    "6072518e88e34b89a827bada1f655b83": {
     "views": []
    },
    "6090e59c049146f6bb756a5990175dfb": {
     "views": []
    },
    "60aece920169437b9efbe9cf6310295c": {
     "views": []
    },
    "6127f7953cd343a781b9862f4f3cae37": {
     "views": []
    },
    "612a5af285744fc89b99dab0f6063e5c": {
     "views": []
    },
    "614fb88a463b45be9113c3f2b69bb735": {
     "views": []
    },
    "619c56cf24744431b9de38ddb3f16971": {
     "views": []
    },
    "61aa1690269b4272b01b964b32869683": {
     "views": []
    },
    "61adebeca56b4ec88bdcf046d9cb5606": {
     "views": []
    },
    "61b0b1970c234856836e9a8a5027c743": {
     "views": []
    },
    "61b57e6ab185459cbe391adcf1374671": {
     "views": []
    },
    "62bb3e6bf1254523a7b283e0ef9dc67f": {
     "views": []
    },
    "62c80204b0034ee48cff32ddb15c6ff8": {
     "views": []
    },
    "6301c69c247c4488848f564b7bedd50b": {
     "views": []
    },
    "6323a01b54d74dc9a73c16481a521a3b": {
     "views": []
    },
    "637ce69756c2422b8db1c96b4ee01554": {
     "views": []
    },
    "6470d66fa51b403bb2af05775e155a85": {
     "views": []
    },
    "64a48845d7f74a2193317483e416375a": {
     "views": []
    },
    "65028625656541d69936044e041cfdeb": {
     "views": []
    },
    "650d9039009448e49930516fd1c3fb50": {
     "views": []
    },
    "658f6ce9c1314fd1b38c73a9f6c138c5": {
     "views": []
    },
    "65bde9289b9d4c9e85d1103d7e5cfe1d": {
     "views": []
    },
    "65fbfbd6917c43d681d31d46a3ecb0ed": {
     "views": []
    },
    "6606229ebbec4f1d998b1f6e1d7a9508": {
     "views": []
    },
    "661350da2e324bdab1f2eb3df8454ccb": {
     "views": []
    },
    "661ffba8efed43a08ecb0fd5e6ea2aea": {
     "views": []
    },
    "66423e8b4f404b66a0b2d9fdd3fadf90": {
     "views": []
    },
    "66941152ef794c91be8e2dda658393bf": {
     "views": []
    },
    "66bd9ee2278946a1a8a54d19b8516fd8": {
     "views": []
    },
    "6730150b9deb489f9a8621c63eecc01c": {
     "views": []
    },
    "67bfaa3fb8ab4c14876831157baffc30": {
     "views": []
    },
    "67e71d4bc0d147d89e7117b0b67ddce0": {
     "views": []
    },
    "680cce6a9d2e4f2eac446b80ff48ae15": {
     "views": []
    },
    "68656938c92241c9b7403019521eaa8a": {
     "views": []
    },
    "686f44c9866d4f5dacccf46f75113e6e": {
     "views": []
    },
    "6872b875de8341379d15734a7e3169eb": {
     "views": []
    },
    "688bf65dd47d42679dcc4bbf00553199": {
     "views": []
    },
    "68a81f0cfa984564a3801a78fd0b8a6c": {
     "views": []
    },
    "68cd2fd282ba440ba34d8449b7fcc9d2": {
     "views": []
    },
    "68d6c5c8f46042949d499168e00375c2": {
     "views": []
    },
    "6919d07cf856472cbeffb2d57a206d20": {
     "views": []
    },
    "6a3fc5914be64437ae25697966bf7c39": {
     "views": []
    },
    "6a5c05fc117e47778b71520436e5bf4f": {
     "views": []
    },
    "6a64ecc035c349e289ae192167f4ed36": {
     "views": []
    },
    "6a7a1ab4f852449aa35b7d0599e84134": {
     "views": []
    },
    "6a94aab917be4902959f99c3829b8706": {
     "views": []
    },
    "6afa64034b40445c99fe2293aba5567e": {
     "views": []
    },
    "6b12a9fe86e14ae6aa14ba6d49608fc7": {
     "views": []
    },
    "6b684e4a60334a969e12750264192815": {
     "views": []
    },
    "6b9ee925af8348efb279c2bc7109ee1b": {
     "views": []
    },
    "6bc61b41ad3344f2b13e33b05afa59e5": {
     "views": []
    },
    "6bca671be0c64de09823bb71a589c29d": {
     "views": []
    },
    "6bcc790778334cf9af1184ecd730ed6c": {
     "views": []
    },
    "6bd85fd4548d4d6ca862cc551408e8ba": {
     "views": []
    },
    "6c0fe32d8c274489baba3b7596a46c08": {
     "views": []
    },
    "6c22c092155a442c8e942cf62d4ef84f": {
     "views": []
    },
    "6c4dd7bb568c42749c1e2877a890379d": {
     "views": []
    },
    "6c60b4cc54f44e6e9fb8f3e394936f2c": {
     "views": []
    },
    "6c8036711bf44d618d300d7a6e5bd6a3": {
     "views": []
    },
    "6c9e66b698534410942b7918f5b92d02": {
     "views": []
    },
    "6cb3d5e34a0d488f8b2aac2250ca9405": {
     "views": []
    },
    "6cb47f43a1734e33b13435f9aee4bdfd": {
     "views": []
    },
    "6cdb2819a57c4d2a9acb627efcb9777d": {
     "views": []
    },
    "6cfbd0800c764cbbae68c1b5fcca58b3": {
     "views": []
    },
    "6d1b7d4304034676a4d59e8d06fe36dc": {
     "views": []
    },
    "6d1e0b034ae04179ba9c19b216a56bd4": {
     "views": []
    },
    "6d34c4f67c954927b8e05426e30d0ac0": {
     "views": []
    },
    "6df41c1bce954949a63b442ce0c0d027": {
     "views": []
    },
    "6eebf3c0ba4b4f44bec395400b45dbc8": {
     "views": []
    },
    "6efe64b79dc84a17b19764abb8f721b9": {
     "views": []
    },
    "6f364069622949518c498bd933635232": {
     "views": []
    },
    "6f6960bfffac4ae195628d18a8bad0ba": {
     "views": []
    },
    "6fa1b04c143248eea893cad6aa100a1d": {
     "views": []
    },
    "6fd5ae0b72814a76b594f1bb836e2909": {
     "views": []
    },
    "7046d168bf5b4a0fa07bbb143f122a7f": {
     "views": []
    },
    "7069e8f2ca1e4c80b2abbcd6f8b6d912": {
     "views": []
    },
    "70a94e5df7be4e8889237cbf78947bf1": {
     "views": []
    },
    "71d10a65163a4d2f97cff41400db020a": {
     "views": []
    },
    "722b0cc1d58144ceac3b79013569873b": {
     "views": []
    },
    "7252ce5729d2453d8ef1d073375a0cc9": {
     "views": []
    },
    "72ff614a286e4b3fabf7882fb29bc48a": {
     "views": []
    },
    "737c4874aedb407ba825194abae1aec9": {
     "views": []
    },
    "73dc418582904fafa8aa22a36b119015": {
     "views": []
    },
    "73f600ef76be4b5a9134031d51fb5ca3": {
     "views": []
    },
    "740b984b962246d28b30eefabc549e41": {
     "views": []
    },
    "747a5156c1a947779aaf66d781ca5fc3": {
     "views": []
    },
    "74e23fcd70534742b8b8bbbf21d7ad5c": {
     "views": []
    },
    "750ed17e9582432584bdbe001ab9938b": {
     "views": []
    },
    "7563a677cefd48c68e01e01f90078af7": {
     "views": []
    },
    "7572186bc6c94b029ead78e68dc87974": {
     "views": []
    },
    "75cb348e7f5d4ea08c9ed1f513bb9619": {
     "views": []
    },
    "761fa351211648f99535714386df5848": {
     "views": []
    },
    "76ef8723e86048d9b3113a997fccec2c": {
     "views": []
    },
    "77ba6387ac0d43398cce661faa001004": {
     "views": []
    },
    "793ff6e414c54871b73a721b605678e5": {
     "views": []
    },
    "7969927712b84a9c9504846ef0d5cac9": {
     "views": []
    },
    "7975e4c70c4e417cbd0559abd2921ea2": {
     "views": []
    },
    "797dcb9ea0a847dba40b7aa7eacf501b": {
     "views": []
    },
    "79c420a1ee4b4f0989f8d6ce9c61fa44": {
     "views": []
    },
    "79d285bb791846bfb1e051bd8d75035d": {
     "views": []
    },
    "7a05fc6e78b546e3a0851f5dac1bb3b0": {
     "views": []
    },
    "7b429f2b17d34adaa2f80ff3322b82ba": {
     "views": []
    },
    "7d2ddaf26dc3451681ba9a86b469c67e": {
     "views": []
    },
    "7df94c28a9c14a83a1b923997bddf13c": {
     "views": []
    },
    "7ed21ab7593940adbf467e8059106398": {
     "views": []
    },
    "7f8e34d472ae46f68f6e356e556e235b": {
     "views": []
    },
    "7fd8460aa9d84f10b86459b60f72c390": {
     "views": []
    },
    "7ffc5f360a6d42c4acaaf27d74ab27d8": {
     "views": []
    },
    "7ffd43da4ae24d8fbd4db90b0f3fb34e": {
     "views": []
    },
    "8005001034104ef9ad7ce1407996d925": {
     "views": []
    },
    "8016d3f8bb41498691b8e7920ba852f8": {
     "views": []
    },
    "803cf64171ce4fa8b32fabe55849efbe": {
     "views": []
    },
    "803da6a0e5ef48ddb8a96ff2497521f4": {
     "views": []
    },
    "80720c4d40e74e71accdbfc262540912": {
     "views": []
    },
    "807506ad4e81448cbc7130cbe6c09b51": {
     "views": []
    },
    "808df7853a1449ba907d90cfbe0d6b6d": {
     "views": []
    },
    "817cfb020eb443a1b8bb49ca9c67357b": {
     "views": []
    },
    "8198f09cc84f42f690726928e25c7909": {
     "views": []
    },
    "81b5a551b2c643ba86ecabba7e643b5e": {
     "views": []
    },
    "825011eca67249e9831d28cceff196c4": {
     "views": []
    },
    "82b2873917a94933ae1a3ac540a81bda": {
     "views": []
    },
    "833dabc9495545889c820bea74fb1d11": {
     "views": []
    },
    "836916b35c40460197c058308ea83721": {
     "views": []
    },
    "8389060ae3d84258bceaccc1246fdb64": {
     "views": []
    },
    "83d6f2cce82647018516752667a45c3e": {
     "views": []
    },
    "83f48caa2983452ca56651cccb9bbc1f": {
     "views": []
    },
    "83fcb34e1cd349ada7105d36e5fe2b92": {
     "views": []
    },
    "84e2b33f29b84effb47e6fb733f03d0a": {
     "views": []
    },
    "84f94e78f1e840cf8dfb83003a959c46": {
     "views": []
    },
    "85223a11f3a44b278919cf2d0ed8707b": {
     "views": []
    },
    "8545d1c656fd4756832c785ae77fee51": {
     "views": []
    },
    "85a47f8006dd41d688957df5196770fe": {
     "views": []
    },
    "8650931eef254142b7fb9d8731ed9f79": {
     "views": []
    },
    "86c6481bb5fd41b080e0d64502b7dda6": {
     "views": []
    },
    "871787047d3f4a22b9349fd2c62472f1": {
     "views": []
    },
    "877305d824d1432c8daba028d68ee913": {
     "views": []
    },
    "878d34b6981a49b68c29fc904c011035": {
     "views": []
    },
    "87a4ce595cb0478cae371e9522f828a7": {
     "views": []
    },
    "87b29ab0993b40c8b8a5680e8f17ff92": {
     "views": []
    },
    "880877c846f94b37a7e2208f17ef4679": {
     "views": []
    },
    "88f1c9012f3c423ab9928ea00d1ae151": {
     "views": []
    },
    "89783161d85d46c0b0e0b26afca4c399": {
     "views": []
    },
    "897fdf87fbfd4cf4bc2713c1060edd26": {
     "views": []
    },
    "89db2cd44cbe43fcb9fe4706742c7434": {
     "views": []
    },
    "8a2c31e228c6427285bec1b67f9042d5": {
     "views": []
    },
    "8a7033bcf610482192954f725b203178": {
     "views": []
    },
    "8aa4f73d12c94d40b2866e2eb726af2e": {
     "views": []
    },
    "8aac91c1eafb4158ab03f32a56530aa3": {
     "views": []
    },
    "8b696fe1a6ff4e20acefad02cec73962": {
     "views": []
    },
    "8ba37c8a92064f69b3395ecab94e405b": {
     "views": []
    },
    "8bce5571b53d49f2a17df65063a3f4e2": {
     "views": []
    },
    "8c74df8b0bac495ea64c6011316a315b": {
     "views": []
    },
    "8ccb72b075634870a801fc05b64cc810": {
     "views": []
    },
    "8d1ce83f3b114bdf859ac8840d032cc4": {
     "views": []
    },
    "8d1f5f70c1fb4a02827ea0ea7ad6aa5b": {
     "views": []
    },
    "8dccabe5aac844c3a9da21e6897f63e5": {
     "views": []
    },
    "8dd67a06e6bf4a83b05979491dad1522": {
     "views": []
    },
    "8de7218bdede4151a760836ec7c3321a": {
     "views": []
    },
    "8e0170a378974b1cb4aa3d68f13df9a7": {
     "views": []
    },
    "8e84478193594e088afc97bee9241e2b": {
     "views": []
    },
    "8e86565a884f41938db7fc7b4b35aec7": {
     "views": []
    },
    "8e98e6c9956f470680047023847e919c": {
     "views": []
    },
    "8ec7c6ffcb824bcab62a28b8cae17c69": {
     "views": []
    },
    "8f797cfe71e14d93bfca1a013e2f49fe": {
     "views": []
    },
    "8ffe785958544352866cb6ec983c8310": {
     "views": []
    },
    "90ac8972a136448eb43f4932f782b77d": {
     "views": []
    },
    "90b1bc94543748c4910a7eacf984b1fc": {
     "views": []
    },
    "920c255eeab143cd9316bf0951ed1934": {
     "views": []
    },
    "920c6f14c89a489fad449e253f8bc62f": {
     "views": []
    },
    "9273227a962c46959ec0f11f6e4db95d": {
     "views": []
    },
    "9310905998694d9ab0a2cef02a68d379": {
     "views": []
    },
    "943d8274def5497aa762fdfc6b4787c0": {
     "views": []
    },
    "94ba82614f7347d6ab7a32931d13f9c7": {
     "views": []
    },
    "9527b2b990eb4f23b7c0f96c5cb54aeb": {
     "views": []
    },
    "9598b1fff8b6480d82bb6059d858e34f": {
     "views": []
    },
    "95cf338e37fd4070ac7fe04599785296": {
     "views": []
    },
    "95d871269f4d4205b8bd935b8d6fedfa": {
     "views": []
    },
    "95e33cd483ea431d87b7cf3c3da312d4": {
     "views": []
    },
    "9604215aa43f40e5816015aea002ecfd": {
     "views": []
    },
    "960a3b6809dd4899a039af58a02ff8d3": {
     "views": []
    },
    "96627c80315a488590f339bd35e198ad": {
     "views": []
    },
    "968cdca0190540fbbc4b5ad9cab237f7": {
     "views": []
    },
    "969c526f801c4977bffb830b68a80f66": {
     "views": []
    },
    "96a67ca87aaa470785ec8cd77bcd624b": {
     "views": []
    },
    "96ac18f14f9d42989185a1e05f68ff35": {
     "views": []
    },
    "9721654829cc4f61b70a2e5f7dd7daa3": {
     "views": []
    },
    "97cdc1db52654fbcbd88d2ec744b2666": {
     "views": []
    },
    "983133b01eaa4c93aee536a5eb1199d7": {
     "views": []
    },
    "983201c1dfb646b78ab027f3b59b94cd": {
     "views": []
    },
    "98989e041e6d4277b654ec751d2a8d94": {
     "views": []
    },
    "98f1486fafd8482f8ca8466fd36ab345": {
     "views": []
    },
    "9960cb1785d141d294b96228db4c05d0": {
     "views": []
    },
    "99995c3d15b2433593bc9593460e5545": {
     "views": []
    },
    "9a03dbdc845c4c67915adb02185ffe0e": {
     "views": []
    },
    "9a4191bfd2e745189df333fbe8e22abc": {
     "views": []
    },
    "9a5582cf39fd4d5f83c9b9c3b03898a9": {
     "views": []
    },
    "9ab9f05b2ce64809865d94f74a1aa349": {
     "views": []
    },
    "9ad2b4b774434037927d4b2f19d9db6f": {
     "views": []
    },
    "9b35f964bbe2408abda7143e863168f4": {
     "views": []
    },
    "9b49a941cbcb4cb5b8ae114aabe1b302": {
     "views": []
    },
    "9ba699109f28483eb7891a1263e62c65": {
     "views": []
    },
    "9bdf6bd6e4964d4db8b06f40a8b9c268": {
     "views": []
    },
    "9c6671e90229425c9a30c29324bb63cb": {
     "views": []
    },
    "9c83afb924ef482f86459b0340db918c": {
     "views": []
    },
    "9ce62c5067a7468b94dd3b3dfac5c4ce": {
     "views": []
    },
    "9d4d0457d35f493bb4142cdf00c48ddb": {
     "views": []
    },
    "9da94edd6ea4421aa5b3b7ecd69ccd5b": {
     "views": []
    },
    "9eca7ec23a48444093918e31a74f7b28": {
     "views": []
    },
    "9eea0e24b0b840aeae1a9d8ff5b8c1ba": {
     "views": []
    },
    "9f0deac1d5684adc86a2a0d6578cd6f8": {
     "views": []
    },
    "9f1ad28ac3cb4c838a895dfc221a3e39": {
     "views": []
    },
    "a04ef44698294aebbb697779736f611f": {
     "views": []
    },
    "a053e341724545a3a3bdaaba4db8a79c": {
     "views": []
    },
    "a0935475d4a54e068004baafac192018": {
     "views": []
    },
    "a0e864764cdd4e3598fe11012869074d": {
     "views": []
    },
    "a0f3e7e346db4afbaebad868e7293373": {
     "views": []
    },
    "a14a80cc79314c86aa89ccc70ff0e27a": {
     "views": []
    },
    "a150f43481de4f59bc60983c4f9782b1": {
     "views": []
    },
    "a165e6f0daa44d9db8e8719e8878e2f2": {
     "views": []
    },
    "a1d47bc59b4d46eea10850eff876bae5": {
     "views": []
    },
    "a1ecdeaa109a4422bd6d339ffd3a5efa": {
     "views": []
    },
    "a214e00ad9df43679e4f48ee3b3c076b": {
     "views": []
    },
    "a218c8915557481ebd4cb34d0b00cc85": {
     "views": []
    },
    "a296fa5ccc064535826bf85e919b606d": {
     "views": []
    },
    "a316532c0214430bb58d1e4f0366826a": {
     "views": []
    },
    "a337e1f1ba704293b5314ca783ce755c": {
     "views": []
    },
    "a35e38aef08a40ae88e08783ff684822": {
     "views": []
    },
    "a37e2ef4b6294e739402498aa9adff13": {
     "views": []
    },
    "a3d1d49ef9574e818a3fe06aa9b979de": {
     "views": []
    },
    "a4943426814147018a58b0475930f7cf": {
     "views": []
    },
    "a4c63a3370e943a2b1ac91059a31ae62": {
     "views": []
    },
    "a4dbf6e2bfed473c8636660a53ba4454": {
     "views": []
    },
    "a51d5196dc22494abaf9ae19371a6af7": {
     "views": []
    },
    "a54e3237d7a94095b9ce57614812f08e": {
     "views": []
    },
    "a590b1a0778245dca79ac12ebf9325f7": {
     "views": []
    },
    "a5c98af28e904e9e91a35abbb2886e82": {
     "views": []
    },
    "a62c94f2559c4c89941816b561a60d76": {
     "views": []
    },
    "a6e67e1956d6451780584eab2a80b953": {
     "views": []
    },
    "a72410d66ed14cbc9f146c04ce0de615": {
     "views": []
    },
    "a7928c3fc47d4a1392d6d992bf9f0e65": {
     "views": []
    },
    "a7aa2062de5c41caa70ed0b325ff4371": {
     "views": []
    },
    "a7b2102fe56a4382a44970a0b06e92c8": {
     "views": []
    },
    "a7ed498a366843b68464353289679801": {
     "views": []
    },
    "a7fd49c412cb4b3eb1de58a7f0c45742": {
     "views": []
    },
    "a8081074768e439f8b4c6908a0025ff3": {
     "views": []
    },
    "a84dfe785789442dbc102db84cc5e6d2": {
     "views": []
    },
    "a865d9a7b25c4ca8b50de15742c9cfa7": {
     "views": []
    },
    "a87a9bc5551042cab2ff7e92f4557052": {
     "views": []
    },
    "a8d5ffef4697480baa332aeb701325c1": {
     "views": []
    },
    "a8ee93b9c6c9473d8b3331d5dccab15a": {
     "views": []
    },
    "a9eb0bf665f447d087c6430ccea46f47": {
     "views": []
    },
    "aaaef40384bb46a8a5e517212c9877bb": {
     "views": []
    },
    "aac6f451cdf649cf9f2bc37aff349cfc": {
     "views": []
    },
    "ab3cb95275a842b18a81618a2f7e584b": {
     "views": []
    },
    "abc26dffd8854709b35029cca78e9e4f": {
     "views": []
    },
    "abcb19ad92a1446d8379b28a6dc19d5d": {
     "views": []
    },
    "ac177b9eacf3488ba2a312fe28f525f8": {
     "views": []
    },
    "ad9c6688c2fc49899903a0b67e636f21": {
     "views": []
    },
    "aec127bd4fda4ed7a14d73f3356c9926": {
     "views": []
    },
    "aec35639c89f47d29bf0928a1f7775fd": {
     "views": []
    },
    "af078d68aad94693b8af3d69ee44cec8": {
     "views": []
    },
    "afda67c70900431c83f52f3fa76ea546": {
     "views": []
    },
    "afe17267c13140f7876e99648643aab3": {
     "views": []
    },
    "aff6b6c17c1847efb77048f141d73152": {
     "views": []
    },
    "b01e6ef600874acfac30b352f2147a0c": {
     "views": []
    },
    "b11bf7d9a437445abfad222da28212d5": {
     "views": []
    },
    "b140f19ea2204a2687cbc37f5e398327": {
     "views": []
    },
    "b1dde030b5094217802bc14f6d9a0b05": {
     "views": []
    },
    "b2542b8527774f8e8fc72f5a3bd186c6": {
     "views": []
    },
    "b466bfc43c494a80ab506a22445d0962": {
     "views": []
    },
    "b4911aac415d45d4a09bd23f4ebbe3d6": {
     "views": []
    },
    "b49e680925ab4c32ab15ba3e6ce6b10e": {
     "views": []
    },
    "b4be607e128244b5b08399541af387a8": {
     "views": []
    },
    "b56069296b4c40c995065fbff681667c": {
     "views": []
    },
    "b566dad278ce44668f5072ed2826da20": {
     "views": []
    },
    "b6024acf79bd47d69d7ec7652345e1df": {
     "views": []
    },
    "b746b7d53d82497a91ee83bbd10abf7e": {
     "views": []
    },
    "b74d8157a71f444db9b0509b3d0635a8": {
     "views": []
    },
    "b775669c7aba441bbabd997cce5f7aa4": {
     "views": []
    },
    "b7ebfd0048eb417180ea2bf904c121cc": {
     "views": []
    },
    "b7f733aa329d434aa02cab5dd27be181": {
     "views": []
    },
    "b81a406af1a6432aafc9116e90e5b497": {
     "views": []
    },
    "b8529283a7ef4b36aa55fa03f517425a": {
     "views": []
    },
    "b85fe8934fe24ea2ae746fea5d06ac7a": {
     "views": []
    },
    "b8d4af39cedd40aba6d85befca3b29f5": {
     "views": []
    },
    "b8d84e965d5d4dca9ff031340ae6e855": {
     "views": []
    },
    "b91b5e41255a4f5b806369a8aa5322ec": {
     "views": []
    },
    "b952e2446d604ee28612201c58fef485": {
     "views": []
    },
    "b9fb26ca34e443a7b503fe1c0cd654fc": {
     "views": []
    },
    "baa861f261d249daaeceb0e3160f2800": {
     "views": []
    },
    "bac669244cb44c3cac9e6847f2cc1d9f": {
     "views": []
    },
    "bb4aa07cbd5e4d47827fb07d009aee78": {
     "views": []
    },
    "bb9e3c5868fe482ca6b2f94f4006d733": {
     "views": []
    },
    "bbaea48ed6304665a342793c9c5ab52d": {
     "views": []
    },
    "bbce2600a6c649f2afc36f95685a60e8": {
     "views": []
    },
    "bbde8d2541e348afb8b0012d75fbc43f": {
     "views": []
    },
    "bbebee8e7be148bca0b5bf658ad993a9": {
     "views": []
    },
    "bc1e33de0b61404289bc5527631cfdd2": {
     "views": []
    },
    "bc93e5b58ca3404081f69e41069bcdc7": {
     "views": []
    },
    "bd6369aa5fea4cd28ec3e7e439eee54a": {
     "views": []
    },
    "bd77154ed13f43be8768a80c0cc8a94d": {
     "views": []
    },
    "bd9635504b184bcc9af4fec9ddddabbd": {
     "views": []
    },
    "be23bf73c8c94551a2207cf963fc6427": {
     "views": []
    },
    "be32dc39a2654f169837f1e1fbb8ebba": {
     "views": []
    },
    "be6867d798aa481ba4949b4c5eeb43e7": {
     "views": []
    },
    "bea27951f6cf448f8a343ea9a677458c": {
     "views": []
    },
    "bff82593f233403393d59b7be1de285d": {
     "views": []
    },
    "bffe77f9c16245f5adc4a0e895724382": {
     "views": []
    },
    "c0491c73566748b693a201f9516376cc": {
     "views": []
    },
    "c051b5e03a04496395120475476b5ed6": {
     "views": []
    },
    "c05776939af045bfb11a566980a4b857": {
     "views": []
    },
    "c0ce46cba06e4a979cbb8d1aec257085": {
     "views": []
    },
    "c14febe19f2b4485a038e6c462ae5d49": {
     "views": []
    },
    "c1fa28ae64a14c66bbe21d959d91f18e": {
     "views": []
    },
    "c214b95f35db4e57abad2e31c4335298": {
     "views": []
    },
    "c23436e6b2124d22a3d4a35d218d9ac7": {
     "views": []
    },
    "c23b33842eae408a90a17e54b5389669": {
     "views": []
    },
    "c241c6d862124d7eae771299f920ed41": {
     "views": []
    },
    "c25b6e6fe8fc4b3fb65a010e89b7d7a9": {
     "views": []
    },
    "c29f90fe3a1d475189e97757da647b5b": {
     "views": []
    },
    "c2af08fdfc4a48e4bbda6b3dc618c9d6": {
     "views": []
    },
    "c2b8152f27334a009d2768f09782ce73": {
     "views": []
    },
    "c2c78a9386144856b9076d5f9157a5f1": {
     "views": []
    },
    "c350741486494e0b81a914b477207ff2": {
     "views": []
    },
    "c3629dc5c13b4ff7acc1fd7551fb9c15": {
     "views": []
    },
    "c3a9bed18cf34e42a0925f48144ba337": {
     "views": []
    },
    "c3c9a9084ffd4c6ba0d97452deebd144": {
     "views": []
    },
    "c3e8d627105f40f2b379fbeb40e12183": {
     "views": []
    },
    "c40c4800793b4a77bc6e07335fc3592b": {
     "views": []
    },
    "c42c72575c6342c38f79e7c8f187a51b": {
     "views": []
    },
    "c465c326c28e4c44819db98521034301": {
     "views": []
    },
    "c4876cd72774488f923c403e2429933f": {
     "views": []
    },
    "c4ec91a2d00e492ba5c7590f241e6ac6": {
     "views": []
    },
    "c5383c71eb3d495898c5f976c8517ada": {
     "views": []
    },
    "c5726e3da3ce46b4a02e248548331478": {
     "views": []
    },
    "c5f6fbe8a8524e23afd0e30db1f758bf": {
     "views": []
    },
    "c6326ff6e533412db93da65b6c6654c9": {
     "views": []
    },
    "c69b35f08b45480aa7819a46c6b58b8a": {
     "views": []
    },
    "c6be349a20794738a749f91f204f5de4": {
     "views": []
    },
    "c712f056074e4f5f8bfff34afcc65ca0": {
     "views": []
    },
    "c72d49e7721b404eb57d325424d35b48": {
     "views": []
    },
    "c817c1fb75bd4905b750bb8b0f1b82cb": {
     "views": []
    },
    "c824fe3f84824d36b3b291605cb620e1": {
     "views": []
    },
    "c88ede0197374cc59438bd34dc540ae2": {
     "views": []
    },
    "c8a55ae7035445a39faf6cce5c2e5026": {
     "views": []
    },
    "c9d3c6781e5b4ab99c93769f364a61fa": {
     "views": []
    },
    "c9f56fc537f140878f4d30308494cd25": {
     "views": []
    },
    "ca3a4ec2bd444bd9a1fa2af7bd28e5af": {
     "views": []
    },
    "cb2d7a4b14af47a2ae8af76f6fe38758": {
     "views": []
    },
    "cb957c8af34a402d9b27525395504ccf": {
     "views": []
    },
    "cc1ba3417ee041cd95557084831e1e75": {
     "views": []
    },
    "cc6d33639da14043aa8aabde70f8447e": {
     "views": []
    },
    "cd0a26406a284eb39a74ec073063914a": {
     "views": []
    },
    "cd23cca66aec4b699a5d35a0d9a016e2": {
     "views": []
    },
    "cdfdcbcaa16f49bf8335e85ed0e716c2": {
     "views": []
    },
    "ce12fcacb42a4f8dbec54876930bae00": {
     "views": []
    },
    "ce13837498574309a8e78b5770b92cc2": {
     "views": []
    },
    "ce2ac1ec60f24888bc116b7f66148748": {
     "views": []
    },
    "ce43e639ab2e491fa324aec519fd4cb3": {
     "views": []
    },
    "ce768d35cb844f23b638894fbe030537": {
     "views": []
    },
    "ce871be032db4855829362310568b685": {
     "views": []
    },
    "cf23ebbac0884a8f8966fcdde0d60b2c": {
     "views": []
    },
    "cf38e71a5cf54d5eb81137237e48b0e7": {
     "views": []
    },
    "cf7fda5afbe34e9780fa33f883e4cd07": {
     "views": []
    },
    "cf94876340484cbf9cb6b807a4a8e6cd": {
     "views": []
    },
    "d0216e64a5574f8492e85e634a0f9191": {
     "views": []
    },
    "d03af7fb157644c1b4450ef134f6f0ce": {
     "views": []
    },
    "d050e02256c5499880aae96f1972721b": {
     "views": []
    },
    "d064d6de7f114ba8956463f1354c5076": {
     "views": []
    },
    "d10903e3c25d4f4b9c67feb3375bf23e": {
     "views": []
    },
    "d139a6b0c3d745fdbc7c3f77f4232fdd": {
     "views": []
    },
    "d16959745d3d42afb7888498d8a0f27b": {
     "views": []
    },
    "d1bcb62ab6d045f99d396f959a980be7": {
     "views": []
    },
    "d1d323acdfab4dad96f30f61953bba0c": {
     "views": []
    },
    "d1e8e54cee784714bedd75b11d779ce3": {
     "views": []
    },
    "d1fadfd40ad2473c81f8b7adfdf83678": {
     "views": []
    },
    "d2114631c36b4b14b5887d0ca0ac5593": {
     "views": []
    },
    "d21dd6800df040b4959c6aa5611cce47": {
     "views": []
    },
    "d28c346bffdf4178abd97b8426f8b35c": {
     "views": []
    },
    "d2bb24745ab8451683af1746d5cbd42d": {
     "views": []
    },
    "d2bdc8da7f9f4a14aa75a6076f996f22": {
     "views": []
    },
    "d2e27645851d4dda8910785ccd2abfae": {
     "views": []
    },
    "d304cba7bbc042d9a067f411ed9a581c": {
     "views": []
    },
    "d31decbe9bfc48138bae4a4b686243b4": {
     "views": []
    },
    "d3436b0c859b42e69e98d9d24475ebc7": {
     "views": []
    },
    "d345aef840cf4919b178e86c64fd5da1": {
     "views": []
    },
    "d3727616d99e47beb4d1e20578daf4e9": {
     "views": []
    },
    "d3c53f483e9041c8845b9d40fda476d3": {
     "views": []
    },
    "d43ade8b548b4e028b2ef8f7f9d36d19": {
     "views": []
    },
    "d44b6c4124c5460f9010a27effaccb25": {
     "views": []
    },
    "d451dfb8a97d4cf4a225be74cdeb6456": {
     "views": []
    },
    "d4561245c96f45c1bc719dd44948e295": {
     "views": []
    },
    "d4fa2cd4b5a542358e02846dde4d621b": {
     "views": []
    },
    "d4fd32a0e495425ab9e8a0650881b677": {
     "views": []
    },
    "d619569f7c574af5bbcd1f268af7a804": {
     "views": []
    },
    "d6b08018c57b48b7819ab2d851e0ec7b": {
     "views": []
    },
    "d8487254aa184b4b9940c50636ce69a3": {
     "views": []
    },
    "d89e7b6d948a425a8148a24f0cffc6c6": {
     "views": []
    },
    "d8e917e7b03b4f67877fd6bac83bf6ac": {
     "views": []
    },
    "d8f0ca2b239b461d82c04479651f192a": {
     "views": []
    },
    "d98f6e2596de435faa2e54809ae27f41": {
     "views": []
    },
    "d9af7244b5b242259a4d21b8f09153d4": {
     "views": []
    },
    "da60ab3e47b84d22a81e200ec0bba536": {
     "views": []
    },
    "daa69e636180493885829329d5d9d10c": {
     "views": []
    },
    "daf3368059234ba3877a2e0e168d0fd7": {
     "views": []
    },
    "db425f2169714d4fa76c486d43232542": {
     "views": []
    },
    "db750f6e04f94948ad3a4519f4faff0c": {
     "views": []
    },
    "dbf20f810e984c028d2102a43f03f2db": {
     "views": []
    },
    "dc1c3095a854432f84a6488f8f638283": {
     "views": []
    },
    "dc326783ec0f4f44bd59d171099d3989": {
     "views": []
    },
    "dc7b6eaafc97497db989deb728970709": {
     "views": []
    },
    "dc85b117a26b4293ab988f0ce040e1f6": {
     "views": []
    },
    "dd0c7911839140cf9dfe23347ed4bea3": {
     "views": []
    },
    "ddb9a1daed7144d7bbad53f49ade1db7": {
     "views": []
    },
    "ddedb6add0174f1e91d623e5990cd72d": {
     "views": []
    },
    "de245a45085a471aa6375d3c6c93cf96": {
     "views": []
    },
    "de72c251c74046ab82f1bc6e6dd62188": {
     "views": []
    },
    "de96a5cffac94fc0b7612f51ebe2f207": {
     "views": []
    },
    "df0e40e1c23b4c4a863dc4cc12ed809e": {
     "views": []
    },
    "df55bf8c5e8f4311928fc7b3b7188a9b": {
     "views": []
    },
    "dfd62a0127c541bab4757b9024a61342": {
     "views": []
    },
    "dff6a14548cc4d1d9e617113422ccaf0": {
     "views": []
    },
    "e0a6bdbbe6034fcb9f622763836a6adc": {
     "views": []
    },
    "e12bbb1c27084ecb9f08114a480f2cd5": {
     "views": []
    },
    "e16901f1be82499f80224e472fc1dce2": {
     "views": []
    },
    "e1a57d1c50694324a9e324e8744734ce": {
     "views": []
    },
    "e1f00bae408546cdb6a9a861e62f0c3a": {
     "views": []
    },
    "e1fc0ff22c0e4b8db1819247a71fa7a7": {
     "views": []
    },
    "e2499797328147d59e2317c14cc43b10": {
     "views": []
    },
    "e27417313f924ad690afb116306b380c": {
     "views": []
    },
    "e2870ac9f721423a856585610e5f166b": {
     "views": []
    },
    "e3fb2d4ea15f4b43ab569b32961db587": {
     "views": []
    },
    "e4b20d2058844a7eb591b4f493265f15": {
     "views": []
    },
    "e4bba93cd64348c4b4624baabec878d0": {
     "views": []
    },
    "e54e2058a2ec4932abdfa4ccad6295ac": {
     "views": []
    },
    "e553d8e4226a4cb3922dbb43de20fe48": {
     "views": []
    },
    "e5d526b004ae47ae957581a4012e3527": {
     "views": []
    },
    "e5ea08cf3e7041bba9f8d337d2370118": {
     "views": []
    },
    "e5fd81ea39d84d63acd31ae695dcd3dd": {
     "views": []
    },
    "e669c7bc717a4033959fdd982b50c629": {
     "views": []
    },
    "e6d4e20051f2404485a67dddebced177": {
     "views": []
    },
    "e720efb6455b494a8cd78796238de487": {
     "views": []
    },
    "e73786a4685047c29a33064ed1e8ed3d": {
     "views": []
    },
    "e8a9f009194d48fabd03c06896d128fe": {
     "views": [
      {
       "cell": {
        "cell_type": "code",
        "execution_count": 25,
        "metadata": {
         "collapsed": false,
         "run_control": {
          "read_only": false
         },
         "scrolled": false,
         "trusted": true
        },
        "outputs": [],
        "source": "display(HBox(children=[VBox(children=[ww, Nw, kw]), VBox(children=[cw, ow, sw])]))"
       },
       "cell_index": 3,
       "root": true
      }
     ]
    },
    "e8bf8453ffe2460ba607b510cda18ec0": {
     "views": []
    },
    "e8d735cd4be34b898b52deee87c5ba1f": {
     "views": []
    },
    "e8f8173c3d7b42a8a03433496d9d7cbf": {
     "views": []
    },
    "e919ce9eabaa429f89991375ae40c3a1": {
     "views": []
    },
    "e92046cbf54e439dac21665c769c42d4": {
     "views": []
    },
    "e94e4f1d26f04bacaff985087c2523d3": {
     "views": []
    },
    "e970250e9cfb43789eb6de7df184a63b": {
     "views": []
    },
    "e9f2fbadf52d4917a0efe3e2f38a7a9e": {
     "views": []
    },
    "eaa20ca40e164bbd8852a1939e96a2c1": {
     "views": []
    },
    "eaa3597a86df475080e350b9a5b36019": {
     "views": []
    },
    "eb12100d00f14bd9a71e315c5e7ef832": {
     "views": []
    },
    "eb22fa75e3154e8082ff3a5457b3c767": {
     "views": []
    },
    "eb480d5c89884041a6b0daf456f4f149": {
     "views": []
    },
    "eb6756b7e41b4ab1adb266f04e71b9f2": {
     "views": []
    },
    "eb73402f742d4ba7b88d1803574d6cd6": {
     "views": []
    },
    "eba2e5630ccd4ceebc9b50fd6e9617ab": {
     "views": []
    },
    "ebbf794afc044021b91026849c9ce2d5": {
     "views": []
    },
    "ec4a80de0b214582be49cbe6c244a3c3": {
     "views": []
    },
    "ec85c04fbdc64f2aa7967e0801e55e30": {
     "views": []
    },
    "ece798831bd44ff5b3a7212abffa03a4": {
     "views": []
    },
    "ed931e437f954dda8ba4ef0ff79ae9c8": {
     "views": []
    },
    "edb5f9004fc349db8a6aac26b74c9dab": {
     "views": []
    },
    "ee7427370d7c43e1a060716748e1e897": {
     "views": []
    },
    "ee84063058a64c2f995b1e3bec58ab8e": {
     "views": []
    },
    "eea559037ab9438ab7883742574552c8": {
     "views": []
    },
    "ef1a579693d8479fb4318c94e550a9a8": {
     "views": []
    },
    "ef460c75b2cf4e3d88bb6df068e68cfb": {
     "views": []
    },
    "ef7f5ee9750b4bfab5994eb289e978f0": {
     "views": []
    },
    "ef81eab79f6041cf8af6fc5612e8e114": {
     "views": []
    },
    "f0111988aa324e339f03f69018dbeb6e": {
     "views": []
    },
    "f0de24508c554242b8a96ca28717e07c": {
     "views": []
    },
    "f1206ede360d4bdd8c200e3d33d2388b": {
     "views": []
    },
    "f121692fb68747b2ac25cfd0f47a20a1": {
     "views": []
    },
    "f16a4ca5bbfd469c9eba806cae852cdc": {
     "views": []
    },
    "f17048ecf1744bd9a4229b7636d2a9ef": {
     "views": []
    },
    "f2b4b26c1b624f3ea3dcd07e92eb9216": {
     "views": []
    },
    "f307627bc34044d4813bdadd7bbe3939": {
     "views": []
    },
    "f3290a84f747443f8b02fce58431505c": {
     "views": []
    },
    "f340f11c6b684738976ed045cc091fd0": {
     "views": []
    },
    "f3ab8835c7704ed980ca21e0f11633f5": {
     "views": []
    },
    "f3c729f8db0045e29c9c722fed27111f": {
     "views": []
    },
    "f422f4c5e8d74d828e01a342c588837d": {
     "views": []
    },
    "f4b45dd5007b4dd186fd1385ce46c869": {
     "views": []
    },
    "f4ff11cc02dc453a9dbcdff7057b7fad": {
     "views": []
    },
    "f51b0a1fd04e46f2ac95a7043245f878": {
     "views": []
    },
    "f53021ef762d44be97dc952d9ca5b52a": {
     "views": []
    },
    "f658bf69e1bf486093213366c43b12dd": {
     "views": []
    },
    "f6b30e2d32dd4caa8476b65a252fe87b": {
     "views": []
    },
    "f6f0034987ad4789bae5aaa32cbeed2f": {
     "views": []
    },
    "f73cdac68c0746e2bf36a86c6fa46455": {
     "views": []
    },
    "f7719d80b2d5444684888491a014492b": {
     "views": []
    },
    "f8004e351d37408caffa8937b799e66c": {
     "views": []
    },
    "f92734fd08004dab945fc730b71c9e82": {
     "views": []
    },
    "f98b6380e80242159a1837757ca1fdcd": {
     "views": []
    },
    "f9db207bf28b4d13a50abda9e4db7a1e": {
     "views": []
    },
    "f9ec0b9e95354f3cbe90e2afb39dd351": {
     "views": []
    },
    "fa216577c3eb44b287d37b810148d8ca": {
     "views": []
    },
    "fa2cd3d3ff304c98b789fef32b16354b": {
     "views": []
    },
    "fa30b82db5d443c08a2d88848815d53d": {
     "views": []
    },
    "fa6ec48b676841dd81f875510f461484": {
     "views": []
    },
    "faa24648afc24d05878834f129d5677b": {
     "views": []
    },
    "fab9e6a9212a4e4d82fdb1a9884127a8": {
     "views": []
    },
    "fabccfd770a3449a849cbee2494f2d62": {
     "views": []
    },
    "fac7d1f760404c8ca7805a6aafc21260": {
     "views": []
    },
    "fb1375554566428ab16cd9fa4fbae8f7": {
     "views": []
    },
    "fb1713fb1228431f871cc008ecab9ea0": {
     "views": []
    },
    "fb3eecebfb1444a7a355461563a90ef0": {
     "views": []
    },
    "fc01a4b999cf42f081d9b2b9ec6d26ed": {
     "views": []
    },
    "fc43a00476a64345b1606c53be05fa65": {
     "views": []
    },
    "fc5f92eb9240471ea1aa5e610d3ed73d": {
     "views": []
    },
    "fc6820134f274a15a5f3fb7bcd509750": {
     "views": []
    },
    "fc7483e98d7e4e568eefd59169ede56d": {
     "views": []
    },
    "fc9f0c1aedf34c0e9a188224be30113b": {
     "views": []
    },
    "fce2ad0eebc0492d83df8956029f5c3b": {
     "views": []
    },
    "fd0964429792428cad1a7b28fe8d16bb": {
     "views": []
    },
    "fde37c0447b649b1bd8a72e1eddbb09e": {
     "views": []
    },
    "fe1155051e3f4438b6738e7d676d838b": {
     "views": []
    },
    "fe7e0e286fbb441683f1b460f63c1f5b": {
     "views": []
    },
    "fe94f2e6c1174a44a9f3e70a8cdc683d": {
     "views": []
    },
    "ff14cfac79d74e8aab2458ac551c2d72": {
     "views": []
    },
    "fffb0649096f4d84a11f9d5876da9a95": {
     "views": []
    }
   },
   "version": "1.1.0"
  }
 },
 "nbformat": 4,
 "nbformat_minor": 0
}
