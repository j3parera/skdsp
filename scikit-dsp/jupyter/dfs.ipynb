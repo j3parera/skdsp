{
 "cells": [
  {
   "cell_type": "code",
   "execution_count": 1,
   "metadata": {
    "collapsed": false,
    "run_control": {
     "read_only": false
    }
   },
   "outputs": [],
   "source": [
    "import matplotlib.pyplot as plt\n",
    "%matplotlib inline\n",
    "import skdsp.signal.discrete as ds\n",
    "import numpy as np\n",
    "import sympy as sp\n",
    "import scipy.fftpack as fftp\n",
    "from ipywidgets import interactive, IntSlider, FloatSlider, Checkbox, \\\n",
    "ToggleButton, ToggleButtons, HBox, VBox\n",
    "from IPython.display import display"
   ]
  },
  {
   "cell_type": "code",
   "execution_count": 10,
   "metadata": {
    "code_folding": [],
    "collapsed": false,
    "run_control": {
     "read_only": false
    }
   },
   "outputs": [],
   "source": [
    "Nw = IntSlider(value=16, min=2, max=32, step=1, continuous_update=False, description='N:')\n",
    "kw = IntSlider(value=1, min=1, max=32, step=1, continuous_update=False, description='width:')\n",
    "ow = FloatSlider(value=0, min=-1.0, max=1.0, step=0.1, continuous_update=False, description='offset:')\n",
    "sw = IntSlider(value=0, min=-64, max=64, step=1, continuous_update=False, description='shift:')\n",
    "cw = ToggleButton(value=True, description='DFS centrada')\n",
    "ww = ToggleButtons(options=['Tren de deltas', 'Diente de sierra', 'Cuadrada'], description='Señal:')\n",
    "def dsfdemo(signal='Tren de deltas', N=8, width=0, offset=0, shift=0, center=True):\n",
    "    if width > N:\n",
    "        raise ValueError('width debe ser menor que N')\n",
    "    if signal == 'Tren de deltas':\n",
    "        s = 0.5 + 0.5*ds.Square(N, 1)\n",
    "        kw.disabled = True\n",
    "    if signal == 'Diente de sierra':\n",
    "        s = ds.Sawtooth(N, width)\n",
    "        kw.disabled = False\n",
    "    elif signal == 'Cuadrada':\n",
    "        s = ds.Square(N, width)\n",
    "        kw.disabled = False\n",
    "    s = offset + (s >> shift)\n",
    "    npts = 32\n",
    "    n = np.arange(-npts, npts+1)\n",
    "    plt.figure(figsize=(20, 7))\n",
    "    plt.subplot(2, 2, (1, 2))\n",
    "    plt.stem(n, s[-npts:npts+1], markerfmt='bo', linefmt='b-', basefmt='k-')\n",
    "    plt.axis([-npts-0.5, npts+0.5, -2.1, 2.1])\n",
    "    plt.axvline(0, color='k')\n",
    "    plt.axhline(0, color='k')\n",
    "    plt.grid(True)\n",
    "    X = s.dfs(N, force=True)\n",
    "    X.real[np.isclose(np.real(X), 0)] = 0\n",
    "    X.imag[np.isclose(np.imag(X), 0)] = 0\n",
    "    if center:\n",
    "        X = fftp.fftshift(X)\n",
    "        kidx = np.arange(-int(N/2), int((N-1)/2)+1)\n",
    "    else:\n",
    "        kidx = np.arange(0, N)\n",
    "    plt.subplot(2, 2, 3)\n",
    "    mX = np.abs(X)\n",
    "    plt.stem(kidx, mX)\n",
    "    min_ = min(0, np.min(mX))\n",
    "    max_ = np.max(mX)\n",
    "    dr = min(1.0, (max_ - min_))\n",
    "    plt.axis([kidx[0]-0.5, kidx[-1]+0.5, min_-0.15*dr, max_+0.15*dr])\n",
    "    plt.axhline(0, color='k')\n",
    "    plt.axvline(0, color='k')\n",
    "    plt.grid(True)\n",
    "    plt.subplot(2, 2, 4)\n",
    "    plt.stem(kidx, np.angle(X))\n",
    "    plt.axis([kidx[0]-0.5, kidx[-1]+0.5, -np.pi-0.5, np.pi+0.5])\n",
    "    plt.axhline(0, color='k')\n",
    "    plt.axvline(0, color='k')\n",
    "    plt.grid(True)\n",
    "w = interactive(dsfdemo, signal=ww, N=Nw, width=kw, offset=ow, shift=sw, center=cw)"
   ]
  },
  {
   "cell_type": "code",
   "execution_count": 11,
   "metadata": {
    "collapsed": false,
    "run_control": {
     "read_only": false
    },
    "scrolled": false
   },
   "outputs": [
    {
     "data": {
      "image/png": "[encoded data removed]",
      "text/plain": [
       "<matplotlib.figure.Figure at 0x7fd4164741d0>"
      ]
     },
     "metadata": {},
     "output_type": "display_data"
    }
   ],
   "source": [
    "display(HBox(children=[VBox(children=[ww, Nw, kw]), VBox(children=[cw, ow, sw])]))"
   ]
  },
  {
   "cell_type": "code",
   "execution_count": null,
   "metadata": {
    "collapsed": true
   },
   "outputs": [],
   "source": []
  }
 ],
 "metadata": {
  "kernelspec": {
   "display_name": "Python 3",
   "language": "python",
   "name": "python3"
  },
  "language_info": {
   "codemirror_mode": {
    "name": "ipython",
    "version": 3
   },
   "file_extension": ".py",
   "mimetype": "text/x-python",
   "name": "python",
   "nbconvert_exporter": "python",
   "pygments_lexer": "ipython3",
   "version": "3.4.3+"
  },
  "widgets": {
   "state": {
    "02974524f402466bb899c2522bd1fb2a": {
     "views": []
    },
    "05e3a88e67f64cd087055c048d9b15b6": {
     "views": []
    },
    "08f3388761c043a4b24830726ce4f802": {
     "views": []
    },
    "0a7298ce8e3940289b3ec4fd8205aafc": {
     "views": []
    },
    "0be74daf88d84564a59e6fa6f76ed443": {
     "views": []
    },
    "15a746157b9345a7b3cd812d8eb69da2": {
     "views": []
    },
    "15bb61d1ca674de79dc18106a524f900": {
     "views": []
    },
    "1a2a2c129b9b4a5eba44a3f1a292eaf8": {
     "views": []
    },
    "1a7de5d863f54b70b2169619dffdb9f5": {
     "views": []
    },
    "1a9eb803405e4b99a5aa17985870e46f": {
     "views": []
    },
    "1ad805502112461e8317479e136ac084": {
     "views": []
    },
    "1b0f816042f24faf8ed71693b2936653": {
     "views": []
    },
    "21a763d2177b4a42a02534ad19e06a36": {
     "views": []
    },
    "21eb8b0433d645c7bc447a2b5604436f": {
     "views": []
    },
    "22c83b1353854fc7b84a4a5032874fbf": {
     "views": []
    },
    "244ed996da1a4532924afd64e48549a9": {
     "views": []
    },
    "27eb115a7e3f42caaefda783deea8abf": {
     "views": []
    },
    "2838d235f6e94a03b0b47deda40064d7": {
     "views": []
    },
    "2b3959102aea4fd69259ca167af5b4d6": {
     "views": []
    },
    "2ff9fc6beb964dc882bef09d44ca75d5": {
     "views": []
    },
    "36054d3369284d41b10513ba899917fe": {
     "views": []
    },
    "39a56ff9b1cc45fbaf5000251d2ff302": {
     "views": []
    },
    "40e10c0e2d91413d967a997d081ef2fd": {
     "views": []
    },
    "41d4e59631404deaa5858ceab356510d": {
     "views": []
    },
    "425d12e7a53f422fb13c50e44dc454bb": {
     "views": []
    },
    "42821e0fa33c447d8474fb993a1a5fa0": {
     "views": []
    },
    "440ed90cc8b34e94a728738e0e306260": {
     "views": []
    },
    "448b1f2d5e9d4e978f25cf4e24ab0be9": {
     "views": []
    },
    "475bc40871ec484a929bbee4c1ead46e": {
     "views": []
    },
    "476c290ca9364107afcfb1808a86bcee": {
     "views": []
    },
    "49f1bb42fabd4a7bb02fa0590ed299e2": {
     "views": []
    },
    "4c30f1d599b4470a8316e231f0f5c6aa": {
     "views": []
    },
    "5575d3e816614fbaa4a1d3d74b543a0f": {
     "views": []
    },
    "57ded62130b049e7b039901a98c8735e": {
     "views": []
    },
    "5afd1d2410c54fc4960d98e421394fcb": {
     "views": []
    },
    "5fada28ff7064e55b541e65d30fe4b70": {
     "views": []
    },
    "600aa305dbdb4d8eae0d1a7487cb1cfb": {
     "views": []
    },
    "60856b9a71cd4330b32c9a831436d610": {
     "views": []
    },
    "60a5c42f99e8431b92c50b043ddc6ca1": {
     "views": []
    },
    "64f1be40d9ac4a45b1b75043057bca77": {
     "views": []
    },
    "655170ed529646bf8d9e23239e6fea8d": {
     "views": []
    },
    "65ebea9d63944829b403a7b88a45c999": {
     "views": []
    },
    "6733b6f5b7fb4c40a5ae24b6884d4725": {
     "views": [
      {
       "cell": {
        "cell_type": "code",
        "execution_count": 11,
        "metadata": {
         "collapsed": false,
         "run_control": {
          "read_only": false
         },
         "scrolled": false,
         "trusted": true
        },
        "outputs": [
         {
          "data": {
           "image/png": "iVBORw0KGgoAAAANSUhEUgAABH4AAAGjCAYAAABaLdJPAAAABHNCSVQICAgIfAhkiAAAAAlwSFlz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\nAAAAAElFTkSuQmCC\n",
           "text/plain": "<matplotlib.figure.Figure at 0x7fd4164741d0>"
          },
          "metadata": {},
          "output_type": "display_data"
         }
        ],
        "source": "display(HBox(children=[VBox(children=[ww, Nw, kw]), VBox(children=[cw, ow, sw])]))"
       },
       "cell_index": 2,
       "root": true
      }
     ]
    },
    "6889a901b1f449a4a1f639abe6a6fc6a": {
     "views": []
    },
    "6e41d383a7a94a75bddf662c4f461849": {
     "views": []
    },
    "7046d689d71d49ebb08a9eb9f5b3d398": {
     "views": []
    },
    "7097fada56e340ee85e38c3428396cb9": {
     "views": []
    },
    "758189e4e5ba4638b669baf9d33264db": {
     "views": []
    },
    "78c899ce6e3a45e1bed33a2e3dc13a4b": {
     "views": []
    },
    "7b1cfc6d6c7147dfb99c3075d2c4c913": {
     "views": []
    },
    "7b9b563dd33843d0b57181be1977e896": {
     "views": []
    },
    "7fc77143fa024410a0b1cade61f84761": {
     "views": []
    },
    "825cde15202845ada57771dc9cd5cfb9": {
     "views": []
    },
    "84daf296f6594e9d85ecec051979d257": {
     "views": []
    },
    "8b2a45f07e0242ceb7961650d8fe6780": {
     "views": []
    },
    "92371473d8604914b508a739741c06a1": {
     "views": []
    },
    "94028290069f4dfabaad226a02af03c8": {
     "views": []
    },
    "949253649729499aad6f600b1fdf75cc": {
     "views": []
    },
    "9663db53612d4f4fb243c187a158d993": {
     "views": []
    },
    "97c021e35e534ac49e58684bac3737ef": {
     "views": []
    },
    "9b84eca7cdae4de3872319855d236ec9": {
     "views": []
    },
    "a0192c592ccc43f2926aa9a0c5dbbd26": {
     "views": []
    },
    "a22dafdc710040fd8549ac053c379890": {
     "views": []
    },
    "a2518d13aa8d4d3cb1b4697f0dd4b5c6": {
     "views": []
    },
    "a5b3146fe2c04f7dbd272aa934ba19ef": {
     "views": []
    },
    "a623ca6231b64aaca2f8508bb635287b": {
     "views": []
    },
    "afabb43665d14c46b03199b785929e86": {
     "views": []
    },
    "b427eab22dbd4245b9d6a632bd8423b5": {
     "views": []
    },
    "b7e8b18012e247369bf3d84a0dbfa63c": {
     "views": []
    },
    "b94d5970e2724176b77b4b94967e6f2e": {
     "views": []
    },
    "b9ff520672f44cd2901a69f188319d9d": {
     "views": []
    },
    "bcfce406738548b4a34c2be24f7a4e09": {
     "views": []
    },
    "c5ba8dad52fd4140a481f3720168aaf5": {
     "views": []
    },
    "c69e41b00a4342a48809c213d2258118": {
     "views": []
    },
    "cbb08f3a3a954456b335d55f4d45cb8f": {
     "views": []
    },
    "cc933fe1b474434d8b32bf5a36cde5c3": {
     "views": []
    },
    "db928bf39bc447669adaa68b94692cf7": {
     "views": []
    },
    "ded1413388f64190b34d69484cc71012": {
     "views": []
    },
    "dedc14281e78449d886cabca5f67b45a": {
     "views": []
    },
    "dfa7677548db4b3ebf27f035c8efba51": {
     "views": []
    },
    "e8d5506d349841b880ea6298ed2b5fe0": {
     "views": []
    },
    "edde079b7bdd48a28d51ad58ec080925": {
     "views": []
    },
    "ef6372ff7f7e42379ac5e8a46092fc0d": {
     "views": []
    },
    "ef7774938bd24f0d9d710fd29af61d9b": {
     "views": []
    },
    "efeca412f0a04e16b159aa67c21aa1d0": {
     "views": []
    },
    "f894c7d3d2574014802baf28a06b0f90": {
     "views": []
    }
   },
   "version": "1.1.0"
  }
 },
 "nbformat": 4,
 "nbformat_minor": 0
}
