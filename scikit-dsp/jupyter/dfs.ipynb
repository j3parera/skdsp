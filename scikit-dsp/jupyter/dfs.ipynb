{
 "cells": [
  {
   "cell_type": "code",
   "execution_count": 1,
   "metadata": {
    "collapsed": false,
    "run_control": {
     "read_only": false
    }
   },
   "outputs": [],
   "source": [
    "import matplotlib.pyplot as plt\n",
    "%matplotlib inline\n",
    "import skdsp.signal.discrete as ds\n",
    "import numpy as np\n",
    "import sympy as sp\n",
    "import scipy.fftpack as fftp\n",
    "from ipywidgets import interactive, IntSlider, FloatSlider, Checkbox, \\\n",
    "ToggleButton, ToggleButtons, HBox, VBox\n",
    "from IPython.display import display"
   ]
  },
  {
   "cell_type": "code",
   "execution_count": 3,
   "metadata": {
    "code_folding": [],
    "collapsed": false,
    "run_control": {
     "read_only": false
    }
   },
   "outputs": [],
   "source": [
    "Nw = IntSlider(value=16, min=2, max=32, step=1, continuous_update=False, description='N:')\n",
    "kw = IntSlider(value=1, min=0, max=32, step=1, continuous_update=False, description='width:')\n",
    "ow = FloatSlider(value=0, min=-1.0, max=1.0, step=0.1, continuous_update=False, description='offset:')\n",
    "sw = IntSlider(value=0, min=-64, max=64, step=1, continuous_update=False, description='shift:')\n",
    "cw = ToggleButton(value=True, description='DFS centrada')\n",
    "ww = ToggleButtons(options=['Tren de deltas', 'Diente de sierra', 'Cuadrada'], description='Señal:')\n",
    "def dsfdemo(signal='Tren de deltas', N=8, width=0, offset=0, shift=0, center=True):\n",
    "    if width > N:\n",
    "        raise ValueError('width debe ser menor que N')\n",
    "    if signal == 'Tren de deltas':\n",
    "        s = 0.5 + 0.5*ds.Square(N, 1)\n",
    "        kw.disabled = True\n",
    "    if signal == 'Diente de sierra':\n",
    "        s = ds.Sawtooth(N, width)\n",
    "        kw.disabled = False\n",
    "    elif signal == 'Cuadrada':\n",
    "        s = ds.Square(N, width)\n",
    "        kw.disabled = False\n",
    "    s = offset + (s >> shift)\n",
    "    npts = 32\n",
    "    n = np.arange(-npts, npts+1)\n",
    "    plt.figure(figsize=(20, 7))\n",
    "    plt.subplot(2, 2, (1, 2))\n",
    "    plt.stem(n, s[-npts:npts+1], markerfmt='bo', linefmt='b-', basefmt='k-')\n",
    "    plt.axis([-npts-0.5, npts+0.5, -2.1, 2.1])\n",
    "    plt.axvline(0, color='k')\n",
    "    plt.axhline(0, color='k')\n",
    "    plt.grid(True)\n",
    "    X = s.dfs(N, force=True)\n",
    "    X.real[np.isclose(np.real(X), 0)] = 0\n",
    "    X.imag[np.isclose(np.imag(X), 0)] = 0\n",
    "    if center:\n",
    "        X = fftp.fftshift(X)\n",
    "        kidx = np.arange(-int(N/2), int((N-1)/2)+1)\n",
    "    else:\n",
    "        kidx = np.arange(0, N)\n",
    "    plt.subplot(2, 2, 3)\n",
    "    mX = np.abs(X)\n",
    "    plt.stem(kidx, mX)\n",
    "    min_ = min(0, np.min(mX))\n",
    "    max_ = np.max(mX)\n",
    "    dr = min(1.0, (max_ - min_))\n",
    "    plt.axis([kidx[0]-0.5, kidx[-1]+0.5, min_-0.15*dr, max_+0.15*dr])\n",
    "    plt.axhline(0, color='k')\n",
    "    plt.axvline(0, color='k')\n",
    "    plt.grid(True)\n",
    "    plt.subplot(2, 2, 4)\n",
    "    plt.stem(kidx, np.angle(X))\n",
    "    plt.axis([kidx[0]-0.5, kidx[-1]+0.5, -np.pi-0.5, np.pi+0.5])\n",
    "    plt.axhline(0, color='k')\n",
    "    plt.axvline(0, color='k')\n",
    "    plt.grid(True)\n",
    "w = interactive(dsfdemo, signal=ww, N=Nw, width=kw, offset=ow, shift=sw, center=cw)"
   ]
  },
  {
   "cell_type": "code",
   "execution_count": 4,
   "metadata": {
    "collapsed": false,
    "run_control": {
     "read_only": false
    },
    "scrolled": false
   },
   "outputs": [
    {
     "name": "stderr",
     "output_type": "stream",
     "text": [
      "Widget Javascript not detected.  It may not be installed properly.\n"
     ]
    }
   ],
   "source": [
    "display(HBox(children=[VBox(children=[ww, Nw, kw]), VBox(children=[cw, ow, sw])]))"
   ]
  },
  {
   "cell_type": "code",
   "execution_count": 3,
   "metadata": {
    "collapsed": false,
    "run_control": {
     "read_only": false
    }
   },
   "outputs": [],
   "source": [
    "def dfscos(N=16, k=1):\n",
    "    s = 0\n",
    "    for k0 in range(0, k):\n",
    "        s += ds.Exponential(sp.exp(sp.I*sp.S.Pi*2*k0/N))\n",
    "    n = np.arange(-50, 50)\n",
    "    X = s.dfs(N, force=True)\n",
    "    X.real[np.isclose(np.real(X), 0)] = 0\n",
    "    X.imag[np.isclose(np.imag(X), 0)] = 0\n",
    "    plt.figure(figsize=(20, 6))\n",
    "    plt.subplot(211)\n",
    "    plt.stem(n, np.real(s[n]))\n",
    "    plt.xlim([n[0]-0.5, n[-1]+0.5])\n",
    "    plt.subplot(212)\n",
    "    k = np.arange(0, N)\n",
    "    plt.stem(k, np.abs(X))\n",
    "    plt.xlim([k[0]-0.5, k[-1]+0.5])"
   ]
  },
  {
   "cell_type": "code",
   "execution_count": 4,
   "metadata": {
    "collapsed": false,
    "run_control": {
     "read_only": false
    }
   },
   "outputs": [
    {
     "data": {
      "image/png": "[encoded data removed]",
      "text/plain": [
       "<matplotlib.figure.Figure at 0x7fe2ea5957f0>"
      ]
     },
     "metadata": {},
     "output_type": "display_data"
    }
   ],
   "source": [
    "from ipywidgets import interact\n",
    "Nw = IntSlider(value=16, min=1, max=64, step=1, continuous_update=False, description='N:')\n",
    "kw = IntSlider(value=1, min=1, max=32, step=1, continuous_update=False, description='width:')\n",
    "d2 = interactive(dfscos, N=Nw, k=kw)\n",
    "display(d2)"
   ]
  },
  {
   "cell_type": "code",
   "execution_count": null,
   "metadata": {
    "collapsed": true,
    "run_control": {
     "read_only": false
    }
   },
   "outputs": [],
   "source": []
  },
  {
   "cell_type": "code",
   "execution_count": null,
   "metadata": {
    "collapsed": true,
    "run_control": {
     "read_only": false
    }
   },
   "outputs": [],
   "source": []
  }
 ],
 "metadata": {
  "kernelspec": {
   "display_name": "Python 3",
   "language": "python",
   "name": "python3"
  },
  "language_info": {
   "codemirror_mode": {
    "name": "ipython",
    "version": 3
   },
   "file_extension": ".py",
   "mimetype": "text/x-python",
   "name": "python",
   "nbconvert_exporter": "python",
   "pygments_lexer": "ipython3",
   "version": "3.4.3+"
  },
  "widgets": {
   "state": {
    "2c1792eccd4b428386a5237df7f2ab68": {
     "views": []
    },
    "64699b823a734e7b9236cc554fa72b02": {
     "views": [
      {
       "cell": {
        "cell_type": "code",
        "execution_count": 4,
        "metadata": {
         "collapsed": false,
         "run_control": {
          "read_only": false
         },
         "trusted": true
        },
        "outputs": [
         {
          "data": {
           "image/png": "iVBORw0KGgoAAAANSUhEUgAABH0AAAFwCAYAAAAlsAfNAAAABHNCSVQICAgIfAhkiAAAAAlwSFlz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\nAABghIQ+AAAAACP0/wNtO32ercQXDgAAAABJRU5ErkJggg==\n",
           "text/plain": "<matplotlib.figure.Figure at 0x7fe2ea5957f0>"
          },
          "metadata": {},
          "output_type": "display_data"
         }
        ],
        "source": "from ipywidgets import interact\nNw = IntSlider(value=16, min=1, max=64, step=1, continuous_update=False, description='N:')\nkw = IntSlider(value=1, min=1, max=32, step=1, continuous_update=False, description='width:')\nd2 = interactive(dfscos, N=Nw, k=kw)\ndisplay(d2)"
       },
       "cell_index": 4,
       "root": true
      }
     ]
    },
    "6a3c0cc6d42e4bc8826256f40b6ea5d7": {
     "views": []
    },
    "70be102b05724522a7a6daf9fffa6510": {
     "views": []
    },
    "750a1800e7c74ef8a27f2f8c5f7ef5b4": {
     "views": []
    },
    "941e155482aa4a64bd271963721697a7": {
     "views": []
    },
    "c6f8e8dba8744f09a817bcecda6465cf": {
     "views": []
    },
    "cfb306c6b397436b9eb13beb80ea91db": {
     "views": []
    },
    "f33ad828d78240b198adde6d0dbae1cb": {
     "views": []
    },
    "f7e9ca9fcfb54297be6a69e7580af8f0": {
     "views": []
    }
   },
   "version": "1.1.0"
  }
 },
 "nbformat": 4,
 "nbformat_minor": 0
}
