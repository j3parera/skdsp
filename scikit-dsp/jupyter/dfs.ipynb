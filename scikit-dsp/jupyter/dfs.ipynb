{
 "cells": [
  {
   "cell_type": "code",
   "execution_count": 1,
   "metadata": {
    "collapsed": false,
    "run_control": {
     "read_only": false
    }
   },
   "outputs": [],
   "source": [
    "import matplotlib.pyplot as plt\n",
    "%matplotlib inline\n",
    "import skdsp.signal.discrete as ds\n",
    "import numpy as np\n",
    "import sympy as sp\n",
    "import scipy.fftpack as fftp\n",
    "from ipywidgets import interactive, IntSlider, FloatSlider, Checkbox, ToggleButton, ToggleButtons, HBox, VBox\n",
    "from IPython.display import display"
   ]
  },
  {
   "cell_type": "code",
   "execution_count": 14,
   "metadata": {
    "code_folding": [],
    "collapsed": false,
    "run_control": {
     "read_only": false
    }
   },
   "outputs": [],
   "source": [
    "Nw = IntSlider(value=16, min=2, max=32, step=1, continuous_update=False, description='N:')\n",
    "kw = IntSlider(value=1, min=0, max=32, step=1, continuous_update=False, description='width:')\n",
    "ow = FloatSlider(value=0, min=-1.0, max=1.0, step=0.1, continuous_update=False, description='offset:')\n",
    "sw = IntSlider(value=0, min=-64, max=64, step=1, continuous_update=False, description='shift:')\n",
    "cw = ToggleButton(value=True, description='DFS centrada')\n",
    "ww = ToggleButtons(options=['Tren de deltas', 'Diente de sierra', 'Cuadrada'], description='Señal:')\n",
    "def dsfdemo(signal='Tren de deltas', N=8, width=0, offset=0, shift=0, center=True):\n",
    "    if width > N and signal != 'Tren de deltas':\n",
    "        raise ValueError('width debe ser menor que N')\n",
    "    if signal == 'Tren de deltas':\n",
    "        s = 0.5 + 0.5*(ds.Square(N, 1))\n",
    "        kw.disabled = True\n",
    "    elif signal == 'Diente de sierra':\n",
    "        s = ds.Sawtooth(N, width)\n",
    "        kw.disabled = False\n",
    "    elif signal == 'Cuadrada':\n",
    "        s = ds.Square(N, width)\n",
    "        kw.disabled = False\n",
    "    s = offset + (s >> shift)\n",
    "    npts = 32\n",
    "    n = np.arange(-npts, npts+1)\n",
    "    plt.figure(figsize=(20, 7))\n",
    "    plt.subplot(2, 2, (1, 2))\n",
    "    plt.stem(n, s[-npts:npts+1], markerfmt='bo', linefmt='b-', basefmt='k-')\n",
    "    plt.axis([-npts-0.5, npts+0.5, -2.1, 2.1])\n",
    "    plt.axvline(0, color='k')\n",
    "    plt.axhline(0, color='k')\n",
    "    plt.grid(True)\n",
    "    X = s.dfs(N, force=True)\n",
    "    X.real[np.isclose(np.real(X), 0)] = 0\n",
    "    X.imag[np.isclose(np.imag(X), 0)] = 0\n",
    "    if center:\n",
    "        X = fftp.fftshift(X)\n",
    "        kidx = np.arange(-int(N/2), int((N-1)/2)+1)\n",
    "    else:\n",
    "        kidx = np.arange(0, N)\n",
    "    plt.subplot(2, 2, 3)\n",
    "    mX = np.abs(X)\n",
    "    plt.stem(kidx, mX)\n",
    "    min_ = min(0, np.min(mX))\n",
    "    max_ = np.max(mX)\n",
    "    dr = min(1.0, (max_ - min_))\n",
    "    plt.axis([kidx[0]-0.5, kidx[-1]+0.5, min_-0.15*dr, max_+0.15*dr])\n",
    "    plt.axhline(0, color='k')\n",
    "    plt.axvline(0, color='k')\n",
    "    plt.grid(True)\n",
    "    plt.subplot(2, 2, 4)\n",
    "    plt.stem(kidx, np.angle(X))\n",
    "    plt.axis([kidx[0]-0.5, kidx[-1]+0.5, -np.pi-0.5, np.pi+0.5])\n",
    "    plt.axhline(0, color='k')\n",
    "    plt.axvline(0, color='k')\n",
    "    plt.grid(True)\n",
    "w = interactive(dsfdemo, signal=ww, N=Nw, width=kw, offset=ow, shift=sw, center=cw)"
   ]
  },
  {
   "cell_type": "code",
   "execution_count": 15,
   "metadata": {
    "collapsed": false,
    "run_control": {
     "read_only": false
    },
    "scrolled": true
   },
   "outputs": [
    {
     "data": {
      "image/png": "[encoded data removed]",
      "text/plain": [
       "<matplotlib.figure.Figure at 0x7f56af45aac8>"
      ]
     },
     "metadata": {},
     "output_type": "display_data"
    }
   ],
   "source": [
    "display(HBox(children=[VBox(children=[ww, Nw, kw]), VBox(children=[cw, ow, sw])]))"
   ]
  },
  {
   "cell_type": "code",
   "execution_count": null,
   "metadata": {
    "collapsed": true
   },
   "outputs": [],
   "source": []
  }
 ],
 "metadata": {
  "kernelspec": {
   "display_name": "Python 3",
   "language": "python",
   "name": "python3"
  },
  "language_info": {
   "codemirror_mode": {
    "name": "ipython",
    "version": 3
   },
   "file_extension": ".py",
   "mimetype": "text/x-python",
   "name": "python",
   "nbconvert_exporter": "python",
   "pygments_lexer": "ipython3",
   "version": "3.4.3+"
  },
  "widgets": {
   "state": {
    "0070bdcbee5343caaf4a53b9669ddfc3": {
     "views": []
    },
    "01fd923627ff491f8370942261b0a3b0": {
     "views": []
    },
    "02064ee3676947009417fcbc8516ab8f": {
     "views": []
    },
    "0214e3d068a8496f81b3f63849ee37a2": {
     "views": []
    },
    "024acf41591443baac8801a2adb71d1e": {
     "views": []
    },
    "027c5e78e53b4029a1ee6e56d43626f6": {
     "views": []
    },
    "02d10619e2434de6af4fd68711c33d6d": {
     "views": []
    },
    "036fc2c5e9a4461aaf8c10f08d7d2765": {
     "views": []
    },
    "06ae4b26d2214a718321c42821764a01": {
     "views": []
    },
    "07a5f155c41744038690288809629270": {
     "views": []
    },
    "07ec17ab053d4aa89385f92d24311318": {
     "views": []
    },
    "08c60e554dd543e09fe0806b57d31cc9": {
     "views": []
    },
    "09d10873126a4ee3834c221f103459a7": {
     "views": []
    },
    "0a07a9df1c864678be6f5460ad480917": {
     "views": []
    },
    "0c84d966feb3453c87129d76e15ff5e3": {
     "views": []
    },
    "0c999aaa875c4b4f959f01f5617a2ca2": {
     "views": []
    },
    "0e1f4ea51e2c4092a10cdd4c4514d85b": {
     "views": []
    },
    "0e72b549a3be42339b25cce54d75debe": {
     "views": []
    },
    "0e9ccccd5b50400cbb78c99bdfdddb9f": {
     "views": []
    },
    "0f5f87e5f8bc4859b458215667787bb8": {
     "views": []
    },
    "10fe260527e9449bafef5ae7ac714414": {
     "views": []
    },
    "1187e6f40c58483ea704503a7170b302": {
     "views": []
    },
    "1276a1758d4e4a159b3cd9f986168006": {
     "views": []
    },
    "12c1615dc40845fe9874dd356da8e993": {
     "views": []
    },
    "12cc9b4935aa4148a28564c500ef229f": {
     "views": []
    },
    "12e42802b14b46e88746f1823e52e518": {
     "views": []
    },
    "141e22cc19e84e5cbc69edd9efb19e7e": {
     "views": []
    },
    "14bfa53f4ee14c788d6c26ad0d09204d": {
     "views": []
    },
    "15a1e76f49044fb9b64b2690ad6e34d1": {
     "views": []
    },
    "16b620ccdcb845d9ac924965336b9dde": {
     "views": []
    },
    "171ea7bb275c4526bef8a47f6e9436ba": {
     "views": []
    },
    "174c7adc65ad497ca6fcdef352c0ef23": {
     "views": []
    },
    "1828b9c1b93a4e3e9ff5d78756eb04d9": {
     "views": []
    },
    "1a1b17b8581b48efad78ad144d9f2986": {
     "views": []
    },
    "1a757050ab5d4dae885ac6b6705dd520": {
     "views": []
    },
    "1b3270071a4d4feab5f74c276fe3b85b": {
     "views": []
    },
    "1b50d3fa867d41e9a9f40482b8b6bd50": {
     "views": []
    },
    "1ba1a314529d4468a3f59f4de7b16775": {
     "views": []
    },
    "1cb3502862af4520852511184b664680": {
     "views": []
    },
    "1cdbdab1cc0943e592ddbef08a552b86": {
     "views": []
    },
    "1f46c1c7bc774fd89932a1f479d1ee48": {
     "views": []
    },
    "2026cd5380c9448d9de1749ba074320a": {
     "views": []
    },
    "20af046d1f1e4407bd45999f26c4da84": {
     "views": []
    },
    "21006c10ae6a4cb991557c60f3af80ae": {
     "views": []
    },
    "2368719768f94da584cfd6aadfb7b855": {
     "views": []
    },
    "2396dc9d32134a0dbeb49d72e20eb81d": {
     "views": []
    },
    "23bdb37aa30f44a191c9c6ec4511b353": {
     "views": []
    },
    "242696cb6df24dd995e56344a468e4d6": {
     "views": []
    },
    "24e1819a03e74eea849248f1e7c1ae59": {
     "views": []
    },
    "263810e312d74a97abd1a02c715ce162": {
     "views": []
    },
    "26486156640447209a732048de9c0300": {
     "views": []
    },
    "26624c7e8225415b8dd0e88e90dbf0d9": {
     "views": []
    },
    "2738f347949447189650244c51a51195": {
     "views": []
    },
    "288eec1d08dc417d8d616b5d34fef1cb": {
     "views": []
    },
    "28db902dc42a4c69b87a550b28f45b66": {
     "views": []
    },
    "296b0a1322d84073bfbafd8ae07813fe": {
     "views": []
    },
    "2a03c921fef14183aa29800d3e8faaed": {
     "views": []
    },
    "2acb30dbdf7747408d9b85678d89c2c1": {
     "views": []
    },
    "2b587daf6a42458f8c883ffb7e6f4362": {
     "views": []
    },
    "2beb431937c4465bbb5abf5a488e0a6d": {
     "views": []
    },
    "2def871beb0a4bdf861ec5c20ff4beec": {
     "views": []
    },
    "2e2c4b8e66d94689b1a2d5c4c3171f7b": {
     "views": []
    },
    "2f5b666925e1418c9bb6b027bdf9e161": {
     "views": []
    },
    "30b0cea6e4a8424b8cae081b9b84c1e3": {
     "views": []
    },
    "3152b5f9e2c5467abc904056de0d6df5": {
     "views": []
    },
    "324496972f014debb922ce3e1a28ed68": {
     "views": []
    },
    "32cd2c48b2444dcd8c318d7b45f5ebf7": {
     "views": []
    },
    "33223ba7cb3b43da97a8295a01fbc3bd": {
     "views": []
    },
    "34f83fbf434f421ebab5f5022a3105f9": {
     "views": []
    },
    "3670bb1f4bba4a85915f2631ccd62da8": {
     "views": []
    },
    "36fdf5c1387c4a178d771e33723d4f3f": {
     "views": []
    },
    "38360c33c9a14646941e3c1c70ea4a89": {
     "views": []
    },
    "3895591435c742d79b584c8685cb3734": {
     "views": []
    },
    "38b4d7f93d4e4736955b2d0de3aec78e": {
     "views": []
    },
    "396431953b4c43f98599c50e9e1017c5": {
     "views": []
    },
    "39d6342efbbb46e6ad419bea6c94fd9c": {
     "views": []
    },
    "3a7933222e254ad1b24942b128f8e923": {
     "views": []
    },
    "3a864bb8e6db4ed49223f7f74a87c702": {
     "views": []
    },
    "3b401010f9024eb3a4fb77f4e84b4116": {
     "views": []
    },
    "3c0b936f1cc546ea85350f5e188f14f2": {
     "views": []
    },
    "3c264d3524334ec890e825d252acab8d": {
     "views": []
    },
    "3ef7c1677dca416a8aa0cae7167a9bd6": {
     "views": []
    },
    "3f23d2e2c508404389091be89a5d7f5b": {
     "views": []
    },
    "3f56314e0e0c4dceb60866e6884f9d29": {
     "views": []
    },
    "406c1e5d30c242979a26ecd4361388c5": {
     "views": []
    },
    "4086798f4a25451bbd53038a53dab706": {
     "views": []
    },
    "409bfc1423294e12a958ed2da2a8e063": {
     "views": []
    },
    "41e03433c32647e99e8459021280f11f": {
     "views": []
    },
    "41f3fe570da94adb9f0aea4c9dc944b4": {
     "views": []
    },
    "42200996422d4d3a83f8b13721ef60e5": {
     "views": []
    },
    "426cba1976264e40974b124138502178": {
     "views": []
    },
    "429b08f287c44007a4b29134486afcbb": {
     "views": []
    },
    "435d43dbf0ff48ffb92b234052903c79": {
     "views": []
    },
    "4437f33fe0cb49d8b2ac9ca52047945f": {
     "views": []
    },
    "444f637a70ff45faa444073568040e9c": {
     "views": []
    },
    "445aebb65ad549c588f2df33501ef614": {
     "views": []
    },
    "4601e83ee7174b5d83693c6b6b26b3c7": {
     "views": []
    },
    "46beb83d1f604224b6bac308c402c2f3": {
     "views": []
    },
    "473b78c8b509471c9e4d619b4cf40e9c": {
     "views": []
    },
    "47437202f16247979da5be93834c96e7": {
     "views": []
    },
    "477e6ab8ff0d41e28f9eee4d2fadcd9b": {
     "views": []
    },
    "4834e0176bd943139ab6de0825edc5a5": {
     "views": []
    },
    "4b1c7dfe98f14e94bf7e398687be78cb": {
     "views": []
    },
    "4b8697532f4f4b59bdf656c3e3d4f5e5": {
     "views": []
    },
    "4ce8b80a9d004db684aac6c5572a5d5b": {
     "views": []
    },
    "4dd22e748a7440bf8b05b998145114e4": {
     "views": []
    },
    "4ecd1bc3e3d840e9b4ff283b7967dc1e": {
     "views": []
    },
    "4f3b383574fb4353ac3f88c5207be04a": {
     "views": []
    },
    "50aa28724f8a4eef93a1ac658a9c8c22": {
     "views": []
    },
    "54ffebb623484b50b92e95bf9ff0bfac": {
     "views": []
    },
    "561e92ce811d497d893ec1aff51d7612": {
     "views": []
    },
    "566e080d96cd474ca2b2bbe704ecb1f7": {
     "views": []
    },
    "57a0a13b40e84b26b83483c6768444e0": {
     "views": []
    },
    "57fa4a151da648d7a7c8bb6cab8e759e": {
     "views": []
    },
    "590cdea536fc4c93a0b7d2a558c07b08": {
     "views": []
    },
    "59a94f3794824f908cb22aa24b2e7954": {
     "views": []
    },
    "59dbb898d5a0443cb8f5f2c44ac0448f": {
     "views": []
    },
    "5a1016dbabd244ec89425eefecaa24b7": {
     "views": []
    },
    "5a330ff6a18d484b8d20e60b8914e7c4": {
     "views": []
    },
    "5a75159cb9634342b26a196c5643cac8": {
     "views": []
    },
    "5a80f8f70ff64133a71bbe75f62474d2": {
     "views": []
    },
    "5bc0fc694131410aa049a6f62df886ad": {
     "views": []
    },
    "5bd47a75f0794dc491ea471156ffe2f4": {
     "views": []
    },
    "5c516e475a044ba78e4f8e090a46f7cb": {
     "views": []
    },
    "5cbe3098158a4df4bac9ad0e348c4f4c": {
     "views": []
    },
    "5d04e80b1a3b4a899e73146dabfda9c3": {
     "views": []
    },
    "5da30dd2595a4e7abc4471e921cde62a": {
     "views": []
    },
    "5e64a4d80d224e8fad5c2075335e6ad4": {
     "views": []
    },
    "5f6e91bc94334074b3e35120c9e9ab58": {
     "views": []
    },
    "6004d234e6f44a728d0b34a1b227fd93": {
     "views": []
    },
    "6036f635ffd647caadf8f13a3da43ba7": {
     "views": []
    },
    "605f434505204b34b7433c6337219190": {
     "views": []
    },
    "60c5e28e08874bce84253bad4ad7f565": {
     "views": []
    },
    "60e6ab684800427fae217c30e209957c": {
     "views": []
    },
    "61239fc8f85a4c8487b35a4f216b0eb7": {
     "views": []
    },
    "61c3c0d3c5d1456788822947a41ceaae": {
     "views": []
    },
    "63975d6905a946828e4c9d812426b480": {
     "views": []
    },
    "63c46feb137b4b2a8d28adf93596b28f": {
     "views": []
    },
    "646090a8f9064df9b39d0b2cfcfc1635": {
     "views": []
    },
    "64ba2d1bb1bf4fba92bcdc35de746f5c": {
     "views": []
    },
    "65bd24a31db6422a8ddac33f100f09a1": {
     "views": []
    },
    "65de87fbf9b3416e96b3e06e54fbdd37": {
     "views": []
    },
    "66e4b348820b4a7e9a3391c6b8c4b82c": {
     "views": []
    },
    "66e7ac1641b448eda5a706b07c099c5c": {
     "views": []
    },
    "673b303333f24481b57ab2b38a176341": {
     "views": []
    },
    "6867d03a88b64b40831b6bf8cd6f418e": {
     "views": []
    },
    "68a4783e8ff845dd8eabd83d09808b92": {
     "views": []
    },
    "68f33b727ade46a2822db90670112a56": {
     "views": []
    },
    "69e1bf0686184e5cbf75eca022ca4e3c": {
     "views": []
    },
    "6b2a810a455e4752b12a15470ecf976a": {
     "views": []
    },
    "6ba00a77206d4930aa1025105c478b61": {
     "views": []
    },
    "6bab48c943f1488abbd79430e55d827d": {
     "views": []
    },
    "6c91e3ba44584ca99a2690094ff517d9": {
     "views": []
    },
    "6cc4ab32b3a14e119eae0787fbf1151e": {
     "views": []
    },
    "6d6bd600ebcc4805ae1c530e77a29255": {
     "views": []
    },
    "6e43c57645a4416ca5df0ded982dde44": {
     "views": []
    },
    "6eaf8460a7aa491f9432a15bdf25ed5c": {
     "views": []
    },
    "6f0ebde7349848c1b89d2940f574cbc9": {
     "views": []
    },
    "6f62cd7a22354db3ad108af4e8f1297d": {
     "views": []
    },
    "6fe156e846c74d6394d187774080bcc2": {
     "views": []
    },
    "6fff28453eb541c293136ac11db65b09": {
     "views": []
    },
    "710b351d37af48c99b0ba33138b4434d": {
     "views": []
    },
    "713c01afd2a645e992159d263b4ac5c6": {
     "views": []
    },
    "7231e8c0a187433fa1c61c1e9d50f797": {
     "views": []
    },
    "72bcc82ea72644a099b75ab1384ccdaa": {
     "views": []
    },
    "732032d5423547f6a7268a853b6cb257": {
     "views": []
    },
    "732986ce834441e3ba89a4c6444dea45": {
     "views": []
    },
    "73a21687188d4132849f1bbff36734d3": {
     "views": []
    },
    "74f4dc509e57455dbae1d9ff4e97c442": {
     "views": []
    },
    "751d933b3847437f8155f63bea6dd432": {
     "views": []
    },
    "76f08768b00140bc8cef6fb71a4cf259": {
     "views": []
    },
    "7795eb6cbd5a48fa804797f108f92d2e": {
     "views": []
    },
    "77e0e0b4f14649c7bb0e4fb501a9f5f6": {
     "views": []
    },
    "7883814281744949b18db8348070ad8c": {
     "views": []
    },
    "7938875ec6074151bf27cabc297591cf": {
     "views": []
    },
    "7998f8d8e3c240738de53887a319b134": {
     "views": []
    },
    "7a9a07d4da27406a93532b44c76d64cf": {
     "views": []
    },
    "7b512cf5a3b040e29f91ce6db235e906": {
     "views": []
    },
    "7ca56494a7c64e68bb65e1b245780ac9": {
     "views": []
    },
    "7d1e6646ec3345878e59efbe2134b088": {
     "views": []
    },
    "7e3e3dced45f4fada7f0d77462ec1440": {
     "views": []
    },
    "7e9a90d1415240e98f5e31f16482a237": {
     "views": []
    },
    "7f78a654394148c6ae43e761a1d7c8e6": {
     "views": []
    },
    "80718b028cbe40af8863bcc00c016d3c": {
     "views": []
    },
    "80a37112fee140be8525c5bcf7f82dab": {
     "views": []
    },
    "828c2fd8b9ce4edeb37c926e40705cf1": {
     "views": []
    },
    "833c9ec0aca648cf9d9ab0a7ca7eca89": {
     "views": []
    },
    "83b8bcfcfc5e417c85fcc57f58684255": {
     "views": []
    },
    "850b41723d4c48fb9348c9da454a535d": {
     "views": []
    },
    "859d231a337946cbacc7c2f47fc16e91": {
     "views": []
    },
    "85b47bf18a464efeb3768232be8ee245": {
     "views": []
    },
    "860c6cf972434d7588a8078d14cb5dff": {
     "views": []
    },
    "878a95c112234caaa6903832b5fb7b09": {
     "views": []
    },
    "880f502f84574803b2178697a0dfd405": {
     "views": []
    },
    "890f3c1bc0cb4313821c7edd42b6e073": {
     "views": []
    },
    "89b9413e90aa449f84df81c6e4f10839": {
     "views": []
    },
    "89fa0f2ce59144318b332b7dc959659d": {
     "views": []
    },
    "8a600e6fa61c4d90b5a3d53a511ce35a": {
     "views": []
    },
    "8ab769110db04a638390045eced6207a": {
     "views": []
    },
    "8acffc50ddf343908706a459be37ee2a": {
     "views": []
    },
    "8b0f39b7a59a45d0a2e92aac8a7a0a60": {
     "views": []
    },
    "8c854d692e69445287100a80f218cade": {
     "views": []
    },
    "8cff7e5c648b4df6829369b4370d1215": {
     "views": []
    },
    "8ef60b2ea65f45439c4fda583832d619": {
     "views": []
    },
    "8f8a24ce44a9470ebd07b93da4876455": {
     "views": []
    },
    "907c8ae04ce84ad39eeeb3534ddefd1b": {
     "views": []
    },
    "90aa9797a4bf4a5fb16f60ff39e62f2d": {
     "views": []
    },
    "9107855b2e474957902c97d1a4c4760a": {
     "views": []
    },
    "91a9dfebd8ff40b8b313d1d3e0cd77bb": {
     "views": []
    },
    "93b94ce3106048f6b9d8485161d8835d": {
     "views": []
    },
    "93ea6a282d5e42c592509ab7c2a29e7c": {
     "views": []
    },
    "94f4e90ad54146bd8165923422d1f143": {
     "views": []
    },
    "950f3552d24c41e49685bd2d90090c6e": {
     "views": []
    },
    "95321a3f36ef44f0acac89ad42072885": {
     "views": []
    },
    "95ee46d955ce4b14bd648c8de5ff4aee": {
     "views": []
    },
    "964fded15cb54e479d518894fede0ae6": {
     "views": []
    },
    "96b7eeb5f46245f3b04b42b6a5d535fa": {
     "views": []
    },
    "9784bdb97c5c4e668029471c72067084": {
     "views": []
    },
    "97c507dc2b3d41f788c830ba69a085b3": {
     "views": []
    },
    "97d4b57a54584633a9897bb450da5805": {
     "views": []
    },
    "985cb414ad124434a0c6441be4033039": {
     "views": []
    },
    "99498c1810164119b3cd6e3b747c0b70": {
     "views": []
    },
    "998b37f6399044519d526102108c9e4d": {
     "views": []
    },
    "998b4dbb6a4145ba9427aecef8c39e9c": {
     "views": []
    },
    "9a0d09976780464d876e31b0e16af766": {
     "views": []
    },
    "9adaf8fed207434aad8429e86b25b2a0": {
     "views": []
    },
    "9caadf0735784962ba1c3422e9854b99": {
     "views": []
    },
    "9d793acf6a4e4f16806d1c49ac61aa05": {
     "views": []
    },
    "9d8c670e812f4d979c670b3dcc61470a": {
     "views": []
    },
    "9ec346768df342ea97b75d501b537d8f": {
     "views": []
    },
    "9f6cc525e38c4349a6385a1e2163fa1c": {
     "views": []
    },
    "a15405699d0641129337b2274d3df5cb": {
     "views": []
    },
    "a16ad96d208546e9957ba67c4faf4d04": {
     "views": []
    },
    "a2041ff68d6547548ffce3c68129982b": {
     "views": []
    },
    "a386d9c31fdf48acb3d7d06a3e1e5c5f": {
     "views": []
    },
    "a4f25d58af6f48c1a5ee048a725f1983": {
     "views": []
    },
    "a4ff7aacccb7400db6efbd01d684bfd2": {
     "views": []
    },
    "a518d55d307e4a1f85fb4a73abe634eb": {
     "views": []
    },
    "a5220f1253694a4392c66daa835eaf39": {
     "views": []
    },
    "a5a4e1edd3b54865922a96bd433fc9a1": {
     "views": []
    },
    "a6d728e3ac814536bea9743fd65b27e3": {
     "views": []
    },
    "a6fed0c1246f4913ab33340b760da2ce": {
     "views": []
    },
    "a72d1adbbe09479999ec916ebd9a7452": {
     "views": []
    },
    "a90dac51ce3c4feb8deb779d65bef75e": {
     "views": []
    },
    "a928d6d62c2844a89703ad8f2d161d8c": {
     "views": []
    },
    "a9c64641c08247a38f1f73229ab4b0dc": {
     "views": []
    },
    "aa822a5779ce40d68e67b0478279e450": {
     "views": []
    },
    "aa9ee404f2c747998c4ccd97f2eb0b01": {
     "views": []
    },
    "aab81192bb974901b2ec09005c9cac66": {
     "views": []
    },
    "aad5ff2c65dd4db0a37ee921dc61934b": {
     "views": []
    },
    "abf0d7d59bcd4c439f7337c0af894f8e": {
     "views": []
    },
    "ae551b6729ec4877ad99aedaa02b257b": {
     "views": []
    },
    "ae81213042944a26b0268d6cf783ac44": {
     "views": []
    },
    "aeb9754700b14a63acfd64e29fac2472": {
     "views": []
    },
    "af03121658574de591803f9ea245255a": {
     "views": []
    },
    "af756a0a25e94851b59245bb1eb12ac2": {
     "views": []
    },
    "afefcc11014a42e2ae4d041d916f8adf": {
     "views": []
    },
    "b003ea2dda0d4270a994599d36c96e7c": {
     "views": []
    },
    "b0f47d94a0794b3abd108659a80359c5": {
     "views": [
      {
       "cell": {
        "cell_type": "code",
        "execution_count": 15,
        "metadata": {
         "collapsed": false,
         "run_control": {
          "read_only": false
         },
         "scrolled": true,
         "trusted": true
        },
        "outputs": [
         {
          "data": {
           "image/png": "iVBORw0KGgoAAAANSUhEUgAABH0AAAGjCAYAAACxGmlMAAAABHNCSVQICAgIfAhkiAAAAAlwSFlz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\n",
           "text/plain": "<matplotlib.figure.Figure at 0x7f56af45aac8>"
          },
          "metadata": {},
          "output_type": "display_data"
         }
        ],
        "source": "display(HBox(children=[VBox(children=[ww, Nw, kw]), VBox(children=[cw, ow, sw])]))"
       },
       "cell_index": 2,
       "root": true
      }
     ]
    },
    "b0ff139f53bd49d28976fa5dd66e5355": {
     "views": []
    },
    "b16cc05962ea415f97e4a076c412e42b": {
     "views": []
    },
    "b1ae775f395e4599b1dca640e060ed1d": {
     "views": []
    },
    "b2f732dea28e40ecb0f771f1ec63a6ba": {
     "views": []
    },
    "b35c65cbf68c42f9a55f71a0a1beac07": {
     "views": []
    },
    "b44c32bdd69b4665ab112f681bc2ea42": {
     "views": []
    },
    "b5fee0e0b17f46bb91a1c101c30b96a8": {
     "views": []
    },
    "b6cca95be987418bbdab45197b2b0b8c": {
     "views": []
    },
    "b7c1991d79654ecc9847d598bb9434eb": {
     "views": []
    },
    "b84bb7fa1052400d9c3306585d84b7f9": {
     "views": []
    },
    "b8c78497e5864865a5821f352eb5b4fe": {
     "views": []
    },
    "b91f81d265c94c58a32d4f38c20dd909": {
     "views": []
    },
    "b933fc9c268847df9cc41535227299d9": {
     "views": []
    },
    "ba428c549bfa418eaea2c2b61edefb7a": {
     "views": []
    },
    "ba98b034095c4d2ca6e63ce1aa4de80e": {
     "views": []
    },
    "bb15a2bfa18b4cd48b2fb76758f37505": {
     "views": []
    },
    "bb96a4040e1a4a4690263487d4950bb7": {
     "views": []
    },
    "bcada55fbd2e480693788fd344d553b2": {
     "views": []
    },
    "bcf55c92528542b1911f977306e21c32": {
     "views": []
    },
    "bd0e6579ccdc44a6ac0ac6241f0c7387": {
     "views": []
    },
    "bf362331a4d64d2799185127d9e4d609": {
     "views": []
    },
    "bf37cb36f3914aee9fbbfbf62fa2fd16": {
     "views": []
    },
    "bf836671b2d54aed96f1185b21160334": {
     "views": []
    },
    "bf9bcb2ca11d410082c117b12a1ddfd3": {
     "views": []
    },
    "bfe70630b00c4a4389896452694047d9": {
     "views": []
    },
    "bff693f6950f40f69034bb22d1fd7db4": {
     "views": []
    },
    "c0b06390af0d4e458b9612ad4e8c94af": {
     "views": []
    },
    "c2bac4dad1a24eb89c54f574a0dc7885": {
     "views": []
    },
    "c3c50991cc504f4e8263e8373eb0fd8e": {
     "views": []
    },
    "c3c8cad613c14408a33b4f85edab924e": {
     "views": []
    },
    "c415af3b2b5d49be81c11df10aea6b68": {
     "views": []
    },
    "c5b23c1f309a4a4683a00f83db75e807": {
     "views": []
    },
    "c5b7f67f0f7946aca21acc87ae79c289": {
     "views": []
    },
    "c66af85ea10b4fc383eebd0cdfe44a38": {
     "views": []
    },
    "c6a0c0cf1c8f404ead7b04ab128641e2": {
     "views": []
    },
    "c70dd0879a844f43a2fcc2a3342a0206": {
     "views": []
    },
    "c794420efa454e19b92da7591edc0d4d": {
     "views": []
    },
    "c7e21941f9d44da2bbe9636a9af6cdc8": {
     "views": []
    },
    "c7fbace478f0478280d1973e842d28f4": {
     "views": []
    },
    "c91ddede65b84a8c92564c932bfa0a43": {
     "views": []
    },
    "c93e84ff29a34d008b2966e22bfbc189": {
     "views": []
    },
    "c9429868c1834ffb9c6432a0af5b732b": {
     "views": []
    },
    "c96aab78109c40c898e54dc9f52a7d33": {
     "views": []
    },
    "ca73bd3ad68a4d78b65e281ecc035a8f": {
     "views": []
    },
    "ca916951eb4246f0b9df2d1107c15c0d": {
     "views": []
    },
    "cb393d44f0e94c9b99369ad73a422647": {
     "views": []
    },
    "cbec7815e04e4940bad9f045b37e181b": {
     "views": []
    },
    "cc1dadc363dc4c868f78f186c539318b": {
     "views": []
    },
    "ccd2a6a2d378451787a9f9d6e356e2d7": {
     "views": []
    },
    "cdc6f0e8caf8489ab13663a859dc7053": {
     "views": []
    },
    "cddabfa82c0a4faf9f55091dda13c032": {
     "views": []
    },
    "ce9e99f128aa48eebdfb5e8a270b1a7e": {
     "views": []
    },
    "cebc89d1e1ae429db6f912f6189e06bd": {
     "views": []
    },
    "d022232ec5af43efa36e7c81fc65aeac": {
     "views": []
    },
    "d0f96fbb9d114d2e88e74f3a1170bc93": {
     "views": []
    },
    "d1b4fd0bf1b24195a59a330ef3a0ca46": {
     "views": []
    },
    "d208ccfdc2a549ecbc94613e949b290b": {
     "views": []
    },
    "d241d18b6fab4683bee472549c38984f": {
     "views": []
    },
    "d2a8fe1c2f25408aa4c21686297a126c": {
     "views": []
    },
    "d3a3ecd5c2044aab8b19d4bbd2d07626": {
     "views": []
    },
    "d4424ed849a64d3db594744f223007ba": {
     "views": []
    },
    "d504c2a9287c4f82a79e1491c0dc70f5": {
     "views": []
    },
    "d5d68dbf32af407eb47f8117f02b2a61": {
     "views": []
    },
    "d6d0fabc4f6f4d3f8d066b7279876e54": {
     "views": []
    },
    "d72bd071c66d424a8ad66c9cd0689b15": {
     "views": []
    },
    "d730b11aeb1040c48e9778beab04185d": {
     "views": []
    },
    "d84722a22be24188b18c62b64eca6f62": {
     "views": []
    },
    "d8dedb8ba35b4f25924c64524f53b05b": {
     "views": []
    },
    "d8f067c389f64353a3f1a15da4970e82": {
     "views": []
    },
    "d9e66e7d929a4a8187cc82de90f45639": {
     "views": []
    },
    "da528bfd7deb47fd860cae6971c9c097": {
     "views": []
    },
    "dad3d3c0c81941ebaaa5c08dca2f3d74": {
     "views": []
    },
    "dc6cfeaff18e4c68a4ffed62ca4439c7": {
     "views": []
    },
    "dcb1be8bb2c64e58a58c5da957b599e7": {
     "views": []
    },
    "e1217e5ff8804889aa0e33c25b85e1e0": {
     "views": []
    },
    "e205585dc5e2414aabf2902b8f1d09d4": {
     "views": []
    },
    "e2340c215fcf42719bbd6f20e51ed064": {
     "views": []
    },
    "e24e05b9b69f45e294904fd31948172b": {
     "views": []
    },
    "e38c41a426ca47d889c6b7b23bcf668f": {
     "views": []
    },
    "e3c1d4481c6545e38676ecd50cedd236": {
     "views": []
    },
    "e4281ebc16624323b67042f5d73924e2": {
     "views": []
    },
    "e4562fdb926a46b5895bd6d0c892cd79": {
     "views": []
    },
    "e4f525a733144c998986f597485eda79": {
     "views": []
    },
    "e4fb2277c2584de5b5142456098d3f27": {
     "views": []
    },
    "e54d944889314895b43896f330a09c3b": {
     "views": []
    },
    "e56d2fc0b06546928556cd53e08e2826": {
     "views": []
    },
    "e5e4cadc870f4bd2aae71329cc524d46": {
     "views": []
    },
    "e674ac3699c1433da0bd194d8503141f": {
     "views": []
    },
    "e706650d24eb4996b71926215536f222": {
     "views": []
    },
    "e7ce6dab47a94e80bbfd0fe2219d5dce": {
     "views": []
    },
    "e80da6402d224ccb837a98430fd2daf1": {
     "views": []
    },
    "e8a980318de5466c8b2c31c3c394861b": {
     "views": []
    },
    "e8f81e2bf789494ca1b4ef73225e6230": {
     "views": []
    },
    "e9ec4984d17e4b43a58cc54ba1462362": {
     "views": []
    },
    "ea292e163f6043e2be3e7c372bc59edc": {
     "views": []
    },
    "eaeee8f9022f400fa880c99fb52b1397": {
     "views": []
    },
    "ebf35e23bd4f46048834a237f8584c6b": {
     "views": []
    },
    "ec2c5f4c391f42f8871633384ce11b03": {
     "views": []
    },
    "ec86a647eda9489d891636b484803a17": {
     "views": []
    },
    "ed139f2d3759466dad31086747d9c2a3": {
     "views": []
    },
    "ed8af836849c4b759395a6ab17a61f23": {
     "views": []
    },
    "ee3bc67a39b04ac1991f3e37ed5b7f14": {
     "views": []
    },
    "ee9a615540e647b7ac87dc10a9e871ed": {
     "views": []
    },
    "eec93027b3b44aaca7d4bfc2e49cbd60": {
     "views": []
    },
    "eeeed47df4784155bdadc66db175ca85": {
     "views": []
    },
    "ef12ae93f8404293959dea149851c393": {
     "views": []
    },
    "ef5109dfad05443595be73e307c025ec": {
     "views": []
    },
    "efac1cd9172640f1a955898df0807c9c": {
     "views": []
    },
    "f0572bf58a734b1b8e9c15a9cc029d9a": {
     "views": []
    },
    "f12ba5c241734f4091588b0c65463b6a": {
     "views": []
    },
    "f1c3d2974d6d4dbd8cd985a226417946": {
     "views": []
    },
    "f320ab336cb8488e8b92d6ca13784570": {
     "views": []
    },
    "f33cad576f884f40be0e777027502584": {
     "views": []
    },
    "f3446f574354494ba3f7512ad8354b06": {
     "views": []
    },
    "f3b6e4dfc0a54b869606c8e9f7f00845": {
     "views": []
    },
    "f45e7f1ef60641daaee738b912523251": {
     "views": []
    },
    "f4791f5aa1ef49a493d363a33cbdfb91": {
     "views": []
    },
    "f4ab7371d29b46359e4f5c76dfe0e5ee": {
     "views": []
    },
    "f4f8918e1a404471bdd4949dadace473": {
     "views": []
    },
    "f51073939a6a4c84814147efec8b1cd0": {
     "views": []
    },
    "f8123349e6dd404ba34b8fa79b0892a5": {
     "views": []
    },
    "f89d23f075f14fe29e146d1261386069": {
     "views": []
    },
    "f9234ba03c294906b65d0fd350f29a46": {
     "views": []
    },
    "fd43e1425c034a7da85f890332822ceb": {
     "views": []
    },
    "fe98bd1b1d69463298b8f7fb3233f0d2": {
     "views": []
    },
    "ff1a4e7029e1494b8aa0903ee1fe0419": {
     "views": []
    },
    "ff934739f18c44f9b2c2d08459c11bf3": {
     "views": []
    }
   },
   "version": "1.1.0"
  }
 },
 "nbformat": 4,
 "nbformat_minor": 0
}
