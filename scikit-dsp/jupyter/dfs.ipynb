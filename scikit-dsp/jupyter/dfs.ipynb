{
 "cells": [
  {
   "cell_type": "code",
   "execution_count": 1,
   "metadata": {
    "collapsed": false,
    "run_control": {
     "read_only": false
    }
   },
   "outputs": [],
   "source": [
    "import matplotlib.pyplot as plt\n",
    "%matplotlib inline\n",
    "import skdsp.signal.discrete as ds\n",
    "import numpy as np\n",
    "import sympy as sp\n",
    "import scipy.fftpack as fftp\n",
    "from ipywidgets import interactive, IntSlider, FloatSlider, Checkbox, \\\n",
    "ToggleButton, ToggleButtons, HBox, VBox\n",
    "from IPython.display import display"
   ]
  },
  {
   "cell_type": "code",
   "execution_count": 2,
   "metadata": {
    "code_folding": [],
    "collapsed": false,
    "run_control": {
     "read_only": false
    }
   },
   "outputs": [],
   "source": [
    "Nw = IntSlider(value=16, min=2, max=32, step=1, continuous_update=False, description='N:')\n",
    "kw = IntSlider(value=1, min=0, max=32, step=1, continuous_update=False, description='width:')\n",
    "ow = FloatSlider(value=0, min=-1.0, max=1.0, step=0.1, continuous_update=False, description='offset:')\n",
    "sw = IntSlider(value=0, min=-64, max=64, step=1, continuous_update=False, description='shift:')\n",
    "cw = ToggleButton(value=True, description='DFS centrada')\n",
    "ww = ToggleButtons(options=['Tren de deltas', 'Diente de sierra', 'Cuadrada'], description='Señal:')\n",
    "def dsfdemo(signal='Tren de deltas', N=8, width=0, offset=0, shift=0, center=True):\n",
    "    if width > N:\n",
    "        raise ValueError('width debe ser menor que N')\n",
    "    if signal == 'Tren de deltas':\n",
    "        s = 0.5 + 0.5*ds.Square(N, 1)\n",
    "        kw.disabled = True\n",
    "    if signal == 'Diente de sierra':\n",
    "        s = ds.Sawtooth(N, width)\n",
    "        kw.disabled = False\n",
    "    elif signal == 'Cuadrada':\n",
    "        s = ds.Square(N, width)\n",
    "        kw.disabled = False\n",
    "    s = offset + (s >> shift)\n",
    "    npts = 32\n",
    "    n = np.arange(-npts, npts+1)\n",
    "    plt.figure(figsize=(20, 7))\n",
    "    plt.subplot(2, 2, (1, 2))\n",
    "    plt.stem(n, s[-npts:npts+1], markerfmt='bo', linefmt='b-', basefmt='k-')\n",
    "    plt.axis([-npts-0.5, npts+0.5, -2.1, 2.1])\n",
    "    plt.axvline(0, color='k')\n",
    "    plt.axhline(0, color='k')\n",
    "    plt.grid(True)\n",
    "    X = s.dfs(N, force=True)\n",
    "    X.real[np.isclose(np.real(X), 0)] = 0\n",
    "    X.imag[np.isclose(np.imag(X), 0)] = 0\n",
    "    if center:\n",
    "        X = fftp.fftshift(X)\n",
    "        kidx = np.arange(-int(N/2), int((N-1)/2)+1)\n",
    "    else:\n",
    "        kidx = np.arange(0, N)\n",
    "    plt.subplot(2, 2, 3)\n",
    "    mX = np.abs(X)\n",
    "    plt.stem(kidx, mX)\n",
    "    min_ = min(0, np.min(mX))\n",
    "    max_ = np.max(mX)\n",
    "    dr = min(1.0, (max_ - min_))\n",
    "    plt.axis([kidx[0]-0.5, kidx[-1]+0.5, min_-0.15*dr, max_+0.15*dr])\n",
    "    plt.axhline(0, color='k')\n",
    "    plt.axvline(0, color='k')\n",
    "    plt.grid(True)\n",
    "    plt.subplot(2, 2, 4)\n",
    "    plt.stem(kidx, np.angle(X))\n",
    "    plt.axis([kidx[0]-0.5, kidx[-1]+0.5, -np.pi-0.5, np.pi+0.5])\n",
    "    plt.axhline(0, color='k')\n",
    "    plt.axvline(0, color='k')\n",
    "    plt.grid(True)\n",
    "w = interactive(dsfdemo, signal=ww, N=Nw, width=kw, offset=ow, shift=sw, center=cw);"
   ]
  },
  {
   "cell_type": "code",
   "execution_count": 3,
   "metadata": {
    "collapsed": false,
    "run_control": {
     "read_only": false
    },
    "scrolled": false
   },
   "outputs": [],
   "source": [
    "display(HBox(children=[VBox(children=[ww, Nw, kw]), VBox(children=[cw, ow, sw])]))"
   ]
  },
  {
   "cell_type": "code",
   "execution_count": 77,
   "metadata": {
    "collapsed": false,
    "run_control": {
     "read_only": false
    }
   },
   "outputs": [],
   "source": [
    "def dfscos(N=16, k=1):\n",
    "    s = 0\n",
    "    for k0 in range(0, k):\n",
    "        s += ds.Exponential(sp.exp(sp.I*sp.S.Pi*2*k0/N))\n",
    "    s = s/N\n",
    "    n = np.arange(-50, 50)\n",
    "    X = s.dfs(N, force=True)\n",
    "    X.real[np.isclose(X.real, 0)] = 0\n",
    "    X.imag[np.isclose(X.imag, 0)] = 0\n",
    "    plt.figure(figsize=(20, 3))\n",
    "    plt.subplot(121)\n",
    "    plt.stem(n, np.real(s[n]), markerfmt='bo', linefmt='b-', basefmt='k-')\n",
    "    plt.stem(n, np.imag(s[n]), markerfmt='ro', linefmt='r-', basefmt='k-')\n",
    "    plt.axis([n[0]-0.5, n[-1]+0.5, -1.1, 1.1])\n",
    "    plt.grid(True)\n",
    "    plt.subplot(122)\n",
    "    k = np.arange(0, N)\n",
    "    plt.stem(k, np.abs(X))\n",
    "    plt.axis([-0.5, 15.5, -0.1, 1.1])\n",
    "    plt.axhline(0, color='k')\n",
    "    plt.axvline(0, color='k')\n",
    "    plt.grid(True)"
   ]
  },
  {
   "cell_type": "code",
   "execution_count": 79,
   "metadata": {
    "collapsed": false,
    "run_control": {
     "read_only": false
    }
   },
   "outputs": [
    {
     "data": {
      "image/png": "[encoded data removed]",
      "text/plain": [
       "<matplotlib.figure.Figure at 0x7f62ac7a45c0>"
      ]
     },
     "metadata": {},
     "output_type": "display_data"
    }
   ],
   "source": [
    "from ipywidgets import interact, Label, HBox, VBox\n",
    "Nw = IntSlider(value=16, min=1, max=16, step=1, continuous_update=False, description='N:')\n",
    "kw = IntSlider(value=1, min=1, max=16, step=1, continuous_update=False, description='width:')\n",
    "d2 = interactive(dfscos, N=Nw, k=kw)\n",
    "display(d2)"
   ]
  },
  {
   "cell_type": "code",
   "execution_count": null,
   "metadata": {
    "collapsed": true,
    "run_control": {
     "read_only": false
    }
   },
   "outputs": [],
   "source": []
  },
  {
   "cell_type": "code",
   "execution_count": null,
   "metadata": {
    "collapsed": true,
    "run_control": {
     "read_only": false
    }
   },
   "outputs": [],
   "source": []
  }
 ],
 "metadata": {
  "kernelspec": {
   "display_name": "Python 3",
   "language": "python",
   "name": "python3"
  },
  "language_info": {
   "codemirror_mode": {
    "name": "ipython",
    "version": 3
   },
   "file_extension": ".py",
   "mimetype": "text/x-python",
   "name": "python",
   "nbconvert_exporter": "python",
   "pygments_lexer": "ipython3",
   "version": "3.4.3+"
  },
  "widgets": {
   "state": {
    "0159fe6e1d9542b68febd5d45f953452": {
     "views": []
    },
    "026bd4091e864bb09a99cf46469bfe77": {
     "views": []
    },
    "02cca57eb9004d3b8971262a033080f2": {
     "views": []
    },
    "02e82a5b7d29469c8a57a5bbde0adf74": {
     "views": []
    },
    "03017307d11648458f6d3c4049c571ba": {
     "views": []
    },
    "0372e214827f4487b616358baa1c7396": {
     "views": []
    },
    "03a140506f8d42108f919f75b0744e1a": {
     "views": []
    },
    "03c6b9f0fd844aae9832c3aca6ff5973": {
     "views": []
    },
    "03e55f071a454de5a3544080d6a679aa": {
     "views": []
    },
    "04852cf79e1b47eb98af39f195e0d7d2": {
     "views": []
    },
    "0559071116e54014924708678ce10dec": {
     "views": []
    },
    "0583343a68b84ad3a3edaafab168314e": {
     "views": []
    },
    "060b40c0640945f1a4265516afd65cf2": {
     "views": []
    },
    "0634346731a24eddb04f4739ee7cb5fc": {
     "views": []
    },
    "06b17a187adf4e5b88123708e52a1206": {
     "views": []
    },
    "06d26dc61eb94213aa2a00d434f565ce": {
     "views": []
    },
    "06f65249fa4843aca56178a07ca3c9f8": {
     "views": []
    },
    "08701ef128944d52a31c3ba89314208d": {
     "views": []
    },
    "092fae50fab74e728ec18a086663953d": {
     "views": []
    },
    "0985f60fed1d4e8d8dd1ba17afd148e8": {
     "views": []
    },
    "09edfbd196e74dabbf3b352eda6a7197": {
     "views": []
    },
    "0a20e932ed6947c4b5db3a867b433782": {
     "views": []
    },
    "0a571657f56047ee9fee23cadf9d6906": {
     "views": []
    },
    "0ab7c5fce0e8412190a0e1fd858944a5": {
     "views": []
    },
    "0ac0ee884fee44499b2b31cba4635009": {
     "views": []
    },
    "0b965bba19f146989f8dc0388c0c229f": {
     "views": []
    },
    "0bda344234c444d1bf4257bfdb69e206": {
     "views": []
    },
    "0d0b6f0c68c44c08a3ac4bf9034acc7f": {
     "views": []
    },
    "0d864cf7513249acb681c320a0830886": {
     "views": []
    },
    "0dc59ccaf9224d829c6c4957e5425bdf": {
     "views": []
    },
    "0e013eafdff24c21a555cecc92bcd5e8": {
     "views": []
    },
    "0e753321dd804434a6bfaff78a168c1b": {
     "views": []
    },
    "0ed7837b246742179afa64dd832bb119": {
     "views": []
    },
    "0f3b5c05d0f1402f8594da93d19c9939": {
     "views": []
    },
    "0fd5e13ff809437ca4e74c6ba30c2f89": {
     "views": []
    },
    "10cfc05b9d3848cc903eb65592b4128e": {
     "views": []
    },
    "1226afbf85ed4d38b732e1e152f3e808": {
     "views": []
    },
    "1274ca4f2e264913819ff7f1136ebd4d": {
     "views": []
    },
    "13192b3745644762838932c938197a23": {
     "views": []
    },
    "1392f6e9604d4e009405ed55fbbeae0d": {
     "views": []
    },
    "139aa62415bf493ab7cccf571908df5f": {
     "views": []
    },
    "13b69248456e48e0a09db4950902c2e4": {
     "views": [
      {
       "cell": {
        "cell_type": "code",
        "execution_count": 79,
        "metadata": {
         "collapsed": false,
         "run_control": {
          "read_only": false
         },
         "trusted": true
        },
        "outputs": [
         {
          "data": {
           "image/png": "iVBORw0KGgoAAAANSUhEUgAABIYAAADDCAYAAAD3NRrMAAAABHNCSVQICAgIfAhkiAAAAAlwSFlz\nAAALEgAACxIB0t1+/AAAIABJREFUeJzt3X+wZHV55/HPM04oFQyjSSTIjxmE+GNJzNXdHWcV4zVq\nGNSICW4chcglVQsVQ0hl/QEaWXDJlrCVbAYlKcUQR1Makmg2Dlk1QpxvbZnE7ERzFRECOoA4GLKu\noo7ZZBGe/aN7Zvr2dN/5cU6f53v6eb+qbs2cM+f28+Pb3ffc75zzbXN3AQAAAAAAIJ810QkAAAAA\nAAAgBhNDAAAAAAAASTExBAAAAAAAkBQTQwAAAAAAAEkxMQQAAAAAAJDU2ugExpkZH5MGAMCcc3eL\nzgH7cf4FAEAOk87BqrxiyN3n6uuKK64Iz4EvxqQPX4xLfV+MSZ1ffR8X1KnpmEY/r3hNUju1Uz+1\nUz+1r/41TZUTQwAAAAAAAJg9JoY6cM8990SngDGMSZ0Yl/owJnViXIC6ZH5NUntemevPXLuUu/55\nrb2ViSEzu8HMHjCzz69yzDvM7C4zWzazhTbi9sXCQqpye4ExqRPjUh/GpE6MC1CXzK9Jas8rc/2Z\na5dy1z+vtdtq95kd8oOYnSFpj6T3u/szJvz7WZIudveXmtmzJV3r7pumPJYfSk53332vLr98m3bv\nfkQnnLBGV121pFNOWd+skGToYTvoY3P0sDl62Bw9bO5Qe2hmchafrsqhnn+t8v2rrl0AAADiTTsH\na2ViaBhgvaSbpkwMvUvSDnf/w+H27ZIW3f2BCcce9MTk7rvv1Ytf/E59+ctvk3S0pO/q1FOv0M03\n/zIn8YeIHraDPjZHD5ujh83Rw+YOp4dMDNWHiSEAAObftHOwrtYYOkHSfSPbu4f7jsjll28bOfGU\npKP15S+/TZdfvu3IM5yhUkp0CgfoWw/b1taYZO9jG1b2sIgeHr5ZPg9rfP+ahb69lmscl771EGhT\nja/JrlB7Xpnrz1y7lLv+ea19bXQCkywtLWnDhg2SpHXr1mlhYUGLi4uSBgPxhS/s0v4TzzL8c1H3\n3//IvoEaPT56e3l5uap8JGn37ke0/xdxSVqUdLRuu22XSinh+c16e6+mjzd4Lu7UoH/S3n7ef/8j\nVdVb8/bK1/Py8M96X881bs/y9Vzj+9cstgc93KmBxeGfO3Xbbbu0V0351ri92vthKUXbtm2TpH0/\n3wEAAFCJw/3c+2lfktZL+vyUf3uXpFeNbN8h6bgpx/rBnHvulS7tcclHvvb4uedeedDvxQA9bAd9\nbI4eNkcPm6OHzR1OD4c/61s7B+GrlfO4A8bpcDT9fgAAMHvTzsHavJXMhl+TbJf0Wkkys02SHvQJ\n6wsdqquuWtKpp14h6bvDPYN1DK66aulIHzIdetgO+tgcPWyOHjZHD5ujh93jU2EBAEAb2vq4+g9K\n+itJTzGzr5jZBWZ2kZldKEnu/lFJd5vZlyS9W9LrmsQ75ZT1uvnmX9a55/6GJOncc3+j6gVC915u\nX5O+9bBtbY1J9j62YWUPCz08ArN8Htb4/jULfXst1zgufevhnHivpDOn/ePwU2FPdfcfkXSRBldw\nt+ruu+/Veee9TZJ03nlv091339t2iEOK/4IXXBEaf2Hh/M7jZ659NH5E/ZlrH43P856xZ+y7jz+z\n+iddRhT5pcO8FLkPVy7v2LEjOoVV9aGHbZvFmGTsY9sGH16IJtp+Htb+/jULfXgt1z4uB+uhuJWs\nzfOmw7mV/3Y1uJV/3K5d9/ipp75+eAuhXNrjp576et+1657DfqwjsTK+B8ff0Wn8zLUfGL/b+jPX\nfmB8nveMPWPfffxm9U87Bws/oTkgoTmcGKodPWwHfWyOHjZHD5ujh80xMdTpedNqE0M3SXrOyPYt\nkp415djVB22CletKqfO1uaLXBouMn7n26PiZa4+On7n27PEz1952/GnnYFV+KhkAAAC6dbBPhZVW\n+1RJafBJdN19qmT0p9RGxo/+VNTM8aM/xTJz/OhPVSZ+XPzM7/dN42/dulXLy8sH/1TYSbNFkV+a\nwyuG+n7J/zziVrI6cStZc9xK1lwfXsu1jwtXDHV63rTaFUOtfirsOK4YGo2/I/H/nndb+4Hxu60/\nc+0Hxud5z9gz9t3Hb1b/tHOw8BOaAxJiYqhzfehh25gYqhMTQ80xMdRcH17LtY8LE0OdnjdtkHTr\nlH97iaT/Mfz7JkmfXuVxVh+0CVhjiPU25mG9jWaxc9V+YHye94w9Y999/Gb1MzGEqehhO+hjc/Sw\nOXrYHD1sjomhzs6ZPijpfkn/Iukrki7Q4NPHLhw55jpJX5L0OU1ZX8iP4Pxrr1277hn+T6b83HOv\n7Owk+cD4ni5+5tqj42euPTp+5tqzx89ce5vxp52D2eDf6mFmfjg5mQ0vYMYRo4ftoI/N0cPm6GFz\n9LC5g/XQzOTu1l1GOJjDPf+a8P2KPKeMft1Gxs9ce3T8zLVHx89ce/b4mWtvI/60c7A1TZLCodm7\nABTqwZjUqkQngDG8VurEuAC1KdEJBCrRCQQq0QkEK9EJBCrRCQQr0QkEKtEJzAQTQwAAAAAAAElx\nKxnoYUvoY3P0sDl62Bw9bI5byfqHW8n6Gz9z7dHxM9ceHT9z7dnjZ669jfjcSgYAAAAAAIAVmBjq\nAGtB1IcxqVWJTgBjeK3UiXEBalOiEwhUohMIVKITCFaiEwhUohMIVqITCFSiE5gJJoYAAAAAAACS\nYo0h0MOW0Mfm6GFz9LA5etgcawz1D2sM9Td+5tqj42euPTp+5tqzx89cexvxWWMIAAAAAAAAKzAx\n1AHWgqgPY1KrEp0AxvBaqRPjAtSmRCcQqEQnEKhEJxCsRCcQqEQnEKxEJxCoRCcwE0wMAQAAAAAA\nJMUaQ6CHLaGPzdHD5uhhc/SwOdYY6h/WGOpv/My1R8fPXHt0/My1Z4+fufY24rPGEAAAAAAAAFZg\nYqgDrAVRH8akViU6AYzhtVInxgWoTYlOIFCJTiBQiU4gWIlOIFCJTiBYiU4gUIlOYCaYGAIAAAAA\nAEiKNYZAD1tCH5ujh83Rw+boYXOsMdQ/rDHU3/iZa4+On7n26PiZa88eP3PtbcRnjSEAAAAAAACs\nwMRQB1gLoj6MSa1KdAIYw2ulTowLUJsSnUCgEp1AoBKdQLASnUCgEp1AsBKdQKASncBMMDEEAAAA\nAACQFGsMgR62hD42Rw+bo4fN0cPmWGOof1hjqL/xM9ceHT9z7dHxM9eePX7m2tuIzxpDAAAAc8bM\nNpvZHWZ2p5ldOuHff8DMPmZmy2Z2q5ktBaQJAAAqxsRQB1gLoj6MSa1KdAIYw2ulTowLJMnM1ki6\nTtKZkk6X9Goze9rYYRdLWnb3BUkvkPSbZra220wzKNEJBCrRCQQq0QkEK9EJBCrRCQQr0QkEKtEJ\nzAQTQwAAAP20UdJd7n6vuz8k6UZJZ48d8w+SHjf8++Mk/R93/16HOQIAgMqxxhDoYUvoY3P0sDl6\n2Bw9bI41hrphZudIOtPdLxxunydpo7tfMnLMGkl/Iempko6R9Cp3/9iEx2KNoZ7Gz1x7dPzMtUfH\nz1x79viZa28j/rRzsFYuJTazzZK2anAF0g3ufs3Yvz9f0kck7Rru+hN3//U2YgMAAGCqN0v6nLu/\nwMxOlXSzmT3D3feMH7i0tKQNGzZIktatW6eFhQUtLi5K2n/74rTtvfsO9fi2t6WiUrqLV1t8tmO2\nJeITn/hdx49+v+1b/K1bt2p5eXnfz/dpGl8xNPyfqDslvVDS/ZJ2Stri7neMHPN8Sa9395cfwuPN\n3RVDZeREqUZ96GHbZjEmGfvYNrMi98XoNHqt7edh7e9fs9CH13Lt48IVQ90ws02SrnT3zcPtyyT5\n6H/QmdlHJf0Xd//L4fZfSLrU3f927LG4YqhR/LifX5lrH8SPvHIhb+2D+Dzv4+LnrT9z7YP49X4q\n2aHc3y5JnAACAAC0Z6ek08xsvZkdJWmLpO1jx9wu6UWSZGbHSXqK9l/BDQAA0MoVQ4dyf/vzJX1Y\n0lcl7Zb0Rnf/4pTHm7srhmpHD9tBH5ujh83Rw+boYXNcMdSd4e3812r/7fxXm9lFGlw5dL2Z/aCk\n90o6WYP/pHu7u//BhMfhiqGexs9ce3T8zLVHx89ce/b4mWtvI/5M1xg6BJ+RdLK7/5OZnSXpTzX4\nH6uJDuce9+h7/OZlO/oeVbbZHuD13MY2r+dm2/Sv/e1SirZt2yZJB73HHYfH3T+uwcLSo/vePfL3\nr0v66a7zAgAA/dHGFUMHvb99wvfcLelfu/s3Jvzb3F0xVEq/14KYR7MYk4x9bFv0PbvzgDWGmuvD\na7n2ceGKof7hiqGm8VlvIy4+awzFxed5Hxc/b/2Zax/Er3eNoYPe3z68p33v3zdqMCF1wKQQAAAA\nAAAAutP4iiHpkO5v/yVJvyjpIUn/V9KvuvvfTHmsubtiqHb0sB30sTl62Bw9bI4eNscVQ/3DFUP9\njZ+59uj4mWuPjp+59uzxM9feRvxp52CtTAy1iYmh7tHDdtDH5uhhc/SwOXrYHBND/cPEUH/jZ649\nOn7m2qPjZ649e/zMtbcRf5a3kuEg9i9oilowJrUq0QlgDK+VOjEuQG1KdAKBSnQCgUp0AsFKdAKB\nSnQCwUp0AoFKdAIzwcQQAAAAAABAUtxKBnrYEvrYHD1sjh42Rw+b41ay/uFWsv7Gz1x7dPzMtUfH\nz1x79viZa28jPreSAQAAAAAAYAUmhjrAWhD1YUxqVaITwBheK3ViXIDalOgEApXoBAKV6ASClegE\nApXoBIKV6AQClegEZoKJIQAAAAAAgKRYYwj0sCX0sTl62Bw9bI4eNscaQ/3DGkP9jZ+59uj4mWuP\njp+59uzxM9feRnzWGAIAAAAAAMAKTAx1gLUg6sOY1KpEJ4AxvFbqxLgAtSnRCQQq0QkEKtEJBCvR\nCQQq0QkEK9EJBCrRCcwEE0MAAAAAAABJscYQ6GFL6GNz9LA5etgcPWyONYb6hzWG+hs/c+3R8TPX\nHh0/c+3Z42euvY34rDEEAAAAAACAFZgY6gBrQdSHMalViU4AY3it1IlxAWpTohMIVKITCFSiEwhW\nohMIVKITCFaiEwhUohOYCSaGAAAAAAAAkmKNIdDDltDH5uhhc/SwOXrYHGsM9Q9rDPU3fubao+Nn\nrj06fubas8fPXHsb8VljCAAAYM6Y2WYzu8PM7jSzS6ccs2hmf2dmXzCzHV3nCAAA6sbEUAdYC6I+\njEmtSnQCGMNrpU6MCyTJzNZIuk7SmZJOl/RqM3va2DHHSvptSS9z9x+V9O87TzSFEp1AoBKdQKAS\nnUCwEp1AoBKdQLASnUCgEp3ATDAxBAAA0E8bJd3l7ve6+0OSbpR09tgxr5H0YXffLUnu/vWOcwQA\nAJVjjSHQw5bQx+boYXP0sDl62BxrDHXDzM6RdKa7XzjcPk/SRne/ZOSY35L0fRpcUXSMpHe4++9P\neCzWGOpp/My1R8fPXHt0/My1Z4+fufY24k87B1vbJCkAAABUba2kZ0n6SUlHS/prM/trd//S+IFL\nS0vasGGDJGndunVaWFjQ4uKipP23L07b3rvvUI9ve1sqKqW7eLXFZztmWyI+8Ynfdfzo99u+xd+6\ndauWl5f3/XyfhiuGOlBGTpRq1Icetm0WY5Kxj20zK3JfjE6j19p+Htb+/jULfXgt1z4uXDHUDTPb\nJOlKd9883L5Mkrv7NSPHXCrp0e7+tuH270r6mLt/eOyxuGKoUfy4n1+Zax/Ej7xyIW/tg/g87+Pi\n560/c+2D+HwqGQAAAPbbKek0M1tvZkdJ2iJp+9gxH5F0hpk9ysweK+nZkm7vOE8AAFAxrhgCPWwJ\nfWyOHjZHD5ujh81xxVB3zGyzpGs1+M++G9z9ajO7SIMrh64fHvMGSRdIeljSe9z9nRMehyuGeho/\nc+3R8TPXHh0/c+3Z42euvY34087BmBgCPWwJfWyOHjZHD5ujh80xMdQ/TAz1N37m2qPjZ649On7m\n2rPHz1x7G/G5lSzQ/gW6UAvGpFYlOgGM4bVSJ8YFqE2JTiBQiU4gUIlOIFiJTiBQiU4gWIlOIFCJ\nTmAmmBgCAAAAAABIilvJQA9bQh+bo4fN0cPm6GFz3ErWP9xK1t/4mWuPjp+59uj4mWvPHj9z7W3E\n51YyAAAAAAAArMDEUAdYC6I+jEmtSnQCGMNrpU6MC1CbEp1AoBKdQKASnUCwEp1AoBKdQLASnUCg\nEp3ATLQyMWRmm83sDjO708wunXLMO8zsLjNbNrOFNuICAAAAAADgyDVeY8jM1ki6U9ILJd0vaaek\nLe5+x8gxZ0m62N1fambPlnStu2+a8nj+4g0/pkd/89v658d/v/7T+35HkvSfz3/din0nnXSCtl1+\nuW75wG696NwTtHTVVbrvvt0HHDfpeyftO+MnztCn/uenjvj7+7jvUHuYsTeH8xxp+7nYx31NnyPz\n3MOuXj997GFt7y1RPaytD1308HnPfx5rDFWGNYb6Gz9z7dHxM9ceHT9z7dnjZ669jfhT13l090Zf\nkjZJ+tjI9mWSLh075l2SXjWyfbuk46Y8nu8Z1Op7JD/LjvZzHvW4FftesuYYf92TTlix74Ljj/dX\njh036Xsn7Xvl2mP9uq3v9FeuPfaIvr+P+w61hxl7czjPkbafi33c1/Q5Ms897Or108ce1vbeEtXD\n2vrQ1c+VwelHs/MPvtr9Go7JEWv6/U0Fhw+Nn7n26PiZa4+On7n27PEz195G/GnnYG2cSJwj6fqR\n7fMkvWPsmJskPWdk+xZJz5ryeIO0hl9v1f6Jolnt2yP5xkc9dmZxdnRYS996E7XvcMdkXvtQ23Ok\nz6+VeX3ezGpM5qE3kX3o82tlj+RMDNX3xcRQ0/g7AmOHhR7G3xEcPzL2jrjgnnvsM9c+iB8anrEP\njd/0+yefg7VxK9k5ks509wuH2+dJ2ujul4wcc5Okt7v7Xw23b5H0Jnf/7ITH8/Mlva9RVgAAoDbn\nS9og6W2SnFvJqsKtZE3jF7kvBsXOW/sgflz9mWsfxOd5Hxc/b/2Zax/Eb1b/LD+ufrekk0e2Txzu\nGz/mpIMcs882Df87UdJbJe0Z2Z7Fvj2SNj7qsTOP08d99IY+0Bt6Q2/oQ1v7tkl6o4B5tBidQKDF\n6AQCLUYnEGwxOoFAi9EJBFuMTiDQYnQCM9HGxNBOSaeZ2XozO0rSFknbx47ZLum1kmRmmyQ96O4P\nTHvA7478+Rk7Wuc/6nEr9n12zTF605NOWLFv9/HHa2nsuEnfO2nf0tpj9drfvEZLa489ou/v475D\n7WHG3hzOc6Tt52If9zV9jsxzD7t6/fSxh7W9t0T1sLY+dPVzBQAAAPVY2/QB3P1hM7tY0ic0mGi6\nwd1vN7OLBv/s17v7R83sJWb2JQ3OCy9Y7TF/ZsOP6dEPfkf/vO5x+z755GfOf92KfSeddIJ+4/LL\n9cj992vNk56kK4affDJ+3KTvnbTvjJ84Qz/+zIUj/v7V9u353/+oY37oia09Xlv7DrWHs+xN1L4j\nGZNpfWj7udjHfU2fI3t7uOu22/Tk00+fqx529fqZ1fNwlu9ftb23RL2Wj6QPff+58qHnP0/AfCma\n1/9FPrgias+qKG/9RXlrl3LXXzSPtTdeY6htTe9xr1EpRYuLi9FpYARjUifGpT6MSZ36Pi5TPyoV\nYVhjqGn8wnobYfHj6s9c+yA+z/u4+Hnrz1z7IH6z+qedgzExBAAAOsXEUH2YGOpv/My1R8fPXHt0\n/My1Z4+fufY24s9y8WkAAAAAAAD0EBNDHSilRKeAMYxJnRiX+jAmdWJcgNqU6AQClegEApXoBIKV\n6AQClegEgpXoBAKV6ARmgokhAAAAAACApFhjCAAAdIo1hurDGkP9jZ+59uj4mWuPjp+59uzxM9fe\nRnzWGAIAAJgzZrbZzO4wszvN7NJVjvu3ZvaQmf1sl/kBAID6MTHUAdaCqA9jUifGpT6MSZ0YF0iS\nma2RdJ2kMyWdLunVZva0KcddLenPu80wkxKdQKASnUCgEp1AsBKdQKASnUCwEp1AoBKdwEwwMQQA\nANBPGyXd5e73uvtDkm6UdPaE435Z0ock/WOXyQEAgH5gjSEAANAp1hhqh5mdI+lMd79wuH2epI3u\nfsnIMU+S9AF3f4GZvVfSTe7+JxMeizWGeho/c+3R8TPXHh0/c+3Z42euvY34087B1jZJCgAAAFXb\nKml07aGpE3JLS0vasGGDJGndunVaWFjQ4uKipP23L07b3rvvUI9ve1sqKqW7eLXFZztmWyI+8Ynf\ndfzo99u+xd+6dauWl5f3/XyfhiuGOlBGTpRQB8akToxLfRiTOvV9XLhiqB1mtknSle6+ebh9mSR3\n92tGjtm196+SflDSdyVd6O7bxx6LK4YaxS9yXwyKnbf2QfzIKxfy1j6Iz/M+Ln7e+jPXPojPFUMA\nAADYb6ek08xsvaSvSdoi6dWjB7j7k/f+feRWshWTQgAAIDeuGAIAAJ3iiqH2mNlmSddq8IEiN7j7\n1WZ2kQZXDl0/duzvSfoz1hiar/iZa4+On7n26PiZa88eP3PtbcSfdg7GxBAAAOgUE0P1YWKov/Ez\n1x4dP3Pt0fEz1549fuba24g/7RxsTZOkcGj2L9CFWjAmdWJc6sOY1IlxAWpTohMIVKITCFSiEwhW\nohMIVKITCFaiEwhUohOYCSaGAAAAAAAAkuJWMgAA0CluJasPt5L1N37m2qPjZ649On7m2rPHz1x7\nG/G5lQwAAAAAAAArMDHUAdaCqA9jUifGpT6MSZ0YF6A2JTqBQCU6gUAlOoFgJTqBQCU6gWAlOoFA\nJTqBmWBiCAAAAAAAICnWGAIAAJ1ijaH6sMZQf+Nnrj06fubao+Nnrj17/My1txGfNYYAAAAAAACw\nAhNDHWAtiPowJnViXOrDmNSJcQFqU6ITCFSiEwhUohMIVqITCFSiEwhWohMIVKITmAkmhgAAAAAA\nAJJijSEAANAp1hiqD2sM9Td+5tqj42euPTp+5tqzx89cexvxWWMIAAAAAAAAKzAx1AHWgqgPY1In\nxqU+jEmdGBegNiU6gUAlOoFAJTqBYCU6gUAlOoFgJTqBQCU6gZlgYggAAAAAACAp1hgCAACdYo2h\n+rDGUH/jZ649On7m2qPjZ649e/zMtbcRf9o52NpmSdnjJf2hpPWS7pH0c+7+rQnH3SPpW5IekfSQ\nu29sEhcAAAAAAADNNb2V7DJJt7j7UyV9UtKbpxz3iKRFd39mxkkh1oKoD2NSJ8alPoxJnRgXoDYl\nOoFAJTqBQCU6gWAlOoFAJTqBYCU6gUAlOoGZaDoxdLak9w3//j5Jr5hynLUQCwAAAAAAAC1qtMaQ\nmX3D3Z8wbXtk/y5JD0p6WNL17v6eVR6TNYYAAJhjrDFUH9YY6m/8zLVHx89ce3T8zLVnj5+59jbi\nH/EaQ2Z2s6TjRndJcklvnXD4tBSf6+5fM7MfknSzmd3u7p+aFnNpaUkbNmyQJK1bt04LCwtaXFyU\ntP/yebbZZpttttlmux/bpRRt27ZNkvb9fEc7zGyzpK0aXJl9g7tfM/bvr5F06XDzO5J+0d1v7TZL\nAABQs6ZXDN2uwdpBD5jZD0va4e5PP8j3XCHpO+7+36b8+9xdMVRK2XeijDowJnViXOrDmNSp7+PC\nFUPtMLM1ku6U9EJJ90vaKWmLu98xcswmSbe7+7eGk0hXuvumCY/FFUON4he5LwbFzlv7IH7klQt5\nax/E53kfFz9v/ZlrH8SfzRVDa5okJWm7pKXh38+X9JEJgR9rZscM/360pJ+S9IWGcQEAALLbKOku\nd7/X3R+SdKMG6z/u4+6fHvnE2E9LOqHjHAEAQOWaXjH0BEl/JOkkSfdq8HH1D5rZ8ZLe4+4vM7NT\nJP13DW4zWyvpA+5+9SqPOXdXDAEAgP24YqgdZnaOpDPd/cLh9nmSNrr7JVOOf4Okp+w9fuzfuGKo\np/Ez1x4dP3Pt0fEz1549fuba24h/xGsMrcbdvyHpRRP2f03Sy4Z/v1vSQpM4AAAAOHJm9gJJF0g6\nY9oxTdZ43Lsvak0rqaiUuDW1ouOzHbMtEZ/4xO86fvT7bd/ib926VcvLywdd47HRFUOzMI9XDJWR\nEyXUgTGpE+NSH8akTn0fF64Yasdw/aAr3X3zcPsyST5hAepnSPqwpM3u/uUpj8UVQ43is95GXHzW\nGIqLz/M+Ln7e+jPXPohf5xpDAAAAiLFT0mlmtt7MjpK0RYP1H/cxs5M1mBT6+WmTQgAAIDeuGAIA\nAJ3iiqH2DD9p7Frt/7j6q83sIg2uHLrezN4j6Wc1WAvSJD3k7hsnPA5XDPU0fubao+Nnrj06fuba\ns8fPXHsb8aedgzExBAAAOsXEUH2YGOpv/My1R8fPXHt0/My1Z4+fufY24nMrWaD9C3ShFoxJnRiX\n+jAmdWJcgNqU6AQClegEApXoBIKV6AQClegEgpXoBAKV6ARmgokhAAAAAACApLiVDAAAdIpbyerD\nrWT9jZ+59uj4mWuPjp+59uzxM9feRnxuJQMAAAAAAMAKTAx1gLUg6sOY1IlxqQ9jUifGBahNiU4g\nUIlOIFCJTiBYiU4gUIlOIFiJTiBQiU5gJpgYAgAAAAAASIo1hgAAQKdYY6g+rDHU3/iZa4+On7n2\n6PiZa88eP3PtbcRnjSEAAAAAAACswMRQB1gLoj6MSZ0Yl/owJnViXIDalOgEApXoBAKV6ASClegE\nApXoBIKV6AQClegEZoKJIQAAAAAAgKRYYwgAAHSKNYbqwxpD/Y2fufbo+Jlrj46fufbs8TPX3kZ8\n1hgCAAAAAADACkwMdYC1IOrDmNSJcakPY1InxgWoTYlOIFCJTiBQiU4gWIlOIFCJTiBYiU4gUIlO\nYCaYGAIAAAAAAEiKNYYAAECnWGOoPqwx1N/4mWuPjp+59uj4mWvPHj9z7W3EZ40hAAAAAAAArMDE\nUAdYC6I+jEmdGJf6MCZ1YlyA2pToBAKV6AQClegEgpXoBAKV6ASClegEApXoBGaCiSEAAAAAAICk\nWGMIAAD3i696AAAJ8klEQVR0ijWG6sMaQ/2Nn7n26PiZa4+On7n27PEz195GfNYYAgAAmDNmttnM\n7jCzO83s0inHvMPM7jKzZTNb6DpHAABQNyaGOsBaEPVhTOrEuNSHMakT4wJJMrM1kq6TdKak0yW9\n2syeNnbMWZJOdfcfkXSRpHd1nmgKJTqBQCU6gUAlOoFgJTqBQCU6gWAlOoFAJTqBmWBiCAAAoJ82\nSrrL3e9194ck3Sjp7LFjzpb0fkly97+RdKyZHddtmgAAoGasMQQAADrFGkPtMLNzJJ3p7hcOt8+T\ntNHdLxk55iZJb3f3vxpu3yLpTe7+2bHHYo2hnsbPXHt0/My1R8fPXHv2+JlrbyP+tHOwtU2SAgAA\nwHwwazZX1/T7mwoOHxo/c+3R8TPXHh0/c+3Z42eufVbxuZWsA6wFUR/GpE6MS30YkzoxLhjaLenk\nke0Th/vGjznpIMdIktz9iL+afn/fv3bs2BGeA7VTO/VTO/VT+8G+pmk0MWRmrzSzL5jZw2b2rFWO\nO+gnZgAAAOCw7JR0mpmtN7OjJG2RtH3smO2SXitJZrZJ0oPu/kC3aQIAgJo1WmPIzJ4q6RFJ75b0\nBh+7X314zBpJd0p6oaT7NTiJ2eLud0x5TG+SEwAAqBtrDLXHzDZLulaD/+y7wd2vNrOLJLm7Xz88\n5jpJmyV9V9IFU87XGp1/Ra8xBAAADm4mawy5+98PH3y1k7t9n5gxPHbvJ2ZMnBgCAADAoXH3j0t6\n6ti+d49tX9xpUgAAoFe6WGPoBEn3jWx/dbgvDdaCqA9jUifGpT6MSZ0YF6AumV+T1J5X5voz1y7l\nrn9eaz/oFUNmdrOk40Z3SXJJv+buN80iqaWlJW3YsEGStG7dOi0sLGhxcVHS/oHo0/by8nJV+bC9\nXy35sD3YXl5erioftnn/Yrud7VKKtm3bJkn7fr4DAACgDo3WGNr3IGY7JL1+yj3rmyRd6e6bh9uX\naXDf+zVTHos1hgAAmGOsMVQf1hgCAGD+TTsHa/NWsmkneIfyiRkAAAAAAADoWKOJITN7hZndJ2mT\npD8zs48N9x9vZn8mSe7+sKSLJX1C0m2SbnT325ul3S97L6dHPRiTOjEu9WFM6sS4AHXJ/Jqk9rwy\n15+5dil3/fNae6OJIXf/U3c/yd0f4+7Hu/tZw/1fc/eXjRz3cXd/qrv/iLtf3TTpvtm7bgrqwZjU\niXGpD2NSJ8YFqEvm1yS155W5/sy1S7nrn9fau/hUsvQefPDB6BQwhjGpE+NSH8akTowLUJfMr0lq\nzytz/Zlrl3LXP6+1MzEEAAAAAACQFBNDHbjnnnuiU8AYxqROjEt9GJM6MS5AXTK/Jqk9r8z1Z65d\nyl3/vNbeysfVt8nM6koIAAC0jo+rrwvnXwAA5DDpHKy6iSEAAAAAAAB0g1vJAAAAAAAAkmJiCAAA\nAAAAICkmhgAAAAAAAJJiYmjGzOz1ZvaImT1hZN+bzewuM7vdzH4qMr9szOy/Dvu+bGYfNrPvH/k3\nxiWImW02szvM7E4zuzQ6n6zM7EQz+6SZ3WZmt5rZJcP9jzezT5jZ35vZn5vZsdG5ZmNma8zss2a2\nfbjNmKAaWd/Dp71nZjL+3pSJmR1rZn88PG+8zcyeHZ1TV4bnzLeZ2efN7ANmdlR0TrNkZjeY2QNm\n9vmRfSl+Dk+pfervU/NmUv0j/3bA7/l9xsTQDJnZiZJeLOnekX1Pl/Rzkp4u6SxJv2NmfDJLdz4h\n6XR3X5B0l6Q3S5KZ/SsxLiHMbI2k6ySdKel0Sa82s6fFZpXW9yT9R3c/XdK/k/RLw7G4TNIt7v5U\nSZ/U8HWDTv2KpC+ObDMmqELy9/Bp75mZjL83ZXKtpI+6+9Ml/bik24Pz6YSZrZf0HyQ9092fIWmt\npC2xWc3cezV4jxuV5efwpNon/j41pybVP/H3/L5jYmi2fkvSG8f2nS3pRnf/nrvfo8GLaWPXiWXl\n7re4+yPDzU9LOnH495eLcYmyUdJd7n6vuz8k6UYNXifomLv/g7svD/++R4OT3BM1GI/3DQ97n6RX\nxGSY0/Dk4yWSfndkN2OCWqR9D5/ynnlCbFbdmfLelMLwConnuft7JWl4/vjt4LS68m1J/0/S0Wa2\nVtJjJd0fm9JsufunJH1zbHeKn8OTal/l96m5M2Xspcm/5/caE0MzYmYvl3Sfu9869k8nSLpvZHu3\nEp1EVOYXJH10+HfGJc54778qeh/OzDZIWtDgB/5x7v6ANPhFSNIT4zJLae/Jh4/sY0xQC97DteI9\n829iM+nUpPemLE6R9HUze+/wVrrrzewx0Ul1wd2/Kek3JX1Fg/PlB939ltisQjyRn8OSBr9PfSw6\niS6t8nt+rzEx1ICZ3Ty8t3bv163DP18u6S2SrojOMaNVxuWnR475NUkPufsfBKYKVMnMjpH0IUm/\nMvxf8PGT/oy/BIQws5dKemB4VcJqt7cyJkCQCe+Zc2/Ce1O22+/XSnqWpN9292dJ+icNbi2ae2b2\nZEm/Kmm9pCdJOsbMXhObVRXS/Rwe+X3qg9G5dGU4ATz+e/5cvP+tjU6gz9z9xZP2m9mPStog6XPD\ndWpOlPRZM9uowcz6ySOHnzjch5ZMG5e9zGxJg0uff3Jk925JJ41sMy7d4TVRkeFl4R+S9Pvu/pHh\n7gfM7Dh3f8DMfljSP8ZlmM5zJb3czF4i6TGSHmdmvy/pHxgTVCL1e/iU98wMJr03vd/dXxucV1e+\nqsEVA3873P6QpCwLr/8bSX/p7t+QJDP7E0nPkZRmcmAo9bnRlN+nMjhVB/6e/xkz2+juvX4OcMXQ\nDLj7F9z9h939ye5+igY/PJ45fLJsl/QqMzvKzE6RdJqk/xWZbyZmtlmDy55f7u7/MvJP2yVtYVxC\n7JR0mpmtH36qxRYNxgMxfk/SF9392pF92yUtDf9+vqRMv/yEcve3uPvJ7v5kDV4bn3T3n5d0kxgT\n1CH7e/ik98y5N+W9KcukkIa3EN1nZk8Z7nqh8izC/feSNpnZo4e/GL9QORbeHr8yLtO50YraV/l9\nal7tq/8gv+f3GlcMdcO1/8n0RTP7Iw1+eDwk6XXunu7Sw0DvlHSUpJuHHzr2aXd/HeMSx90fNrOL\nNfiEgzWSbnD3DCcY1TGz50o6V9KtZvZ3Grx3vUXSNZL+yMx+QYNPX/i5uCwxdLUYE1Qg83v4tPdM\nd/94bGboyCWSPmBm3ydpl6QLgvPphLt/zszeL+kzkh6W9HeSro/NarbM7IOSFiX9gJl9RYPbiK6W\n9Mfz/nN4Su1v0YTfp8KSnKFJ9e9ddH5o3+/5fWf87gsAAAAAAJATt5IBAAAAAAAkxcQQAAAAAABA\nUkwMAQAAAAAAJMXEEAAAAAAAQFJMDAEAAAAAACTFxBAAAAAAAEBSTAwBAAAAAAAk9f8ByuMEEFn7\nQ3gAAAAASUVORK5CYII=\n",
           "text/plain": "<matplotlib.figure.Figure at 0x7f62ac7a45c0>"
          },
          "metadata": {},
          "output_type": "display_data"
         }
        ],
        "source": "from ipywidgets import interact, Label, HBox, VBox\nNw = IntSlider(value=16, min=1, max=16, step=1, continuous_update=False, description='N:')\nkw = IntSlider(value=1, min=1, max=16, step=1, continuous_update=False, description='width:')\nd2 = interactive(dfscos, N=Nw, k=kw)\ndisplay(d2)"
       },
       "cell_index": 4,
       "root": true
      }
     ]
    },
    "1455ee00f58540a7b423e84e5dc12056": {
     "views": []
    },
    "14e5b894e98046cc9c7b86201d82a12a": {
     "views": []
    },
    "1578c7f341f04266a9228bc9e3e5c58b": {
     "views": []
    },
    "161b4ab86e854a91a4fb46faf27e0d6b": {
     "views": []
    },
    "1636910aba6f4bb68783b049f32dd0ee": {
     "views": []
    },
    "169f450225c84a87bdd9577e8aa651b9": {
     "views": []
    },
    "179cbce903074e3cba9986e3f7119792": {
     "views": [
      {
       "cell": {
        "cell_type": "code",
        "execution_count": 3,
        "metadata": {
         "collapsed": false,
         "run_control": {
          "read_only": false
         },
         "scrolled": false,
         "trusted": true
        },
        "outputs": [],
        "source": "display(HBox(children=[VBox(children=[ww, Nw, kw]), VBox(children=[cw, ow, sw])]))"
       },
       "cell_index": 2,
       "root": true
      }
     ]
    },
    "18edf0a7e4974929897ec4061557ac4d": {
     "views": []
    },
    "192743fc585d40ada1d7b6d276bc02a7": {
     "views": []
    },
    "19400a304e8a42a39810143392187350": {
     "views": []
    },
    "19666f135dd847758b2033b7b70e2943": {
     "views": []
    },
    "19870386793d49e1be612bed13a93c13": {
     "views": []
    },
    "1a95f21d55444c55b33b033630bf6f00": {
     "views": []
    },
    "1af4304372324226bc3c7646e6ef61a4": {
     "views": []
    },
    "1b64216a4e634bf48862d493fe037bba": {
     "views": []
    },
    "1be6b046bf0249438d48d79c24717778": {
     "views": []
    },
    "1cb458dc4d49489a94e841066e8cd18e": {
     "views": [
      {
       "cell": {
        "cell_type": "code",
        "execution_count": 79,
        "metadata": {
         "collapsed": false,
         "run_control": {
          "read_only": false
         },
         "trusted": true
        },
        "outputs": [
         {
          "data": {
           "image/png": "iVBORw0KGgoAAAANSUhEUgAABIYAAADDCAYAAAD3NRrMAAAABHNCSVQICAgIfAhkiAAAAAlwSFlz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\nQ3gAAAAASUVORK5CYII=\n",
           "text/plain": "<matplotlib.figure.Figure at 0x7f62ac7a45c0>"
          },
          "metadata": {},
          "output_type": "display_data"
         }
        ],
        "source": "from ipywidgets import interact, Label, HBox, VBox\nNw = IntSlider(value=16, min=1, max=16, step=1, continuous_update=False, description='N:')\nkw = IntSlider(value=1, min=1, max=16, step=1, continuous_update=False, description='width:')\nd2 = interactive(dfscos, N=Nw, k=kw)\ndisplay(d2)"
       },
       "cell_index": 4,
       "root": true
      }
     ]
    },
    "1cb75e77d4f0459786a26074c32e2365": {
     "views": []
    },
    "1cba51a366b84414add3d5ba23dba677": {
     "views": []
    },
    "1cbf20a6b41040ae8f0264db276a3d22": {
     "views": []
    },
    "1d31a7f6b37d4d4cb793fc9e3e6221cc": {
     "views": []
    },
    "1d510469ce3541c98d7e3f078b7355bf": {
     "views": []
    },
    "1db3f309339842a78556497dabcc9f2e": {
     "views": []
    },
    "1e8f93bccf574b768a43d8d11167df54": {
     "views": []
    },
    "1e98203ce69f4b389633530fdd7893e8": {
     "views": []
    },
    "1ed115e09ed94ba0a4f57277c4d812ab": {
     "views": []
    },
    "1fd615da1c834d139b2102ce962a02a5": {
     "views": []
    },
    "1fd75eda9dd94cadacfc73aff38b968e": {
     "views": []
    },
    "20545e8dafdb4a278bde685c3737dad6": {
     "views": []
    },
    "2076440ee7454d1d8a68b94f86148e0b": {
     "views": []
    },
    "20a2b5f074b242659aa423299e168335": {
     "views": []
    },
    "21061192c5e946a6bb43a1534e7b7360": {
     "views": []
    },
    "2109ca3bf2e043878a222369482d1e25": {
     "views": []
    },
    "216422e251eb492f8f1f4815afb6906a": {
     "views": []
    },
    "217abd851f3740bd8d43e4fa802b3ee1": {
     "views": []
    },
    "2181345a68cd43c6838b0f1f947aafbb": {
     "views": []
    },
    "21d3ea01661b409298cfaed291f72b70": {
     "views": []
    },
    "22673f00b98d4f23a9b53723b5506f3c": {
     "views": []
    },
    "24131ac56c854926b5b44a824923012c": {
     "views": []
    },
    "250fef81c7874daabc5804067507a405": {
     "views": []
    },
    "2519afed39cd4d2bb06ab4920b629bde": {
     "views": []
    },
    "256234044584403db87830234b8741e3": {
     "views": []
    },
    "258ee1e3568d4d2a90ef2eec710b8f08": {
     "views": []
    },
    "25c2fed748884e27817b54c623f49cbc": {
     "views": []
    },
    "25f0789ad65646d2b15e4ac6997a389f": {
     "views": []
    },
    "27218fd3e510476483be1d0ebc30cf39": {
     "views": []
    },
    "2734de1d24e84d40a862b06efaac4981": {
     "views": []
    },
    "274fa2e3740146908b47fe8ec7433063": {
     "views": []
    },
    "27bd240e266f4624888a14e1f52bad70": {
     "views": []
    },
    "27bf2b546e18421bbb8a228de9e92a2c": {
     "views": []
    },
    "27f9bbb430264e5994dc591927db61a4": {
     "views": []
    },
    "2844e84f9e384ec0a0cfd1564b2bbbca": {
     "views": []
    },
    "2907965c20e34453adf23971ffb225c8": {
     "views": []
    },
    "2946c78098c84efdad4ffb14c5191b8b": {
     "views": []
    },
    "2a0901e3c451496c8121641281ab53a2": {
     "views": []
    },
    "2a5e2295818c41e28c2a9aab9ecd81ab": {
     "views": []
    },
    "2b29887dcdcf459bb15f6bd3d520413e": {
     "views": []
    },
    "2b89a58dd4ed4d3c8d6a2f75b40eb31e": {
     "views": []
    },
    "2c64839a276a4d8ebd8fe4e3facd066d": {
     "views": []
    },
    "2dbc650d698646119da70c622a1a6692": {
     "views": []
    },
    "2dc2e1cb62a642589ac281ee8bbb43f1": {
     "views": []
    },
    "2e3faa130a7a443dbde442e36779949e": {
     "views": []
    },
    "2e546fce11d4410eaa34e8ddd89edb83": {
     "views": []
    },
    "2e7b9c2258ab41a1828e98c523b36b97": {
     "views": []
    },
    "2e7dae7a0ff94fbb9240ab31f7c72b85": {
     "views": []
    },
    "2e8b4650313b464b8b2bb07ae9ef527d": {
     "views": []
    },
    "2ea5e22c17224deca271d0490e989f6f": {
     "views": []
    },
    "2eda656d77ca4ed8947679b39322eb47": {
     "views": []
    },
    "2f2a98bd4dff4ff28d9fbd1df3a097b5": {
     "views": []
    },
    "2f3a083a00804f1c961c4f16c4faabc2": {
     "views": []
    },
    "2fe0044b13774d32b1cb0469af419fde": {
     "views": []
    },
    "302b1ebf44d54928ad6420332995e580": {
     "views": []
    },
    "30309f76a3374d499bbafbf99bc207b9": {
     "views": []
    },
    "304379fc0e9f4226a63e9b91b93654d1": {
     "views": []
    },
    "32101af9753347b1a6b4844078392111": {
     "views": []
    },
    "3326a87ce02f4edcaca1e08b799e0126": {
     "views": []
    },
    "33752ca02314474e8cef0c91fa711219": {
     "views": []
    },
    "342e07a4c6e144fbb78a7a15b9576a91": {
     "views": []
    },
    "3466047b3e794fbbbee8dd2d66565b2d": {
     "views": []
    },
    "348cb11fa77f40ed9a352db6f8c840a3": {
     "views": []
    },
    "34e55fca723e4ad19b9427bf459ffd83": {
     "views": []
    },
    "36032d03bf2148cab0c5bd6f3fa769f0": {
     "views": []
    },
    "363fdf9998124ccc963c309ea2f40fbd": {
     "views": []
    },
    "36dfffe37ae045ce9e07b63ad86fdf23": {
     "views": []
    },
    "38d621cd01254c659030df7e61d9457c": {
     "views": []
    },
    "3915380326ed4016a29a0bf4e9883de7": {
     "views": []
    },
    "3954e3f8efc741e88b7f6993abb724cd": {
     "views": []
    },
    "396d83f6e594480eb5446e067e37d32e": {
     "views": []
    },
    "3987e589d99e4aad96aae2cd6fbe61fa": {
     "views": []
    },
    "3a130ce8219943e6984890c5971abc8e": {
     "views": []
    },
    "3b057fe6db7f4f4ab7d88e48b7758174": {
     "views": []
    },
    "3be0cddef4464a65b8287e59f1d946e6": {
     "views": []
    },
    "3d306633a07c4fc394d3955c9f3ad8a9": {
     "views": []
    },
    "3d58586030f84a93b23932159a59b297": {
     "views": []
    },
    "3d70539efaf64dec94c19ed04534b38f": {
     "views": []
    },
    "3f9ec69a2ecb42c6bad7af17d1044419": {
     "views": []
    },
    "3fe53169dfa74bc89c272f08e5733693": {
     "views": []
    },
    "4052197af9a449dbbc121910f6d27081": {
     "views": []
    },
    "4062e271e6c84a6792641bf7cbb8b75a": {
     "views": []
    },
    "40a0e28e5da349dea8bc4ac9043ee774": {
     "views": []
    },
    "40c1f6fe8d674e07aace2c089d408452": {
     "views": []
    },
    "41004d291c9a48baa1b15bc18ae888f5": {
     "views": []
    },
    "4160600dc94e46d681803b006bdb930c": {
     "views": []
    },
    "419d39b185a94c189d8762422d836579": {
     "views": []
    },
    "41b4d6c5ea6f4fd2873a04903dd5000b": {
     "views": [
      {
       "cell": {
        "cell_type": "code",
        "execution_count": 79,
        "metadata": {
         "collapsed": false,
         "run_control": {
          "read_only": false
         },
         "trusted": true
        },
        "outputs": [
         {
          "data": {
           "image/png": "iVBORw0KGgoAAAANSUhEUgAABIYAAADDCAYAAAD3NRrMAAAABHNCSVQICAgIfAhkiAAAAAlwSFlz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\nQ3gAAAAASUVORK5CYII=\n",
           "text/plain": "<matplotlib.figure.Figure at 0x7f62ac7a45c0>"
          },
          "metadata": {},
          "output_type": "display_data"
         }
        ],
        "source": "from ipywidgets import interact, Label, HBox, VBox\nNw = IntSlider(value=16, min=1, max=16, step=1, continuous_update=False, description='N:')\nkw = IntSlider(value=1, min=1, max=16, step=1, continuous_update=False, description='width:')\nd2 = interactive(dfscos, N=Nw, k=kw)\ndisplay(d2)"
       },
       "cell_index": 4,
       "root": true
      }
     ]
    },
    "41caf9c325134fdb96cb1c215938f9db": {
     "views": []
    },
    "42584a1d620c44119f8fab89f875dca9": {
     "views": []
    },
    "42f29adfd67842b8bbb3bdc59f150835": {
     "views": []
    },
    "4326e71e9a7e47e09a48e790b417b317": {
     "views": []
    },
    "4359c1e4b0df4960b0a9869a259e4d55": {
     "views": []
    },
    "43b28b4586624c0d860906729865e131": {
     "views": []
    },
    "44990f7a46bc4aeca324a9d5afdb5368": {
     "views": []
    },
    "44de5db2ae484aaf8b40c0d804f30469": {
     "views": []
    },
    "44dfcd5e7f8044738a6beae9447b8fa1": {
     "views": []
    },
    "451d404a1f2940e3a2aeebb8defbb04a": {
     "views": []
    },
    "462ce51fcf94465883943a0465065677": {
     "views": []
    },
    "465b5f7603e949de8f1a63427b71b264": {
     "views": []
    },
    "46f14a46e5794b9f8369e439d1a6917c": {
     "views": []
    },
    "46f66f8801544b0b88e99b6069867979": {
     "views": []
    },
    "4784a20a00f741aca487184b63cdf98c": {
     "views": []
    },
    "47bca654d8c846a38c3630c2f27f5892": {
     "views": []
    },
    "4823d324e70245b181a1e66e0da2f4cf": {
     "views": []
    },
    "489cdb4188644b899eacca8e4f33fa63": {
     "views": []
    },
    "48dd1a9fef3949a1bc9e10bb234a2f54": {
     "views": []
    },
    "48eb91bea5274b5ca208cf539e51f19f": {
     "views": []
    },
    "493fcb3ce83744a7a3ffd198680b2eba": {
     "views": []
    },
    "4943159eacff46f2b9609b5ecf098f0c": {
     "views": []
    },
    "496b6631784041d68ac94add23367b42": {
     "views": []
    },
    "498f73377b464ce39ca722a4433082d8": {
     "views": []
    },
    "4afcf478b87e4558b4ff53ac4e53b07e": {
     "views": []
    },
    "4b24290a81304cb4ad175b5528a93e6b": {
     "views": []
    },
    "4bf5d4e40eea4d2981d2c9ae178659e8": {
     "views": []
    },
    "4c39a4a4843b4842a1932156cbf9e78c": {
     "views": []
    },
    "4d13667ebe2147cab6c7c33d48aacb0e": {
     "views": []
    },
    "4dd77e6d668645669045ce678722b33a": {
     "views": []
    },
    "4dfd1ea965d14d109a12b3225ad69758": {
     "views": []
    },
    "4e3cbd1a4b534648a5a7899fb58ec578": {
     "views": []
    },
    "512c07855f2c4a70a9fb745d620f4467": {
     "views": []
    },
    "518d42033caa4635863c690eda3f66cf": {
     "views": []
    },
    "5259e653fa7c4b0ea7acccc4893a57bd": {
     "views": []
    },
    "52dfe65e7c824ae49b3f3cab62ee1731": {
     "views": []
    },
    "53ea6774cdcc4a81b7a45a30fafd1695": {
     "views": []
    },
    "53ed6b33f06e4b52b111308514391b7e": {
     "views": []
    },
    "5437c296a7c449eb87379bfbd9ec92ed": {
     "views": []
    },
    "54874b7558f343f796178fc502b63b42": {
     "views": []
    },
    "56e5908446d2476b86f12ba9d53c2f58": {
     "views": []
    },
    "56f2a086fd3049c9a50a881dfbe5425e": {
     "views": []
    },
    "573b4782ca8640dab258738cd700eeb5": {
     "views": []
    },
    "57ed2f505111495b88bff6c3539c3d74": {
     "views": []
    },
    "588154ab6477491a878cdbf4579f8d3b": {
     "views": []
    },
    "5884fc3e679e43dcb16240715d38f4e6": {
     "views": []
    },
    "588d1a84dd1f4ee4a717abd48b09bfa0": {
     "views": []
    },
    "58c0ad05223c46e68e313b6a83b4c53b": {
     "views": []
    },
    "58c463c53c264fa591f94b7ff2e902d7": {
     "views": []
    },
    "595e614752cb4ddea0a522f2337af454": {
     "views": []
    },
    "59712535b6bb48c2abd4b99402f45418": {
     "views": []
    },
    "5a7aa79ef8ac424e886e926dfe25cf8d": {
     "views": []
    },
    "5acdd61e402c45aead8392345594dde9": {
     "views": []
    },
    "5ae069287dd740559a9b56cefbbfb65d": {
     "views": []
    },
    "5b1ca1f4e1aa4979a1492b0289dc33b9": {
     "views": []
    },
    "5b58da0a2c1c491ca615dc4581bb4d25": {
     "views": []
    },
    "5b68feafbff440c196d59a276d6dcc71": {
     "views": []
    },
    "5c071f05cb504285996e94656572716d": {
     "views": []
    },
    "5ca5e09fa86e414780e364e45b8ae2ac": {
     "views": []
    },
    "5cd15303cc124de38ad4e4b9fbc1f7e4": {
     "views": []
    },
    "5dea3d83273d452796c5d4b4bb96d03d": {
     "views": []
    },
    "5e40708dea4c48f1b02474137dcd5c77": {
     "views": []
    },
    "5e627dedba394ad08321db70b52b3007": {
     "views": []
    },
    "5ed2ed06e8d84009b76ad932c07bc553": {
     "views": []
    },
    "604c190a14cd4cab960d8877a712adec": {
     "views": []
    },
    "60b8801d902d44efa3559c801b863b13": {
     "views": []
    },
    "60d9e023ba594b0eb4162fbab6827194": {
     "views": []
    },
    "60e4cac221ca4ff3b3c1530644ca0f63": {
     "views": []
    },
    "61782ab82f7646e8921eb1765f5ca29f": {
     "views": []
    },
    "61b9e84312ea49df853062e244608c3f": {
     "views": []
    },
    "61be323fae5244ff9e0bafc55c245d56": {
     "views": []
    },
    "627647018f624766bf0e419ee147c2eb": {
     "views": []
    },
    "63cc24e193fd4545ab59f934e63d7d52": {
     "views": [
      {
       "cell": {
        "cell_type": "code",
        "execution_count": 79,
        "metadata": {
         "collapsed": false,
         "run_control": {
          "read_only": false
         },
         "trusted": true
        },
        "outputs": [
         {
          "data": {
           "image/png": "iVBORw0KGgoAAAANSUhEUgAABIYAAADDCAYAAAD3NRrMAAAABHNCSVQICAgIfAhkiAAAAAlwSFlz\nAAALEgAACxIB0t1+/AAAIABJREFUeJzt3X+wZHV55/HPM04oFQyjSSTIjxmE+GNJzNXdHWcV4zVq\nGNSICW4chcglVQsVQ0hl/QEaWXDJlrCVbAYlKcUQR1Makmg2Dlk1QpxvbZnE7ERzFRECOoA4GLKu\noo7ZZBGe/aN7Zvr2dN/5cU6f53v6eb+qbs2cM+f28+Pb3ffc75zzbXN3AQAAAAAAIJ810QkAAAAA\nAAAgBhNDAAAAAAAASTExBAAAAAAAkBQTQwAAAAAAAEkxMQQAAAAAAJDU2ugExpkZH5MGAMCcc3eL\nzgH7cf4FAEAOk87BqrxiyN3n6uuKK64Iz4EvxqQPX4xLfV+MSZ1ffR8X1KnpmEY/r3hNUju1Uz+1\nUz+1r/41TZUTQwAAAAAAAJg9JoY6cM8990SngDGMSZ0Yl/owJnViXIC6ZH5NUntemevPXLuUu/55\nrb2ViSEzu8HMHjCzz69yzDvM7C4zWzazhTbi9sXCQqpye4ExqRPjUh/GpE6MC1CXzK9Jas8rc/2Z\na5dy1z+vtdtq95kd8oOYnSFpj6T3u/szJvz7WZIudveXmtmzJV3r7pumPJYfSk53332vLr98m3bv\nfkQnnLBGV121pFNOWd+skGToYTvoY3P0sDl62Bw9bO5Qe2hmchafrsqhnn+t8v2rrl0AAADiTTsH\na2ViaBhgvaSbpkwMvUvSDnf/w+H27ZIW3f2BCcce9MTk7rvv1Ytf/E59+ctvk3S0pO/q1FOv0M03\n/zIn8YeIHraDPjZHD5ujh83Rw+YOp4dMDNWHiSEAAObftHOwrtYYOkHSfSPbu4f7jsjll28bOfGU\npKP15S+/TZdfvu3IM5yhUkp0CgfoWw/b1taYZO9jG1b2sIgeHr5ZPg9rfP+ahb69lmscl771EGhT\nja/JrlB7Xpnrz1y7lLv+ea19bXQCkywtLWnDhg2SpHXr1mlhYUGLi4uSBgPxhS/s0v4TzzL8c1H3\n3//IvoEaPT56e3l5uap8JGn37ke0/xdxSVqUdLRuu22XSinh+c16e6+mjzd4Lu7UoH/S3n7ef/8j\nVdVb8/bK1/Py8M96X881bs/y9Vzj+9cstgc93KmBxeGfO3Xbbbu0V0351ri92vthKUXbtm2TpH0/\n3wEAAFCJw/3c+2lfktZL+vyUf3uXpFeNbN8h6bgpx/rBnHvulS7tcclHvvb4uedeedDvxQA9bAd9\nbI4eNkcPm6OHzR1OD4c/61s7B+GrlfO4A8bpcDT9fgAAMHvTzsHavJXMhl+TbJf0Wkkys02SHvQJ\n6wsdqquuWtKpp14h6bvDPYN1DK66aulIHzIdetgO+tgcPWyOHjZHD5ujh93jU2EBAEAb2vq4+g9K\n+itJTzGzr5jZBWZ2kZldKEnu/lFJd5vZlyS9W9LrmsQ75ZT1uvnmX9a55/6GJOncc3+j6gVC915u\nX5O+9bBtbY1J9j62YWUPCz08ArN8Htb4/jULfXst1zgufevhnHivpDOn/ePwU2FPdfcfkXSRBldw\nt+ruu+/Veee9TZJ03nlv091339t2iEOK/4IXXBEaf2Hh/M7jZ659NH5E/ZlrH43P856xZ+y7jz+z\n+iddRhT5pcO8FLkPVy7v2LEjOoVV9aGHbZvFmGTsY9sGH16IJtp+Htb+/jULfXgt1z4uB+uhuJWs\nzfOmw7mV/3Y1uJV/3K5d9/ipp75+eAuhXNrjp576et+1657DfqwjsTK+B8ff0Wn8zLUfGL/b+jPX\nfmB8nveMPWPfffxm9U87Bws/oTkgoTmcGKodPWwHfWyOHjZHD5ujh80xMdTpedNqE0M3SXrOyPYt\nkp415djVB22CletKqfO1uaLXBouMn7n26PiZa4+On7n27PEz1952/GnnYFV+KhkAAAC6dbBPhZVW\n+1RJafBJdN19qmT0p9RGxo/+VNTM8aM/xTJz/OhPVSZ+XPzM7/dN42/dulXLy8sH/1TYSbNFkV+a\nwyuG+n7J/zziVrI6cStZc9xK1lwfXsu1jwtXDHV63rTaFUOtfirsOK4YGo2/I/H/nndb+4Hxu60/\nc+0Hxud5z9gz9t3Hb1b/tHOw8BOaAxJiYqhzfehh25gYqhMTQ80xMdRcH17LtY8LE0OdnjdtkHTr\nlH97iaT/Mfz7JkmfXuVxVh+0CVhjiPU25mG9jWaxc9V+YHye94w9Y999/Gb1MzGEqehhO+hjc/Sw\nOXrYHD1sjomhzs6ZPijpfkn/Iukrki7Q4NPHLhw55jpJX5L0OU1ZX8iP4Pxrr1277hn+T6b83HOv\n7Owk+cD4ni5+5tqj42euPTp+5tqzx89ce5vxp52D2eDf6mFmfjg5mQ0vYMYRo4ftoI/N0cPm6GFz\n9LC5g/XQzOTu1l1GOJjDPf+a8P2KPKeMft1Gxs9ce3T8zLVHx89ce/b4mWtvI/60c7A1TZLCodm7\nABTqwZjUqkQngDG8VurEuAC1KdEJBCrRCQQq0QkEK9EJBCrRCQQr0QkEKtEJzAQTQwAAAAAAAElx\nKxnoYUvoY3P0sDl62Bw9bI5byfqHW8n6Gz9z7dHxM9ceHT9z7dnjZ669jfjcSgYAAAAAAIAVmBjq\nAGtB1IcxqVWJTgBjeK3UiXEBalOiEwhUohMIVKITCFaiEwhUohMIVqITCFSiE5gJJoYAAAAAAACS\nYo0h0MOW0Mfm6GFz9LA5etgcawz1D2sM9Td+5tqj42euPTp+5tqzx89cexvxWWMIAAAAAAAAKzAx\n1AHWgqgPY1KrEp0AxvBaqRPjAtSmRCcQqEQnEKhEJxCsRCcQqEQnEKxEJxCoRCcwE0wMAQAAAAAA\nJMUaQ6CHLaGPzdHD5uhhc/SwOdYY6h/WGOpv/My1R8fPXHt0/My1Z4+fufY24rPGEAAAAAAAAFZg\nYqgDrAVRH8akViU6AYzhtVInxgWoTYlOIFCJTiBQiU4gWIlOIFCJTiBYiU4gUIlOYCaYGAIAAAAA\nAEiKNYZAD1tCH5ujh83Rw+boYXOsMdQ/rDHU3/iZa4+On7n26PiZa88eP3PtbcRnjSEAAAAAAACs\nwMRQB1gLoj6MSa1KdAIYw2ulTowLUJsSnUCgEp1AoBKdQLASnUCgEp1AsBKdQKASncBMMDEEAAAA\nAACQFGsMgR62hD42Rw+bo4fN0cPmWGOof1hjqL/xM9ceHT9z7dHxM9eePX7m2tuIzxpDAAAAc8bM\nNpvZHWZ2p5ldOuHff8DMPmZmy2Z2q5ktBaQJAAAqxsRQB1gLoj6MSa1KdAIYw2ulTowLJMnM1ki6\nTtKZkk6X9Goze9rYYRdLWnb3BUkvkPSbZra220wzKNEJBCrRCQQq0QkEK9EJBCrRCQQr0QkEKtEJ\nzAQTQwAAAP20UdJd7n6vuz8k6UZJZ48d8w+SHjf8++Mk/R93/16HOQIAgMqxxhDoYUvoY3P0sDl6\n2Bw9bI41hrphZudIOtPdLxxunydpo7tfMnLMGkl/Iempko6R9Cp3/9iEx2KNoZ7Gz1x7dPzMtUfH\nz1x79viZa28j/rRzsFYuJTazzZK2anAF0g3ufs3Yvz9f0kck7Rru+hN3//U2YgMAAGCqN0v6nLu/\nwMxOlXSzmT3D3feMH7i0tKQNGzZIktatW6eFhQUtLi5K2n/74rTtvfsO9fi2t6WiUrqLV1t8tmO2\nJeITn/hdx49+v+1b/K1bt2p5eXnfz/dpGl8xNPyfqDslvVDS/ZJ2Stri7neMHPN8Sa9395cfwuPN\n3RVDZeREqUZ96GHbZjEmGfvYNrMi98XoNHqt7edh7e9fs9CH13Lt48IVQ90ws02SrnT3zcPtyyT5\n6H/QmdlHJf0Xd//L4fZfSLrU3f927LG4YqhR/LifX5lrH8SPvHIhb+2D+Dzv4+LnrT9z7YP49X4q\n2aHc3y5JnAACAAC0Z6ek08xsvZkdJWmLpO1jx9wu6UWSZGbHSXqK9l/BDQAA0MoVQ4dyf/vzJX1Y\n0lcl7Zb0Rnf/4pTHm7srhmpHD9tBH5ujh83Rw+boYXNcMdSd4e3812r/7fxXm9lFGlw5dL2Z/aCk\n90o6WYP/pHu7u//BhMfhiqGexs9ce3T8zLVHx89ce/b4mWtvI/5M1xg6BJ+RdLK7/5OZnSXpTzX4\nH6uJDuce9+h7/OZlO/oeVbbZHuD13MY2r+dm2/Sv/e1SirZt2yZJB73HHYfH3T+uwcLSo/vePfL3\nr0v66a7zAgAA/dHGFUMHvb99wvfcLelfu/s3Jvzb3F0xVEq/14KYR7MYk4x9bFv0PbvzgDWGmuvD\na7n2ceGKof7hiqGm8VlvIy4+awzFxed5Hxc/b/2Zax/Er3eNoYPe3z68p33v3zdqMCF1wKQQAAAA\nAAAAutP4iiHpkO5v/yVJvyjpIUn/V9KvuvvfTHmsubtiqHb0sB30sTl62Bw9bI4eNscVQ/3DFUP9\njZ+59uj4mWuPjp+59uzxM9feRvxp52CtTAy1iYmh7tHDdtDH5uhhc/SwOXrYHBND/cPEUH/jZ649\nOn7m2qPjZ649e/zMtbcRf5a3kuEg9i9oilowJrUq0QlgDK+VOjEuQG1KdAKBSnQCgUp0AsFKdAKB\nSnQCwUp0AoFKdAIzwcQQAAAAAABAUtxKBnrYEvrYHD1sjh42Rw+b41ay/uFWsv7Gz1x7dPzMtUfH\nz1x79viZa28jPreSAQAAAAAAYAUmhjrAWhD1YUxqVaITwBheK3ViXIDalOgEApXoBAKV6ASClegE\nApXoBIKV6AQClegEZoKJIQAAAAAAgKRYYwj0sCX0sTl62Bw9bI4eNscaQ/3DGkP9jZ+59uj4mWuP\njp+59uzxM9feRnzWGAIAAAAAAMAKTAx1gLUg6sOY1KpEJ4AxvFbqxLgAtSnRCQQq0QkEKtEJBCvR\nCQQq0QkEK9EJBCrRCcwEE0MAAAAAAABJscYQ6GFL6GNz9LA5etgcPWyONYb6hzWG+hs/c+3R8TPX\nHh0/c+3Z42euvY34rDEEAAAAAACAFZgY6gBrQdSHMalViU4AY3it1IlxAWpTohMIVKITCFSiEwhW\nohMIVKITCFaiEwhUohOYCSaGAAAAAAAAkmKNIdDDltDH5uhhc/SwOXrYHGsM9Q9rDPU3fubao+Nn\nrj06fubas8fPXHsb8VljCAAAYM6Y2WYzu8PM7jSzS6ccs2hmf2dmXzCzHV3nCAAA6sbEUAdYC6I+\njEmtSnQCGMNrpU6MCyTJzNZIuk7SmZJOl/RqM3va2DHHSvptSS9z9x+V9O87TzSFEp1AoBKdQKAS\nnUCwEp1AoBKdQLASnUCgEp3ATDAxBAAA0E8bJd3l7ve6+0OSbpR09tgxr5H0YXffLUnu/vWOcwQA\nAJVjjSHQw5bQx+boYXP0sDl62BxrDHXDzM6RdKa7XzjcPk/SRne/ZOSY35L0fRpcUXSMpHe4++9P\neCzWGOpp/My1R8fPXHt0/My1Z4+fufY24k87B1vbJCkAAABUba2kZ0n6SUlHS/prM/trd//S+IFL\nS0vasGGDJGndunVaWFjQ4uKipP23L07b3rvvUI9ve1sqKqW7eLXFZztmWyI+8Ynfdfzo99u+xd+6\ndauWl5f3/XyfhiuGOlBGTpRq1Icetm0WY5Kxj20zK3JfjE6j19p+Htb+/jULfXgt1z4uXDHUDTPb\nJOlKd9883L5Mkrv7NSPHXCrp0e7+tuH270r6mLt/eOyxuGKoUfy4n1+Zax/Ej7xyIW/tg/g87+Pi\n560/c+2D+HwqGQAAAPbbKek0M1tvZkdJ2iJp+9gxH5F0hpk9ysweK+nZkm7vOE8AAFAxrhgCPWwJ\nfWyOHjZHD5ujh81xxVB3zGyzpGs1+M++G9z9ajO7SIMrh64fHvMGSRdIeljSe9z9nRMehyuGeho/\nc+3R8TPXHh0/c+3Z42euvY34087BmBgCPWwJfWyOHjZHD5ujh80xMdQ/TAz1N37m2qPjZ649On7m\n2rPHz1x7G/G5lSzQ/gW6UAvGpFYlOgGM4bVSJ8YFqE2JTiBQiU4gUIlOIFiJTiBQiU4gWIlOIFCJ\nTmAmmBgCAAAAAABIilvJQA9bQh+bo4fN0cPm6GFz3ErWP9xK1t/4mWuPjp+59uj4mWvPHj9z7W3E\n51YyAAAAAAAArMDEUAdYC6I+jEmtSnQCGMNrpU6MC1CbEp1AoBKdQKASnUCwEp1AoBKdQLASnUCg\nEp3ATLQyMWRmm83sDjO708wunXLMO8zsLjNbNrOFNuICAAAAAADgyDVeY8jM1ki6U9ILJd0vaaek\nLe5+x8gxZ0m62N1fambPlnStu2+a8nj+4g0/pkd/89v658d/v/7T+35HkvSfz3/din0nnXSCtl1+\nuW75wG696NwTtHTVVbrvvt0HHDfpeyftO+MnztCn/uenjvj7+7jvUHuYsTeH8xxp+7nYx31NnyPz\n3MOuXj997GFt7y1RPaytD1308HnPfx5rDFWGNYb6Gz9z7dHxM9ceHT9z7dnjZ669jfhT13l090Zf\nkjZJ+tjI9mWSLh075l2SXjWyfbuk46Y8nu8Z1Op7JD/LjvZzHvW4FftesuYYf92TTlix74Ljj/dX\njh036Xsn7Xvl2mP9uq3v9FeuPfaIvr+P+w61hxl7czjPkbafi33c1/Q5Ms897Or108ce1vbeEtXD\n2vrQ1c+VwelHs/MPvtr9Go7JEWv6/U0Fhw+Nn7n26PiZa4+On7n27PEz195G/GnnYG2cSJwj6fqR\n7fMkvWPsmJskPWdk+xZJz5ryeIO0hl9v1f6Jolnt2yP5xkc9dmZxdnRYS996E7XvcMdkXvtQ23Ok\nz6+VeX3ezGpM5qE3kX3o82tlj+RMDNX3xcRQ0/g7AmOHhR7G3xEcPzL2jrjgnnvsM9c+iB8anrEP\njd/0+yefg7VxK9k5ks509wuH2+dJ2ujul4wcc5Okt7v7Xw23b5H0Jnf/7ITH8/Mlva9RVgAAoDbn\nS9og6W2SnFvJqsKtZE3jF7kvBsXOW/sgflz9mWsfxOd5Hxc/b/2Zax/Eb1b/LD+ufrekk0e2Txzu\nGz/mpIMcs882Df87UdJbJe0Z2Z7Fvj2SNj7qsTOP08d99IY+0Bt6Q2/oQ1v7tkl6o4B5tBidQKDF\n6AQCLUYnEGwxOoFAi9EJBFuMTiDQYnQCM9HGxNBOSaeZ2XozO0rSFknbx47ZLum1kmRmmyQ96O4P\nTHvA7478+Rk7Wuc/6nEr9n12zTF605NOWLFv9/HHa2nsuEnfO2nf0tpj9drfvEZLa489ou/v475D\n7WHG3hzOc6Tt52If9zV9jsxzD7t6/fSxh7W9t0T1sLY+dPVzBQAAAPVY2/QB3P1hM7tY0ic0mGi6\nwd1vN7OLBv/s17v7R83sJWb2JQ3OCy9Y7TF/ZsOP6dEPfkf/vO5x+z755GfOf92KfSeddIJ+4/LL\n9cj992vNk56kK4affDJ+3KTvnbTvjJ84Qz/+zIUj/v7V9u353/+oY37oia09Xlv7DrWHs+xN1L4j\nGZNpfWj7udjHfU2fI3t7uOu22/Tk00+fqx529fqZ1fNwlu9ftb23RL2Wj6QPff+58qHnP0/AfCma\n1/9FPrgias+qKG/9RXlrl3LXXzSPtTdeY6htTe9xr1EpRYuLi9FpYARjUifGpT6MSZ36Pi5TPyoV\nYVhjqGn8wnobYfHj6s9c+yA+z/u4+Hnrz1z7IH6z+qedgzExBAAAOsXEUH2YGOpv/My1R8fPXHt0\n/My1Z4+fufY24s9y8WkAAAAAAAD0EBNDHSilRKeAMYxJnRiX+jAmdWJcgNqU6AQClegEApXoBIKV\n6AQClegEgpXoBAKV6ARmgokhAAAAAACApFhjCAAAdIo1hurDGkP9jZ+59uj4mWuPjp+59uzxM9fe\nRnzWGAIAAJgzZrbZzO4wszvN7NJVjvu3ZvaQmf1sl/kBAID6MTHUAdaCqA9jUifGpT6MSZ0YF0iS\nma2RdJ2kMyWdLunVZva0KcddLenPu80wkxKdQKASnUCgEp1AsBKdQKASnUCwEp1AoBKdwEwwMQQA\nANBPGyXd5e73uvtDkm6UdPaE435Z0ock/WOXyQEAgH5gjSEAANAp1hhqh5mdI+lMd79wuH2epI3u\nfsnIMU+S9AF3f4GZvVfSTe7+JxMeizWGeho/c+3R8TPXHh0/c+3Z42euvY34087B1jZJCgAAAFXb\nKml07aGpE3JLS0vasGGDJGndunVaWFjQ4uKipP23L07b3rvvUI9ve1sqKqW7eLXFZztmWyI+8Ynf\ndfzo99u+xd+6dauWl5f3/XyfhiuGOlBGTpRQB8akToxLfRiTOvV9XLhiqB1mtknSle6+ebh9mSR3\n92tGjtm196+SflDSdyVd6O7bxx6LK4YaxS9yXwyKnbf2QfzIKxfy1j6Iz/M+Ln7e+jPXPojPFUMA\nAADYb6ek08xsvaSvSdoi6dWjB7j7k/f+feRWshWTQgAAIDeuGAIAAJ3iiqH2mNlmSddq8IEiN7j7\n1WZ2kQZXDl0/duzvSfoz1hiar/iZa4+On7n26PiZa88eP3PtbcSfdg7GxBAAAOgUE0P1YWKov/Ez\n1x4dP3Pt0fEz1549fuba24g/7RxsTZOkcGj2L9CFWjAmdWJc6sOY1IlxAWpTohMIVKITCFSiEwhW\nohMIVKITCFaiEwhUohOYCSaGAAAAAAAAkuJWMgAA0CluJasPt5L1N37m2qPjZ649On7m2rPHz1x7\nG/G5lQwAAAAAAAArMDHUAdaCqA9jUifGpT6MSZ0YF6A2JTqBQCU6gUAlOoFgJTqBQCU6gWAlOoFA\nJTqBmWBiCAAAAAAAICnWGAIAAJ1ijaH6sMZQf+Nnrj06fubao+Nnrj17/My1txGfNYYAAAAAAACw\nAhNDHWAtiPowJnViXOrDmNSJcQFqU6ITCFSiEwhUohMIVqITCFSiEwhWohMIVKITmAkmhgAAAAAA\nAJJijSEAANAp1hiqD2sM9Td+5tqj42euPTp+5tqzx89cexvxWWMIAAAAAAAAKzAx1AHWgqgPY1In\nxqU+jEmdGBegNiU6gUAlOoFAJTqBYCU6gUAlOoFgJTqBQCU6gZlgYggAAAAAACAp1hgCAACdYo2h\n+rDGUH/jZ649On7m2qPjZ649e/zMtbcRf9o52NpmSdnjJf2hpPWS7pH0c+7+rQnH3SPpW5IekfSQ\nu29sEhcAAAAAAADNNb2V7DJJt7j7UyV9UtKbpxz3iKRFd39mxkkh1oKoD2NSJ8alPoxJnRgXoDYl\nOoFAJTqBQCU6gWAlOoFAJTqBYCU6gUAlOoGZaDoxdLak9w3//j5Jr5hynLUQCwAAAAAAAC1qtMaQ\nmX3D3Z8wbXtk/y5JD0p6WNL17v6eVR6TNYYAAJhjrDFUH9YY6m/8zLVHx89ce3T8zLVnj5+59jbi\nH/EaQ2Z2s6TjRndJcklvnXD4tBSf6+5fM7MfknSzmd3u7p+aFnNpaUkbNmyQJK1bt04LCwtaXFyU\ntP/yebbZZpttttlmux/bpRRt27ZNkvb9fEc7zGyzpK0aXJl9g7tfM/bvr5F06XDzO5J+0d1v7TZL\nAABQs6ZXDN2uwdpBD5jZD0va4e5PP8j3XCHpO+7+36b8+9xdMVRK2XeijDowJnViXOrDmNSp7+PC\nFUPtMLM1ku6U9EJJ90vaKWmLu98xcswmSbe7+7eGk0hXuvumCY/FFUON4he5LwbFzlv7IH7klQt5\nax/E53kfFz9v/ZlrH8SfzRVDa5okJWm7pKXh38+X9JEJgR9rZscM/360pJ+S9IWGcQEAALLbKOku\nd7/X3R+SdKMG6z/u4+6fHvnE2E9LOqHjHAEAQOWaXjH0BEl/JOkkSfdq8HH1D5rZ8ZLe4+4vM7NT\nJP13DW4zWyvpA+5+9SqPOXdXDAEAgP24YqgdZnaOpDPd/cLh9nmSNrr7JVOOf4Okp+w9fuzfuGKo\np/Ez1x4dP3Pt0fEz1549fuba24h/xGsMrcbdvyHpRRP2f03Sy4Z/v1vSQpM4AAAAOHJm9gJJF0g6\nY9oxTdZ43Lsvak0rqaiUuDW1ouOzHbMtEZ/4xO86fvT7bd/ib926VcvLywdd47HRFUOzMI9XDJWR\nEyXUgTGpE+NSH8akTn0fF64Yasdw/aAr3X3zcPsyST5hAepnSPqwpM3u/uUpj8UVQ43is95GXHzW\nGIqLz/M+Ln7e+jPXPohf5xpDAAAAiLFT0mlmtt7MjpK0RYP1H/cxs5M1mBT6+WmTQgAAIDeuGAIA\nAJ3iiqH2DD9p7Frt/7j6q83sIg2uHLrezN4j6Wc1WAvSJD3k7hsnPA5XDPU0fubao+Nnrj06fuba\ns8fPXHsb8aedgzExBAAAOsXEUH2YGOpv/My1R8fPXHt0/My1Z4+fufY24nMrWaD9C3ShFoxJnRiX\n+jAmdWJcgNqU6AQClegEApXoBIKV6AQClegEgpXoBAKV6ARmgokhAAAAAACApLiVDAAAdIpbyerD\nrWT9jZ+59uj4mWuPjp+59uzxM9feRnxuJQMAAAAAAMAKTAx1gLUg6sOY1IlxqQ9jUifGBahNiU4g\nUIlOIFCJTiBYiU4gUIlOIFiJTiBQiU5gJpgYAgAAAAAASIo1hgAAQKdYY6g+rDHU3/iZa4+On7n2\n6PiZa88eP3PtbcRnjSEAAAAAAACswMRQB1gLoj6MSZ0Yl/owJnViXIDalOgEApXoBAKV6ASClegE\nApXoBIKV6AQClegEZoKJIQAAAAAAgKRYYwgAAHSKNYbqwxpD/Y2fufbo+Jlrj46fufbs8TPX3kZ8\n1hgCAAAAAADACkwMdYC1IOrDmNSJcakPY1InxgWoTYlOIFCJTiBQiU4gWIlOIFCJTiBYiU4gUIlO\nYCaYGAIAAAAAAEiKNYYAAECnWGOoPqwx1N/4mWuPjp+59uj4mWvPHj9z7W3EZ40hAAAAAAAArMDE\nUAdYC6I+jEmdGJf6MCZ1YlyA2pToBAKV6AQClegEgpXoBAKV6ASClegEApXoBGaCiSEAAAAAAICk\nWGMIAAD3i696AAAJ8klEQVR0ijWG6sMaQ/2Nn7n26PiZa4+On7n27PEz195GfNYYAgAAmDNmttnM\n7jCzO83s0inHvMPM7jKzZTNb6DpHAABQNyaGOsBaEPVhTOrEuNSHMakT4wJJMrM1kq6TdKak0yW9\n2syeNnbMWZJOdfcfkXSRpHd1nmgKJTqBQCU6gUAlOoFgJTqBQCU6gWAlOoFAJTqBmWBiCAAAoJ82\nSrrL3e9194ck3Sjp7LFjzpb0fkly97+RdKyZHddtmgAAoGasMQQAADrFGkPtMLNzJJ3p7hcOt8+T\ntNHdLxk55iZJb3f3vxpu3yLpTe7+2bHHYo2hnsbPXHt0/My1R8fPXHv2+JlrbyP+tHOwtU2SAgAA\nwHwwazZX1/T7mwoOHxo/c+3R8TPXHh0/c+3Z42eufVbxuZWsA6wFUR/GpE6MS30YkzoxLhjaLenk\nke0Th/vGjznpIMdIktz9iL+afn/fv3bs2BGeA7VTO/VTO/VT+8G+pmk0MWRmrzSzL5jZw2b2rFWO\nO+gnZgAAAOCw7JR0mpmtN7OjJG2RtH3smO2SXitJZrZJ0oPu/kC3aQIAgJo1WmPIzJ4q6RFJ75b0\nBh+7X314zBpJd0p6oaT7NTiJ2eLud0x5TG+SEwAAqBtrDLXHzDZLulaD/+y7wd2vNrOLJLm7Xz88\n5jpJmyV9V9IFU87XGp1/Ra8xBAAADm4mawy5+98PH3y1k7t9n5gxPHbvJ2ZMnBgCAADAoXH3j0t6\n6ti+d49tX9xpUgAAoFe6WGPoBEn3jWx/dbgvDdaCqA9jUifGpT6MSZ0YF6AumV+T1J5X5voz1y7l\nrn9eaz/oFUNmdrOk40Z3SXJJv+buN80iqaWlJW3YsEGStG7dOi0sLGhxcVHS/oHo0/by8nJV+bC9\nXy35sD3YXl5erioftnn/Yrud7VKKtm3bJkn7fr4DAACgDo3WGNr3IGY7JL1+yj3rmyRd6e6bh9uX\naXDf+zVTHos1hgAAmGOsMVQf1hgCAGD+TTsHa/NWsmkneIfyiRkAAAAAAADoWKOJITN7hZndJ2mT\npD8zs48N9x9vZn8mSe7+sKSLJX1C0m2SbnT325ul3S97L6dHPRiTOjEu9WFM6sS4AHXJ/Jqk9rwy\n15+5dil3/fNae6OJIXf/U3c/yd0f4+7Hu/tZw/1fc/eXjRz3cXd/qrv/iLtf3TTpvtm7bgrqwZjU\niXGpD2NSJ8YFqEvm1yS155W5/sy1S7nrn9fau/hUsvQefPDB6BQwhjGpE+NSH8akTowLUJfMr0lq\nzytz/Zlrl3LXP6+1MzEEAAAAAACQFBNDHbjnnnuiU8AYxqROjEt9GJM6MS5AXTK/Jqk9r8z1Z65d\nyl3/vNbeysfVt8nM6koIAAC0jo+rrwvnXwAA5DDpHKy6iSEAAAAAAAB0g1vJAAAAAAAAkmJiCAAA\nAAAAICkmhgAAAAAAAJJiYmjGzOz1ZvaImT1hZN+bzewuM7vdzH4qMr9szOy/Dvu+bGYfNrPvH/k3\nxiWImW02szvM7E4zuzQ6n6zM7EQz+6SZ3WZmt5rZJcP9jzezT5jZ35vZn5vZsdG5ZmNma8zss2a2\nfbjNmKAaWd/Dp71nZjL+3pSJmR1rZn88PG+8zcyeHZ1TV4bnzLeZ2efN7ANmdlR0TrNkZjeY2QNm\n9vmRfSl+Dk+pfervU/NmUv0j/3bA7/l9xsTQDJnZiZJeLOnekX1Pl/Rzkp4u6SxJv2NmfDJLdz4h\n6XR3X5B0l6Q3S5KZ/SsxLiHMbI2k6ySdKel0Sa82s6fFZpXW9yT9R3c/XdK/k/RLw7G4TNIt7v5U\nSZ/U8HWDTv2KpC+ObDMmqELy9/Bp75mZjL83ZXKtpI+6+9Ml/bik24Pz6YSZrZf0HyQ9092fIWmt\npC2xWc3cezV4jxuV5efwpNon/j41pybVP/H3/L5jYmi2fkvSG8f2nS3pRnf/nrvfo8GLaWPXiWXl\n7re4+yPDzU9LOnH495eLcYmyUdJd7n6vuz8k6UYNXifomLv/g7svD/++R4OT3BM1GI/3DQ97n6RX\nxGSY0/Dk4yWSfndkN2OCWqR9D5/ynnlCbFbdmfLelMLwConnuft7JWl4/vjt4LS68m1J/0/S0Wa2\nVtJjJd0fm9JsufunJH1zbHeKn8OTal/l96m5M2Xspcm/5/caE0MzYmYvl3Sfu9869k8nSLpvZHu3\nEp1EVOYXJH10+HfGJc54778qeh/OzDZIWtDgB/5x7v6ANPhFSNIT4zJLae/Jh4/sY0xQC97DteI9\n829iM+nUpPemLE6R9HUze+/wVrrrzewx0Ul1wd2/Kek3JX1Fg/PlB939ltisQjyRn8OSBr9PfSw6\niS6t8nt+rzEx1ICZ3Ty8t3bv163DP18u6S2SrojOMaNVxuWnR475NUkPufsfBKYKVMnMjpH0IUm/\nMvxf8PGT/oy/BIQws5dKemB4VcJqt7cyJkCQCe+Zc2/Ce1O22+/XSnqWpN9292dJ+icNbi2ae2b2\nZEm/Kmm9pCdJOsbMXhObVRXS/Rwe+X3qg9G5dGU4ATz+e/5cvP+tjU6gz9z9xZP2m9mPStog6XPD\ndWpOlPRZM9uowcz6ySOHnzjch5ZMG5e9zGxJg0uff3Jk925JJ41sMy7d4TVRkeFl4R+S9Pvu/pHh\n7gfM7Dh3f8DMfljSP8ZlmM5zJb3czF4i6TGSHmdmvy/pHxgTVCL1e/iU98wMJr03vd/dXxucV1e+\nqsEVA3873P6QpCwLr/8bSX/p7t+QJDP7E0nPkZRmcmAo9bnRlN+nMjhVB/6e/xkz2+juvX4OcMXQ\nDLj7F9z9h939ye5+igY/PJ45fLJsl/QqMzvKzE6RdJqk/xWZbyZmtlmDy55f7u7/MvJP2yVtYVxC\n7JR0mpmtH36qxRYNxgMxfk/SF9392pF92yUtDf9+vqRMv/yEcve3uPvJ7v5kDV4bn3T3n5d0kxgT\n1CH7e/ik98y5N+W9KcukkIa3EN1nZk8Z7nqh8izC/feSNpnZo4e/GL9QORbeHr8yLtO50YraV/l9\nal7tq/8gv+f3GlcMdcO1/8n0RTP7Iw1+eDwk6XXunu7Sw0DvlHSUpJuHHzr2aXd/HeMSx90fNrOL\nNfiEgzWSbnD3DCcY1TGz50o6V9KtZvZ3Grx3vUXSNZL+yMx+QYNPX/i5uCwxdLUYE1Qg83v4tPdM\nd/94bGboyCWSPmBm3ydpl6QLgvPphLt/zszeL+kzkh6W9HeSro/NarbM7IOSFiX9gJl9RYPbiK6W\n9Mfz/nN4Su1v0YTfp8KSnKFJ9e9ddH5o3+/5fWf87gsAAAAAAJATt5IBAAAAAAAkxcQQAAAAAABA\nUkwMAQAAAAAAJMXEEAAAAAAAQFJMDAEAAAAAACTFxBAAAAAAAEBSTAwBAAAAAAAk9f8ByuMEEFn7\nQ3gAAAAASUVORK5CYII=\n",
           "text/plain": "<matplotlib.figure.Figure at 0x7f62ac7a45c0>"
          },
          "metadata": {},
          "output_type": "display_data"
         }
        ],
        "source": "from ipywidgets import interact, Label, HBox, VBox\nNw = IntSlider(value=16, min=1, max=16, step=1, continuous_update=False, description='N:')\nkw = IntSlider(value=1, min=1, max=16, step=1, continuous_update=False, description='width:')\nd2 = interactive(dfscos, N=Nw, k=kw)\ndisplay(d2)"
       },
       "cell_index": 4,
       "root": true
      }
     ]
    },
    "644f0e47644743b699c92a543832487a": {
     "views": []
    },
    "6488dbbd54714dc69972fe3528726950": {
     "views": []
    },
    "64913ddc689342c8843fadeb3f86bb58": {
     "views": []
    },
    "65e63f3ce902478d8fc545980d4f5ecc": {
     "views": []
    },
    "6603932f61744b8dabf0a3666defb021": {
     "views": []
    },
    "665369d33c8948e2ab70250fc29f0cfc": {
     "views": []
    },
    "66a967cfe22044e3892cce9e82726d92": {
     "views": []
    },
    "677ea43e32814b7f8a84fe38bc115297": {
     "views": []
    },
    "67cbc9f5c5f842a29265acffa3116117": {
     "views": []
    },
    "683ed2289cb2406282f85357d149fa71": {
     "views": []
    },
    "68ee84723015417baea43878d3c0fd68": {
     "views": []
    },
    "69a3cd90e4644a76ae14c8dec7e9301b": {
     "views": []
    },
    "6a9a19618051415b970314393196c938": {
     "views": []
    },
    "6afae4780d4341da8ab7a41c863ac04e": {
     "views": []
    },
    "6b1f38223f3747ed99d074556d9b4087": {
     "views": []
    },
    "6b500bf9591840a9b43bebf63d44a84f": {
     "views": []
    },
    "6b5a383b868147c5ab2901deea906741": {
     "views": []
    },
    "6b78f90ddde9414aacf6030c7cc89ac5": {
     "views": []
    },
    "6b7bbd552c9c4267af2b809121e61458": {
     "views": []
    },
    "6ba8738464dd45069c68aadfca98412b": {
     "views": []
    },
    "6c7a00fa1d114cd2b3287131247f6b95": {
     "views": []
    },
    "6ca93871b5574ac7b34fad1e5eff5cb6": {
     "views": []
    },
    "6d13a5f6f71145f0abd188e1d89d2d41": {
     "views": []
    },
    "6db6a047a5604f7996908547bae8481d": {
     "views": []
    },
    "6dee807ca7124a5b9e199a69a1eb7ad9": {
     "views": []
    },
    "6e0ed9b57dcb45dfabb19149bdf868f3": {
     "views": []
    },
    "6e65c4688ef4483ab77274e346d7ab39": {
     "views": []
    },
    "6ec36849fd7f4cdca3e50b620f04df3b": {
     "views": []
    },
    "6f07651bdf724c3f9625b2d28923270e": {
     "views": []
    },
    "6f33129af879472abd93096a071f33d0": {
     "views": []
    },
    "6f5cdb62ca4444649e0ee5655bd06be7": {
     "views": []
    },
    "6f990054e3544ec7ae0ff8aa9ade4d17": {
     "views": []
    },
    "708cba7a854d44c0a5dac146a324add0": {
     "views": []
    },
    "7231640db4284c4b8d3f7acf6d7ddecd": {
     "views": []
    },
    "72ae85bdf8444a46945770b61b54c889": {
     "views": []
    },
    "749bf0b6119c478da1144af3d8f88da2": {
     "views": []
    },
    "74cf6cc0605b41f08b24c6d47f006fdc": {
     "views": []
    },
    "74dd196cdfc54abc9f3430dce9857027": {
     "views": []
    },
    "75941fe7430f4389b9e5fd1639ea9a6f": {
     "views": []
    },
    "75dda447bc9d4eb6b6834846648d78c0": {
     "views": []
    },
    "760abb9752b445daaec80c85e2b35376": {
     "views": []
    },
    "7615d14b0ff64c1e83a06ea47e3b0512": {
     "views": []
    },
    "7696f95cdd584d769981f76f29c8aa2e": {
     "views": []
    },
    "76ffa292b5ae40bc885ed3ea2ad54c4e": {
     "views": []
    },
    "77111b6068ca4d708077bc7077ef71ea": {
     "views": []
    },
    "773f6016d069428ca825c1f079d93a6c": {
     "views": []
    },
    "795249a42abc43b488961054e4998470": {
     "views": []
    },
    "79550f7c58b740f1b90279d58ce9b801": {
     "views": []
    },
    "7bd3d562ccad4523b41dfb79b2e0d9b7": {
     "views": []
    },
    "7bef718688e04aa5a8e2dd6692ab5732": {
     "views": []
    },
    "7c3420856ed844728f14db6ba2119100": {
     "views": []
    },
    "7c4edec2f0e04fc8af5abb17b202103e": {
     "views": []
    },
    "7ccd5ce608f949fc87b1cbc26f855c65": {
     "views": []
    },
    "7d283836277941ab9d3f483baad70861": {
     "views": []
    },
    "7d87e04c05c84f02b59175c79a224d85": {
     "views": []
    },
    "7d88ae29186747da99e0f07663f59ac1": {
     "views": []
    },
    "7da2d00dc4614f1b86cd31fc01434eb8": {
     "views": []
    },
    "7db819d337344e0bb631c2be34b45284": {
     "views": []
    },
    "7f09b297ceb94bdfaf228baa1e41236d": {
     "views": []
    },
    "7f0dcfdd63724da38b7f3b045bf9057d": {
     "views": []
    },
    "7f74e1efbcec4ea69e9fedcf340320e5": {
     "views": []
    },
    "8076d2ebd750490987f0b1ed81ad98de": {
     "views": []
    },
    "8143c52d8ed042f4afae9813136df91a": {
     "views": []
    },
    "824369ffaeee455daeebf1bc6472603d": {
     "views": []
    },
    "82c003a3f41c488eaa10327ef9d95adf": {
     "views": []
    },
    "834db78338ca4efeb50c13b83f385a15": {
     "views": []
    },
    "83ddff56184f4976b79e9ccbb6daab3e": {
     "views": []
    },
    "8420bdee03f242ebb0cb1fed228c84bd": {
     "views": []
    },
    "84cd2b76a5ca4272bec97d3659f43f21": {
     "views": []
    },
    "850b35f534b249c881a5f103e5766ece": {
     "views": []
    },
    "853ebcf3e6d44b53ae5d2090a8d3bbe6": {
     "views": []
    },
    "86e44ef5259f402cb2c7f76a51490d01": {
     "views": []
    },
    "8711cfe16a304a6db97efeabcd7b5f6a": {
     "views": []
    },
    "877dfe16453e40a8a8f24187cc0225b1": {
     "views": []
    },
    "878891f247f14ac3855b6c1364b81a59": {
     "views": []
    },
    "87a31d8ccba14f5aac7d002ba5597a19": {
     "views": []
    },
    "87a9f6f5a2ec454abda09d7070927268": {
     "views": []
    },
    "880ed47c2f8f4be2a947e9fa6a3cee4c": {
     "views": []
    },
    "88fd07b42ad84aee9e91f6fe20041611": {
     "views": []
    },
    "890c8dfa4ea043ffb973d31092607b62": {
     "views": []
    },
    "892a48758ab84e6ea5824c7c39974d64": {
     "views": []
    },
    "896040b8c4fd4c309573f3a05b6df19f": {
     "views": []
    },
    "8a42d730b988482497056c12bf7d90bf": {
     "views": []
    },
    "8a59f243432e43a48e006dbf43ddaa10": {
     "views": []
    },
    "8ab43d5ed24541ca97663170063dedc2": {
     "views": []
    },
    "8acb385a1ce4417d9393ad2c45fa9830": {
     "views": []
    },
    "8b2371aead4b41098145db1111dbaee7": {
     "views": []
    },
    "8bb9aae952884fd485b2a41877e9d35d": {
     "views": []
    },
    "8be22e5a9eb54a2287b179dfe41b3c13": {
     "views": []
    },
    "8c1649388b8e4100ba0046466de9962a": {
     "views": []
    },
    "8cad4c9d9267461ba41f406f0fe5d90c": {
     "views": []
    },
    "8d2191d0efb3409db24187da15135a18": {
     "views": []
    },
    "8d8b5faf21e640349776ca43c06443ac": {
     "views": []
    },
    "8de5e0b684b041e0905f5731b89f3aa2": {
     "views": []
    },
    "8df2e9444c1d43b89a27bcf6b6cd9795": {
     "views": []
    },
    "8e758a62b37d4eaab339be76b4d8eaab": {
     "views": []
    },
    "8ee587e8dcf341eea82cb4dd50604dae": {
     "views": []
    },
    "8f030f00685f463c8932d43a3d103658": {
     "views": []
    },
    "8f3b034b6d38470ea253b98d29859db1": {
     "views": []
    },
    "902bda574443421097c37c25cb9d0963": {
     "views": []
    },
    "90d7aca443784a74bf241fb26f47b048": {
     "views": []
    },
    "90fbdd34b171401794da16325ccb4dd0": {
     "views": []
    },
    "918f37f3608e49a58c765b9a3105bd4e": {
     "views": []
    },
    "9212d8043ea74381b632972f60c72fb1": {
     "views": []
    },
    "92842a932523448f8cacf22f9ea96537": {
     "views": []
    },
    "931380970db74b53a852b9869878bd5e": {
     "views": []
    },
    "93c95e3f01554ac297b57de8fb10daaa": {
     "views": []
    },
    "94a05a1416eb4c748fffbf10ef50fd0c": {
     "views": []
    },
    "94d948752e2a465d869a7b5f1da18849": {
     "views": []
    },
    "9572c7030d8746bca7c80bfb8593e3d4": {
     "views": []
    },
    "95c1950b7f3540d2970e79a4ab5c7c2f": {
     "views": []
    },
    "95d0f4ba98db4e32985f23e149b8f759": {
     "views": []
    },
    "9667022369ac4965b901b22853373b52": {
     "views": []
    },
    "96723fed80b0448880ef6257a8dd138f": {
     "views": []
    },
    "969d5c81dc12422294269debede82a00": {
     "views": []
    },
    "96b3d98ed2644054b46a4b8bc37fc084": {
     "views": []
    },
    "96d412c8ce6c4658ad944d98b88c148f": {
     "views": []
    },
    "97e1d980bf9b4e40a4ab9416e88025b6": {
     "views": []
    },
    "981d1521ff3e498eb4cb4321434ffff8": {
     "views": []
    },
    "98b006b099ad43a19466c6f605cbbc4b": {
     "views": []
    },
    "98ecae7a9a5740bcacd055261c841a1f": {
     "views": []
    },
    "991d4ebc798146709fc8662f2ffa4f28": {
     "views": []
    },
    "996761cfa8b34edd9617b2667a12b7fe": {
     "views": []
    },
    "99f82079a1534f719ebf495107283621": {
     "views": []
    },
    "9a040484763d46148fe4c99c7a7d5c1c": {
     "views": []
    },
    "9a158ded5fbb4a0aa0565296a53ef9fb": {
     "views": []
    },
    "9a71916978e6497787bab085177062e7": {
     "views": []
    },
    "9a8dbf834efe4a29b72e062a060861bd": {
     "views": []
    },
    "9a9036eed86f4dc287c2b018e048a7fc": {
     "views": []
    },
    "9af732fcb0734cc5a7bb6013754cc8ca": {
     "views": []
    },
    "9b260a757fda4912b8f7bff4cbb927e4": {
     "views": []
    },
    "9ba4d75c249d4333a9262833e5973e15": {
     "views": []
    },
    "9c1e2b19da274ff59a6959cb24cdaba9": {
     "views": [
      {
       "cell": {
        "cell_type": "code",
        "execution_count": 79,
        "metadata": {
         "collapsed": false,
         "run_control": {
          "read_only": false
         },
         "trusted": true
        },
        "outputs": [
         {
          "data": {
           "image/png": "iVBORw0KGgoAAAANSUhEUgAABIYAAADDCAYAAAD3NRrMAAAABHNCSVQICAgIfAhkiAAAAAlwSFlz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\nQ3gAAAAASUVORK5CYII=\n",
           "text/plain": "<matplotlib.figure.Figure at 0x7f62ac7a45c0>"
          },
          "metadata": {},
          "output_type": "display_data"
         }
        ],
        "source": "from ipywidgets import interact, Label, HBox, VBox\nNw = IntSlider(value=16, min=1, max=16, step=1, continuous_update=False, description='N:')\nkw = IntSlider(value=1, min=1, max=16, step=1, continuous_update=False, description='width:')\nd2 = interactive(dfscos, N=Nw, k=kw)\ndisplay(d2)"
       },
       "cell_index": 4,
       "root": true
      }
     ]
    },
    "9cec38b65ecb469aaaa57f7f4d2d65ea": {
     "views": []
    },
    "9d56094f3ff144f8b10db8b0efe82974": {
     "views": []
    },
    "9d759af6a1224cb89c7af08740ceb7c4": {
     "views": []
    },
    "9da9d974971e43d8a184dad521e31ffb": {
     "views": []
    },
    "9e0d4b57885143f091eaaf59647cae56": {
     "views": []
    },
    "9e64cc5aa7384b2a880c1ed382d90d40": {
     "views": []
    },
    "9e9a93109f4f4caebc0549f9cb1c4310": {
     "views": []
    },
    "9ea4c0c2c6a84aec8d38258d352dc343": {
     "views": []
    },
    "9ef953da1637495998ce0428ad05788f": {
     "views": []
    },
    "9f4f3707dbc242feaf28dce77ea0b95d": {
     "views": []
    },
    "9f6023994f714dc498c4800170d214b5": {
     "views": []
    },
    "9fc0d04ecb084824ac804dd4924e50d6": {
     "views": []
    },
    "a135782be7df40e79ddb305a2b53c0a7": {
     "views": []
    },
    "a263ac643b6648479a6dc2f3e5d91d85": {
     "views": []
    },
    "a36ba6fe02284829a277307b257f9302": {
     "views": []
    },
    "a3b3d9e4aad842188ba14af2045b24cb": {
     "views": []
    },
    "a45ab38552cc4cbdab6c6862c45ca8b9": {
     "views": []
    },
    "a567b4d94988427282066c9b6dcaa46e": {
     "views": []
    },
    "a5e184b5839a425a9b920e477f6c2cc9": {
     "views": []
    },
    "a63aa12a694e400aab03c58a852dfdd6": {
     "views": []
    },
    "a7774fb1cf81410f8c718d3542f0986d": {
     "views": []
    },
    "a78772d5c42445baae80de4bcbb9ae5a": {
     "views": []
    },
    "a78963c726934abab1b9b1bc1e9e2fc6": {
     "views": []
    },
    "a7b013d716b54322b2cdc506d54cb1b7": {
     "views": []
    },
    "a7c805697ebf4043a85cb5284d09891b": {
     "views": []
    },
    "a7e27d9435a1407a92e153d959035303": {
     "views": []
    },
    "a8874195c08442ca8b1211d615f2f8b8": {
     "views": []
    },
    "a98be63319b34000b30dc82ee6e12b55": {
     "views": []
    },
    "aa1db9820bdb45bf81c595c9beefb5d5": {
     "views": []
    },
    "aa365c668c1c4dc1975fa7a0d34ee19a": {
     "views": []
    },
    "aaabc8cb8d27487b8b4653396ea93821": {
     "views": []
    },
    "aba0a1999a5941e3bea0d44de6ea1eb4": {
     "views": []
    },
    "abc1ca9af1084ff3aaf37236c37081c6": {
     "views": []
    },
    "abd03dc557084e6782afc17fab204017": {
     "views": []
    },
    "abda0b4cd6c448f0ad3787e217ac461f": {
     "views": []
    },
    "abfc831a1ef747edab5df5692fbe5c99": {
     "views": []
    },
    "ac8d547fa4004a60939eb42d09f0f1c6": {
     "views": []
    },
    "ad1da8686a8848bc84a8cb98b9bf7783": {
     "views": []
    },
    "ad3b73534c454817986ff0f6af859442": {
     "views": []
    },
    "ad540ff7f0fa4d89aacc4ec5d789001e": {
     "views": []
    },
    "ad7b54c55dfd493a8b355d83bc74a416": {
     "views": []
    },
    "ad7cd72922014a40bbef606e139ef289": {
     "views": []
    },
    "ae37a79a18fd4694b2208fcb8ad104dc": {
     "views": []
    },
    "ae89a6d6af8740e2ae444929ad8f7fe9": {
     "views": []
    },
    "aeccc1a325da4820b813a1f306569310": {
     "views": []
    },
    "aecf06d5b19b449f913e41b4591ec818": {
     "views": []
    },
    "af11d04e86a54532b49e2db8dcd0926c": {
     "views": []
    },
    "af65ff1c8f3541c2a4361d2b2cda1487": {
     "views": []
    },
    "af829c03603140999493f72ef70ebce9": {
     "views": []
    },
    "afa57b5445084309979e07e4cadf6abe": {
     "views": []
    },
    "afdced3881ba42bc9484a939c6890df7": {
     "views": []
    },
    "aff86f8e72c84fd6a9855893a0ab2c54": {
     "views": []
    },
    "b010a76f8f524efcaf4aaae35ee0c633": {
     "views": []
    },
    "b0777b5d4683415a9f04370173101e88": {
     "views": []
    },
    "b0b5ff63e3d34b52b4d0971004bb5e2b": {
     "views": []
    },
    "b0f6c1b9a3ee427389d9ded890c10ffc": {
     "views": []
    },
    "b18ba1995ab74919b95281f3ff2e69c8": {
     "views": []
    },
    "b1a3ce1a9e5b43ccb015986b51712be0": {
     "views": []
    },
    "b1ae88ac8eea4b118e469db6ec6c118a": {
     "views": []
    },
    "b1b2dea44aaf49b2a77e1bda2cea1ce3": {
     "views": []
    },
    "b1e5a0b0618a4eb5acef64816067fdf3": {
     "views": []
    },
    "b2b049a3e17d412ea051a9f5863e185a": {
     "views": []
    },
    "b31cbb15de9741e0a62fe9223ab61991": {
     "views": []
    },
    "b356018c1d204870a51b3e5d5ed21e00": {
     "views": []
    },
    "b369d0c035814356b846358fdbde682a": {
     "views": []
    },
    "b38fbd3057604ec49e95624430a5c02e": {
     "views": []
    },
    "b3cf493031ce4e0185413ad80dbad812": {
     "views": []
    },
    "b45b4623e3f24f618c5267a034ac65f7": {
     "views": []
    },
    "b508dc9b16894c56920429a9647defe5": {
     "views": []
    },
    "b5b1bdf0d1254011b3a002e2adb12fda": {
     "views": []
    },
    "b5bd6588faf24194a24d7dced2ef6ef1": {
     "views": []
    },
    "b643639a34924542b8eee375be1a1647": {
     "views": []
    },
    "b6a7e32b5d5948e0b625d40c21d616cb": {
     "views": []
    },
    "b738ea87e81d45e382d051c9d74509a9": {
     "views": []
    },
    "b76cb9c535124c1a846b1c8cb9bd1a01": {
     "views": []
    },
    "b7a63b6562e8429d91b3ec2ed1df2a11": {
     "views": []
    },
    "b96a533d87984a30822e1cbe90ce1735": {
     "views": []
    },
    "b9c36cfe1e924243bf217d19d06b48b1": {
     "views": []
    },
    "bb521bf8272e4a70a4873ae201d19172": {
     "views": []
    },
    "bc014bca23bb4e1f89de9208d4514ab0": {
     "views": []
    },
    "bc9d418aa7f94f8c995e81e4bd1214e5": {
     "views": []
    },
    "be8ca07da6f545119b11a7435e5cf7df": {
     "views": []
    },
    "bed3ee8e0b62494fae0d265778982196": {
     "views": []
    },
    "bf811efe4f454a4aa3930335d3648d0e": {
     "views": []
    },
    "c10b4f3a1489418b8b573dfdb7836a95": {
     "views": []
    },
    "c111d894b4a24f45931e5aaeba9961eb": {
     "views": []
    },
    "c1209347c1a44926aa99bf5d8d8e89aa": {
     "views": []
    },
    "c1be3b70665b440aaa4107d6e82cfe57": {
     "views": []
    },
    "c1e91fe5b58a43bc9a2e6ebc118f47bf": {
     "views": []
    },
    "c2176a68392348a8b8190b38cf58d928": {
     "views": []
    },
    "c3fb97689210467aaea53631fc13f504": {
     "views": []
    },
    "c42fc58aa5ee40bfa62b4691e70cc828": {
     "views": []
    },
    "c53729dbdbf745ffabb629969c44fcb0": {
     "views": []
    },
    "c56c5900198743b0a90efb63a418bc46": {
     "views": []
    },
    "c59e32fbe1da45419d6b0afb643e7114": {
     "views": []
    },
    "c5d69a35a1c24c73aba4972b210f7d0d": {
     "views": []
    },
    "c61c34d483594cf9a426d85a9e8136d5": {
     "views": []
    },
    "c6295da2ec4e48c39a1a9dd0ecddbc01": {
     "views": []
    },
    "c67a45b046b94d44832df9067defa109": {
     "views": []
    },
    "c69a4f39fc59486a8aca707f5abdc8df": {
     "views": []
    },
    "c6e4335720f143678d4fc109e13098e2": {
     "views": []
    },
    "c705737ef3114d5895b9fc018a32050e": {
     "views": []
    },
    "c8cd55776ddc4d9d9bcc8107ba4c9881": {
     "views": []
    },
    "ca76c1e6e7e84cc1815cc04af0745acc": {
     "views": []
    },
    "cad8c253fd614b11ad42b080b2c10908": {
     "views": []
    },
    "cb0ee689468e47108f8a708685b7e6a4": {
     "views": []
    },
    "cb29b6aa16f94d8aa181a2d4de410264": {
     "views": []
    },
    "cc1f80d40add41fc915e1cbc12e9ba6c": {
     "views": []
    },
    "cc3845a92fff499490a9f812e20928a4": {
     "views": []
    },
    "ccf97896bfda4bb9a1106f526be5e580": {
     "views": []
    },
    "cd15639ab5b54e90831bd720f93b8b79": {
     "views": []
    },
    "ce667ee8b0b64824b91a4c7b0c127b17": {
     "views": []
    },
    "ce6932347c0747a0bc4399cbc7d9d827": {
     "views": []
    },
    "cea4aa42333242dbb59ce29adf3533c9": {
     "views": []
    },
    "cf1828ed748e4d7ca57d6ede7b89bfdb": {
     "views": []
    },
    "cff7f2feee794f0ca043958b7c034f1e": {
     "views": []
    },
    "d0461286ea0b4fc08ca6aca3f05a0531": {
     "views": []
    },
    "d066dd9261de43e5bfadc4e1c1ba3a2a": {
     "views": []
    },
    "d18c296be9434881a7d2be351b54553a": {
     "views": []
    },
    "d375a2d670f540e1a4f3d0a4ab0e7c8a": {
     "views": []
    },
    "d4aac45d79844a74ae050d47126e55f1": {
     "views": []
    },
    "d5040127dba8464994f81dd81ea7e39c": {
     "views": []
    },
    "d5679f8269d64fc48799b2fc80e2667f": {
     "views": []
    },
    "d5db42c0429443ceb2b119ad2bc1efb4": {
     "views": []
    },
    "d68e1fc2e15f4d8f85c9fac21014e1e0": {
     "views": []
    },
    "d6dcb4f06b3a486eb6245df7af266ae9": {
     "views": []
    },
    "d798e63dee4248e3a0f8a9d2d1f160f0": {
     "views": []
    },
    "d7a6eb4657de4872a8c537c2e8ed9f8e": {
     "views": []
    },
    "d8c76cc40d1245cb86f5e326423927ee": {
     "views": []
    },
    "d987fc9f88dd4ca6aa925a0c9321e1d5": {
     "views": []
    },
    "d9b66bad94484343a6801738314e1260": {
     "views": []
    },
    "da160bdaec0f420fbda8e111e53a0dcb": {
     "views": []
    },
    "da714e207eb941459cea582676b4a2c4": {
     "views": []
    },
    "db416cb4e6a54edabd1f2a4205f09a7e": {
     "views": []
    },
    "db665f14738f4f63ad9051910091c304": {
     "views": []
    },
    "dc318eb923c940619f82e747461f918a": {
     "views": []
    },
    "dc31ea7d9b64440b94fdd515b79a2a58": {
     "views": []
    },
    "dc6f9f2d453f4374ac7978928a3fdfc6": {
     "views": []
    },
    "dd1d38577995435caeced8b9e1c94d15": {
     "views": []
    },
    "dd4c7b114dca4742b4d249a1b2ee4f35": {
     "views": []
    },
    "dd881a097ce14ffab25c94935b4ad252": {
     "views": []
    },
    "de2d3434c8964b55aef248a89d90890f": {
     "views": []
    },
    "de7a3f725d5e452188cf7ed8a9806f7a": {
     "views": []
    },
    "de94611e6f4346509ad48c9f704dd4cd": {
     "views": []
    },
    "df4096f8a8924ddfaa721fe304f8eb48": {
     "views": []
    },
    "dfb734df57ab4617bf416b629fd1cdbc": {
     "views": []
    },
    "dfe4d5e2e3ea4b3ba4df47457c77dd45": {
     "views": []
    },
    "e108bdd8bbed4a90b0dde3aa187a583a": {
     "views": []
    },
    "e14a70f05a734e6e8ff5997e40cadb5d": {
     "views": []
    },
    "e14d7185ee994b56ac9eb143540aeab2": {
     "views": []
    },
    "e170e162cf88403e8ddee984cd182273": {
     "views": []
    },
    "e1c703dd785946da8c94b698fe893ee8": {
     "views": []
    },
    "e20e70baa78c42369c635a71cec8c205": {
     "views": []
    },
    "e2413cd95fe446e686e1f9c55de74320": {
     "views": []
    },
    "e2515b7e27674fd18427c3d7c146906c": {
     "views": []
    },
    "e25408a225d94ffb89248d46f7f0d441": {
     "views": []
    },
    "e2d9e0345bbb41dcb753536a7745896e": {
     "views": []
    },
    "e2dce9ea917a4e57a929776a504e683c": {
     "views": []
    },
    "e3ad4182aabd4eaebce7a4f0170ca75f": {
     "views": []
    },
    "e3cb8853d4634c458c0beabb15ab4275": {
     "views": []
    },
    "e3eb9ec35ddf44e59064dfec709486bf": {
     "views": []
    },
    "e491287061b14bc3bec0f7546db39a16": {
     "views": []
    },
    "e49d09272c04466cbe7cc0b28802b440": {
     "views": []
    },
    "e52c8139cddd41b79e99e38e918394b2": {
     "views": []
    },
    "e5dbb49882b147b8a0ee48b6c0e0eb66": {
     "views": []
    },
    "e64e0d30a14540e4b6b1473dfb46242a": {
     "views": []
    },
    "e689f8dba32e42b7a7581c8a5c23f4cc": {
     "views": []
    },
    "e6e3b60bf43e498aa241f3738796f8f3": {
     "views": []
    },
    "e732a39dc48c478e953a4689d99fe660": {
     "views": []
    },
    "e76cb9eff2ef4c05b74cdffa9788e2ef": {
     "views": []
    },
    "e801e1801fe945cd9c1afa413b962b9d": {
     "views": []
    },
    "e90a94eff87449cd9d2f502117299291": {
     "views": []
    },
    "e910426cc76848ad901c3035dc00ac48": {
     "views": []
    },
    "e9265791ab36406f969b6bffa2c905fa": {
     "views": []
    },
    "eb1b8859267c44858613a60ad5683800": {
     "views": []
    },
    "ebcc43736f0341f9937e102a9e623eae": {
     "views": []
    },
    "ebfbca67932f43619dacdff94b1ac6c9": {
     "views": []
    },
    "ec3ad4ea87934e009339c32d75724e74": {
     "views": []
    },
    "ec7a5a4bc17f46ec91398a7efbdbaf5d": {
     "views": []
    },
    "ece72af123b448e7a32c4bd824e05d7a": {
     "views": []
    },
    "ecffc22b1b244a459024881ca8450875": {
     "views": []
    },
    "ed20f971eb30437bb4ff5ccd71c8307a": {
     "views": []
    },
    "ed7bbce304fb4591a95cecf6255fea1e": {
     "views": []
    },
    "eda19e6e037a46e7906d4e2c43375293": {
     "views": []
    },
    "ee856ce241b34d53bae1d01022c1effb": {
     "views": []
    },
    "ef177d268d6c4db396b992b877dd9a85": {
     "views": []
    },
    "ef2c9cfe00a94b7d9f33b27ce62d74eb": {
     "views": []
    },
    "ef7d5252fbb743d8bfe32f385251e6ab": {
     "views": []
    },
    "efdd28e2f15349b9aa95becf9ff561a4": {
     "views": []
    },
    "f0fdd2e79de24cad8736841ef3755fe2": {
     "views": []
    },
    "f205872e7b7243c1ab9959241a6ddeb0": {
     "views": []
    },
    "f20d304276744508816c0a47042da853": {
     "views": []
    },
    "f2b50ea80897489e93df08c60e5b8dca": {
     "views": []
    },
    "f3a5364e490b4f3387cea174ad81bd63": {
     "views": []
    },
    "f3ce78cba73d4be78a8623661c8307c1": {
     "views": []
    },
    "f4e84b66e6674b3da7fa15a3046c4a39": {
     "views": []
    },
    "f5996738e7fc454c86445d4c7afee4d5": {
     "views": []
    },
    "f5b16bb23fcb44208974a0951a4d42d0": {
     "views": []
    },
    "f643ba4781264bd4bbc6511ea54990d6": {
     "views": []
    },
    "f67be80fdf5344aba89b6e3328bd0edc": {
     "views": []
    },
    "f695f6a0c45e43e88d481bc2e534f9ec": {
     "views": []
    },
    "f7031b7e867741dca9c839ea878f286c": {
     "views": []
    },
    "f792d6fb91154585ae05e51a5691483c": {
     "views": []
    },
    "f9eaccea3cc8440fa78f2e64c02a02fa": {
     "views": []
    },
    "fa881d4347444ce99c50bcdc9e969a8c": {
     "views": []
    },
    "faf57e5e492b4fd280f118392e60a1d3": {
     "views": []
    },
    "fb0d045e83be4c36bf2815e65620c9be": {
     "views": []
    },
    "fb314a473d2d40589e8d73854fb10e56": {
     "views": []
    },
    "fb741249b6464169ac5277dc5e8eba52": {
     "views": []
    },
    "fb9e6177306840569e9702168388d796": {
     "views": []
    },
    "fba938078f8a4323b107b31f3911949b": {
     "views": []
    },
    "fdb7684c017f4e28bc0761ab77859841": {
     "views": []
    },
    "fdbfc0f57fb047499fe642d3bf3e421f": {
     "views": []
    }
   },
   "version": "1.1.0"
  }
 },
 "nbformat": 4,
 "nbformat_minor": 0
}
