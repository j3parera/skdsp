{
 "cells": [
  {
   "cell_type": "code",
   "execution_count": 1,
   "metadata": {
    "collapsed": false,
    "run_control": {
     "read_only": false
    }
   },
   "outputs": [],
   "source": [
    "import matplotlib.pyplot as plt\n",
    "import numpy as np\n",
    "%matplotlib notebook\n",
    "from ipywidgets import interact, interactive, fixed"
   ]
  },
  {
   "cell_type": "code",
   "execution_count": 2,
   "metadata": {
    "code_folding": [],
    "collapsed": false,
    "run_control": {
     "read_only": false
    }
   },
   "outputs": [
    {
     "data": {
      "application/javascript": [
       "/* Put everything inside the global mpl namespace */\n",
       "window.mpl = {};\n",
       "\n",
       "mpl.get_websocket_type = function() {\n",
       "    if (typeof(WebSocket) !== 'undefined') {\n",
       "        return WebSocket;\n",
       "    } else if (typeof(MozWebSocket) !== 'undefined') {\n",
       "        return MozWebSocket;\n",
       "    } else {\n",
       "        alert('Your browser does not have WebSocket support.' +\n",
       "              'Please try Chrome, Safari or Firefox ≥ 6. ' +\n",
       "              'Firefox 4 and 5 are also supported but you ' +\n",
       "              'have to enable WebSockets in about:config.');\n",
       "    };\n",
       "}\n",
       "\n",
       "mpl.figure = function(figure_id, websocket, ondownload, parent_element) {\n",
       "    this.id = figure_id;\n",
       "\n",
       "    this.ws = websocket;\n",
       "\n",
       "    this.supports_binary = (this.ws.binaryType != undefined);\n",
       "\n",
       "    if (!this.supports_binary) {\n",
       "        var warnings = document.getElementById(\"mpl-warnings\");\n",
       "        if (warnings) {\n",
       "            warnings.style.display = 'block';\n",
       "            warnings.textContent = (\n",
       "                \"This browser does not support binary websocket messages. \" +\n",
       "                    \"Performance may be slow.\");\n",
       "        }\n",
       "    }\n",
       "\n",
       "    this.imageObj = new Image();\n",
       "\n",
       "    this.context = undefined;\n",
       "    this.message = undefined;\n",
       "    this.canvas = undefined;\n",
       "    this.rubberband_canvas = undefined;\n",
       "    this.rubberband_context = undefined;\n",
       "    this.format_dropdown = undefined;\n",
       "\n",
       "    this.image_mode = 'full';\n",
       "\n",
       "    this.root = $('<div/>');\n",
       "    this._root_extra_style(this.root)\n",
       "    this.root.attr('style', 'display: inline-block');\n",
       "\n",
       "    $(parent_element).append(this.root);\n",
       "\n",
       "    this._init_header(this);\n",
       "    this._init_canvas(this);\n",
       "    this._init_toolbar(this);\n",
       "\n",
       "    var fig = this;\n",
       "\n",
       "    this.waiting = false;\n",
       "\n",
       "    this.ws.onopen =  function () {\n",
       "            fig.send_message(\"supports_binary\", {value: fig.supports_binary});\n",
       "            fig.send_message(\"send_image_mode\", {});\n",
       "            fig.send_message(\"refresh\", {});\n",
       "        }\n",
       "\n",
       "    this.imageObj.onload = function() {\n",
       "            if (fig.image_mode == 'full') {\n",
       "                // Full images could contain transparency (where diff images\n",
       "                // almost always do), so we need to clear the canvas so that\n",
       "                // there is no ghosting.\n",
       "                fig.context.clearRect(0, 0, fig.canvas.width, fig.canvas.height);\n",
       "            }\n",
       "            fig.context.drawImage(fig.imageObj, 0, 0);\n",
       "        };\n",
       "\n",
       "    this.imageObj.onunload = function() {\n",
       "        this.ws.close();\n",
       "    }\n",
       "\n",
       "    this.ws.onmessage = this._make_on_message_function(this);\n",
       "\n",
       "    this.ondownload = ondownload;\n",
       "}\n",
       "\n",
       "mpl.figure.prototype._init_header = function() {\n",
       "    var titlebar = $(\n",
       "        '<div class=\"ui-dialog-titlebar ui-widget-header ui-corner-all ' +\n",
       "        'ui-helper-clearfix\"/>');\n",
       "    var titletext = $(\n",
       "        '<div class=\"ui-dialog-title\" style=\"width: 100%; ' +\n",
       "        'text-align: center; padding: 3px;\"/>');\n",
       "    titlebar.append(titletext)\n",
       "    this.root.append(titlebar);\n",
       "    this.header = titletext[0];\n",
       "}\n",
       "\n",
       "\n",
       "\n",
       "mpl.figure.prototype._canvas_extra_style = function(canvas_div) {\n",
       "\n",
       "}\n",
       "\n",
       "\n",
       "mpl.figure.prototype._root_extra_style = function(canvas_div) {\n",
       "\n",
       "}\n",
       "\n",
       "mpl.figure.prototype._init_canvas = function() {\n",
       "    var fig = this;\n",
       "\n",
       "    var canvas_div = $('<div/>');\n",
       "\n",
       "    canvas_div.attr('style', 'position: relative; clear: both; outline: 0');\n",
       "\n",
       "    function canvas_keyboard_event(event) {\n",
       "        return fig.key_event(event, event['data']);\n",
       "    }\n",
       "\n",
       "    canvas_div.keydown('key_press', canvas_keyboard_event);\n",
       "    canvas_div.keyup('key_release', canvas_keyboard_event);\n",
       "    this.canvas_div = canvas_div\n",
       "    this._canvas_extra_style(canvas_div)\n",
       "    this.root.append(canvas_div);\n",
       "\n",
       "    var canvas = $('<canvas/>');\n",
       "    canvas.addClass('mpl-canvas');\n",
       "    canvas.attr('style', \"left: 0; top: 0; z-index: 0; outline: 0\")\n",
       "\n",
       "    this.canvas = canvas[0];\n",
       "    this.context = canvas[0].getContext(\"2d\");\n",
       "\n",
       "    var rubberband = $('<canvas/>');\n",
       "    rubberband.attr('style', \"position: absolute; left: 0; top: 0; z-index: 1;\")\n",
       "\n",
       "    var pass_mouse_events = true;\n",
       "\n",
       "    canvas_div.resizable({\n",
       "        start: function(event, ui) {\n",
       "            pass_mouse_events = false;\n",
       "        },\n",
       "        resize: function(event, ui) {\n",
       "            fig.request_resize(ui.size.width, ui.size.height);\n",
       "        },\n",
       "        stop: function(event, ui) {\n",
       "            pass_mouse_events = true;\n",
       "            fig.request_resize(ui.size.width, ui.size.height);\n",
       "        },\n",
       "    });\n",
       "\n",
       "    function mouse_event_fn(event) {\n",
       "        if (pass_mouse_events)\n",
       "            return fig.mouse_event(event, event['data']);\n",
       "    }\n",
       "\n",
       "    rubberband.mousedown('button_press', mouse_event_fn);\n",
       "    rubberband.mouseup('button_release', mouse_event_fn);\n",
       "    // Throttle sequential mouse events to 1 every 20ms.\n",
       "    rubberband.mousemove('motion_notify', mouse_event_fn);\n",
       "\n",
       "    rubberband.mouseenter('figure_enter', mouse_event_fn);\n",
       "    rubberband.mouseleave('figure_leave', mouse_event_fn);\n",
       "\n",
       "    canvas_div.on(\"wheel\", function (event) {\n",
       "        event = event.originalEvent;\n",
       "        event['data'] = 'scroll'\n",
       "        if (event.deltaY < 0) {\n",
       "            event.step = 1;\n",
       "        } else {\n",
       "            event.step = -1;\n",
       "        }\n",
       "        mouse_event_fn(event);\n",
       "    });\n",
       "\n",
       "    canvas_div.append(canvas);\n",
       "    canvas_div.append(rubberband);\n",
       "\n",
       "    this.rubberband = rubberband;\n",
       "    this.rubberband_canvas = rubberband[0];\n",
       "    this.rubberband_context = rubberband[0].getContext(\"2d\");\n",
       "    this.rubberband_context.strokeStyle = \"#000000\";\n",
       "\n",
       "    this._resize_canvas = function(width, height) {\n",
       "        // Keep the size of the canvas, canvas container, and rubber band\n",
       "        // canvas in synch.\n",
       "        canvas_div.css('width', width)\n",
       "        canvas_div.css('height', height)\n",
       "\n",
       "        canvas.attr('width', width);\n",
       "        canvas.attr('height', height);\n",
       "\n",
       "        rubberband.attr('width', width);\n",
       "        rubberband.attr('height', height);\n",
       "    }\n",
       "\n",
       "    // Set the figure to an initial 600x600px, this will subsequently be updated\n",
       "    // upon first draw.\n",
       "    this._resize_canvas(600, 600);\n",
       "\n",
       "    // Disable right mouse context menu.\n",
       "    $(this.rubberband_canvas).bind(\"contextmenu\",function(e){\n",
       "        return false;\n",
       "    });\n",
       "\n",
       "    function set_focus () {\n",
       "        canvas.focus();\n",
       "        canvas_div.focus();\n",
       "    }\n",
       "\n",
       "    window.setTimeout(set_focus, 100);\n",
       "}\n",
       "\n",
       "mpl.figure.prototype._init_toolbar = function() {\n",
       "    var fig = this;\n",
       "\n",
       "    var nav_element = $('<div/>')\n",
       "    nav_element.attr('style', 'width: 100%');\n",
       "    this.root.append(nav_element);\n",
       "\n",
       "    // Define a callback function for later on.\n",
       "    function toolbar_event(event) {\n",
       "        return fig.toolbar_button_onclick(event['data']);\n",
       "    }\n",
       "    function toolbar_mouse_event(event) {\n",
       "        return fig.toolbar_button_onmouseover(event['data']);\n",
       "    }\n",
       "\n",
       "    for(var toolbar_ind in mpl.toolbar_items) {\n",
       "        var name = mpl.toolbar_items[toolbar_ind][0];\n",
       "        var tooltip = mpl.toolbar_items[toolbar_ind][1];\n",
       "        var image = mpl.toolbar_items[toolbar_ind][2];\n",
       "        var method_name = mpl.toolbar_items[toolbar_ind][3];\n",
       "\n",
       "        if (!name) {\n",
       "            // put a spacer in here.\n",
       "            continue;\n",
       "        }\n",
       "        var button = $('<button/>');\n",
       "        button.addClass('ui-button ui-widget ui-state-default ui-corner-all ' +\n",
       "                        'ui-button-icon-only');\n",
       "        button.attr('role', 'button');\n",
       "        button.attr('aria-disabled', 'false');\n",
       "        button.click(method_name, toolbar_event);\n",
       "        button.mouseover(tooltip, toolbar_mouse_event);\n",
       "\n",
       "        var icon_img = $('<span/>');\n",
       "        icon_img.addClass('ui-button-icon-primary ui-icon');\n",
       "        icon_img.addClass(image);\n",
       "        icon_img.addClass('ui-corner-all');\n",
       "\n",
       "        var tooltip_span = $('<span/>');\n",
       "        tooltip_span.addClass('ui-button-text');\n",
       "        tooltip_span.html(tooltip);\n",
       "\n",
       "        button.append(icon_img);\n",
       "        button.append(tooltip_span);\n",
       "\n",
       "        nav_element.append(button);\n",
       "    }\n",
       "\n",
       "    var fmt_picker_span = $('<span/>');\n",
       "\n",
       "    var fmt_picker = $('<select/>');\n",
       "    fmt_picker.addClass('mpl-toolbar-option ui-widget ui-widget-content');\n",
       "    fmt_picker_span.append(fmt_picker);\n",
       "    nav_element.append(fmt_picker_span);\n",
       "    this.format_dropdown = fmt_picker[0];\n",
       "\n",
       "    for (var ind in mpl.extensions) {\n",
       "        var fmt = mpl.extensions[ind];\n",
       "        var option = $(\n",
       "            '<option/>', {selected: fmt === mpl.default_extension}).html(fmt);\n",
       "        fmt_picker.append(option)\n",
       "    }\n",
       "\n",
       "    // Add hover states to the ui-buttons\n",
       "    $( \".ui-button\" ).hover(\n",
       "        function() { $(this).addClass(\"ui-state-hover\");},\n",
       "        function() { $(this).removeClass(\"ui-state-hover\");}\n",
       "    );\n",
       "\n",
       "    var status_bar = $('<span class=\"mpl-message\"/>');\n",
       "    nav_element.append(status_bar);\n",
       "    this.message = status_bar[0];\n",
       "}\n",
       "\n",
       "mpl.figure.prototype.request_resize = function(x_pixels, y_pixels) {\n",
       "    // Request matplotlib to resize the figure. Matplotlib will then trigger a resize in the client,\n",
       "    // which will in turn request a refresh of the image.\n",
       "    this.send_message('resize', {'width': x_pixels, 'height': y_pixels});\n",
       "}\n",
       "\n",
       "mpl.figure.prototype.send_message = function(type, properties) {\n",
       "    properties['type'] = type;\n",
       "    properties['figure_id'] = this.id;\n",
       "    this.ws.send(JSON.stringify(properties));\n",
       "}\n",
       "\n",
       "mpl.figure.prototype.send_draw_message = function() {\n",
       "    if (!this.waiting) {\n",
       "        this.waiting = true;\n",
       "        this.ws.send(JSON.stringify({type: \"draw\", figure_id: this.id}));\n",
       "    }\n",
       "}\n",
       "\n",
       "\n",
       "mpl.figure.prototype.handle_save = function(fig, msg) {\n",
       "    var format_dropdown = fig.format_dropdown;\n",
       "    var format = format_dropdown.options[format_dropdown.selectedIndex].value;\n",
       "    fig.ondownload(fig, format);\n",
       "}\n",
       "\n",
       "\n",
       "mpl.figure.prototype.handle_resize = function(fig, msg) {\n",
       "    var size = msg['size'];\n",
       "    if (size[0] != fig.canvas.width || size[1] != fig.canvas.height) {\n",
       "        fig._resize_canvas(size[0], size[1]);\n",
       "        fig.send_message(\"refresh\", {});\n",
       "    };\n",
       "}\n",
       "\n",
       "mpl.figure.prototype.handle_rubberband = function(fig, msg) {\n",
       "    var x0 = msg['x0'];\n",
       "    var y0 = fig.canvas.height - msg['y0'];\n",
       "    var x1 = msg['x1'];\n",
       "    var y1 = fig.canvas.height - msg['y1'];\n",
       "    x0 = Math.floor(x0) + 0.5;\n",
       "    y0 = Math.floor(y0) + 0.5;\n",
       "    x1 = Math.floor(x1) + 0.5;\n",
       "    y1 = Math.floor(y1) + 0.5;\n",
       "    var min_x = Math.min(x0, x1);\n",
       "    var min_y = Math.min(y0, y1);\n",
       "    var width = Math.abs(x1 - x0);\n",
       "    var height = Math.abs(y1 - y0);\n",
       "\n",
       "    fig.rubberband_context.clearRect(\n",
       "        0, 0, fig.canvas.width, fig.canvas.height);\n",
       "\n",
       "    fig.rubberband_context.strokeRect(min_x, min_y, width, height);\n",
       "}\n",
       "\n",
       "mpl.figure.prototype.handle_figure_label = function(fig, msg) {\n",
       "    // Updates the figure title.\n",
       "    fig.header.textContent = msg['label'];\n",
       "}\n",
       "\n",
       "mpl.figure.prototype.handle_cursor = function(fig, msg) {\n",
       "    var cursor = msg['cursor'];\n",
       "    switch(cursor)\n",
       "    {\n",
       "    case 0:\n",
       "        cursor = 'pointer';\n",
       "        break;\n",
       "    case 1:\n",
       "        cursor = 'default';\n",
       "        break;\n",
       "    case 2:\n",
       "        cursor = 'crosshair';\n",
       "        break;\n",
       "    case 3:\n",
       "        cursor = 'move';\n",
       "        break;\n",
       "    }\n",
       "    fig.rubberband_canvas.style.cursor = cursor;\n",
       "}\n",
       "\n",
       "mpl.figure.prototype.handle_message = function(fig, msg) {\n",
       "    fig.message.textContent = msg['message'];\n",
       "}\n",
       "\n",
       "mpl.figure.prototype.handle_draw = function(fig, msg) {\n",
       "    // Request the server to send over a new figure.\n",
       "    fig.send_draw_message();\n",
       "}\n",
       "\n",
       "mpl.figure.prototype.handle_image_mode = function(fig, msg) {\n",
       "    fig.image_mode = msg['mode'];\n",
       "}\n",
       "\n",
       "mpl.figure.prototype.updated_canvas_event = function() {\n",
       "    // Called whenever the canvas gets updated.\n",
       "    this.send_message(\"ack\", {});\n",
       "}\n",
       "\n",
       "// A function to construct a web socket function for onmessage handling.\n",
       "// Called in the figure constructor.\n",
       "mpl.figure.prototype._make_on_message_function = function(fig) {\n",
       "    return function socket_on_message(evt) {\n",
       "        if (evt.data instanceof Blob) {\n",
       "            /* FIXME: We get \"Resource interpreted as Image but\n",
       "             * transferred with MIME type text/plain:\" errors on\n",
       "             * Chrome.  But how to set the MIME type?  It doesn't seem\n",
       "             * to be part of the websocket stream */\n",
       "            evt.data.type = \"image/png\";\n",
       "\n",
       "            /* Free the memory for the previous frames */\n",
       "            if (fig.imageObj.src) {\n",
       "                (window.URL || window.webkitURL).revokeObjectURL(\n",
       "                    fig.imageObj.src);\n",
       "            }\n",
       "\n",
       "            fig.imageObj.src = (window.URL || window.webkitURL).createObjectURL(\n",
       "                evt.data);\n",
       "            fig.updated_canvas_event();\n",
       "            fig.waiting = false;\n",
       "            return;\n",
       "        }\n",
       "        else if (typeof evt.data === 'string' && evt.data.slice(0, 21) == \"data:image/png;base64\") {\n",
       "            fig.imageObj.src = evt.data;\n",
       "            fig.updated_canvas_event();\n",
       "            fig.waiting = false;\n",
       "            return;\n",
       "        }\n",
       "\n",
       "        var msg = JSON.parse(evt.data);\n",
       "        var msg_type = msg['type'];\n",
       "\n",
       "        // Call the  \"handle_{type}\" callback, which takes\n",
       "        // the figure and JSON message as its only arguments.\n",
       "        try {\n",
       "            var callback = fig[\"handle_\" + msg_type];\n",
       "        } catch (e) {\n",
       "            console.log(\"No handler for the '\" + msg_type + \"' message type: \", msg);\n",
       "            return;\n",
       "        }\n",
       "\n",
       "        if (callback) {\n",
       "            try {\n",
       "                // console.log(\"Handling '\" + msg_type + \"' message: \", msg);\n",
       "                callback(fig, msg);\n",
       "            } catch (e) {\n",
       "                console.log(\"Exception inside the 'handler_\" + msg_type + \"' callback:\", e, e.stack, msg);\n",
       "            }\n",
       "        }\n",
       "    };\n",
       "}\n",
       "\n",
       "// from http://stackoverflow.com/questions/1114465/getting-mouse-location-in-canvas\n",
       "mpl.findpos = function(e) {\n",
       "    //this section is from http://www.quirksmode.org/js/events_properties.html\n",
       "    var targ;\n",
       "    if (!e)\n",
       "        e = window.event;\n",
       "    if (e.target)\n",
       "        targ = e.target;\n",
       "    else if (e.srcElement)\n",
       "        targ = e.srcElement;\n",
       "    if (targ.nodeType == 3) // defeat Safari bug\n",
       "        targ = targ.parentNode;\n",
       "\n",
       "    // jQuery normalizes the pageX and pageY\n",
       "    // pageX,Y are the mouse positions relative to the document\n",
       "    // offset() returns the position of the element relative to the document\n",
       "    var x = e.pageX - $(targ).offset().left;\n",
       "    var y = e.pageY - $(targ).offset().top;\n",
       "\n",
       "    return {\"x\": x, \"y\": y};\n",
       "};\n",
       "\n",
       "/*\n",
       " * return a copy of an object with only non-object keys\n",
       " * we need this to avoid circular references\n",
       " * http://stackoverflow.com/a/24161582/3208463\n",
       " */\n",
       "function simpleKeys (original) {\n",
       "  return Object.keys(original).reduce(function (obj, key) {\n",
       "    if (typeof original[key] !== 'object')\n",
       "        obj[key] = original[key]\n",
       "    return obj;\n",
       "  }, {});\n",
       "}\n",
       "\n",
       "mpl.figure.prototype.mouse_event = function(event, name) {\n",
       "    var canvas_pos = mpl.findpos(event)\n",
       "\n",
       "    if (name === 'button_press')\n",
       "    {\n",
       "        this.canvas.focus();\n",
       "        this.canvas_div.focus();\n",
       "    }\n",
       "\n",
       "    var x = canvas_pos.x;\n",
       "    var y = canvas_pos.y;\n",
       "\n",
       "    this.send_message(name, {x: x, y: y, button: event.button,\n",
       "                             step: event.step,\n",
       "                             guiEvent: simpleKeys(event)});\n",
       "\n",
       "    /* This prevents the web browser from automatically changing to\n",
       "     * the text insertion cursor when the button is pressed.  We want\n",
       "     * to control all of the cursor setting manually through the\n",
       "     * 'cursor' event from matplotlib */\n",
       "    event.preventDefault();\n",
       "    return false;\n",
       "}\n",
       "\n",
       "mpl.figure.prototype._key_event_extra = function(event, name) {\n",
       "    // Handle any extra behaviour associated with a key event\n",
       "}\n",
       "\n",
       "mpl.figure.prototype.key_event = function(event, name) {\n",
       "\n",
       "    // Prevent repeat events\n",
       "    if (name == 'key_press')\n",
       "    {\n",
       "        if (event.which === this._key)\n",
       "            return;\n",
       "        else\n",
       "            this._key = event.which;\n",
       "    }\n",
       "    if (name == 'key_release')\n",
       "        this._key = null;\n",
       "\n",
       "    var value = '';\n",
       "    if (event.ctrlKey && event.which != 17)\n",
       "        value += \"ctrl+\";\n",
       "    if (event.altKey && event.which != 18)\n",
       "        value += \"alt+\";\n",
       "    if (event.shiftKey && event.which != 16)\n",
       "        value += \"shift+\";\n",
       "\n",
       "    value += 'k';\n",
       "    value += event.which.toString();\n",
       "\n",
       "    this._key_event_extra(event, name);\n",
       "\n",
       "    this.send_message(name, {key: value,\n",
       "                             guiEvent: simpleKeys(event)});\n",
       "    return false;\n",
       "}\n",
       "\n",
       "mpl.figure.prototype.toolbar_button_onclick = function(name) {\n",
       "    if (name == 'download') {\n",
       "        this.handle_save(this, null);\n",
       "    } else {\n",
       "        this.send_message(\"toolbar_button\", {name: name});\n",
       "    }\n",
       "};\n",
       "\n",
       "mpl.figure.prototype.toolbar_button_onmouseover = function(tooltip) {\n",
       "    this.message.textContent = tooltip;\n",
       "};\n",
       "mpl.toolbar_items = [[\"Home\", \"Reset original view\", \"fa fa-home icon-home\", \"home\"], [\"Back\", \"Back to  previous view\", \"fa fa-arrow-left icon-arrow-left\", \"back\"], [\"Forward\", \"Forward to next view\", \"fa fa-arrow-right icon-arrow-right\", \"forward\"], [\"\", \"\", \"\", \"\"], [\"Pan\", \"Pan axes with left mouse, zoom with right\", \"fa fa-arrows icon-move\", \"pan\"], [\"Zoom\", \"Zoom to rectangle\", \"fa fa-square-o icon-check-empty\", \"zoom\"], [\"\", \"\", \"\", \"\"], [\"Download\", \"Download plot\", \"fa fa-floppy-o icon-save\", \"download\"]];\n",
       "\n",
       "mpl.extensions = [\"eps\", \"jpeg\", \"pdf\", \"png\", \"ps\", \"raw\", \"svg\", \"tif\"];\n",
       "\n",
       "mpl.default_extension = \"png\";var comm_websocket_adapter = function(comm) {\n",
       "    // Create a \"websocket\"-like object which calls the given IPython comm\n",
       "    // object with the appropriate methods. Currently this is a non binary\n",
       "    // socket, so there is still some room for performance tuning.\n",
       "    var ws = {};\n",
       "\n",
       "    ws.close = function() {\n",
       "        comm.close()\n",
       "    };\n",
       "    ws.send = function(m) {\n",
       "        //console.log('sending', m);\n",
       "        comm.send(m);\n",
       "    };\n",
       "    // Register the callback with on_msg.\n",
       "    comm.on_msg(function(msg) {\n",
       "        //console.log('receiving', msg['content']['data'], msg);\n",
       "        // Pass the mpl event to the overriden (by mpl) onmessage function.\n",
       "        ws.onmessage(msg['content']['data'])\n",
       "    });\n",
       "    return ws;\n",
       "}\n",
       "\n",
       "mpl.mpl_figure_comm = function(comm, msg) {\n",
       "    // This is the function which gets called when the mpl process\n",
       "    // starts-up an IPython Comm through the \"matplotlib\" channel.\n",
       "\n",
       "    var id = msg.content.data.id;\n",
       "    // Get hold of the div created by the display call when the Comm\n",
       "    // socket was opened in Python.\n",
       "    var element = $(\"#\" + id);\n",
       "    var ws_proxy = comm_websocket_adapter(comm)\n",
       "\n",
       "    function ondownload(figure, format) {\n",
       "        window.open(figure.imageObj.src);\n",
       "    }\n",
       "\n",
       "    var fig = new mpl.figure(id, ws_proxy,\n",
       "                           ondownload,\n",
       "                           element.get(0));\n",
       "\n",
       "    // Call onopen now - mpl needs it, as it is assuming we've passed it a real\n",
       "    // web socket which is closed, not our websocket->open comm proxy.\n",
       "    ws_proxy.onopen();\n",
       "\n",
       "    fig.parent_element = element.get(0);\n",
       "    fig.cell_info = mpl.find_output_cell(\"<div id='\" + id + \"'></div>\");\n",
       "    if (!fig.cell_info) {\n",
       "        console.error(\"Failed to find cell for figure\", id, fig);\n",
       "        return;\n",
       "    }\n",
       "\n",
       "    var output_index = fig.cell_info[2]\n",
       "    var cell = fig.cell_info[0];\n",
       "\n",
       "};\n",
       "\n",
       "mpl.figure.prototype.handle_close = function(fig, msg) {\n",
       "    fig.root.unbind('remove')\n",
       "\n",
       "    // Update the output cell to use the data from the current canvas.\n",
       "    fig.push_to_output();\n",
       "    var dataURL = fig.canvas.toDataURL();\n",
       "    // Re-enable the keyboard manager in IPython - without this line, in FF,\n",
       "    // the notebook keyboard shortcuts fail.\n",
       "    IPython.keyboard_manager.enable()\n",
       "    $(fig.parent_element).html('<img src=\"' + dataURL + '\">');\n",
       "    fig.close_ws(fig, msg);\n",
       "}\n",
       "\n",
       "mpl.figure.prototype.close_ws = function(fig, msg){\n",
       "    fig.send_message('closing', msg);\n",
       "    // fig.ws.close()\n",
       "}\n",
       "\n",
       "mpl.figure.prototype.push_to_output = function(remove_interactive) {\n",
       "    // Turn the data on the canvas into data in the output cell.\n",
       "    var dataURL = this.canvas.toDataURL();\n",
       "    this.cell_info[1]['text/html'] = '<img src=\"' + dataURL + '\">';\n",
       "}\n",
       "\n",
       "mpl.figure.prototype.updated_canvas_event = function() {\n",
       "    // Tell IPython that the notebook contents must change.\n",
       "    IPython.notebook.set_dirty(true);\n",
       "    this.send_message(\"ack\", {});\n",
       "    var fig = this;\n",
       "    // Wait a second, then push the new image to the DOM so\n",
       "    // that it is saved nicely (might be nice to debounce this).\n",
       "    setTimeout(function () { fig.push_to_output() }, 1000);\n",
       "}\n",
       "\n",
       "mpl.figure.prototype._init_toolbar = function() {\n",
       "    var fig = this;\n",
       "\n",
       "    var nav_element = $('<div/>')\n",
       "    nav_element.attr('style', 'width: 100%');\n",
       "    this.root.append(nav_element);\n",
       "\n",
       "    // Define a callback function for later on.\n",
       "    function toolbar_event(event) {\n",
       "        return fig.toolbar_button_onclick(event['data']);\n",
       "    }\n",
       "    function toolbar_mouse_event(event) {\n",
       "        return fig.toolbar_button_onmouseover(event['data']);\n",
       "    }\n",
       "\n",
       "    for(var toolbar_ind in mpl.toolbar_items){\n",
       "        var name = mpl.toolbar_items[toolbar_ind][0];\n",
       "        var tooltip = mpl.toolbar_items[toolbar_ind][1];\n",
       "        var image = mpl.toolbar_items[toolbar_ind][2];\n",
       "        var method_name = mpl.toolbar_items[toolbar_ind][3];\n",
       "\n",
       "        if (!name) { continue; };\n",
       "\n",
       "        var button = $('<button class=\"btn btn-default\" href=\"#\" title=\"' + name + '\"><i class=\"fa ' + image + ' fa-lg\"></i></button>');\n",
       "        button.click(method_name, toolbar_event);\n",
       "        button.mouseover(tooltip, toolbar_mouse_event);\n",
       "        nav_element.append(button);\n",
       "    }\n",
       "\n",
       "    // Add the status bar.\n",
       "    var status_bar = $('<span class=\"mpl-message\" style=\"text-align:right; float: right;\"/>');\n",
       "    nav_element.append(status_bar);\n",
       "    this.message = status_bar[0];\n",
       "\n",
       "    // Add the close button to the window.\n",
       "    var buttongrp = $('<div class=\"btn-group inline pull-right\"></div>');\n",
       "    var button = $('<button class=\"btn btn-mini btn-primary\" href=\"#\" title=\"Stop Interaction\"><i class=\"fa fa-power-off icon-remove icon-large\"></i></button>');\n",
       "    button.click(function (evt) { fig.handle_close(fig, {}); } );\n",
       "    button.mouseover('Stop Interaction', toolbar_mouse_event);\n",
       "    buttongrp.append(button);\n",
       "    var titlebar = this.root.find($('.ui-dialog-titlebar'));\n",
       "    titlebar.prepend(buttongrp);\n",
       "}\n",
       "\n",
       "mpl.figure.prototype._root_extra_style = function(el){\n",
       "    var fig = this\n",
       "    el.on(\"remove\", function(){\n",
       "\tfig.close_ws(fig, {});\n",
       "    });\n",
       "}\n",
       "\n",
       "mpl.figure.prototype._canvas_extra_style = function(el){\n",
       "    // this is important to make the div 'focusable\n",
       "    el.attr('tabindex', 0)\n",
       "    // reach out to IPython and tell the keyboard manager to turn it's self\n",
       "    // off when our div gets focus\n",
       "\n",
       "    // location in version 3\n",
       "    if (IPython.notebook.keyboard_manager) {\n",
       "        IPython.notebook.keyboard_manager.register_events(el);\n",
       "    }\n",
       "    else {\n",
       "        // location in version 2\n",
       "        IPython.keyboard_manager.register_events(el);\n",
       "    }\n",
       "\n",
       "}\n",
       "\n",
       "mpl.figure.prototype._key_event_extra = function(event, name) {\n",
       "    var manager = IPython.notebook.keyboard_manager;\n",
       "    if (!manager)\n",
       "        manager = IPython.keyboard_manager;\n",
       "\n",
       "    // Check for shift+enter\n",
       "    if (event.shiftKey && event.which == 13) {\n",
       "        this.canvas_div.blur();\n",
       "        // select the cell after this one\n",
       "        var index = IPython.notebook.find_cell_index(this.cell_info[0]);\n",
       "        IPython.notebook.select(index + 1);\n",
       "    }\n",
       "}\n",
       "\n",
       "mpl.figure.prototype.handle_save = function(fig, msg) {\n",
       "    fig.ondownload(fig, null);\n",
       "}\n",
       "\n",
       "\n",
       "mpl.find_output_cell = function(html_output) {\n",
       "    // Return the cell and output element which can be found *uniquely* in the notebook.\n",
       "    // Note - this is a bit hacky, but it is done because the \"notebook_saving.Notebook\"\n",
       "    // IPython event is triggered only after the cells have been serialised, which for\n",
       "    // our purposes (turning an active figure into a static one), is too late.\n",
       "    var cells = IPython.notebook.get_cells();\n",
       "    var ncells = cells.length;\n",
       "    for (var i=0; i<ncells; i++) {\n",
       "        var cell = cells[i];\n",
       "        if (cell.cell_type === 'code'){\n",
       "            for (var j=0; j<cell.output_area.outputs.length; j++) {\n",
       "                var data = cell.output_area.outputs[j];\n",
       "                if (data.data) {\n",
       "                    // IPython >= 3 moved mimebundle to data attribute of output\n",
       "                    data = data.data;\n",
       "                }\n",
       "                if (data['text/html'] == html_output) {\n",
       "                    return [cell, data, j];\n",
       "                }\n",
       "            }\n",
       "        }\n",
       "    }\n",
       "}\n",
       "\n",
       "// Register the function which deals with the matplotlib target/channel.\n",
       "// The kernel may be null if the page has been refreshed.\n",
       "if (IPython.notebook.kernel != null) {\n",
       "    IPython.notebook.kernel.comm_manager.register_target('matplotlib', mpl.mpl_figure_comm);\n",
       "}\n"
      ],
      "text/plain": [
       "<IPython.core.display.Javascript object>"
      ]
     },
     "metadata": {},
     "output_type": "display_data"
    },
    {
     "data": {
      "text/html": [
       "<img src=\"data:image/png;base64,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\">"
      ],
      "text/plain": [
       "<IPython.core.display.HTML object>"
      ]
     },
     "metadata": {},
     "output_type": "display_data"
    }
   ],
   "source": [
    "N = 25\n",
    "n = np.arange(0, N)\n",
    "plt.figure(figsize=(6, 4))\n",
    "pl = plt.stem(n, np.cos(np.pi*n/10), linefmt='k-', basefmt='k-', markerfmt='or')\n",
    "pl[2].set_xdata([-0.5, N-0.5])\n",
    "plt.axis([-0.5, N-0.5, -1.1, 1.1])\n",
    "def kk(n0=0):\n",
    "    ydata = np.cos(np.pi*np.arange(n0, n0+N)/10)\n",
    "    pl[0].set_ydata(ydata)\n",
    "    for k in range(N):\n",
    "        pl[1][k].set_ydata([0, ydata[k]])"
   ]
  },
  {
   "cell_type": "code",
   "execution_count": 4,
   "metadata": {
    "collapsed": false,
    "run_control": {
     "read_only": false
    }
   },
   "outputs": [],
   "source": [
    "interact(kk, n0=(-10, 10, 1))"
   ]
  },
  {
   "cell_type": "code",
   "execution_count": 5,
   "metadata": {
    "collapsed": false,
    "run_control": {
     "read_only": false
    }
   },
   "outputs": [
    {
     "ename": "NameError",
     "evalue": "name 'ax' is not defined",
     "output_type": "error",
     "traceback": [
      "\u001b[0;31m---------------------------------------------------------------------------\u001b[0m",
      "\u001b[0;31mNameError\u001b[0m                                 Traceback (most recent call last)",
      "\u001b[0;32m<ipython-input-5-68a0b9595e74>\u001b[0m in \u001b[0;36m<module>\u001b[0;34m()\u001b[0m\n\u001b[0;32m----> 1\u001b[0;31m \u001b[0max\u001b[0m\u001b[0;34m.\u001b[0m\u001b[0mset_tickslabels\u001b[0m\u001b[0;34m(\u001b[0m\u001b[0;34m'kk'\u001b[0m\u001b[0;34m)\u001b[0m\u001b[0;34m\u001b[0m\u001b[0m\n\u001b[0m",
      "\u001b[0;31mNameError\u001b[0m: name 'ax' is not defined"
     ]
    }
   ],
   "source": [
    "ax.set_tickslabels('kk')"
   ]
  },
  {
   "cell_type": "code",
   "execution_count": 6,
   "metadata": {
    "collapsed": false,
    "run_control": {
     "read_only": false
    }
   },
   "outputs": [],
   "source": [
    "def f(x):\n",
    "    return x"
   ]
  },
  {
   "cell_type": "code",
   "execution_count": 7,
   "metadata": {
    "collapsed": false,
    "run_control": {
     "read_only": false
    }
   },
   "outputs": [
    {
     "data": {
      "text/plain": [
       "'Hello, world'"
      ]
     },
     "metadata": {},
     "output_type": "display_data"
    },
    {
     "data": {
      "text/plain": [
       "<function __main__.f>"
      ]
     },
     "execution_count": 7,
     "metadata": {},
     "output_type": "execute_result"
    }
   ],
   "source": [
    "interact(f, x='Hello, world')"
   ]
  },
  {
   "cell_type": "code",
   "execution_count": 8,
   "metadata": {
    "collapsed": false,
    "run_control": {
     "read_only": false
    }
   },
   "outputs": [
    {
     "data": {
      "text/plain": [
       "(True, 1.0)"
      ]
     },
     "metadata": {},
     "output_type": "display_data"
    }
   ],
   "source": [
    "@interact(x=True, y=1.0)\n",
    "def g(x, y):\n",
    "    return (x, y)"
   ]
  },
  {
   "cell_type": "code",
   "execution_count": 9,
   "metadata": {
    "collapsed": true,
    "run_control": {
     "read_only": false
    }
   },
   "outputs": [],
   "source": [
    "def h(p, q):\n",
    "    return (p, q)"
   ]
  },
  {
   "cell_type": "code",
   "execution_count": 10,
   "metadata": {
    "collapsed": false,
    "run_control": {
     "read_only": false
    }
   },
   "outputs": [
    {
     "data": {
      "text/plain": [
       "(5, 20)"
      ]
     },
     "metadata": {},
     "output_type": "display_data"
    }
   ],
   "source": [
    "interact(h, p=5, q=fixed(20));"
   ]
  },
  {
   "cell_type": "code",
   "execution_count": 11,
   "metadata": {
    "collapsed": false,
    "run_control": {
     "read_only": false
    }
   },
   "outputs": [
    {
     "ename": "NameError",
     "evalue": "name 'widgets' is not defined",
     "output_type": "error",
     "traceback": [
      "\u001b[0;31m---------------------------------------------------------------------------\u001b[0m",
      "\u001b[0;31mNameError\u001b[0m                                 Traceback (most recent call last)",
      "\u001b[0;32m<ipython-input-11-f4565de7efff>\u001b[0m in \u001b[0;36m<module>\u001b[0;34m()\u001b[0m\n\u001b[0;32m----> 1\u001b[0;31m \u001b[0minteract\u001b[0m\u001b[0;34m(\u001b[0m\u001b[0mf\u001b[0m\u001b[0;34m,\u001b[0m \u001b[0mx\u001b[0m\u001b[0;34m=\u001b[0m\u001b[0mwidgets\u001b[0m\u001b[0;34m.\u001b[0m\u001b[0mIntSlider\u001b[0m\u001b[0;34m(\u001b[0m\u001b[0mmin\u001b[0m\u001b[0;34m=\u001b[0m\u001b[0;34m-\u001b[0m\u001b[0;36m20\u001b[0m\u001b[0;34m,\u001b[0m\u001b[0mmax\u001b[0m\u001b[0;34m=\u001b[0m\u001b[0;36m20\u001b[0m\u001b[0;34m,\u001b[0m\u001b[0mstep\u001b[0m\u001b[0;34m=\u001b[0m\u001b[0;36m5\u001b[0m\u001b[0;34m,\u001b[0m\u001b[0mvalue\u001b[0m\u001b[0;34m=\u001b[0m\u001b[0;36m10\u001b[0m\u001b[0;34m)\u001b[0m\u001b[0;34m)\u001b[0m\u001b[0;34m;\u001b[0m\u001b[0;34m\u001b[0m\u001b[0m\n\u001b[0m",
      "\u001b[0;31mNameError\u001b[0m: name 'widgets' is not defined"
     ]
    }
   ],
   "source": [
    "interact(f, x=widgets.IntSlider(min=-20,max=20,step=5,value=10));"
   ]
  },
  {
   "cell_type": "code",
   "execution_count": 12,
   "metadata": {
    "collapsed": false,
    "run_control": {
     "read_only": false
    }
   },
   "outputs": [],
   "source": [
    "def f2(x:(0,3)): # python 3 only\n",
    "    return x"
   ]
  },
  {
   "cell_type": "code",
   "execution_count": 13,
   "metadata": {
    "collapsed": false,
    "run_control": {
     "read_only": false
    }
   },
   "outputs": [
    {
     "data": {
      "text/plain": [
       "1"
      ]
     },
     "metadata": {},
     "output_type": "display_data"
    },
    {
     "data": {
      "text/plain": [
       "<function __main__.f2>"
      ]
     },
     "execution_count": 13,
     "metadata": {},
     "output_type": "execute_result"
    }
   ],
   "source": [
    "interact(f2)"
   ]
  },
  {
   "cell_type": "code",
   "execution_count": 14,
   "metadata": {
    "collapsed": true,
    "run_control": {
     "read_only": false
    }
   },
   "outputs": [],
   "source": [
    "def f(a, b):\n",
    "    return a+b"
   ]
  },
  {
   "cell_type": "code",
   "execution_count": 15,
   "metadata": {
    "collapsed": true,
    "run_control": {
     "read_only": false
    }
   },
   "outputs": [],
   "source": [
    "w = interactive(f, a=10, b=20)"
   ]
  },
  {
   "cell_type": "code",
   "execution_count": 16,
   "metadata": {
    "collapsed": false,
    "run_control": {
     "read_only": false
    }
   },
   "outputs": [
    {
     "data": {
      "text/plain": [
       "ipywidgets.widgets.widget_box.Box"
      ]
     },
     "execution_count": 16,
     "metadata": {},
     "output_type": "execute_result"
    }
   ],
   "source": [
    "type(w)"
   ]
  },
  {
   "cell_type": "code",
   "execution_count": 17,
   "metadata": {
    "collapsed": false,
    "run_control": {
     "read_only": false
    }
   },
   "outputs": [
    {
     "data": {
      "text/plain": [
       "(<ipywidgets.widgets.widget_int.IntSlider at 0x7f8655e72828>,\n",
       " <ipywidgets.widgets.widget_int.IntSlider at 0x7f8655e72d30>)"
      ]
     },
     "execution_count": 17,
     "metadata": {},
     "output_type": "execute_result"
    }
   ],
   "source": [
    "w.children"
   ]
  },
  {
   "cell_type": "code",
   "execution_count": 18,
   "metadata": {
    "collapsed": false,
    "run_control": {
     "read_only": false
    }
   },
   "outputs": [
    {
     "data": {
      "text/plain": [
       "30"
      ]
     },
     "metadata": {},
     "output_type": "display_data"
    }
   ],
   "source": [
    "from IPython.display import display\n",
    "display(w)"
   ]
  },
  {
   "cell_type": "code",
   "execution_count": 19,
   "metadata": {
    "collapsed": false,
    "run_control": {
     "read_only": false
    }
   },
   "outputs": [
    {
     "data": {
      "text/plain": [
       "{'a': 10, 'b': 20}"
      ]
     },
     "execution_count": 19,
     "metadata": {},
     "output_type": "execute_result"
    }
   ],
   "source": [
    "w.kwargs"
   ]
  },
  {
   "cell_type": "code",
   "execution_count": 20,
   "metadata": {
    "collapsed": false,
    "run_control": {
     "read_only": false
    }
   },
   "outputs": [
    {
     "data": {
      "text/plain": [
       "30"
      ]
     },
     "execution_count": 20,
     "metadata": {},
     "output_type": "execute_result"
    }
   ],
   "source": [
    "w.result"
   ]
  },
  {
   "cell_type": "code",
   "execution_count": 21,
   "metadata": {
    "collapsed": true,
    "run_control": {
     "read_only": false
    }
   },
   "outputs": [],
   "source": [
    "def slow_function(i):\n",
    "    print(int(i),list(x for x in range(int(i)) if \n",
    "                str(x)==str(x)[::-1] and \n",
    "                str(x**2)==str(x**2)[::-1]))\n",
    "    return"
   ]
  },
  {
   "cell_type": "code",
   "execution_count": 22,
   "metadata": {
    "collapsed": false,
    "run_control": {
     "read_only": false
    }
   },
   "outputs": [
    {
     "name": "stdout",
     "output_type": "stream",
     "text": [
      "1000000 [0, 1, 2, 3, 11, 22, 101, 111, 121, 202, 212, 1001, 1111, 2002, 10001, 10101, 10201, 11011, 11111, 11211, 20002, 20102, 100001, 101101, 110011, 111111, 200002]\n",
      "CPU times: user 720 ms, sys: 4 ms, total: 724 ms\n",
      "Wall time: 771 ms\n"
     ]
    }
   ],
   "source": [
    "%%time\n",
    "slow_function(1e6)"
   ]
  },
  {
   "cell_type": "code",
   "execution_count": 23,
   "metadata": {
    "collapsed": false,
    "run_control": {
     "read_only": false
    }
   },
   "outputs": [
    {
     "name": "stdout",
     "output_type": "stream",
     "text": [
      "100000 [0, 1, 2, 3, 11, 22, 101, 111, 121, 202, 212, 1001, 1111, 2002, 10001, 10101, 10201, 11011, 11111, 11211, 20002, 20102]\n"
     ]
    },
    {
     "data": {
      "text/plain": [
       "<function __main__.slow_function>"
      ]
     },
     "execution_count": 23,
     "metadata": {},
     "output_type": "execute_result"
    }
   ],
   "source": [
    "from ipywidgets import FloatSlider\n",
    "interact(slow_function,i=FloatSlider(min=1e5, max=1e7, step=1e5,continuous_update=False))"
   ]
  },
  {
   "cell_type": "code",
   "execution_count": 24,
   "metadata": {
    "collapsed": false,
    "run_control": {
     "read_only": false
    }
   },
   "outputs": [
    {
     "name": "stdout",
     "output_type": "stream",
     "text": [
      "0.0 5.0\n"
     ]
    },
    {
     "data": {
      "text/plain": [
       "<function __main__.printer>"
      ]
     },
     "execution_count": 24,
     "metadata": {},
     "output_type": "execute_result"
    }
   ],
   "source": [
    "x_widget = FloatSlider(min=0.0, max=10.0, step=0.05)\n",
    "y_widget = FloatSlider(min=0.5, max=10.0, step=0.05, value=5.0)\n",
    "\n",
    "def update_x_range(*args):\n",
    "    x_widget.max = 2.0 * y_widget.value\n",
    "\n",
    "y_widget.on_trait_change(update_x_range, 'value')\n",
    "\n",
    "def printer(x, y):\n",
    "    print(x, y)\n",
    "interact(printer,x=x_widget, y=y_widget)"
   ]
  },
  {
   "cell_type": "code",
   "execution_count": 25,
   "metadata": {
    "collapsed": false,
    "run_control": {
     "read_only": false
    }
   },
   "outputs": [],
   "source": [
    "from ipywidgets import *\n",
    "from IPython.display import display\n",
    "w = IntSlider()\n",
    "display(w)"
   ]
  },
  {
   "cell_type": "code",
   "execution_count": 26,
   "metadata": {
    "collapsed": false,
    "run_control": {
     "read_only": false
    }
   },
   "outputs": [],
   "source": [
    "display(w)"
   ]
  },
  {
   "cell_type": "code",
   "execution_count": 27,
   "metadata": {
    "collapsed": true,
    "run_control": {
     "read_only": false
    }
   },
   "outputs": [],
   "source": [
    "w.close()"
   ]
  },
  {
   "cell_type": "code",
   "execution_count": 28,
   "metadata": {
    "collapsed": false,
    "run_control": {
     "read_only": false
    }
   },
   "outputs": [
    {
     "data": {
      "text/plain": [
       "0"
      ]
     },
     "execution_count": 28,
     "metadata": {},
     "output_type": "execute_result"
    }
   ],
   "source": [
    "w.value"
   ]
  },
  {
   "cell_type": "code",
   "execution_count": 29,
   "metadata": {
    "collapsed": true,
    "run_control": {
     "read_only": false
    }
   },
   "outputs": [],
   "source": [
    "from traitlets import link\n",
    "a = FloatText()\n",
    "b = FloatSlider()\n",
    "display(a,b)\n",
    "\n",
    "mylink = link((a, 'value'), (b, 'value'))"
   ]
  },
  {
   "cell_type": "code",
   "execution_count": 30,
   "metadata": {
    "collapsed": true,
    "run_control": {
     "read_only": false
    }
   },
   "outputs": [],
   "source": [
    "mylink.unlink()"
   ]
  },
  {
   "cell_type": "code",
   "execution_count": 31,
   "metadata": {
    "collapsed": false,
    "run_control": {
     "read_only": false
    }
   },
   "outputs": [
    {
     "data": {
      "text/plain": [
       "dict_values([<class 'ipywidgets.widgets.widget_image.Image'>, <class 'ipywidgets.widgets.widget_selection.SelectMultiple'>, <class 'ipywidgets.widgets.widget_selection.Dropdown'>, <class 'ipywidgets.widgets.widget_controller.Controller'>, <class 'ipywidgets.widgets.widget_selection.ToggleButtons'>, <class 'ipywidgets.widgets.widget_string.Textarea'>, <class 'ipywidgets.widgets.widget_bool.Valid'>, <class 'ipywidgets.widgets.widget_int.BoundedIntText'>, <class 'ipywidgets.widgets.widget_int.IntRangeSlider'>, <class 'ipywidgets.widgets.widget_box.PlaceProxy'>, <class 'ipywidgets.widgets.widget_string.Label'>, <class 'ipywidgets.widgets.widget_string.Text'>, <class 'ipywidgets.widgets.widget_string.HTML'>, <class 'ipywidgets.widgets.widget_controller.Button'>, <class 'ipywidgets.widgets.widget_button.Button'>, <class 'ipywidgets.widgets.widget_selectioncontainer.Accordion'>, <class 'ipywidgets.widgets.widget_link.DirectionalLink'>, <class 'ipywidgets.widgets.widget_box.Proxy'>, <class 'ipywidgets.widgets.widget_selection.Select'>, <class 'ipywidgets.widgets.widget_selectioncontainer.Tab'>, <class 'ipywidgets.widgets.widget_int.IntProgress'>, <class 'ipywidgets.widgets.widget_color.ColorPicker'>, <class 'ipywidgets.widgets.widget_bool.ToggleButton'>, <class 'ipywidgets.widgets.widget_float.FloatText'>, <class 'ipywidgets.widgets.widget_float.FloatProgress'>, <class 'ipywidgets.widgets.widget_int.IntSlider'>, <class 'ipywidgets.widgets.widget_link.Link'>, <class 'ipywidgets.widgets.widget_bool.Checkbox'>, <class 'ipywidgets.widgets.widget_float.BoundedFloatText'>, <class 'ipywidgets.widgets.widget_float.FloatRangeSlider'>, <class 'ipywidgets.widgets.widget_int.IntText'>, <class 'ipywidgets.widgets.widget_selection.SelectionSlider'>, <class 'ipywidgets.widgets.widget_box.Box'>, <class 'ipywidgets.widgets.widget_int.Play'>, <class 'ipywidgets.widgets.widget_float.FloatSlider'>, <class 'ipywidgets.widgets.widget_box.FlexBox'>, <class 'ipywidgets.widgets.widget_selection.RadioButtons'>, <class 'ipywidgets.widgets.widget_controller.Axis'>])"
      ]
     },
     "execution_count": 31,
     "metadata": {},
     "output_type": "execute_result"
    }
   ],
   "source": [
    "import ipywidgets as widgets\n",
    "widgets.Widget.widget_types.values()"
   ]
  },
  {
   "cell_type": "code",
   "execution_count": null,
   "metadata": {
    "collapsed": true,
    "run_control": {
     "read_only": false
    }
   },
   "outputs": [],
   "source": []
  },
  {
   "cell_type": "code",
   "execution_count": null,
   "metadata": {
    "collapsed": true
   },
   "outputs": [],
   "source": []
  }
 ],
 "metadata": {
  "kernelspec": {
   "display_name": "Python 3",
   "language": "python",
   "name": "python3"
  },
  "language_info": {
   "codemirror_mode": {
    "name": "ipython",
    "version": 3
   },
   "file_extension": ".py",
   "mimetype": "text/x-python",
   "name": "python",
   "nbconvert_exporter": "python",
   "pygments_lexer": "ipython3",
   "version": "3.5.2+"
  },
  "widgets": {
   "state": {
    "2e96812037db443a93ca4d90fe22eee1": {
     "views": [
      {
       "cell_index": 6
      }
     ]
    },
    "6a29599f429744079164d3703bd920fe": {
     "views": [
      {
       "cell_index": 11
      }
     ]
    },
    "6ca9119f9d794812beac816851cb969d": {
     "views": [
      {
       "cell_index": 16
      }
     ]
    },
    "89d874cb05b64d5abf25ed8f983705f0": {
     "views": [
      {
       "cell_index": 22
      }
     ]
    },
    "9efb36629e22440c91a7a65b5e9153c7": {
     "views": [
      {
       "cell_index": 21
      }
     ]
    },
    "a4a29b788b1140bf8b50f06114bee994": {
     "views": [
      {
       "cell_index": 8
      }
     ]
    },
    "b5770f465f5341c7b68a313c607a4878": {
     "views": [
      {
       "cell_index": 2
      }
     ]
    },
    "e18702da22cb404093717f424b840ae6": {
     "views": [
      {
       "cell_index": 27
      }
     ]
    },
    "ea0e62a7100146cda36131b2f29f88bf": {
     "views": [
      {
       "cell_index": 27
      }
     ]
    },
    "f0a2ca7b121e4d52baf310ee3c29c19a": {
     "views": [
      {
       "cell_index": 5
      }
     ]
    }
   },
   "version": "1.2.0"
  }
 },
 "nbformat": 4,
 "nbformat_minor": 0
}
