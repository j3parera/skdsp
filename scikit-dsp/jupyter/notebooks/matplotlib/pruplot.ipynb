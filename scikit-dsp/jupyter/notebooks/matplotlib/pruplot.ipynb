{
 "cells": [
  {
   "cell_type": "code",
   "execution_count": 1,
   "metadata": {
    "run_control": {
     "read_only": false
    }
   },
   "outputs": [],
   "source": [
    "import matplotlib.pyplot as plt\n",
    "import numpy as np\n",
    "%matplotlib notebook\n",
    "from ipywidgets import interact, interactive, fixed"
   ]
  },
  {
   "cell_type": "code",
   "execution_count": 2,
   "metadata": {
    "code_folding": [],
    "run_control": {
     "read_only": false
    }
   },
   "outputs": [
    {
     "data": {
      "application/javascript": [
       "/* Put everything inside the global mpl namespace */\n",
       "window.mpl = {};\n",
       "\n",
       "\n",
       "mpl.get_websocket_type = function() {\n",
       "    if (typeof(WebSocket) !== 'undefined') {\n",
       "        return WebSocket;\n",
       "    } else if (typeof(MozWebSocket) !== 'undefined') {\n",
       "        return MozWebSocket;\n",
       "    } else {\n",
       "        alert('Your browser does not have WebSocket support.' +\n",
       "              'Please try Chrome, Safari or Firefox ≥ 6. ' +\n",
       "              'Firefox 4 and 5 are also supported but you ' +\n",
       "              'have to enable WebSockets in about:config.');\n",
       "    };\n",
       "}\n",
       "\n",
       "mpl.figure = function(figure_id, websocket, ondownload, parent_element) {\n",
       "    this.id = figure_id;\n",
       "\n",
       "    this.ws = websocket;\n",
       "\n",
       "    this.supports_binary = (this.ws.binaryType != undefined);\n",
       "\n",
       "    if (!this.supports_binary) {\n",
       "        var warnings = document.getElementById(\"mpl-warnings\");\n",
       "        if (warnings) {\n",
       "            warnings.style.display = 'block';\n",
       "            warnings.textContent = (\n",
       "                \"This browser does not support binary websocket messages. \" +\n",
       "                    \"Performance may be slow.\");\n",
       "        }\n",
       "    }\n",
       "\n",
       "    this.imageObj = new Image();\n",
       "\n",
       "    this.context = undefined;\n",
       "    this.message = undefined;\n",
       "    this.canvas = undefined;\n",
       "    this.rubberband_canvas = undefined;\n",
       "    this.rubberband_context = undefined;\n",
       "    this.format_dropdown = undefined;\n",
       "\n",
       "    this.image_mode = 'full';\n",
       "\n",
       "    this.root = $('<div/>');\n",
       "    this._root_extra_style(this.root)\n",
       "    this.root.attr('style', 'display: inline-block');\n",
       "\n",
       "    $(parent_element).append(this.root);\n",
       "\n",
       "    this._init_header(this);\n",
       "    this._init_canvas(this);\n",
       "    this._init_toolbar(this);\n",
       "\n",
       "    var fig = this;\n",
       "\n",
       "    this.waiting = false;\n",
       "\n",
       "    this.ws.onopen =  function () {\n",
       "            fig.send_message(\"supports_binary\", {value: fig.supports_binary});\n",
       "            fig.send_message(\"send_image_mode\", {});\n",
       "            if (mpl.ratio != 1) {\n",
       "                fig.send_message(\"set_dpi_ratio\", {'dpi_ratio': mpl.ratio});\n",
       "            }\n",
       "            fig.send_message(\"refresh\", {});\n",
       "        }\n",
       "\n",
       "    this.imageObj.onload = function() {\n",
       "            if (fig.image_mode == 'full') {\n",
       "                // Full images could contain transparency (where diff images\n",
       "                // almost always do), so we need to clear the canvas so that\n",
       "                // there is no ghosting.\n",
       "                fig.context.clearRect(0, 0, fig.canvas.width, fig.canvas.height);\n",
       "            }\n",
       "            fig.context.drawImage(fig.imageObj, 0, 0);\n",
       "        };\n",
       "\n",
       "    this.imageObj.onunload = function() {\n",
       "        this.ws.close();\n",
       "    }\n",
       "\n",
       "    this.ws.onmessage = this._make_on_message_function(this);\n",
       "\n",
       "    this.ondownload = ondownload;\n",
       "}\n",
       "\n",
       "mpl.figure.prototype._init_header = function() {\n",
       "    var titlebar = $(\n",
       "        '<div class=\"ui-dialog-titlebar ui-widget-header ui-corner-all ' +\n",
       "        'ui-helper-clearfix\"/>');\n",
       "    var titletext = $(\n",
       "        '<div class=\"ui-dialog-title\" style=\"width: 100%; ' +\n",
       "        'text-align: center; padding: 3px;\"/>');\n",
       "    titlebar.append(titletext)\n",
       "    this.root.append(titlebar);\n",
       "    this.header = titletext[0];\n",
       "}\n",
       "\n",
       "\n",
       "\n",
       "mpl.figure.prototype._canvas_extra_style = function(canvas_div) {\n",
       "\n",
       "}\n",
       "\n",
       "\n",
       "mpl.figure.prototype._root_extra_style = function(canvas_div) {\n",
       "\n",
       "}\n",
       "\n",
       "mpl.figure.prototype._init_canvas = function() {\n",
       "    var fig = this;\n",
       "\n",
       "    var canvas_div = $('<div/>');\n",
       "\n",
       "    canvas_div.attr('style', 'position: relative; clear: both; outline: 0');\n",
       "\n",
       "    function canvas_keyboard_event(event) {\n",
       "        return fig.key_event(event, event['data']);\n",
       "    }\n",
       "\n",
       "    canvas_div.keydown('key_press', canvas_keyboard_event);\n",
       "    canvas_div.keyup('key_release', canvas_keyboard_event);\n",
       "    this.canvas_div = canvas_div\n",
       "    this._canvas_extra_style(canvas_div)\n",
       "    this.root.append(canvas_div);\n",
       "\n",
       "    var canvas = $('<canvas/>');\n",
       "    canvas.addClass('mpl-canvas');\n",
       "    canvas.attr('style', \"left: 0; top: 0; z-index: 0; outline: 0\")\n",
       "\n",
       "    this.canvas = canvas[0];\n",
       "    this.context = canvas[0].getContext(\"2d\");\n",
       "\n",
       "    var backingStore = this.context.backingStorePixelRatio ||\n",
       "\tthis.context.webkitBackingStorePixelRatio ||\n",
       "\tthis.context.mozBackingStorePixelRatio ||\n",
       "\tthis.context.msBackingStorePixelRatio ||\n",
       "\tthis.context.oBackingStorePixelRatio ||\n",
       "\tthis.context.backingStorePixelRatio || 1;\n",
       "\n",
       "    mpl.ratio = (window.devicePixelRatio || 1) / backingStore;\n",
       "\n",
       "    var rubberband = $('<canvas/>');\n",
       "    rubberband.attr('style', \"position: absolute; left: 0; top: 0; z-index: 1;\")\n",
       "\n",
       "    var pass_mouse_events = true;\n",
       "\n",
       "    canvas_div.resizable({\n",
       "        start: function(event, ui) {\n",
       "            pass_mouse_events = false;\n",
       "        },\n",
       "        resize: function(event, ui) {\n",
       "            fig.request_resize(ui.size.width, ui.size.height);\n",
       "        },\n",
       "        stop: function(event, ui) {\n",
       "            pass_mouse_events = true;\n",
       "            fig.request_resize(ui.size.width, ui.size.height);\n",
       "        },\n",
       "    });\n",
       "\n",
       "    function mouse_event_fn(event) {\n",
       "        if (pass_mouse_events)\n",
       "            return fig.mouse_event(event, event['data']);\n",
       "    }\n",
       "\n",
       "    rubberband.mousedown('button_press', mouse_event_fn);\n",
       "    rubberband.mouseup('button_release', mouse_event_fn);\n",
       "    // Throttle sequential mouse events to 1 every 20ms.\n",
       "    rubberband.mousemove('motion_notify', mouse_event_fn);\n",
       "\n",
       "    rubberband.mouseenter('figure_enter', mouse_event_fn);\n",
       "    rubberband.mouseleave('figure_leave', mouse_event_fn);\n",
       "\n",
       "    canvas_div.on(\"wheel\", function (event) {\n",
       "        event = event.originalEvent;\n",
       "        event['data'] = 'scroll'\n",
       "        if (event.deltaY < 0) {\n",
       "            event.step = 1;\n",
       "        } else {\n",
       "            event.step = -1;\n",
       "        }\n",
       "        mouse_event_fn(event);\n",
       "    });\n",
       "\n",
       "    canvas_div.append(canvas);\n",
       "    canvas_div.append(rubberband);\n",
       "\n",
       "    this.rubberband = rubberband;\n",
       "    this.rubberband_canvas = rubberband[0];\n",
       "    this.rubberband_context = rubberband[0].getContext(\"2d\");\n",
       "    this.rubberband_context.strokeStyle = \"#000000\";\n",
       "\n",
       "    this._resize_canvas = function(width, height) {\n",
       "        // Keep the size of the canvas, canvas container, and rubber band\n",
       "        // canvas in synch.\n",
       "        canvas_div.css('width', width)\n",
       "        canvas_div.css('height', height)\n",
       "\n",
       "        canvas.attr('width', width * mpl.ratio);\n",
       "        canvas.attr('height', height * mpl.ratio);\n",
       "        canvas.attr('style', 'width: ' + width + 'px; height: ' + height + 'px;');\n",
       "\n",
       "        rubberband.attr('width', width);\n",
       "        rubberband.attr('height', height);\n",
       "    }\n",
       "\n",
       "    // Set the figure to an initial 600x600px, this will subsequently be updated\n",
       "    // upon first draw.\n",
       "    this._resize_canvas(600, 600);\n",
       "\n",
       "    // Disable right mouse context menu.\n",
       "    $(this.rubberband_canvas).bind(\"contextmenu\",function(e){\n",
       "        return false;\n",
       "    });\n",
       "\n",
       "    function set_focus () {\n",
       "        canvas.focus();\n",
       "        canvas_div.focus();\n",
       "    }\n",
       "\n",
       "    window.setTimeout(set_focus, 100);\n",
       "}\n",
       "\n",
       "mpl.figure.prototype._init_toolbar = function() {\n",
       "    var fig = this;\n",
       "\n",
       "    var nav_element = $('<div/>')\n",
       "    nav_element.attr('style', 'width: 100%');\n",
       "    this.root.append(nav_element);\n",
       "\n",
       "    // Define a callback function for later on.\n",
       "    function toolbar_event(event) {\n",
       "        return fig.toolbar_button_onclick(event['data']);\n",
       "    }\n",
       "    function toolbar_mouse_event(event) {\n",
       "        return fig.toolbar_button_onmouseover(event['data']);\n",
       "    }\n",
       "\n",
       "    for(var toolbar_ind in mpl.toolbar_items) {\n",
       "        var name = mpl.toolbar_items[toolbar_ind][0];\n",
       "        var tooltip = mpl.toolbar_items[toolbar_ind][1];\n",
       "        var image = mpl.toolbar_items[toolbar_ind][2];\n",
       "        var method_name = mpl.toolbar_items[toolbar_ind][3];\n",
       "\n",
       "        if (!name) {\n",
       "            // put a spacer in here.\n",
       "            continue;\n",
       "        }\n",
       "        var button = $('<button/>');\n",
       "        button.addClass('ui-button ui-widget ui-state-default ui-corner-all ' +\n",
       "                        'ui-button-icon-only');\n",
       "        button.attr('role', 'button');\n",
       "        button.attr('aria-disabled', 'false');\n",
       "        button.click(method_name, toolbar_event);\n",
       "        button.mouseover(tooltip, toolbar_mouse_event);\n",
       "\n",
       "        var icon_img = $('<span/>');\n",
       "        icon_img.addClass('ui-button-icon-primary ui-icon');\n",
       "        icon_img.addClass(image);\n",
       "        icon_img.addClass('ui-corner-all');\n",
       "\n",
       "        var tooltip_span = $('<span/>');\n",
       "        tooltip_span.addClass('ui-button-text');\n",
       "        tooltip_span.html(tooltip);\n",
       "\n",
       "        button.append(icon_img);\n",
       "        button.append(tooltip_span);\n",
       "\n",
       "        nav_element.append(button);\n",
       "    }\n",
       "\n",
       "    var fmt_picker_span = $('<span/>');\n",
       "\n",
       "    var fmt_picker = $('<select/>');\n",
       "    fmt_picker.addClass('mpl-toolbar-option ui-widget ui-widget-content');\n",
       "    fmt_picker_span.append(fmt_picker);\n",
       "    nav_element.append(fmt_picker_span);\n",
       "    this.format_dropdown = fmt_picker[0];\n",
       "\n",
       "    for (var ind in mpl.extensions) {\n",
       "        var fmt = mpl.extensions[ind];\n",
       "        var option = $(\n",
       "            '<option/>', {selected: fmt === mpl.default_extension}).html(fmt);\n",
       "        fmt_picker.append(option)\n",
       "    }\n",
       "\n",
       "    // Add hover states to the ui-buttons\n",
       "    $( \".ui-button\" ).hover(\n",
       "        function() { $(this).addClass(\"ui-state-hover\");},\n",
       "        function() { $(this).removeClass(\"ui-state-hover\");}\n",
       "    );\n",
       "\n",
       "    var status_bar = $('<span class=\"mpl-message\"/>');\n",
       "    nav_element.append(status_bar);\n",
       "    this.message = status_bar[0];\n",
       "}\n",
       "\n",
       "mpl.figure.prototype.request_resize = function(x_pixels, y_pixels) {\n",
       "    // Request matplotlib to resize the figure. Matplotlib will then trigger a resize in the client,\n",
       "    // which will in turn request a refresh of the image.\n",
       "    this.send_message('resize', {'width': x_pixels, 'height': y_pixels});\n",
       "}\n",
       "\n",
       "mpl.figure.prototype.send_message = function(type, properties) {\n",
       "    properties['type'] = type;\n",
       "    properties['figure_id'] = this.id;\n",
       "    this.ws.send(JSON.stringify(properties));\n",
       "}\n",
       "\n",
       "mpl.figure.prototype.send_draw_message = function() {\n",
       "    if (!this.waiting) {\n",
       "        this.waiting = true;\n",
       "        this.ws.send(JSON.stringify({type: \"draw\", figure_id: this.id}));\n",
       "    }\n",
       "}\n",
       "\n",
       "\n",
       "mpl.figure.prototype.handle_save = function(fig, msg) {\n",
       "    var format_dropdown = fig.format_dropdown;\n",
       "    var format = format_dropdown.options[format_dropdown.selectedIndex].value;\n",
       "    fig.ondownload(fig, format);\n",
       "}\n",
       "\n",
       "\n",
       "mpl.figure.prototype.handle_resize = function(fig, msg) {\n",
       "    var size = msg['size'];\n",
       "    if (size[0] != fig.canvas.width || size[1] != fig.canvas.height) {\n",
       "        fig._resize_canvas(size[0], size[1]);\n",
       "        fig.send_message(\"refresh\", {});\n",
       "    };\n",
       "}\n",
       "\n",
       "mpl.figure.prototype.handle_rubberband = function(fig, msg) {\n",
       "    var x0 = msg['x0'] / mpl.ratio;\n",
       "    var y0 = (fig.canvas.height - msg['y0']) / mpl.ratio;\n",
       "    var x1 = msg['x1'] / mpl.ratio;\n",
       "    var y1 = (fig.canvas.height - msg['y1']) / mpl.ratio;\n",
       "    x0 = Math.floor(x0) + 0.5;\n",
       "    y0 = Math.floor(y0) + 0.5;\n",
       "    x1 = Math.floor(x1) + 0.5;\n",
       "    y1 = Math.floor(y1) + 0.5;\n",
       "    var min_x = Math.min(x0, x1);\n",
       "    var min_y = Math.min(y0, y1);\n",
       "    var width = Math.abs(x1 - x0);\n",
       "    var height = Math.abs(y1 - y0);\n",
       "\n",
       "    fig.rubberband_context.clearRect(\n",
       "        0, 0, fig.canvas.width, fig.canvas.height);\n",
       "\n",
       "    fig.rubberband_context.strokeRect(min_x, min_y, width, height);\n",
       "}\n",
       "\n",
       "mpl.figure.prototype.handle_figure_label = function(fig, msg) {\n",
       "    // Updates the figure title.\n",
       "    fig.header.textContent = msg['label'];\n",
       "}\n",
       "\n",
       "mpl.figure.prototype.handle_cursor = function(fig, msg) {\n",
       "    var cursor = msg['cursor'];\n",
       "    switch(cursor)\n",
       "    {\n",
       "    case 0:\n",
       "        cursor = 'pointer';\n",
       "        break;\n",
       "    case 1:\n",
       "        cursor = 'default';\n",
       "        break;\n",
       "    case 2:\n",
       "        cursor = 'crosshair';\n",
       "        break;\n",
       "    case 3:\n",
       "        cursor = 'move';\n",
       "        break;\n",
       "    }\n",
       "    fig.rubberband_canvas.style.cursor = cursor;\n",
       "}\n",
       "\n",
       "mpl.figure.prototype.handle_message = function(fig, msg) {\n",
       "    fig.message.textContent = msg['message'];\n",
       "}\n",
       "\n",
       "mpl.figure.prototype.handle_draw = function(fig, msg) {\n",
       "    // Request the server to send over a new figure.\n",
       "    fig.send_draw_message();\n",
       "}\n",
       "\n",
       "mpl.figure.prototype.handle_image_mode = function(fig, msg) {\n",
       "    fig.image_mode = msg['mode'];\n",
       "}\n",
       "\n",
       "mpl.figure.prototype.updated_canvas_event = function() {\n",
       "    // Called whenever the canvas gets updated.\n",
       "    this.send_message(\"ack\", {});\n",
       "}\n",
       "\n",
       "// A function to construct a web socket function for onmessage handling.\n",
       "// Called in the figure constructor.\n",
       "mpl.figure.prototype._make_on_message_function = function(fig) {\n",
       "    return function socket_on_message(evt) {\n",
       "        if (evt.data instanceof Blob) {\n",
       "            /* FIXME: We get \"Resource interpreted as Image but\n",
       "             * transferred with MIME type text/plain:\" errors on\n",
       "             * Chrome.  But how to set the MIME type?  It doesn't seem\n",
       "             * to be part of the websocket stream */\n",
       "            evt.data.type = \"image/png\";\n",
       "\n",
       "            /* Free the memory for the previous frames */\n",
       "            if (fig.imageObj.src) {\n",
       "                (window.URL || window.webkitURL).revokeObjectURL(\n",
       "                    fig.imageObj.src);\n",
       "            }\n",
       "\n",
       "            fig.imageObj.src = (window.URL || window.webkitURL).createObjectURL(\n",
       "                evt.data);\n",
       "            fig.updated_canvas_event();\n",
       "            fig.waiting = false;\n",
       "            return;\n",
       "        }\n",
       "        else if (typeof evt.data === 'string' && evt.data.slice(0, 21) == \"data:image/png;base64\") {\n",
       "            fig.imageObj.src = evt.data;\n",
       "            fig.updated_canvas_event();\n",
       "            fig.waiting = false;\n",
       "            return;\n",
       "        }\n",
       "\n",
       "        var msg = JSON.parse(evt.data);\n",
       "        var msg_type = msg['type'];\n",
       "\n",
       "        // Call the  \"handle_{type}\" callback, which takes\n",
       "        // the figure and JSON message as its only arguments.\n",
       "        try {\n",
       "            var callback = fig[\"handle_\" + msg_type];\n",
       "        } catch (e) {\n",
       "            console.log(\"No handler for the '\" + msg_type + \"' message type: \", msg);\n",
       "            return;\n",
       "        }\n",
       "\n",
       "        if (callback) {\n",
       "            try {\n",
       "                // console.log(\"Handling '\" + msg_type + \"' message: \", msg);\n",
       "                callback(fig, msg);\n",
       "            } catch (e) {\n",
       "                console.log(\"Exception inside the 'handler_\" + msg_type + \"' callback:\", e, e.stack, msg);\n",
       "            }\n",
       "        }\n",
       "    };\n",
       "}\n",
       "\n",
       "// from http://stackoverflow.com/questions/1114465/getting-mouse-location-in-canvas\n",
       "mpl.findpos = function(e) {\n",
       "    //this section is from http://www.quirksmode.org/js/events_properties.html\n",
       "    var targ;\n",
       "    if (!e)\n",
       "        e = window.event;\n",
       "    if (e.target)\n",
       "        targ = e.target;\n",
       "    else if (e.srcElement)\n",
       "        targ = e.srcElement;\n",
       "    if (targ.nodeType == 3) // defeat Safari bug\n",
       "        targ = targ.parentNode;\n",
       "\n",
       "    // jQuery normalizes the pageX and pageY\n",
       "    // pageX,Y are the mouse positions relative to the document\n",
       "    // offset() returns the position of the element relative to the document\n",
       "    var x = e.pageX - $(targ).offset().left;\n",
       "    var y = e.pageY - $(targ).offset().top;\n",
       "\n",
       "    return {\"x\": x, \"y\": y};\n",
       "};\n",
       "\n",
       "/*\n",
       " * return a copy of an object with only non-object keys\n",
       " * we need this to avoid circular references\n",
       " * http://stackoverflow.com/a/24161582/3208463\n",
       " */\n",
       "function simpleKeys (original) {\n",
       "  return Object.keys(original).reduce(function (obj, key) {\n",
       "    if (typeof original[key] !== 'object')\n",
       "        obj[key] = original[key]\n",
       "    return obj;\n",
       "  }, {});\n",
       "}\n",
       "\n",
       "mpl.figure.prototype.mouse_event = function(event, name) {\n",
       "    var canvas_pos = mpl.findpos(event)\n",
       "\n",
       "    if (name === 'button_press')\n",
       "    {\n",
       "        this.canvas.focus();\n",
       "        this.canvas_div.focus();\n",
       "    }\n",
       "\n",
       "    var x = canvas_pos.x * mpl.ratio;\n",
       "    var y = canvas_pos.y * mpl.ratio;\n",
       "\n",
       "    this.send_message(name, {x: x, y: y, button: event.button,\n",
       "                             step: event.step,\n",
       "                             guiEvent: simpleKeys(event)});\n",
       "\n",
       "    /* This prevents the web browser from automatically changing to\n",
       "     * the text insertion cursor when the button is pressed.  We want\n",
       "     * to control all of the cursor setting manually through the\n",
       "     * 'cursor' event from matplotlib */\n",
       "    event.preventDefault();\n",
       "    return false;\n",
       "}\n",
       "\n",
       "mpl.figure.prototype._key_event_extra = function(event, name) {\n",
       "    // Handle any extra behaviour associated with a key event\n",
       "}\n",
       "\n",
       "mpl.figure.prototype.key_event = function(event, name) {\n",
       "\n",
       "    // Prevent repeat events\n",
       "    if (name == 'key_press')\n",
       "    {\n",
       "        if (event.which === this._key)\n",
       "            return;\n",
       "        else\n",
       "            this._key = event.which;\n",
       "    }\n",
       "    if (name == 'key_release')\n",
       "        this._key = null;\n",
       "\n",
       "    var value = '';\n",
       "    if (event.ctrlKey && event.which != 17)\n",
       "        value += \"ctrl+\";\n",
       "    if (event.altKey && event.which != 18)\n",
       "        value += \"alt+\";\n",
       "    if (event.shiftKey && event.which != 16)\n",
       "        value += \"shift+\";\n",
       "\n",
       "    value += 'k';\n",
       "    value += event.which.toString();\n",
       "\n",
       "    this._key_event_extra(event, name);\n",
       "\n",
       "    this.send_message(name, {key: value,\n",
       "                             guiEvent: simpleKeys(event)});\n",
       "    return false;\n",
       "}\n",
       "\n",
       "mpl.figure.prototype.toolbar_button_onclick = function(name) {\n",
       "    if (name == 'download') {\n",
       "        this.handle_save(this, null);\n",
       "    } else {\n",
       "        this.send_message(\"toolbar_button\", {name: name});\n",
       "    }\n",
       "};\n",
       "\n",
       "mpl.figure.prototype.toolbar_button_onmouseover = function(tooltip) {\n",
       "    this.message.textContent = tooltip;\n",
       "};\n",
       "mpl.toolbar_items = [[\"Home\", \"Reset original view\", \"fa fa-home icon-home\", \"home\"], [\"Back\", \"Back to  previous view\", \"fa fa-arrow-left icon-arrow-left\", \"back\"], [\"Forward\", \"Forward to next view\", \"fa fa-arrow-right icon-arrow-right\", \"forward\"], [\"\", \"\", \"\", \"\"], [\"Pan\", \"Pan axes with left mouse, zoom with right\", \"fa fa-arrows icon-move\", \"pan\"], [\"Zoom\", \"Zoom to rectangle\", \"fa fa-square-o icon-check-empty\", \"zoom\"], [\"\", \"\", \"\", \"\"], [\"Download\", \"Download plot\", \"fa fa-floppy-o icon-save\", \"download\"]];\n",
       "\n",
       "mpl.extensions = [\"eps\", \"jpeg\", \"pdf\", \"png\", \"ps\", \"raw\", \"svg\", \"tif\"];\n",
       "\n",
       "mpl.default_extension = \"png\";var comm_websocket_adapter = function(comm) {\n",
       "    // Create a \"websocket\"-like object which calls the given IPython comm\n",
       "    // object with the appropriate methods. Currently this is a non binary\n",
       "    // socket, so there is still some room for performance tuning.\n",
       "    var ws = {};\n",
       "\n",
       "    ws.close = function() {\n",
       "        comm.close()\n",
       "    };\n",
       "    ws.send = function(m) {\n",
       "        //console.log('sending', m);\n",
       "        comm.send(m);\n",
       "    };\n",
       "    // Register the callback with on_msg.\n",
       "    comm.on_msg(function(msg) {\n",
       "        //console.log('receiving', msg['content']['data'], msg);\n",
       "        // Pass the mpl event to the overriden (by mpl) onmessage function.\n",
       "        ws.onmessage(msg['content']['data'])\n",
       "    });\n",
       "    return ws;\n",
       "}\n",
       "\n",
       "mpl.mpl_figure_comm = function(comm, msg) {\n",
       "    // This is the function which gets called when the mpl process\n",
       "    // starts-up an IPython Comm through the \"matplotlib\" channel.\n",
       "\n",
       "    var id = msg.content.data.id;\n",
       "    // Get hold of the div created by the display call when the Comm\n",
       "    // socket was opened in Python.\n",
       "    var element = $(\"#\" + id);\n",
       "    var ws_proxy = comm_websocket_adapter(comm)\n",
       "\n",
       "    function ondownload(figure, format) {\n",
       "        window.open(figure.imageObj.src);\n",
       "    }\n",
       "\n",
       "    var fig = new mpl.figure(id, ws_proxy,\n",
       "                           ondownload,\n",
       "                           element.get(0));\n",
       "\n",
       "    // Call onopen now - mpl needs it, as it is assuming we've passed it a real\n",
       "    // web socket which is closed, not our websocket->open comm proxy.\n",
       "    ws_proxy.onopen();\n",
       "\n",
       "    fig.parent_element = element.get(0);\n",
       "    fig.cell_info = mpl.find_output_cell(\"<div id='\" + id + \"'></div>\");\n",
       "    if (!fig.cell_info) {\n",
       "        console.error(\"Failed to find cell for figure\", id, fig);\n",
       "        return;\n",
       "    }\n",
       "\n",
       "    var output_index = fig.cell_info[2]\n",
       "    var cell = fig.cell_info[0];\n",
       "\n",
       "};\n",
       "\n",
       "mpl.figure.prototype.handle_close = function(fig, msg) {\n",
       "    var width = fig.canvas.width/mpl.ratio\n",
       "    fig.root.unbind('remove')\n",
       "\n",
       "    // Update the output cell to use the data from the current canvas.\n",
       "    fig.push_to_output();\n",
       "    var dataURL = fig.canvas.toDataURL();\n",
       "    // Re-enable the keyboard manager in IPython - without this line, in FF,\n",
       "    // the notebook keyboard shortcuts fail.\n",
       "    IPython.keyboard_manager.enable()\n",
       "    $(fig.parent_element).html('<img src=\"' + dataURL + '\" width=\"' + width + '\">');\n",
       "    fig.close_ws(fig, msg);\n",
       "}\n",
       "\n",
       "mpl.figure.prototype.close_ws = function(fig, msg){\n",
       "    fig.send_message('closing', msg);\n",
       "    // fig.ws.close()\n",
       "}\n",
       "\n",
       "mpl.figure.prototype.push_to_output = function(remove_interactive) {\n",
       "    // Turn the data on the canvas into data in the output cell.\n",
       "    var width = this.canvas.width/mpl.ratio\n",
       "    var dataURL = this.canvas.toDataURL();\n",
       "    this.cell_info[1]['text/html'] = '<img src=\"' + dataURL + '\" width=\"' + width + '\">';\n",
       "}\n",
       "\n",
       "mpl.figure.prototype.updated_canvas_event = function() {\n",
       "    // Tell IPython that the notebook contents must change.\n",
       "    IPython.notebook.set_dirty(true);\n",
       "    this.send_message(\"ack\", {});\n",
       "    var fig = this;\n",
       "    // Wait a second, then push the new image to the DOM so\n",
       "    // that it is saved nicely (might be nice to debounce this).\n",
       "    setTimeout(function () { fig.push_to_output() }, 1000);\n",
       "}\n",
       "\n",
       "mpl.figure.prototype._init_toolbar = function() {\n",
       "    var fig = this;\n",
       "\n",
       "    var nav_element = $('<div/>')\n",
       "    nav_element.attr('style', 'width: 100%');\n",
       "    this.root.append(nav_element);\n",
       "\n",
       "    // Define a callback function for later on.\n",
       "    function toolbar_event(event) {\n",
       "        return fig.toolbar_button_onclick(event['data']);\n",
       "    }\n",
       "    function toolbar_mouse_event(event) {\n",
       "        return fig.toolbar_button_onmouseover(event['data']);\n",
       "    }\n",
       "\n",
       "    for(var toolbar_ind in mpl.toolbar_items){\n",
       "        var name = mpl.toolbar_items[toolbar_ind][0];\n",
       "        var tooltip = mpl.toolbar_items[toolbar_ind][1];\n",
       "        var image = mpl.toolbar_items[toolbar_ind][2];\n",
       "        var method_name = mpl.toolbar_items[toolbar_ind][3];\n",
       "\n",
       "        if (!name) { continue; };\n",
       "\n",
       "        var button = $('<button class=\"btn btn-default\" href=\"#\" title=\"' + name + '\"><i class=\"fa ' + image + ' fa-lg\"></i></button>');\n",
       "        button.click(method_name, toolbar_event);\n",
       "        button.mouseover(tooltip, toolbar_mouse_event);\n",
       "        nav_element.append(button);\n",
       "    }\n",
       "\n",
       "    // Add the status bar.\n",
       "    var status_bar = $('<span class=\"mpl-message\" style=\"text-align:right; float: right;\"/>');\n",
       "    nav_element.append(status_bar);\n",
       "    this.message = status_bar[0];\n",
       "\n",
       "    // Add the close button to the window.\n",
       "    var buttongrp = $('<div class=\"btn-group inline pull-right\"></div>');\n",
       "    var button = $('<button class=\"btn btn-mini btn-primary\" href=\"#\" title=\"Stop Interaction\"><i class=\"fa fa-power-off icon-remove icon-large\"></i></button>');\n",
       "    button.click(function (evt) { fig.handle_close(fig, {}); } );\n",
       "    button.mouseover('Stop Interaction', toolbar_mouse_event);\n",
       "    buttongrp.append(button);\n",
       "    var titlebar = this.root.find($('.ui-dialog-titlebar'));\n",
       "    titlebar.prepend(buttongrp);\n",
       "}\n",
       "\n",
       "mpl.figure.prototype._root_extra_style = function(el){\n",
       "    var fig = this\n",
       "    el.on(\"remove\", function(){\n",
       "\tfig.close_ws(fig, {});\n",
       "    });\n",
       "}\n",
       "\n",
       "mpl.figure.prototype._canvas_extra_style = function(el){\n",
       "    // this is important to make the div 'focusable\n",
       "    el.attr('tabindex', 0)\n",
       "    // reach out to IPython and tell the keyboard manager to turn it's self\n",
       "    // off when our div gets focus\n",
       "\n",
       "    // location in version 3\n",
       "    if (IPython.notebook.keyboard_manager) {\n",
       "        IPython.notebook.keyboard_manager.register_events(el);\n",
       "    }\n",
       "    else {\n",
       "        // location in version 2\n",
       "        IPython.keyboard_manager.register_events(el);\n",
       "    }\n",
       "\n",
       "}\n",
       "\n",
       "mpl.figure.prototype._key_event_extra = function(event, name) {\n",
       "    var manager = IPython.notebook.keyboard_manager;\n",
       "    if (!manager)\n",
       "        manager = IPython.keyboard_manager;\n",
       "\n",
       "    // Check for shift+enter\n",
       "    if (event.shiftKey && event.which == 13) {\n",
       "        this.canvas_div.blur();\n",
       "        // select the cell after this one\n",
       "        var index = IPython.notebook.find_cell_index(this.cell_info[0]);\n",
       "        IPython.notebook.select(index + 1);\n",
       "    }\n",
       "}\n",
       "\n",
       "mpl.figure.prototype.handle_save = function(fig, msg) {\n",
       "    fig.ondownload(fig, null);\n",
       "}\n",
       "\n",
       "\n",
       "mpl.find_output_cell = function(html_output) {\n",
       "    // Return the cell and output element which can be found *uniquely* in the notebook.\n",
       "    // Note - this is a bit hacky, but it is done because the \"notebook_saving.Notebook\"\n",
       "    // IPython event is triggered only after the cells have been serialised, which for\n",
       "    // our purposes (turning an active figure into a static one), is too late.\n",
       "    var cells = IPython.notebook.get_cells();\n",
       "    var ncells = cells.length;\n",
       "    for (var i=0; i<ncells; i++) {\n",
       "        var cell = cells[i];\n",
       "        if (cell.cell_type === 'code'){\n",
       "            for (var j=0; j<cell.output_area.outputs.length; j++) {\n",
       "                var data = cell.output_area.outputs[j];\n",
       "                if (data.data) {\n",
       "                    // IPython >= 3 moved mimebundle to data attribute of output\n",
       "                    data = data.data;\n",
       "                }\n",
       "                if (data['text/html'] == html_output) {\n",
       "                    return [cell, data, j];\n",
       "                }\n",
       "            }\n",
       "        }\n",
       "    }\n",
       "}\n",
       "\n",
       "// Register the function which deals with the matplotlib target/channel.\n",
       "// The kernel may be null if the page has been refreshed.\n",
       "if (IPython.notebook.kernel != null) {\n",
       "    IPython.notebook.kernel.comm_manager.register_target('matplotlib', mpl.mpl_figure_comm);\n",
       "}\n"
      ],
      "text/plain": [
       "<IPython.core.display.Javascript object>"
      ]
     },
     "metadata": {},
     "output_type": "display_data"
    },
    {
     "data": {
      "text/html": [
       "<img src=\"data:image/png;base64,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\" width=\"600\">"
      ],
      "text/plain": [
       "<IPython.core.display.HTML object>"
      ]
     },
     "metadata": {},
     "output_type": "display_data"
    }
   ],
   "source": [
    "N = 25\n",
    "n = np.arange(0, N)\n",
    "plt.figure(figsize=(6, 4))\n",
    "pl = plt.stem(n, np.cos(np.pi*n/10), linefmt='k-', basefmt='k-', markerfmt='or')\n",
    "pl[2].set_xdata([-0.5, N-0.5])\n",
    "plt.axis([-0.5, N-0.5, -1.1, 1.1])\n",
    "def kk(n0=0):\n",
    "    ydata = np.cos(np.pi*np.arange(n0, n0+N)/10)\n",
    "    pl[0].set_ydata(ydata)\n",
    "    for k in range(N):\n",
    "        pl[1][k].set_ydata([0, ydata[k]])"
   ]
  },
  {
   "cell_type": "code",
   "execution_count": 3,
   "metadata": {
    "run_control": {
     "read_only": false
    }
   },
   "outputs": [
    {
     "data": {
      "application/vnd.jupyter.widget-view+json": {
       "model_id": "4c9f2d35055648b884cc2e6d554135e3"
      }
     },
     "metadata": {},
     "output_type": "display_data"
    },
    {
     "data": {
      "text/plain": [
       "<function __main__.kk>"
      ]
     },
     "execution_count": 3,
     "metadata": {},
     "output_type": "execute_result"
    }
   ],
   "source": [
    "interact(kk, n0=(-10, 10, 1))"
   ]
  },
  {
   "cell_type": "code",
   "execution_count": 4,
   "metadata": {
    "run_control": {
     "read_only": false
    }
   },
   "outputs": [
    {
     "ename": "NameError",
     "evalue": "name 'ax' is not defined",
     "output_type": "error",
     "traceback": [
      "\u001b[0;31m---------------------------------------------------------------------------\u001b[0m",
      "\u001b[0;31mNameError\u001b[0m                                 Traceback (most recent call last)",
      "\u001b[0;32m<ipython-input-4-68a0b9595e74>\u001b[0m in \u001b[0;36m<module>\u001b[0;34m()\u001b[0m\n\u001b[0;32m----> 1\u001b[0;31m \u001b[0max\u001b[0m\u001b[0;34m.\u001b[0m\u001b[0mset_tickslabels\u001b[0m\u001b[0;34m(\u001b[0m\u001b[0;34m'kk'\u001b[0m\u001b[0;34m)\u001b[0m\u001b[0;34m\u001b[0m\u001b[0m\n\u001b[0m",
      "\u001b[0;31mNameError\u001b[0m: name 'ax' is not defined"
     ]
    }
   ],
   "source": [
    "ax.set_tickslabels('kk')"
   ]
  },
  {
   "cell_type": "code",
   "execution_count": 5,
   "metadata": {
    "run_control": {
     "read_only": false
    }
   },
   "outputs": [],
   "source": [
    "def f(x):\n",
    "    return x"
   ]
  },
  {
   "cell_type": "code",
   "execution_count": 6,
   "metadata": {
    "run_control": {
     "read_only": false
    }
   },
   "outputs": [
    {
     "data": {
      "application/vnd.jupyter.widget-view+json": {
       "model_id": "b932d9b71e53496b86db1b7a4433bd0d"
      }
     },
     "metadata": {},
     "output_type": "display_data"
    },
    {
     "data": {
      "text/plain": [
       "<function __main__.f>"
      ]
     },
     "execution_count": 6,
     "metadata": {},
     "output_type": "execute_result"
    }
   ],
   "source": [
    "interact(f, x='Hello, world')"
   ]
  },
  {
   "cell_type": "code",
   "execution_count": 7,
   "metadata": {
    "run_control": {
     "read_only": false
    }
   },
   "outputs": [
    {
     "data": {
      "application/vnd.jupyter.widget-view+json": {
       "model_id": "7970956bf01c4a9b84ce9964c9272003"
      }
     },
     "metadata": {},
     "output_type": "display_data"
    }
   ],
   "source": [
    "@interact(x=True, y=1.0)\n",
    "def g(x, y):\n",
    "    return (x, y)"
   ]
  },
  {
   "cell_type": "code",
   "execution_count": 8,
   "metadata": {
    "collapsed": true,
    "run_control": {
     "read_only": false
    }
   },
   "outputs": [],
   "source": [
    "def h(p, q):\n",
    "    return (p, q)"
   ]
  },
  {
   "cell_type": "code",
   "execution_count": 9,
   "metadata": {
    "run_control": {
     "read_only": false
    }
   },
   "outputs": [
    {
     "data": {
      "application/vnd.jupyter.widget-view+json": {
       "model_id": "7a6d96478cc3455d803ed6468d8d0f5e"
      }
     },
     "metadata": {},
     "output_type": "display_data"
    }
   ],
   "source": [
    "interact(h, p=5, q=fixed(20));"
   ]
  },
  {
   "cell_type": "code",
   "execution_count": 10,
   "metadata": {
    "run_control": {
     "read_only": false
    }
   },
   "outputs": [
    {
     "ename": "NameError",
     "evalue": "name 'widgets' is not defined",
     "output_type": "error",
     "traceback": [
      "\u001b[0;31m---------------------------------------------------------------------------\u001b[0m",
      "\u001b[0;31mNameError\u001b[0m                                 Traceback (most recent call last)",
      "\u001b[0;32m<ipython-input-10-f4565de7efff>\u001b[0m in \u001b[0;36m<module>\u001b[0;34m()\u001b[0m\n\u001b[0;32m----> 1\u001b[0;31m \u001b[0minteract\u001b[0m\u001b[0;34m(\u001b[0m\u001b[0mf\u001b[0m\u001b[0;34m,\u001b[0m \u001b[0mx\u001b[0m\u001b[0;34m=\u001b[0m\u001b[0mwidgets\u001b[0m\u001b[0;34m.\u001b[0m\u001b[0mIntSlider\u001b[0m\u001b[0;34m(\u001b[0m\u001b[0mmin\u001b[0m\u001b[0;34m=\u001b[0m\u001b[0;34m-\u001b[0m\u001b[0;36m20\u001b[0m\u001b[0;34m,\u001b[0m\u001b[0mmax\u001b[0m\u001b[0;34m=\u001b[0m\u001b[0;36m20\u001b[0m\u001b[0;34m,\u001b[0m\u001b[0mstep\u001b[0m\u001b[0;34m=\u001b[0m\u001b[0;36m5\u001b[0m\u001b[0;34m,\u001b[0m\u001b[0mvalue\u001b[0m\u001b[0;34m=\u001b[0m\u001b[0;36m10\u001b[0m\u001b[0;34m)\u001b[0m\u001b[0;34m)\u001b[0m\u001b[0;34m;\u001b[0m\u001b[0;34m\u001b[0m\u001b[0m\n\u001b[0m",
      "\u001b[0;31mNameError\u001b[0m: name 'widgets' is not defined"
     ]
    }
   ],
   "source": [
    "interact(f, x=widgets.IntSlider(min=-20,max=20,step=5,value=10));"
   ]
  },
  {
   "cell_type": "code",
   "execution_count": 11,
   "metadata": {
    "run_control": {
     "read_only": false
    }
   },
   "outputs": [],
   "source": [
    "def f2(x:(0,3)): # python 3 only\n",
    "    return x"
   ]
  },
  {
   "cell_type": "code",
   "execution_count": 12,
   "metadata": {
    "run_control": {
     "read_only": false
    }
   },
   "outputs": [
    {
     "data": {
      "application/vnd.jupyter.widget-view+json": {
       "model_id": "5c1e1ad72e4a4c229145f488da1be0a1"
      }
     },
     "metadata": {},
     "output_type": "display_data"
    },
    {
     "data": {
      "text/plain": [
       "<function __main__.f2>"
      ]
     },
     "execution_count": 12,
     "metadata": {},
     "output_type": "execute_result"
    }
   ],
   "source": [
    "interact(f2)"
   ]
  },
  {
   "cell_type": "code",
   "execution_count": 13,
   "metadata": {
    "collapsed": true,
    "run_control": {
     "read_only": false
    }
   },
   "outputs": [],
   "source": [
    "def f(a, b):\n",
    "    return a+b"
   ]
  },
  {
   "cell_type": "code",
   "execution_count": 14,
   "metadata": {
    "collapsed": true,
    "run_control": {
     "read_only": false
    }
   },
   "outputs": [],
   "source": [
    "w = interactive(f, a=10, b=20)"
   ]
  },
  {
   "cell_type": "code",
   "execution_count": 15,
   "metadata": {
    "run_control": {
     "read_only": false
    }
   },
   "outputs": [
    {
     "data": {
      "text/plain": [
       "ipywidgets.widgets.interaction.interactive"
      ]
     },
     "execution_count": 15,
     "metadata": {},
     "output_type": "execute_result"
    }
   ],
   "source": [
    "type(w)"
   ]
  },
  {
   "cell_type": "code",
   "execution_count": 16,
   "metadata": {
    "run_control": {
     "read_only": false
    }
   },
   "outputs": [
    {
     "data": {
      "text/plain": [
       "(<ipywidgets.widgets.widget_int.IntSlider at 0x7f7b27c7efd0>,\n",
       " <ipywidgets.widgets.widget_int.IntSlider at 0x7f7b27c7e978>,\n",
       " <ipywidgets.widgets.widget_output.Output at 0x7f7b27c7ef60>)"
      ]
     },
     "execution_count": 16,
     "metadata": {},
     "output_type": "execute_result"
    }
   ],
   "source": [
    "w.children"
   ]
  },
  {
   "cell_type": "code",
   "execution_count": 17,
   "metadata": {
    "run_control": {
     "read_only": false
    }
   },
   "outputs": [
    {
     "data": {
      "application/vnd.jupyter.widget-view+json": {
       "model_id": "fae92f192e734ac1986700db1003d47b"
      }
     },
     "metadata": {},
     "output_type": "display_data"
    }
   ],
   "source": [
    "from IPython.display import display\n",
    "display(w)"
   ]
  },
  {
   "cell_type": "code",
   "execution_count": 18,
   "metadata": {
    "run_control": {
     "read_only": false
    }
   },
   "outputs": [
    {
     "data": {
      "text/plain": [
       "{'a': 10, 'b': 20}"
      ]
     },
     "execution_count": 18,
     "metadata": {},
     "output_type": "execute_result"
    }
   ],
   "source": [
    "w.kwargs"
   ]
  },
  {
   "cell_type": "code",
   "execution_count": 20,
   "metadata": {
    "run_control": {
     "read_only": false
    }
   },
   "outputs": [
    {
     "data": {
      "text/plain": [
       "30"
      ]
     },
     "execution_count": 20,
     "metadata": {},
     "output_type": "execute_result"
    }
   ],
   "source": [
    "w.result"
   ]
  },
  {
   "cell_type": "code",
   "execution_count": 21,
   "metadata": {
    "collapsed": true,
    "run_control": {
     "read_only": false
    }
   },
   "outputs": [],
   "source": [
    "def slow_function(i):\n",
    "    print(int(i),list(x for x in range(int(i)) if \n",
    "                str(x)==str(x)[::-1] and \n",
    "                str(x**2)==str(x**2)[::-1]))\n",
    "    return"
   ]
  },
  {
   "cell_type": "code",
   "execution_count": 22,
   "metadata": {
    "run_control": {
     "read_only": false
    }
   },
   "outputs": [
    {
     "name": "stdout",
     "output_type": "stream",
     "text": [
      "1000000 [0, 1, 2, 3, 11, 22, 101, 111, 121, 202, 212, 1001, 1111, 2002, 10001, 10101, 10201, 11011, 11111, 11211, 20002, 20102, 100001, 101101, 110011, 111111, 200002]\n",
      "CPU times: user 720 ms, sys: 4 ms, total: 724 ms\n",
      "Wall time: 771 ms\n"
     ]
    }
   ],
   "source": [
    "%%time\n",
    "slow_function(1e6)"
   ]
  },
  {
   "cell_type": "code",
   "execution_count": 23,
   "metadata": {
    "run_control": {
     "read_only": false
    }
   },
   "outputs": [
    {
     "name": "stdout",
     "output_type": "stream",
     "text": [
      "100000 [0, 1, 2, 3, 11, 22, 101, 111, 121, 202, 212, 1001, 1111, 2002, 10001, 10101, 10201, 11011, 11111, 11211, 20002, 20102]\n"
     ]
    },
    {
     "data": {
      "text/plain": [
       "<function __main__.slow_function>"
      ]
     },
     "execution_count": 23,
     "metadata": {},
     "output_type": "execute_result"
    }
   ],
   "source": [
    "from ipywidgets import FloatSlider\n",
    "interact(slow_function,i=FloatSlider(min=1e5, max=1e7, step=1e5,continuous_update=False))"
   ]
  },
  {
   "cell_type": "code",
   "execution_count": 24,
   "metadata": {
    "run_control": {
     "read_only": false
    }
   },
   "outputs": [
    {
     "name": "stdout",
     "output_type": "stream",
     "text": [
      "0.0 5.0\n"
     ]
    },
    {
     "data": {
      "text/plain": [
       "<function __main__.printer>"
      ]
     },
     "execution_count": 24,
     "metadata": {},
     "output_type": "execute_result"
    }
   ],
   "source": [
    "x_widget = FloatSlider(min=0.0, max=10.0, step=0.05)\n",
    "y_widget = FloatSlider(min=0.5, max=10.0, step=0.05, value=5.0)\n",
    "\n",
    "def update_x_range(*args):\n",
    "    x_widget.max = 2.0 * y_widget.value\n",
    "\n",
    "y_widget.on_trait_change(update_x_range, 'value')\n",
    "\n",
    "def printer(x, y):\n",
    "    print(x, y)\n",
    "interact(printer,x=x_widget, y=y_widget)"
   ]
  },
  {
   "cell_type": "code",
   "execution_count": 25,
   "metadata": {
    "run_control": {
     "read_only": false
    }
   },
   "outputs": [],
   "source": [
    "from ipywidgets import *\n",
    "from IPython.display import display\n",
    "w = IntSlider()\n",
    "display(w)"
   ]
  },
  {
   "cell_type": "code",
   "execution_count": 26,
   "metadata": {
    "run_control": {
     "read_only": false
    }
   },
   "outputs": [],
   "source": [
    "display(w)"
   ]
  },
  {
   "cell_type": "code",
   "execution_count": 27,
   "metadata": {
    "collapsed": true,
    "run_control": {
     "read_only": false
    }
   },
   "outputs": [],
   "source": [
    "w.close()"
   ]
  },
  {
   "cell_type": "code",
   "execution_count": 28,
   "metadata": {
    "run_control": {
     "read_only": false
    }
   },
   "outputs": [
    {
     "data": {
      "text/plain": [
       "0"
      ]
     },
     "execution_count": 28,
     "metadata": {},
     "output_type": "execute_result"
    }
   ],
   "source": [
    "w.value"
   ]
  },
  {
   "cell_type": "code",
   "execution_count": 29,
   "metadata": {
    "collapsed": true,
    "run_control": {
     "read_only": false
    }
   },
   "outputs": [],
   "source": [
    "from traitlets import link\n",
    "a = FloatText()\n",
    "b = FloatSlider()\n",
    "display(a,b)\n",
    "\n",
    "mylink = link((a, 'value'), (b, 'value'))"
   ]
  },
  {
   "cell_type": "code",
   "execution_count": 30,
   "metadata": {
    "collapsed": true,
    "run_control": {
     "read_only": false
    }
   },
   "outputs": [],
   "source": [
    "mylink.unlink()"
   ]
  },
  {
   "cell_type": "code",
   "execution_count": 31,
   "metadata": {
    "run_control": {
     "read_only": false
    }
   },
   "outputs": [
    {
     "data": {
      "text/plain": [
       "dict_values([<class 'ipywidgets.widgets.widget_image.Image'>, <class 'ipywidgets.widgets.widget_selection.SelectMultiple'>, <class 'ipywidgets.widgets.widget_selection.Dropdown'>, <class 'ipywidgets.widgets.widget_controller.Controller'>, <class 'ipywidgets.widgets.widget_selection.ToggleButtons'>, <class 'ipywidgets.widgets.widget_string.Textarea'>, <class 'ipywidgets.widgets.widget_bool.Valid'>, <class 'ipywidgets.widgets.widget_int.BoundedIntText'>, <class 'ipywidgets.widgets.widget_int.IntRangeSlider'>, <class 'ipywidgets.widgets.widget_box.PlaceProxy'>, <class 'ipywidgets.widgets.widget_string.Label'>, <class 'ipywidgets.widgets.widget_string.Text'>, <class 'ipywidgets.widgets.widget_string.HTML'>, <class 'ipywidgets.widgets.widget_controller.Button'>, <class 'ipywidgets.widgets.widget_button.Button'>, <class 'ipywidgets.widgets.widget_selectioncontainer.Accordion'>, <class 'ipywidgets.widgets.widget_link.DirectionalLink'>, <class 'ipywidgets.widgets.widget_box.Proxy'>, <class 'ipywidgets.widgets.widget_selection.Select'>, <class 'ipywidgets.widgets.widget_selectioncontainer.Tab'>, <class 'ipywidgets.widgets.widget_int.IntProgress'>, <class 'ipywidgets.widgets.widget_color.ColorPicker'>, <class 'ipywidgets.widgets.widget_bool.ToggleButton'>, <class 'ipywidgets.widgets.widget_float.FloatText'>, <class 'ipywidgets.widgets.widget_float.FloatProgress'>, <class 'ipywidgets.widgets.widget_int.IntSlider'>, <class 'ipywidgets.widgets.widget_link.Link'>, <class 'ipywidgets.widgets.widget_bool.Checkbox'>, <class 'ipywidgets.widgets.widget_float.BoundedFloatText'>, <class 'ipywidgets.widgets.widget_float.FloatRangeSlider'>, <class 'ipywidgets.widgets.widget_int.IntText'>, <class 'ipywidgets.widgets.widget_selection.SelectionSlider'>, <class 'ipywidgets.widgets.widget_box.Box'>, <class 'ipywidgets.widgets.widget_int.Play'>, <class 'ipywidgets.widgets.widget_float.FloatSlider'>, <class 'ipywidgets.widgets.widget_box.FlexBox'>, <class 'ipywidgets.widgets.widget_selection.RadioButtons'>, <class 'ipywidgets.widgets.widget_controller.Axis'>])"
      ]
     },
     "execution_count": 31,
     "metadata": {},
     "output_type": "execute_result"
    }
   ],
   "source": [
    "import ipywidgets as widgets\n",
    "widgets.Widget.widget_types.values()"
   ]
  },
  {
   "cell_type": "code",
   "execution_count": null,
   "metadata": {
    "collapsed": true,
    "run_control": {
     "read_only": false
    }
   },
   "outputs": [],
   "source": []
  },
  {
   "cell_type": "code",
   "execution_count": null,
   "metadata": {
    "collapsed": true,
    "run_control": {
     "read_only": false
    }
   },
   "outputs": [],
   "source": []
  }
 ],
 "metadata": {
  "kernelspec": {
   "display_name": "Python 3",
   "language": "python",
   "name": "python3"
  },
  "language_info": {
   "codemirror_mode": {
    "name": "ipython",
    "version": 3
   },
   "file_extension": ".py",
   "mimetype": "text/x-python",
   "name": "python",
   "nbconvert_exporter": "python",
   "pygments_lexer": "ipython3",
   "version": "3.5.2+"
  },
  "widgets": {
   "state": {
    "2e96812037db443a93ca4d90fe22eee1": {
     "views": [
      {
       "cell_index": 6
      }
     ]
    },
    "6a29599f429744079164d3703bd920fe": {
     "views": [
      {
       "cell_index": 11
      }
     ]
    },
    "6ca9119f9d794812beac816851cb969d": {
     "views": [
      {
       "cell_index": 16
      }
     ]
    },
    "89d874cb05b64d5abf25ed8f983705f0": {
     "views": [
      {
       "cell_index": 22
      }
     ]
    },
    "9efb36629e22440c91a7a65b5e9153c7": {
     "views": [
      {
       "cell_index": 21
      }
     ]
    },
    "a4a29b788b1140bf8b50f06114bee994": {
     "views": [
      {
       "cell_index": 8
      }
     ]
    },
    "b5770f465f5341c7b68a313c607a4878": {
     "views": [
      {
       "cell_index": 2
      }
     ]
    },
    "e18702da22cb404093717f424b840ae6": {
     "views": [
      {
       "cell_index": 27
      }
     ]
    },
    "ea0e62a7100146cda36131b2f29f88bf": {
     "views": [
      {
       "cell_index": 27
      }
     ]
    },
    "f0a2ca7b121e4d52baf310ee3c29c19a": {
     "views": [
      {
       "cell_index": 5
      }
     ]
    }
   },
   "version": "1.2.0"
  }
 },
 "nbformat": 4,
 "nbformat_minor": 1
}
