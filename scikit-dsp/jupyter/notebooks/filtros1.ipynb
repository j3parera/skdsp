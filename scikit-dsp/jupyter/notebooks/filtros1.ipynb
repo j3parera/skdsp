{
 "cells": [
  {
   "cell_type": "code",
   "execution_count": 1,
   "metadata": {
    "collapsed": false
   },
   "outputs": [],
   "source": [
    "import matplotlib.pyplot as plt\n",
    "%matplotlib inline\n",
    "import skdsp.signal.discrete as ds\n",
    "import numpy as np\n",
    "import sympy as sp\n",
    "from scipy.signal import group_delay\n",
    "from scipy.fftpack import fftshift\n",
    "from ipywidgets import interact, fixed\n",
    "np.seterr(all='ignore')\n",
    "PI = sp.S.Pi\n",
    "pi = np.pi"
   ]
  },
  {
   "cell_type": "markdown",
   "metadata": {},
   "source": [
    "## 1.- Un cero\n",
    "\n",
    "### 1.1.- Real\n",
    "Un cero moviéndose por la recta real $y[n]=b_0x[n]+b_1x[n-1], H(z)=b_0(1+b_1/b_0z^{-1}), z_0=b_1/b_0$"
   ]
  },
  {
   "cell_type": "code",
   "execution_count": 9,
   "metadata": {
    "code_folding": [],
    "collapsed": false
   },
   "outputs": [],
   "source": [
    "def f1(b0=0, b1=0):\n",
    "    omega = np.linspace(-pi, pi, 512, endpoint=True)\n",
    "    H = b0 + b1*np.exp(-1j*omega)\n",
    "    plt.figure(figsize=(20, 4))\n",
    "    plt.subplot(1,3,1)\n",
    "    plt.plot(omega, np.abs(H), 'b')\n",
    "    plt.axis([omega[0], omega[-1], -0.1, 2.1])\n",
    "    plt.axhline(0, color='k')\n",
    "    plt.title('Respuesta en amplitud', size=14)\n",
    "    plt.xlabel(r'$\\omega$', size=18)\n",
    "    plt.ylabel('amplitud', size=12)\n",
    "    \n",
    "    plt.subplot(1,3,2)\n",
    "    pH = np.unwrap(np.angle(H))\n",
    "    plt.plot(omega, pH, 'b')\n",
    "    plt.axis([omega[0], omega[-1], -2*pi-0.1, 2*pi+0.1])\n",
    "    plt.axhline(0, color='k')\n",
    "    plt.title('Respuesta en fase', size=14)\n",
    "    plt.xlabel(r'$\\omega$', size=18)\n",
    "    plt.ylabel('fase (rad)', size=12)\n",
    "    \n",
    "    plt.subplot(1,3,3)\n",
    "    gd = b1*(b0*np.cos(omega) + b1)/(b0**2 + 2*b0*b1*np.cos(omega) + b1**2)\n",
    "    plt.plot(omega, gd, 'b')\n",
    "    plt.axis([omega[0], omega[-1], -25, 25])\n",
    "    plt.axhline(0, color='k')\n",
    "    plt.title('Retardo de grupo', size=14)\n",
    "    plt.xlabel(r'$\\omega$', size=18)\n",
    "    plt.ylabel(r'$\\tau$ (muestras)', size=12)"
   ]
  },
  {
   "cell_type": "code",
   "execution_count": 10,
   "metadata": {
    "collapsed": false
   },
   "outputs": [
    {
     "data": {
      "text/plain": [
       "<function __main__.f1>"
      ]
     },
     "execution_count": 10,
     "metadata": {},
     "output_type": "execute_result"
    },
    {
     "data": {
      "image/png": "[encoded data removed]",
      "text/plain": [
       "<matplotlib.figure.Figure at 0x7f083079f9e8>"
      ]
     },
     "metadata": {},
     "output_type": "display_data"
    }
   ],
   "source": [
    "interact(f1, b0=(-1, 1, 0.05), b1=(-1, 1, 0.05))"
   ]
  },
  {
   "cell_type": "code",
   "execution_count": 11,
   "metadata": {
    "collapsed": false
   },
   "outputs": [
    {
     "data": {
      "image/png": "[encoded data removed]",
      "text/latex": [
       "$$\\frac{r \\left(r \\sin^{2}{\\left (\\omega - \\theta \\right )} - \\left(b_{0} - r \\cos{\\left (\\omega - \\theta \\right )}\\right) \\cos{\\left (\\omega - \\theta \\right )}\\right)}{r^{2} \\sin^{2}{\\left (\\omega - \\theta \\right )} + \\left(b_{0} - r \\cos{\\left (\\omega - \\theta \\right )}\\right)^{2}}$$"
      ],
      "text/plain": [
       "  ⎛     2                                        ⎞\n",
       "r⋅⎝r⋅sin (ω - θ) - (b₀ - r⋅cos(ω - θ))⋅cos(ω - θ)⎠\n",
       "──────────────────────────────────────────────────\n",
       "       2    2                             2       \n",
       "      r ⋅sin (ω - θ) + (b₀ - r⋅cos(ω - θ))        "
      ]
     },
     "execution_count": 11,
     "metadata": {},
     "output_type": "execute_result"
    }
   ],
   "source": [
    "sp.init_printing()\n",
    "om, theta, b0, b1, r = sp.symbols('omega theta b0 b1 r', real=True)\n",
    "z1 = r*sp.exp(sp.I*theta)\n",
    "Hs = b0 - z1*sp.exp(-sp.I*om)\n",
    "gds = -sp.diff(sp.arg(Hs), om)\n",
    "sp.simplify(gds)"
   ]
  },
  {
   "cell_type": "code",
   "execution_count": null,
   "metadata": {
    "collapsed": true
   },
   "outputs": [],
   "source": []
  }
 ],
 "metadata": {
  "kernelspec": {
   "display_name": "Python 3",
   "language": "python",
   "name": "python3"
  },
  "language_info": {
   "codemirror_mode": {
    "name": "ipython",
    "version": 3
   },
   "file_extension": ".py",
   "mimetype": "text/x-python",
   "name": "python",
   "nbconvert_exporter": "python",
   "pygments_lexer": "ipython3",
   "version": "3.4.3+"
  },
  "widgets": {
   "state": {
    "0806aaf45b944a6c9b7560c8c0f6ec17": {
     "views": []
    },
    "09ed8cf47aff456f8aa96dd2f498d9d7": {
     "views": []
    },
    "27df6fef36524cee8a04b8fce5387279": {
     "views": []
    },
    "325baab4d3494c318bcca6a6156babc6": {
     "views": []
    },
    "36896ffe2d55449893641440e745ca47": {
     "views": []
    },
    "3837a74ad0824ec79d50eeee5b2f37ab": {
     "views": []
    },
    "4c3c6fa6769b436fb585dfef26e5529a": {
     "views": []
    },
    "5109b65e6f7a434c8ad34292a8947db7": {
     "views": []
    },
    "58237564cf1e4261a8ddf3bce4c018e4": {
     "views": []
    },
    "66d2b9a6ceed452bb85d8201e8272add": {
     "views": []
    },
    "76f06c1cf19e45c8a6260b56ad8e25d1": {
     "views": []
    },
    "7732bdc8fdda4677bed07a843cea2f9e": {
     "views": [
      {
       "cell": {
        "cell_type": "code",
        "execution_count": 10,
        "metadata": {
         "collapsed": false,
         "trusted": true
        },
        "outputs": [
         {
          "data": {
           "text/plain": "<function __main__.f1>"
          },
          "execution_count": 10,
          "metadata": {},
          "output_type": "execute_result"
         },
         {
          "data": {
           "image/png": "iVBORw0KGgoAAAANSUhEUgAABJAAAAEiCAYAAACm6ijwAAAABHNCSVQICAgIfAhkiAAAAAlwSFlz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\nRK5CYII=\n",
           "text/plain": "<matplotlib.figure.Figure at 0x7f083079f9e8>"
          },
          "metadata": {},
          "output_type": "display_data"
         }
        ],
        "source": "interact(f1, b0=(-1, 1, 0.05), b1=(-1, 1, 0.05))"
       },
       "cell_index": 3,
       "root": true
      }
     ]
    },
    "85353eca76414844a0defb8b91b6ec14": {
     "views": []
    },
    "8b45e9c06a9f41e8ae4f865b6d42a845": {
     "views": []
    },
    "8ff50e3cc34d479fbbda13e8d301018b": {
     "views": []
    },
    "98bd30105053493da20f55994cfe8dee": {
     "views": []
    },
    "a66d68796bf14915a037e85e688f9f04": {
     "views": []
    },
    "b569ea26fdea4fdea0788c32d389d76d": {
     "views": []
    },
    "c389d057ad024fc5b6d846fa72d7e430": {
     "views": []
    },
    "ca28f5a4320e45608d5a7505e8dcf5b0": {
     "views": []
    },
    "d3ff1a60462846a5919329192a218186": {
     "views": []
    },
    "d920492bf81c4cd6891e96e5efa76500": {
     "views": []
    },
    "e7dfba3f5e4e4f74bc7167452f3f0edc": {
     "views": []
    },
    "fb4d211e96c54abaa5e6cb01b9be84aa": {
     "views": []
    },
    "fb9e963d4cdf4f73bd5c7cd6406b14be": {
     "views": []
    },
    "fba8faac803d41c4b42d887b35324633": {
     "views": []
    }
   },
   "version": "1.0.0"
  }
 },
 "nbformat": 4,
 "nbformat_minor": 0
}
