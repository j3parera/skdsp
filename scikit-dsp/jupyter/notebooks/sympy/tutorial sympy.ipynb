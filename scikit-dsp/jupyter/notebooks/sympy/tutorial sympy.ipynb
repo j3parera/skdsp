{
 "cells": [
  {
   "cell_type": "code",
   "execution_count": 1,
   "metadata": {
    "collapsed": false,
    "run_control": {
     "read_only": false
    }
   },
   "outputs": [
    {
     "name": "stdout",
     "output_type": "stream",
     "text": [
      "Current bookmarks:\n",
      "Using matplotlib backend: TkAgg\n",
      "Populating the interactive namespace from numpy and matplotlib\n",
      "IPython console for SymPy 1.0 (Python 3.5.2-64-bit) (ground types: python)\n",
      "\n",
      "These commands were executed:\n",
      ">>> from __future__ import division\n",
      ">>> from sympy import *\n",
      ">>> x, y, z, t = symbols('x y z t')\n",
      ">>> k, m, n = symbols('k m n', integer=True)\n",
      ">>> f, g, h = symbols('f g h', cls=Function)\n",
      ">>> init_printing()\n",
      "\n",
      "Documentation can be found at http://docs.sympy.org/1.0/\n"
     ]
    }
   ],
   "source": [
    "%bookmark -l\n",
    "%pylab\n",
    "%matplotlib inline\n",
    "import sympy as sp\n",
    "sp.init_session()"
   ]
  },
  {
   "cell_type": "markdown",
   "metadata": {},
   "source": [
    "# Tutorial"
   ]
  },
  {
   "cell_type": "markdown",
   "metadata": {},
   "source": [
    "Las expresiones no se evalúan por defecto, excepto que se puedan simplificar de forma exacta"
   ]
  },
  {
   "cell_type": "code",
   "execution_count": 2,
   "metadata": {
    "collapsed": false,
    "run_control": {
     "read_only": false
    }
   },
   "outputs": [
    {
     "data": {
      "image/png": "[encoded data removed]",
      "text/latex": [
       "$$\\left ( \\sqrt{3}, \\quad 2 \\sqrt{2}, \\quad 3, \\quad 4, \\quad 2\\right )$$"
      ],
      "text/plain": [
       "(√3, 2⋅√2, 3, 4, 2)"
      ]
     },
     "execution_count": 2,
     "metadata": {},
     "output_type": "execute_result"
    }
   ],
   "source": [
    "sqrt(3), sqrt(8), sqrt(9), sqrt(16), sqrt(8)/sqrt(2)"
   ]
  },
  {
   "cell_type": "markdown",
   "metadata": {},
   "source": [
    "Más interesante: se pueden construir expresiones simbólicas basadas en variables"
   ]
  },
  {
   "cell_type": "code",
   "execution_count": 3,
   "metadata": {
    "collapsed": false,
    "run_control": {
     "read_only": false
    }
   },
   "outputs": [
    {
     "data": {
      "image/png": "[encoded data removed]",
      "text/latex": [
       "$$2 y + 1$$"
      ],
      "text/plain": [
       "2⋅y + 1"
      ]
     },
     "execution_count": 3,
     "metadata": {},
     "output_type": "execute_result"
    }
   ],
   "source": [
    "# x, y = Symbols('x y')\n",
    "expr = x + 2*y\n",
    "expr = expr + 1\n",
    "expr = expr - x\n",
    "expr"
   ]
  },
  {
   "cell_type": "markdown",
   "metadata": {},
   "source": [
    "Se ha simplificado, pero lo siguiente no"
   ]
  },
  {
   "cell_type": "code",
   "execution_count": 4,
   "metadata": {
    "collapsed": false,
    "run_control": {
     "read_only": false
    }
   },
   "outputs": [
    {
     "data": {
      "image/png": "[encoded data removed]",
      "text/latex": [
       "$$x \\left(x + 2 y\\right)$$"
      ],
      "text/plain": [
       "x⋅(x + 2⋅y)"
      ]
     },
     "execution_count": 4,
     "metadata": {},
     "output_type": "execute_result"
    }
   ],
   "source": [
    "x*(x + 2*y)"
   ]
  },
  {
   "cell_type": "markdown",
   "metadata": {},
   "source": [
    "Sólo se simplifican las cosas obvias: $x - x=0$, $\\sqrt(8)=2\\sqrt(2)$ y cosas así. Porque, ¿qué es preferible $x(x+2y)$ o $x^2+2xy$? Pero para pasar de una otra se pueden usar las funciones `expand` y `factor`."
   ]
  },
  {
   "cell_type": "code",
   "execution_count": 5,
   "metadata": {
    "collapsed": false,
    "run_control": {
     "read_only": false
    }
   },
   "outputs": [
    {
     "data": {
      "image/png": "[encoded data removed]",
      "text/latex": [
       "$$\\left ( x^{2} + 2 x y, \\quad x \\left(x + 2 y\\right)\\right )$$"
      ],
      "text/plain": [
       "⎛ 2                     ⎞\n",
       "⎝x  + 2⋅x⋅y, x⋅(x + 2⋅y)⎠"
      ]
     },
     "execution_count": 5,
     "metadata": {},
     "output_type": "execute_result"
    }
   ],
   "source": [
    "expand(x*(x + 2*y)), factor(x**2+2*x*y)"
   ]
  },
  {
   "cell_type": "markdown",
   "metadata": {},
   "source": [
    "Algunas features"
   ]
  },
  {
   "cell_type": "code",
   "execution_count": 6,
   "metadata": {
    "collapsed": false,
    "run_control": {
     "read_only": false
    }
   },
   "outputs": [
    {
     "data": {
      "image/png": "[encoded data removed]",
      "text/latex": [
       "$$\\left ( e^{x} \\sin{\\left (x \\right )} + e^{x} \\cos{\\left (x \\right )}, \\quad e^{x} \\sin{\\left (x \\right )}, \\quad \\frac{\\sqrt{2} \\sqrt{\\pi}}{2}\\right )$$"
      ],
      "text/plain": [
       "⎛ x           x          x         √2⋅√π⎞\n",
       "⎜ℯ ⋅sin(x) + ℯ ⋅cos(x), ℯ ⋅sin(x), ─────⎟\n",
       "⎝                                    2  ⎠"
      ]
     },
     "execution_count": 6,
     "metadata": {},
     "output_type": "execute_result"
    }
   ],
   "source": [
    "diff(sin(x)*exp(x), x), integrate(exp(x)*sin(x) + exp(x)*cos(x), x), integrate(sin(x**2), (x, -oo, oo))"
   ]
  },
  {
   "cell_type": "code",
   "execution_count": 7,
   "metadata": {
    "collapsed": false,
    "run_control": {
     "read_only": false
    }
   },
   "outputs": [
    {
     "data": {
      "image/png": "[encoded data removed]",
      "text/latex": [
       "$$\\left ( 1, \\quad \\left [ - i, \\quad i\\right ]\\right )$$"
      ],
      "text/plain": [
       "(1, [-ⅈ, ⅈ])"
      ]
     },
     "execution_count": 7,
     "metadata": {},
     "output_type": "execute_result"
    }
   ],
   "source": [
    "limit(sin(x)/x, x, 0), solve(x**2+1, x)"
   ]
  },
  {
   "cell_type": "code",
   "execution_count": 8,
   "metadata": {
    "collapsed": false,
    "run_control": {
     "read_only": false
    }
   },
   "outputs": [
    {
     "data": {
      "image/png": "[encoded data removed]",
      "text/latex": [
       "$$y{\\left (t \\right )} = C_{2} e^{- t} + \\left(C_{1} + \\frac{t}{2}\\right) e^{t}$$"
      ],
      "text/plain": [
       "           -t   ⎛     t⎞  t\n",
       "y(t) = C₂⋅ℯ   + ⎜C₁ + ─⎟⋅ℯ \n",
       "                ⎝     2⎠   "
      ]
     },
     "execution_count": 8,
     "metadata": {},
     "output_type": "execute_result"
    }
   ],
   "source": [
    "y = Function('y')\n",
    "dsolve(Eq(y(t).diff(t, t) - y(t), exp(t)), y(t))"
   ]
  },
  {
   "cell_type": "code",
   "execution_count": 9,
   "metadata": {
    "collapsed": false,
    "run_control": {
     "read_only": false
    }
   },
   "outputs": [
    {
     "data": {
      "image/png": "[encoded data removed]",
      "text/latex": [
       "$$\\left \\{ \\frac{3}{2} + \\frac{\\sqrt{17}}{2} : 1, \\quad - \\frac{\\sqrt{17}}{2} + \\frac{3}{2} : 1\\right \\}$$"
      ],
      "text/plain": [
       "⎧3   √17       √17   3   ⎫\n",
       "⎨─ + ───: 1, - ─── + ─: 1⎬\n",
       "⎩2    2         2    2   ⎭"
      ]
     },
     "execution_count": 9,
     "metadata": {},
     "output_type": "execute_result"
    }
   ],
   "source": [
    "Matrix([[1, 2], [2, 2]]).eigenvals()"
   ]
  },
  {
   "cell_type": "code",
   "execution_count": 10,
   "metadata": {
    "collapsed": false,
    "run_control": {
     "read_only": false
    }
   },
   "outputs": [
    {
     "data": {
      "image/png": "[encoded data removed]",
      "text/latex": [
       "$$\\int_{0}^{\\pi} \\cos^{2}{\\left (x \\right )}\\, dx = \\frac{\\pi}{2}$$"
      ],
      "text/plain": [
       "π               \n",
       "⌠               \n",
       "⎮    2         π\n",
       "⎮ cos (x) dx = ─\n",
       "⌡              2\n",
       "0               "
      ]
     },
     "execution_count": 10,
     "metadata": {},
     "output_type": "execute_result"
    }
   ],
   "source": [
    "e1 = Integral(cos(x)**2, (x, 0, pi))\n",
    "Eq(e1, e1.doit())"
   ]
  },
  {
   "cell_type": "markdown",
   "metadata": {},
   "source": [
    "## Operaciones básicas"
   ]
  },
  {
   "cell_type": "markdown",
   "metadata": {},
   "source": [
    "### Sustitución\n",
    "Cambiar todas las instancias de algo por otra cosa"
   ]
  },
  {
   "cell_type": "code",
   "execution_count": 11,
   "metadata": {
    "collapsed": false,
    "run_control": {
     "read_only": false
    }
   },
   "outputs": [
    {
     "data": {
      "image/png": "[encoded data removed]",
      "text/latex": [
       "$$\\cos{\\left (y \\right )} + 1$$"
      ],
      "text/plain": [
       "cos(y) + 1"
      ]
     },
     "execution_count": 11,
     "metadata": {},
     "output_type": "execute_result"
    }
   ],
   "source": [
    "y = symbols('y')\n",
    "expr = cos(x) + 1\n",
    "expr.subs(x, y)"
   ]
  },
  {
   "cell_type": "markdown",
   "metadata": {},
   "source": [
    "Se usa para evaluar una expresión en un punto o para reemplzar una expresión por otra"
   ]
  },
  {
   "cell_type": "code",
   "execution_count": 12,
   "metadata": {
    "collapsed": false,
    "run_control": {
     "read_only": false
    }
   },
   "outputs": [
    {
     "data": {
      "image/png": "[encoded data removed]",
      "text/latex": [
       "$$\\left ( 2, \\quad \\cos{\\left (r e^{- i w} \\right )} + 1\\right )$$"
      ],
      "text/plain": [
       "⎛      ⎛   -ⅈ⋅w⎞    ⎞\n",
       "⎝2, cos⎝r⋅ℯ    ⎠ + 1⎠"
      ]
     },
     "execution_count": 12,
     "metadata": {},
     "output_type": "execute_result"
    }
   ],
   "source": [
    "r, w = symbols('r w')\n",
    "expr.subs(x, 0), expr.subs(x, r*exp(-I*w))"
   ]
  },
  {
   "cell_type": "code",
   "execution_count": 13,
   "metadata": {
    "collapsed": false,
    "run_control": {
     "read_only": false
    }
   },
   "outputs": [
    {
     "data": {
      "image/png": "[encoded data removed]",
      "text/latex": [
       "$$\\left ( 2 \\sin{\\left (x \\right )} \\cos{\\left (x \\right )} + 2 \\cos^{2}{\\left (x \\right )} - 1, \\quad 2 \\sin{\\left (x \\right )} \\cos{\\left (x \\right )} + \\cos{\\left (2 x \\right )}\\right )$$"
      ],
      "text/plain": [
       "⎛                       2                                   ⎞\n",
       "⎝2⋅sin(x)⋅cos(x) + 2⋅cos (x) - 1, 2⋅sin(x)⋅cos(x) + cos(2⋅x)⎠"
      ]
     },
     "execution_count": 13,
     "metadata": {},
     "output_type": "execute_result"
    }
   ],
   "source": [
    "expr = sin(2*x) + cos(2*x)\n",
    "expand_trig(expr), expr.subs(sin(2*x), 2*sin(x)*cos(x))"
   ]
  },
  {
   "cell_type": "markdown",
   "metadata": {},
   "source": [
    "**Importante**: Las expresiones son inmutables, `subs` devuelve otro objeto.\n",
    "\n",
    "Se pueden hacer sustituciones múltiples:"
   ]
  },
  {
   "cell_type": "code",
   "execution_count": 14,
   "metadata": {
    "collapsed": false,
    "run_control": {
     "read_only": false
    }
   },
   "outputs": [
    {
     "data": {
      "image/png": "[encoded data removed]",
      "text/latex": [
       "$$40$$"
      ],
      "text/plain": [
       "40"
      ]
     },
     "execution_count": 14,
     "metadata": {},
     "output_type": "execute_result"
    }
   ],
   "source": [
    "expr = x**3 + 4*x*y - z\n",
    "expr.subs([(x, 2), (y, 4), (z, 0)])"
   ]
  },
  {
   "cell_type": "code",
   "execution_count": 15,
   "metadata": {
    "collapsed": false,
    "run_control": {
     "read_only": false
    }
   },
   "outputs": [
    {
     "data": {
      "image/png": "[encoded data removed]",
      "text/latex": [
       "$$- 4 x^{3} - 2 x + y^{4} + 4 y^{2} + 3$$"
      ],
      "text/plain": [
       "     3          4      2    \n",
       "- 4⋅x  - 2⋅x + y  + 4⋅y  + 3"
      ]
     },
     "execution_count": 15,
     "metadata": {},
     "output_type": "execute_result"
    }
   ],
   "source": [
    "expr = x**4 - 4*x**3 + 4*x**2 - 2*x + 3\n",
    "replacements = [(x**i, y**i) for i in range(2, 5) if i % 2 == 0]\n",
    "expr.subs(replacements)"
   ]
  },
  {
   "cell_type": "markdown",
   "metadata": {},
   "source": [
    "Para evaluar a flotante `evalf`:"
   ]
  },
  {
   "cell_type": "code",
   "execution_count": 16,
   "metadata": {
    "collapsed": false,
    "run_control": {
     "read_only": false
    },
    "scrolled": true
   },
   "outputs": [
    {
     "data": {
      "image/png": "[encoded data removed]",
      "text/latex": [
       "$$\\left ( 2.82842712474619, \\quad 3.1415926535897932385, \\quad -1.0\\right )$$"
      ],
      "text/plain": [
       "(2.82842712474619, 3.1415926535897932385, -1.0)"
      ]
     },
     "execution_count": 16,
     "metadata": {},
     "output_type": "execute_result"
    }
   ],
   "source": [
    "sqrt(8).evalf(), pi.evalf(20), cos(2*x).evalf(subs={x:2*pi/4})"
   ]
  },
  {
   "cell_type": "code",
   "execution_count": 17,
   "metadata": {
    "collapsed": false,
    "run_control": {
     "read_only": false
    }
   },
   "outputs": [
    {
     "data": {
      "image/png": "[encoded data removed]",
      "text/latex": [
       "$$\\left ( -4.0 \\cdot 10^{-124}, \\quad 0\\right )$$"
      ],
      "text/plain": [
       "(-0.e-124, 0)"
      ]
     },
     "execution_count": 17,
     "metadata": {},
     "output_type": "execute_result"
    }
   ],
   "source": [
    "(cos(1)**2+sin(1)**2-1).evalf(), (cos(1)**2+sin(1)**2-1).evalf(chop=True)"
   ]
  },
  {
   "cell_type": "markdown",
   "metadata": {},
   "source": [
    "Para evaluar a flotante cosas simples se usa `subs` o `evalf`; para evaluar de forma más eficiente en más puntos `lambdify`:"
   ]
  },
  {
   "cell_type": "code",
   "execution_count": 18,
   "metadata": {
    "collapsed": false,
    "run_control": {
     "read_only": false
    }
   },
   "outputs": [
    {
     "data": {
      "text/plain": [
       "(array([ 1.        ,  0.90096887,  0.6234898 ,  0.22252093, -0.22252093,\n",
       "        -0.6234898 , -0.90096887, -1.        ]), 0.8775825618903728, 0.1)"
      ]
     },
     "execution_count": 18,
     "metadata": {},
     "output_type": "execute_result"
    }
   ],
   "source": [
    "f1 = lambdify(x, cos(x), \"numpy\")\n",
    "f2 = lambdify(x, cos(x), \"math\")\n",
    "def mycos(x):\n",
    "    return x\n",
    "f3 = lambdify(x, cos(x), {\"cos\":mycos})\n",
    "f1(linspace(0, np.pi, 8)), f2(0.5), f3(0.1)"
   ]
  },
  {
   "cell_type": "markdown",
   "metadata": {},
   "source": [
    "## Simplificación"
   ]
  },
  {
   "cell_type": "markdown",
   "metadata": {},
   "source": [
    "Hay muchas funciones particulares y una general: `simplify`. Usa heurística para encontrar el resultado más 'simple', pero esto no siempre está definido. Además es más lenta porque prueba todas las opciones."
   ]
  },
  {
   "cell_type": "code",
   "execution_count": 19,
   "metadata": {
    "collapsed": false,
    "run_control": {
     "read_only": false
    }
   },
   "outputs": [
    {
     "data": {
      "image/png": "[encoded data removed]",
      "text/latex": [
       "$$\\left ( 1, \\quad x - 1, \\quad \\left(x - 2\\right) \\left(x - 1\\right)\\right )$$"
      ],
      "text/plain": [
       "(1, x - 1, (x - 2)⋅(x - 1))"
      ]
     },
     "execution_count": 19,
     "metadata": {},
     "output_type": "execute_result"
    }
   ],
   "source": [
    "simplify(sin(x)**2+cos(x)**2), simplify((x**3 + x**2 - x - 1)/(x**2 + 2*x + 1)), simplify(gamma(x)/gamma(x - 2))"
   ]
  },
  {
   "cell_type": "markdown",
   "metadata": {},
   "source": [
    "### Simplificación de polinomios"
   ]
  },
  {
   "cell_type": "code",
   "execution_count": 20,
   "metadata": {
    "collapsed": false,
    "run_control": {
     "read_only": false
    }
   },
   "outputs": [
    {
     "data": {
      "image/png": "[encoded data removed]",
      "text/latex": [
       "$$\\left ( x^{2} + 2 x + 1, \\quad x^{2} - x - 6, \\quad -2\\right )$$"
      ],
      "text/plain": [
       "⎛ 2             2            ⎞\n",
       "⎝x  + 2⋅x + 1, x  - x - 6, -2⎠"
      ]
     },
     "execution_count": 20,
     "metadata": {},
     "output_type": "execute_result"
    }
   ],
   "source": [
    "expand((x + 1)**2), expand((x + 2)*(x - 3)), expand((x + 1)*(x - 2) - (x - 1)*x)"
   ]
  },
  {
   "cell_type": "code",
   "execution_count": 21,
   "metadata": {
    "collapsed": false,
    "run_control": {
     "read_only": false
    },
    "scrolled": true
   },
   "outputs": [
    {
     "data": {
      "image/png": "[encoded data removed]",
      "text/latex": [
       "$$\\left ( \\left(x - 1\\right) \\left(x^{2} + 1\\right), \\quad z \\left(x + 2 y\\right)^{2}, \\quad \\left(x - i\\right) \\left(x + i\\right)\\right )$$"
      ],
      "text/plain": [
       "⎛        ⎛ 2    ⎞             2                 ⎞\n",
       "⎝(x - 1)⋅⎝x  + 1⎠, z⋅(x + 2⋅y) , (x - ⅈ)⋅(x + ⅈ)⎠"
      ]
     },
     "execution_count": 21,
     "metadata": {},
     "output_type": "execute_result"
    }
   ],
   "source": [
    "factor(x**3 - x**2 + x - 1), factor(x**2*z + 4*x*y*z + 4*y**2*z), factor(x**2 + 1, gaussian=True)"
   ]
  },
  {
   "cell_type": "markdown",
   "metadata": {},
   "source": [
    "`expand` y `factor` también funcionan con expresiones no polinómicas pero no es posible asegurar que los factores sean irreducibles (para los polinomios, sí)"
   ]
  },
  {
   "cell_type": "code",
   "execution_count": 22,
   "metadata": {
    "collapsed": false,
    "run_control": {
     "read_only": false
    }
   },
   "outputs": [
    {
     "data": {
      "image/png": "[encoded data removed]",
      "text/latex": [
       "$$\\left ( \\sin^{2}{\\left (x \\right )} + 2 \\sin{\\left (x \\right )} \\cos{\\left (x \\right )} + \\cos^{2}{\\left (x \\right )}, \\quad \\left(\\sin{\\left (x \\right )} + \\cos{\\left (x \\right )}\\right)^{2}\\right )$$"
      ],
      "text/plain": [
       "⎛   2                           2                      2⎞\n",
       "⎝sin (x) + 2⋅sin(x)⋅cos(x) + cos (x), (sin(x) + cos(x)) ⎠"
      ]
     },
     "execution_count": 22,
     "metadata": {},
     "output_type": "execute_result"
    }
   ],
   "source": [
    "expand((cos(x) + sin(x))**2), factor(cos(x)**2 + 2*cos(x)*sin(x) + sin(x)**2)"
   ]
  },
  {
   "cell_type": "code",
   "execution_count": 23,
   "metadata": {
    "collapsed": false,
    "run_control": {
     "read_only": false
    }
   },
   "outputs": [
    {
     "data": {
      "image/png": "[encoded data removed]",
      "text/latex": [
       "$$\\left ( x^{3} + x^{2} \\left(- z + 2\\right) + x \\left(y + 1\\right) - 3, \\quad - z + 2\\right )$$"
      ],
      "text/plain": [
       "⎛ 3    2                                 ⎞\n",
       "⎝x  + x ⋅(-z + 2) + x⋅(y + 1) - 3, -z + 2⎠"
      ]
     },
     "execution_count": 23,
     "metadata": {},
     "output_type": "execute_result"
    }
   ],
   "source": [
    "collect(x*y + x - 3 + 2*x**2 - z*x**2 + x**3, x), collect(x*y + x - 3 + 2*x**2 - z*x**2 + x**3, x).coeff(x, 2)"
   ]
  },
  {
   "cell_type": "markdown",
   "metadata": {},
   "source": [
    "### Simplificación de expresiones racionales"
   ]
  },
  {
   "cell_type": "markdown",
   "metadata": {},
   "source": [
    "`cancel` pone p/q en forma canónica: sin factores comunes y con los primeros coeficientes de p y q enteros"
   ]
  },
  {
   "cell_type": "code",
   "execution_count": 24,
   "metadata": {
    "collapsed": false,
    "run_control": {
     "read_only": false
    }
   },
   "outputs": [
    {
     "data": {
      "image/png": "[encoded data removed]",
      "text/latex": [
       "$$\\left ( \\frac{1}{x} \\left(x + 1\\right), \\quad \\frac{\\frac{3 x}{2} - 2}{x - 4} + \\frac{1}{x}, \\quad \\frac{3 x^{2} - 2 x - 8}{2 x^{2} - 8 x}\\right )$$"
      ],
      "text/plain": [
       "⎛       3⋅x                        ⎞\n",
       "⎜       ─── - 2         2          ⎟\n",
       "⎜x + 1   2        1  3⋅x  - 2⋅x - 8⎟\n",
       "⎜─────, ─────── + ─, ──────────────⎟\n",
       "⎜  x     x - 4    x       2        ⎟\n",
       "⎝                      2⋅x  - 8⋅x  ⎠"
      ]
     },
     "execution_count": 24,
     "metadata": {},
     "output_type": "execute_result"
    }
   ],
   "source": [
    "cancel((x**2 + 2*x + 1)/(x**2 + x)), (1/x + (3*x/2 - 2)/(x - 4)), cancel(1/x + (3*x/2 - 2)/(x - 4))"
   ]
  },
  {
   "cell_type": "code",
   "execution_count": 25,
   "metadata": {
    "collapsed": false,
    "run_control": {
     "read_only": false
    }
   },
   "outputs": [
    {
     "data": {
      "image/png": "[encoded data removed]",
      "text/latex": [
       "$$\\left ( \\frac{1}{x - 1} \\left(y^{2} - 2 y z + z^{2}\\right), \\quad \\frac{\\left(y - z\\right)^{2}}{x - 1}\\right )$$"
      ],
      "text/plain": [
       "⎛ 2            2         2⎞\n",
       "⎜y  - 2⋅y⋅z + z   (y - z) ⎟\n",
       "⎜───────────────, ────────⎟\n",
       "⎝     x - 1        x - 1  ⎠"
      ]
     },
     "execution_count": 25,
     "metadata": {},
     "output_type": "execute_result"
    }
   ],
   "source": [
    "cancel((x*y**2 - 2*x*y*z + x*z**2 + y**2 - 2*y*z + z**2)/(x**2 - 1)), factor((x*y**2 - 2*x*y*z + x*z**2 + y**2 - 2*y*z + z**2)/(x**2 - 1))"
   ]
  },
  {
   "cell_type": "markdown",
   "metadata": {},
   "source": [
    "Descomposición en fracciones simples"
   ]
  },
  {
   "cell_type": "code",
   "execution_count": 26,
   "metadata": {
    "collapsed": false,
    "run_control": {
     "read_only": false
    }
   },
   "outputs": [
    {
     "data": {
      "image/png": "[encoded data removed]",
      "text/latex": [
       "$$\\frac{2 x - 1}{x^{2} + x + 1} - \\frac{1}{x + 4} + \\frac{3}{x}$$"
      ],
      "text/plain": [
       " 2⋅x - 1       1     3\n",
       "────────── - ───── + ─\n",
       " 2           x + 4   x\n",
       "x  + x + 1            "
      ]
     },
     "execution_count": 26,
     "metadata": {},
     "output_type": "execute_result"
    }
   ],
   "source": [
    "apart((4*x**3 + 21*x**2 + 10*x + 12)/(x**4 + 5*x**3 + 5*x**2 + 4*x), gaussian=True)"
   ]
  },
  {
   "cell_type": "markdown",
   "metadata": {},
   "source": [
    "¡OJO con los complejos!"
   ]
  },
  {
   "cell_type": "code",
   "execution_count": 27,
   "metadata": {
    "collapsed": false,
    "run_control": {
     "read_only": false
    }
   },
   "outputs": [
    {
     "data": {
      "image/png": "[encoded data removed]",
      "text/latex": [
       "$$\\left ( \\frac{1}{x^{2} + 1}, \\quad \\frac{i}{2 x + 2 i} - \\frac{i}{2 x - 2 i}\\right )$$"
      ],
      "text/plain": [
       "⎛  1         ⅈ           ⅈ    ⎞\n",
       "⎜──────, ───────── - ─────────⎟\n",
       "⎜ 2      2⋅(x + ⅈ)   2⋅(x - ⅈ)⎟\n",
       "⎝x  + 1                       ⎠"
      ]
     },
     "execution_count": 27,
     "metadata": {},
     "output_type": "execute_result"
    }
   ],
   "source": [
    "apart(1/((x + I)*(x - I))), apart(1/((x + I)*(x - I)), full=True).doit()"
   ]
  },
  {
   "cell_type": "markdown",
   "metadata": {},
   "source": [
    "### Simplificación de expresiones trigonométricas e hiperbólicas"
   ]
  },
  {
   "cell_type": "markdown",
   "metadata": {},
   "source": [
    "Usar `trigsimp` y `expand_trig`; la primera simplifica aplicando identidades trigonométricas y usando heurística; la segunda expande las sumas y los ángulos dobles."
   ]
  },
  {
   "cell_type": "code",
   "execution_count": 28,
   "metadata": {
    "collapsed": false,
    "run_control": {
     "read_only": false
    }
   },
   "outputs": [
    {
     "data": {
      "image/png": "[encoded data removed]",
      "text/latex": [
       "$$\\left ( 1, \\quad \\frac{1}{2} \\cos{\\left (4 x \\right )} + \\frac{1}{2}, \\quad \\sin^{2}{\\left (x \\right )}\\right )$$"
      ],
      "text/plain": [
       "⎛   cos(4⋅x)   1     2   ⎞\n",
       "⎜1, ──────── + ─, sin (x)⎟\n",
       "⎝      2       2         ⎠"
      ]
     },
     "execution_count": 28,
     "metadata": {},
     "output_type": "execute_result"
    }
   ],
   "source": [
    "trigsimp(sin(x)**2 + cos(x)**2), trigsimp(sin(x)**4 - 2*cos(x)**2*sin(x)**2 + cos(x)**4), trigsimp(sin(x)*tan(x)/sec(x))"
   ]
  },
  {
   "cell_type": "code",
   "execution_count": 29,
   "metadata": {
    "collapsed": false,
    "run_control": {
     "read_only": false
    }
   },
   "outputs": [
    {
     "data": {
      "image/png": "[encoded data removed]",
      "text/latex": [
       "$$\\left ( \\cosh{\\left (2 x \\right )}, \\quad \\cosh{\\left (x \\right )}\\right )$$"
      ],
      "text/plain": [
       "(cosh(2⋅x), cosh(x))"
      ]
     },
     "execution_count": 29,
     "metadata": {},
     "output_type": "execute_result"
    }
   ],
   "source": [
    "trigsimp(cosh(x)**2 + sinh(x)**2), trigsimp(sinh(x)/tanh(x))"
   ]
  },
  {
   "cell_type": "code",
   "execution_count": 30,
   "metadata": {
    "collapsed": false,
    "run_control": {
     "read_only": false
    }
   },
   "outputs": [
    {
     "data": {
      "image/png": "[encoded data removed]",
      "text/latex": [
       "$$\\left ( \\sin{\\left (x \\right )} \\cos{\\left (y \\right )} + \\sin{\\left (y \\right )} \\cos{\\left (x \\right )}, \\quad \\frac{2 \\tan{\\left (x \\right )}}{- \\tan^{2}{\\left (x \\right )} + 1}\\right )$$"
      ],
      "text/plain": [
       "⎛                                  2⋅tan(x)  ⎞\n",
       "⎜sin(x)⋅cos(y) + sin(y)⋅cos(x), ─────────────⎟\n",
       "⎜                                    2       ⎟\n",
       "⎝                               - tan (x) + 1⎠"
      ]
     },
     "execution_count": 30,
     "metadata": {},
     "output_type": "execute_result"
    }
   ],
   "source": [
    "expand_trig(sin(x + y)), expand_trig(tan(2*x))"
   ]
  },
  {
   "cell_type": "markdown",
   "metadata": {},
   "source": [
    "### Simplificación de expresiones con potencias"
   ]
  },
  {
   "cell_type": "markdown",
   "metadata": {},
   "source": [
    "## Sección de 2º orden"
   ]
  },
  {
   "cell_type": "markdown",
   "metadata": {},
   "source": [
    "1. $x^ax^b=x^{a+b}$ siempre se cumple\n",
    "2. $x^ay^a=(xy)^a$ NO siempre se cumple (ej: $x=y=-1, a=1/2$ resulta $[i \\cdot i=i^2=-1]=[\\sqrt{1}=1]$); una condición suficiente es que $x,y>=0, a \\in \\mathcal{R}$\n",
    "3. $(x^a)^b=x^{ab}$ NO siempre se cumple (ej: $x=-1, a=2, b=1/2$ resulta $[\\sqrt{(-1)^2}=1]=[(-1)^1=-1]$); una condición suficiente es que $b \\in \\mathcal{Z}$\n",
    "Las simplificaciones sólo se aplican si son ciertas siempre, para lo cual deben cumplirse las asunciones, o se fuerza. Por defecto, los símbolos nuevos son complejos excepto si se restrige con, p.e., `real=True`.\n",
    "\n",
    "Supongamos:"
   ]
  },
  {
   "cell_type": "code",
   "execution_count": 31,
   "metadata": {
    "collapsed": true,
    "run_control": {
     "read_only": false
    }
   },
   "outputs": [],
   "source": [
    "x, y = symbols('x y', positive=True)\n",
    "a, b = symbols('a b', real=True)\n",
    "z, t, c = symbols('z t c')"
   ]
  },
  {
   "cell_type": "markdown",
   "metadata": {},
   "source": [
    "`powsimp` aplica las identidades 1 y 2 de izqda a derecha:"
   ]
  },
  {
   "cell_type": "code",
   "execution_count": 32,
   "metadata": {
    "collapsed": false,
    "run_control": {
     "read_only": false
    }
   },
   "outputs": [
    {
     "data": {
      "image/png": "[encoded data removed]",
      "text/latex": [
       "$$\\left ( x^{a + b}, \\quad \\left(x y\\right)^{a}, \\quad t^{c} z^{c}, \\quad \\left(t z\\right)^{c}\\right )$$"
      ],
      "text/plain": [
       "⎛ a + b       a   c  c       c⎞\n",
       "⎝x     , (x⋅y) , t ⋅z , (t⋅z) ⎠"
      ]
     },
     "execution_count": 32,
     "metadata": {},
     "output_type": "execute_result"
    }
   ],
   "source": [
    "powsimp(x**a*x**b), powsimp(x**a*y**a), powsimp(t**c*z**c), powsimp(t**c*z**c, force=True)"
   ]
  },
  {
   "cell_type": "markdown",
   "metadata": {},
   "source": [
    "A veces se aplica automáticamente la 2 si se cumple, por lo que no puede deshacerse con `powsimp`:"
   ]
  },
  {
   "cell_type": "code",
   "execution_count": 33,
   "metadata": {
    "collapsed": false,
    "run_control": {
     "read_only": false
    }
   },
   "outputs": [
    {
     "data": {
      "image/png": "[encoded data removed]",
      "text/latex": [
       "$$\\left ( \\sqrt{x} \\sqrt{y}, \\quad \\sqrt{x} \\sqrt{y}, \\quad t^{2} z^{2}, \\quad t^{2} z^{2}\\right )$$"
      ],
      "text/plain": [
       "⎛               2  2   2  2⎞\n",
       "⎝√x⋅√y, √x⋅√y, t ⋅z , t ⋅z ⎠"
      ]
     },
     "execution_count": 33,
     "metadata": {},
     "output_type": "execute_result"
    }
   ],
   "source": [
    "sqrt(x*y), powsimp(sqrt(x)*sqrt(y)), (z*t)**2, powsimp(z**2*t**2)"
   ]
  },
  {
   "cell_type": "markdown",
   "metadata": {},
   "source": [
    "`expand_pow_exp` y `expand_pow_base` aplican las identidades 1 y 2 de izqda a derecha, respectivamente:"
   ]
  },
  {
   "cell_type": "code",
   "execution_count": 34,
   "metadata": {
    "collapsed": false,
    "run_control": {
     "read_only": false
    }
   },
   "outputs": [
    {
     "data": {
      "image/png": "[encoded data removed]",
      "text/latex": [
       "$$\\left ( x^{a} x^{b}, \\quad x^{a} y^{a}, \\quad \\left(t z\\right)^{c}, \\quad t^{c} z^{c}\\right )$$"
      ],
      "text/plain": [
       "⎛ a  b   a  a       c   c  c⎞\n",
       "⎝x ⋅x , x ⋅y , (t⋅z) , t ⋅z ⎠"
      ]
     },
     "execution_count": 34,
     "metadata": {},
     "output_type": "execute_result"
    }
   ],
   "source": [
    "expand_power_exp(x**(a + b)), expand_power_base((x*y)**a), expand_power_base((z*t)**c), expand_power_base((z*t)**c, force=True)"
   ]
  },
  {
   "cell_type": "markdown",
   "metadata": {},
   "source": [
    "Si el exponente es un número la 1 puede aplicarse automáticamente y no se puede deshacer"
   ]
  },
  {
   "cell_type": "code",
   "execution_count": 35,
   "metadata": {
    "collapsed": false,
    "run_control": {
     "read_only": false
    }
   },
   "outputs": [
    {
     "data": {
      "image/png": "[encoded data removed]",
      "text/latex": [
       "$$\\left ( x^{5}, \\quad x^{5}\\right )$$"
      ],
      "text/plain": [
       "⎛ 5   5⎞\n",
       "⎝x , x ⎠"
      ]
     },
     "execution_count": 35,
     "metadata": {},
     "output_type": "execute_result"
    }
   ],
   "source": [
    "x**2*x**3, expand_power_exp(x**5)"
   ]
  },
  {
   "cell_type": "markdown",
   "metadata": {},
   "source": [
    "`powdenest` aplica la 3"
   ]
  },
  {
   "cell_type": "code",
   "execution_count": 36,
   "metadata": {
    "collapsed": false,
    "run_control": {
     "read_only": false
    }
   },
   "outputs": [
    {
     "data": {
      "image/png": "[encoded data removed]",
      "text/latex": [
       "$$\\left ( x^{a b}, \\quad \\left(z^{a}\\right)^{b}, \\quad z^{a b}\\right )$$"
      ],
      "text/plain": [
       "⎛          b      ⎞\n",
       "⎜ a⋅b  ⎛ a⎞    a⋅b⎟\n",
       "⎝x   , ⎝z ⎠ , z   ⎠"
      ]
     },
     "execution_count": 36,
     "metadata": {},
     "output_type": "execute_result"
    }
   ],
   "source": [
    "powdenest((x**a)**b), powdenest((z**a)**b), powdenest((z**a)**b, force=True)"
   ]
  },
  {
   "cell_type": "code",
   "execution_count": 37,
   "metadata": {
    "collapsed": false,
    "run_control": {
     "read_only": false
    }
   },
   "outputs": [],
   "source": [
    "a, z = symbols('a, z', complex=True)\n",
    "r, w, b0 = symbols('r, w, b0', real=True)\n",
    "a = r*exp(-I*w)"
   ]
  },
  {
   "cell_type": "code",
   "execution_count": 38,
   "metadata": {
    "collapsed": false,
    "run_control": {
     "read_only": false
    }
   },
   "outputs": [],
   "source": [
    "B = b0\n",
    "A = (1-a*z**-1)*(1-a.conjugate()*z**-1)\n",
    "H = expand(B/A)"
   ]
  },
  {
   "cell_type": "code",
   "execution_count": 39,
   "metadata": {
    "collapsed": false,
    "run_control": {
     "read_only": false
    }
   },
   "outputs": [
    {
     "data": {
      "image/png": "[encoded data removed]",
      "text/latex": [
       "$$6.81262286301668$$"
      ],
      "text/plain": [
       "6.81262286301668"
      ]
     },
     "execution_count": 39,
     "metadata": {},
     "output_type": "execute_result"
    }
   ],
   "source": [
    "factorial(3.1)"
   ]
  },
  {
   "cell_type": "code",
   "execution_count": 40,
   "metadata": {
    "collapsed": false,
    "run_control": {
     "read_only": false
    }
   },
   "outputs": [
    {
     "data": {
      "image/png": "[encoded data removed]",
      "text/latex": [
       "$$1$$"
      ],
      "text/plain": [
       "1"
      ]
     },
     "execution_count": 40,
     "metadata": {},
     "output_type": "execute_result"
    }
   ],
   "source": [
    "Piecewise((1, x > 0), (S(1)/2, Eq(x, 0)), (0, True))"
   ]
  },
  {
   "cell_type": "code",
   "execution_count": 41,
   "metadata": {
    "collapsed": false,
    "run_control": {
     "read_only": false
    }
   },
   "outputs": [
    {
     "data": {
      "image/png": "[encoded data removed]",
      "text/latex": [
       "$${\\binom{n}{k}}$$"
      ],
      "text/plain": [
       "⎛n⎞\n",
       "⎜ ⎟\n",
       "⎝k⎠"
      ]
     },
     "execution_count": 41,
     "metadata": {},
     "output_type": "execute_result"
    }
   ],
   "source": [
    "binomial(n, k)"
   ]
  }
 ],
 "metadata": {
  "kernelspec": {
   "display_name": "Python 3",
   "language": "python",
   "name": "python3"
  },
  "language_info": {
   "codemirror_mode": {
    "name": "ipython",
    "version": 3
   },
   "file_extension": ".py",
   "mimetype": "text/x-python",
   "name": "python",
   "nbconvert_exporter": "python",
   "pygments_lexer": "ipython3",
   "version": "3.5.2+"
  }
 },
 "nbformat": 4,
 "nbformat_minor": 0
}
