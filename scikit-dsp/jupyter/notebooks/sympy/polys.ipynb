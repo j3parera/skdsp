{
 "cells": [
  {
   "cell_type": "code",
   "execution_count": 1,
   "metadata": {
    "collapsed": false
   },
   "outputs": [
    {
     "name": "stdout",
     "output_type": "stream",
     "text": [
      "Using matplotlib backend: TkAgg\n",
      "Populating the interactive namespace from numpy and matplotlib\n",
      "IPython console for SymPy 0.7.6.1 (Python 3.4.3-64-bit) (ground types: gmpy)\n",
      "\n",
      "These commands were executed:\n",
      ">>> from __future__ import division\n",
      ">>> from sympy import *\n",
      ">>> x, y, z, t = symbols('x y z t')\n",
      ">>> k, m, n = symbols('k m n', integer=True)\n",
      ">>> f, g, h = symbols('f g h', cls=Function)\n",
      ">>> init_printing()\n",
      "\n",
      "Documentation can be found at http://www.sympy.org\n"
     ]
    }
   ],
   "source": [
    "%pylab\n",
    "%matplotlib inline\n",
    "import sympy as sp\n",
    "sp.init_session()"
   ]
  },
  {
   "cell_type": "markdown",
   "metadata": {},
   "source": [
    "## División"
   ]
  },
  {
   "cell_type": "code",
   "execution_count": 92,
   "metadata": {
    "collapsed": false
   },
   "outputs": [
    {
     "data": {
      "image/png": "[encoded data removed]",
      "text/latex": [
       "$$\\left ( 2 z - 2 + e^{- \\frac{i \\pi}{4}}, \\quad 7 - 2 e^{- \\frac{i \\pi}{4}}\\right )$$"
      ],
      "text/plain": [
       "⎛           -ⅈ⋅π          -ⅈ⋅π ⎞\n",
       "⎜           ─────         ─────⎟\n",
       "⎜             4             4  ⎟\n",
       "⎝2⋅z - 2 + ℯ     , 7 - 2⋅ℯ     ⎠"
      ]
     },
     "execution_count": 92,
     "metadata": {},
     "output_type": "execute_result"
    }
   ],
   "source": [
    "f = 4*z**2 + 2*exp(-I*pi/4)*z + 3\n",
    "g = 2*z + 2\n",
    "q, r = div(f, g, domain='QQ') # domain = 'CC' 'RR' 'QQ'\n",
    "q, r"
   ]
  },
  {
   "cell_type": "code",
   "execution_count": 93,
   "metadata": {
    "collapsed": false
   },
   "outputs": [
    {
     "data": {
      "image/png": "[encoded data removed]",
      "text/latex": [
       "$$4 z^{2} + 2 z e^{- \\frac{i \\pi}{4}} + 3$$"
      ],
      "text/plain": [
       "            -ⅈ⋅π     \n",
       "            ─────    \n",
       "   2          4      \n",
       "4⋅z  + 2⋅z⋅ℯ      + 3"
      ]
     },
     "execution_count": 93,
     "metadata": {},
     "output_type": "execute_result"
    }
   ],
   "source": [
    "(q*g+r).expand()"
   ]
  },
  {
   "cell_type": "code",
   "execution_count": 94,
   "metadata": {
    "collapsed": false
   },
   "outputs": [
    {
     "data": {
      "image/png": "[encoded data removed]",
      "text/latex": [
       "$$\\left ( \\frac{a z}{2} - \\frac{a}{4} + \\frac{b}{2}, \\quad \\frac{a}{4} - \\frac{b}{2} + c\\right )$$"
      ],
      "text/plain": [
       "⎛a⋅z   a   b  a   b    ⎞\n",
       "⎜─── - ─ + ─, ─ - ─ + c⎟\n",
       "⎝ 2    4   2  4   2    ⎠"
      ]
     },
     "execution_count": 94,
     "metadata": {},
     "output_type": "execute_result"
    }
   ],
   "source": [
    "a, b, c = symbols('a b c', real=True)\n",
    "f = a*z**2 + b*z + c\n",
    "g = 2*z + 1\n",
    "q, r = div(f, g, domain='QQ')\n",
    "q, r"
   ]
  },
  {
   "cell_type": "code",
   "execution_count": 98,
   "metadata": {
    "collapsed": false
   },
   "outputs": [
    {
     "data": {
      "image/png": "[encoded data removed]",
      "text/latex": [
       "$$1 + \\frac{1}{z} + \\frac{1}{z^{2}}$$"
      ],
      "text/plain": [
       "    1   1 \n",
       "1 + ─ + ──\n",
       "    z    2\n",
       "        z "
      ]
     },
     "execution_count": 98,
     "metadata": {},
     "output_type": "execute_result"
    }
   ],
   "source": [
    "p = (1 + z**-1 + z**-2)\n",
    "p"
   ]
  },
  {
   "cell_type": "markdown",
   "metadata": {},
   "source": [
    "## GCD (Máximo Común Divisor) y LCM (Mínimo Común Múltiplo)"
   ]
  },
  {
   "cell_type": "code",
   "execution_count": 116,
   "metadata": {
    "collapsed": false
   },
   "outputs": [
    {
     "data": {
      "image/png": "[encoded data removed]",
      "text/latex": [
       "$$\\left ( 4 x, \\quad 48 x^{3} + 48 x^{2}\\right )$$"
      ],
      "text/plain": [
       "⎛         3       2⎞\n",
       "⎝4⋅x, 48⋅x  + 48⋅x ⎠"
      ]
     },
     "execution_count": 116,
     "metadata": {},
     "output_type": "execute_result"
    }
   ],
   "source": [
    "f = (12*x + 12)*x\n",
    "g = 16*x**2\n",
    "gcd(f, g), lcm(f, g)"
   ]
  },
  {
   "cell_type": "code",
   "execution_count": 118,
   "metadata": {
    "collapsed": false
   },
   "outputs": [
    {
     "data": {
      "image/png": "[encoded data removed]",
      "text/latex": [
       "$$\\left ( x, \\quad x^{2}\\right )$$"
      ],
      "text/plain": [
       "⎛    2⎞\n",
       "⎝x, x ⎠"
      ]
     },
     "execution_count": 118,
     "metadata": {},
     "output_type": "execute_result"
    }
   ],
   "source": [
    "f = 3*x**2/2\n",
    "g = 9*x/4\n",
    "gcd(f, g), lcm(f, g) # GCD mónico (coeficiente = 1) porque hay racionales"
   ]
  },
  {
   "cell_type": "markdown",
   "metadata": {},
   "source": [
    "## Factorización"
   ]
  },
  {
   "cell_type": "code",
   "execution_count": 145,
   "metadata": {
    "collapsed": false
   },
   "outputs": [
    {
     "data": {
      "image/png": "[encoded data removed]",
      "text/latex": [
       "$$\\frac{x^{2}}{12} \\left(2 x - 1\\right) \\left(3 x + 4\\right)$$"
      ],
      "text/plain": [
       " 2                    \n",
       "x ⋅(2⋅x - 1)⋅(3⋅x + 4)\n",
       "──────────────────────\n",
       "          12          "
      ]
     },
     "execution_count": 145,
     "metadata": {},
     "output_type": "execute_result"
    }
   ],
   "source": [
    "factor(x**4/2 + 5*x**3/12 - x**2/3) # coeficientes racionales, por defecto"
   ]
  },
  {
   "cell_type": "code",
   "execution_count": 146,
   "metadata": {
    "collapsed": false
   },
   "outputs": [
    {
     "data": {
      "image/png": "[encoded data removed]",
      "text/latex": [
       "$$x^{2} \\left(0.166666666666667 x - 0.0833333333333333\\right) \\left(0.25 x + 0.333333333333333\\right)$$"
      ],
      "text/plain": [
       " 2                                                                        \n",
       "x ⋅(0.166666666666667⋅x - 0.0833333333333333)⋅(0.25⋅x + 0.333333333333333)"
      ]
     },
     "execution_count": 146,
     "metadata": {},
     "output_type": "execute_result"
    }
   ],
   "source": [
    "factor((x**4/2 + 5*x**3/12 - x**2/3).as_poly(domain='RR')) # coeficientes reales"
   ]
  },
  {
   "cell_type": "code",
   "execution_count": 220,
   "metadata": {
    "collapsed": false
   },
   "outputs": [
    {
     "data": {
      "image/png": "[encoded data removed]",
      "text/latex": [
       "$$\\left ( 3, \\quad -6, \\quad \\frac{1}{z^{3}}, \\quad - \\frac{6}{z^{3}}, \\quad - \\frac{7}{6} + \\frac{1}{6 z} - \\frac{1}{2 z^{2}} + \\frac{1}{z^{3}}, \\quad 7, \\quad -6\\right )$$"
      ],
      "text/plain": [
       "⎛       1   -6     7    1     1     1        ⎞\n",
       "⎜3, -6, ──, ───, - ─ + ─── - ──── + ──, 7, -6⎟\n",
       "⎜        3    3    6   6⋅z      2    3       ⎟\n",
       "⎝       z    z               2⋅z    z        ⎠"
      ]
     },
     "execution_count": 220,
     "metadata": {},
     "output_type": "execute_result"
    }
   ],
   "source": [
    "p = 7 - z**-1 + 3*z**-2 - 6*z**-3\n",
    "P = Poly(p)\n",
    "degree(p), LC(p), LM(p), LT(p), monic(p), P.EC(), P.LC()"
   ]
  },
  {
   "cell_type": "code",
   "execution_count": 229,
   "metadata": {
    "collapsed": false
   },
   "outputs": [
    {
     "data": {
      "image/png": "[encoded data removed]",
      "text/latex": [
       "$$\\left ( \\operatorname{Poly}{\\left( 7 - \\frac{1}{z} + \\frac{3}{z^{2}} - \\frac{6}{z^{3}}, \\frac{1}{z}, domain=\\mathbb{Z} \\right)}, \\quad \\left [ -6, \\quad 3, \\quad -1, \\quad 7\\right ]\\right )$$"
      ],
      "text/plain": [
       "(Poly(-6*1/z**3 + 3*1/z**2 - 1/z + 7, 1/z, domain='ZZ'), [-6, 3, -1, 7])"
      ]
     },
     "execution_count": 229,
     "metadata": {},
     "output_type": "execute_result"
    }
   ],
   "source": [
    "P, P.all_coeffs()"
   ]
  },
  {
   "cell_type": "code",
   "execution_count": 208,
   "metadata": {
    "collapsed": false
   },
   "outputs": [
    {
     "data": {
      "image/png": "[encoded data removed]",
      "text/latex": [
       "$$\\frac{1}{z^{3}} \\left(7 z^{3} - z^{2} + 3 z - 6\\right)$$"
      ],
      "text/plain": [
       "   3    2          \n",
       "7⋅z  - z  + 3⋅z - 6\n",
       "───────────────────\n",
       "          3        \n",
       "         z         "
      ]
     },
     "execution_count": 208,
     "metadata": {},
     "output_type": "execute_result"
    }
   ],
   "source": [
    "LM(p)*(p/LM(p)).expand()"
   ]
  },
  {
   "cell_type": "code",
   "execution_count": 176,
   "metadata": {
    "collapsed": false
   },
   "outputs": [
    {
     "data": {
      "image/png": "[encoded data removed]",
      "text/latex": [
       "$$\\left ( \\left(x - 2 i\\right) \\left(x + 2 i\\right), \\quad x^{2} + 2\\right )$$"
      ],
      "text/plain": [
       "⎛                      2    ⎞\n",
       "⎝(x - 2⋅ⅈ)⋅(x + 2⋅ⅈ), x  + 2⎠"
      ]
     },
     "execution_count": 176,
     "metadata": {},
     "output_type": "execute_result"
    }
   ],
   "source": [
    "factor(x**2 + 4, gaussian=True), factor(x**2 + 2, gaussian=True) # números gaussianos: complejos con pr y pi entera"
   ]
  },
  {
   "cell_type": "code",
   "execution_count": 198,
   "metadata": {
    "collapsed": false
   },
   "outputs": [
    {
     "data": {
      "image/png": "[encoded data removed]",
      "text/latex": [
       "$$\\left \\{ -2 : 1, \\quad 2 : 1\\right \\}$$"
      ],
      "text/plain": [
       "{-2: 1, 2: 1}"
      ]
     },
     "execution_count": 198,
     "metadata": {},
     "output_type": "execute_result"
    }
   ],
   "source": [
    "ground_roots(x**2 - 4)"
   ]
  },
  {
   "cell_type": "code",
   "execution_count": 205,
   "metadata": {
    "collapsed": false
   },
   "outputs": [
    {
     "data": {
      "image/png": "[encoded data removed]",
      "text/latex": [
       "$$z^{3} - \\frac{z^{2}}{7} + \\frac{3 z}{7} - \\frac{6}{7}$$"
      ],
      "text/plain": [
       "      2          \n",
       " 3   z    3⋅z   6\n",
       "z  - ── + ─── - ─\n",
       "     7     7    7"
      ]
     },
     "execution_count": 205,
     "metadata": {},
     "output_type": "execute_result"
    }
   ],
   "source": [
    "(p/LM(p)/P.EC()).expand()"
   ]
  },
  {
   "cell_type": "code",
   "execution_count": 230,
   "metadata": {
    "collapsed": false
   },
   "outputs": [
    {
     "data": {
      "image/png": "[encoded data removed]",
      "text/latex": [
       "$$\\left \\{ \\frac{1}{6} + \\left(- \\frac{1}{2} - \\frac{\\sqrt{3} i}{2}\\right) \\sqrt[3]{\\frac{31}{54} + \\frac{\\sqrt{15377}}{216}} - \\frac{1}{36 \\left(- \\frac{1}{2} - \\frac{\\sqrt{3} i}{2}\\right) \\sqrt[3]{\\frac{31}{54} + \\frac{\\sqrt{15377}}{216}}} : 1, \\quad \\frac{1}{6} - \\frac{1}{36 \\left(- \\frac{1}{2} + \\frac{\\sqrt{3} i}{2}\\right) \\sqrt[3]{\\frac{31}{54} + \\frac{\\sqrt{15377}}{216}}} + \\left(- \\frac{1}{2} + \\frac{\\sqrt{3} i}{2}\\right) \\sqrt[3]{\\frac{31}{54} + \\frac{\\sqrt{15377}}{216}} : 1, \\quad - \\frac{1}{36 \\sqrt[3]{\\frac{31}{54} + \\frac{\\sqrt{15377}}{216}}} + \\frac{1}{6} + \\sqrt[3]{\\frac{31}{54} + \\frac{\\sqrt{15377}}{216}} : 1\\right \\}$$"
      ],
      "text/plain": [
       "⎧                         ________________                                    \n",
       "⎪    ⎛        ___  ⎞     ╱        _______                                     \n",
       "⎪1   ⎜  1   ╲╱ 3 ⋅ⅈ⎟    ╱  31   ╲╱ 15377                        1             \n",
       "⎪─ + ⎜- ─ - ───────⎟⋅3 ╱   ── + ─────────  - ─────────────────────────────────\n",
       "⎨6   ⎝  2      2   ⎠ ╲╱    54      216                               _________\n",
       "⎪                                               ⎛        ___  ⎞     ╱        _\n",
       "⎪                                               ⎜  1   ╲╱ 3 ⋅ⅈ⎟    ╱  31   ╲╱ \n",
       "⎪                                            36⋅⎜- ─ - ───────⎟⋅3 ╱   ── + ───\n",
       "⎩                                               ⎝  2      2   ⎠ ╲╱    54      \n",
       "\n",
       "                                                                              \n",
       "                                                           ⎛        ___  ⎞    \n",
       "            1                      1                       ⎜  1   ╲╱ 3 ⋅ⅈ⎟    \n",
       "───────: 1, ─ - ──────────────────────────────────────── + ⎜- ─ + ───────⎟⋅3 ╱\n",
       "_______     6                           ________________   ⎝  2      2   ⎠ ╲╱ \n",
       "______             ⎛        ___  ⎞     ╱        _______                       \n",
       "15377              ⎜  1   ╲╱ 3 ⋅ⅈ⎟    ╱  31   ╲╱ 15377                        \n",
       "──────          36⋅⎜- ─ + ───────⎟⋅3 ╱   ── + ─────────                       \n",
       "216                ⎝  2      2   ⎠ ╲╱    54      216                          \n",
       "\n",
       "  ________________                                           ________________ \n",
       " ╱        _______                                           ╱        _______  \n",
       "╱  31   ╲╱ 15377                    1               1      ╱  31   ╲╱ 15377   \n",
       "   ── + ───────── : 1, - ──────────────────────── + ─ + 3 ╱   ── + ───────── :\n",
       "   54      216                   ________________   6   ╲╱    54      216     \n",
       "                                ╱        _______                              \n",
       "                               ╱  31   ╲╱ 15377                               \n",
       "                         36⋅3 ╱   ── + ─────────                              \n",
       "                            ╲╱    54      216                                 \n",
       "\n",
       "  ⎫\n",
       "  ⎪\n",
       "  ⎪\n",
       " 1⎪\n",
       "  ⎬\n",
       "  ⎪\n",
       "  ⎪\n",
       "  ⎪\n",
       "  ⎭"
      ]
     },
     "execution_count": 230,
     "metadata": {},
     "output_type": "execute_result"
    }
   ],
   "source": [
    "roots(P)"
   ]
  },
  {
   "cell_type": "code",
   "execution_count": 234,
   "metadata": {
    "collapsed": false
   },
   "outputs": [
    {
     "data": {
      "image/png": "[encoded data removed]",
      "text/latex": [
       "$$\\operatorname{RootOf} {\\left(-7 + \\frac{1}{z} - \\frac{3}{z^{2}} + \\frac{6}{z^{3}}, 0\\right)}$$"
      ],
      "text/plain": [
       "      ⎛     1   3    6    ⎞\n",
       "RootOf⎜-7 + ─ - ── + ──, 0⎟\n",
       "      ⎜     z    2    3   ⎟\n",
       "      ⎝         z    z    ⎠"
      ]
     },
     "execution_count": 234,
     "metadata": {},
     "output_type": "execute_result"
    }
   ],
   "source": []
  },
  {
   "cell_type": "code",
   "execution_count": 7,
   "metadata": {
    "collapsed": false
   },
   "outputs": [
    {
     "data": {
      "image/png": "[encoded data removed]",
      "text/latex": [
       "$$\\frac{a^{n} \\left(a + b - 1\\right)}{a - 1} - \\frac{b}{a - 1}$$"
      ],
      "text/plain": [
       " n                    \n",
       "a ⋅(a + b - 1)     b  \n",
       "────────────── - ─────\n",
       "    a - 1        a - 1"
      ]
     },
     "execution_count": 7,
     "metadata": {},
     "output_type": "execute_result"
    }
   ],
   "source": [
    "a, b = symbols('a b')\n",
    "rsolve(f(n) - a*f(n-1) - b, f(n), {f(0): 1}) "
   ]
  },
  {
   "cell_type": "code",
   "execution_count": 1,
   "metadata": {
    "collapsed": false
   },
   "outputs": [
    {
     "ename": "ImportError",
     "evalue": "No module named 'tds'",
     "output_type": "error",
     "traceback": [
      "\u001b[1;31m---------------------------------------------------------------------------\u001b[0m",
      "\u001b[1;31mImportError\u001b[0m                               Traceback (most recent call last)",
      "\u001b[1;32m<ipython-input-1-25052e7c3f3b>\u001b[0m in \u001b[0;36m<module>\u001b[1;34m()\u001b[0m\n\u001b[0;32m      2\u001b[0m \u001b[0mlib_path\u001b[0m \u001b[1;33m=\u001b[0m \u001b[0mos\u001b[0m\u001b[1;33m.\u001b[0m\u001b[0mpath\u001b[0m\u001b[1;33m.\u001b[0m\u001b[0mabspath\u001b[0m\u001b[1;33m(\u001b[0m\u001b[1;34m'/home/pepo/clases/toolbox/tds-toolbox/'\u001b[0m\u001b[1;33m)\u001b[0m\u001b[1;33m\u001b[0m\u001b[0m\n\u001b[0;32m      3\u001b[0m \u001b[0msys\u001b[0m\u001b[1;33m.\u001b[0m\u001b[0mpath\u001b[0m\u001b[1;33m.\u001b[0m\u001b[0mappend\u001b[0m\u001b[1;33m(\u001b[0m\u001b[0mlib_path\u001b[0m\u001b[1;33m)\u001b[0m\u001b[1;33m\u001b[0m\u001b[0m\n\u001b[1;32m----> 4\u001b[1;33m \u001b[1;32mfrom\u001b[0m \u001b[0mtds\u001b[0m\u001b[1;33m.\u001b[0m\u001b[0msignals\u001b[0m\u001b[1;33m.\u001b[0m\u001b[0mdiscrete\u001b[0m \u001b[1;32mimport\u001b[0m \u001b[0mdelta\u001b[0m\u001b[1;33m\u001b[0m\u001b[0m\n\u001b[0m\u001b[0;32m      5\u001b[0m \u001b[0mrsolve\u001b[0m\u001b[1;33m(\u001b[0m\u001b[0my\u001b[0m\u001b[1;33m(\u001b[0m\u001b[0mn\u001b[0m\u001b[1;33m)\u001b[0m \u001b[1;33m-\u001b[0m \u001b[0ma\u001b[0m\u001b[1;33m*\u001b[0m\u001b[0my\u001b[0m\u001b[1;33m(\u001b[0m\u001b[0mn\u001b[0m \u001b[1;33m-\u001b[0m \u001b[1;36m1\u001b[0m\u001b[1;33m)\u001b[0m \u001b[1;33m-\u001b[0m \u001b[0mx\u001b[0m\u001b[1;33m(\u001b[0m\u001b[0mn\u001b[0m\u001b[1;33m)\u001b[0m\u001b[1;33m,\u001b[0m \u001b[0my\u001b[0m\u001b[1;33m(\u001b[0m\u001b[0mn\u001b[0m\u001b[1;33m)\u001b[0m\u001b[1;33m,\u001b[0m \u001b[1;33m{\u001b[0m\u001b[0my\u001b[0m\u001b[1;33m(\u001b[0m\u001b[1;36m0\u001b[0m\u001b[1;33m)\u001b[0m\u001b[1;33m:\u001b[0m\u001b[1;36m1\u001b[0m\u001b[1;33m}\u001b[0m\u001b[1;33m)\u001b[0m\u001b[1;33m\u001b[0m\u001b[0m\n",
      "\u001b[1;31mImportError\u001b[0m: No module named 'tds'"
     ]
    }
   ],
   "source": [
    "import os, sys\n",
    "lib_path = os.path.abspath('/home/pepo/clases/toolbox/tds-toolbox/')\n",
    "sys.path.append(lib_path)\n",
    "from tds.signals.discrete import delta\n",
    "rsolve(y(n) - a*y(n - 1) - x(n), y(n), {y(0):1})"
   ]
  },
  {
   "cell_type": "code",
   "execution_count": null,
   "metadata": {
    "collapsed": true
   },
   "outputs": [],
   "source": []
  }
 ],
 "metadata": {
  "kernelspec": {
   "display_name": "Python 3",
   "language": "python",
   "name": "python3"
  },
  "language_info": {
   "codemirror_mode": {
    "name": "ipython",
    "version": 3
   },
   "file_extension": ".py",
   "mimetype": "text/x-python",
   "name": "python",
   "nbconvert_exporter": "python",
   "pygments_lexer": "ipython3",
   "version": "3.4.3"
  }
 },
 "nbformat": 4,
 "nbformat_minor": 0
}
