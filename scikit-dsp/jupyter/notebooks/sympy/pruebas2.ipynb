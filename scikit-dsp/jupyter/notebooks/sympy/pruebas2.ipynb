{
 "cells": [
  {
   "cell_type": "code",
   "execution_count": 1,
   "metadata": {
    "collapsed": false,
    "run_control": {
     "read_only": false
    }
   },
   "outputs": [
    {
     "name": "stdout",
     "output_type": "stream",
     "text": [
      "Current bookmarks:\n",
      "Using matplotlib backend: TkAgg\n",
      "Populating the interactive namespace from numpy and matplotlib\n",
      "IPython console for SymPy 1.0 (Python 3.5.2-64-bit) (ground types: python)\n",
      "\n",
      "These commands were executed:\n",
      ">>> from __future__ import division\n",
      ">>> from sympy import *\n",
      ">>> x, y, z, t = symbols('x y z t')\n",
      ">>> k, m, n = symbols('k m n', integer=True)\n",
      ">>> f, g, h = symbols('f g h', cls=Function)\n",
      ">>> init_printing()\n",
      "\n",
      "Documentation can be found at http://docs.sympy.org/1.0/\n"
     ]
    }
   ],
   "source": [
    "%bookmark -l\n",
    "%pylab\n",
    "%matplotlib inline\n",
    "import sympy as sp\n",
    "sp.init_session()\n",
    "import os, sys\n",
    "lib_path = os.path.abspath('/home/pepo/software/toolbox/pydsp/')\n",
    "sys.path.append(lib_path)\n",
    "from ipywidgets import interact"
   ]
  },
  {
   "cell_type": "code",
   "execution_count": 2,
   "metadata": {
    "collapsed": true,
    "run_control": {
     "read_only": false
    }
   },
   "outputs": [],
   "source": [
    "omega, t = symbols('omega t', real=True)\n",
    "n = symbols('n', integer=True)\n",
    "f1, f2 = symbols('f1 f2', cls=Function)\n",
    "j = symbols('j', imaginary=True)\n",
    "j = I"
   ]
  },
  {
   "cell_type": "code",
   "execution_count": 3,
   "metadata": {
    "collapsed": false,
    "run_control": {
     "read_only": false
    }
   },
   "outputs": [
    {
     "data": {
      "image/png": "[encoded data removed]",
      "text/latex": [
       "$$\\left ( \\left ( \\cos{\\left (n \\omega \\right )}, \\quad - \\sin{\\left (n \\omega \\right )}\\right ), \\quad - i \\sin{\\left (n \\omega \\right )} + \\cos{\\left (n \\omega \\right )}, \\quad - i \\sin{\\left (n \\omega \\right )} + \\cos{\\left (n \\omega \\right )}\\right )$$"
      ],
      "text/plain": [
       "((cos(n⋅ω), -sin(n⋅ω)), -ⅈ⋅sin(n⋅ω) + cos(n⋅ω), -ⅈ⋅sin(n⋅ω) + cos(n⋅ω))"
      ]
     },
     "execution_count": 3,
     "metadata": {},
     "output_type": "execute_result"
    }
   ],
   "source": [
    "f1 = exp(-j*omega*n)\n",
    "f1.as_real_imag(), f1.rewrite(sin), f1.rewrite(cos)"
   ]
  },
  {
   "cell_type": "code",
   "execution_count": 4,
   "metadata": {
    "collapsed": false,
    "run_control": {
     "read_only": false
    }
   },
   "outputs": [
    {
     "data": {
      "image/png": "[encoded data removed]",
      "text/latex": [
       "$$\\left ( \\left ( 2 \\cos{\\left (n \\omega \\right )}, \\quad 0\\right ), \\quad 2 \\cos{\\left (n \\omega \\right )}, \\quad 2 \\cos{\\left (n \\omega \\right )}\\right )$$"
      ],
      "text/plain": [
       "((2⋅cos(n⋅ω), 0), 2⋅cos(n⋅ω), 2⋅cos(n⋅ω))"
      ]
     },
     "execution_count": 4,
     "metadata": {},
     "output_type": "execute_result"
    }
   ],
   "source": [
    "f2 = exp(j*omega*n) + exp(-j*omega*n)\n",
    "f2.as_real_imag(), f2.rewrite(sin), f2.rewrite(cos)"
   ]
  },
  {
   "cell_type": "code",
   "execution_count": 5,
   "metadata": {
    "collapsed": false,
    "run_control": {
     "read_only": false
    }
   },
   "outputs": [
    {
     "data": {
      "image/png": "[encoded data removed]",
      "text/latex": [
       "$$\\begin{cases} N + 1 & \\text{for}\\: a = 1 \\\\\\frac{- a^{N + 1} + 1}{- a + 1} & \\text{otherwise} \\end{cases}$$"
      ],
      "text/plain": [
       "⎧   N + 1      for a = 1\n",
       "⎪                       \n",
       "⎪   N + 1               \n",
       "⎨- a      + 1           \n",
       "⎪────────────  otherwise\n",
       "⎪   -a + 1              \n",
       "⎩                       "
      ]
     },
     "execution_count": 5,
     "metadata": {},
     "output_type": "execute_result"
    }
   ],
   "source": [
    "a = symbols('a', real=True)\n",
    "n = symbols('n', integer=True)\n",
    "N = symbols('N', integer=True, nonnegative=True)\n",
    "Sum(a**n, (n, 0, N)).doit()"
   ]
  },
  {
   "cell_type": "code",
   "execution_count": 6,
   "metadata": {
    "collapsed": false,
    "run_control": {
     "read_only": false
    }
   },
   "outputs": [
    {
     "data": {
      "image/png": "[encoded data removed]",
      "text/latex": [
       "$$N + 1$$"
      ],
      "text/plain": [
       "N + 1"
      ]
     },
     "execution_count": 6,
     "metadata": {},
     "output_type": "execute_result"
    }
   ],
   "source": [
    "limit((1-a**(N+1))/(1-a), a, 1)"
   ]
  },
  {
   "cell_type": "code",
   "execution_count": 7,
   "metadata": {
    "collapsed": false,
    "run_control": {
     "read_only": false
    }
   },
   "outputs": [
    {
     "data": {
      "image/png": "[encoded data removed]",
      "text/latex": [
       "$$\\left ( e^{2 i \\pi n}, \\quad e^{2 i \\pi n}\\right )$$"
      ],
      "text/plain": [
       "⎛ 2⋅ⅈ⋅π⋅n   2⋅ⅈ⋅π⋅n⎞\n",
       "⎝ℯ       , ℯ       ⎠"
      ]
     },
     "execution_count": 7,
     "metadata": {},
     "output_type": "execute_result"
    }
   ],
   "source": [
    "exp_polar(I*2*pi*n), exp(2*pi*I*n)"
   ]
  },
  {
   "cell_type": "code",
   "execution_count": 8,
   "metadata": {
    "collapsed": false,
    "run_control": {
     "read_only": false
    }
   },
   "outputs": [],
   "source": [
    "x = symbols('x')"
   ]
  },
  {
   "cell_type": "code",
   "execution_count": 9,
   "metadata": {
    "collapsed": false,
    "run_control": {
     "read_only": false
    }
   },
   "outputs": [
    {
     "data": {
      "image/png": "[encoded data removed]",
      "text/latex": [
       "$$- \\frac{i}{2} \\left(e^{i x} - e^{- i x}\\right)$$"
      ],
      "text/plain": [
       "   ⎛ ⅈ⋅x    -ⅈ⋅x⎞ \n",
       "-ⅈ⋅⎝ℯ    - ℯ    ⎠ \n",
       "──────────────────\n",
       "        2         "
      ]
     },
     "execution_count": 9,
     "metadata": {},
     "output_type": "execute_result"
    }
   ],
   "source": [
    "sin(x).rewrite(exp)"
   ]
  },
  {
   "cell_type": "code",
   "execution_count": 10,
   "metadata": {
    "collapsed": false,
    "run_control": {
     "read_only": false
    }
   },
   "outputs": [
    {
     "data": {
      "image/png": "[encoded data removed]",
      "text/latex": [
       "$$\\left ( x_{0}, \\quad x_{1}\\right )$$"
      ],
      "text/plain": [
       "(x₀, x₁)"
      ]
     },
     "execution_count": 10,
     "metadata": {},
     "output_type": "execute_result"
    }
   ],
   "source": [
    "s = symbols('x:2')\n",
    "s"
   ]
  },
  {
   "cell_type": "code",
   "execution_count": 11,
   "metadata": {
    "collapsed": false,
    "run_control": {
     "read_only": false
    }
   },
   "outputs": [
    {
     "data": {
      "image/png": "[encoded data removed]",
      "text/latex": [
       "$$\\left \\{ x_{0} : 1.39795918367347, \\quad x_{1} : 0.86734693877551\\right \\}$$"
      ],
      "text/plain": [
       "{x₀: 1.39795918367347, x₁: 0.86734693877551}"
      ]
     },
     "execution_count": 11,
     "metadata": {},
     "output_type": "execute_result"
    }
   ],
   "source": [
    "eq1 = s[0] + 3*s[1]\n",
    "eq2 = 3*s[0] - 5*s[1]\n",
    "solve([Eq(eq1, 4), Eq(eq2, -1/7)])"
   ]
  },
  {
   "cell_type": "code",
   "execution_count": 12,
   "metadata": {
    "collapsed": false,
    "run_control": {
     "read_only": false
    }
   },
   "outputs": [],
   "source": [
    "x = Function('x')(n)\n",
    "y = Function('y')(n)"
   ]
  },
  {
   "cell_type": "code",
   "execution_count": 13,
   "metadata": {
    "collapsed": false,
    "run_control": {
     "read_only": false
    }
   },
   "outputs": [
    {
     "data": {
      "image/png": "[encoded data removed]",
      "text/latex": [
       "$$y{\\left (3 \\right )}$$"
      ],
      "text/plain": [
       "y(3)"
      ]
     },
     "execution_count": 13,
     "metadata": {},
     "output_type": "execute_result"
    }
   ],
   "source": [
    "y1 = y.subs(n, (n-2))\n",
    "y1.subs(n,5)"
   ]
  },
  {
   "cell_type": "code",
   "execution_count": 14,
   "metadata": {
    "collapsed": false,
    "run_control": {
     "read_only": false
    }
   },
   "outputs": [
    {
     "data": {
      "image/png": "[encoded data removed]",
      "text/latex": [
       "$$\\sum_{n=-\\infty}^{\\infty} z^{- n} x{\\left (n \\right )}$$"
      ],
      "text/plain": [
       "  ∞            \n",
       " ___           \n",
       " ╲             \n",
       "  ╲     -n     \n",
       "  ╱    z  ⋅x(n)\n",
       " ╱             \n",
       " ‾‾‾           \n",
       "n = -∞         "
      ]
     },
     "execution_count": 14,
     "metadata": {},
     "output_type": "execute_result"
    }
   ],
   "source": [
    "X = Sum(x*z**(-n), (n, -oo, oo)).doit()\n",
    "X"
   ]
  },
  {
   "cell_type": "code",
   "execution_count": 15,
   "metadata": {
    "collapsed": false,
    "run_control": {
     "read_only": false
    }
   },
   "outputs": [
    {
     "data": {
      "image/png": "[encoded data removed]",
      "text/plain": [
       "<matplotlib.figure.Figure at 0x7f351443d5c0>"
      ]
     },
     "metadata": {},
     "output_type": "display_data"
    },
    {
     "data": {
      "text/plain": [
       "<sympy.plotting.plot.Plot at 0x7f35148a9da0>"
      ]
     },
     "execution_count": 15,
     "metadata": {},
     "output_type": "execute_result"
    }
   ],
   "source": [
    "%matplotlib inline\n",
    "x = symbols('x', real=True)\n",
    "sp.plot(Heaviside(x))"
   ]
  },
  {
   "cell_type": "code",
   "execution_count": 16,
   "metadata": {
    "collapsed": false,
    "run_control": {
     "read_only": false
    }
   },
   "outputs": [
    {
     "data": {
      "image/png": "[encoded data removed]",
      "text/latex": [
       "$$C_{0} a^{\\frac{n}{2}} + C_{1} \\left(- \\sqrt{a}\\right)^{n}$$"
      ],
      "text/plain": [
       "    n            \n",
       "    ─            \n",
       "    2           n\n",
       "C₀⋅a  + C₁⋅(-√a) "
      ]
     },
     "execution_count": 16,
     "metadata": {},
     "output_type": "execute_result"
    }
   ],
   "source": [
    "y = Function('y')\n",
    "rsolve(y(n) - a*y(n - 2), y(n))"
   ]
  },
  {
   "cell_type": "code",
   "execution_count": 17,
   "metadata": {
    "collapsed": false,
    "run_control": {
     "read_only": false
    }
   },
   "outputs": [
    {
     "data": {
      "image/png": "[encoded data removed]",
      "text/latex": [
       "$$\\frac{1}{- a + x}$$"
      ],
      "text/plain": [
       "  1   \n",
       "──────\n",
       "-a + x"
      ]
     },
     "execution_count": 17,
     "metadata": {},
     "output_type": "execute_result"
    }
   ],
   "source": [
    "apart(1/(x-a),x)"
   ]
  },
  {
   "cell_type": "code",
   "execution_count": 18,
   "metadata": {
    "collapsed": false,
    "run_control": {
     "read_only": false
    }
   },
   "outputs": [
    {
     "data": {
      "image/png": "[encoded data removed]",
      "text/latex": [
       "$$- \\frac{r \\left(r - \\cos{\\left (\\omega - \\theta \\right )}\\right)}{r^{2} - 2 r \\cos{\\left (\\omega - \\theta \\right )} + 1}$$"
      ],
      "text/plain": [
       "  -r⋅(r - cos(ω - θ))  \n",
       "───────────────────────\n",
       " 2                     \n",
       "r  - 2⋅r⋅cos(ω - θ) + 1"
      ]
     },
     "execution_count": 18,
     "metadata": {},
     "output_type": "execute_result"
    }
   ],
   "source": [
    "r, omega, theta = symbols('r omega theta')\n",
    "ex1 = Derivative(atan(r*sin(omega-theta)/(1-r*cos(omega-theta))), omega).doit().rewrite(cos)\n",
    "simplify(ex1).rewrite(cos)"
   ]
  },
  {
   "cell_type": "code",
   "execution_count": 19,
   "metadata": {
    "collapsed": false,
    "run_control": {
     "read_only": false
    }
   },
   "outputs": [],
   "source": [
    "atan?"
   ]
  },
  {
   "cell_type": "code",
   "execution_count": 20,
   "metadata": {
    "collapsed": false,
    "run_control": {
     "read_only": false
    }
   },
   "outputs": [
    {
     "data": {
      "text/plain": [
       "[<matplotlib.lines.Line2D at 0x7f35143ab978>]"
      ]
     },
     "execution_count": 20,
     "metadata": {},
     "output_type": "execute_result"
    },
    {
     "data": {
      "image/png": "[encoded data removed]",
      "text/plain": [
       "<matplotlib.figure.Figure at 0x7f3514490780>"
      ]
     },
     "metadata": {},
     "output_type": "display_data"
    }
   ],
   "source": [
    "plt.plot(arange(0,10), arange(0,10))"
   ]
  },
  {
   "cell_type": "code",
   "execution_count": null,
   "metadata": {
    "collapsed": true,
    "run_control": {
     "read_only": false
    }
   },
   "outputs": [],
   "source": []
  },
  {
   "cell_type": "code",
   "execution_count": null,
   "metadata": {
    "collapsed": true
   },
   "outputs": [],
   "source": []
  }
 ],
 "metadata": {
  "kernelspec": {
   "display_name": "Python 3",
   "language": "python",
   "name": "python3"
  },
  "language_info": {
   "codemirror_mode": {
    "name": "ipython",
    "version": 3
   },
   "file_extension": ".py",
   "mimetype": "text/x-python",
   "name": "python",
   "nbconvert_exporter": "python",
   "pygments_lexer": "ipython3",
   "version": "3.5.2+"
  }
 },
 "nbformat": 4,
 "nbformat_minor": 0
}
