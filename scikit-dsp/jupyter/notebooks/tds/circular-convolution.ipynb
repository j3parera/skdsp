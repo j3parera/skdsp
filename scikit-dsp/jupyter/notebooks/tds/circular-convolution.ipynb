{
 "cells": [
  {
   "cell_type": "code",
   "execution_count": 1,
   "metadata": {
    "collapsed": true,
    "run_control": {
     "read_only": false
    }
   },
   "outputs": [],
   "source": [
    "%matplotlib inline\n",
    "from ipywidgets import interact, fixed\n",
    "import numpy as np\n",
    "import matplotlib.pyplot as plt\n",
    "plt.style.use('bmh')\n",
    "import scipy.signal as sg\n",
    "import scipy.linalg as lg\n",
    "import scipy.fftpack as fft"
   ]
  },
  {
   "cell_type": "code",
   "execution_count": 2,
   "metadata": {
    "collapsed": false,
    "run_control": {
     "read_only": false
    }
   },
   "outputs": [],
   "source": [
    "def cconv2(x1, x2, N=None):\n",
    "    from math import ceil\n",
    "    from scipy.signal import convolve\n",
    "    # linear convolution\n",
    "    y = convolve(x1, x2)\n",
    "    # if N not specified, return full linear convolution \n",
    "    if N == None:\n",
    "        return convolve(x1, x2)\n",
    "    x1l = x1.shape[0]\n",
    "    x2l = x2.shape[0]\n",
    "    S = max(x1l, x2l)\n",
    "    if N < S:\n",
    "        raise ValueError('N ({0}) must be at least the largest length of '.format(N) +\n",
    "                         'x1 ({0}) and x2 ({1})'.format(x1l, x2l))\n",
    "    M = y.shape[0]\n",
    "    R = ceil(M/N)\n",
    "    ye = np.r_[y, [0]*(R*N-M)].reshape((R, N))\n",
    "    return np.sum(ye, axis=0)\n",
    "\n",
    "\n",
    "def cconv(x1, x2, N=None):\n",
    "    import scipy.linalg as lg\n",
    "\n",
    "    # Como señales sería algo así\n",
    "    # if N == None:\n",
    "    #     N = x1.length() + x2.length() - 1\n",
    "    # r = range(0, N)\n",
    "    # x1e = x1.compute(r)\n",
    "    # x2e = x2.compute(r)\n",
    "    # return x1e.dot(lg.circulant(x2e).T)\n",
    "    \n",
    "    # xk.data lengths\n",
    "    x1l = x1.shape[0]\n",
    "    x2l = x2.shape[0]\n",
    "    \n",
    "    # if N not specified, set large enough \n",
    "    if N == None:\n",
    "        N = x1l+x2l-1\n",
    "\n",
    "    # force x1.data of length N \n",
    "    if x1l >= N:\n",
    "        x1e = x1[0:N]\n",
    "    else:\n",
    "        x1e = np.r_[x1, [0]*(N-x1l)]\n",
    "    \n",
    "    # force x2.data of length N \n",
    "    x2l = len(x2)\n",
    "    if x2l >= N:\n",
    "        x2e = x2[0:N]\n",
    "    else:\n",
    "        x2e = np.r_[x2, [0]*(N-x2l)]\n",
    "    \n",
    "    # compute circular convolution\n",
    "    return x1e.dot(lg.circulant(x2e).T)"
   ]
  },
  {
   "cell_type": "code",
   "execution_count": 3,
   "metadata": {
    "collapsed": false,
    "run_control": {
     "read_only": false
    }
   },
   "outputs": [
    {
     "name": "stdout",
     "output_type": "stream",
     "text": [
      "[  1.   4.  10.  19.  31.  46.  54.  54.  45.  33.  18.   0.   0.]\n",
      "[  1.   4.  10.  19.  31.  46.  54.  54.  45.  33.  18.   0.   0.]\n"
     ]
    },
    {
     "data": {
      "text/plain": [
       "True"
      ]
     },
     "execution_count": 3,
     "metadata": {},
     "output_type": "execute_result"
    }
   ],
   "source": [
    "x1 = np.array([1., 2, 3, 3, 3, 3])\n",
    "x2 = np.array([1, 2, 3, 4, 5, 6])\n",
    "N = max(len(x1), len(x2))\n",
    "N = 13 #len(x1)+len(x2)-1\n",
    "x3 = cconv2(x1, x2, N)\n",
    "print(x3)\n",
    "X1 = fft.fft(x1, N)\n",
    "X2 = fft.fft(x2, N)\n",
    "X3 = X1 * X2\n",
    "x33 = np.real_if_close(fft.ifft(X3, N))\n",
    "x33[x33 < 100*np.finfo(np.float).eps] = 0\n",
    "print(x33)\n",
    "np.allclose(x3, x33)"
   ]
  },
  {
   "cell_type": "code",
   "execution_count": 4,
   "metadata": {
    "collapsed": false,
    "run_control": {
     "read_only": false
    }
   },
   "outputs": [],
   "source": [
    "x = np.arange(0, 10)\n",
    "x1 = np.reshape(x, (5, 2))"
   ]
  },
  {
   "cell_type": "code",
   "execution_count": 5,
   "metadata": {
    "collapsed": false,
    "run_control": {
     "read_only": false
    }
   },
   "outputs": [
    {
     "data": {
      "text/plain": [
       "array([ 1,  5,  9, 13, 17])"
      ]
     },
     "execution_count": 5,
     "metadata": {},
     "output_type": "execute_result"
    }
   ],
   "source": [
    "np.sum(x1, axis=1)"
   ]
  },
  {
   "cell_type": "code",
   "execution_count": 6,
   "metadata": {
    "collapsed": false,
    "run_control": {
     "read_only": false
    }
   },
   "outputs": [
    {
     "data": {
      "text/plain": [
       "0"
      ]
     },
     "execution_count": 6,
     "metadata": {},
     "output_type": "execute_result"
    }
   ],
   "source": [
    "x.min()"
   ]
  },
  {
   "cell_type": "code",
   "execution_count": 7,
   "metadata": {
    "collapsed": false,
    "run_control": {
     "read_only": false
    }
   },
   "outputs": [
    {
     "data": {
      "text/plain": [
       "array([  1.,   4.,  10.,  19.,  31.,  46.,  54.,  54.,  45.,  33.,  18.,\n",
       "         0.,   0.])"
      ]
     },
     "execution_count": 7,
     "metadata": {},
     "output_type": "execute_result"
    }
   ],
   "source": [
    "x33"
   ]
  },
  {
   "cell_type": "code",
   "execution_count": null,
   "metadata": {
    "collapsed": true,
    "run_control": {
     "read_only": false
    }
   },
   "outputs": [],
   "source": []
  }
 ],
 "metadata": {
  "kernelspec": {
   "display_name": "Python 3",
   "language": "python",
   "name": "python3"
  },
  "language_info": {
   "codemirror_mode": {
    "name": "ipython",
    "version": 3
   },
   "file_extension": ".py",
   "mimetype": "text/x-python",
   "name": "python",
   "nbconvert_exporter": "python",
   "pygments_lexer": "ipython3",
   "version": "3.5.2+"
  }
 },
 "nbformat": 4,
 "nbformat_minor": 0
}
