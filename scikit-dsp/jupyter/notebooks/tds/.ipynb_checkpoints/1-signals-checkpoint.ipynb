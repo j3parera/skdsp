{
 "cells": [
  {
   "cell_type": "markdown",
   "metadata": {},
   "source": [
    "## Inicialización"
   ]
  },
  {
   "cell_type": "code",
   "execution_count": 1,
   "metadata": {
    "run_control": {
     "read_only": false
    }
   },
   "outputs": [],
   "source": [
    "%matplotlib ipympl\n",
    "import matplotlib.pyplot as plt\n",
    "import ipywidgets as widgets\n",
    "from IPython.display import display\n",
    "import numpy as np\n",
    "import sympy as sp\n",
    "np.seterr(all='ignore')\n",
    "import skdsp.signal.discrete as ds\n",
    "plt.rcParams['text.usetex'] = True"
   ]
  },
  {
   "cell_type": "code",
   "execution_count": 2,
   "metadata": {
    "run_control": {
     "read_only": false
    }
   },
   "outputs": [],
   "source": [
    "npts = 32\n",
    "sgKeys = ['delta', 'escalón', 'rampa', 'pulso rectangular', 'pulso triangular']\n",
    "sgButtons = widgets.ToggleButtons(\n",
    "    options=list(zip(sgKeys, range(0, len(sgKeys)))),\n",
    "    description='señal:',\n",
    "    disabled=False,\n",
    "    button_style='info'\n",
    ")\n",
    "opKeys = ['retardo', 'reflexión y retardo', 'retardo y reflexión']\n",
    "opButtons = widgets.ToggleButtons(\n",
    "    options=list(zip(opKeys, range(0, len(opKeys)))),\n",
    "    description='operación:',\n",
    "    disabled=False,\n",
    "    button_style='success'\n",
    ")\n",
    "opHbox = widgets.HBox([opButtons])\n",
    "delSlider = widgets.IntSlider(min=-(npts-1), max=(npts-1), description='retardo:')\n",
    "widthSlider = widgets.IntSlider(min=0, max=(npts-1), description='anchura:')"
   ]
  },
  {
   "cell_type": "markdown",
   "metadata": {},
   "source": [
    "## Señales Básicas I"
   ]
  },
  {
   "cell_type": "code",
   "execution_count": 3,
   "metadata": {
    "code_folding": [],
    "run_control": {
     "read_only": false
    }
   },
   "outputs": [
    {
     "data": {
      "application/vnd.jupyter.widget-view+json": {
       "model_id": "a94562a1c5ce4bf6b35b63c91a12ef39",
       "version_major": 2,
       "version_minor": 0
      },
      "text/html": [
       "<p>Failed to display Jupyter Widget of type <code>FigureCanvasNbAgg</code>.</p>\n",
       "<p>\n",
       "  If you're reading this message in the Jupyter Notebook or JupyterLab Notebook, it may mean\n",
       "  that the widgets JavaScript is still loading. If this message persists, it\n",
       "  likely means that the widgets JavaScript library is either not installed or\n",
       "  not enabled. See the <a href=\"https://ipywidgets.readthedocs.io/en/stable/user_install.html\">Jupyter\n",
       "  Widgets Documentation</a> for setup instructions.\n",
       "</p>\n",
       "<p>\n",
       "  If you're reading this message in another frontend (for example, a static\n",
       "  rendering on GitHub or <a href=\"https://nbviewer.jupyter.org/\">NBViewer</a>),\n",
       "  it may mean that your frontend doesn't currently support widgets.\n",
       "</p>\n"
      ],
      "text/plain": [
       "FigureCanvasNbAgg()"
      ]
     },
     "metadata": {},
     "output_type": "display_data"
    },
    {
     "data": {
      "application/vnd.jupyter.widget-view+json": {
       "model_id": "3db9216b490943b8b8c8868cab083ddb",
       "version_major": 2,
       "version_minor": 0
      },
      "text/html": [
       "<p>Failed to display Jupyter Widget of type <code>interactive</code>.</p>\n",
       "<p>\n",
       "  If you're reading this message in the Jupyter Notebook or JupyterLab Notebook, it may mean\n",
       "  that the widgets JavaScript is still loading. If this message persists, it\n",
       "  likely means that the widgets JavaScript library is either not installed or\n",
       "  not enabled. See the <a href=\"https://ipywidgets.readthedocs.io/en/stable/user_install.html\">Jupyter\n",
       "  Widgets Documentation</a> for setup instructions.\n",
       "</p>\n",
       "<p>\n",
       "  If you're reading this message in another frontend (for example, a static\n",
       "  rendering on GitHub or <a href=\"https://nbviewer.jupyter.org/\">NBViewer</a>),\n",
       "  it may mean that your frontend doesn't currently support widgets.\n",
       "</p>\n"
      ],
      "text/plain": [
       "interactive(children=(ToggleButtons(button_style='info', description='señal:', options=(('delta', 0), ('escalón', 1), ('rampa', 2), ('pulso rectangular', 3), ('pulso triangular', 4)), value=0), ToggleButtons(button_style='success', description='operación:', options=(('retardo', 0), ('reflexión y retardo', 1), ('retardo y reflexión', 2)), value=0), IntSlider(value=0, description='retardo:', max=31, min=-31), IntSlider(value=0, description='anchura:', max=31), Output()), _dom_classes=('widget-interact',))"
      ]
     },
     "metadata": {},
     "output_type": "display_data"
    }
   ],
   "source": [
    "# señales básicas 1\n",
    "ns = np.arange(-npts, npts+1)\n",
    "plt.figure(figsize=(9.5, 3), tight_layout=True)\n",
    "pl = plt.stem(ns, np.zeros(2*npts+1), linefmt='C0-', basefmt='C0-', markerfmt='oC0')\n",
    "plt.axis([-npts+0.5, npts-0.5, -0.1, 1.1])\n",
    "plt.grid(True)\n",
    "plt.xlabel(r'$n$', size=14, position=(1.02, 0), labelpad=-25)\n",
    "n = ds.n\n",
    "def s1(sg=0, fd=0, delay=0, width=16):\n",
    "    widthSlider.disabled = (sg < 3)\n",
    "    if sg == 0:\n",
    "        s = ds.Delta(n)\n",
    "    elif sg == 1:\n",
    "        s = ds.Step(n)\n",
    "    elif sg == 2:\n",
    "        s = ds.Ramp(n)\n",
    "    elif sg == 3:\n",
    "        s = ds.RectPulse(n, width)\n",
    "        widthSlider.min = 0\n",
    "    elif sg == 4:\n",
    "        if width == 0:\n",
    "            width = 1\n",
    "        s = ds.TriangPulse(n, width)\n",
    "        widthSlider.min = 1\n",
    "    if fd == 0:\n",
    "        s = s.delay(delay)\n",
    "    elif fd == 1:\n",
    "        s = s.flip().delay(delay)\n",
    "    elif fd == 2:\n",
    "        s = s.delay(delay).flip()\n",
    "    ys = s[ns]\n",
    "    pl[0].set_ydata(ys)\n",
    "    for k in range(len(ns)):\n",
    "        pl[1][k].set_ydata([0, ys[k]])\n",
    "    min_ = min(0, np.min(ys))\n",
    "    max_ = max(np.max(ys), 1)\n",
    "    range_ = (max_ - min_)*0.1\n",
    "    plt.ylim([min_-range_, max_+range_])\n",
    "    plt.title(sp.latex(s, mode='inline'), loc='left', size=14)\n",
    "widgets.interact(s1, sg=sgButtons, fd=opButtons, delay=delSlider, width=widthSlider);"
   ]
  },
  {
   "cell_type": "markdown",
   "metadata": {},
   "source": [
    "## Señales Básicas II"
   ]
  },
  {
   "cell_type": "code",
   "execution_count": 4,
   "metadata": {
    "run_control": {
     "read_only": false
    }
   },
   "outputs": [],
   "source": [
    "npts = 32\n",
    "sgKeys = ['sinusoide']\n",
    "sgButtons = widgets.ToggleButtons(\n",
    "    options=list(zip(sgKeys, range(0, len(sgKeys)))),\n",
    "    description='señal:',\n",
    "    disabled=False,\n",
    "    button_style='info'\n",
    ")\n",
    "opKeys = ['retardo', 'reflexión y retardo', 'retardo y reflexión']\n",
    "opButtons = widgets.ToggleButtons(\n",
    "    options=list(zip(opKeys, range(0, len(opKeys)))),\n",
    "    description='operación:',\n",
    "    disabled=False,\n",
    "    button_style='success'\n",
    ")\n",
    "opHbox = widgets.HBox([opButtons])\n",
    "delSlider = widgets.IntSlider(min=-(npts-1), max=(npts-1), description='retardo:')\n",
    "ampSlider = widgets.FloatSlider(min=-1, max=1, description='amplitud:')\n",
    "freqSlider = widgets.FloatSlider(min=-1, max=1, step=0.01, description=r'\\(\\omega/\\pi\\):')\n",
    "phaseSlider = widgets.FloatSlider(min=-1, max=1, step=0.01, description=r'\\(\\phi/\\pi\\):')\n",
    "envCheck = widgets.Checkbox(value=False, description='envolvente:')\n",
    "slHBox = widgets.HBox([envCheck, ampSlider, freqSlider, phaseSlider])"
   ]
  },
  {
   "cell_type": "code",
   "execution_count": 5,
   "metadata": {
    "code_folding": [],
    "run_control": {
     "read_only": false
    }
   },
   "outputs": [
    {
     "data": {
      "application/vnd.jupyter.widget-view+json": {
       "model_id": "f882997e85db4c4bb3990a4398bbe91b",
       "version_major": 2,
       "version_minor": 0
      },
      "text/html": [
       "<p>Failed to display Jupyter Widget of type <code>FigureCanvasNbAgg</code>.</p>\n",
       "<p>\n",
       "  If you're reading this message in the Jupyter Notebook or JupyterLab Notebook, it may mean\n",
       "  that the widgets JavaScript is still loading. If this message persists, it\n",
       "  likely means that the widgets JavaScript library is either not installed or\n",
       "  not enabled. See the <a href=\"https://ipywidgets.readthedocs.io/en/stable/user_install.html\">Jupyter\n",
       "  Widgets Documentation</a> for setup instructions.\n",
       "</p>\n",
       "<p>\n",
       "  If you're reading this message in another frontend (for example, a static\n",
       "  rendering on GitHub or <a href=\"https://nbviewer.jupyter.org/\">NBViewer</a>),\n",
       "  it may mean that your frontend doesn't currently support widgets.\n",
       "</p>\n"
      ],
      "text/plain": [
       "FigureCanvasNbAgg()"
      ]
     },
     "metadata": {},
     "output_type": "display_data"
    },
    {
     "data": {
      "application/vnd.jupyter.widget-view+json": {
       "model_id": "f0ff71773e2f415aa70762959e7f28b5",
       "version_major": 2,
       "version_minor": 0
      },
      "text/html": [
       "<p>Failed to display Jupyter Widget of type <code>VBox</code>.</p>\n",
       "<p>\n",
       "  If you're reading this message in the Jupyter Notebook or JupyterLab Notebook, it may mean\n",
       "  that the widgets JavaScript is still loading. If this message persists, it\n",
       "  likely means that the widgets JavaScript library is either not installed or\n",
       "  not enabled. See the <a href=\"https://ipywidgets.readthedocs.io/en/stable/user_install.html\">Jupyter\n",
       "  Widgets Documentation</a> for setup instructions.\n",
       "</p>\n",
       "<p>\n",
       "  If you're reading this message in another frontend (for example, a static\n",
       "  rendering on GitHub or <a href=\"https://nbviewer.jupyter.org/\">NBViewer</a>),\n",
       "  it may mean that your frontend doesn't currently support widgets.\n",
       "</p>\n"
      ],
      "text/plain": [
       "VBox(children=(interactive(children=(ToggleButtons(button_style='info', description='señal:', options=(('sinusoide', 0),), value=0), ToggleButtons(button_style='success', description='operación:', options=(('retardo', 0), ('reflexión y retardo', 1), ('retardo y reflexión', 2)), value=0), Output()), _dom_classes=('widget-interact',)), IntSlider(value=0, description='retardo:', max=31, min=-31), HBox(children=(Checkbox(value=False, description='envolvente:'), FloatSlider(value=0.0, description='amplitud:', max=1.0, min=-1.0), FloatSlider(value=0.0, description='\\\\(\\\\omega/\\\\pi\\\\):', max=1.0, min=-1.0, step=0.01), FloatSlider(value=0.0, description='\\\\(\\\\phi/\\\\pi\\\\):', max=1.0, min=-1.0, step=0.01)))))"
      ]
     },
     "metadata": {},
     "output_type": "display_data"
    }
   ],
   "source": [
    "# señales básicas 2\n",
    "ns = np.arange(-npts, npts+1)\n",
    "plt.figure(figsize=(9.5, 3), tight_layout=True)\n",
    "pl = plt.stem(ns, np.zeros(2*npts+1), linefmt='C0-', basefmt='C0-', markerfmt='oC0')\n",
    "ne = np.arange(-npts-1, npts+1, 0.01)\n",
    "ple = plt.plot(ne, np.zeros_like(ne), 'C1', lw=1)\n",
    "ple[0].set_visible(False)\n",
    "plt.axis([-npts+0.5, npts-0.5, -1.1, 1.1])\n",
    "plt.grid(True)\n",
    "plt.xlabel(r'$n$', size=14, position=(1.02, 0), labelpad=-25)\n",
    "n = ds.n\n",
    "def s2(sg=0, fd=0):\n",
    "    if sg == 0:\n",
    "        s = ds.Sinusoid(n, ampSlider.value, sp.S.Pi*freqSlider.value, sp.S.Pi*phaseSlider.value)\n",
    "    delay = delSlider.value\n",
    "    if fd == 0:\n",
    "        s = s.delay(delay)\n",
    "    elif fd == 1:\n",
    "        s = s.flip().delay(delay)\n",
    "    elif fd == 2:\n",
    "        s = s.delay(delay).flip()\n",
    "    ys = s[ns]\n",
    "    pl[0].set_ydata(ys)\n",
    "    for k in range(len(ns)):\n",
    "        pl[1][k].set_ydata([0, ys[k]])\n",
    "    ple[0].set_visible(envCheck.value)\n",
    "    if envCheck.value:\n",
    "        ye = s.eval(ne, True)\n",
    "        ple[0].set_ydata(ye)\n",
    "\n",
    "    plt.title(sp.latex(s, mode='inline'), loc='left', size=14)\n",
    "    \n",
    "def s2change(change):\n",
    "    s2()\n",
    "\n",
    "for w in slHBox.children:\n",
    "    w.unobserve_all()\n",
    "    w.observe(s2change, names='value')\n",
    "delSlider.unobserve_all()\n",
    "delSlider.observe(s2change, names='value')\n",
    "ws = widgets.interactive(s2, sg=sgButtons, fd=opButtons);\n",
    "display(widgets.VBox([ws, delSlider, slHBox]))"
   ]
  },
  {
   "cell_type": "code",
   "execution_count": null,
   "metadata": {},
   "outputs": [],
   "source": []
  }
 ],
 "metadata": {
  "kernelspec": {
   "display_name": "Python 3",
   "language": "python",
   "name": "python3"
  },
  "language_info": {
   "codemirror_mode": {
    "name": "ipython",
    "version": 3
   },
   "file_extension": ".py",
   "mimetype": "text/x-python",
   "name": "python",
   "nbconvert_exporter": "python",
   "pygments_lexer": "ipython3",
   "version": "3.6.3"
  },
  "widgets": {
   "state": {
    "c420cef3675743eeabc3eb6addaa9cf2": {
     "views": [
      {
       "cell_index": 6
      }
     ]
    },
    "c518d9b8a0bd4eac90a3731108e07a25": {
     "views": [
      {
       "cell_index": 3
      }
     ]
    }
   },
   "version": "1.2.0"
  }
 },
 "nbformat": 4,
 "nbformat_minor": 2
}
