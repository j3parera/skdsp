{
 "cells": [
  {
   "cell_type": "code",
   "execution_count": 1,
   "metadata": {
    "code_folding": [
     0
    ],
    "collapsed": false,
    "jupyter": {
     "outputs_hidden": false
    },
    "run_control": {
     "read_only": false
    }
   },
   "outputs": [],
   "source": [
    "%matplotlib inline\n",
    "from ipywidgets import interact, fixed\n",
    "import numpy as np\n",
    "import matplotlib as mpl\n",
    "import matplotlib.pyplot as plt\n",
    "plt.style.use('bmh')\n",
    "from scipy.signal import get_window"
   ]
  },
  {
   "cell_type": "markdown",
   "metadata": {},
   "source": [
    "## COLA - Constant Overlap-Add\n",
    "Para que una ventana sea $\\rm{COLA}(R)$ debe cumplirse $\\displaystyle{\\sum_{m=-\\infty}^{\\infty}w(n-mR)=C}, C=\\rm{cte}$, no necesariamente 1."
   ]
  },
  {
   "cell_type": "code",
   "execution_count": 2,
   "metadata": {
    "code_folding": [
     0
    ],
    "collapsed": false,
    "jupyter": {
     "outputs_hidden": false
    },
    "run_control": {
     "read_only": false
    }
   },
   "outputs": [],
   "source": [
    "def colaplot(win='bartlett', periodic=False, M=100, R=50):\n",
    "    Nm = -50\n",
    "    NM = 150\n",
    "    n = np.r_[Nm:NM+1:1]\n",
    "    idx0 = np.where(n==0)[0][0]\n",
    "    x = np.zeros(n.size)\n",
    "    nw = np.r_[0:M:1]\n",
    "    w = get_window(win, M, fftbins=periodic)\n",
    "    \n",
    "    idx = idx0\n",
    "    cps = []\n",
    "    while (idx <= len(n)):\n",
    "        if idx+M-1 < len(n):\n",
    "            x[idx:idx+M] += w\n",
    "        else:\n",
    "            x[idx:] += w[0:len(n)-idx]\n",
    "        cps.append(idx-idx0)\n",
    "        idx += R\n",
    "    idx = idx0-R\n",
    "    while (idx+M-1 >= 0):\n",
    "        if idx >= 0:\n",
    "            x[idx:idx+M] += w\n",
    "        else:\n",
    "            x[0:idx+M] += w[-M-idx:]\n",
    "        cps.append(idx-idx0)\n",
    "        idx -= R\n",
    "    plt.subplots(1, 1, figsize=(12, 4))\n",
    "    for cp in cps:\n",
    "        plt.plot(np.arange(cp, cp+M), w, 'b:')\n",
    "    C = np.full_like(x, x[idx0])\n",
    "    color = 'g' if np.allclose(x, C) else 'r'\n",
    "    plt.plot(n, x, color + 'o')\n",
    "    plt.axis([Nm, NM, min(-0.1, np.min(x))*1.1, max(np.max(x), 1.0)*1.1])\n",
    "    plt.axvline(0, linewidth=1, color='k')\n",
    "    plt.axhline(0, linewidth=1, color='k')"
   ]
  },
  {
   "cell_type": "code",
   "execution_count": 4,
   "metadata": {
    "code_folding": [],
    "collapsed": false,
    "jupyter": {
     "outputs_hidden": false
    },
    "run_control": {
     "read_only": false
    }
   },
   "outputs": [
    {
     "data": {
      "application/vnd.jupyter.widget-view+json": {
       "model_id": "d846c03617914119b9dc2a25b487184a",
       "version_major": 2,
       "version_minor": 0
      },
      "text/plain": [
       "interactive(children=(Dropdown(description='win', index=5, options=('boxcar', 'triang', 'blackman', 'hamming',…"
      ]
     },
     "metadata": {},
     "output_type": "display_data"
    },
    {
     "data": {
      "text/plain": [
       "<function __main__.colaplot(win='bartlett', periodic=False, M=100, R=50)>"
      ]
     },
     "execution_count": 4,
     "metadata": {},
     "output_type": "execute_result"
    }
   ],
   "source": [
    "interact(colaplot, win=['boxcar', 'triang', 'blackman', 'hamming', 'hann', 'bartlett', 'flattop', 'parzen',\n",
    "                        'bohman', 'blackmanharris', 'nuttall', 'barthann'], M=(1, 128, 1), R=(1, 64, 1))"
   ]
  },
  {
   "cell_type": "code",
   "execution_count": null,
   "metadata": {
    "code_folding": [],
    "collapsed": true,
    "jupyter": {
     "outputs_hidden": true
    },
    "run_control": {
     "read_only": false
    }
   },
   "outputs": [],
   "source": []
  },
  {
   "cell_type": "code",
   "execution_count": null,
   "metadata": {
    "collapsed": true,
    "jupyter": {
     "outputs_hidden": true
    },
    "run_control": {
     "read_only": false
    }
   },
   "outputs": [],
   "source": []
  },
  {
   "cell_type": "code",
   "execution_count": null,
   "metadata": {
    "collapsed": true,
    "jupyter": {
     "outputs_hidden": true
    }
   },
   "outputs": [],
   "source": []
  }
 ],
 "metadata": {
  "kernelspec": {
   "display_name": "Python 3",
   "language": "python",
   "name": "python3"
  },
  "language_info": {
   "codemirror_mode": {
    "name": "ipython",
    "version": 3
   },
   "file_extension": ".py",
   "mimetype": "text/x-python",
   "name": "python",
   "nbconvert_exporter": "python",
   "pygments_lexer": "ipython3",
   "version": "3.7.5"
  },
  "widgets": {
   "state": {
    "01a72ad6c49f413bb8ff4b04aeacacdf": {
     "views": [
      {
       "cell_index": 3
      }
     ]
    }
   },
   "version": "1.2.0"
  }
 },
 "nbformat": 4,
 "nbformat_minor": 4
}
