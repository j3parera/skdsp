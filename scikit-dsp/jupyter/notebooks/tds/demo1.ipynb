{
 "cells": [
  {
   "cell_type": "markdown",
   "metadata": {},
   "source": [
    "# OLDIE, no funciona"
   ]
  },
  {
   "cell_type": "code",
   "execution_count": 1,
   "metadata": {
    "code_folding": [],
    "collapsed": false,
    "run_control": {
     "read_only": false
    }
   },
   "outputs": [
    {
     "name": "stdout",
     "output_type": "stream",
     "text": [
      "Using matplotlib backend: TkAgg\n",
      "Populating the interactive namespace from numpy and matplotlib\n",
      "Warning: Cannot change to a different GUI toolkit: notebook. Using tk instead.\n"
     ]
    }
   ],
   "source": [
    "# preámbulo\n",
    "%pylab\n",
    "from ipywidgets import interact\n",
    "%matplotlib notebook"
   ]
  },
  {
   "cell_type": "markdown",
   "metadata": {},
   "source": [
    "## Gráfica de $s[\\pm n - n_0]$"
   ]
  },
  {
   "cell_type": "code",
   "execution_count": 10,
   "metadata": {
    "code_folding": [],
    "collapsed": false,
    "run_control": {
     "read_only": false
    }
   },
   "outputs": [],
   "source": [
    "# demo 1\n",
    "# from skdsp.signal.util import discrete_xvar\n",
    "from skdsp.signal.discrete import Delta, Step, Ramp, Rect, Triang\n",
    "import sympy as sp\n",
    "def kk(n0=0, flip=False, signal='delta', width=1):\n",
    "    # n = discrete_xvar\n",
    "    # var = (-1 if flip else 1)*(n - n0)\n",
    "    # varstr = var_str(-n0, flip)\n",
    "    if signal == 'delta':\n",
    "        s = Delta()\n",
    "        func_str = r'$\\delta[%s]$' % (varstr)\n",
    "    elif signal == 'escalón':\n",
    "        s = step(var)\n",
    "        func_str = r'$u[%s]$' % (varstr)\n",
    "    elif signal == 'exponencial':\n",
    "        s = Pow(0.9, var)*step(var)\n",
    "        func_str = r'$0.9^{(%s)}u[%s]$' % (varstr, varstr)\n",
    "    elif signal == 'rampa':\n",
    "        s = 0.1*ramp(var)\n",
    "        func_str = r'$0.1r[%s]$' % (varstr)\n",
    "    elif signal == 'variadito':\n",
    "        s = 3.0*delta(var) - 2*delta(var-1) + 2*delta(var-2) - delta(var-3) + step(var-5)\n",
    "        func_str = r'$x[%s]$' % (varstr)\n",
    "    elif signal == 'rectángulo':\n",
    "        s = rect(var, width)\n",
    "        func_str = r'$\\Pi_{%d}[%s]$' % (width, varstr)\n",
    "    elif signal == 'triángulo':\n",
    "        s = triang(var, width)\n",
    "        func_str = r'$\\Delta_{%d}[%s]$' % (width, varstr)\n",
    "    fd = lambdify(n, s)\n",
    "    plt.figure(figsize=[12, 4])\n",
    "    x = np.arange(-20, 21)\n",
    "    y = fd(x)\n",
    "    ax = plot(x, y, plt.gca())\n",
    "    ax.set_title(func_str, size=18, loc='left')\n",
    "    ax.grid()"
   ]
  },
  {
   "cell_type": "code",
   "execution_count": 8,
   "metadata": {
    "collapsed": false
   },
   "outputs": [
    {
     "ename": "NameError",
     "evalue": "name 'var_str' is not defined",
     "output_type": "error",
     "traceback": [
      "\u001b[0;31m---------------------------------------------------------------------------\u001b[0m",
      "\u001b[0;31mNameError\u001b[0m                                 Traceback (most recent call last)",
      "\u001b[0;32m<ipython-input-7-1ca9c601c66a>\u001b[0m in \u001b[0;36mkk\u001b[0;34m(n0, flip, signal, width)\u001b[0m\n\u001b[1;32m      5\u001b[0m     \u001b[0mn\u001b[0m \u001b[0;34m=\u001b[0m \u001b[0msp\u001b[0m\u001b[0;34m.\u001b[0m\u001b[0msymbols\u001b[0m\u001b[0;34m(\u001b[0m\u001b[0;34m'n'\u001b[0m\u001b[0;34m,\u001b[0m \u001b[0minteger\u001b[0m\u001b[0;34m=\u001b[0m\u001b[0;32mTrue\u001b[0m\u001b[0;34m)\u001b[0m\u001b[0;34m\u001b[0m\u001b[0m\n\u001b[1;32m      6\u001b[0m     \u001b[0mvar\u001b[0m \u001b[0;34m=\u001b[0m \u001b[0;34m(\u001b[0m\u001b[0;34m-\u001b[0m\u001b[0;36m1\u001b[0m \u001b[0;32mif\u001b[0m \u001b[0mflip\u001b[0m \u001b[0;32melse\u001b[0m \u001b[0;36m1\u001b[0m\u001b[0;34m)\u001b[0m\u001b[0;34m*\u001b[0m\u001b[0;34m(\u001b[0m\u001b[0mn\u001b[0m \u001b[0;34m-\u001b[0m \u001b[0mn0\u001b[0m\u001b[0;34m)\u001b[0m\u001b[0;34m\u001b[0m\u001b[0m\n\u001b[0;32m----> 7\u001b[0;31m     \u001b[0mvarstr\u001b[0m \u001b[0;34m=\u001b[0m \u001b[0mvar_str\u001b[0m\u001b[0;34m(\u001b[0m\u001b[0;34m-\u001b[0m\u001b[0mn0\u001b[0m\u001b[0;34m,\u001b[0m \u001b[0mflip\u001b[0m\u001b[0;34m)\u001b[0m\u001b[0;34m\u001b[0m\u001b[0m\n\u001b[0m\u001b[1;32m      8\u001b[0m     \u001b[0;32mif\u001b[0m \u001b[0msignal\u001b[0m \u001b[0;34m==\u001b[0m \u001b[0;34m'delta'\u001b[0m\u001b[0;34m:\u001b[0m\u001b[0;34m\u001b[0m\u001b[0m\n\u001b[1;32m      9\u001b[0m         \u001b[0ms\u001b[0m \u001b[0;34m=\u001b[0m \u001b[0mdelta\u001b[0m\u001b[0;34m(\u001b[0m\u001b[0mvar\u001b[0m\u001b[0;34m)\u001b[0m\u001b[0;34m\u001b[0m\u001b[0m\n",
      "\u001b[0;31mNameError\u001b[0m: name 'var_str' is not defined"
     ]
    },
    {
     "data": {
      "text/plain": [
       "<function __main__.kk>"
      ]
     },
     "execution_count": 8,
     "metadata": {},
     "output_type": "execute_result"
    }
   ],
   "source": [
    "interact(kk, n0=(-10,10,1), flip=False, width=(1,15,2),\n",
    "          signal=('delta', 'escalón', 'exponencial',\n",
    "                  'rampa', 'variadito', 'rectángulo', 'triángulo'))"
   ]
  },
  {
   "cell_type": "markdown",
   "metadata": {},
   "source": [
    "## Gráfica de $s(\\pm \\alpha t - t_0)$"
   ]
  },
  {
   "cell_type": "code",
   "execution_count": 9,
   "metadata": {
    "collapsed": false,
    "run_control": {
     "read_only": false
    }
   },
   "outputs": [
    {
     "data": {
      "image/png": "[encoded data removed]",
      "text/plain": [
       "<matplotlib.figure.Figure at 0x7f0eb0e9cba8>"
      ]
     },
     "metadata": {},
     "output_type": "display_data"
    }
   ],
   "source": [
    "%matplotlib inline\n",
    "from tds_old.signals.continuous import delta, step, ramp, rect, triang, plot, lambdify, var_str\n",
    "\n",
    "@interact(t0=(-10,10,0.1), flip=False, width=(1,15), alpha=(0.5, 2, 0.1),\n",
    "          signal=('delta', 'escalón', 'exponencial',\n",
    "                  'rampa', 'variadito', 'rectángulo',\n",
    "                  'triángulo'))\n",
    "def kk(t0=0, flip=False, width=1, alpha=1, signal='delta'):\n",
    "    t = symbols('t')\n",
    "    var = (-1 if flip else 1)*alpha*t - t0\n",
    "    varstr = var_str(-t0, flip, alpha)\n",
    "    if signal == 'delta':\n",
    "        s = delta(var)\n",
    "        func_str = r'$\\delta(%s)$' % (varstr)\n",
    "    elif signal == 'escalón':\n",
    "        s = step(var)\n",
    "        func_str = r'$u(%s)$' % (varstr)\n",
    "    elif signal == 'exponencial':\n",
    "        s = Pow(0.9, var)*step(var)\n",
    "        func_str = r'$0.9^{(%s)}u(%s)$' % (varstr, varstr)\n",
    "    elif signal == 'rampa':\n",
    "        s = 0.1*ramp(var)\n",
    "        func_str = r'$0.1r(%s)$' % (varstr)\n",
    "    elif signal == 'variadito':\n",
    "        s = 3.0*delta(var) - 2*delta(var-1) + 2*delta(var-2) - delta(var-3) + step(var-5)\n",
    "        func_str = r'$x(%s)$' % (varstr)\n",
    "    elif signal == 'rectángulo':\n",
    "        s = rect(var, width)\n",
    "        func_str = r'$\\Pi_{%d}(%s)$' % (width, varstr)\n",
    "    elif signal == 'triángulo':\n",
    "        s = triang(var, width)\n",
    "        func_str = r'$\\Delta_{%d}(%s)$' % (width, varstr)\n",
    "    fd = lambdify(t, s)\n",
    "    plt.figure(figsize=[12, 4])\n",
    "    x = np.arange(-20, 21, 0.001)\n",
    "    y = fd(x)\n",
    "    ax = plot(x, y, plt.gca())\n",
    "    ax.set_title(func_str, size=18, loc='left')\n",
    "    ax.grid()"
   ]
  },
  {
   "cell_type": "code",
   "execution_count": 57,
   "metadata": {
    "collapsed": false,
    "run_control": {
     "read_only": false
    }
   },
   "outputs": [
    {
     "data": {
      "text/plain": [
       "array([ 0.,  0.,  0.,  0.,  0.])"
      ]
     },
     "execution_count": 57,
     "metadata": {},
     "output_type": "execute_result"
    }
   ],
   "source": [
    "x = np.zeros(5)\n",
    "x"
   ]
  },
  {
   "cell_type": "code",
   "execution_count": 58,
   "metadata": {
    "collapsed": true,
    "run_control": {
     "read_only": false
    }
   },
   "outputs": [],
   "source": [
    "n = np.arange(0,5)"
   ]
  },
  {
   "cell_type": "code",
   "execution_count": 59,
   "metadata": {
    "collapsed": false,
    "run_control": {
     "read_only": false
    }
   },
   "outputs": [
    {
     "data": {
      "text/plain": [
       "array([False, False,  True,  True, False], dtype=bool)"
      ]
     },
     "execution_count": 59,
     "metadata": {},
     "output_type": "execute_result"
    }
   ],
   "source": [
    "(n > 1) & (n < 4)"
   ]
  },
  {
   "cell_type": "code",
   "execution_count": 70,
   "metadata": {
    "collapsed": false,
    "run_control": {
     "read_only": false
    }
   },
   "outputs": [],
   "source": [
    "x[(n > 1.5) & (n < 3.5)] = np.array([63, 5])"
   ]
  },
  {
   "cell_type": "code",
   "execution_count": 66,
   "metadata": {
    "collapsed": false,
    "run_control": {
     "read_only": false
    }
   },
   "outputs": [
    {
     "data": {
      "text/plain": [
       "array([  0.,   0.,  63.,   5.,   0.])"
      ]
     },
     "execution_count": 66,
     "metadata": {},
     "output_type": "execute_result"
    }
   ],
   "source": [
    "x"
   ]
  },
  {
   "cell_type": "code",
   "execution_count": null,
   "metadata": {
    "collapsed": true,
    "run_control": {
     "read_only": false
    }
   },
   "outputs": [],
   "source": []
  }
 ],
 "metadata": {
  "kernelspec": {
   "display_name": "Python 3",
   "language": "python",
   "name": "python3"
  },
  "language_info": {
   "codemirror_mode": {
    "name": "ipython",
    "version": 3
   },
   "file_extension": ".py",
   "mimetype": "text/x-python",
   "name": "python",
   "nbconvert_exporter": "python",
   "pygments_lexer": "ipython3",
   "version": "3.5.2+"
  },
  "widgets": {
   "state": {
    "a4a547b7de0b4f28a4062736890a907a": {
     "views": [
      {
       "cell_index": 3
      }
     ]
    }
   },
   "version": "1.2.0"
  }
 },
 "nbformat": 4,
 "nbformat_minor": 0
}
