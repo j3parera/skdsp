{
 "cells": [
  {
   "cell_type": "code",
   "execution_count": 1,
   "metadata": {
    "collapsed": false,
    "jupyter": {
     "outputs_hidden": false
    },
    "run_control": {
     "read_only": false
    }
   },
   "outputs": [
    {
     "name": "stdout",
     "output_type": "stream",
     "text": [
      "Populating the interactive namespace from numpy and matplotlib\n"
     ]
    }
   ],
   "source": [
    "%pylab inline"
   ]
  },
  {
   "cell_type": "markdown",
   "metadata": {},
   "source": [
    "Longitud de la señal, $N$, y vectores de valores de $n$ y de $k$."
   ]
  },
  {
   "cell_type": "code",
   "execution_count": 2,
   "metadata": {
    "run_control": {
     "read_only": false
    }
   },
   "outputs": [],
   "source": [
    "N = 16\n",
    "nn = np.arange(0, N)\n",
    "kk = np.arange(0, N)"
   ]
  },
  {
   "cell_type": "markdown",
   "metadata": {},
   "source": [
    "Un periodo de la señal $\\tilde x[n] = \\sum_{r=-\\infty}^{\\infty}\\delta(n-rN)$"
   ]
  },
  {
   "cell_type": "code",
   "execution_count": 3,
   "metadata": {
    "run_control": {
     "read_only": false
    }
   },
   "outputs": [],
   "source": [
    "xs = (nn == 0).astype(np.float_)"
   ]
  },
  {
   "cell_type": "markdown",
   "metadata": {},
   "source": [
    "Desarrollo en serie de Fourier de $\\tilde x[n]$:\n",
    "$$\\tilde X[k] = \\sum_{n=0}^{N-1} \\tilde x[n]\\rm{e}^{\\rm{j}\\frac{2\\pi k}{N}n}$$"
   ]
  },
  {
   "cell_type": "code",
   "execution_count": 4,
   "metadata": {
    "code_folding": [],
    "collapsed": false,
    "jupyter": {
     "outputs_hidden": false
    },
    "run_control": {
     "read_only": false
    }
   },
   "outputs": [],
   "source": [
    "Xk = np.zeros(N, np.complex_)\n",
    "for k0 in np.arange(0, N):\n",
    "    Xk[k0] = np.sum(xs*np.exp(-1j*(2*np.pi*k0/N)*nn))"
   ]
  },
  {
   "cell_type": "markdown",
   "metadata": {},
   "source": [
    "Desarrollo inverso (síntesis):"
   ]
  },
  {
   "cell_type": "code",
   "execution_count": 7,
   "metadata": {
    "code_folding": [],
    "collapsed": false,
    "jupyter": {
     "outputs_hidden": false
    },
    "run_control": {
     "read_only": false
    }
   },
   "outputs": [],
   "source": [
    "N = 100\n",
    "def sf(M=2):\n",
    "    M = int(M)\n",
    "    nn = np.arange(0, N)\n",
    "    xs = np.r_[[-1]*int(N/4), [1]*int(N/2), [-1]*int(N/4)] # 2*(nn <= N/2).astype(np.float_)-1.0\n",
    "    kk = np.arange(0, N)\n",
    "    Xk = np.zeros(N, np.complex_)\n",
    "    for k0 in range(N):\n",
    "        Xk[k0] = np.sum(xs*np.exp(-1j*(2*np.pi*k0/N)*nn))\n",
    "    xs2 = np.zeros(N, np.complex_)\n",
    "    for n0 in range(N):\n",
    "        for k0 in np.arange(M):\n",
    "            if k0 != N/2:\n",
    "                xs2[n0] += (1/N)*Xk[k0]*np.exp(1j*(2*np.pi*k0/N)*n0)\n",
    "        for k0 in range(-M+1, 0):\n",
    "            xs2[n0] += (1/N)*Xk[k0]*np.exp(1j*(2*np.pi*k0/N)*n0)\n",
    "    plt.figure(figsize=(20, 4))\n",
    "    plt.stem(nn, np.real(xs2), use_line_collection=True)\n",
    "    plt.axis([nn[0]-0.5, nn[-1]+0.5, -1.4, 1.4])\n",
    "    plt.grid(True)"
   ]
  },
  {
   "cell_type": "code",
   "execution_count": 8,
   "metadata": {
    "collapsed": false,
    "jupyter": {
     "outputs_hidden": false
    },
    "run_control": {
     "read_only": false
    }
   },
   "outputs": [
    {
     "data": {
      "application/vnd.jupyter.widget-view+json": {
       "model_id": "1d793a3d576e40399d6d6ee435bcd3b0",
       "version_major": 2,
       "version_minor": 0
      },
      "text/plain": [
       "interactive(children=(FloatSlider(value=2.0, description='M', max=51.0, min=1.0, step=2.0), Output()), _dom_cl…"
      ]
     },
     "metadata": {},
     "output_type": "display_data"
    },
    {
     "data": {
      "text/plain": [
       "<function __main__.sf(M=2)>"
      ]
     },
     "execution_count": 8,
     "metadata": {},
     "output_type": "execute_result"
    }
   ],
   "source": [
    "from ipywidgets import interact\n",
    "interact(sf, M=(1, 1+(N/2), 2))"
   ]
  },
  {
   "cell_type": "code",
   "execution_count": null,
   "metadata": {
    "collapsed": true,
    "jupyter": {
     "outputs_hidden": true
    },
    "run_control": {
     "read_only": false
    }
   },
   "outputs": [],
   "source": []
  }
 ],
 "metadata": {
  "kernelspec": {
   "display_name": "Python 3",
   "language": "python",
   "name": "python3"
  },
  "language_info": {
   "codemirror_mode": {
    "name": "ipython",
    "version": 3
   },
   "file_extension": ".py",
   "mimetype": "text/x-python",
   "name": "python",
   "nbconvert_exporter": "python",
   "pygments_lexer": "ipython3",
   "version": "3.7.5"
  },
  "widgets": {
   "state": {
    "39f91df977cb401b9eeb43796756c11a": {
     "views": [
      {
       "cell_index": 9
      }
     ]
    }
   },
   "version": "1.2.0"
  }
 },
 "nbformat": 4,
 "nbformat_minor": 4
}
