{
 "cells": [
  {
   "cell_type": "markdown",
   "metadata": {},
   "source": [
    "FALTAN COSAS, NO ESTÁ ACABADO"
   ]
  },
  {
   "cell_type": "code",
   "execution_count": 15,
   "metadata": {
    "collapsed": false,
    "run_control": {
     "read_only": false
    }
   },
   "outputs": [
    {
     "name": "stdout",
     "output_type": "stream",
     "text": [
      "Using matplotlib backend: TkAgg\n",
      "Populating the interactive namespace from numpy and matplotlib\n"
     ]
    }
   ],
   "source": [
    "%pylab\n",
    "%matplotlib inline\n",
    "from ipywidgets import interact"
   ]
  },
  {
   "cell_type": "code",
   "execution_count": 365,
   "metadata": {
    "collapsed": true
   },
   "outputs": [],
   "source": [
    "def cconv(x1, x2, N=None):\n",
    "    import scipy.linalg as lg\n",
    "\n",
    "    # Como señales sería algo así\n",
    "    # if N == None:\n",
    "    #     N = x1.length() + x2.length() - 1\n",
    "    # r = range(0, N)\n",
    "    # x1e = x1.compute(r)\n",
    "    # x2e = x2.compute(r)\n",
    "    # return x1e.dot(lg.circulant(x2e).T)\n",
    "    \n",
    "    # xk.data lengths\n",
    "    x1l = x1.shape[0]\n",
    "    x2l = x2.shape[0]\n",
    "    \n",
    "    # if N not specified, set large enough \n",
    "    if N == None:\n",
    "        N = x1l+x2l-1\n",
    "\n",
    "    # force x1.data of length N \n",
    "    if x1l >= N:\n",
    "        x1e = x1[0:N]\n",
    "    else:\n",
    "        x1e = np.r_[x1, [0]*(N-x1l)]\n",
    "    \n",
    "    # force x2.data of length N \n",
    "    x2l = len(x2)\n",
    "    if x2l >= N:\n",
    "        x2e = x2[0:N]\n",
    "    else:\n",
    "        x2e = np.r_[x2, [0]*(N-x2l)]\n",
    "    \n",
    "    # compute circular convolution\n",
    "    return x1e.dot(lg.circulant(x2e).T)"
   ]
  },
  {
   "cell_type": "code",
   "execution_count": 373,
   "metadata": {
    "code_folding": [],
    "collapsed": false
   },
   "outputs": [],
   "source": [
    "offy = 0.5\n",
    "offx = 0.5\n",
    "Mmax = 10\n",
    "def ccdemo(P=4, L=5, M=7, n1=0):\n",
    "    h = r_[[1.0]*P, [0.0]*(M-P)]\n",
    "    ht = tile(h, 3)\n",
    "    h0 = r_[[0.0]*M, h, [0.0]*M]\n",
    "    x = r_[1.0+arange(L), [0.0]*(M-L)]\n",
    "    x = x/max(x)\n",
    "    xf = x[::-1]\n",
    "    xf0 = r_[[0.0]*(n1+1), xf, [0.0]*(2*M-(n1+1))]\n",
    "    y0 = convolve(h[:P], x[:L])\n",
    "    xt = r_[xf[-1], tile(xf, 3)[:-1]]\n",
    "    n = arange(-M, 2*M)\n",
    "    figure(figsize(12, 5))\n",
    "    subplot(3, 2, 1)\n",
    "    stem(n, ht, markerfmt='or', basefmt='k', linefmt='r')\n",
    "    axhline(0, color='k')\n",
    "    for k in range(-M, 2*M, M):\n",
    "        axvline(k, color='k', ls='--')\n",
    "    axis([n[0]-offx, n[-1]+offx, -1-offy, 1+offy])\n",
    "    subplot(3, 2, 3)\n",
    "    stem(n, xt, markerfmt='ob', basefmt='k', linefmt='b')\n",
    "    axhline(0, color='k')\n",
    "    for k in range(-M, 2*M, M):\n",
    "        axvline(k, color='k', ls='--')\n",
    "    axis([n[0]-offx, n[-1]+offx, -1-offy, 1+offy])\n",
    "    subplot(3, 2, 2)\n",
    "    stem(n, h0, markerfmt='or', basefmt='k', linefmt='r')\n",
    "    axhline(0, color='k')\n",
    "    axvline(0, color='k', ls='--')\n",
    "    axis([n[0]-offx, n[-1]+offx, -1-offy, 1+offy])\n",
    "    subplot(3, 2, 4)\n",
    "    stem(n, xf0, markerfmt='ob', basefmt='k', linefmt='b')\n",
    "    axhline(0, color='k')\n",
    "    axvline(0, color='k', ls='--')\n",
    "    axis([n[0]-offx, n[-1]+offx, -1-offy, 1+offy])\n",
    "    subplot(3, 2, 5)\n",
    "    yc = cconv(h[:P], x[:L], M)\n",
    "    stem(n, tile(yc, 3), markerfmt='om', basefmt='k', linefmt='m')\n",
    "    axhline(0, color='k')\n",
    "    axvline(0, color='k', ls='--')\n",
    "    axis([n[0]-offx, n[-1]+offx, -1-offy, max(y0)+offy])\n",
    "    subplot(3, 2, 6)\n",
    "    ns = min(n1, len(y0)-1)\n",
    "    y = r_[[0.0]*M, y0[0:ns+1], [0.0]*(2*M-(L+P-1)+(L+P-1)-(ns+1))]\n",
    "    stem(n, y, markerfmt='om', basefmt='k', linefmt='m')\n",
    "    axhline(0, color='k')\n",
    "    axvline(0, color='k', ls='--')\n",
    "    axis([n[0]-offx, n[-1]+offx, -1-offy, max(y0)+offy])\n"
   ]
  },
  {
   "cell_type": "code",
   "execution_count": 374,
   "metadata": {
    "collapsed": false
   },
   "outputs": [
    {
     "data": {
      "image/png": "[encoded data removed]",
      "text/plain": [
       "<matplotlib.figure.Figure at 0x7f182df43470>"
      ]
     },
     "metadata": {},
     "output_type": "display_data"
    }
   ],
   "source": [
    "interact(ccdemo, P=(1, Mmax), L=(1, Mmax), M=(1, Mmax), n1=(0, Mmax));"
   ]
  },
  {
   "cell_type": "code",
   "execution_count": null,
   "metadata": {
    "collapsed": true
   },
   "outputs": [],
   "source": []
  }
 ],
 "metadata": {
  "kernelspec": {
   "display_name": "Python 3",
   "language": "python",
   "name": "python3"
  },
  "language_info": {
   "codemirror_mode": {
    "name": "ipython",
    "version": 3
   },
   "file_extension": ".py",
   "mimetype": "text/x-python",
   "name": "python",
   "nbconvert_exporter": "python",
   "pygments_lexer": "ipython3",
   "version": "3.5.2"
  },
  "widgets": {
   "state": {
    "4beae9767c8548fcaf127049867e9799": {
     "views": [
      {
       "cell_index": 3
      }
     ]
    }
   },
   "version": "1.2.0"
  }
 },
 "nbformat": 4,
 "nbformat_minor": 1
}
