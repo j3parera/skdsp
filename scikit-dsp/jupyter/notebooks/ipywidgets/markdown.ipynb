{
 "cells": [
  {
   "cell_type": "markdown",
   "metadata": {},
   "source": [
    "# 1 Señales\n",
    "## 2 Señales\n",
    "### 3 Señales\n",
    "#### 4 Señales\n",
    "##### 5 Señales\n",
    "###### 6 Señales\n",
    "\n",
    "In _the_ **words** of **_Abraham Lincoln_**:\n",
    "\n",
    "> Pardon my French `monospace`\n",
    "\n",
    "[Search for it.](http://www.google.com)\n",
    "\n",
    "This site was built using [Filtros 1](filtros1.ipynb).\n",
    "\n",
    "- George Washington\n",
    "- John Adams\n",
    "- Thomas Jefferson\n",
    "\n",
    "KK\n",
    "\n",
    "1. James Madison\n",
    "2. James Monroe\n",
    "3. John Quincy Adams\n",
    "\n",
    "KK\n",
    "\n",
    "1. Make my changes\n",
    "  1. Fix bug\n",
    "  2. Improve formatting\n",
    "    * Make the headings bigger\n",
    "2. Push my commits to GitHub\n",
    "3. Open a pull request\n",
    "  * Describe my changes\n",
    "  * Mention all the members of my team\n",
    "    * Ask for feedback\n",
    "    \n",
    "Do you want to [see something fun][a fun place]?\n",
    "\n",
    "Well, do I have [the website for you][another fun place]!\n",
    "\n",
    "[a fun place]: http://www.zombo.com\n",
    "[another fun place]: http://www.stumbleupon.com\n",
    "\n",
    "![A representation of Octdrey Catburn](http://octodex.github.com/images/octdrey-catburn.jpg)\n",
    "\n",
    "Soft break. Añadir dos espacios al final de línea\n",
    "\n",
    "We pictured the meek mild creatures where  \n",
    "They dwelt in their strawy pen,  \n",
    "Nor did it occur to one of us there  \n",
    "To doubt they were kneeling then.\n",
    "\n",
    "1. Crack three eggs over a bowl.  \n",
    "   Now, you're going to want to crack the eggs in such a way that you don't make a mess.  \n",
    "   If you _do_ make a mess, use a towel to clean it up!\n",
    "\n",
    "2. Pour a gallon of milk into the bowl.  \n",
    "   Basically, take the same guidance as above: don't be messy, but if you are, clean it up!"
   ]
  },
  {
   "cell_type": "markdown",
   "metadata": {},
   "source": [
    "| First Header  | Second Header |\n",
    "| ------------- | ------------- |\n",
    "| Content Cell  | Content Cell  |\n",
    "| Content Cell  | Content Cell  |"
   ]
  },
  {
   "cell_type": "markdown",
   "metadata": {},
   "source": [
    "| Command | Description |\n",
    "| --- | --- |\n",
    "| git status | List all new or modified files |\n",
    "| git diff | Show file differences that haven't been staged |"
   ]
  },
  {
   "cell_type": "markdown",
   "metadata": {},
   "source": [
    "| Command | Description |\n",
    "| --- | --- |\n",
    "| `git status` | List all *new or modified* files |\n",
    "| `git diff` | Show file differences that **haven't been** staged |"
   ]
  },
  {
   "cell_type": "markdown",
   "metadata": {},
   "source": [
    "| Left-aligned | Center-aligned | Right-aligned |\n",
    "| :---         |     :---:      |          ---: |\n",
    "| git status   | git status     | git status    |\n",
    "| git diff     | git diff       | git diff      |"
   ]
  },
  {
   "cell_type": "markdown",
   "metadata": {},
   "source": [
    "```ruby\n",
    "require 'redcarpet'\n",
    "markdown = Redcarpet.new(\"Hello World!\")\n",
    "puts markdown.to_html\n",
    "```"
   ]
  },
  {
   "cell_type": "code",
   "execution_count": null,
   "metadata": {
    "collapsed": true,
    "run_control": {
     "read_only": false
    }
   },
   "outputs": [],
   "source": []
  }
 ],
 "metadata": {
  "kernelspec": {
   "display_name": "Python 3",
   "language": "python",
   "name": "python3"
  },
  "language_info": {
   "codemirror_mode": {
    "name": "ipython",
    "version": 3
   },
   "file_extension": ".py",
   "mimetype": "text/x-python",
   "name": "python",
   "nbconvert_exporter": "python",
   "pygments_lexer": "ipython3",
   "version": "3.5.2+"
  }
 },
 "nbformat": 4,
 "nbformat_minor": 0
}
