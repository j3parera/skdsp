{
 "cells": [
  {
   "cell_type": "code",
   "execution_count": 1,
   "metadata": {
    "collapsed": false,
    "run_control": {
     "read_only": false
    }
   },
   "outputs": [],
   "source": [
    "import matplotlib.pyplot as plt\n",
    "%matplotlib inline\n",
    "import skdsp.signal.discrete as ds\n",
    "import numpy as np\n",
    "import sympy as sp\n",
    "import scipy.fftpack as fftp\n",
    "from ipywidgets import fixed, interact, interactive, IntSlider, FloatSlider, Checkbox, \\\n",
    "ToggleButton, ToggleButtons, HBox, VBox\n",
    "from IPython.display import display"
   ]
  },
  {
   "cell_type": "code",
   "execution_count": 2,
   "metadata": {
    "code_folding": [
     6,
     9
    ],
    "collapsed": false,
    "run_control": {
     "read_only": false
    }
   },
   "outputs": [],
   "source": [
    "Nw = IntSlider(value=16, min=2, max=32, step=1, continuous_update=False, description='N:')\n",
    "kw = IntSlider(value=1, min=0, max=32, step=1, continuous_update=False, description='width:')\n",
    "ow = FloatSlider(value=0, min=-1.0, max=1.0, step=0.1, continuous_update=False, description='offset:')\n",
    "sw = IntSlider(value=0, min=-64, max=64, step=1, continuous_update=False, description='shift:')\n",
    "cw = ToggleButton(value=True, description='DFS centrada')\n",
    "ww = ToggleButtons(options=['Tren de deltas', 'Diente de sierra', 'Cuadrada'], description='Señal:')\n",
    "def dsfdemo(signal='Tren de deltas', N=8, width=0, offset=0, shift=0, center=True):\n",
    "    if width > N:\n",
    "        raise ValueError('width debe ser menor que N')\n",
    "    if signal == 'Tren de deltas':\n",
    "        # s = 0.5 + 0.5*ds.Square(N, 1)\n",
    "        s = ds.DeltaTrain(N)\n",
    "        kw.disabled = True\n",
    "    if signal == 'Diente de sierra':\n",
    "        s = ds.Sawtooth(N, width)\n",
    "        kw.disabled = False\n",
    "    elif signal == 'Cuadrada':\n",
    "        s = ds.Square(N, width)\n",
    "        kw.disabled = False\n",
    "    s = offset + (s >> shift)\n",
    "    npts = 32\n",
    "    n = np.arange(-npts, npts+1)\n",
    "    plt.figure(figsize=(20, 7))\n",
    "    plt.subplot(2, 2, (1, 2))\n",
    "    plt.stem(n, s[-npts:npts+1], markerfmt='bo', linefmt='b-', basefmt='k-')\n",
    "    plt.axis([-npts-0.5, npts+0.5, -2.1, 2.1])\n",
    "    plt.axvline(0, color='k')\n",
    "    plt.axhline(0, color='k')\n",
    "    plt.grid(True)\n",
    "    X = s.dfs(N, force=True)\n",
    "    X.real[np.isclose(np.real(X), 0)] = 0\n",
    "    X.imag[np.isclose(np.imag(X), 0)] = 0\n",
    "    if center:\n",
    "        X = fftp.fftshift(X)\n",
    "        kidx = np.arange(-int(N/2), int((N-1)/2)+1)\n",
    "    else:\n",
    "        kidx = np.arange(0, N)\n",
    "    plt.subplot(2, 2, 3)\n",
    "    mX = np.abs(X)\n",
    "    plt.stem(kidx, mX)\n",
    "    min_ = min(0, np.min(mX))\n",
    "    max_ = np.max(mX)\n",
    "    dr = min(1.0, (max_ - min_))\n",
    "    plt.axis([kidx[0]-0.5, kidx[-1]+0.5, min_-0.15*dr, max_+0.15*dr])\n",
    "    plt.axhline(0, color='k')\n",
    "    plt.axvline(0, color='k')\n",
    "    plt.grid(True)\n",
    "    plt.subplot(2, 2, 4)\n",
    "    plt.stem(kidx, np.angle(X))\n",
    "    plt.axis([kidx[0]-0.5, kidx[-1]+0.5, -np.pi-0.5, np.pi+0.5])\n",
    "    plt.axhline(0, color='k')\n",
    "    plt.axvline(0, color='k')\n",
    "    plt.grid(True)\n",
    "ws = HBox(children=[VBox(children=[ww, Nw, kw]), VBox(children=[cw, ow, sw])])\n",
    "w = interactive(dsfdemo, signal=ww, N=Nw, width=kw, offset=ow, shift=sw, center=cw);"
   ]
  },
  {
   "cell_type": "code",
   "execution_count": 3,
   "metadata": {
    "collapsed": false,
    "run_control": {
     "read_only": false
    },
    "scrolled": false
   },
   "outputs": [],
   "source": [
    "display(ws)"
   ]
  },
  {
   "cell_type": "code",
   "execution_count": 4,
   "metadata": {
    "collapsed": false,
    "run_control": {
     "read_only": false
    }
   },
   "outputs": [],
   "source": [
    "# YA no hace falta\n",
    "N = 16\n",
    "S = []\n",
    "for k in range(1, N+1):\n",
    "    s = 0\n",
    "    for k0 in range(0, k):\n",
    "        s += ds.Exponential(sp.exp(sp.I*sp.S.Pi*2*k0/N))\n",
    "    S.append(s/N)"
   ]
  },
  {
   "cell_type": "code",
   "execution_count": 8,
   "metadata": {
    "code_folding": [],
    "collapsed": false,
    "run_control": {
     "read_only": false
    }
   },
   "outputs": [],
   "source": [
    "def dfsexp(N=16, k=1):\n",
    "    s = 0\n",
    "    for k0 in range(0, k):\n",
    "        s += ds.Exponential(sp.exp(sp.I*sp.S.Pi*2*k0/N))\n",
    "    s = s/N\n",
    "    #s = S[k-1]\n",
    "    n = np.arange(-50, 50)\n",
    "    X = s.dfs(N, force=True)\n",
    "    X.real[np.isclose(X.real, 0)] = 0\n",
    "    X.imag[np.isclose(X.imag, 0)] = 0\n",
    "    plt.figure(figsize=(20, 3))\n",
    "    plt.subplot(121)\n",
    "    plt.stem(n, np.real(s[n]), markerfmt='bo', linefmt='b-', basefmt='k-')\n",
    "    plt.stem(n, np.imag(s[n]), markerfmt='ro', linefmt='r-', basefmt='k-')\n",
    "    plt.axis([n[0]-0.5, n[-1]+0.5, -1.1, 1.1])\n",
    "    plt.grid(True)\n",
    "    plt.legend(['parte real', 'parte imaginaria'], loc='lower right')\n",
    "    plt.subplot(122)\n",
    "    k = np.arange(0, N)\n",
    "    plt.stem(k, np.abs(X))\n",
    "    plt.axis([k[0]-0.5, k[-1]+0.5, -0.1, 1.1])\n",
    "    plt.axhline(0, color='k')\n",
    "    plt.axvline(0, color='k')\n",
    "    plt.grid(True)"
   ]
  },
  {
   "cell_type": "code",
   "execution_count": 15,
   "metadata": {
    "code_folding": [
     0
    ],
    "collapsed": true,
    "run_control": {
     "read_only": false
    }
   },
   "outputs": [],
   "source": [
    "# %load ../functions/dfsexp2.py\n",
    "def dfsexp2(N=16, k=1):\n",
    "    #s = 0\n",
    "    #for k0 in range(0, k):\n",
    "    #    s += ds.Exponential(sp.exp(sp.I*sp.S.Pi*2*k0/N))\n",
    "    #s = s/N\n",
    "    s = S[k-1]\n",
    "    n = np.arange(-50, 50)\n",
    "    X = s.dfs(N, force=True)\n",
    "    X.real[np.isclose(X.real, 0)] = 0\n",
    "    X.imag[np.isclose(X.imag, 0)] = 0\n",
    "    plt.figure(figsize=(20, 3))\n",
    "    plt.subplot(121)\n",
    "    plt.stem(n, np.real(s[n]), markerfmt='bo', linefmt='b-', basefmt='k-')\n",
    "    plt.stem(n, np.imag(s[n]), markerfmt='ro', linefmt='r-', basefmt='k-')\n",
    "    plt.axis([n[0]-0.5, n[-1]+0.5, -1.1, 1.1])\n",
    "    plt.grid(True)\n",
    "    plt.subplot(122)\n",
    "    k = np.arange(0, N)\n",
    "    plt.stem(k, np.abs(X))\n",
    "    plt.axis([-0.5, 15.5, -0.1, 1.1])\n",
    "    plt.axhline(0, color='k')\n",
    "    plt.axvline(0, color='k')\n",
    "    plt.grid(True)"
   ]
  },
  {
   "cell_type": "code",
   "execution_count": 9,
   "metadata": {
    "code_folding": [
     0
    ],
    "collapsed": false,
    "run_control": {
     "read_only": false
    }
   },
   "outputs": [
    {
     "data": {
      "image/png": "[encoded data removed]",
      "text/plain": [
       "<matplotlib.figure.Figure at 0x7f895dc43358>"
      ]
     },
     "metadata": {},
     "output_type": "display_data"
    }
   ],
   "source": [
    "from ipywidgets import interact, Label, HBox, VBox\n",
    "Nw = IntSlider(value=16, min=2, max=32, step=1, continuous_update=False, description='N:')\n",
    "kw = IntSlider(value=1, min=1, max=32, step=1, continuous_update=False, description='width:')\n",
    "d2 = interactive(dfsexp, N=Nw, k=kw)\n",
    "display(d2)"
   ]
  },
  {
   "cell_type": "code",
   "execution_count": null,
   "metadata": {
    "collapsed": true,
    "run_control": {
     "read_only": false
    }
   },
   "outputs": [],
   "source": []
  }
 ],
 "metadata": {
  "kernelspec": {
   "display_name": "Python 3",
   "language": "python",
   "name": "python3"
  },
  "language_info": {
   "codemirror_mode": {
    "name": "ipython",
    "version": 3
   },
   "file_extension": ".py",
   "mimetype": "text/x-python",
   "name": "python",
   "nbconvert_exporter": "python",
   "pygments_lexer": "ipython3",
   "version": "3.4.3+"
  },
  "widgets": {
   "state": {
    "026d9abfc31945aeb4548a71c5f6c940": {
     "views": []
    },
    "0e4ff8442c9f4605b05512d75461fb9b": {
     "views": []
    },
    "10fa7a583e4e4edc930d0d5073d54755": {
     "views": []
    },
    "12e80ebc879f48ec91cf0a6946546171": {
     "views": []
    },
    "13d794928cb245238ddd7ad36138f6ad": {
     "views": []
    },
    "184721c786424efaad10b8e26ded92fe": {
     "views": []
    },
    "18bca88cfe1b4b8dbc7e9a8efaf2c656": {
     "views": []
    },
    "1d391cfc1d724d46b082376381104142": {
     "views": []
    },
    "20e095173c114287b5101c0cb1b19b03": {
     "views": []
    },
    "37467dca908b4c8a800e888992b3ed51": {
     "views": []
    },
    "3ae3744261b244f8bb1ca2eaa445fca1": {
     "views": []
    },
    "4b26077ebdc74963ac1ae2fde46d366e": {
     "views": []
    },
    "54b984011b1d4b2bbb31e22a2f794007": {
     "views": []
    },
    "578a776df7fa4323a9575a50d944c15f": {
     "views": []
    },
    "5b0e831617c842d8b4940eb4ef420c43": {
     "views": []
    },
    "76abb8d6dc3d49bfbb1d75ab79d2d681": {
     "views": []
    },
    "81cc3b4657db4051b280ee40fc53fb94": {
     "views": []
    },
    "88cc5e30fbe541acbe315d75eac84bbb": {
     "views": []
    },
    "a21c9ddc010949afab1a5d40bf1106e2": {
     "views": []
    },
    "a63f41c735ce4ab2a80ec6b122dc9d22": {
     "views": []
    },
    "a73143c4d6724bd58d726c508d927069": {
     "views": [
      {
       "cell": {
        "cell_type": "code",
        "execution_count": 3,
        "metadata": {
         "collapsed": false,
         "run_control": {
          "read_only": false
         },
         "scrolled": false,
         "trusted": true
        },
        "outputs": [],
        "source": "display(ws)"
       },
       "cell_index": 2,
       "root": true
      }
     ]
    },
    "a7f026ffb367452188d99bfe6e9468a9": {
     "views": []
    },
    "ab9457cca87e45e8b4f406bf29d131b4": {
     "views": []
    },
    "b409462dab5844fa87594185f3841e22": {
     "views": []
    },
    "c37a351794c449659626c18d26c3879c": {
     "views": []
    },
    "cc5e121d112b426fa4fbf450001f60ab": {
     "views": [
      {
       "cell": {
        "cell_type": "code",
        "execution_count": 9,
        "metadata": {
         "code_folding": [
          0
         ],
         "collapsed": false,
         "run_control": {
          "read_only": false
         },
         "trusted": true
        },
        "outputs": [
         {
          "data": {
           "image/png": "iVBORw0KGgoAAAANSUhEUgAABIYAAADDCAYAAAD3NRrMAAAABHNCSVQICAgIfAhkiAAAAAlwSFlz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\nAAAAAACgTP1/MdrnfR+OM2wAAAAASUVORK5CYII=\n",
           "text/plain": "<matplotlib.figure.Figure at 0x7f895dc43358>"
          },
          "metadata": {},
          "output_type": "display_data"
         }
        ],
        "source": "from ipywidgets import interact, Label, HBox, VBox\nNw = IntSlider(value=16, min=2, max=32, step=1, continuous_update=False, description='N:')\nkw = IntSlider(value=1, min=1, max=32, step=1, continuous_update=False, description='width:')\nd2 = interactive(dfsexp, N=Nw, k=kw)\ndisplay(d2)"
       },
       "cell_index": 6,
       "root": true
      }
     ]
    },
    "cd05a445d05a4d0bae8e9e4781ba345c": {
     "views": []
    },
    "d1d1311905754b68bacec1e644940d79": {
     "views": []
    },
    "e44e09c472ec4e5cb44d6f036fc5635a": {
     "views": []
    },
    "eba84aa072e84984bd9eb183357cadc3": {
     "views": []
    },
    "f0f5913f304c4f07b31084e1062302ff": {
     "views": []
    },
    "f1c7e097df5f4444b96e99ced78285ff": {
     "views": []
    },
    "f22cacbda87a419998bfcd0276a7ee1e": {
     "views": []
    },
    "f28b6e426a65436da32dedfd77bfc1be": {
     "views": []
    },
    "f5b8185a2e8d4d4c950227a476689965": {
     "views": []
    },
    "fa4beebbf7d245868d05c4daee7ee5fd": {
     "views": []
    }
   },
   "version": "1.1.0"
  }
 },
 "nbformat": 4,
 "nbformat_minor": 0
}
