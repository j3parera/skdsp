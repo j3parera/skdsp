{
 "cells": [
  {
   "cell_type": "code",
   "execution_count": 1,
   "metadata": {
    "collapsed": false,
    "run_control": {
     "read_only": false
    }
   },
   "outputs": [],
   "source": [
    "import matplotlib.pyplot as plt\n",
    "%matplotlib inline\n",
    "import skdsp.signal.discrete as ds\n",
    "import numpy as np\n",
    "import sympy as sp\n",
    "import scipy.fftpack as fftp\n",
    "from ipywidgets import fixed, interact, interactive, IntSlider, FloatSlider, Checkbox, \\\n",
    "ToggleButton, ToggleButtons, HBox, VBox\n",
    "from IPython.display import display"
   ]
  },
  {
   "cell_type": "code",
   "execution_count": 2,
   "metadata": {
    "code_folding": [
     6,
     9
    ],
    "collapsed": false,
    "run_control": {
     "read_only": false
    }
   },
   "outputs": [],
   "source": [
    "Nw = IntSlider(value=16, min=2, max=32, step=1, continuous_update=False, description='N:')\n",
    "kw = IntSlider(value=1, min=0, max=32, step=1, continuous_update=False, description='width:')\n",
    "ow = FloatSlider(value=0, min=-1.0, max=1.0, step=0.1, continuous_update=False, description='offset:')\n",
    "sw = IntSlider(value=0, min=-64, max=64, step=1, continuous_update=False, description='shift:')\n",
    "cw = ToggleButton(value=True, description='DFS centrada')\n",
    "ww = ToggleButtons(options=['Tren de deltas', 'Diente de sierra', 'Cuadrada'], description='Señal:')\n",
    "def dsfdemo(signal='Tren de deltas', N=8, width=0, offset=0, shift=0, center=True):\n",
    "    if width > N:\n",
    "        raise ValueError('width debe ser menor que N')\n",
    "    if signal == 'Tren de deltas':\n",
    "        # s = 0.5 + 0.5*ds.Square(N, 1)\n",
    "        s = ds.DeltaTrain(N)\n",
    "        kw.disabled = True\n",
    "    if signal == 'Diente de sierra':\n",
    "        s = ds.Sawtooth(N, width)\n",
    "        kw.disabled = False\n",
    "    elif signal == 'Cuadrada':\n",
    "        s = ds.Square(N, width)\n",
    "        kw.disabled = False\n",
    "    s = offset + (s >> shift)\n",
    "    npts = 32\n",
    "    n = np.arange(-npts, npts+1)\n",
    "    plt.figure(figsize=(20, 7))\n",
    "    plt.subplot(2, 2, (1, 2))\n",
    "    plt.stem(n, s[-npts:npts+1], markerfmt='bo', linefmt='b-', basefmt='k-')\n",
    "    plt.axis([-npts-0.5, npts+0.5, -2.1, 2.1])\n",
    "    plt.axvline(0, color='k')\n",
    "    plt.axhline(0, color='k')\n",
    "    plt.grid(True)\n",
    "    X = s.dfs(N, force=True)\n",
    "    X.real[np.isclose(np.real(X), 0)] = 0\n",
    "    X.imag[np.isclose(np.imag(X), 0)] = 0\n",
    "    if center:\n",
    "        X = fftp.fftshift(X)\n",
    "        kidx = np.arange(-int(N/2), int((N-1)/2)+1)\n",
    "    else:\n",
    "        kidx = np.arange(0, N)\n",
    "    plt.subplot(2, 2, 3)\n",
    "    mX = np.abs(X)\n",
    "    plt.stem(kidx, mX)\n",
    "    min_ = min(0, np.min(mX))\n",
    "    max_ = np.max(mX)\n",
    "    dr = min(1.0, (max_ - min_))\n",
    "    plt.axis([kidx[0]-0.5, kidx[-1]+0.5, min_-0.15*dr, max_+0.15*dr])\n",
    "    plt.axhline(0, color='k')\n",
    "    plt.axvline(0, color='k')\n",
    "    plt.grid(True)\n",
    "    plt.subplot(2, 2, 4)\n",
    "    plt.stem(kidx, np.angle(X))\n",
    "    plt.axis([kidx[0]-0.5, kidx[-1]+0.5, -np.pi-0.5, np.pi+0.5])\n",
    "    plt.axhline(0, color='k')\n",
    "    plt.axvline(0, color='k')\n",
    "    plt.grid(True)\n",
    "ws = HBox(children=[VBox(children=[ww, Nw, kw]), VBox(children=[cw, ow, sw])])\n",
    "w = interactive(dsfdemo, signal=ww, N=Nw, width=kw, offset=ow, shift=sw, center=cw);"
   ]
  },
  {
   "cell_type": "code",
   "execution_count": 3,
   "metadata": {
    "collapsed": false,
    "run_control": {
     "read_only": false
    },
    "scrolled": false
   },
   "outputs": [],
   "source": [
    "display(ws)"
   ]
  },
  {
   "cell_type": "code",
   "execution_count": 4,
   "metadata": {
    "collapsed": false,
    "run_control": {
     "read_only": false
    }
   },
   "outputs": [],
   "source": [
    "# YA no hace falta\n",
    "N = 16\n",
    "S = []\n",
    "for k in range(1, N+1):\n",
    "    s = 0\n",
    "    for k0 in range(0, k):\n",
    "        s += ds.Exponential(sp.exp(sp.I*sp.S.Pi*2*k0/N))\n",
    "    S.append(s/N)"
   ]
  },
  {
   "cell_type": "code",
   "execution_count": 5,
   "metadata": {
    "code_folding": [],
    "collapsed": false,
    "run_control": {
     "read_only": false
    }
   },
   "outputs": [],
   "source": [
    "def dfsexp(N=16, k=1):\n",
    "    s = 0\n",
    "    for k0 in range(0, k):\n",
    "        s += ds.Exponential(sp.exp(sp.I*sp.S.Pi*2*k0/N))\n",
    "    s = s/N\n",
    "    #s = S[k-1]\n",
    "    n = np.arange(-50, 50)\n",
    "    X = s.dfs(N, force=True)\n",
    "    X.real[np.isclose(X.real, 0)] = 0\n",
    "    X.imag[np.isclose(X.imag, 0)] = 0\n",
    "    plt.figure(figsize=(20, 3))\n",
    "    plt.subplot(121)\n",
    "    plt.stem(n, np.real(s[n]), markerfmt='bo', linefmt='b-', basefmt='k-')\n",
    "    plt.stem(n, np.imag(s[n]), markerfmt='ro', linefmt='r-', basefmt='k-')\n",
    "    plt.axis([n[0]-0.5, n[-1]+0.5, -1.1, 1.1])\n",
    "    plt.grid(True)\n",
    "    plt.legend(['parte real', 'parte imaginaria'], loc='lower right')\n",
    "    plt.subplot(122)\n",
    "    k = np.arange(0, N)\n",
    "    plt.stem(k, np.abs(X))\n",
    "    plt.axis([k[0]-0.5, k[-1]+0.5, -0.1, 1.1])\n",
    "    plt.axhline(0, color='k')\n",
    "    plt.axvline(0, color='k')\n",
    "    plt.grid(True)"
   ]
  },
  {
   "cell_type": "code",
   "execution_count": 6,
   "metadata": {
    "code_folding": [
     0
    ],
    "collapsed": true,
    "run_control": {
     "read_only": false
    }
   },
   "outputs": [],
   "source": [
    "# %load ../functions/dfsexp2.py\n",
    "def dfsexp2(N=16, k=1):\n",
    "    #s = 0\n",
    "    #for k0 in range(0, k):\n",
    "    #    s += ds.Exponential(sp.exp(sp.I*sp.S.Pi*2*k0/N))\n",
    "    #s = s/N\n",
    "    s = S[k-1]\n",
    "    n = np.arange(-50, 50)\n",
    "    X = s.dfs(N, force=True)\n",
    "    X.real[np.isclose(X.real, 0)] = 0\n",
    "    X.imag[np.isclose(X.imag, 0)] = 0\n",
    "    plt.figure(figsize=(20, 3))\n",
    "    plt.subplot(121)\n",
    "    plt.stem(n, np.real(s[n]), markerfmt='bo', linefmt='b-', basefmt='k-')\n",
    "    plt.stem(n, np.imag(s[n]), markerfmt='ro', linefmt='r-', basefmt='k-')\n",
    "    plt.axis([n[0]-0.5, n[-1]+0.5, -1.1, 1.1])\n",
    "    plt.grid(True)\n",
    "    plt.subplot(122)\n",
    "    k = np.arange(0, N)\n",
    "    plt.stem(k, np.abs(X))\n",
    "    plt.axis([-0.5, 15.5, -0.1, 1.1])\n",
    "    plt.axhline(0, color='k')\n",
    "    plt.axvline(0, color='k')\n",
    "    plt.grid(True)"
   ]
  },
  {
   "cell_type": "code",
   "execution_count": 7,
   "metadata": {
    "code_folding": [
     0
    ],
    "collapsed": false,
    "run_control": {
     "read_only": false
    }
   },
   "outputs": [
    {
     "data": {
      "image/png": "[encoded data removed]",
      "text/plain": [
       "<matplotlib.figure.Figure at 0x7f625a8bd710>"
      ]
     },
     "metadata": {},
     "output_type": "display_data"
    }
   ],
   "source": [
    "from ipywidgets import interact, Label, HBox, VBox\n",
    "Nw = IntSlider(value=16, min=2, max=32, step=1, continuous_update=False, description='N:')\n",
    "kw = IntSlider(value=1, min=1, max=32, step=1, continuous_update=False, description='width:')\n",
    "d2 = interactive(dfsexp, N=Nw, k=kw)\n",
    "display(d2)"
   ]
  },
  {
   "cell_type": "code",
   "execution_count": null,
   "metadata": {
    "collapsed": true,
    "run_control": {
     "read_only": false
    }
   },
   "outputs": [],
   "source": []
  }
 ],
 "metadata": {
  "kernelspec": {
   "display_name": "Python 3",
   "language": "python",
   "name": "python3"
  },
  "language_info": {
   "codemirror_mode": {
    "name": "ipython",
    "version": 3
   },
   "file_extension": ".py",
   "mimetype": "text/x-python",
   "name": "python",
   "nbconvert_exporter": "python",
   "pygments_lexer": "ipython3",
   "version": "3.4.3+"
  },
  "widgets": {
   "state": {
    "0a32e80e61f64e2f854e8f2a1c75db8d": {
     "views": []
    },
    "136dfb9606bb4b6994712760619811d5": {
     "views": []
    },
    "34253162beb14f1e9fec53ddc103ab9b": {
     "views": []
    },
    "399a867c02a74db989e393ab6ad3ef80": {
     "views": []
    },
    "4e146cf228824fdcac9b86939bdb8086": {
     "views": [
      {
       "cell": {
        "cell_type": "code",
        "execution_count": 7,
        "metadata": {
         "code_folding": [
          0
         ],
         "collapsed": false,
         "run_control": {
          "read_only": false
         },
         "trusted": true
        },
        "outputs": [
         {
          "data": {
           "image/png": "iVBORw0KGgoAAAANSUhEUgAABIYAAADDCAYAAAD3NRrMAAAABHNCSVQICAgIfAhkiAAAAAlwSFlz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\nSUVORK5CYII=\n",
           "text/plain": "<matplotlib.figure.Figure at 0x7f625a8bd710>"
          },
          "metadata": {},
          "output_type": "display_data"
         }
        ],
        "source": "from ipywidgets import interact, Label, HBox, VBox\nNw = IntSlider(value=16, min=2, max=32, step=1, continuous_update=False, description='N:')\nkw = IntSlider(value=1, min=1, max=32, step=1, continuous_update=False, description='width:')\nd2 = interactive(dfsexp, N=Nw, k=kw)\ndisplay(d2)"
       },
       "cell_index": 6,
       "root": true
      }
     ]
    },
    "522d83c5c57a47d5a77987a9883f437d": {
     "views": []
    },
    "6246d0a2260f42d89a6144c6aefb3d45": {
     "views": [
      {
       "cell": {
        "cell_type": "code",
        "execution_count": 3,
        "metadata": {
         "collapsed": false,
         "run_control": {
          "read_only": false
         },
         "scrolled": false,
         "trusted": true
        },
        "outputs": [],
        "source": "display(ws)"
       },
       "cell_index": 2,
       "root": true
      }
     ]
    },
    "6af64b88f2e149d8a23f0697ac7e6f3b": {
     "views": []
    },
    "8584f795c838428f99a8f993381d2829": {
     "views": []
    },
    "8a1a921fc8074bf3a27a6ee373d363c8": {
     "views": []
    },
    "8e8b51231b2f49a7a3101e8bc957f5ba": {
     "views": []
    },
    "978c416b937149d29bdb9efc9a062572": {
     "views": []
    },
    "98bd371f2be34775891a76acb1800d97": {
     "views": []
    },
    "9c0579560f65428893a24acdeb7af54f": {
     "views": []
    },
    "9da69ba1ddf9416f800cc8fdc4183db3": {
     "views": []
    },
    "a3e429cb0104424c84c5a3da43868e18": {
     "views": []
    },
    "a89382bf0dae4f6e839c6f380b41476f": {
     "views": []
    },
    "b3641c66c34b4956a1cb680bf84e7ef5": {
     "views": []
    },
    "b7b6d69bbaee440981ac79d4c463b93f": {
     "views": []
    },
    "c5917937a59e45daa3b844e45713d7cc": {
     "views": []
    },
    "d725886611e742808df28384bdad1a9d": {
     "views": []
    },
    "dd93404ee9ba483784756af1541f634d": {
     "views": []
    },
    "e170365388924952bee44bee5a3a982c": {
     "views": []
    },
    "e78accb50319405bab75531e3625f636": {
     "views": []
    },
    "edeb501f50694a898500a62a0fb704cc": {
     "views": []
    },
    "f7283e6b542b43e3aa3471cac1e76b67": {
     "views": []
    }
   },
   "version": "1.0.0"
  }
 },
 "nbformat": 4,
 "nbformat_minor": 0
}
