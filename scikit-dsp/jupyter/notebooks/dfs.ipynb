{
 "cells": [
  {
   "cell_type": "code",
   "execution_count": 1,
   "metadata": {
    "collapsed": false,
    "run_control": {
     "read_only": false
    }
   },
   "outputs": [],
   "source": [
    "import matplotlib.pyplot as plt\n",
    "%matplotlib inline\n",
    "import skdsp.signal.discrete as ds\n",
    "import numpy as np\n",
    "import sympy as sp\n",
    "import scipy.fftpack as fftp\n",
    "from ipywidgets import fixed, interact, interactive, IntSlider, FloatSlider, Checkbox, \\\n",
    "ToggleButton, ToggleButtons, HBox, VBox\n",
    "from IPython.display import display"
   ]
  },
  {
   "cell_type": "code",
   "execution_count": 2,
   "metadata": {
    "code_folding": [
     6,
     9
    ],
    "collapsed": false,
    "run_control": {
     "read_only": false
    }
   },
   "outputs": [],
   "source": [
    "Nw = IntSlider(value=16, min=2, max=32, step=1, continuous_update=False, description='N:')\n",
    "kw = IntSlider(value=1, min=0, max=32, step=1, continuous_update=False, description='width:')\n",
    "ow = FloatSlider(value=0, min=-1.0, max=1.0, step=0.1, continuous_update=False, description='offset:')\n",
    "sw = IntSlider(value=0, min=-64, max=64, step=1, continuous_update=False, description='shift:')\n",
    "cw = ToggleButton(value=True, description='DFS centrada')\n",
    "ww = ToggleButtons(options=['Tren de deltas', 'Diente de sierra', 'Cuadrada'], description='Señal:')\n",
    "def dsfdemo(signal='Tren de deltas', N=8, width=0, offset=0, shift=0, center=True):\n",
    "    if width > N:\n",
    "        raise ValueError('width debe ser menor que N')\n",
    "    if signal == 'Tren de deltas':\n",
    "        # s = 0.5 + 0.5*ds.Square(N, 1)\n",
    "        s = ds.DeltaTrain(N)\n",
    "        kw.disabled = True\n",
    "    if signal == 'Diente de sierra':\n",
    "        s = ds.Sawtooth(N, width)\n",
    "        kw.disabled = False\n",
    "    elif signal == 'Cuadrada':\n",
    "        s = ds.Square(N, width)\n",
    "        kw.disabled = False\n",
    "    s = offset + (s >> shift)\n",
    "    npts = 32\n",
    "    n = np.arange(-npts, npts+1)\n",
    "    plt.figure(figsize=(20, 7))\n",
    "    plt.subplot(2, 2, (1, 2))\n",
    "    plt.stem(n, s[-npts:npts+1], markerfmt='bo', linefmt='b-', basefmt='k-')\n",
    "    plt.axis([-npts-0.5, npts+0.5, -2.1, 2.1])\n",
    "    plt.axvline(0, color='k')\n",
    "    plt.axhline(0, color='k')\n",
    "    plt.grid(True)\n",
    "    X = s.dfs(N, force=True)\n",
    "    X.real[np.isclose(np.real(X), 0)] = 0\n",
    "    X.imag[np.isclose(np.imag(X), 0)] = 0\n",
    "    if center:\n",
    "        X = fftp.fftshift(X)\n",
    "        kidx = np.arange(-int(N/2), int((N-1)/2)+1)\n",
    "    else:\n",
    "        kidx = np.arange(0, N)\n",
    "    plt.subplot(2, 2, 3)\n",
    "    mX = np.abs(X)\n",
    "    plt.stem(kidx, mX)\n",
    "    min_ = min(0, np.min(mX))\n",
    "    max_ = np.max(mX)\n",
    "    dr = min(1.0, (max_ - min_))\n",
    "    plt.axis([kidx[0]-0.5, kidx[-1]+0.5, min_-0.15*dr, max_+0.15*dr])\n",
    "    plt.axhline(0, color='k')\n",
    "    plt.axvline(0, color='k')\n",
    "    plt.grid(True)\n",
    "    plt.subplot(2, 2, 4)\n",
    "    plt.stem(kidx, np.angle(X))\n",
    "    plt.axis([kidx[0]-0.5, kidx[-1]+0.5, -np.pi-0.5, np.pi+0.5])\n",
    "    plt.axhline(0, color='k')\n",
    "    plt.axvline(0, color='k')\n",
    "    plt.grid(True)\n",
    "ws = HBox(children=[VBox(children=[ww, Nw, kw]), VBox(children=[cw, ow, sw])])\n",
    "w = interactive(dsfdemo, signal=ww, N=Nw, width=kw, offset=ow, shift=sw, center=cw);"
   ]
  },
  {
   "cell_type": "code",
   "execution_count": 3,
   "metadata": {
    "collapsed": false,
    "run_control": {
     "read_only": false
    },
    "scrolled": false
   },
   "outputs": [
    {
     "data": {
      "image/png": "[encoded data removed]",
      "text/plain": [
       "<matplotlib.figure.Figure at 0x7fc00c089198>"
      ]
     },
     "metadata": {},
     "output_type": "display_data"
    }
   ],
   "source": [
    "display(ws)"
   ]
  },
  {
   "cell_type": "code",
   "execution_count": 7,
   "metadata": {
    "collapsed": false,
    "run_control": {
     "read_only": false
    }
   },
   "outputs": [],
   "source": [
    "N = 16\n",
    "S = []\n",
    "for k in range(1, N+1):\n",
    "    s = 0\n",
    "    for k0 in range(0, k):\n",
    "        s += ds.Exponential(sp.exp(sp.I*sp.S.Pi*2*k0/N))\n",
    "    S.append(s/N)"
   ]
  },
  {
   "cell_type": "code",
   "execution_count": 17,
   "metadata": {
    "code_folding": [],
    "collapsed": false,
    "run_control": {
     "read_only": false
    }
   },
   "outputs": [],
   "source": [
    "def dfsexp(N=16, k=1):\n",
    "    #s = 0\n",
    "    #for k0 in range(0, k):\n",
    "    #    s += ds.Exponential(sp.exp(sp.I*sp.S.Pi*2*k0/N))\n",
    "    #s = s/N\n",
    "    s = S[k-1]\n",
    "    n = np.arange(-50, 50)\n",
    "    X = s.dfs(N, force=True)\n",
    "    X.real[np.isclose(X.real, 0)] = 0\n",
    "    X.imag[np.isclose(X.imag, 0)] = 0\n",
    "    plt.figure(figsize=(20, 3))\n",
    "    plt.subplot(121)\n",
    "    plt.stem(n, np.real(s[n]), markerfmt='bo', linefmt='b-', basefmt='k-')\n",
    "    plt.stem(n, np.imag(s[n]), markerfmt='ro', linefmt='r-', basefmt='k-')\n",
    "    plt.axis([n[0]-0.5, n[-1]+0.5, -1.1, 1.1])\n",
    "    plt.grid(True)\n",
    "    plt.legend(['parte real', 'parte imaginaria'], loc='lower right')\n",
    "    plt.subplot(122)\n",
    "    k = np.arange(0, N)\n",
    "    plt.stem(k, np.abs(X))\n",
    "    plt.axis([-0.5, 15.5, -0.1, 1.1])\n",
    "    plt.axhline(0, color='k')\n",
    "    plt.axvline(0, color='k')\n",
    "    plt.grid(True)"
   ]
  },
  {
   "cell_type": "code",
   "execution_count": 15,
   "metadata": {
    "code_folding": [
     0
    ],
    "collapsed": true,
    "run_control": {
     "read_only": false
    }
   },
   "outputs": [],
   "source": [
    "# %load ../functions/dfsexp2.py\n",
    "def dfsexp2(N=16, k=1):\n",
    "    #s = 0\n",
    "    #for k0 in range(0, k):\n",
    "    #    s += ds.Exponential(sp.exp(sp.I*sp.S.Pi*2*k0/N))\n",
    "    #s = s/N\n",
    "    s = S[k-1]\n",
    "    n = np.arange(-50, 50)\n",
    "    X = s.dfs(N, force=True)\n",
    "    X.real[np.isclose(X.real, 0)] = 0\n",
    "    X.imag[np.isclose(X.imag, 0)] = 0\n",
    "    plt.figure(figsize=(20, 3))\n",
    "    plt.subplot(121)\n",
    "    plt.stem(n, np.real(s[n]), markerfmt='bo', linefmt='b-', basefmt='k-')\n",
    "    plt.stem(n, np.imag(s[n]), markerfmt='ro', linefmt='r-', basefmt='k-')\n",
    "    plt.axis([n[0]-0.5, n[-1]+0.5, -1.1, 1.1])\n",
    "    plt.grid(True)\n",
    "    plt.subplot(122)\n",
    "    k = np.arange(0, N)\n",
    "    plt.stem(k, np.abs(X))\n",
    "    plt.axis([-0.5, 15.5, -0.1, 1.1])\n",
    "    plt.axhline(0, color='k')\n",
    "    plt.axvline(0, color='k')\n",
    "    plt.grid(True)"
   ]
  },
  {
   "cell_type": "code",
   "execution_count": 18,
   "metadata": {
    "code_folding": [
     0
    ],
    "collapsed": false,
    "run_control": {
     "read_only": false
    }
   },
   "outputs": [
    {
     "data": {
      "image/png": "[encoded data removed]",
      "text/plain": [
       "<matplotlib.figure.Figure at 0x7fd5aab8f5f8>"
      ]
     },
     "metadata": {},
     "output_type": "display_data"
    }
   ],
   "source": [
    "from ipywidgets import interact, Label, HBox, VBox\n",
    "kw = IntSlider(value=1, min=1, max=16, step=1, continuous_update=False, description='width:')\n",
    "d2 = interactive(dfsexp, N=fixed(16), k=kw)\n",
    "display(d2)"
   ]
  },
  {
   "cell_type": "code",
   "execution_count": null,
   "metadata": {
    "collapsed": true,
    "run_control": {
     "read_only": false
    }
   },
   "outputs": [],
   "source": []
  }
 ],
 "metadata": {
  "kernelspec": {
   "display_name": "Python 3",
   "language": "python",
   "name": "python3"
  },
  "language_info": {
   "codemirror_mode": {
    "name": "ipython",
    "version": 3
   },
   "file_extension": ".py",
   "mimetype": "text/x-python",
   "name": "python",
   "nbconvert_exporter": "python",
   "pygments_lexer": "ipython3",
   "version": "3.4.3+"
  },
  "widgets": {
   "state": {
    "05c20d93778c405dbe5204dfc2c60007": {
     "views": []
    },
    "1c9d0c16ed1547bba19fda42163aea3a": {
     "views": []
    },
    "339b295eb33d47c1a928e362bfb087c7": {
     "views": []
    },
    "38c7d2ffc90e48eba9a7493a13392cc0": {
     "views": []
    },
    "3d92b19452734c41af0490547461e68e": {
     "views": []
    },
    "40c8383668c34bf19ece18555464235e": {
     "views": []
    },
    "45d561a10b6640499024a7f12f1cfb6a": {
     "views": []
    },
    "472499f8b297472d803b73b82f913f39": {
     "views": []
    },
    "4b790858c3f24a44bfa6d5075a3647b0": {
     "views": []
    },
    "51ad2762d64f459287d37ca2c15182c2": {
     "views": []
    },
    "530ec3b0fc5449beaeec2ab7daa6658c": {
     "views": []
    },
    "65ee8923e094428698c20decb8a089f6": {
     "views": []
    },
    "6a6742375fdf4ce7a539a1c010387d93": {
     "views": []
    },
    "86c5006a6de041baa0282d56cb85e917": {
     "views": []
    },
    "8a4a6529b84d4d5daa57e2474358e181": {
     "views": []
    },
    "a1bab6f5391b4bf8b186166aff50a847": {
     "views": []
    },
    "cca21704e0c14c2792154dfb82ab9e16": {
     "views": []
    },
    "dda2470d4dc1495b8d6d4d354c1a2e62": {
     "views": []
    },
    "dda9ae700c4a44d5a564a48d1e9577cb": {
     "views": [
      {
       "cell": {
        "cell_type": "code",
        "execution_count": 3,
        "metadata": {
         "collapsed": false,
         "run_control": {
          "read_only": false
         },
         "scrolled": false,
         "trusted": true
        },
        "outputs": [
         {
          "data": {
           "image/png": "iVBORw0KGgoAAAANSUhEUgAABIYAAAGjCAYAAABZth4iAAAABHNCSVQICAgIfAhkiAAAAAlwSFlz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\nUwpDAAAAAJ1SGAIAAADo1P8P2scxebf42JoAAAAASUVORK5CYII=\n",
           "text/plain": "<matplotlib.figure.Figure at 0x7fc00c089198>"
          },
          "metadata": {},
          "output_type": "display_data"
         }
        ],
        "source": "display(ws)"
       },
       "cell_index": 2,
       "root": true
      }
     ]
    },
    "e571cdc2e62049bd9bae2a4809855853": {
     "views": []
    }
   },
   "version": "1.1.0"
  }
 },
 "nbformat": 4,
 "nbformat_minor": 0
}
