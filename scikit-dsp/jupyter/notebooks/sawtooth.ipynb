{
 "cells": [
  {
   "cell_type": "code",
   "execution_count": 1,
   "metadata": {
    "collapsed": true,
    "run_control": {
     "read_only": false
    }
   },
   "outputs": [],
   "source": [
    "import matplotlib.pyplot as plt\n",
    "%matplotlib inline\n",
    "import skdsp.signal.discrete as ds\n",
    "import skdsp.signal.printer as pt\n",
    "import numpy as np\n",
    "import sympy as sp\n",
    "import scipy.signal as cp\n",
    "import scipy.fftpack as fftp\n",
    "from ipywidgets import interact, fixed\n",
    "np.seterr(all='ignore')\n",
    "PI = sp.S.Pi\n",
    "pi = np.pi"
   ]
  },
  {
   "cell_type": "code",
   "execution_count": 2,
   "metadata": {
    "code_folding": [
     0
    ],
    "collapsed": false,
    "run_control": {
     "read_only": false
    }
   },
   "outputs": [],
   "source": [
    "def saw(N=8, width=0, offset=0, shift=0, center=True):\n",
    "    npts = 32\n",
    "    s = offset + (ds.SawTooth(N, width) >> shift)\n",
    "    n = np.arange(-npts, npts+1)\n",
    "    plt.figure(figsize=(20, 7))\n",
    "    plt.subplot(2, 2, (1, 2))\n",
    "    plt.stem(n, s[-npts:npts+1], markerfmt='bo', linefmt='b-', basefmt='k-')\n",
    "    plt.axis([-npts-0.5, npts+0.5, -2.1, 2.1])\n",
    "    plt.axvline(0, color='k')\n",
    "    plt.axhline(0, color='k')\n",
    "    plt.grid(True)\n",
    "    X = s.dfs()\n",
    "    if center:\n",
    "        X = fftp.fftshift(X)\n",
    "        kidx = np.arange(-int(N/2), int((N-1)/2)+1)\n",
    "    else:\n",
    "        kidx = np.arange(0, N)\n",
    "    plt.subplot(2, 2, 3)\n",
    "    mX = np.abs(X)\n",
    "    plt.stem(kidx, mX)\n",
    "    min_ = min(0, np.min(mX))\n",
    "    max_ = np.max(mX)\n",
    "    dr = (max_ - min_)\n",
    "    plt.axis([kidx[0]-0.5, kidx[-1]+0.5, min_-0.1*dr, max_+0.1*dr])\n",
    "    plt.axhline(0, color='k')\n",
    "    plt.axvline(0, color='k')\n",
    "    plt.grid(True)\n",
    "    plt.subplot(2, 2, 4)\n",
    "    plt.stem(kidx, np.angle(X))\n",
    "    plt.axis([kidx[0]-0.5, kidx[-1]+0.5, -np.pi-0.5, np.pi+0.5])\n",
    "    plt.axhline(0, color='k')\n",
    "    plt.axvline(0, color='k')\n",
    "    plt.grid(True)"
   ]
  },
  {
   "cell_type": "code",
   "execution_count": 3,
   "metadata": {
    "collapsed": false,
    "run_control": {
     "read_only": false
    }
   },
   "outputs": [
    {
     "data": {
      "image/png": "[encoded data removed]",
      "text/plain": [
       "<matplotlib.figure.Figure at 0x7f31d8afd2e8>"
      ]
     },
     "metadata": {},
     "output_type": "display_data"
    }
   ],
   "source": [
    "from ipywidgets import interact\n",
    "interact(saw, N=(2, 32, 1), width=(0, 32, 1), offset=(-1, 1, 0.1), shift=(-64, 64, 1), center=True)"
   ]
  }
 ],
 "metadata": {
  "kernelspec": {
   "display_name": "Python 3",
   "language": "python",
   "name": "python3"
  },
  "language_info": {
   "codemirror_mode": {
    "name": "ipython",
    "version": 3
   },
   "file_extension": ".py",
   "mimetype": "text/x-python",
   "name": "python",
   "nbconvert_exporter": "python",
   "pygments_lexer": "ipython3",
   "version": "3.4.3+"
  },
  "widgets": {
   "state": {
    "0371d3b6b6ae4316b90ce7e476509e8d": {
     "views": []
    },
    "0792e94bd4d2409fbc0d58dcb13bff76": {
     "views": []
    },
    "0833c1a1a0d347c48990d416ea5f584d": {
     "views": []
    },
    "09016a7743534aafad5c2f4f464bb019": {
     "views": []
    },
    "0939de0fe9f1432b8052ab81474b9008": {
     "views": []
    },
    "0a1724d22e9b4865b58efc0c25ba8315": {
     "views": []
    },
    "0d65421ef6bd45799771c7d55146a51b": {
     "views": []
    },
    "0dcc394f81b54ad489e04656c5026b31": {
     "views": []
    },
    "0e394a5e51a4499e9adf121e24bf99c0": {
     "views": []
    },
    "108c6ac7b4cb482d897c9b2cc84339e4": {
     "views": []
    },
    "116d547d79a24fe28dff31cba747dddc": {
     "views": []
    },
    "11d0673b01e74a4a9429fdf12205b6c2": {
     "views": []
    },
    "1322cc4f73c145ba85b8c59bf8bf6edd": {
     "views": []
    },
    "158791fa81234cb69462194c4722a89d": {
     "views": []
    },
    "15a498f546c344c9b2b4189a8a33fa3d": {
     "views": []
    },
    "15e29293a941464c88365eb536a50933": {
     "views": []
    },
    "1919848abc194b3ab0cd0b2a2dd72c26": {
     "views": []
    },
    "1f24ac3abc7347ec8129169d47f367fc": {
     "views": []
    },
    "240dd3cb60274e2f857a0ae2eca02329": {
     "views": []
    },
    "247a0e8ae8fa47c09c165decd46e0293": {
     "views": []
    },
    "2703c218ac0f46aa96e16488b58170c7": {
     "views": []
    },
    "2853ee4745ac4767936e5d5a30fabcaf": {
     "views": []
    },
    "2ac848e8cde74de786411f8a1312f0cb": {
     "views": []
    },
    "2c18f78b4d204fe0ba37c19632365eef": {
     "views": []
    },
    "2c31397fda02472ebf2ae0b1cadb8cce": {
     "views": []
    },
    "2d57dfa6531e4a93ba43de9fc5337f17": {
     "views": []
    },
    "2d7ac93520d54de68ff76cf2dc8d21e7": {
     "views": []
    },
    "2e097436f127490ea0363df8a4b8b701": {
     "views": []
    },
    "324e6cb9dd78422480e6d98c5f25f87e": {
     "views": []
    },
    "34fe7e8916ce430ead4c1ba799c21862": {
     "views": []
    },
    "35862ecd49ab4f1a97099c3eb1694ed5": {
     "views": []
    },
    "35c44737e40b498688c0412df0496a83": {
     "views": []
    },
    "3674a3de5b2d4d7d88165051e3f39ce1": {
     "views": []
    },
    "36962c03b2804614b08f664d3c0d574e": {
     "views": []
    },
    "379ee49387c946c595053807e905660c": {
     "views": []
    },
    "37c9d3c5cd8c47e88c68dcd04281bfec": {
     "views": []
    },
    "388df99cd7d84ecc9452f744eeea4aba": {
     "views": []
    },
    "3aa61ba7d05043d1b9b91db27aac235b": {
     "views": []
    },
    "3eb6822d5e5f47409dea9643022ee8d1": {
     "views": []
    },
    "42690e8632aa46d2b3f5600b0c5c613c": {
     "views": []
    },
    "4485cd1cacda48d9a268da430f52de03": {
     "views": []
    },
    "4509c8abbc564d9180df2df4da218309": {
     "views": []
    },
    "469dd261050141e79672ce601c8b3e12": {
     "views": []
    },
    "4703a4ebfe3340bba08a9556d76e9a09": {
     "views": [
      {
       "cell": {
        "cell_type": "code",
        "execution_count": 3,
        "metadata": {
         "collapsed": false,
         "run_control": {
          "read_only": false
         },
         "trusted": true
        },
        "outputs": [
         {
          "data": {
           "image/png": "iVBORw0KGgoAAAANSUhEUgAABH4AAAGjCAYAAABaLdJPAAAABHNCSVQICAgIfAhkiAAAAAlwSFlz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\nRK5CYII=\n",
           "text/plain": "<matplotlib.figure.Figure at 0x7f31d8afd2e8>"
          },
          "metadata": {},
          "output_type": "display_data"
         }
        ],
        "source": "from ipywidgets import interact\ninteract(saw, N=(2, 32, 1), width=(0, 32, 1), offset=(-1, 1, 0.1), shift=(-64, 64, 1), center=True)"
       },
       "cell_index": 2,
       "root": true
      }
     ]
    },
    "47377e8f6dbe42618bc20098ee247483": {
     "views": []
    },
    "489bd33f0fcf433facf876206aa6825e": {
     "views": []
    },
    "49986c326bde402c883153a76cce6c3a": {
     "views": []
    },
    "4c99e1f4ec2c4056bc16ef93f1b561b1": {
     "views": []
    },
    "4d9f19ad1ad14cdaa1416c6327ccc7dc": {
     "views": []
    },
    "4e483638214f4e1cac92719ec7922469": {
     "views": []
    },
    "4e8069e34afb473592aebb3e8d14d8eb": {
     "views": []
    },
    "4f3f8d9f270c4437941724e3c02e7802": {
     "views": []
    },
    "5133e435a6b14f7090123d9cb8c96310": {
     "views": []
    },
    "51aea35070b1432dbc99a0b7558e2749": {
     "views": []
    },
    "5250515760304d29874bdd1209a48d4c": {
     "views": []
    },
    "530be21fc60b4f15bf08ab34d6f690d8": {
     "views": []
    },
    "5314849a3b814f7e9ac610a5551922f0": {
     "views": []
    },
    "54416f5abf1749b4861408afbd21edbe": {
     "views": []
    },
    "55296728b2184961804b6ad7b37ff427": {
     "views": []
    },
    "5633a7c949d84be287e26baa49fea89b": {
     "views": []
    },
    "579efee18f8c44f9a36cfee5b059d77d": {
     "views": []
    },
    "58415a8c3c2644a7a52e835fc3cc4521": {
     "views": []
    },
    "5a80dfb389d64255af16b7444fff67c5": {
     "views": []
    },
    "5d7d855daa2c451bbf8278f05d1c042b": {
     "views": []
    },
    "5edeaaca2b884a20abb200defd83e7b6": {
     "views": []
    },
    "5ee09c603d3a4408bde8b4aaff10e2f3": {
     "views": []
    },
    "5fd1ec4063e24d04a69716db7991f9a1": {
     "views": []
    },
    "601b8b0950a64b77ab9038dd4f597c9e": {
     "views": []
    },
    "603c785f04e54e19b56a93097ae68e02": {
     "views": []
    },
    "63b03678a1ae436197749e128296f975": {
     "views": []
    },
    "63f9861644b44fbcb52626594e25553f": {
     "views": []
    },
    "641015e826a441a59979cfad1f5d30a9": {
     "views": []
    },
    "65a88f5742f046e49262fb481f0078b3": {
     "views": []
    },
    "682e274baf934488808cbf401c3b7e7a": {
     "views": []
    },
    "6946acfb1cca49a2a24a0e8c9ce3c45b": {
     "views": []
    },
    "6ab50a3d4b254d3ba9278198aa531dcd": {
     "views": []
    },
    "6bd79a717bb54d65a6920a538b419ced": {
     "views": []
    },
    "6db0d904f7254333a363a5355c92ddc4": {
     "views": []
    },
    "6dfec9c1a81b4899b5ea533d4cbcb342": {
     "views": []
    },
    "6fe579ab05b047dcb1aaf89f18e8e0af": {
     "views": []
    },
    "708505ffe44f4f1592dec96b54df5524": {
     "views": []
    },
    "7223517be205437dbf0a92b720df05ac": {
     "views": []
    },
    "727aa92c539242f1bfdec45fd3a6f58b": {
     "views": []
    },
    "72d51ccbdde145778dd14597c42bcf1c": {
     "views": []
    },
    "7641bc9f37cd4a8399b159c1b952324b": {
     "views": []
    },
    "767b4e1b520e4fcd9732a01e66d7e367": {
     "views": []
    },
    "779cf62253c54706aa983cdcad94e633": {
     "views": []
    },
    "77ed7623f17644e09d34471970e74f5a": {
     "views": []
    },
    "7aa8b8cf67d147c3be3790718b508c46": {
     "views": []
    },
    "7b16b0cdf7ce4b1e970544ca0bf4559a": {
     "views": []
    },
    "7b8945c7e93e4853b93cb06ce122d24f": {
     "views": []
    },
    "7c52dbd645cf420e85a54a07f1f029a8": {
     "views": []
    },
    "7cfacfb26f2d4dcfbd9a7f8453b07b2b": {
     "views": []
    },
    "7d294838158e45e4aca6c17bc2f1ac7b": {
     "views": []
    },
    "7d4ee76767af43bca1c65b3109782b9c": {
     "views": []
    },
    "811b2b90d151435685f81d0a7bfcc4d7": {
     "views": []
    },
    "81c336f813fc44b1821e1b2b21e3d1c2": {
     "views": []
    },
    "82828509a5d0496cb0dbdd6895879861": {
     "views": []
    },
    "82ca75961b3c4768a109ded99d76d523": {
     "views": []
    },
    "83aedf16bb894a699a795f033f5150b3": {
     "views": []
    },
    "83eda555a47e4af89d86066b4d8a1a81": {
     "views": []
    },
    "84ea29a05f8445afad2ca849062e41d0": {
     "views": []
    },
    "896c12626e704a5fa29328388a0adb16": {
     "views": []
    },
    "896f16136a5042f6881afc04fb4a7794": {
     "views": []
    },
    "8cb2fc48d75e460ea6d33cce27edd831": {
     "views": []
    },
    "8d3db36f04e94932b1463111ef81706f": {
     "views": []
    },
    "91199a20f6eb460283d5d58484cab938": {
     "views": []
    },
    "924e22a5e9054c868e3e21ed62d9ad25": {
     "views": []
    },
    "9325d2330ff3470b826290b48c2f9a88": {
     "views": []
    },
    "9483cf9242094fa4bbce5d4ad1a29082": {
     "views": []
    },
    "95c42d1b76f64aeaa074f40f0f381a09": {
     "views": []
    },
    "95e787501a5949be9ef950b3dc5ba499": {
     "views": []
    },
    "9b632c3b93e44028bc4a589d91c3169f": {
     "views": []
    },
    "9ccd1dca3e2c49b3b2c83b07fa62cc46": {
     "views": []
    },
    "9e9aa9dcd0d143b68775141a884661c1": {
     "views": []
    },
    "9ea0edbe0c3748f69902a927c6bb046c": {
     "views": []
    },
    "a22c65bbed1c4cbbbd792db55853d674": {
     "views": []
    },
    "a5edf9969e5d4090bc0bff87ec0658eb": {
     "views": []
    },
    "a65c38cd68e4484089230854ac9e84e7": {
     "views": []
    },
    "a6ee6f73156744baa262fb9d7ff91c2a": {
     "views": []
    },
    "af788ad0721e417aa9304eadb389a8ea": {
     "views": []
    },
    "af9afe3b323b42e69f5d6e507dde40c1": {
     "views": []
    },
    "af9c590872634b029910a7f4cca46c14": {
     "views": []
    },
    "b11735a528784e4d89537eb6379f5f0b": {
     "views": []
    },
    "b26cf6e809554dceb166f6877239eccc": {
     "views": []
    },
    "b595afa9e15f495ca5f61b115fc68fe6": {
     "views": []
    },
    "bb5ecca518594ddbb34b16c9fa1ba66b": {
     "views": []
    },
    "bf204d6de4ad4b4cae7e78b472de95ac": {
     "views": []
    },
    "c0e0c1b203ab45eca9750a711290d954": {
     "views": []
    },
    "c0fa2639570747f2884763de5b2fe46b": {
     "views": []
    },
    "c4958ce46f7a41a1836e8131232dd4df": {
     "views": []
    },
    "c8809ff55e634f08a83324a3d3df2c23": {
     "views": []
    },
    "c8d21d4afc5247d8a8245842a8363104": {
     "views": []
    },
    "cb70e798b1e34751a42f98eb9d6305fd": {
     "views": []
    },
    "ccea70ffc0b84e1b8e2cb15f4b8f79fb": {
     "views": []
    },
    "ce32b0a4c8524963a425bf89ef0b9f33": {
     "views": []
    },
    "cee84e3ed882458ca0cf30d3ab8b0292": {
     "views": []
    },
    "cf266781b2384641a13c293771c8a1db": {
     "views": []
    },
    "cfa98ee7d35340a3a7cfcf4096b2b492": {
     "views": []
    },
    "d1444ae2bef24a3a93dd031c811d6ec2": {
     "views": []
    },
    "d165351c4d3546478c7c04990ceb8d96": {
     "views": []
    },
    "d30ce5b22c6f41f8834b4b2038004357": {
     "views": []
    },
    "d6c2edbb6adf47f3bb64f518c8009bdf": {
     "views": []
    },
    "d732ce57373143869b468c0fd3b3b58c": {
     "views": []
    },
    "d8c27109f8c442a8a22c702e7a256953": {
     "views": []
    },
    "d9b1657e0c2947b691ce75fc080c7a87": {
     "views": []
    },
    "da560cc819d542e5ace0bfeeda69b463": {
     "views": []
    },
    "db65735964774ff48f75631b38533ddd": {
     "views": []
    },
    "dc68275cc8ed458d9cc748a464b42414": {
     "views": []
    },
    "df8fcae4ef464322b26fb04ad344678d": {
     "views": []
    },
    "e1156a925f0b45ef881376a481d8a0c7": {
     "views": []
    },
    "e1b7047c453749e0a0b3ab4184678d2b": {
     "views": []
    },
    "e1c03864a779415fa0e644911ae84f33": {
     "views": []
    },
    "e5a42af7061f4a399dd86afd72c1ce89": {
     "views": []
    },
    "e6800d68253a4db8b4138ae9054362c7": {
     "views": []
    },
    "e77e69404b6a4279a85c35312be22326": {
     "views": []
    },
    "e7fa225c8c66410cb37758f29f7b0180": {
     "views": []
    },
    "e99ad21673134293a443a4bed0caf383": {
     "views": []
    },
    "ea04de0a92ea479eb3d543203537d7a8": {
     "views": []
    },
    "ea47f2c3e85c4b9c9912d8fca10cd301": {
     "views": []
    },
    "ea4d7756acfc4ef4aeca85a08788c359": {
     "views": []
    },
    "ec4b8ee90c1548af88e7bd4deb5b3092": {
     "views": []
    },
    "ed5543628f5b47f289da888c920e735e": {
     "views": []
    },
    "ed767d0c5b204b908d543b75e69f7b80": {
     "views": []
    },
    "ef6ebe2561d146268438573609875f2e": {
     "views": []
    },
    "f1b360fa471d4860af9710bad7d488e8": {
     "views": []
    },
    "f1eaed3584a4428190d4410b2e677f1b": {
     "views": []
    },
    "f242aa919373443f80d7738bd0f1b8c2": {
     "views": []
    },
    "f24a733d6e8e4900a283119d0e017b7f": {
     "views": []
    },
    "f30df403d856480188fedad836c1b512": {
     "views": []
    },
    "f32978245d28494081eb2033da0da743": {
     "views": []
    },
    "f383480cce0b4b9facbe8e40a3e0eefa": {
     "views": []
    },
    "f50f4dbe06d649669039b841b717d0e6": {
     "views": []
    },
    "fb959d4684334003811fdf20142fae3f": {
     "views": []
    },
    "fc1294d77bb2428d8a800c5f75d891d4": {
     "views": []
    },
    "fe147f4a3930421f81c450bdeb0c1235": {
     "views": []
    },
    "fe7cd584e83940c8ba897422bc8d56cc": {
     "views": []
    },
    "feb7f931b70a4bf3a288f99d44a48827": {
     "views": []
    },
    "fed1222ee6bf429781ad0968ea640289": {
     "views": []
    },
    "ff213da01dfd472e92135d32f1c197db": {
     "views": []
    }
   },
   "version": "1.0.0"
  }
 },
 "nbformat": 4,
 "nbformat_minor": 0
}
