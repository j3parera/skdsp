{
 "cells": [
  {
   "cell_type": "code",
   "execution_count": 1,
   "metadata": {
    "collapsed": false,
    "run_control": {
     "read_only": false
    }
   },
   "outputs": [],
   "source": [
    "import matplotlib.pyplot as plt\n",
    "%matplotlib inline\n",
    "import skdsp.signal.discrete as ds\n",
    "import skdsp.signal.printer as pt\n",
    "import numpy as np\n",
    "import sympy as sp\n",
    "import scipy.signal as cp\n",
    "from ipywidgets import interact, fixed\n",
    "np.seterr(all='ignore')\n",
    "PI = sp.S.Pi\n",
    "pi = np.pi"
   ]
  },
  {
   "cell_type": "markdown",
   "metadata": {},
   "source": [
    "## 1.- Básicas"
   ]
  },
  {
   "cell_type": "code",
   "execution_count": 16,
   "metadata": {
    "code_folding": [
     0
    ],
    "collapsed": false,
    "run_control": {
     "read_only": false
    }
   },
   "outputs": [],
   "source": [
    "def s1(sg='delta', fd='nothing', delay=0):\n",
    "    npts = 15\n",
    "    if sg == 'delta':\n",
    "        s = ds.Delta()\n",
    "    elif sg == 'step':\n",
    "        s = ds.Step()\n",
    "    elif sg == 'ramp':\n",
    "        s = ds.Ramp()\n",
    "    elif sg == 'unit ramp':\n",
    "        s = ds.Ramp() * ds.Step()\n",
    "    if fd == 'flip then delay':\n",
    "        s = s.flip().delay(delay)\n",
    "    elif fd == 'delay then flip':\n",
    "        s = s.delay(delay).flip()\n",
    "    elif fd == 'just delay':\n",
    "        s = s.delay(delay)\n",
    "    ns = np.arange(-npts, npts+1)\n",
    "    ys = s[ns]\n",
    "    plt.figure(figsize=(20, 4))\n",
    "    ml = plt.stem(ns, ys, markerfmt='bo', linefmt='b-', basefmt='k-')\n",
    "    plt.setp(ml, ms=8)\n",
    "    plt.xlim([-npts-0.5, npts+0.5])\n",
    "    min_ = min(0, np.min(ys))\n",
    "    max_ = max(np.max(ys), 1)\n",
    "    range_ = (max_ - min_)*0.1\n",
    "    plt.ylim([min_-range_, max_+range_])\n",
    "    plt.axvline(0, color='k')\n",
    "    plt.axhline(0, color='k')\n",
    "    plt.title(pt.latex(s, mode='inline'), size=24)"
   ]
  },
  {
   "cell_type": "code",
   "execution_count": 17,
   "metadata": {
    "collapsed": false,
    "run_control": {
     "read_only": false
    }
   },
   "outputs": [
    {
     "data": {
      "image/png": "[encoded data removed]",
      "text/plain": [
       "<matplotlib.figure.Figure at 0x7fa4689a16a0>"
      ]
     },
     "metadata": {},
     "output_type": "display_data"
    }
   ],
   "source": [
    "interact(s1, sg=('delta', 'step', 'ramp', 'unit ramp'),\n",
    "         fd=('just delay', 'flip then delay', 'delay then flip'),\n",
    "         delay=(-15, 15));"
   ]
  },
  {
   "cell_type": "code",
   "execution_count": null,
   "metadata": {
    "collapsed": true,
    "run_control": {
     "read_only": false
    }
   },
   "outputs": [],
   "source": []
  }
 ],
 "metadata": {
  "kernelspec": {
   "display_name": "Python 3",
   "language": "python",
   "name": "python3"
  },
  "language_info": {
   "codemirror_mode": {
    "name": "ipython",
    "version": 3
   },
   "file_extension": ".py",
   "mimetype": "text/x-python",
   "name": "python",
   "nbconvert_exporter": "python",
   "pygments_lexer": "ipython3",
   "version": "3.4.3+"
  },
  "widgets": {
   "state": {
    "06005f27301a4dba95084d0606843643": {
     "views": []
    },
    "070e07edc2c04d05bda5246be1eb5cde": {
     "views": []
    },
    "13404443fc4a488e8b852ccd4c5095d9": {
     "views": []
    },
    "177bf183a1b3479193ad99759c9fd488": {
     "views": []
    },
    "18593caf38524c829d5ab2c76e5b8cd0": {
     "views": []
    },
    "1a65bfb037144d64842ac5bbc8a9a794": {
     "views": []
    },
    "23b3dde1fb3f40fdafb35cc13be92ea9": {
     "views": []
    },
    "288e98caefbc43a8a6604e23c80a245e": {
     "views": []
    },
    "28e0270371474b34bc02bfe04342a60d": {
     "views": []
    },
    "344c5c449cbc44718e5fa22522684b50": {
     "views": []
    },
    "39e6dc607a3e48acbeeba45f50f69fac": {
     "views": []
    },
    "423bd29811484a57841d20ffa7750987": {
     "views": []
    },
    "465440f60ec84fa4a0aed6abd030e033": {
     "views": []
    },
    "468260e4eb244cd19971425655e685ea": {
     "views": []
    },
    "531414491d264195bfc29ee2d54e243a": {
     "views": []
    },
    "53198db70396476caae12e82431f1b6e": {
     "views": []
    },
    "555cc3a126c94239abd5a10ecf6e96b7": {
     "views": []
    },
    "5f9cc507031c4f8bb5da8be2ce5ac2c6": {
     "views": []
    },
    "6787fcf7501242c4be518e2031a824c7": {
     "views": []
    },
    "6949a9ffa9b44c6e9ce3ba050555f0a6": {
     "views": []
    },
    "6ef2a08003094b38b51141635d7cd58f": {
     "views": []
    },
    "6f2309c861864fa19e7ca6fd15759a5d": {
     "views": []
    },
    "6f96cfc458904d468d6970645f668954": {
     "views": []
    },
    "787b7dae09064badb0940e24d648509f": {
     "views": []
    },
    "7fc3a696aa824209a1ddac60997736b6": {
     "views": []
    },
    "8923e1ef754340a4b6983d2562c858c8": {
     "views": []
    },
    "8e09bd9a1eef4709b2dbf3ed83dee186": {
     "views": []
    },
    "8e2d6b3850aa4978acad5314713adc37": {
     "views": []
    },
    "9074e381c00c440e9b3f2588d8a7324f": {
     "views": []
    },
    "92cb0f3935e046fe80c0239c4b9e26df": {
     "views": []
    },
    "94fbe6b45c0d4c6c88d21fa970605833": {
     "views": []
    },
    "962b28ba21dc47068368bf56809f9755": {
     "views": []
    },
    "9db9e2901dca4b3fba65cc5e393cc975": {
     "views": []
    },
    "9effa933554143df86bc31d690fc70f8": {
     "views": []
    },
    "a546a9f04a7a4c8eb772c02985bf7421": {
     "views": []
    },
    "a889237dcfd14a6b9163d74195de6449": {
     "views": []
    },
    "a894ec736e724a4e832e1853aef7fd0c": {
     "views": []
    },
    "ad3be359023340f7a866a375064bbe79": {
     "views": []
    },
    "add09e58c91b4450b64a041fab11de91": {
     "views": []
    },
    "bb203fa856a94cc2b7fee3e3418c3f4d": {
     "views": []
    },
    "bc2302f2ec4445e49b39eb204761176a": {
     "views": []
    },
    "c113c97cd97a430da2a1e0809f19d69b": {
     "views": []
    },
    "c15214c3faf5483f987344694ba731fc": {
     "views": []
    },
    "c2994b9b875c4df1b9fa63aa2ef94f2b": {
     "views": []
    },
    "c490e907928640679622f9315d4a08b6": {
     "views": []
    },
    "c4b609c5ec2e405b97c2f4c340909094": {
     "views": []
    },
    "cd78d32a7ddb4aeaa19b28fd9e4c64ad": {
     "views": []
    },
    "cefb0a50b66947ee942fcf638dba4bdc": {
     "views": []
    },
    "d08afc9adba241678a407dcb862f9692": {
     "views": []
    },
    "d333c67ade8a44d796b943cd2fb9607f": {
     "views": []
    },
    "d71b05ecd027495b8bc6da565f2b5f0b": {
     "views": []
    },
    "db70e3fae10e4b0fb8720479487c99ad": {
     "views": []
    },
    "df7caf29b9334d1989866f3de5b0616b": {
     "views": [
      {
       "cell": {
        "cell_type": "code",
        "execution_count": 17,
        "metadata": {
         "collapsed": false,
         "run_control": {
          "read_only": false
         },
         "trusted": true
        },
        "outputs": [
         {
          "data": {
           "image/png": "iVBORw0KGgoAAAANSUhEUgAABHsAAAEVCAYAAABwl+ljAAAABHNCSVQICAgIfAhkiAAAAAlwSFlz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\neAVUFjoAAAAASUVORK5CYII=\n",
           "text/plain": "<matplotlib.figure.Figure at 0x7fa4689a16a0>"
          },
          "metadata": {},
          "output_type": "display_data"
         }
        ],
        "source": "interact(s1, sg=('delta', 'step', 'ramp', 'unit ramp'),\n         fd=('just delay', 'flip then delay', 'delay then flip'),\n         delay=(-15, 15));"
       },
       "cell_index": 3,
       "root": true
      }
     ]
    },
    "e091f6ddb104483eac7e77da90b7f86e": {
     "views": []
    },
    "e49df8d755754051bcc2abe29ba5da24": {
     "views": []
    },
    "e9e7c9c2028a4e9097bcf028536b8d99": {
     "views": []
    },
    "ea9c7f413e024b8097890c5f4914f00f": {
     "views": []
    },
    "eaf60b9d3f5e4014babe43d516b55747": {
     "views": []
    },
    "ec9aa23eb29a4b26ba258a829db5d6ab": {
     "views": []
    },
    "eefff8f151244c4fb6f97b80956d360c": {
     "views": []
    },
    "f2df438846b14410b3f8df1ccf4a6e52": {
     "views": []
    },
    "f3b9e6542c6f4a9eb6f7b546c74c8063": {
     "views": []
    },
    "f6d87ffd4357433da1476c267a38640b": {
     "views": []
    },
    "ff583a454f3d4a0a847690f5d1723020": {
     "views": []
    }
   },
   "version": "1.0.0"
  }
 },
 "nbformat": 4,
 "nbformat_minor": 0
}
