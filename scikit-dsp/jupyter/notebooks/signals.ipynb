{
 "cells": [
  {
   "cell_type": "code",
   "execution_count": 1,
   "metadata": {
    "collapsed": false,
    "run_control": {
     "read_only": false
    }
   },
   "outputs": [],
   "source": [
    "import matplotlib.pyplot as plt\n",
    "%matplotlib inline\n",
    "import skdsp.signal.discrete as ds\n",
    "import skdsp.signal.printer as pt\n",
    "import numpy as np\n",
    "import sympy as sp\n",
    "import scipy.signal as cp\n",
    "from ipywidgets import interact, fixed\n",
    "np.seterr(all='ignore')\n",
    "PI = sp.S.Pi\n",
    "pi = np.pi"
   ]
  },
  {
   "cell_type": "markdown",
   "metadata": {},
   "source": [
    "## 1.- Básicas"
   ]
  },
  {
   "cell_type": "code",
   "execution_count": 2,
   "metadata": {
    "code_folding": [],
    "collapsed": false,
    "run_control": {
     "read_only": false
    }
   },
   "outputs": [],
   "source": [
    "def s1(sg='delta', fd='just delay', width=16, delay=0):\n",
    "    npts = 15\n",
    "    if sg == 'delta':\n",
    "        s = ds.Delta()\n",
    "    elif sg == 'step':\n",
    "        s = ds.Step()\n",
    "    elif sg == 'ramp':\n",
    "        s = ds.Ramp()\n",
    "    elif sg == 'rect':\n",
    "        s = ds.Rect(width)\n",
    "    elif sg == 'triang':\n",
    "        s = ds.Triang(width)\n",
    "    elif sg == 'sin':\n",
    "        s = ds.Sine(width)\n",
    "    elif sg == 'cos':\n",
    "        s = ds.Cosine(width)\n",
    "    if fd == 'flip then delay':\n",
    "        s = s.flip().delay(delay)\n",
    "    elif fd == 'delay then flip':\n",
    "        s = s.delay(delay).flip()\n",
    "    elif fd == 'just delay':\n",
    "        s = s.delay(delay)\n",
    "    ns = np.arange(-npts, npts+1)\n",
    "    ys = s[ns]\n",
    "    plt.figure(figsize=(20, 4))\n",
    "    ml = plt.stem(ns, ys, markerfmt='bo', linefmt='b-', basefmt='k-')\n",
    "    plt.setp(ml, ms=8)\n",
    "    plt.xlim([-npts-0.5, npts+0.5])\n",
    "    min_ = min(0, np.min(ys))\n",
    "    max_ = max(np.max(ys), 1)\n",
    "    range_ = (max_ - min_)*0.1\n",
    "    plt.ylim([min_-range_, max_+range_])\n",
    "    plt.axvline(0, color='k')\n",
    "    plt.axhline(0, color='k')\n",
    "    plt.title(pt.latex(s, mode='inline'), size=24)\n",
    "    plt.grid(True)"
   ]
  },
  {
   "cell_type": "code",
   "execution_count": 3,
   "metadata": {
    "collapsed": false,
    "run_control": {
     "read_only": false
    }
   },
   "outputs": [
    {
     "data": {
      "image/png": "[encoded data removed]",
      "text/plain": [
       "<matplotlib.figure.Figure at 0x7f40b835b0b8>"
      ]
     },
     "metadata": {},
     "output_type": "display_data"
    }
   ],
   "source": [
    "interact(s1, sg=('delta', 'step', 'ramp', 'rect', 'triang', 'sin', 'cos'),\n",
    "         fd=('just delay', 'flip then delay', 'delay then flip'),\n",
    "         width=(1, 30, 2), delay=(-15, 15));"
   ]
  },
  {
   "cell_type": "markdown",
   "metadata": {
    "collapsed": true,
    "run_control": {
     "read_only": false
    }
   },
   "source": [
    "## 2.- Partes par e impar"
   ]
  },
  {
   "cell_type": "code",
   "execution_count": 29,
   "metadata": {
    "collapsed": false,
    "run_control": {
     "read_only": false
    }
   },
   "outputs": [],
   "source": [
    "plt.rcParams['text.usetex'] = True\n",
    "def s2(sg='delta', width=16, delay=0):\n",
    "    npts = 15\n",
    "    if sg == 'delta':\n",
    "        s = ds.Delta()\n",
    "    elif sg == 'step':\n",
    "        s = ds.Step()\n",
    "    elif sg == 'ramp':\n",
    "        s = ds.Ramp()\n",
    "    elif sg == 'rect':\n",
    "        s = ds.Rect(width)\n",
    "    elif sg == 'triang':\n",
    "        s = ds.Triang(width)\n",
    "    elif sg == 'sin':\n",
    "        s = ds.Sine(width)\n",
    "    elif sg == 'cos':\n",
    "        s = ds.Cosine(width)\n",
    "    s = s.delay(delay)\n",
    "    ns = np.arange(-npts, npts+1)\n",
    "    ys = s[ns]\n",
    "    se = s.even\n",
    "    ye = se[ns]\n",
    "    so = s.odd\n",
    "    yo = so[ns]\n",
    "    plt.figure(figsize=(20, 4))\n",
    "    plt.subplot(131)\n",
    "    ml = plt.stem(ns, ys, markerfmt='bo', linefmt='b-', basefmt='k-')\n",
    "    plt.setp(ml, ms=8)\n",
    "    plt.xlim([-npts-0.5, npts+0.5])\n",
    "    min_ = min(0, np.min(ys))\n",
    "    max_ = max(np.max(ys), 1)\n",
    "    range_ = (max_ - min_)*0.1\n",
    "    plt.ylim([min_-range_, max_+range_])\n",
    "    plt.axvline(0, color='k')\n",
    "    plt.axhline(0, color='k')\n",
    "    plt.title(r'$x[n]={0}$'.format(pt.latex(s)), size=24)\n",
    "    plt.grid(True)\n",
    "    plt.subplot(132)\n",
    "    ml = plt.stem(ns, ye, markerfmt='bo', linefmt='b-', basefmt='k-')\n",
    "    plt.setp(ml, ms=8)\n",
    "    plt.xlim([-npts-0.5, npts+0.5])\n",
    "    min_ = min(0, np.min(ye))\n",
    "    max_ = max(np.max(ye), 1)\n",
    "    range_ = (max_ - min_)*0.1\n",
    "    plt.ylim([min_-range_, max_+range_])\n",
    "    plt.axvline(0, color='k')\n",
    "    plt.axhline(0, color='k')\n",
    "    plt.title(r'$x_e[n]$', size=24)\n",
    "    plt.grid(True)\n",
    "    plt.subplot(133)\n",
    "    ml = plt.stem(ns, yo, markerfmt='bo', linefmt='b-', basefmt='k-')\n",
    "    plt.setp(ml, ms=8)\n",
    "    plt.xlim([-npts-0.5, npts+0.5])\n",
    "    min_ = min(0, np.min(yo))\n",
    "    max_ = max(np.max(yo), 1)\n",
    "    range_ = (max_ - min_)*0.1\n",
    "    plt.ylim([min_-range_, max_+range_])\n",
    "    plt.axvline(0, color='k')\n",
    "    plt.axhline(0, color='k')\n",
    "    plt.title(r'$x_o[n]$', size=24)\n",
    "    plt.grid(True)"
   ]
  },
  {
   "cell_type": "code",
   "execution_count": 31,
   "metadata": {
    "collapsed": false,
    "run_control": {
     "read_only": false
    }
   },
   "outputs": [
    {
     "data": {
      "image/png": "[encoded data removed]",
      "text/plain": [
       "<matplotlib.figure.Figure at 0x7f40ab2def60>"
      ]
     },
     "metadata": {},
     "output_type": "display_data"
    }
   ],
   "source": [
    "interact(s2, sg=('delta', 'step', 'ramp', 'rect', 'triang', 'sin', 'cos'),\n",
    "         part=('none', 'even', 'odd'),\n",
    "         width=(1, 30, 2), delay=(-15, 15));"
   ]
  },
  {
   "cell_type": "code",
   "execution_count": null,
   "metadata": {
    "collapsed": true,
    "run_control": {
     "read_only": false
    }
   },
   "outputs": [],
   "source": []
  },
  {
   "cell_type": "code",
   "execution_count": null,
   "metadata": {
    "collapsed": true
   },
   "outputs": [],
   "source": []
  }
 ],
 "metadata": {
  "kernelspec": {
   "display_name": "Python 3",
   "language": "python",
   "name": "python3"
  },
  "language_info": {
   "codemirror_mode": {
    "name": "ipython",
    "version": 3
   },
   "file_extension": ".py",
   "mimetype": "text/x-python",
   "name": "python",
   "nbconvert_exporter": "python",
   "pygments_lexer": "ipython3",
   "version": "3.4.3+"
  },
  "widgets": {
   "state": {
    "0039f06a91ad4389a067f1695e057cdb": {
     "views": []
    },
    "0056d26b62ae4868a1b925dfe666751a": {
     "views": []
    },
    "01c8c0efc5ff4760a6ae43955851d600": {
     "views": []
    },
    "01ef7145c6594c889e94bb87fd6b165f": {
     "views": []
    },
    "026bd64b7da94ac28e5ccda660e6ee5e": {
     "views": []
    },
    "03083505c36d407e92688d463f48626f": {
     "views": []
    },
    "034972d46d394e769c91d6612fef16a9": {
     "views": []
    },
    "03550ca39621458a8b3b322a056b47ea": {
     "views": []
    },
    "046e2eef1e6a4d3384499b76c94e23ad": {
     "views": []
    },
    "0631005ef0304a86a9809f3e78b47a31": {
     "views": []
    },
    "081c1758b2e24bf09a0bdf7ea8c0f05a": {
     "views": []
    },
    "0968802f58c041769043254479b1b403": {
     "views": []
    },
    "0b14ae1756ea4518a8195564642760a5": {
     "views": []
    },
    "0c7f838f6a2f4f1d9916a4d0765b6ba2": {
     "views": []
    },
    "0e0fa64c41344ac7a2629aaff30f98bf": {
     "views": []
    },
    "0ecaf5425a184d398946415e0d202b47": {
     "views": []
    },
    "0efca4c579fa42549e36c548caadddc1": {
     "views": []
    },
    "1234045ce0ae4c1682dfabfae0d48126": {
     "views": []
    },
    "14fd7901dcde42a6899d7369c26d13a7": {
     "views": []
    },
    "15de4e5db7084cdd8ef46102125f900f": {
     "views": []
    },
    "1698a781892b4678a359904efffba158": {
     "views": []
    },
    "19ba6e1b435445b2ab683b26c4e057ed": {
     "views": []
    },
    "1a208a6c7cea49c7b88f34be0e1a844d": {
     "views": []
    },
    "1ff87fd1e85a4f0cb94f73ec0e4b655a": {
     "views": []
    },
    "25b66a1cddf14b34b1e16b5fe0ff119e": {
     "views": []
    },
    "2654a63ea17a47e2b1abd1a315561b0a": {
     "views": []
    },
    "284e5ab6d2304471a279f97cb771d2f8": {
     "views": []
    },
    "2939ec9175ed42bbafe79970ae6fac78": {
     "views": []
    },
    "2addd9c3986b4b05a3ad28ba824bd5cc": {
     "views": []
    },
    "2ba8aeacb9f64888940e020bf808592f": {
     "views": []
    },
    "2c63c142495c4a8a9f1a1ad67e07574b": {
     "views": []
    },
    "2e97055880fa414e9377bcbcdda7a73b": {
     "views": []
    },
    "31789ee0cea64f7b97c3839d8916138f": {
     "views": []
    },
    "33bc4c3f76c548498acc7cca44b5fd3c": {
     "views": []
    },
    "33fa5eb8fa804edea4be80bc3b6d6695": {
     "views": []
    },
    "34f41a39bcc94dfc898021a54b629870": {
     "views": []
    },
    "35e7e59e37cb42b7bf4a7d7668cb2655": {
     "views": []
    },
    "3d8e52cb9ba94930a7d94080146bf0ef": {
     "views": []
    },
    "3f1bfe76efd04029a292c939ea16fe28": {
     "views": []
    },
    "40acc02981a942a7893cdc6c670f68ab": {
     "views": []
    },
    "4283c75c52a743f084c4743da67dbe1d": {
     "views": []
    },
    "46ee47282a0541a59ed07b1bf846f391": {
     "views": [
      {
       "cell": {
        "cell_type": "code",
        "execution_count": 31,
        "metadata": {
         "collapsed": false,
         "run_control": {
          "read_only": false
         },
         "trusted": true
        },
        "outputs": [
         {
          "data": {
           "image/png": "iVBORw0KGgoAAAANSUhEUgAABIIAAAETCAYAAABKl60tAAAABHNCSVQICAgIfAhkiAAAAAlwSFlz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\nRU5ErkJggg==\n",
           "text/plain": "<matplotlib.figure.Figure at 0x7f40ab2def60>"
          },
          "metadata": {},
          "output_type": "display_data"
         }
        ],
        "source": "interact(s2, sg=('delta', 'step', 'ramp', 'rect', 'triang', 'sin', 'cos'),\n         part=('none', 'even', 'odd'),\n         width=(1, 30, 2), delay=(-15, 15));"
       },
       "cell_index": 6,
       "root": true
      }
     ]
    },
    "47a35b8a34a243dc92f2f953f24aa2d8": {
     "views": []
    },
    "4826667ef3be482397cacc8b1470451b": {
     "views": []
    },
    "4aa3a7a0bcff4418a933f667aeeea884": {
     "views": []
    },
    "4c6f891e656c469281bd855ff73cc7ad": {
     "views": []
    },
    "4e4c01d8bae641499e04bcb2cbc0265e": {
     "views": []
    },
    "519f9f3f62fe4387a5050714fadbf01a": {
     "views": []
    },
    "5228a472c37142b7aedbcf809329ff6a": {
     "views": []
    },
    "5345cff96e0e4697aa403975eaab1e07": {
     "views": []
    },
    "53f75b77f30a4035b413153e99c0fc3d": {
     "views": []
    },
    "567dd65b91474ed79ef4a3476c9e0ce4": {
     "views": []
    },
    "582ba6240df24f4b831f9a1347d60f92": {
     "views": []
    },
    "5928f63d363e47779025db9064a56b7d": {
     "views": []
    },
    "5b36d411e4a54cee9f67d570cf412dfa": {
     "views": []
    },
    "5cffcaf42e174b6a92a8e69a2b17cebd": {
     "views": []
    },
    "5ee32752f718482a9aff52edef4b6641": {
     "views": []
    },
    "5f24740f8e0c42b79ee6742656168740": {
     "views": []
    },
    "5fb80ba4fd5b4ed6ac3f058c683bdcc9": {
     "views": []
    },
    "61a7f266fce94035840b1a9396a6cbd0": {
     "views": []
    },
    "6276a9e8abcb4736bdceddab19df26a7": {
     "views": []
    },
    "6310ee64bd44411e8699ae5cf06045cb": {
     "views": []
    },
    "6377a86bd6b34226b643d416aae07101": {
     "views": []
    },
    "64379e4d0227400ca1a387ea835da931": {
     "views": []
    },
    "655f61a53a8041fb99b4b299f6e8cbe4": {
     "views": []
    },
    "669847a3dae64ea4be5a054aa0c346c0": {
     "views": []
    },
    "674a50c4e5054288af57a0dc1b91a88c": {
     "views": []
    },
    "6aa4d4a47280472082d4132ca65f5ab8": {
     "views": []
    },
    "6c78872a65bb491796c8f0520a8b7e47": {
     "views": []
    },
    "6e07ede438ee49a8a59a6a2ca9d09c67": {
     "views": []
    },
    "6e5eb977443449f6a35b92bf6c3f77dd": {
     "views": []
    },
    "72f5de9fe2e549d18dd1601dd546a9a9": {
     "views": []
    },
    "73281f93a5134044a7d8f79127a6628f": {
     "views": []
    },
    "74235a43220645b3b27c6619758deed8": {
     "views": []
    },
    "744ab8e2cffa488781d1ee699521466d": {
     "views": []
    },
    "74f2b4e008934491b608462417eeeeba": {
     "views": []
    },
    "77198811e45647e881a9406dcbc143ba": {
     "views": []
    },
    "781fb9d3be9e41628ddb2c6ca11ce434": {
     "views": []
    },
    "79010e3c7c46460b962c1ee450686a7c": {
     "views": [
      {
       "cell": {
        "cell_type": "code",
        "execution_count": 3,
        "metadata": {
         "collapsed": false,
         "run_control": {
          "read_only": false
         },
         "trusted": true
        },
        "outputs": [
         {
          "data": {
           "image/png": "iVBORw0KGgoAAAANSUhEUgAABH4AAAETCAYAAABA58E6AAAABHNCSVQICAgIfAhkiAAAAAlwSFlz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\n",
           "text/plain": "<matplotlib.figure.Figure at 0x7f40b835b0b8>"
          },
          "metadata": {},
          "output_type": "display_data"
         }
        ],
        "source": "interact(s1, sg=('delta', 'step', 'ramp', 'rect', 'triang', 'sin', 'cos'),\n         fd=('just delay', 'flip then delay', 'delay then flip'),\n         width=(1, 30, 2), delay=(-15, 15));"
       },
       "cell_index": 3,
       "root": true
      }
     ]
    },
    "7e47d63f0168474a8f8554cb1f0fb104": {
     "views": []
    },
    "7e91bb1f809f4fe68ee9415f3d597a59": {
     "views": []
    },
    "7f367c3dfd0046fca1524dd0d47cc138": {
     "views": []
    },
    "819ca63845464666bb80b6cf7ffface7": {
     "views": []
    },
    "81cb34376eb74aa18e5ec1bac5f55cae": {
     "views": []
    },
    "86c3026261f94f69abdfad70ac84cea1": {
     "views": []
    },
    "8c321a08bfff406d83109364e358fd0d": {
     "views": []
    },
    "8cbbfc0e44c84db9960839bd597b0d6c": {
     "views": []
    },
    "8ceaaf024086481c8ed5bd1ed98af117": {
     "views": []
    },
    "916d0ad51bb94bb7b8a01805866469b1": {
     "views": []
    },
    "9296c53d2ab94c958d9eabba4302884e": {
     "views": []
    },
    "93b0e1692a434891a87dc666ec4052cb": {
     "views": []
    },
    "9401e74a0d1e4406a060ecf1ed48534c": {
     "views": []
    },
    "9545540153d84df494dd89f06763e9a6": {
     "views": []
    },
    "96f383c52ec1402daba66e412a5dbcdf": {
     "views": []
    },
    "98a1d91d3791418bafc8645ead62d231": {
     "views": []
    },
    "99ff8487492d4326bbc4809655d0d79e": {
     "views": []
    },
    "9d25cc8457984f62a48bc3610c6c3861": {
     "views": []
    },
    "9f4412b8a7b54a368e65196dc3bd201a": {
     "views": []
    },
    "a157a86c7b794885a28e4159f12c4fa3": {
     "views": []
    },
    "a247858981de4c15881511229b79f039": {
     "views": []
    },
    "a5cf37f567c147ce9d507a7fe46fff8e": {
     "views": []
    },
    "a849ba5b88ef4a7c9ad8af49027ec99b": {
     "views": []
    },
    "ab1ee380995642dda8f38eb85bc9702c": {
     "views": []
    },
    "abe923acb39f45b492d7c8f8cff14bf0": {
     "views": []
    },
    "ac080e81f3be40f08064d074486f65be": {
     "views": []
    },
    "ae7fef2bb81f405ba288a3126666559f": {
     "views": []
    },
    "b122770ed5a8426f9f45264681f2793b": {
     "views": []
    },
    "b55654063f754109b32c609014362be8": {
     "views": []
    },
    "b5ec6da85fcc46129422ccbf54d449b9": {
     "views": []
    },
    "b7f4accc734347ee92588dd95609d3e9": {
     "views": []
    },
    "b811e725b2c340999948feb8c684f113": {
     "views": []
    },
    "bb351919afc545a28a9f6f4e173bb3e4": {
     "views": []
    },
    "bb6992c9203943a88bd6a8265369aafd": {
     "views": []
    },
    "bbf55e20479b49979be262e29bda27ef": {
     "views": []
    },
    "bcef85b862db43e499d807cf278a97b3": {
     "views": []
    },
    "bd08b9da2ef24ecb8d288dce4d3e84c1": {
     "views": []
    },
    "bd178dd9c1664a768c48ab7b28d280ac": {
     "views": []
    },
    "bd8291ad68874d17bf26f689f1e16a72": {
     "views": []
    },
    "bfaaa12dc72949398bd62ddc8af35baf": {
     "views": []
    },
    "c20e0e61a141443a93837bd40125ee4f": {
     "views": []
    },
    "c2312c8cf7b44ca2bc5f2165fc4424a7": {
     "views": []
    },
    "c31bec3af35c455ebf5586eeedf7bd03": {
     "views": []
    },
    "c3a13eac96f64fa2885de10fc4631d94": {
     "views": []
    },
    "c4b9061cb7294306a44f9067e8f945f7": {
     "views": []
    },
    "c52018929d24478a840583a1ca52ea50": {
     "views": []
    },
    "c818a1aa9d28480ea64d03badda7298a": {
     "views": []
    },
    "c99591fd246949999ffab8ef44a6ab89": {
     "views": []
    },
    "ca6f91dba3b44feb9ea95a3b5d2e768d": {
     "views": []
    },
    "cdfeb731dd8c43e1befbf33b62749653": {
     "views": []
    },
    "ce53bd94b129454b992bce1feac0df3f": {
     "views": []
    },
    "ce59c9dae05c428f9bbfbbfcc869bac0": {
     "views": []
    },
    "d2628edc4a43495fa72cda76bdb786d1": {
     "views": []
    },
    "d394cc05d3f6408889ebe876139a0e53": {
     "views": []
    },
    "d3afd563bcff49e29d9b46156525abd2": {
     "views": []
    },
    "d4017cdb57f54bce9ed3335063e64125": {
     "views": []
    },
    "d4b4b56f1ec24d45ad280a82ffe4ccbe": {
     "views": []
    },
    "d5e4b4d741e54c40970749b3a6f7514c": {
     "views": []
    },
    "d6401f5c2bfe44b59cb2ffeb84add594": {
     "views": []
    },
    "d7035d3835ec440abb1b4255ee30b475": {
     "views": []
    },
    "d76b87e1846841148a8ef6a9c6199695": {
     "views": []
    },
    "d7c2eb308dff4de4a7915cb89f417566": {
     "views": []
    },
    "d7d03ed73ea44fb081b49494e23b01f1": {
     "views": []
    },
    "d92e2c49a64b4a988015adfaf331caf2": {
     "views": []
    },
    "d9fa565872444bb5bde10f6b9200a65a": {
     "views": []
    },
    "db3273c42579406e9b2b5ebbe9235469": {
     "views": []
    },
    "dbd1913bcb2b4e56ae98deae716be162": {
     "views": []
    },
    "dc18e55837234abead5c06c79e020062": {
     "views": []
    },
    "dcebca748b734fc1b3998a7a1661170c": {
     "views": []
    },
    "df0644824c614f7fa598b42b93c95940": {
     "views": []
    },
    "df8d2991d2f44bf18cfc6e5b938d4ece": {
     "views": []
    },
    "e086d2ad34464a77b01c5cd3f7e00c8a": {
     "views": []
    },
    "e458401f7b4a438faa1c1ff5ea0216e0": {
     "views": []
    },
    "e55db22badb94054b82759e76cdae756": {
     "views": []
    },
    "e5fd796377854f509722ffc500a233de": {
     "views": []
    },
    "e60eaac9e55348e59ccd0289b299fe1a": {
     "views": []
    },
    "e6c089a5fe25431c950a622a670a6a47": {
     "views": []
    },
    "e720e3303bc64ace8a30ace8078536e0": {
     "views": []
    },
    "e8a0f5bb27094e67987016da9f1dff14": {
     "views": []
    },
    "eab2190d91ed4c91ac35eccbd4602312": {
     "views": []
    },
    "eba40dc1e06645a185481ff6fb95542d": {
     "views": []
    },
    "ece53af0f46542c4a2a8ce0acfe8aaf1": {
     "views": []
    },
    "ee3dc4dc9df742dbb9c44b9a73b4471e": {
     "views": []
    },
    "eec2596976ac4ebb832db2e89430cb09": {
     "views": []
    },
    "f28164c06035442299917dae6d6cf29c": {
     "views": []
    },
    "f6817ecb45a4494c8e74acb8f2c74f17": {
     "views": []
    },
    "f6dd152e3f2e444db2d78b802b1fa3fe": {
     "views": []
    },
    "f79e749f56c143f58df3bfb00747beb7": {
     "views": []
    },
    "f8877ace88344028a5063c3cf8034818": {
     "views": []
    },
    "f8f64add0f22454cb963e737abdd0048": {
     "views": []
    },
    "fb461318917843258acda54fb0bd6a3d": {
     "views": []
    },
    "fba431de81b94d25a61033d3c609bf1d": {
     "views": []
    },
    "fda91e54b69c44b39a6e198306cc8f87": {
     "views": []
    },
    "fe11aaa5b89f45fdb9675cb0682b0987": {
     "views": []
    },
    "fe81a96388d04ad2a523abc3cb189e61": {
     "views": []
    }
   },
   "version": "1.1.0"
  }
 },
 "nbformat": 4,
 "nbformat_minor": 0
}
