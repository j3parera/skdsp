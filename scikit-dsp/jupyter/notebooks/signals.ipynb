{
 "cells": [
  {
   "cell_type": "code",
   "execution_count": 7,
   "metadata": {
    "collapsed": false,
    "run_control": {
     "read_only": false
    }
   },
   "outputs": [],
   "source": [
    "import matplotlib.pyplot as plt\n",
    "%matplotlib inline\n",
    "import skdsp.signal.discrete as ds\n",
    "import skdsp.signal.printer as pt\n",
    "import numpy as np\n",
    "import sympy as sp\n",
    "import scipy.signal as cp\n",
    "from ipywidgets import interact, fixed\n",
    "np.seterr(all='ignore')\n",
    "PI = sp.S.Pi\n",
    "pi = np.pi"
   ]
  },
  {
   "cell_type": "markdown",
   "metadata": {},
   "source": [
    "## 1.- Básicas"
   ]
  },
  {
   "cell_type": "code",
   "execution_count": 4,
   "metadata": {
    "code_folding": [
     0
    ],
    "collapsed": false,
    "run_control": {
     "read_only": false
    }
   },
   "outputs": [],
   "source": [
    "def s1(sg='delta', fd='nothing', delay=0):\n",
    "    npts = 15\n",
    "    if sg == 'delta':\n",
    "        s = ds.Delta()\n",
    "    elif sg == 'step':\n",
    "        s = ds.Step()\n",
    "    elif sg == 'ramp':\n",
    "        s = ds.Ramp()\n",
    "    elif sg == 'unit ramp':\n",
    "        s = ds.Ramp() * ds.Step()\n",
    "    if fd == 'flip then delay':\n",
    "        s = s.flip().delay(delay)\n",
    "    elif fd == 'delay then flip':\n",
    "        s = s.delay(delay).flip()\n",
    "    elif fd == 'just delay':\n",
    "        s = s.delay(delay)\n",
    "    ns = np.arange(-npts, npts+1)\n",
    "    ys = s[ns]\n",
    "    plt.figure(figsize=(20, 4))\n",
    "    ml = plt.stem(ns, ys, markerfmt='bo', linefmt='b-', basefmt='k-')\n",
    "    plt.setp(ml, ms=8)\n",
    "    plt.xlim([-npts-0.5, npts+0.5])\n",
    "    min_ = min(0, np.min(ys))\n",
    "    max_ = max(np.max(ys), 1)\n",
    "    range_ = (max_ - min_)*0.1\n",
    "    plt.ylim([min_-range_, max_+range_])\n",
    "    plt.axvline(0, color='k')\n",
    "    plt.axhline(0, color='k')\n",
    "    plt.title(pt.latex(s, mode='inline'), size=24)"
   ]
  },
  {
   "cell_type": "code",
   "execution_count": 6,
   "metadata": {
    "collapsed": false,
    "run_control": {
     "read_only": false
    }
   },
   "outputs": [
    {
     "data": {
      "image/png": "[encoded data removed]",
      "text/plain": [
       "<matplotlib.figure.Figure at 0x7f7d46697358>"
      ]
     },
     "metadata": {},
     "output_type": "display_data"
    }
   ],
   "source": [
    "interact(s1, sg=('delta', 'step', 'ramp', 'unit ramp'),\n",
    "         fd=('just delay', 'flip then delay', 'delay then flip'),\n",
    "         delay=(-15, 15));"
   ]
  },
  {
   "cell_type": "code",
   "execution_count": null,
   "metadata": {
    "collapsed": true,
    "run_control": {
     "read_only": false
    }
   },
   "outputs": [],
   "source": []
  }
 ],
 "metadata": {
  "kernelspec": {
   "display_name": "Python 3",
   "language": "python",
   "name": "python3"
  },
  "language_info": {
   "codemirror_mode": {
    "name": "ipython",
    "version": 3
   },
   "file_extension": ".py",
   "mimetype": "text/x-python",
   "name": "python",
   "nbconvert_exporter": "python",
   "pygments_lexer": "ipython3",
   "version": "3.4.3+"
  },
  "widgets": {
   "state": {
    "01cd1d91b1084daabae0b89f24bb8a30": {
     "views": []
    },
    "021f3a1cc15a4bf492d2463763924f40": {
     "views": []
    },
    "21d30eabd7ec4a73af140d47cd92cac4": {
     "views": []
    },
    "629d8f38439446b2ba584a44cd191959": {
     "views": []
    },
    "641eeea4b9ea4f5989e482d55b4f1fee": {
     "views": []
    },
    "7c24dc28810d45d496cdf28edd51d9d9": {
     "views": []
    },
    "83333787ad3147eab747949ab67508b3": {
     "views": []
    },
    "8cb981eb8333445a84677868665014f0": {
     "views": []
    },
    "9671d117cb8d4e7aaffe88885b4ad515": {
     "views": []
    },
    "a650ffe858984af1935994e5c7f33155": {
     "views": []
    },
    "a7f6bbbb8af34232af1110ce93f4da25": {
     "views": []
    },
    "ab3bcd8c644b4c7883c04cd8f043ed3a": {
     "views": []
    },
    "ae659b851dcd4ecc88ebafc6c0d79d01": {
     "views": []
    },
    "eef0e9c8bbaa4d2683ea7fd68d624113": {
     "views": [
      {
       "cell": {
        "cell_type": "code",
        "execution_count": 6,
        "metadata": {
         "collapsed": false,
         "run_control": {
          "read_only": false
         },
         "trusted": true
        },
        "outputs": [
         {
          "data": {
           "image/png": "iVBORw0KGgoAAAANSUhEUgAABH4AAAEVCAYAAACWviInAAAABHNCSVQICAgIfAhkiAAAAAlwSFlz\nAAALEgAACxIB0t1+/AAAG3VJREFUeJzt3X2wLHddJvDnm4RA8eKV1yCBBBARZUXJSohK8GAQLuJW\nLrhCgiIIu2Rlw9aaqiXB6HKLWgSsXbAEUaMRgYWNAvIS5CVgcoQsIMEYXuSGvLgEEjBKJLiKbC7h\nu3/MJBwP52XOOXPPzHQ+n6qpO9P9m+4n012Tvs/t7qnuDgAAAADDc9isAwAAAABwaCh+AAAAAAZK\n8QMAAAAwUIofAAAAgIFS/AAAAAAMlOIHAAAAYKAUPwAAAAADpfgBAAAAGCjFDwAskKo6tqr+cNY5\n5klVPa+qnj7rHFtRVUdX1ZVVdeH48V2zzjQPquopVXVRVX2wqj446zwAMATV3bPOAABMoKrumeT8\nJE/u7i/MOs+8qKpK8s4kr+/u82adZxJVdWySi7r7gbPOMo98PgAwPc74AYDF8YYkL1n00qeq7lZV\nn6yq+2ww5jer6vVVtVRV96qqO1XVw6rqV6rq4pVje/SvWD+X5IVVdf9Dm57Vpr09AYDpOmLWAQCA\nzVXVzyU5vLvfPuss21VVd0pycpKXJLlvNj4OuWOSnxk/VvpSkr2rB3f3DVX16iSvSfKYqQRmQ4dy\newIA0+OMHwCYc1V1eJIXJXnxrLNsV1W9KcmfJPnXSb464dv+PkmPHzck+c0kD+3uS9cZf26S76uq\npZ2lZTO7tD0BgClwxg8AzL+nJEl3XzjrINvV3T99y/OqOi7Jgyd425OT/EWS23X3jROs46tV9ftJ\nzkyyvM2oTGA3ticAMB3O+AGA+XdqknfNOsQsdPc/bbEkuDDJSVV110OVie3bxvYEAHZI8QMAc6yq\njkzy40k+MOssC+JDGR3fPHGrb6yqV1fV6dOPBAAwO4ofAJhvxyU5Mskn1ppZVXevqndV1aVV9fLx\ntLtU1f+oqvdV1V9W1YVVtYg/i32HqnpZVV1cVR+sqouqasMbN3f3PyT5qyQnbGN9xyS531beUFX/\nvaouqaqPrvUZV9Vbq+p1Ey5ryNsy2cb2BAB2TvEDAPPt+8Z/fnad+b+a5PkZ/Zz5f66q5yV5bZLX\ndfePd/fDk9w1yR8c4pyHwsuTfLi7H9XdJyZ5ZZILquqpm7zvc0n+1TbW96XxYyJVdVqSq7v7EeNJ\n+1fN/46MfvWqJ1zkkLdlsv3tCQDsgOIHAObbsUlu7u5v+eWk8WVgR3f3p5J823jyLyf5he7++Iqh\nn07yg4c86XR9LclZ3f22WyZ09x8neXeS36mqe27w3i8nuf9mK6iqn66qT1bVw8aTbkjyd+N5J1XV\n1VX1Q+u89/AkT+zu36qqw5I8MMnhq4adOP5z08v0Br4tk51tTwBgBxQ/ADDfvj3JP6wz7/gkF42f\nPyKjM0v+S3dfv2rcfTL6Ke2F0d2/0N3vXGPWcpK7JHnWBm//cpI9E6zmw0kuS3JxVT0no7N9vlJV\nL07ytox+rvzT67z3RzMqLZLkcUnuluQ9q8acmNE2meT+TIPdlsmOtycAsAN+zh0A5tsdkvzjWjO6\n++IkF49fLiX5epI3rxxTVbfPqEhYXUp8i6p6Q5Lv2EK2yqig+J/d/ftbeN9O3DBe72OTvGydMV9J\ncqfNFtTd1yZ5elU9IMlZ42V+Lcnbkzyguze67Gu5uy8cP39Gkn9O8tZVY05Mcn13XzlBlqluy/H4\noWxPAGAHFD8AMN++ltHNnTdzYpK/WOOSsMcluWOStc62+Be6+2e2Hm/6quqJSf5rkl/p7gvWGXaf\nDRZxZEaf26RuN37PYRldrnW7bHKM1N3fGGc9MqNfEHtPd99a0FXVnozuM/TmtZewoR1vy3HGoWxP\nAGAHXOoFAPPtxmxy9kpVfX9GlxotrzH7yUluyujSpUXxHzM6s+V5a8y76/jPGzd4/502mZ8kqar7\nVtUbk3wso8u+fi/J2UkOJrmqql41LnA28ugkd07yvlXTfySj46xJLvNamWlo2zLZ+fYEAHZA8QMA\n8+2aJHeuqjtuMGYpo0t0lldOrKo7JHlSknd2941Vdfuq+l+HKugUfSnJV5P80Rrzbjkz5KMbvP8+\nWf9X0Fb6oYzOyvnh7j4nyb2T3LO7fymjX+Pam+R7N1nGd2f02f/Fquk/mhX396mqc6uqJsi0lGFt\ny2Tn2xMA2AGXegHAfPvk+M8HJPmrdcb8WEb3hLl41fQTM/qFqDeMXz8lE94fZsbek+Tt3f2WNeY9\nNqP/1t/b4P0PSPKRzVbS3W9K8qYVk47K6J4z6e4/TfKgCbLe8kteX75lQlUdkdHlX1/t7k+NLwe7\nc3dP8rPuQ9uWyc63JwCwA874AYD5dmmS/5fkB9aaOT6L5FFJPrbGPWG+kdHZI5dX1f2SPC3J6w9h\n1k1V1b2THD1++Yh1hr0pybOq6l/c96Wqjsvoc3hxd69Zgo1Ll+9N8qFtxPu/2dq9gZLkwiQ3J3nk\neP2HJ3nleDm33PPn1Exwedaibcvk0G9PAGDnarJ/fAIAZqWq3pHki9192hrz7pjkM0l+qbu/pQio\nqldldLbI3yd5ziS/MHUojO+lc1KSe6ya9c8ZXQr0Q939xRXj75/kNUnOT/KpjM6+OSPJOd39axus\n58SMypjv2ORXuaamqp6c5PkZXZaXJK9KcnWSN2ZUJl3V3b+46j3HJrmoux+4YtpCbMtxlkO6Pdf6\nfACA7VH8AMCcq6pTk/xad99v1ll2U1UdluQnkzw4yd8keXd337DJe16a5OHd/fhdiLhtt8ViYyvb\n87b4+QDAoaL4AYA5N7586eqMzvJ476zzzKvxZVafS/Ls7p7r+98oNjbm8wGA6XGPHwCYc9399SQv\nTHLWrLPMuWckuXreSx8AgN2k+AGABdDdf5Dk6+P7ybBKVX1bRsXYf5h1FgCAeaL4AYDFcWqSM1f/\nOhJJRr+k9aLu/vSsg2xBzTrAHPPZAMCU7Oo9fqrKDYUAAAAApqy71/yHkyNmEGTHy9i/f3/279+/\n8zAwB+zPDIn9mSGpqqkct8A88P3MkNifGZJp7c9V658s61IvAAAAgIFS/AAAAAAM1EIWP0tLS7OO\nAFNjf2ZI7M8A88n3M0Nif2ZIdmN/3vWbO7tWHgBYBO7xAwAsivFxy5o3+lnIM34AAAAA2JziBwAA\nAGCgFD8AAAAAA6X4AQAAABgoxQ8AAADAQCl+AAAAAAZK8QMAAAAwUIofAAAAgIHatPipqnOr6vqq\n+sQGY36jqq6sqsuq6gemGxEAAACA7ZjkjJ/XJHn8ejOr6glJvrO7vyvJaUl+e0rZAAAAANiBTYuf\n7r44yZc3GHJykteNx/55kj1VddR04gEAAACwXdO4x8/RST6/4vV142kAAAAAzNARu73C/fv33/p8\naWkpS0tLux0BAAAAYGEtLy9neXl5orHV3ZsPqjo2yfnd/bA15v12kou6+w/Hry9P8qPdff0aY3uS\n9QEAzFpVxXELALAIxscttda8SS/1qvFjLe9I8nPjFZ2Q5Ma1Sh8AAAAAdteml3pV1RuTLCW5e1V9\nLskLkxyZpLv7nO5+V1X9RFVdleSfkvz8oQwMAAAAwGQmutRraitzqRcAsCBc6gUALIppXOoFAAAA\nwIJR/AAAAAAMlOIHAAAAYKAUPwAAAAADpfgBAAAAGCjFDwAAAMBAKX4AAAAABkrxAwAAADBQih8A\nAACAgVL8AAAAAAyU4gcAAABgoBQ/AAAAAAOl+AEAAAAYKMUPAAAAwEApfgAAAAAGSvEDAAAAMFCK\nHwAAAICBUvwAAAAADJTiBwAAAGCgFD8AAAAAA6X4AQAAABgoxQ8AAADAQCl+AAAAAAZK8QMAAAAw\nUIofAAAAgIFS/AAAAAAMlOIHAAAAYKAUPwAAAAADNVHxU1V7q+ryqrqiqs5cY/7dq+rdVXVZVX2y\nqp459aQAAAAAbEl198YDqg5LckWSk5J8IcklSU7p7stXjHlhkjt09wuq6h5JPpPkqO7++qpl9Wbr\nAwCYB1UVxy0AwCIYH7fUWvMmOePn+CRXdvc13X0wyXlJTl415m+S3GX8/C5Jblhd+gAAAACwu46Y\nYMzRST6/4vW1GZVBK/1ukj+tqi8kuXOSp04nHgAAAADbNUnxM4kXJPl4dz+mqr4zyfuq6mHd/Y+r\nB+7fv//W50tLS1laWppSBAAAAIDhW15ezvLy8kRjJ7nHzwlJ9nf33vHrs5J0d79sxZh3JXlxd//v\n8es/TXJmd39s1bLc4wcAWAju8QMALIqd3uPnkiQPqqpjq+rIJKckeceqMQeSPHa8sqOSPDjJX28/\nMgAAAAA7temlXt19c1WdnuSCjIqic7v7QFWdNprd5yR5SZLXVNXHk1SS53f33x/K4AAAAABsbNNL\nvaa6Mpd6AQALwqVeAMCi2OmlXgAAAAAsIMUPAAAAwEApfgAAAAAGSvEDAAAAMFCKHwAAAICBUvwA\nAAAADJTiBwAAAGCgFD8AAAAAA6X4AQAAABgoxQ8AAADAQCl+AAAAAAZK8QMAAAAwUIofAAAAgIFS\n/AAAAAAMlOIHAAAAYKAUPwAAAAADpfgBAAAAGCjFDwAAAMBAKX4AAAAABkrxAwAAADBQih8AAACA\ngVL8AAAAAAyU4gcAAABgoBQ/AAAAAAOl+AEAAAAYKMUPAAAAwEApfgAAAAAGSvEDAAAAMFATFT9V\ntbeqLq+qK6rqzHXGLFXVX1bVp6rqounGBAAAAGCrqrs3HlB1WJIrkpyU5AtJLklySndfvmLMniQf\nSvK47r6uqu7R3V9aY1m92foAAOZBVcVxCwCwCMbHLbXWvEnO+Dk+yZXdfU13H0xyXpKTV415WpK3\ndPd1SbJW6QMAAADA7pqk+Dk6yedXvL52PG2lBye5W1VdVFWXVNXTpxUQAAAAgO05YorLOS7JjyW5\nU5IPV9WHu/uqKS0fAAAAgC2apPi5LskxK17fdzxtpWuTfKm7v5bka1X1gSTfn+Rbip/9+/ff+nxp\naSlLS0tbSwwAAABwG7a8vJzl5eWJxk5yc+fDk3wmo5s7fzHJR5Oc2t0HVox5SJJXJtmb5PZJ/jzJ\nU7v706uW5ebOAMBCcHNnAGBRbHRz503P+Onum6vq9CQXZHRPoHO7+0BVnTaa3ed09+VV9d4kn0hy\nc5JzVpc+AAAAAOyuTc/4merKnPEDACwIZ/wAAItipz/nDgAAAMACUvwAAAAADJTiBwAAAGCgFD8A\nAAAAA6X4AQAAABgoxQ8AAADAQCl+AAAAAAZK8QMAAAAwUIofAAAAgIFS/AAAAAAMlOIHAAAAYKAU\nPwAAAAADpfgBAAAAGCjFDwAAAMBAKX4AAAAABkrxAwAAADBQih8AAACAgVL8AAAAAAyU4gcAAABg\noBQ/AAAAAAOl+AEAAAAYKMUPAAAAwEApfgAAAAAGSvEDAAAAMFCKHwAAAICBUvwAAAAADJTiBwAA\nAGCgFD8AAAAAAzVR8VNVe6vq8qq6oqrO3GDcI6rqYFU9eXoRAQAAANiOTYufqjosyauSPD7JQ5Oc\nWlUPWWfcS5O8d9ohAQAAANi6Sc74OT7Jld19TXcfTHJekpPXGPe8JG9O8rdTzAcAAADANk1S/Byd\n5PMrXl87nnarqrpPkn3d/VtJanrxAAAAANiuad3c+deTrLz3j/IHAAAAYMaOmGDMdUmOWfH6vuNp\nK/1gkvOqqpLcI8kTqupgd79j9cL2799/6/OlpaUsLS1tMTIAAADAbdfy8nKWl5cnGlvdvfGAqsOT\nfCbJSUm+mOSjSU7t7gPrjH9NkvO7+4/XmNebrQ8AYB5UVRy3AACLYHzcsubVV5ue8dPdN1fV6Uku\nyOjSsHO7+0BVnTaa3eesfsuOEwMAAACwY5ue8TPVlTnjBwBYEM74AQAWxUZn/Ezr5s4AAAAAzBnF\nDwAAAMBAKX4AAAAABkrxAwAAADBQih8AAACAgVL8AAAAAAyU4gcAAABgoBQ/AAAAAAOl+AEAAAAY\nKMUPAAAAwEApfgAAAAAGSvEDAAAAMFCKHwAAAICBUvwAAAAADJTiBwAAAGCgFD8AAAAAA6X4AQAA\nABgoxQ8AAADAQCl+AAAAAAZK8QMAAAAwUIofAAAAgIFS/AAAAAAMlOIHAAAAYKAUPwAAAAADpfgB\nAAAAGCjFDwAAAMBAKX4AAAAABkrxAwAAADBQih8AAACAgZqo+KmqvVV1eVVdUVVnrjH/aVX18fHj\n4qr6vulHBQAAAGArqrs3HlB1WJIrkpyU5AtJLklySndfvmLMCUkOdPdXqmpvkv3dfcIay+rN1gcA\nMA+qKo5bAIBFMD5uqbXmTXLGz/FJruzua7r7YJLzkpy8ckB3f6S7vzJ++ZEkR+8kMAAAAAA7N0nx\nc3SSz694fW02Lnb+XZJ37yQUAAAAADt3xDQXVlWPSfLzSR613pj9+/ff+nxpaSlLS0vTjAAAAAAw\naMvLy1leXp5o7CT3+Dkho3v27B2/PitJd/fLVo17WJK3JNnb3Vevsyz3+AEAFoJ7/AAAi2Kn9/i5\nJMmDqurYqjoyySlJ3rFqBcdkVPo8fb3SBwAAAIDdtemlXt19c1WdnuSCjIqic7v7QFWdNprd5yT5\nlSR3S/LqqqokB7v7+EMZHAAAAICNbXqp11RX5lIvAGBBuNQLAFgUO73UCwAAAIAFpPgBAAAAGCjF\nDwAAAMBAKX4AAAAABkrxAwAAADBQih8AAACAgVL8AAAAAAyU4gcAAABgoBQ/AAAAAAOl+AEAAAAY\nKMUPAAAAwEApfgAAAAAGSvEDAAAAMFCKHwAAAICBUvwAAAAADJTiBwAAAGCgFD8AAAAAA6X4AQAA\nABgoxQ8AAADAQCl+AAAAAAZK8QMAAAAwUIofAAAAgIFS/AAAAAAMlOIHAAAAYKAUPwAAAAADpfgB\nAAAAGCjFDwAAAMBAKX4AAAAABuqISQZV1d4kv55RUXRud79sjTG/keQJSf4pyTO7+7JpBk2SD3zg\nI3nFK96ZG288PN/+7TfnF3/xJ/PoR58w7dXII4888sgjjzzyJEme9KRfnps88/b5yCOPPPLII488\nC5Knuzd8ZFT2XJXk2CS3S3JZkoesGvOEJH8yfv7IJB9ZZ1m9XWec8Yres+d1ndzUSXdyU+/Z87o+\n44xXbHuZOyGPPPLII4888gw9T+Ysz7x9PvLII4888sgjz7zkGfcta/c66824dUByQpJ3r3h9VpIz\nV4357SRPXfH6QJKj1ljWtv4D/uzPPjz+UPpbHnv2vK4/8IGPbGu52yWPPPLII4888twW8mTO8szb\n5yOPPPLII4888sxLnp0WPz+V5JwVr382yW+sGnN+kh9e8fr9SY5bY1nb+g/Yt+/s/mYTtvpxU+/b\nd/a2lrtd8sgjjzzyyCPPbSFP5izPvH0+8sgjjzzyyCPPvOTZqPip0fz1VdVPJXl8dz9n/Ppnkxzf\n3f9pxZjzk7ykuz80fv3+JM/v7ktXLWvjlQEAAACwZd1da02f5Fe9rktyzIrX9x1PWz3mfpuMuSXI\nlh/79p2d5KYkvcbjpuzbd/a2lrvdhzzyyCOPPPLIc1vIkznLM2+fjzzyyCOPPPLIMy95NjTBmw/P\nN2/ufGRGN3f+nlVjfiLfvLnzCZnyzZ1vK9fkySOPPPLII48885Qnc5Zn3j4feeSRRx555JFnXvKM\n+5as9dj0jJ/uvjnJ6UkuSPJXSc7r7gNVdVpVPWc85l1J/k9VXZXkd5I8d7PlbsWjH31Cnv3sG7Jn\nz+uTHBxPPZg9e16fZz/7hpx44iOnuTp55JFHHnnkkUceeeSRRx555JFHnkHk2fQeP1NdWVXvZH0f\n/OCf5+UvPz9f+crh2bPn5pxxxr/Z9Y0kjzzyyCOPPPLcNvK87W0vzr59Z89Nnnn7fOSRRx555JFH\nnvnJU1Xpde7xs1DFDwDAbhkfQM06BgDApjYqfia5uTMAAAAAC0jxAwAAADBQih8AAACAgVL8AAAA\nAAyU4gcAAABgoBQ/AAAAAAOl+AEAAAAYKMUPAAAAwEApfgAAAAAGaiGLn+Xl5VlHgKmxPzMk9meA\n+eT7mSGxPzMku7E/K35gxuzPDIn9GWA++X5mSOzPDIniBwAAAIBtU/wAAAAADFR19+6trGr3VgYA\nAABwG9Hdtdb0XS1+AAAAANg9LvUCAAAAGCjFDwAAAMBALVTxU1X/tqo+VVU3V9VxK6YfW1VfrapL\nx49XzzInTGK9/Xk87wVVdWVVHaiqx80qI2xHVb2wqq5d8Z28d9aZYKuqam9VXV5VV1TVmbPOAztR\nVZ+tqo9X1V9W1UdnnQe2oqrOrarrq+oTK6bdtaouqKrPVNV7q2rPLDPCpNbZnw/5sfNCFT9JPpnk\nSUn+bI15V3X3cePHc3c5F2zHmvtzVX1Pkqck+Z4kT0jy6qpa8yZdMMdevuI7+T2zDgNbUVWHJXlV\nkscneWiSU6vqIbNNBTvyjSRL3f3w7j5+1mFgi16T0ffxSmcleX93f3eSC5O8YNdTwfastT8nh/jY\neaGKn+7+THdfmWStvwT7izELZYP9+eQk53X317v7s0muTOIgjUXjO5lFdnySK7v7mu4+mOS8jL6b\nYVFVFuy4H27R3Rcn+fKqyScnee34+WuT7NvVULBN6+zPySE+dh7S/wDuPz4t6qKqetSsw8AOHJ3k\n8yteXzeeBovk9Kq6rKp+z+nXLKDV38PXxvcwi62TvK+qLqmqfz/rMDAF9+ru65Oku/8myb1mnAd2\n6pAeOx8x7QXuVFW9L8lRKydl9D+rs7v7/HXe9oUkx3T3l8f3SnlbVX1vd//jIY4LG9rm/gxzb6N9\nO8mrk7you7uq/luSlyd59u6nBGDsR7r7i1V1z4wKoAPjf3WGoehZB4AdOOTHznNX/HT3j2/jPQcz\nPl2quy+tqquTPDjJpVOOB1uynf05ozN87rfi9X3H02BubGHf/t0kSk4WzXVJjlnx2vcwC627vzj+\n8++q6q0ZXc6o+GGRXV9VR3X39VV17yR/O+tAsF3d/XcrXh6SY+dFvtTr1mvgquoe4xsxpqoemORB\nSf56VsFgG1Ze0/mOJKdU1ZFV9YCM9me/wMHCGB+A3eLJST41qyywTZckedD4V0OPTHJKRt/NsHCq\n6o5Vdefx8zsleVx8L7N4Kt96vPzM8fNnJHn7bgeCHfgX+/NuHDvP3Rk/G6mqfUlemeQeSd5ZVZd1\n9xOSPDrJi6rqpox+teC07r5xhlFhU+vtz9396ar6oySfTnIwyXO72+mrLJJfq6ofyOj7+LNJTptt\nHNia7r65qk5PckFG/0h2bncfmHEs2K6jkry1qjqjY/83dPcFM84EE6uqNyZZSnL3qvpckhcmeWmS\nN1XVs5Jck9Ev4sLcW2d/fsyhPnYuf58EAAAAGKZFvtQLAAAAgA0ofgAAAAAGSvEDAAAAMFCKHwAA\nAICBUvwAAAAADJTiBwAAAGCgFD8AAAAAA6X4AQAAABio/w8R/wzQgAwirQAAAABJRU5ErkJggg==\n",
           "text/plain": "<matplotlib.figure.Figure at 0x7f7d46697358>"
          },
          "metadata": {},
          "output_type": "display_data"
         }
        ],
        "source": "interact(s1, sg=('delta', 'step', 'ramp', 'unit ramp'),\n         fd=('just delay', 'flip then delay', 'delay then flip'),\n         delay=(-15, 15));"
       },
       "cell_index": 3,
       "root": true
      }
     ]
    },
    "f971ab12d2fe412e9ed22bd1f654b017": {
     "views": []
    },
    "f99a6779fa684e439f43949fdf51ce63": {
     "views": []
    }
   },
   "version": "1.1.0"
  }
 },
 "nbformat": 4,
 "nbformat_minor": 0
}
