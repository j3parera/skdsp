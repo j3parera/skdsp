{
 "cells": [
  {
   "cell_type": "code",
   "execution_count": 1,
   "metadata": {
    "collapsed": false,
    "run_control": {
     "read_only": false
    }
   },
   "outputs": [],
   "source": [
    "import matplotlib.pyplot as plt\n",
    "%matplotlib inline\n",
    "import skdsp.signal.discrete as ds\n",
    "import skdsp.signal.printer as pt\n",
    "import numpy as np\n",
    "import sympy as sp\n",
    "import scipy.signal as cp\n",
    "from ipywidgets import interact, fixed\n",
    "np.seterr(all='ignore')\n",
    "PI = sp.S.Pi\n",
    "pi = np.pi"
   ]
  },
  {
   "cell_type": "markdown",
   "metadata": {},
   "source": [
    "## 1.- Básicas"
   ]
  },
  {
   "cell_type": "code",
   "execution_count": 2,
   "metadata": {
    "code_folding": [],
    "collapsed": false,
    "run_control": {
     "read_only": false
    }
   },
   "outputs": [],
   "source": [
    "def s1(sg='delta', fd='just delay', width=16, delay=0):\n",
    "    npts = 15\n",
    "    if sg == 'delta':\n",
    "        s = ds.Delta()\n",
    "    elif sg == 'step':\n",
    "        s = ds.Step()\n",
    "    elif sg == 'ramp':\n",
    "        s = ds.Ramp()\n",
    "    elif sg == 'unit ramp':\n",
    "        s = ds.Ramp() * ds.Step()\n",
    "    elif sg == 'rect':\n",
    "        s = ds.Rect(width)\n",
    "    elif sg == 'triang':\n",
    "        s = ds.Triang(width)\n",
    "    if fd == 'flip then delay':\n",
    "        s = s.flip().delay(delay)\n",
    "    elif fd == 'delay then flip':\n",
    "        s = s.delay(delay).flip()\n",
    "    elif fd == 'just delay':\n",
    "        s = s.delay(delay)\n",
    "    ns = np.arange(-npts, npts+1)\n",
    "    ys = s[ns]\n",
    "    plt.figure(figsize=(20, 4))\n",
    "    ml = plt.stem(ns, ys, markerfmt='bo', linefmt='b-', basefmt='k-')\n",
    "    plt.setp(ml, ms=8)\n",
    "    plt.xlim([-npts-0.5, npts+0.5])\n",
    "    min_ = min(0, np.min(ys))\n",
    "    max_ = max(np.max(ys), 1)\n",
    "    range_ = (max_ - min_)*0.1\n",
    "    plt.ylim([min_-range_, max_+range_])\n",
    "    plt.axvline(0, color='k')\n",
    "    plt.axhline(0, color='k')\n",
    "    plt.title(pt.latex(s, mode='inline'), size=24)"
   ]
  },
  {
   "cell_type": "code",
   "execution_count": 3,
   "metadata": {
    "collapsed": false,
    "run_control": {
     "read_only": false
    }
   },
   "outputs": [
    {
     "data": {
      "image/png": "[encoded data removed]",
      "text/plain": [
       "<matplotlib.figure.Figure at 0x7f8d2eafb630>"
      ]
     },
     "metadata": {},
     "output_type": "display_data"
    }
   ],
   "source": [
    "interact(s1, sg=('delta', 'step', 'ramp', 'unit ramp', 'rect', 'triang'),\n",
    "         fd=('just delay', 'flip then delay', 'delay then flip'),\n",
    "         width=(1, 30, 2), delay=(-15, 15));"
   ]
  },
  {
   "cell_type": "code",
   "execution_count": null,
   "metadata": {
    "collapsed": true,
    "run_control": {
     "read_only": false
    }
   },
   "outputs": [],
   "source": []
  }
 ],
 "metadata": {
  "kernelspec": {
   "display_name": "Python 3",
   "language": "python",
   "name": "python3"
  },
  "language_info": {
   "codemirror_mode": {
    "name": "ipython",
    "version": 3
   },
   "file_extension": ".py",
   "mimetype": "text/x-python",
   "name": "python",
   "nbconvert_exporter": "python",
   "pygments_lexer": "ipython3",
   "version": "3.4.3+"
  },
  "widgets": {
   "state": {
    "05a59bba98ec4600b66d653b5df9d198": {
     "views": []
    },
    "1490fc163cff4043af1c5993de525f46": {
     "views": []
    },
    "1ba507d3a69140428ae858d83436d8ad": {
     "views": []
    },
    "2197f4678daa4d42930155801b092f06": {
     "views": []
    },
    "2b6fd9b31482485590ba943aacdcff1c": {
     "views": []
    },
    "30ec95fd7c2b433c8e7cc2a56ac073ca": {
     "views": []
    },
    "3b827767af1d462e9717f2b3207190b4": {
     "views": []
    },
    "40ead4ea9e9c4564a5a3d4e0b56c7ed0": {
     "views": []
    },
    "41a01ef020a04d63a29ddac169114fd5": {
     "views": [
      {
       "cell": {
        "cell_type": "code",
        "execution_count": 3,
        "metadata": {
         "collapsed": false,
         "run_control": {
          "read_only": false
         },
         "trusted": true
        },
        "outputs": [
         {
          "data": {
           "image/png": "iVBORw0KGgoAAAANSUhEUgAABH4AAAEVCAYAAACWviInAAAABHNCSVQICAgIfAhkiAAAAAlwSFlz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\nAAAAAElFTkSuQmCC\n",
           "text/plain": "<matplotlib.figure.Figure at 0x7f8d2eafb630>"
          },
          "metadata": {},
          "output_type": "display_data"
         }
        ],
        "source": "interact(s1, sg=('delta', 'step', 'ramp', 'unit ramp', 'rect', 'triang'),\n         fd=('just delay', 'flip then delay', 'delay then flip'),\n         width=(1, 30, 2), delay=(-15, 15));"
       },
       "cell_index": 3,
       "root": true
      }
     ]
    },
    "4cdd5507c015451a94bf84e67e8ab943": {
     "views": []
    },
    "5075395ccc2e4f03a1bfe06479c1304a": {
     "views": []
    },
    "521e87d72d594dc584aa50cff4e3f0a9": {
     "views": []
    },
    "5d2abbc616354c21b2903c17026dc0e8": {
     "views": []
    },
    "6cb25f439f06498995c042b87b2e7101": {
     "views": []
    },
    "788989323e1f44c1ac32d1c976ba2aae": {
     "views": []
    },
    "7f2c958ea8504a2c95461aa1ac0a52fb": {
     "views": []
    },
    "92e66610ae944048ac9c4d9ce3149777": {
     "views": []
    },
    "a7715052bd574d41b565c465bbd85802": {
     "views": []
    },
    "ad0ae2545994463996738c2415e18b22": {
     "views": []
    },
    "aed3e8f060d842ff9321f7022df6705d": {
     "views": []
    },
    "b73eff011654494eb9258117de8cfcfc": {
     "views": []
    },
    "c57fec2dd381497694b3298d7ed53348": {
     "views": []
    },
    "d26c389a763c46668810008b188179de": {
     "views": []
    },
    "d63c758f699242258dd932e10921df63": {
     "views": []
    },
    "d898920e49ba4592ae9d48c3398aa845": {
     "views": []
    },
    "e37d92bdb9d347afab6758ffd466f04b": {
     "views": []
    },
    "e83d6f63d94e47a7b3d4a575f5404723": {
     "views": []
    },
    "f5036ee470d14182908774a62d1152ce": {
     "views": []
    },
    "f5c1813994e2488a98a32f68feec485e": {
     "views": []
    },
    "f9ca1a72aa9440ac826ac1ce1242d0a8": {
     "views": []
    }
   },
   "version": "1.1.0"
  }
 },
 "nbformat": 4,
 "nbformat_minor": 0
}
