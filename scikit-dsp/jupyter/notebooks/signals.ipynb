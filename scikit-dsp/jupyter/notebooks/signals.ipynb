{
 "cells": [
  {
   "cell_type": "code",
   "execution_count": 1,
   "metadata": {
    "collapsed": false,
    "run_control": {
     "read_only": false
    }
   },
   "outputs": [],
   "source": [
    "import matplotlib.pyplot as plt\n",
    "%matplotlib inline\n",
    "import skdsp.signal.discrete as ds\n",
    "import skdsp.signal.printer as pt\n",
    "import numpy as np\n",
    "import sympy as sp\n",
    "import scipy.signal as cp\n",
    "from ipywidgets import interact, fixed\n",
    "np.seterr(all='ignore')\n",
    "PI = sp.S.Pi\n",
    "pi = np.pi"
   ]
  },
  {
   "cell_type": "markdown",
   "metadata": {},
   "source": [
    "## 1.- Básicas"
   ]
  },
  {
   "cell_type": "code",
   "execution_count": 2,
   "metadata": {
    "code_folding": [],
    "collapsed": false,
    "run_control": {
     "read_only": false
    }
   },
   "outputs": [],
   "source": [
    "def s1(sg='delta', fd='nothing', delay=0):\n",
    "    npts = 15\n",
    "    if sg == 'delta':\n",
    "        s = ds.Delta()\n",
    "    elif sg == 'step':\n",
    "        s = ds.Step()\n",
    "    elif sg == 'ramp':\n",
    "        s = ds.Ramp()\n",
    "    elif sg == 'unit ramp':\n",
    "        s = ds.Ramp() * ds.Step()\n",
    "    if fd == 'flip then delay':\n",
    "        s = s.flip().delay(delay)\n",
    "    elif fd == 'delay then flip':\n",
    "        s = s.delay(delay).flip()\n",
    "    elif fd == 'just delay':\n",
    "        s = s.delay(delay)\n",
    "    ns = np.arange(-npts, npts+1)\n",
    "    ys = s[ns]\n",
    "    plt.figure(figsize=(20, 4))\n",
    "    ml = plt.stem(ns, ys, markerfmt='bo', linefmt='b-', basefmt='k-')\n",
    "    plt.setp(ml, ms=8)\n",
    "    plt.xlim([-npts-0.5, npts+0.5])\n",
    "    min_ = min(0, np.min(ys))\n",
    "    max_ = max(np.max(ys), 1)\n",
    "    range_ = (max_ - min_)*0.1\n",
    "    plt.ylim([min_-range_, max_+range_])\n",
    "    plt.axvline(0, color='k')\n",
    "    plt.axhline(0, color='k')\n",
    "    plt.title(pt.latex(s, mode='inline'), size=24)"
   ]
  },
  {
   "cell_type": "code",
   "execution_count": 3,
   "metadata": {
    "collapsed": false,
    "run_control": {
     "read_only": false
    }
   },
   "outputs": [
    {
     "data": {
      "image/png": "[encoded data removed]",
      "text/plain": [
       "<matplotlib.figure.Figure at 0x7f42fde89400>"
      ]
     },
     "metadata": {},
     "output_type": "display_data"
    }
   ],
   "source": [
    "interact(s1, sg=('delta', 'step', 'ramp', 'unit ramp'),\n",
    "         fd=('just delay', 'flip then delay', 'delay then flip'),\n",
    "         delay=(-15, 15));"
   ]
  },
  {
   "cell_type": "code",
   "execution_count": null,
   "metadata": {
    "collapsed": true,
    "run_control": {
     "read_only": false
    }
   },
   "outputs": [],
   "source": []
  }
 ],
 "metadata": {
  "kernelspec": {
   "display_name": "Python 3",
   "language": "python",
   "name": "python3"
  },
  "language_info": {
   "codemirror_mode": {
    "name": "ipython",
    "version": 3
   },
   "file_extension": ".py",
   "mimetype": "text/x-python",
   "name": "python",
   "nbconvert_exporter": "python",
   "pygments_lexer": "ipython3",
   "version": "3.4.3+"
  },
  "widgets": {
   "state": {
    "028006def4d04334af6c6ed39d1566e2": {
     "views": []
    },
    "0290fdc3d6c044038ee9e0c6461f20f9": {
     "views": []
    },
    "0dfef7c68e024f189b87f1d3531dea9a": {
     "views": []
    },
    "19b663c3c52742168d9e1b389dfd1f1e": {
     "views": []
    },
    "22e32acbf8aa476db662cd14e2477775": {
     "views": []
    },
    "29e65057375641d690b58b48e8ec7498": {
     "views": []
    },
    "2bea61d0499542498ed12a2d1847af48": {
     "views": []
    },
    "33ccb99cfbb44c7fbdc0eb5398025fc3": {
     "views": []
    },
    "392fc781dfcc42acab8bc0ddda7ddf9b": {
     "views": []
    },
    "434534d1a0114999b5e71be245291b07": {
     "views": []
    },
    "4df1e8f2f55b4037bb3c8b78173b75bf": {
     "views": [
      {
       "cell": {
        "cell_type": "code",
        "execution_count": 3,
        "metadata": {
         "collapsed": false,
         "run_control": {
          "read_only": false
         },
         "trusted": true
        },
        "outputs": [
         {
          "data": {
           "image/png": "iVBORw0KGgoAAAANSUhEUgAABHsAAAEVCAYAAABwl+ljAAAABHNCSVQICAgIfAhkiAAAAAlwSFlz\nAAALEgAACxIB0t1+/AAAIABJREFUeJzt3X+QpPl9F/b3x7Or2EK4xxxYMhYWyNQhxwQUFfg22Dse\n7CALvHueM4lrbThsmCQqKP+4mY0juXQp7VEHhQ07c6DEBpPBcBuJcXCixbPBRnKs0azi7FnWz8iS\n5YPElmzwQRZNp1wCa1h988f03W12Z3tnZ3q6e559vaq6rrufZ77Pe556rufp9z4/qrUWAAAAALrh\nCyYdAAAAAIDRUfYAAAAAdIiyBwAAAKBDlD0AAAAAHaLsAQAAAOgQZQ8AAABAhyh7AAAAADpE2QMA\nAADQIScmHQAAmLyq+vIkm0k+PXjrja21ZyeX6GhU1bcl+YsZ7AO11k6PcGzrEACYCtVam3QGAGDC\nqupVSd7TWnv1pLOMw1H8vtYhADAtnMYFAHRSVf2xqvr4pHMcZ9YhABxPyh4AoHOqaibJjyT5wkln\nOa6sQwA4vpQ9AEAXfV+S/2jSIY456xAAjillDwDQKVX1ZUn+eJJfnXSW48o6BIDjTdkDAHTNDyX5\nbyYd4pizDgHgGFP2AACdUVX/aZJfa619YtJZjivrEACOP2UPAHRUVb2iqv5pVX20qn6kqmaq6lxV\nbVXVe6vqnVX10ruM8UBV/ZOq+mBVrQze++1VdbGq3l1VH6qqn62qid9+u6pekuRNSZ445Dh/o6re\nX1U/v9fvNVhvT+9zrGOz/pLRrUMAYLJOTDoAAHBk/nqS70nykiQfTfKVST6T5A1J3pbku5K8Psnl\nIWP81bx4Os9Hq+r/zu61XJ5orX0kSarqQ0n+fpK5kf8G9+ZNSd7WWvt3Bx2gqt6Y5J+31v7rqvr5\nJBeS/Lmbpn9Zkm9JcmmfQx6n9ZeMYB0CAJPnyB4A6KCqelmSl7XWfjnJFw/e/h1JvqO19tnB82eT\n/NyQMV6S5Mtbax+7aYzHk/zF54uKgY8n+SMj/hXuyeDImD/YWvvJQ4wxk+SbW2s/UlVfkOTVSWZu\nme304L9b+xjv2Ky/ZDTrEACYDo7sAYBuek2Sfzh4/keTtCRvbq3dSJLW2iP7GONrkrznljG+v7X2\n3C3z/e4k/+bQiQ/nB5OcP+QYX5/kpwbPX5/dQuynb5nndHbXw13Lnhyv9ZeMZh0CAFNA2QMAHdRa\n+4UkvzB4OZ/kc0mu3uMY70vyvpvG+PdJfuLmearqP8hukXFrKbKnqnp7ki+7hxiV3ZLkf2yt/b07\njPmtST7QWvvUPYy7l83W2s8Onn9nkn+b5J23zHM6yXOttWfvNthxWX+DcUe1DgGAKaDsAYDuO53k\n51trv3XIMT4wOAXsZq9P8tIkV/YzSGvtzxwiw20GF5h+Y5JvPuxYrbXPD8Z8yWC8n26t/eZNy+ol\n+YO5pbDZp6lcf8lo1yEAMB2UPQDQYVX1h7N7OtJ7RzDG5h6TvzW7Rw0Nu8jzUfpPkvyuJO+qqpvf\nrySvTLJTVc8frfM9rbVf3MeYc0leluTdt7z/tdm93uF+TuF6Mch0r7/kaNYhADBByh4A6Lb57J7G\nc+Cy56YxNm9+s6q+MMkjSa601rYHpyT9/dbatx9iWfektfa/JXndXtOq6vNJPt1a+4Z7HPYPZPf3\n/cAt7399brpeT1WtJfkvWmvtLuPNZ0rXX3Jk6xAAmCB34wKAbvuG7F4r5o533bqHMd53y/uns3uX\nqbcPXn9b9nntmSn3/B24PvP8G1V1IrunOX22tfaxwaleL9tH0ZPcf+sPAJgwZQ8AdFTtnpPzdUne\n31r7t4cc4xf2uN7M57N7xMovVdXvSfIdSS4dIvLIVNVXDp7OVtXvuMcf/9kkN5I8NBhrJsnbkvy7\nJM9fw+fbs49Tr47r+ksOvQ4BgAlS9gBAd31Rks8m+TsjGONv3zphcPrPjyRZT/J0ku99/iLHk1JV\nb6iq60k+md0ipZfkuap6rqq+ej9jtNY+luRcku+pqh9P8o7B4+Ekn6yqjSSvba39wyHDPO9Yrb9k\nNOsQAJis2t/RxwBAl1XVq5K8p7X26klnGYej+H2tQwBgWjiyBwAAAKBD7lr2VNXa4LDdj9703g9V\n1Seq6sNV9T9X1RcfbUwAAAAA9mM/R/b8WJJvuuW9dyX56tbaa5M8m+QHRh0MAAAAgHt317Kntfa+\n3HTr0cF7P3PTBQSvJXnlEWQDAMarJh1gjI7qd7UOAYCJOzGCMf5Cdu8isaeqcgVoADgm7re/20fx\n+1qHAMC4tNb2/MeXQ5U9VfWWJDuttXcMm++tb33rC8/n5+czPz9/z8u6cOFCLly4cM8/B9PI9kyX\n2J7pkqqKO5XSFT6f6RLbM11y0O15c3Mzm5ubL7x+4okn7jjvgcueqvquJH8qyTfcbV7/UwIAAAAc\n3K0Hz4yi7KncdF52Vb0hyfcnmWut/daBUgIAAAAwcvu59fo7kvxckger6lNV9eeTvC3Jy5K8u6o+\nWFU/fMQ5D3TqF0wr2zNdYnsGmE4+n+kS2zNdMo7tuY76vPSqas59BwCOA9fsAQCOi8F+y54XaL7r\nkT0AAAAAHB/KHgAAAIAOUfYAAAAAdIiyBwAAAKBDlD0AAAAAHaLsAQAAAOgQZQ8AAABAhyh7AAAA\nADrkxKQDAAAAAHTd1ta1rK5eyfb2TGZnb2Rp6Uzm5k4dybKqtXYkA7+wgKp21MsAABiFqor9FgBg\n1M6ffypraw+k3z+X5GSSnfR661lcvJ6LFx870JiD/Zbac5qyBwBgl7IHABi1ra1refjhZ9PvP3rb\ntF7vUjY2Hszp0w/d87jDyh7X7AEAAAA4IqurVwZH9Nyu3z+XlZWNkS9T2QMAAABwRLa3Z7J76tZe\nTqbfnxn5MpU9AAAAAEdkdvZGkp07TN1Jr3dj5MtU9gAAAAAckaWlM+n11vec1uutZ3n57MiXqewB\nAAAAOCJzc6eyuHg9vd6lvHiEz056vUtZXLx+oIsz3427cQEADLgbFwBwVK5efSYrKxu5fPnJLCw8\nnuXls4cqetx6HQBgH5Q9AMBRq0pGsbvh1usAAAAA9wllDwAAAECHKHsAAAAAOkTZAwAAANAhyh4A\nAACADlH2AAAAAHSIsgcAAACgQ07cbYaqWktyJslzrbU/NHjvS5L8eJJXJfmVJN/WWusfYU4AAACA\nfdvaupbV1SvZ3p7J7OyNLC2dydzcqUnHGotqrQ2foerrkvxmkqdvKnt+MMn11toPVdWbknxJa+3N\nd/j5drdlAABMg6qK/RYAOP7On38qa2sPpN8/l+Rkkp30eutZXLyeixcfm2i2qmQUuxuD/Zbac9p+\ndmiq6lVJNm4qe34pyde31p6rqlck2WytveYOP6vsAQCOBWUPABx/W1vX8vDDz6bff/S2ab3epWxs\nPJjTpx+aQLJd4yh7DnrNni9trT2XJK2130jypQcNBwAAADAqq6tXBkf03K7fP5eVlY0xJxq/u16z\nZ5+GdlIXLlx44fn8/Hzm5+dHtFgAAACAF21vz2T31K29nEy/PzPOOCOzubmZzc3Nfc170LLnuap6\n+U2ncf2rYTPfXPYAAAAAHJXZ2RtJdrJ34bOTXu/GmBONxq0HzzzxxBN3nHe/p3HV4PG8n0zyXYPn\n35nkH99LQAAAAICjsLR0Jr3e+p7Ter31LC+fHXOi8btr2VNV70jyc0kerKpPVdWfT/LXkvyJqvpk\nkm8cvAYAAACYqLm5U1lcvJ5e71J2j/BJdo/ouZTFxesTvTjzuOzrblyHWoC7cQEAx4S7cQFAd1y9\n+kxWVjZy+fKTWVh4PMvLZ6ei6JmaW68fcuHKHgDgWFD2AED3jKpcGZVpvvU6AAAAAFNI2QMAAADQ\nIcoeAAAAgA5R9gAAAAB0iLIHAAAAoEOUPQAAAAAdouwBAAAA6JATkw4AAAAAHH9bW9eyunol29sz\nmZ29kaWlM5mbOzXpWPelaq0d7QKq2lEvAwBgFKoq9lsA4N6dP/9U1tYeSL9/LsnJJDvp9dazuHg9\nFy8+NtFsVck0/XkfVZ7BfkvtOU3ZAwCwS9kDAPdua+taHn742fT7j942rde7lI2NB3P69EMTSLbr\nfix7XLMHAAAAOLDV1SuDI3pu1++fy8rKxpgToewBAAAADmx7eya7p27t5WT6/ZlxxiHKHgAAAOAQ\nZmdvJNm5w9Sd9Ho3xhmHKHsAAACAQ1haOpNeb33Pab3eepaXz445EcoeAAAA4MDm5k5lcfF6er1L\nefEIn530epeyuHh9ohdnvl+5GxcAwIC7cQHAwV29+kxWVjZy+fKTWVh4PMvLZ6ei6Lkf78al7AEA\nGFD2AMDhdbVcGRW3XgcAAADgnih7AAAAADpE2QMAAADQIcoeAAAAgA5R9gAAAAB0iLIHAAAAoEMO\nVfZU1Q9U1S9W1Uer6u1V9ZJRBQMAAADg3lU74M3dq+pVSd6T5DWttc9V1Y8n+V9ba0/fMl876DIA\nAMapqmK/BYDjYmvrWlZXr2R7eyazszeytHQmc3OnJh0rVck0/Tntap7BfkvtNe3EIcb9f5N8Lslv\nq6rPJ3lpkn9xiPEAAACAfTh//qmsrT2Qfv+tSU4m2cl73rOexcVruXjxsUnHY8IOfBpXa+0zSS4m\n+VSSX0+y3Vr7mVEFAwAAAG63tXVtUPQ8mt2iJ0lOpt9/NGtrD+Tq1WcmGY8pcOCyp6penWQpyauS\n/O4kL6uq7xhVMAAAAOB2q6tX0u+f23Nav38uKysbY07EtDnMaVx/JMn/3lr7N0lSVf9Lkj+W5B23\nznjhwoUXns/Pz2d+fv4QiwUAAID71/b2TF48oudWJ9Pvz4wzDmOyubmZzc3Nfc17mLLnk0n+26r6\nwiS/leQbk7x/rxlvLnsAAACAg5udvZFkJ3sXPjvp9W6MORHjcOvBM0888cQd5z3MNXs+kuTpJB9I\n8pEkleRHDzoeAAAAcHdLS2fS663vOa3XW8/y8tkxJ2LaHLjsSZLW2l9vrX11a+0Ptda+s7W2M6pg\nAAAAwO3m5k5lcfF6er1L2T3CJ9k9oudSFhev5/TphyYZjylQ7YhvNl9V7aiXAQAwClUV+y0AHBdX\nrz6TlZWNXL78ZBYWHs/y8tmpKHqqkmn6c9rVPIP9ltpzmrIHAGCXsgeA46irZcaodDXPsLLnUKdx\nAQAAADBdlD0AAAAAHaLsAQAAAOgQZQ8AAABAhyh7AAAAADpE2QMAAADQIcoeAAAAgA45MekAAAAA\ncBxsbV3L6uqVbG/PZHb2RpaWzmRu7tSkY8FtqrV2tAuoake9DACAUaiq2G8BYC/nzz+VtbUH0u+f\nS3IyyU56vfUsLl7PxYuPTTRbVTJNf77kGW5UeQb7LbXnNGUPAMAuZQ8Ae9naupaHH342/f6jt03r\n9S5lY+PBnD790ASS7epqmTEqXc0zrOxxzR4AAAAYYnX1yuCIntv1++eysrIx5kQwnLIHAAAAhtje\nnsnuqVt7OZl+f2acceCulD0AAAAwxOzsjSQ7d5i6k17vxjjjwF0pewAAAGCIpaUz6fXW95zW661n\nefnsmBPBcMoeAAAAGGJu7lQWF6+n17uUF4/w2UmvdymLi9cnenFm2Iu7cQEADLgbFwDDXL36TFZW\nNnL58pNZWHg8y8tnp6Lo6erdpkalq3nceh0AYB+UPQDsR1fLg1GRZzi3XgcAAADgnih7AAAAADpE\n2QMAAADQIcoeAAAAgA5R9gAAAAB0iLIHAAAAoEMOVfZUVa+q/lFVfaKqfrGqHhpVMAAAAADu3YlD\n/vzfTPJPWmv/eVWdSPLSEWQCAACAbG1dy+rqlWxvz2R29kaWls5kbu7UpGPB1KvW2sF+sOqLk3yo\ntfaVd5mvHXQZAADjVFWx3wIwHc6ffypraw+k3z+X5GSSnfR661lcvJ6LFx+baLaqZJr+XMgzXFfz\nDPZbaq9phzmN6/cl+X+q6seq6oNV9aNV9UWHGA8AAACytXVtUPQ8mt2iJ0lOpt9/NGtrD+Tq1Wcm\nGQ+m3mHKnhNJXpfkv2+tvS7JZ5O8eSSpAAAAuG+trl4ZHNFzu37/XFZWNsacCI6Xw1yz59eSfLq1\n9guD1z+R5E17zXjhwoUXns/Pz2d+fv4QiwUAAKDLtrdn8uIRPbc6mX5/ZpxxYCpsbm5mc3NzX/Me\nuOxprT1XVZ+uqgdba7+c5BuTfHyveW8uewAAAGCY2dkbSXayd+Gzk17vxpgTweTdevDME088ccd5\nD3Xr9STfm+TtVfXhJH84yV895HgAAADc55aWzqTXW99zWq+3nuXls2NOBMfLocqe1tpHWmt/tLX2\n2tbat7bW+qMKBgAAwP1pbu5UFhevp9e7lN0jfJLdI3ouZXHxek6ffmiS8WDqHfjW6/tegFuvAwDH\nhFuvA0yXq1efycrKRi5ffjILC49nefnsVBQ9Xb2V96jIM9w4br2u7AEAGFD2AEynrn5ZHxV5hutq\nnmFlz2Gv2QMAAADAFFH2AAAAAHSIsgcAAACgQ5Q9AAAAAB2i7AEAAADoEGUPAAAAQIcoewAAAAA6\n5MSkAwAAADAdtrauZXX1Sra3ZzI7eyNLS2cyN3dq0rGAe1SttaNdQFU76mUAAIxCVcV+C3C/On/+\nqaytPZB+/1ySk0l20uutZ3Hxei5efGyi2aqSafp4lmc4eYYbVZ7BfkvtOU3ZAwCwS9kD3K+2tq7l\n4YefTb//6G3Ter1L2dh4MKdPPzSBZLu6+mV9VOQZrqt5hpU9rtkDAABwn1tdvTI4oud2/f65rKxs\njDkRcBjKHgAAgPvc9vZMdk/d2svJ9Psz44wDHJKyBwAA4D43O3sjyc4dpu6k17sxzjjAISl7AAAA\n7nNLS2fS663vOa3XW8/y8tkxJwIOQ9kDAABwn5ubO5XFxevp9S7lxSN8dtLrXcri4vWJXpwZuHfu\nxgUAMOBuXMD97urVZ7KyspHLl5/MwsLjWV4+OxVFT1fvpjQq8gzX1TxuvQ4AsA/KHoBdXf1yPCry\nDCfPcG69DgAAAMA9UfYAAAAAdIiyBwAAAKBDlD0AAAAAHaLsAQAAAOgQZQ8AAABAhxy67KmqL6iq\nD1bVT44iEAAAAAAHd2IEY3xfko8n+eIRjAUAAHDf2Nq6ltXVK9nensns7I0sLZ3J3NypSccCjrlq\nrR38h6temeTHkvyVJMuttYf3mKcdZhkAAONSVbHfAozL+fNPZW3tgfT755KcTLKTXm89i4vXc/Hi\nYxPNVpVM08ehPMPJM1xX8wz2W2qvaYc9jWs1yfcnmaLVBgAAMN22tq4Nip5Hs1v0JMnJ9PuPZm3t\ngVy9+swk4wHH3IHLnqr65iTPtdY+nKQGDwAAAO5idfXK4Iie2/X757KysjHmRECXHOaaPV+b5OGq\n+lNJvijJb6+qp1trf+7WGS9cuPDC8/n5+czPzx9isQAAAMfb9vZMXjyi51Yn0+/PjDMOcAxsbm5m\nc3NzX/Me6po9LwxS9fVJzrtmDwBwnLlmDzAujzzyeC5ffmv2Lnx2srDwRN75zifHHesFXb3GyajI\nM5w8wx2Ha/YAAABwj5aWzqTXW99zWq+3nuXls2NOBHTJSMqe1tp79zqqBwAAgNvNzZ3K4uL19HqX\nkuwM3t1Jr3cpi4vXc/r0Q5OMBxxzIzmNa+gCnMYFABwTTuMCxu3q1WeysrKRy5efzMLC41lePjsV\nRU9XT3sZFXmGk2e4cZzGpewBABhQ9gCT0tUvo6Miz3DyDNfVPK7ZAwAAAHCfUPYAAAAAdIiyBwAA\nAKBDlD0AAAAAHaLsAQAAAOgQZQ8AAABAh5yYdAAAAIBx2dq6ltXVK9nensns7I0sLZ3J3NypSccC\nGKlqR3yz+apqR70MAIBRqKrYb4HuOn/+qaytPZB+/1ySk0l20uutZ3Hxei5efGyi2aqSafr4kWc4\neYaTZ7hR5Rnst9Se05Q9AAC7lD3QXVtb1/Lww8+m33/0tmm93qVsbDyY06cfmkCyXV39Mjoq8gwn\nz3BdzTOs7HHNHgAAoPNWV68Mjui5Xb9/LisrG2NOBHB0lD0AAEDnbW/PZPfUrb2cTL8/M844AEdK\n2QMAAHTe7OyNJDt3mLqTXu/GOOMAHCllDwAA0HlLS2fS663vOa3XW8/y8tkxJwI4OsoeAACg8+bm\nTmVx8Xp6vUt58QifnfR6l7K4eH2iF2cGGDV34wIAGHA3Lui+q1efycrKRi5ffjILC49nefnsVBQ9\nXb1b0KjIM5w8w3U1j1uvAwDsg7IH7h9d/fI3KvIMJ89w8gzn1usAAAAA3BNlDwAAAECHKHsAAAAA\nOkTZAwAAANAhyh4AAACADlH2AAAAAHSIsgcAAACgQ04c9Aer6pVJnk7y8iSfT/J3W2t/a1TBAACA\n429r61pWV69ke3sms7M3srR0JnNzpyYdC6DTqrV2sB+sekWSV7TWPlxVL0vygSTf0lr7pVvmawdd\nBgDAOFVV7LfA6Jw//1TW1h5Iv38uyckkO+n11rO4eD0XLz420WxVyTT97y7PcPIMJ89wXc0z2G+p\nvaYd+DSu1tpvtNY+PHj+m0k+keTLDzoeAADQHVtb1wZFz6PZLXqS5GT6/UeztvZArl59ZpLxADpt\nJNfsqarfm+S1SXxiAwAAWV29Mjii53b9/rmsrGyMORHA/ePA1+x53uAUrp9I8n2DI3xuc+HChRee\nz8/PZ35+/rCLBQAAptj29kxePKLnVifT78+MMw7Asbe5uZnNzc19zXvga/YkSVWdSHIlyU+11v7m\nHeZxzR4A4FhwzR4YnUceeTyXL781exc+O1lYeCLvfOeT4471gq5ew2NU5BlOnuHkGW6qr9kz8PeS\nfPxORQ8AAHB/Wlo6k15vfc9pvd56lpfPjjkRwP3jwGVPVX1tkj+T5Buq6kNV9cGqesPoogEAAMfV\n3NypLC5eT693KcnO4N2d9HqXsrh4PadPPzTJeACddqjTuPa1AKdxAQDHhNO4YPSuXn0mKysbuXz5\nySwsPJ7l5bNTUfR09bSOUZFnOHmGk2e4cZzGpewBABhQ9sDR6eqXrVGRZzh5hpNnuK7mOcpr9gAA\nAAAwRZQ9AAAAAB2i7AEAAADoEGUPAAAAQIcoewAAAAA6RNkDAAAA0CHKHgAAAIAOOTHpAAAAwOhs\nbV3L6uqVbG/PZHb2RpaWzmRu7tSkYwEwRtVaO9oFVLWjXgYAwChUVey3cJydP/9U1tYeSL9/LsnJ\nJDvp9dazuHg9Fy8+NtFsVck0/e8lz3DyDCfPcPIMN6o8g/2W2mua07gAAKADtrauDYqeR7Nb9CTJ\nyfT7j2Zt7YFcvfrMJOMBMEbKHgAA6IDV1SuDI3pu1++fy8rKxpgTATApyh4AAOiA7e2ZvHhEz61O\npt+fGWccACZI2QMAAB0wO3sjyc4dpu6k17sxzjgATJCyBwAAOmBp6Ux6vfU9p/V661lePjvmRABM\nirIHAAA6YG7uVBYXr6fXu5QXj/DZSa93KYuL13P69EOTjAfAGLn1OgDAgFuv0wVXrz6TlZWNXL78\nZBYWHs/y8tmpKHq6euvjUZFnOHmGk2e4ruYZdut1ZQ8AwICyhy7p6pebUZFnOHmGk2c4eYYbR9nj\nNC4AAACADlH2AAAAAHSIsgcAAACgQ5Q9AAAAAB2i7AEAAADoEGUPAAAAQIcoewAAAAA65MRhfriq\n3pDkqeyWRmuttR8cSaqbbG1dy+rqlWxvz2R29kaWls5kbu7UqBcjjzzyyCOPPPLIkyR55JHHpybP\ntK0feY5HHgBIa+1Aj+wWPP8syauSnEzy4SSv2WO+dlDLy6ut13u6JZ9rSWvJ51qv93RbXl498JiH\nIY888sgjjzzydD1PpizPtK0feaY9z80OsRt+JOQZTp7h5BlOnuG6mmfQt+zd2dxpwt0eSU4l+amb\nXr85yZv2mO9Aod/73v9j8Iez3fbo9Z5uW1vXDjTuQckjjzzyyCOPPPdDnkxZnmlbP/JMc55bdfXL\nzajIM5w8w8kznDzDTXvZ86eT/OhNr/9skr+1x3wHCr2w8Jb24r+Q3Pr4XFtYeMuBxj0oeeSRRx55\n5JHnfsiTKcszbetHnmnOc6uufrkZFXmGk2c4eYaTZ7hxlD21O/3eVdWfTvJNrbX/avD6zyb5mtba\n994y38EWAAAAAMAdtdZqr/cPczeuX0/yFTe9fuXgvb0Wfs+PhYW3JPlckrbH43NZWHjLgcY96EMe\neeSRRx555Lkf8mTK8kzb+pFnmvN4eHh4eNxfj6EOMehMXrxA80uye4Hmr9pjvnYQ03YOtDzyyCOP\nPPLIcz/kcc0eeY5vHgDuL4O+Zc/O5sBH9rTWbiT57iTvSvKLSdZba5846Hi3mps7lcXF6+n1LiXZ\nGby7k17vUhYXr+f06YdGtSh55JFHHnnkkUceeeQ59nkA4HkHvmbPvhdQ1Q6zjKtXn8nKykb6/Zn0\nejeyvHx2on845ZFHHnnkkUee7ua5fPmvZGHhLVOTZ9rWjzzHIw8A94eqSrvDNXumvuwBABiXwU7T\npGMAANzVsLLnMBdoBgAAAGDKKHsAAAAAOkTZAwAAANAhyh4AAACADlH2AAAAAHSIsgcAAACgQ5Q9\nAAAAAB2i7AEAAADoEGUPAAAAQIccm7Jnc3Nz0hFgZGzPdIntGWA6+XymS2zPdMk4tmdlD0yA7Zku\nsT0DTCefz3SJ7ZkuUfYAAAAAcE+UPQAAAAAdUq21o11A1dEuAAAAAOA+1Fqrvd4/8rIHAAAAgPFx\nGhcAAABAhyh7AAAAADpkqsueqvrPqupjVXWjql530/uvqqrPVtUHB48fnmRO2I87bc+DaT9QVc9W\n1Seq6vWTyggHVVVvrapfu+lz+Q2TzgT3oqreUFW/VFW/XFVvmnQeOKyq+pWq+khVfaiqfn7SeeBe\nVNVaVT1XVR+96b0vqap3VdUnq+qfVlVvkhlhv+6wPR/5vvNUlz1J/s8kjyR57x7T/llr7XWDx18a\ncy44iD2356r6qiTfluSrkvzJJD9cVXteZAum3MpNn8s/PekwsF9V9QVJ/rsk35Tkq5N8e1W9ZrKp\n4NA+n2TMTcaVAAADFklEQVS+tfYft9a+ZtJh4B79WHY/k2/25iQ/01r7A0l+NskPjD0VHMxe23Ny\nxPvOU132tNY+2Vp7NsleX3x9GeZYGbI9f0uS9dbav2+t/UqSZ5PYKeM48rnMcfU1SZ5trf1qa20n\nyXp2P5vhOKtM+b4+3Elr7X1JPnPL29+S5B8Mnv+DJAtjDQUHdIftOTnifefj/Afg9w4Od3pPVX3d\npMPAIXx5kk/f9PrXB+/BcfPdVfXhqvofHFrNMXPr5/Cvxecwx19L8u6qen9V/ZeTDgMj8KWtteeS\npLX2G0m+dMJ54LCOdN/5xKgHvFdV9e4kL7/5rez+cXpLa23jDj/2L5J8RWvtM4Nrn1yuqv+wtfab\nRxwXhjrg9gzHwrDtO8kPJ/nLrbVWVU8mWUmyOP6UAAx8bWvtX1bV78pu6fOJwb8uQ1e0SQeAQzjy\nfeeJlz2ttT9xgJ/ZyeAwqNbaB6vqnyd5MMkHRxwP7slBtufsHsnze256/crBezBV7mH7/rtJlJsc\nJ7+e5Ctueu1zmGOvtfYvB//911X1zuyerqjs4Th7rqpe3lp7rqpekeRfTToQHFRr7V/f9PJI9p2P\n02lcL5zPVlW/c3AxxVTVq5P8/iT/16SCwQHcfH7mTyY5V1Uvqarfl93t2V0zOFYGO13P+9YkH5tU\nFjiA9yf5/YO7fb4kybnsfjbDsVRVL62qlw2e/7Ykr4/PZY6fyu37zN81eP6dSf7xuAPBIfz/tudx\n7DtP/MieYapqIcnbkvzOJFeq6sOttT+ZZC7JX66qz2X3TgNvbK1tTzAq3NWdtufW2ser6n9K8vEk\nO0n+UmvNYakcNz9UVa/N7mfyryR542TjwP611m5U1XcneVd2/yFsrbX2iQnHgsN4eZJ3VlXL7v7+\n21tr75pwJti3qnpHkvkkD1TVp5K8NclfS/KPquovJPnV7N7NFqbeHbbnP37U+87lOyUAAABAdxyn\n07gAAAAAuAtlDwAAAECHKHsAAAAAOkTZAwAAANAhyh4AAACADlH2AAAAAHSIsgcAAACgQ5Q9AAAA\nAB3y/wH55dhELtPs3QAAAABJRU5ErkJggg==\n",
           "text/plain": "<matplotlib.figure.Figure at 0x7f42fde89400>"
          },
          "metadata": {},
          "output_type": "display_data"
         }
        ],
        "source": "interact(s1, sg=('delta', 'step', 'ramp', 'unit ramp'),\n         fd=('just delay', 'flip then delay', 'delay then flip'),\n         delay=(-15, 15));"
       },
       "cell_index": 3,
       "root": true
      }
     ]
    },
    "55776f112e3f47948c397ee7192b1a09": {
     "views": []
    },
    "580bc0bca974440eaceec303d4d76290": {
     "views": []
    },
    "6342dfeb1da24374a916d3779760993f": {
     "views": []
    },
    "688482d799344c66b48275c768f920a4": {
     "views": []
    },
    "6991a764778f4fd0a4eb48eae686248c": {
     "views": []
    },
    "6e88f3f1fbf84b9d8144ee1b5fb398b5": {
     "views": []
    },
    "73831b4d1a6440ada01a77674497d2a6": {
     "views": []
    },
    "7612e6d4f6e74ce098e8ecfca0da6729": {
     "views": []
    },
    "794554b3a5204b0b9dbc05b99a55e1c1": {
     "views": []
    },
    "7f4fc5bab6654ad4b6cd43c97583c44b": {
     "views": []
    },
    "8123d01768c444758c586570ba4db10a": {
     "views": []
    },
    "853ab85429384710ae2ff74bb1ae6a34": {
     "views": []
    },
    "88bdec145ee84c6f9bcc60a9b4ed4733": {
     "views": []
    },
    "8dc86798578b4a7fa5f4c08ab7e9125c": {
     "views": []
    },
    "95328f74bfcb48859fb0549f642af613": {
     "views": []
    },
    "a25741909d5447c2b570167592988749": {
     "views": []
    },
    "a3941ac5c9ec45dba69303061806be2b": {
     "views": []
    },
    "ab0e65db89b34d44b0706070d141a4c3": {
     "views": []
    },
    "abf3e996cc814fc6be8789d7b079acb1": {
     "views": []
    },
    "c85c9c7519774279a661b6cbd29f8817": {
     "views": []
    },
    "ce00c3c8744947299c8c853890ce95f9": {
     "views": []
    },
    "d2f087cc4bcc4e0c950e6ea2cc856dfc": {
     "views": []
    },
    "d5a8ffe20d004ab8802da0f237c533b5": {
     "views": []
    },
    "da80cc23188a4a69a2302a797768f97c": {
     "views": []
    },
    "db7919e963c745d48c1407d44fb760a0": {
     "views": []
    },
    "ea2fb1d6867b4e109e9ff66ce1149dff": {
     "views": []
    },
    "f0e91cb3959640c0be20b5485e1bc37c": {
     "views": []
    },
    "f19397a6647d46848265b50783dd802b": {
     "views": []
    },
    "f8c54ac5dd8647fcaf1012d09d2eddc1": {
     "views": []
    }
   },
   "version": "1.1.0"
  }
 },
 "nbformat": 4,
 "nbformat_minor": 0
}
