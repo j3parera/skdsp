{
 "cells": [
  {
   "cell_type": "code",
   "execution_count": 1,
   "metadata": {
    "collapsed": false,
    "run_control": {
     "read_only": false
    }
   },
   "outputs": [],
   "source": [
    "import matplotlib.pyplot as plt\n",
    "%matplotlib inline\n",
    "import skdsp.signal.continuous as cs\n",
    "import skdsp.signal.printer as pt\n",
    "import numpy as np\n",
    "import sympy as sp\n",
    "import scipy.signal as cp\n",
    "from ipywidgets import interact, fixed\n",
    "np.seterr(all='ignore')\n",
    "PI = sp.S.Pi\n",
    "pi = np.pi"
   ]
  },
  {
   "cell_type": "markdown",
   "metadata": {},
   "source": [
    "## 1.- Básicas"
   ]
  },
  {
   "cell_type": "code",
   "execution_count": 4,
   "metadata": {
    "code_folding": [],
    "collapsed": false,
    "run_control": {
     "read_only": false
    }
   },
   "outputs": [],
   "source": [
    "def s1(sg='delta', fd='just delay', width=16, delay=0):\n",
    "    npts = 16\n",
    "    ex = []\n",
    "    ey = []\n",
    "    if sg == 'delta':\n",
    "        s = cs.Delta()\n",
    "        ex = [0, 0, -0.25, 0, 0.25, 0]\n",
    "        ey = [0, 1,  0.95, 1, 0.95, 1]\n",
    "        max_ = 1\n",
    "        min_ = 0\n",
    "    elif sg == 'step':\n",
    "        s = cs.Step()\n",
    "        ex = [0, 0]\n",
    "        ey = [0, 1]\n",
    "        max_ = 1\n",
    "        min_ = 0\n",
    "    elif sg == 'ramp':\n",
    "        s = cs.Ramp()\n",
    "        max_ = npts\n",
    "        min_ = 0\n",
    "    elif sg == 'rect':\n",
    "        s = cs.Rect(width)\n",
    "        max_ = 1\n",
    "        min_ = 0\n",
    "    elif sg == 'triang':\n",
    "        s = cs.Triang(width)\n",
    "        max_ = 1\n",
    "        min_ = 0\n",
    "    elif sg == 'sin':\n",
    "        s = cs.Sine(width)\n",
    "        max_ = 1\n",
    "        min_ = -1\n",
    "    elif sg == 'cos':\n",
    "        s = cs.Cosine(width)\n",
    "        max_ = 1\n",
    "        min_ = -1\n",
    "    ex = np.array(ex)    \n",
    "    if fd == 'flip then delay':\n",
    "        s = s.flip().delay(delay)\n",
    "        ex = ex + delay\n",
    "    elif fd == 'delay then flip':\n",
    "        s = s.delay(delay).flip()\n",
    "        ex = ex - delay\n",
    "    elif fd == 'just delay':\n",
    "        s = s.delay(delay)\n",
    "        ex = ex + delay\n",
    "    ns = np.arange(-npts, npts+1, 2**(-3))\n",
    "    ys = s[ns]\n",
    "    plt.figure(figsize=(20, 4))\n",
    "    plt.plot(ns, ys, 'b-', lw=3)\n",
    "    plt.plot(ex, ey, 'b-', lw=3)\n",
    "    plt.xlim([-npts, npts])\n",
    "    range_ = (max_ - min_)*0.1\n",
    "    plt.ylim([min_-range_, max_+range_])\n",
    "    plt.axvline(0, color='k')\n",
    "    plt.axhline(0, color='k')\n",
    "    plt.title(pt.latex(s, mode='inline'), size=24)\n",
    "    plt.grid(True)"
   ]
  },
  {
   "cell_type": "code",
   "execution_count": 5,
   "metadata": {
    "collapsed": false,
    "run_control": {
     "read_only": false
    }
   },
   "outputs": [
    {
     "data": {
      "image/png": "[encoded data removed]",
      "text/plain": [
       "<matplotlib.figure.Figure at 0x7f21b3f95a58>"
      ]
     },
     "metadata": {},
     "output_type": "display_data"
    }
   ],
   "source": [
    "interact(s1, sg=('delta', 'step', 'ramp', 'rect', 'triang', 'sin', 'cos'),\n",
    "         fd=('just delay', 'flip then delay', 'delay then flip'),\n",
    "         width=(1, 30, 0.25), delay=(-15, 15, 0.25));"
   ]
  },
  {
   "cell_type": "code",
   "execution_count": 51,
   "metadata": {
    "collapsed": false,
    "run_control": {
     "read_only": false
    }
   },
   "outputs": [
    {
     "data": {
      "image/png": "[encoded data removed]",
      "text/plain": [
       "<matplotlib.figure.Figure at 0x7f2f6bc4e1d0>"
      ]
     },
     "metadata": {},
     "output_type": "display_data"
    }
   ],
   "source": [
    "f0 = 100\n",
    "step = 1e-4\n",
    "x = cs.Sinusoid(2, 2*PI*f0).generate(0, step, size=200, overlap=(size-10)*step)\n",
    "def trozo():\n",
    "    trozo = next(x)\n",
    "    plt.figure(figsize=(20, 4))\n",
    "    plt.plot(trozo, 'o-')\n",
    "    plt.axis([0, 199, -2.1, 2.1])\n",
    "interact(trozo, __manual=True)"
   ]
  },
  {
   "cell_type": "code",
   "execution_count": 49,
   "metadata": {
    "collapsed": false
   },
   "outputs": [
    {
     "data": {
      "text/plain": [
       "0"
      ]
     },
     "execution_count": 49,
     "metadata": {},
     "output_type": "execute_result"
    }
   ],
   "source": [
    "s"
   ]
  },
  {
   "cell_type": "code",
   "execution_count": null,
   "metadata": {
    "collapsed": true
   },
   "outputs": [],
   "source": []
  }
 ],
 "metadata": {
  "kernelspec": {
   "display_name": "Python 3",
   "language": "python",
   "name": "python3"
  },
  "language_info": {
   "codemirror_mode": {
    "name": "ipython",
    "version": 3
   },
   "file_extension": ".py",
   "mimetype": "text/x-python",
   "name": "python",
   "nbconvert_exporter": "python",
   "pygments_lexer": "ipython3",
   "version": "3.4.3+"
  },
  "widgets": {
   "state": {
    "108086c392504f479ba36756b07e35dd": {
     "views": []
    },
    "13b81dea2f6948a8aa1dd3003b7a571e": {
     "views": []
    },
    "13beb845ebab40eca5aff06e0d1e9af3": {
     "views": []
    },
    "20cec39517c342cb85e091b6ae2b7c67": {
     "views": []
    },
    "22ef1e24f9ae4c3fae07f000625863ad": {
     "views": []
    },
    "24b7713a0ce24f6bae58f687213bd02b": {
     "views": []
    },
    "25829db2108a46c89af63bcd9171539e": {
     "views": []
    },
    "261ef45196aa4290964eb0d82f8cc7c2": {
     "views": []
    },
    "27562b3d3142456f8f8cea1dcca1d9fb": {
     "views": []
    },
    "286198ca9f424db2af2d679f47a7f534": {
     "views": []
    },
    "313118d4d95e45cc9749d336425d37df": {
     "views": []
    },
    "350b855ba4c64ef395dd5fe56a0e3ac9": {
     "views": []
    },
    "3607da0ec2d34eedb341dc81e6cbce12": {
     "views": []
    },
    "37c7ba8aef364a6d8eb59701560ac393": {
     "views": []
    },
    "3e41ec5df19f4b918083c3e94e3e72d0": {
     "views": []
    },
    "472127bb142348c8b077d0bf77c74f0f": {
     "views": []
    },
    "4a58ae7436fc4ebba0b766dc5f63bd0f": {
     "views": []
    },
    "53adabf82f5d467487e791829f167f1e": {
     "views": []
    },
    "58e5c7abb8134d1ebcb9228d0efb8540": {
     "views": []
    },
    "5b1bd30c47774e36b5625983429d33a9": {
     "views": []
    },
    "5da377ba419e48f6ba1d317d0d09d45b": {
     "views": []
    },
    "63a94bdcb6324f36833b5b47cc87c490": {
     "views": []
    },
    "661d510f935a4a749967060cc9212d06": {
     "views": []
    },
    "6cdb95bec64d49eeb0dca96351e073c5": {
     "views": []
    },
    "796612422cd44d0e859cdc92cbbc1605": {
     "views": []
    },
    "799c2d77293447798c76baba15fbe804": {
     "views": []
    },
    "7d2046d1fd40465d99773c0f0d84a369": {
     "views": []
    },
    "7dbc83450f1248ff842db745b5425c76": {
     "views": []
    },
    "7f07986ee6244ad1a502147e97ca10c6": {
     "views": []
    },
    "8898b146ef3048a6b405baede77ff409": {
     "views": []
    },
    "8f5c74941f614625b1152eb514e54e82": {
     "views": []
    },
    "8f83eb706cbb443d8d6996c88ee57d4a": {
     "views": []
    },
    "94409847dc5746a888e62fa37acc8ed8": {
     "views": []
    },
    "96b9713d7e3f4fa185baac370efa70f5": {
     "views": []
    },
    "984eff82613843139fae2fe83c69f528": {
     "views": []
    },
    "9bb70427926c4d15a73b564972d658e6": {
     "views": []
    },
    "a93acc6501a74594bf707e5562546bbe": {
     "views": []
    },
    "a9fbc82774774215876961c5a67e3b82": {
     "views": []
    },
    "ae59dc8eb1d748b792d763b752fe8098": {
     "views": []
    },
    "aed457c23dda4f50802000a01bfcd74e": {
     "views": []
    },
    "b80ecc8c06fd46ba834dbff9efae3a89": {
     "views": []
    },
    "bac6c0a45e204746aeb0aa090a5a9143": {
     "views": []
    },
    "bdae24ab146e4cf196b3027fea613793": {
     "views": []
    },
    "bf166c8ea00e473e87c311748239fff6": {
     "views": []
    },
    "c5644638d33041c6b8f2ce269f61b7ca": {
     "views": []
    },
    "ca23bae2f4654338b338abda31c62a2f": {
     "views": []
    },
    "cc7ef86c87cd44ce8ad01ef2166cbf67": {
     "views": []
    },
    "cf19d259db024e128f2247323475cf8b": {
     "views": []
    },
    "cf53c9237876440d80907bf98ae49f0a": {
     "views": []
    },
    "d39cf6670a7442c684993fd80973595d": {
     "views": []
    },
    "d4801906cffa44df9f8b131b3de59a7a": {
     "views": []
    },
    "d5e3257f22e94e7194a9590686cb0836": {
     "views": []
    },
    "e24e80889afb4cf2a891e763e1267fca": {
     "views": []
    },
    "e731bede2ca44e2f8496bd154cb5b8af": {
     "views": []
    },
    "ed92071f5be043f6ad452daf0916e73c": {
     "views": []
    },
    "f139411e481f44f0b6e7b2db03804412": {
     "views": []
    },
    "f185424ea9d2466699950a1e248da008": {
     "views": []
    },
    "f43f13021ad9435cbf3e46a9832be762": {
     "views": []
    },
    "f6878e704d174a879350303ad59aec06": {
     "views": []
    },
    "f6c550c04907427b86c26d970a9fcbc1": {
     "views": [
      {
       "cell": {
        "cell_type": "code",
        "execution_count": 51,
        "metadata": {
         "collapsed": false,
         "run_control": {
          "read_only": false
         },
         "trusted": true
        },
        "outputs": [
         {
          "data": {
           "image/png": "iVBORw0KGgoAAAANSUhEUgAABH0AAAD7CAYAAAD3sOhiAAAABHNCSVQICAgIfAhkiAAAAAlwSFlz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\nsegDAAAAAAAQQ/8fUNzsTwXv2XIAAAAASUVORK5CYII=\n",
           "text/plain": "<matplotlib.figure.Figure at 0x7f2f6bc4e1d0>"
          },
          "metadata": {},
          "output_type": "display_data"
         }
        ],
        "source": "f0 = 100\nstep = 1e-4\nx = cs.Sinusoid(2, 2*PI*f0).generate(0, step, size=200, overlap=(size-10)*step)\ndef trozo():\n    trozo = next(x)\n    plt.figure(figsize=(20, 4))\n    plt.plot(trozo, 'o-')\n    plt.axis([0, 199, -2.1, 2.1])\ninteract(trozo, __manual=True)"
       },
       "cell_index": 4,
       "root": true
      }
     ]
    },
    "f849000bdf0f4ae99dbebd18b10097e4": {
     "views": []
    },
    "f92521939dca4015acde72f51644958e": {
     "views": []
    },
    "fbb238223d6c4cd191a92814d53edf81": {
     "views": []
    },
    "fc065fe1a8744da28bbf6a9032ac82a1": {
     "views": []
    },
    "fc33e3da8a0f4b2486e1464152973c7e": {
     "views": []
    },
    "fc5f254ac3de48f68b7a9d20dc4d1107": {
     "views": []
    }
   },
   "version": "1.1.0"
  }
 },
 "nbformat": 4,
 "nbformat_minor": 0
}
