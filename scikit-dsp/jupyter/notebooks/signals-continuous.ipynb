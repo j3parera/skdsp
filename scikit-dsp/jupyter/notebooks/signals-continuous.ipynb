{
 "cells": [
  {
   "cell_type": "code",
   "execution_count": 1,
   "metadata": {
    "collapsed": false,
    "run_control": {
     "read_only": false
    }
   },
   "outputs": [],
   "source": [
    "import matplotlib.pyplot as plt\n",
    "%matplotlib inline\n",
    "import skdsp.signal.continuous as cs\n",
    "import skdsp.signal.printer as pt\n",
    "import numpy as np\n",
    "import sympy as sp\n",
    "import scipy.signal as cp\n",
    "from ipywidgets import interact, fixed\n",
    "np.seterr(all='ignore')\n",
    "PI = sp.S.Pi\n",
    "pi = np.pi"
   ]
  },
  {
   "cell_type": "markdown",
   "metadata": {},
   "source": [
    "## 1.- Básicas"
   ]
  },
  {
   "cell_type": "code",
   "execution_count": 97,
   "metadata": {
    "code_folding": [],
    "collapsed": false,
    "run_control": {
     "read_only": false
    }
   },
   "outputs": [],
   "source": [
    "def s1(sg='delta', fd='nothing', delay=0):\n",
    "    npts = 15\n",
    "    ex = []\n",
    "    ey = []\n",
    "    if sg == 'delta':\n",
    "        s = cs.Delta()\n",
    "        ex = [0, 0, -0.25, 0, 0.25, 0]\n",
    "        ey = [0, 1,  0.95, 1, 0.95, 1]\n",
    "    elif sg == 'step':\n",
    "        s = cs.Step()\n",
    "        ex = [0, 0]\n",
    "        ey = [0, 1]\n",
    "    elif sg == 'ramp':\n",
    "        s = cs.Ramp()\n",
    "    elif sg == 'unit ramp':\n",
    "        s = cs.Ramp() * ds.Step()\n",
    "    ex = np.array(ex)    \n",
    "    if fd == 'flip then delay':\n",
    "        s = s.flip().delay(delay)\n",
    "        ex = ex + delay\n",
    "    elif fd == 'delay then flip':\n",
    "        s = s.delay(delay).flip()\n",
    "        ex = ex - delay\n",
    "    elif fd == 'just delay':\n",
    "        s = s.delay(delay)\n",
    "        ex = ex + delay\n",
    "    ns = np.arange(-npts, npts+1, 2**(-3))\n",
    "    ys = s[ns]\n",
    "    plt.figure(figsize=(10, 4))\n",
    "    plt.plot(ns, ys, 'b-', lw=3)\n",
    "    plt.plot(ex, ey, 'b-', lw=3)\n",
    "    plt.xlim([-npts, npts])\n",
    "    plt.ylim([-0.1, 1.1])\n",
    "    plt.axvline(0, color='k')\n",
    "    plt.axhline(0, color='k')\n",
    "    plt.title(pt.latex(s, mode='inline'), size=24)\n",
    "    plt.grid(True)"
   ]
  },
  {
   "cell_type": "code",
   "execution_count": 98,
   "metadata": {
    "collapsed": false,
    "run_control": {
     "read_only": false
    }
   },
   "outputs": [
    {
     "ename": "AttributeError",
     "evalue": "'module' object has no attribute 'Ramp'",
     "output_type": "error",
     "traceback": [
      "\u001b[1;31m---------------------------------------------------------------------------\u001b[0m",
      "\u001b[1;31mAttributeError\u001b[0m                            Traceback (most recent call last)",
      "\u001b[1;32m<ipython-input-97-9275265181b5>\u001b[0m in \u001b[0;36ms1\u001b[1;34m(sg, fd, delay)\u001b[0m\n\u001b[0;32m     12\u001b[0m         \u001b[0mey\u001b[0m \u001b[1;33m=\u001b[0m \u001b[1;33m[\u001b[0m\u001b[1;36m0\u001b[0m\u001b[1;33m,\u001b[0m \u001b[1;36m1\u001b[0m\u001b[1;33m]\u001b[0m\u001b[1;33m\u001b[0m\u001b[0m\n\u001b[0;32m     13\u001b[0m     \u001b[1;32melif\u001b[0m \u001b[0msg\u001b[0m \u001b[1;33m==\u001b[0m \u001b[1;34m'ramp'\u001b[0m\u001b[1;33m:\u001b[0m\u001b[1;33m\u001b[0m\u001b[0m\n\u001b[1;32m---> 14\u001b[1;33m         \u001b[0ms\u001b[0m \u001b[1;33m=\u001b[0m \u001b[0mcs\u001b[0m\u001b[1;33m.\u001b[0m\u001b[0mRamp\u001b[0m\u001b[1;33m(\u001b[0m\u001b[1;33m)\u001b[0m\u001b[1;33m\u001b[0m\u001b[0m\n\u001b[0m\u001b[0;32m     15\u001b[0m     \u001b[1;32melif\u001b[0m \u001b[0msg\u001b[0m \u001b[1;33m==\u001b[0m \u001b[1;34m'unit ramp'\u001b[0m\u001b[1;33m:\u001b[0m\u001b[1;33m\u001b[0m\u001b[0m\n\u001b[0;32m     16\u001b[0m         \u001b[0ms\u001b[0m \u001b[1;33m=\u001b[0m \u001b[0mcs\u001b[0m\u001b[1;33m.\u001b[0m\u001b[0mRamp\u001b[0m\u001b[1;33m(\u001b[0m\u001b[1;33m)\u001b[0m \u001b[1;33m*\u001b[0m \u001b[0mds\u001b[0m\u001b[1;33m.\u001b[0m\u001b[0mStep\u001b[0m\u001b[1;33m(\u001b[0m\u001b[1;33m)\u001b[0m\u001b[1;33m\u001b[0m\u001b[0m\n",
      "\u001b[1;31mAttributeError\u001b[0m: 'module' object has no attribute 'Ramp'"
     ]
    }
   ],
   "source": [
    "interact(s1, sg=('delta', 'step', 'ramp', 'unit ramp'),\n",
    "         fd=('just delay', 'flip then delay', 'delay then flip'),\n",
    "         delay=(-15, 15, 0.25));"
   ]
  },
  {
   "cell_type": "code",
   "execution_count": null,
   "metadata": {
    "collapsed": true
   },
   "outputs": [],
   "source": []
  },
  {
   "cell_type": "code",
   "execution_count": null,
   "metadata": {
    "collapsed": true
   },
   "outputs": [],
   "source": []
  }
 ],
 "metadata": {
  "kernelspec": {
   "display_name": "Python 3",
   "language": "python",
   "name": "python3"
  },
  "language_info": {
   "codemirror_mode": {
    "name": "ipython",
    "version": 3
   },
   "file_extension": ".py",
   "mimetype": "text/x-python",
   "name": "python",
   "nbconvert_exporter": "python",
   "pygments_lexer": "ipython3",
   "version": "3.4.3+"
  },
  "widgets": {
   "state": {
    "003b564e727e4afa8cc98fb52a5be85e": {
     "views": []
    },
    "00afc777732d45e3acfe468a70ad6acb": {
     "views": []
    },
    "00c0fdb665094f4c82cf861a90fd8a77": {
     "views": []
    },
    "00c74628a3f34c40ac193825b594c936": {
     "views": []
    },
    "01d8dcc6718e429ba2783b8ffaa26e48": {
     "views": []
    },
    "028f75deb56948b4ab7119606c48c037": {
     "views": []
    },
    "02ab79c016674747977052c149a79e4f": {
     "views": []
    },
    "03a5b0bc5e3847cab4e9c20db65aad6e": {
     "views": []
    },
    "03e6bd4b876240e88788c879191a5b50": {
     "views": []
    },
    "0478daa15a8646dda3d5a4257c333f2e": {
     "views": []
    },
    "04ec6ceff9de4a5690cfe125160eb841": {
     "views": []
    },
    "0590b527b87e41d3a7b1f663ed3586eb": {
     "views": []
    },
    "068cd2778d144c4ebc3aa4fb67200645": {
     "views": []
    },
    "06a005cf94934ce5bb85f985b066bcba": {
     "views": []
    },
    "0788eca45a604c378212eff59d14fe70": {
     "views": []
    },
    "07fa04e94e6d483382c10bf48e2e4c94": {
     "views": []
    },
    "0846311e86784cfaac1279fd61a70dfb": {
     "views": []
    },
    "08bfcca5c0534044b604444c52199908": {
     "views": []
    },
    "08cd7a8aec5748d083a6335e20236637": {
     "views": []
    },
    "0943514fa872435092e9abea6b6bbc91": {
     "views": []
    },
    "097a9b29b7524625aefe92b7b6eda455": {
     "views": []
    },
    "0a8b680f207e4cf5948132ff93f0e750": {
     "views": []
    },
    "0b086be002ca4422b9047aa9daa19015": {
     "views": []
    },
    "0b816118541e4fb08bbacdf83bb9a4ac": {
     "views": []
    },
    "0c481e190fdd46288e06ce70374cba3b": {
     "views": []
    },
    "0daaaa0a0db141209b6cc64f5b605cc7": {
     "views": []
    },
    "0de217850c754c40af331e596843cdc7": {
     "views": []
    },
    "0e9722bbabd640428c503548d402a9e9": {
     "views": []
    },
    "0fae0d62cf374ef381cd6e206399234e": {
     "views": []
    },
    "0fb730c5896d4efaa3c0acf83aaf0e3c": {
     "views": []
    },
    "1042414dac474cd4b405f1ae5934b0a7": {
     "views": []
    },
    "1189e59397dd4752af310a1cd50966b0": {
     "views": []
    },
    "11fe66da9e6642999037c304e7ef206d": {
     "views": []
    },
    "126045157939411cbdfda1a8352114c9": {
     "views": []
    },
    "12796d33c62e457cba475c70416f3e6d": {
     "views": []
    },
    "1282aabb4c4143abbef4d2127062c2ba": {
     "views": []
    },
    "12857cf066a14e07b20f840b14250e11": {
     "views": []
    },
    "12b85dec7ed04d98a9f88b7d848761fb": {
     "views": []
    },
    "12c4332d4e9b47da8e709afc131662c7": {
     "views": []
    },
    "130fdf7efcfa4d36ab33b4534d659c8b": {
     "views": []
    },
    "1381f6282e0c4f938803a903166f01dd": {
     "views": []
    },
    "13d25c28aebe4d53ad3bd0f3460fd748": {
     "views": []
    },
    "1409458ac2344827be6fe49db8b6bcf4": {
     "views": []
    },
    "148f66c8725d41979ebeb9ce57cb055e": {
     "views": []
    },
    "158750acfa0948939bed35c047ba2b2a": {
     "views": []
    },
    "163b832fffc94799bb568e8f28aedf60": {
     "views": []
    },
    "1677266e64b44125853ab8acc2a43b22": {
     "views": []
    },
    "169823bf177c4ba5be1f6be613ff66f9": {
     "views": []
    },
    "171d5278a7044fd4bab8e8018f00e64b": {
     "views": []
    },
    "172a2d68cd8b4b30aea8d58a331b5315": {
     "views": []
    },
    "180b2f14584b499f886c3bd65b6d6048": {
     "views": []
    },
    "192f4ba1fa3c43bab51012015175a602": {
     "views": []
    },
    "1a0dd231c6ed40d7bb5a5db5c68f8dfd": {
     "views": []
    },
    "1a3b4cc84b0c49b0a5d5ee3dae195864": {
     "views": []
    },
    "1b45ea30cc424181a2441a873df1fca8": {
     "views": []
    },
    "1b9a7db4fc004008bc99de564568a9b9": {
     "views": []
    },
    "1baf414806bb49dcac752d1bdd08cfe2": {
     "views": []
    },
    "1bb56601f9294e1cae448bff149a33fa": {
     "views": []
    },
    "1bc9fa9b02834b6a8c1da7fd1e47033f": {
     "views": []
    },
    "1cc18f97ed72471fb9bbc1bebd04ce4b": {
     "views": []
    },
    "1cd00705c12b421d9a79b8e09e45e4eb": {
     "views": []
    },
    "1d1e256179c04a9abf04a01a6d7139d8": {
     "views": []
    },
    "1d3552896b804227a07527562c71b9b8": {
     "views": []
    },
    "1da872c042a345029e1160b47251c0d7": {
     "views": []
    },
    "1df6f57d828d4a0b827eae469140074a": {
     "views": []
    },
    "1fdb05a4a140473eabc5cb04372d2715": {
     "views": []
    },
    "1fe9239732994c3ab56718cd0e011930": {
     "views": []
    },
    "2098c2e4be4f43e6b24dd16f6e20fd67": {
     "views": []
    },
    "20b5b4144fac4c70ae4590c50f5628a8": {
     "views": []
    },
    "21ace11d421648eb9331ecdd94dff9e0": {
     "views": []
    },
    "22907324e8ac48dfa1a49a3b9f984bd8": {
     "views": []
    },
    "22d83bacffe6489a8108991b51001c13": {
     "views": []
    },
    "238b34b7ba764b22a1dc0a357e99cfc4": {
     "views": []
    },
    "24fd92779aba4ffba9125c339eb3325d": {
     "views": []
    },
    "254409ff4a924f769299777586ab946e": {
     "views": []
    },
    "25523a58e43b48cc954df483bbbe4425": {
     "views": []
    },
    "25c428e330f74d26bd82a9ca39996660": {
     "views": []
    },
    "262c85a5567d4e91ba053f8dcdb9fce9": {
     "views": []
    },
    "269c44a041a34b409108163069fb2db4": {
     "views": []
    },
    "26be7a8d462d4e569891591586338e0d": {
     "views": []
    },
    "27abd215b258484b99789bb21b7cc8b5": {
     "views": []
    },
    "2811595916f94093b75a741bfc666dca": {
     "views": []
    },
    "288b6e706da9440eb07ce6c1274815a4": {
     "views": []
    },
    "294054e2573c4bb1913487e13f2fab52": {
     "views": []
    },
    "29c33b2da68f44619c02ffece61eafe1": {
     "views": []
    },
    "2a7675847a8345ab86c530b7727f936c": {
     "views": []
    },
    "2ad793679a3e451f88403237c0018191": {
     "views": []
    },
    "2b314e98de274096bc20d558faa955e5": {
     "views": []
    },
    "2b35b7e9fc0c4a78a8a76fab3c468820": {
     "views": []
    },
    "2b514b05b6184a40a6b5919246b14eae": {
     "views": []
    },
    "2b8f89c877f44fcea60bca41fea3750f": {
     "views": []
    },
    "2b959a196c244fdda851bff10f66d60f": {
     "views": []
    },
    "2b98d8eabeee4503b91b50970be8f285": {
     "views": []
    },
    "2bccd3c56caf4b419bd8dad4e9386c9c": {
     "views": []
    },
    "2c37710124274594b00867eb35c94fe4": {
     "views": []
    },
    "2cdb621fb3cf420197cc4e59adca854c": {
     "views": []
    },
    "2d0d3b3d9b10469e9408495f3e292f7c": {
     "views": []
    },
    "2de75447c68142fb86278a9be5696710": {
     "views": []
    },
    "2e8c48fec4254ea2b7ad238aac95cfd7": {
     "views": []
    },
    "2f0fc7f4bfdf405bb33a3784d120181c": {
     "views": []
    },
    "2f33a7eecca94a71a9733de163339ef6": {
     "views": []
    },
    "2f37ac89f5f9481db50bbc0f5c6168ce": {
     "views": []
    },
    "2ff89ac8d87d4f1d8954339f4fb728f5": {
     "views": []
    },
    "301161531714457b87b60582e7e07666": {
     "views": []
    },
    "3064d8d022194632ad3036828817f7fb": {
     "views": []
    },
    "30d8f67efae444f984748f6c0862b115": {
     "views": []
    },
    "30fb4ebb6b81416da5575e5f83c7d172": {
     "views": []
    },
    "31cdf80d27104e4d96642c230bf8d4ec": {
     "views": []
    },
    "324bcd640aae41999bea85c16be63436": {
     "views": []
    },
    "325dfb64fe5e46198f7ef95401c0a66f": {
     "views": []
    },
    "32805d7a755e45bbbc5b0c74de0da3de": {
     "views": []
    },
    "32bb24e5669d4779a285f8ccdc978213": {
     "views": []
    },
    "331ad421b5b84636a998ee559057ab39": {
     "views": []
    },
    "33a079ad6287419b92c7dbb2fef5add0": {
     "views": []
    },
    "33b5e89822ef4567b44bc5de55ab733e": {
     "views": []
    },
    "340b5fb42c93423687229ae9f9a6abcb": {
     "views": []
    },
    "34916e6afd8f45e5818aa6cb32aaee02": {
     "views": []
    },
    "35433ebac6e148158b8f89f3cfbadbf8": {
     "views": []
    },
    "35c08f946fba44e3b2521bfeec005cd8": {
     "views": []
    },
    "35c2723f0b754e2f8870bd9c69207fa2": {
     "views": []
    },
    "36b926890d2b40689bf7642a78ee281a": {
     "views": []
    },
    "3726e144c1bd4abcab8d12628fb5eed7": {
     "views": []
    },
    "3797d23f03074b9181d0094f53096d4a": {
     "views": []
    },
    "37d46131eb3a4147815b6364becb248f": {
     "views": []
    },
    "3865eee1986d44b8b987798ec5674ddf": {
     "views": []
    },
    "3888f3f0ebe64392b2d42eaa12c59282": {
     "views": []
    },
    "38ba9892df954431af54a478dcafd573": {
     "views": []
    },
    "3bee6ba0fa94493c80b5827ebd3390ce": {
     "views": []
    },
    "3d9e533c0a6140618d0f883bae8feb92": {
     "views": []
    },
    "3e0213a7ccf24bd08ea15180654ac66d": {
     "views": []
    },
    "3e5f02c177414732aa8a04843cd08b0f": {
     "views": []
    },
    "3ff43a9a32254f738a41b0efd12e54d2": {
     "views": []
    },
    "40e6a37a25f24685933cb1c692ae3eb7": {
     "views": []
    },
    "419a8cdfabe74ff6aea4cc1a94b36e59": {
     "views": []
    },
    "41aec1953170499ca61b3d20370fd832": {
     "views": []
    },
    "41b01e444d174154a16301f77ef47865": {
     "views": []
    },
    "425465ce0c9d4c068d144d0bbfad5148": {
     "views": []
    },
    "4258be84b5244d51b04a8d5f4431a7b4": {
     "views": []
    },
    "4510baa3e8a24be1aa98ef88a993f9e0": {
     "views": []
    },
    "4651b918605b45b08b5e949fbf029757": {
     "views": []
    },
    "4659e27eb2e1456387e1f3ca28eb60fe": {
     "views": []
    },
    "46730b7b28314359b4b23c61ff7192dc": {
     "views": []
    },
    "46c33388931d439a9ac9e8fca6287d54": {
     "views": []
    },
    "475b44c8f65f4f6e843f1e7eeb16bbba": {
     "views": []
    },
    "4773d9b8de854248868fb3545f9899b9": {
     "views": []
    },
    "4793e210683c4e05a8749aac507803b9": {
     "views": []
    },
    "47bf019fb48a4b05900b874fe3d7804f": {
     "views": []
    },
    "481892c555114f3ea0f53abac52eccae": {
     "views": []
    },
    "48864ef3112f4ab8942fa2be2e4ba455": {
     "views": []
    },
    "4963191e80ff48fd956d8a22c7bc27f6": {
     "views": []
    },
    "49aaf446661c49d6a9c47d072164f2c2": {
     "views": []
    },
    "4a85cab1a63e443fadde904a9692b4d3": {
     "views": []
    },
    "4aa982db9c4f4bf98d6818a33223950e": {
     "views": []
    },
    "4c048318c33a4168bd0f30bea3ed98f3": {
     "views": []
    },
    "4c303245f98646f0abd887eea9b96313": {
     "views": []
    },
    "4ce88d3eab8648be882fbe1328644a0b": {
     "views": []
    },
    "4d32e37a6cd349b180a290fb51ab7ffb": {
     "views": []
    },
    "4de966b8432c4396b34531db96e0d28c": {
     "views": []
    },
    "4eabeb64a54044989ef91d7d7da94020": {
     "views": []
    },
    "4ed1ffea39c746a9949aa79faab97ba5": {
     "views": []
    },
    "4fb5123f0c9e4089943296d33960b725": {
     "views": []
    },
    "507c3af782cb40faa88c38d896bfbfd1": {
     "views": []
    },
    "50a92ac0fecb4329ba7b1c533cf9d469": {
     "views": []
    },
    "50ce51da044b408586a97369523bc1a0": {
     "views": []
    },
    "5149fc9d6e594e15a4394e7fa1b9d278": {
     "views": []
    },
    "51ca05007b904904b699835fb33d3cdd": {
     "views": []
    },
    "528eecb7b22d4dd9b22c995b61fad0e9": {
     "views": []
    },
    "52a4506fe3a64ff19fc7c6e353fe8e50": {
     "views": []
    },
    "532e87bbf5bb407a839a6203cd335c49": {
     "views": []
    },
    "53b4982889ba4a229566ebb681b2a2dc": {
     "views": []
    },
    "5552aa1cbb774f24a3e8b0ed4629855d": {
     "views": []
    },
    "55c6a8a3a6c248a7aae27b1cbae3823c": {
     "views": []
    },
    "55e0424485154407842feacc61e636e6": {
     "views": []
    },
    "57888b661b314098b04f776e8e9dff2f": {
     "views": []
    },
    "58663746415245d3aff746c700df68c3": {
     "views": []
    },
    "591fcbf740dd4cc3a0b57ccce6df3cc9": {
     "views": []
    },
    "59c3f91b86034a4ba2cb08603fd71a91": {
     "views": []
    },
    "59e6c181eb544df8ae8d7965809c44d7": {
     "views": []
    },
    "59fb96b8f2744136a2c0c3233e707f4d": {
     "views": []
    },
    "5a196afb4b7e41799509bd02aa49dd7e": {
     "views": []
    },
    "5a4582be09ea44d08d5b3dc72734171a": {
     "views": []
    },
    "5a46d2b9a3d04d099a7335277905dba8": {
     "views": []
    },
    "5a5d1aa712654076a07e997b77bdd57e": {
     "views": []
    },
    "5a70abbfabef443caa8d17a89384b00c": {
     "views": []
    },
    "5b2863e88aec46f3823f15a133d6b8c6": {
     "views": []
    },
    "5b8b954eb78d4f68b69086e1b19f4104": {
     "views": []
    },
    "5bf7eedec5834298951a90abdfcf59ad": {
     "views": []
    },
    "5c01afaa17704081bcf2a48541c6308a": {
     "views": []
    },
    "5c2c82a5246443be9cbc625a1cfa017a": {
     "views": []
    },
    "5c9dcda1fafb482ab9764111b5f3593e": {
     "views": []
    },
    "5cb63477d1b6460784d701da09b18a41": {
     "views": []
    },
    "5d605a8676f44ebeb56d0d13569821ba": {
     "views": []
    },
    "5e41fe8f87244fae899f691d97d878e4": {
     "views": []
    },
    "5e71165337134a1db22fe7e982c07e52": {
     "views": []
    },
    "5ecbabdef3f74643ba4504ee12b63df7": {
     "views": []
    },
    "5f8196d4189247ec87a41c7f5d27fbad": {
     "views": []
    },
    "5fd50558243e4a7e862e66ddbd20121f": {
     "views": []
    },
    "60055dbfbcc5403480e6ef276426e0c4": {
     "views": []
    },
    "600aed143797428e9e4d9b68fdf856d5": {
     "views": []
    },
    "60150c86a2214cc48bb5699300602582": {
     "views": []
    },
    "601987e3ce9e448d8e7c050053df61fe": {
     "views": []
    },
    "602cf417f6ef40f398809066607a1f2d": {
     "views": []
    },
    "60b3c3f533bc441b83d09a0db9ab0c62": {
     "views": []
    },
    "60fd0d279ffa4548a677f1795642ac83": {
     "views": []
    },
    "611bd24a03c7446a84d4f75bc6527677": {
     "views": []
    },
    "6138a7bb702c423c8307597b4a8ca7ae": {
     "views": []
    },
    "614e6f2f5fd642c3bd71571a721a7b21": {
     "views": []
    },
    "615c5706ffc644ba82e4e1c86eb899ec": {
     "views": []
    },
    "61f44923ffbd4e7fbf3af537b4ff999f": {
     "views": []
    },
    "62de415f82224ad389f73a71df5204ad": {
     "views": []
    },
    "631f6601c48c4ca6b79b3f2452898660": {
     "views": []
    },
    "6356025450894fd2a8f01aa2594210db": {
     "views": []
    },
    "638fb8bb70d24f34bb55b03be20d7866": {
     "views": []
    },
    "63a61fe48f6c42b4a7eb4737331e7df9": {
     "views": []
    },
    "64a5cafd44044efeb365cfd55104adf9": {
     "views": []
    },
    "64d70db7a7814a9787b9f31b351c9073": {
     "views": []
    },
    "64f88f6e4a7545dab370897b56e8c2d8": {
     "views": []
    },
    "662a5096f9504eea8c07c4b44fa4ca47": {
     "views": []
    },
    "66f1da1c65ca4b0c94c554bb692ecb14": {
     "views": []
    },
    "670d23ed4c0045bf9f9209c0e424f437": {
     "views": []
    },
    "6748a6c9a90b4def8fbeb20a88fabe2f": {
     "views": []
    },
    "6757c00c3ba14e7686c99622792d6587": {
     "views": []
    },
    "675802caab054463a114c96030d24198": {
     "views": []
    },
    "67bb65d342ff41299dd2b92117f7b633": {
     "views": []
    },
    "67cff36c5c064484a79b29aa64fa9835": {
     "views": []
    },
    "683849e27ebf47f3be50e2128ce4544b": {
     "views": []
    },
    "69a75c274dfa4b20bd3d22ac3af5e108": {
     "views": []
    },
    "6a2a383ae7de4a84aecedc7cd60aaa34": {
     "views": []
    },
    "6a9a3bf78fe9465f9636a0d7ff7e80e3": {
     "views": []
    },
    "6c0425fbd5ac4334a18f315f57086eb1": {
     "views": []
    },
    "6cabc12c65f24e6a9d7b234f5a000d3f": {
     "views": []
    },
    "6dccdd9c18aa4809b1c3647e1de4d536": {
     "views": []
    },
    "6f6289ef6d9542379b819184297c20be": {
     "views": []
    },
    "6f8841747deb498a89fa3a0434d38f74": {
     "views": []
    },
    "70048c090cb443539ce368ee63ee522b": {
     "views": []
    },
    "7043186708894e0890ecea153acf8fc4": {
     "views": []
    },
    "713d23fe9a1245c5a52c8bafe40e6074": {
     "views": []
    },
    "71bcbb99abf1468abb872cadf9d7d98d": {
     "views": []
    },
    "723e50321f994e3a98be1523202d091c": {
     "views": []
    },
    "723f84fda6c24b5bbca7f7473c60e09f": {
     "views": []
    },
    "725dc8784b534b5ab2b7d090cd24f374": {
     "views": []
    },
    "72c0e2561ddc44b9aaed5bda991fab6b": {
     "views": []
    },
    "731ca9a0506443918f7f1fa9438005f8": {
     "views": []
    },
    "73c2dee038f9476b8ca099535b8477aa": {
     "views": []
    },
    "747d32614941474a900bb1c888b2315b": {
     "views": []
    },
    "74c8d38518a945ee983828f0dfda4b39": {
     "views": []
    },
    "75efdeded5104ddd968ef7594a65280b": {
     "views": []
    },
    "765f0143840c4a20a007f8f9e4cc5264": {
     "views": []
    },
    "76fabee5ed38458c97a450b3780849c4": {
     "views": []
    },
    "77b89615dbca429db0a9e6ceb322ffcb": {
     "views": []
    },
    "78bb4885f2c046e5bd1c67aa87b2128c": {
     "views": []
    },
    "79fd1f668f194355bbc124599770e77b": {
     "views": []
    },
    "7b03512d6a5d4fdcbf6f8b7d79fd42d1": {
     "views": []
    },
    "7b92c589a4a348d0bdf719cabb74cfa2": {
     "views": []
    },
    "7bd01b2a5aa2416294e300cb6493c358": {
     "views": []
    },
    "7dbb487916e244a1adcc1c1e68b8ceb6": {
     "views": []
    },
    "7e4b88b91f9945ceb134cfc615988681": {
     "views": []
    },
    "7e68e20b316f4e8880ede6f3ad0e4133": {
     "views": []
    },
    "7e9214f0be5e4c77a12d58a409b4b09f": {
     "views": []
    },
    "7eb81f49c4c949669bc195b45f94ed86": {
     "views": []
    },
    "7f04efe51c994f4ca1e3dfa3da91b5a4": {
     "views": []
    },
    "7f5ddfe175834ede8daa8bbbd4c1e671": {
     "views": []
    },
    "7f76beb3e161442eb9206f39570170f3": {
     "views": []
    },
    "7f82bb60f89548069583b041cbffd091": {
     "views": []
    },
    "7fa97ff4c8264e879e7b87c4708b9c3d": {
     "views": []
    },
    "7fc299b780d6475cb909ab88e2c6b8e2": {
     "views": []
    },
    "7ffddc8d43dc42238af6fddb33ce044a": {
     "views": []
    },
    "8042b29549784ff0a59e408d50c2cc29": {
     "views": []
    },
    "80e27add334d42e1aa6ddbc2b412d6a7": {
     "views": []
    },
    "80ece02b43b148baa39aeabcd25d8698": {
     "views": []
    },
    "814491e6372041bb8e9b5c70be243571": {
     "views": []
    },
    "8175cbeb16ad43649931e27c59849028": {
     "views": []
    },
    "8223c9102caa4c58909d72c5d3f89b0f": {
     "views": []
    },
    "825e4686fde748d6816394dd0778a5d0": {
     "views": []
    },
    "845ebfc6fabc4ca6bf6ae88f1361a5ee": {
     "views": []
    },
    "869160f3745e46d0a0d44acdb6edea66": {
     "views": []
    },
    "872a502a27594bb1b87226f5f28dd115": {
     "views": []
    },
    "87812e25c5ee4e8a82418666549973c5": {
     "views": []
    },
    "8913370ad910443791a53ce0f201297e": {
     "views": []
    },
    "89e2ee822bd1412187b50f9faadcdc38": {
     "views": []
    },
    "8ad6ccf9d64c4ea09d645d92656484f0": {
     "views": []
    },
    "8b18b4e664094594bdc3d12f177a1544": {
     "views": []
    },
    "8c62465a37e7434eb7a754bf7dd0f2c2": {
     "views": []
    },
    "8c97010be94043bc87eb8fe73da56586": {
     "views": []
    },
    "8caac354fd2142858ae6b144400b174e": {
     "views": []
    },
    "8e9b9600675b4d54a8438d3d52b9bea8": {
     "views": []
    },
    "8fd6d1fa69a6408cab3deed03bc2d352": {
     "views": []
    },
    "90dc0b2699184b4183dd9b6a7bb0f806": {
     "views": []
    },
    "91fa8e565b154f719bcdb7861c3fc781": {
     "views": []
    },
    "921b55b278a54a3ca249120f4569348b": {
     "views": []
    },
    "925919ab0dde4b479cdb7ac3defe04d1": {
     "views": []
    },
    "92683b13dc214b9dbfd53ba88150abbe": {
     "views": []
    },
    "92da231035954589b6b077e096cef9c9": {
     "views": []
    },
    "93630948c77748fc813b672a7b1d8a2d": {
     "views": []
    },
    "94154f318fa7419780d188a0dcf9c393": {
     "views": []
    },
    "945f28687f5b4ec58c06f43d02bc99e1": {
     "views": []
    },
    "94e7435bedf14566b3eb4ad6300b2e46": {
     "views": []
    },
    "95cab58fe0634d60b854c39009c0f964": {
     "views": []
    },
    "968907d25c224019820023b738fcf9aa": {
     "views": []
    },
    "969d8ae6c5c04183ade32f594b4b2fe8": {
     "views": []
    },
    "976d85100755463db2a8f7b888980ada": {
     "views": []
    },
    "98d20862aa4047c8b9144fcfb3914fb6": {
     "views": []
    },
    "9a259e2d9c0442f39577e1a888548a03": {
     "views": []
    },
    "9ad9a6f7f48944c6b72e662ddf4a7421": {
     "views": []
    },
    "9aeac18cd78143a2b3b64512aaba906c": {
     "views": []
    },
    "9b2658293edc45c882490cb9de265a45": {
     "views": []
    },
    "9c3ce7ca4ebd491ba6c8bf7ac51fb89a": {
     "views": []
    },
    "9cb10fabdc2d4df8957c347070d9dcc3": {
     "views": []
    },
    "9eacc4d3cef44253ace9100acabb3ad4": {
     "views": []
    },
    "9ebf854f990b4f80a518a2f8662e6d8c": {
     "views": []
    },
    "9ee2c04a92404008bce43d7318547fed": {
     "views": []
    },
    "9ee630c775a042b58a99344e9504c6b3": {
     "views": []
    },
    "9ee6bfc99ecb40daa42249e7c2543c04": {
     "views": []
    },
    "9f339cf62a7c40a183409348ed53f25a": {
     "views": []
    },
    "9f5a603c7d874157b7c5a87650655df4": {
     "views": []
    },
    "a06b2953ae0d4b458d05a9a02542979f": {
     "views": []
    },
    "a0b705c9983b4c80a6de69bed29a453d": {
     "views": []
    },
    "a1772fc8e0634c8a935c4c1ba7094099": {
     "views": []
    },
    "a2a9623234194ff4a3638145fe253210": {
     "views": []
    },
    "a34fbcc044e3406b9bb0c41e76204be0": {
     "views": []
    },
    "a4d782061faa4a6fb470abced312ee69": {
     "views": []
    },
    "a4d85185a8e94d7497abb9d04120dd1f": {
     "views": []
    },
    "a6025ce81cca4e939c9c267466065f96": {
     "views": []
    },
    "a64793b36e0548d5ae23ed877838f89d": {
     "views": []
    },
    "a6dc7f37741d41fcb4d4515eeed3d48d": {
     "views": []
    },
    "a72479f71a374490abd8941d32416b67": {
     "views": []
    },
    "a7253c7c4c7d4d23a4d5043f7650de39": {
     "views": []
    },
    "a7467cb167744ec6820bfc8f06b6de50": {
     "views": []
    },
    "a7a1db7d96de499d8db7619ed00f7318": {
     "views": []
    },
    "a7c4b42fb7254665be6122b1ab28d247": {
     "views": []
    },
    "a7f0cbbe785a4ba9bf4d77b5c77c6f16": {
     "views": []
    },
    "a81d4c7d92bd4047a92227ee03c47a1e": {
     "views": []
    },
    "a8292fe82cbf47a9bfd6d9759f5c5e76": {
     "views": []
    },
    "a85bafaf32f148318715b65b1d0eafba": {
     "views": []
    },
    "a91f8d087ec64f1582402e7baddf2c7d": {
     "views": []
    },
    "aa55708bc71f42359916fc315181fe46": {
     "views": []
    },
    "aaaaf67cdc8d4dbc9c0f91eec665f970": {
     "views": []
    },
    "aba7dfe1dadc461dbc4fca0387d016ed": {
     "views": []
    },
    "adae212e34fc41cf8e84532f3de44cb9": {
     "views": []
    },
    "aded86b736e04ae5aea110dde25f77e0": {
     "views": []
    },
    "af61a2c2b0404a1299b81a69028068a8": {
     "views": []
    },
    "b06bba69dd8145e9b3869054d24bbcff": {
     "views": []
    },
    "b11edb66c3ba4abca61ec067bf96e9fd": {
     "views": []
    },
    "b14302ddcafb4235b211be883f0ae683": {
     "views": []
    },
    "b17409901e1e42a89546c0e304e455af": {
     "views": []
    },
    "b283a4192cab4b40a24c53dff20a5ff6": {
     "views": []
    },
    "b2c618f38ed74907b23a6c842a748c43": {
     "views": []
    },
    "b2f144bd2eb840ec9a8cc71540bdfd4b": {
     "views": []
    },
    "b3ab64a727754d2eb89d0c395d491949": {
     "views": []
    },
    "b4a37a844e4345c79a1d443289a80d37": {
     "views": [
      {
       "cell": {
        "cell_type": "code",
        "execution_count": 98,
        "metadata": {
         "collapsed": false,
         "run_control": {
          "read_only": false
         },
         "trusted": true
        },
        "outputs": [
         {
          "ename": "AttributeError",
          "evalue": "'module' object has no attribute 'Ramp'",
          "output_type": "error",
          "traceback": [
           "\u001b[1;31m---------------------------------------------------------------------------\u001b[0m",
           "\u001b[1;31mAttributeError\u001b[0m                            Traceback (most recent call last)",
           "\u001b[1;32m<ipython-input-97-9275265181b5>\u001b[0m in \u001b[0;36ms1\u001b[1;34m(sg, fd, delay)\u001b[0m\n\u001b[0;32m     12\u001b[0m         \u001b[0mey\u001b[0m \u001b[1;33m=\u001b[0m \u001b[1;33m[\u001b[0m\u001b[1;36m0\u001b[0m\u001b[1;33m,\u001b[0m \u001b[1;36m1\u001b[0m\u001b[1;33m]\u001b[0m\u001b[1;33m\u001b[0m\u001b[0m\n\u001b[0;32m     13\u001b[0m     \u001b[1;32melif\u001b[0m \u001b[0msg\u001b[0m \u001b[1;33m==\u001b[0m \u001b[1;34m'ramp'\u001b[0m\u001b[1;33m:\u001b[0m\u001b[1;33m\u001b[0m\u001b[0m\n\u001b[1;32m---> 14\u001b[1;33m         \u001b[0ms\u001b[0m \u001b[1;33m=\u001b[0m \u001b[0mcs\u001b[0m\u001b[1;33m.\u001b[0m\u001b[0mRamp\u001b[0m\u001b[1;33m(\u001b[0m\u001b[1;33m)\u001b[0m\u001b[1;33m\u001b[0m\u001b[0m\n\u001b[0m\u001b[0;32m     15\u001b[0m     \u001b[1;32melif\u001b[0m \u001b[0msg\u001b[0m \u001b[1;33m==\u001b[0m \u001b[1;34m'unit ramp'\u001b[0m\u001b[1;33m:\u001b[0m\u001b[1;33m\u001b[0m\u001b[0m\n\u001b[0;32m     16\u001b[0m         \u001b[0ms\u001b[0m \u001b[1;33m=\u001b[0m \u001b[0mcs\u001b[0m\u001b[1;33m.\u001b[0m\u001b[0mRamp\u001b[0m\u001b[1;33m(\u001b[0m\u001b[1;33m)\u001b[0m \u001b[1;33m*\u001b[0m \u001b[0mds\u001b[0m\u001b[1;33m.\u001b[0m\u001b[0mStep\u001b[0m\u001b[1;33m(\u001b[0m\u001b[1;33m)\u001b[0m\u001b[1;33m\u001b[0m\u001b[0m\n",
           "\u001b[1;31mAttributeError\u001b[0m: 'module' object has no attribute 'Ramp'"
          ]
         }
        ],
        "source": "interact(s1, sg=('delta', 'step', 'ramp', 'unit ramp'),\n         fd=('just delay', 'flip then delay', 'delay then flip'),\n         delay=(-15, 15, 0.25));"
       },
       "cell_index": 3,
       "root": true
      }
     ]
    },
    "b5e63988e1714761a1b47900464ebc67": {
     "views": []
    },
    "b6286147786d461cbd19bf03c001416a": {
     "views": []
    },
    "b6a7df8b8a814f2c9dfff6edad764cab": {
     "views": []
    },
    "b6fd405ba6414e0683459bad99158bd9": {
     "views": []
    },
    "b70d8055e3da42f4b07b59ba3de9aafb": {
     "views": []
    },
    "b7159e9c5d9445a882e9268c4223f0cd": {
     "views": []
    },
    "b7a170542b684ded85509cca94b07fca": {
     "views": []
    },
    "b7d52d572f4c49c5a8434439635a8f6e": {
     "views": []
    },
    "b8648576a916413d8100283504b817bd": {
     "views": []
    },
    "b87afacf0f6f4839a8ba1126ea207f8c": {
     "views": []
    },
    "ba11d24948f948aca9d6d6fcd5d032e6": {
     "views": []
    },
    "ba1e70a8912a409c94e59d9bde6ca11c": {
     "views": []
    },
    "bb6b0b2d1ddc4908833eca78307398cb": {
     "views": []
    },
    "bbbdf30bd8074acd9233bba3c0922917": {
     "views": []
    },
    "bd02a063377e472ebc6d65a0dc5f6cdf": {
     "views": []
    },
    "bdb9ff15fc0241daa5d413ccf07f3d21": {
     "views": []
    },
    "bdc99c90cb79431db74034ed6b3f14e4": {
     "views": []
    },
    "be94e89c20f7456f98963fcef1703236": {
     "views": []
    },
    "bea89d65d2404b3ca8a1e020a72affa8": {
     "views": []
    },
    "bf51d434c6f8477eb53ea16566fe8260": {
     "views": []
    },
    "c0d31f70fa074ec5a296dfe050c11527": {
     "views": []
    },
    "c1e265ca724c44ed9d263888d85b0663": {
     "views": []
    },
    "c2985df1000b44f08920be3fd1106b5e": {
     "views": []
    },
    "c2a463150dda4ec5bad0177607c56cae": {
     "views": []
    },
    "c33efaae5b924592ad18b45438b13b38": {
     "views": []
    },
    "c3666e4acf7e41cd86a319b5fe07fddc": {
     "views": []
    },
    "c3a9732212844c838153c10f5c3f2c8d": {
     "views": []
    },
    "c4c34b5cb1a441808f614fd73c36928d": {
     "views": []
    },
    "c4e9fd06519e478f9e7ef5a72b5d1fe6": {
     "views": []
    },
    "c521df0d2cb04b5390af25c79960bb38": {
     "views": []
    },
    "c575b3ff220d4f6da030bae5232eead9": {
     "views": []
    },
    "c641fbbd95d340a99c829316ffba24c4": {
     "views": []
    },
    "c6524ec0c8484c19a90b4de5acaad76b": {
     "views": []
    },
    "c65bd06eaa5c4badbdaba7f6dd4cbc9b": {
     "views": []
    },
    "c696d96be9c64982bb71cd4195eb4d9f": {
     "views": []
    },
    "c6a7cdbd876b4eb0bfa2dccc7e00cc94": {
     "views": []
    },
    "c771f3a5e68046c790f8f51508be5b04": {
     "views": []
    },
    "c839a882b5cc48e9884e7baeac5991ab": {
     "views": []
    },
    "c9239f567e4842c4a2a7e1f6688b0c5e": {
     "views": []
    },
    "c9977a00f8644f6e846b4b9fc195c706": {
     "views": []
    },
    "ca2fe233eba44ad88505677f3f875cab": {
     "views": []
    },
    "ca449ac8584d4782a212b8593eb678a3": {
     "views": []
    },
    "cac8aab61908456fa49117f962249198": {
     "views": []
    },
    "cc281708c65a4961bbf0547f75c4d0cf": {
     "views": []
    },
    "cce9740c682442718dc76e0d3215136c": {
     "views": []
    },
    "cd19414109814ef6bf36718def86711b": {
     "views": []
    },
    "cd58f838848544dcb445a94b14c9b445": {
     "views": []
    },
    "ce1d1729794648cf9c5fd4f17eb9522a": {
     "views": []
    },
    "ceb5183b1ec347568243c9103cafc512": {
     "views": []
    },
    "ced5358e6a7a4ec6aa21563e7718b961": {
     "views": []
    },
    "d01e21365da04911866d027a83fb4ef8": {
     "views": []
    },
    "d08102a056f046c3a5d89fd977428aed": {
     "views": []
    },
    "d1736ac59f8c4aeb8a23622aa9e650b3": {
     "views": []
    },
    "d19ff1e344ab498db8184c24b99155ac": {
     "views": []
    },
    "d25ad4a00b9f40149189de3c26c779e3": {
     "views": []
    },
    "d3a2d6a48d4944cbb365088c6a82ea80": {
     "views": []
    },
    "d3aab82d2fc24a29830f3d5b76b70a0e": {
     "views": []
    },
    "d3d8bee5c4784ab6886cef24f657c245": {
     "views": []
    },
    "d4007cfd334f49749faf2d818991cd13": {
     "views": []
    },
    "d45c6eca353d4d83b07b3309b9c51a29": {
     "views": []
    },
    "d4632b8122984059be5a0e5a791fed09": {
     "views": []
    },
    "d4b7b53078764a359afef21167f9b840": {
     "views": []
    },
    "d4be69da5d7b4d21864e158b946254b5": {
     "views": []
    },
    "d520f58ee72747ff907f48c240bcef78": {
     "views": []
    },
    "d5738000b00544789db0a304fb9a1995": {
     "views": []
    },
    "d6e24775fe344fca94dcc70305d35f9f": {
     "views": []
    },
    "d6e3c3e4aa89458981e8fe907360bbcd": {
     "views": []
    },
    "d789d9bf405240db8bd8bfa4e967f139": {
     "views": []
    },
    "d83bd8642adc44e3b4788acb96115ac6": {
     "views": []
    },
    "d893c789d6fb4c6598b332811f7fd85c": {
     "views": []
    },
    "d8ecd0e5ac964eb1b31c7efda89735bd": {
     "views": []
    },
    "d973959abd8540bcbc1d55bef8aaeb8d": {
     "views": []
    },
    "d9eedc6120a2444f91accda3ce3d7fec": {
     "views": []
    },
    "da06df6964ae4d07a624bf2508bbe33f": {
     "views": []
    },
    "da19cbbbf2a6420cbfe7183c8c0ab965": {
     "views": []
    },
    "da4ce991c4d541028e3dc0af7c5017c8": {
     "views": []
    },
    "dae38ea9346a4b1986722405f2586f6a": {
     "views": []
    },
    "dc0560f35ae245b6bae43998c60aa1d9": {
     "views": []
    },
    "dcbf9da938554442a4a477e06ac3e259": {
     "views": []
    },
    "dcdd5f4f04b24fd784731349395e01f3": {
     "views": []
    },
    "dcef2ceb89234803923750dc1d31cc77": {
     "views": []
    },
    "dd05d89534e145d1b0c7009203116db4": {
     "views": []
    },
    "dec4c43865154b8ca382e5a718e7868c": {
     "views": []
    },
    "df8e78d971224497b318a777fcdbac0f": {
     "views": []
    },
    "dfe115c577014324a39392f61a6f1771": {
     "views": []
    },
    "e10ee5b8ea0446c78b8a41ae0cdb8747": {
     "views": []
    },
    "e14c6982a1ca4b9eab2b22641d83a9d9": {
     "views": []
    },
    "e17eaa4b1c274b0fb36717104d148dfa": {
     "views": []
    },
    "e180b50e314548fa9f70290355a04fef": {
     "views": []
    },
    "e28bb267ea564893be1ab656fad5d886": {
     "views": []
    },
    "e2a3e0bfa1c74945baf22cf897d0471c": {
     "views": []
    },
    "e2fdd11164e84207b0d05e7e5c83b593": {
     "views": []
    },
    "e392390cbfbb4847a14b506e0e363eb3": {
     "views": []
    },
    "e41f0f3111e444e5bfb8a3f9e8bbd9c7": {
     "views": []
    },
    "e5c059baf15041068876bed437872006": {
     "views": []
    },
    "e63b8cb16705426d9a6c9308aba68881": {
     "views": []
    },
    "e6552a78cbad46dea9187ef8ab58b41f": {
     "views": []
    },
    "e7050ecd50634ce0b17bddd265fd2448": {
     "views": []
    },
    "e8a5c9b751a5418f9e6e67cbb0c67b27": {
     "views": []
    },
    "e8a9c18d5d444d8fbd58e3b0d96ef00f": {
     "views": []
    },
    "e9243d6144354008848dde925c87cb48": {
     "views": []
    },
    "e95d1962d26b4ca190d35501adf0cd3d": {
     "views": []
    },
    "ea07d19ebe7246c7ad2edf190e1707d2": {
     "views": []
    },
    "eab7534909e44edaadacd2af68895faf": {
     "views": []
    },
    "ebb9e93bf7de4362aa8af0aa07a1cb8a": {
     "views": []
    },
    "ebeb290b8c874b7cae5cd8339b281156": {
     "views": []
    },
    "ec01937faa06433999b44cd3409ec5fa": {
     "views": []
    },
    "ec5c926970604438aeab83990a06d38a": {
     "views": []
    },
    "ec5ed6b2a6074ead882d24ceb4641334": {
     "views": []
    },
    "ec6ff59ba4fc4414a3448cc038d3abd8": {
     "views": []
    },
    "ecd7816646d3440e93e89965279d6b6e": {
     "views": []
    },
    "ed04b7dd579c4b658077a9ef3ebed1ad": {
     "views": []
    },
    "ed069b96aa104a61b3a45f2464ec4c55": {
     "views": []
    },
    "ed0f82c417c44acd9a135c3920ebd192": {
     "views": []
    },
    "ed99e78b31f24d2181390647563e16c3": {
     "views": []
    },
    "eda31e1dbac940a4b414cba2e0e9c0c0": {
     "views": []
    },
    "eda3f922a862489dab4c5ac800bec211": {
     "views": []
    },
    "eded8479449944f5ba251f0350233fbe": {
     "views": []
    },
    "ee6a4456c9c348ddac9c8b5bfd2c2d2c": {
     "views": []
    },
    "ef4dc34ca4ef4934a0211b6f5547fd8a": {
     "views": []
    },
    "f10cdc4248de4bb6842dd87ce9181772": {
     "views": []
    },
    "f113454de2a54f4e96816347dbfaae47": {
     "views": []
    },
    "f198e019920d4724a7a1fff24f1805a4": {
     "views": []
    },
    "f26a9564aac540ab9f38d136b81a1336": {
     "views": []
    },
    "f2adaaab4a424bafa1889c318635eaa0": {
     "views": []
    },
    "f2b5f2e1ea3e4041bc5635ecf8347686": {
     "views": []
    },
    "f2f9124eca8b4dc2898418b33f772a4e": {
     "views": []
    },
    "f3adf0ce58e740689e0d7c3d90a20a2c": {
     "views": []
    },
    "f3f61018c8f64defba8a4ce366cd407d": {
     "views": []
    },
    "f5139854c6e746d0b393c4e4d8224bf9": {
     "views": []
    },
    "f674ee9eaedf4849bc27fc7292f10f95": {
     "views": []
    },
    "f6b63c7140474e829fcbd33d7c9b8fcb": {
     "views": []
    },
    "f6ea7b94c257458cb7d23da9a10b29d2": {
     "views": []
    },
    "f6f192851a3243dba7e5f1e58d29f90b": {
     "views": []
    },
    "f7ab6eeb32dd42d48f75f5833b54951c": {
     "views": []
    },
    "f7ca2f41e8034b82879d53db43c547dc": {
     "views": []
    },
    "f7ea629370314c729638ed9b8ad8cb49": {
     "views": []
    },
    "f836791e54af49edb5e2d1cd1bad9be6": {
     "views": []
    },
    "f8f0250b45964d2490ab30f6944078ad": {
     "views": []
    },
    "fa8297e932fb47be9abedcc305e89bc3": {
     "views": []
    },
    "fad2d9092aeb4e6fad602b9176b3f868": {
     "views": []
    },
    "faf1959f13d7459e9bb0c446b69df104": {
     "views": []
    },
    "fb115b3ca756489c906d02384cf4805e": {
     "views": []
    },
    "fb6728e5c17b49169ce8976e940df878": {
     "views": []
    },
    "fba6ca95bc9849259299d45631211550": {
     "views": []
    },
    "fc61930d58704b21b183353f24348851": {
     "views": []
    },
    "fcac1a5e79b346a0a829033e56d296f6": {
     "views": []
    },
    "fd06629b9ea7435f837694f99e918fdb": {
     "views": []
    },
    "fd6d6a31d3444d298920212c3de0fa91": {
     "views": []
    },
    "fdb9f1448cde4504a7165d0f7842108c": {
     "views": []
    },
    "fdbc9d67b35d4293aa29da31ff43a62f": {
     "views": []
    },
    "fe9cdf181929434b9e872503dedbbe21": {
     "views": []
    },
    "ff5f16b30abc40eeb537167e0a22379d": {
     "views": []
    },
    "ffb4afd9a0a7413c8ddb23288517de40": {
     "views": []
    }
   },
   "version": "1.1.0"
  }
 },
 "nbformat": 4,
 "nbformat_minor": 0
}
