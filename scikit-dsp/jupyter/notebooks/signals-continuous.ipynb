{
 "cells": [
  {
   "cell_type": "code",
   "execution_count": 8,
   "metadata": {
    "collapsed": false,
    "run_control": {
     "read_only": false
    }
   },
   "outputs": [],
   "source": [
    "import matplotlib.pyplot as plt\n",
    "%matplotlib inline\n",
    "import skdsp.signal.continuous as cs\n",
    "import skdsp.signal.printer as pt\n",
    "import numpy as np\n",
    "import sympy as sp\n",
    "import scipy.signal as cp\n",
    "from ipywidgets import interact, fixed\n",
    "np.seterr(all='ignore')\n",
    "PI = sp.S.Pi\n",
    "pi = np.pi"
   ]
  },
  {
   "cell_type": "markdown",
   "metadata": {},
   "source": [
    "## 1.- Básicas"
   ]
  },
  {
   "cell_type": "code",
   "execution_count": 17,
   "metadata": {
    "code_folding": [],
    "collapsed": false,
    "run_control": {
     "read_only": false
    }
   },
   "outputs": [],
   "source": [
    "def s1(sg='delta', fd='nothing', delay=0):\n",
    "    npts = 15\n",
    "    ex = []\n",
    "    ey = []\n",
    "    if sg == 'delta':\n",
    "        s = cs.Delta()\n",
    "        ex = [0, 0, -0.25, 0, 0.25, 0]\n",
    "        ey = [0, 1,  0.95, 1, 0.95, 1]\n",
    "    elif sg == 'step':\n",
    "        s = cs.Step()\n",
    "        ex = [0, 0]\n",
    "        ey = [0, 1]\n",
    "    elif sg == 'ramp':\n",
    "        s = cs.Ramp()\n",
    "    elif sg == 'unit ramp':\n",
    "        s = cs.Ramp() * cs.Step()\n",
    "    ex = np.array(ex)    \n",
    "    if fd == 'flip then delay':\n",
    "        s = s.flip().delay(delay)\n",
    "        ex = ex + delay\n",
    "    elif fd == 'delay then flip':\n",
    "        s = s.delay(delay).flip()\n",
    "        ex = ex - delay\n",
    "    elif fd == 'just delay':\n",
    "        s = s.delay(delay)\n",
    "        ex = ex + delay\n",
    "    ns = np.arange(-npts, npts+1, 2**(-3))\n",
    "    ys = s[ns]\n",
    "    plt.figure(figsize=(10, 4))\n",
    "    plt.plot(ns, ys, 'b-', lw=3)\n",
    "    plt.plot(ex, ey, 'b-', lw=3)\n",
    "    plt.xlim([-npts, npts])\n",
    "    plt.ylim([-0.1, 1.1])\n",
    "    plt.axvline(0, color='k')\n",
    "    plt.axhline(0, color='k')\n",
    "    plt.title(pt.latex(s, mode='inline'), size=24)\n",
    "    plt.grid(True)"
   ]
  },
  {
   "cell_type": "code",
   "execution_count": 18,
   "metadata": {
    "collapsed": false,
    "run_control": {
     "read_only": false
    }
   },
   "outputs": [
    {
     "data": {
      "image/png": "[encoded data removed]",
      "text/plain": [
       "<matplotlib.figure.Figure at 0x7f26a170e630>"
      ]
     },
     "metadata": {},
     "output_type": "display_data"
    }
   ],
   "source": [
    "interact(s1, sg=('delta', 'step', 'ramp', 'unit ramp'),\n",
    "         fd=('just delay', 'flip then delay', 'delay then flip'),\n",
    "         delay=(-15, 15, 0.25));"
   ]
  },
  {
   "cell_type": "code",
   "execution_count": null,
   "metadata": {
    "collapsed": true
   },
   "outputs": [],
   "source": []
  },
  {
   "cell_type": "code",
   "execution_count": null,
   "metadata": {
    "collapsed": true
   },
   "outputs": [],
   "source": []
  }
 ],
 "metadata": {
  "kernelspec": {
   "display_name": "Python 3",
   "language": "python",
   "name": "python3"
  },
  "language_info": {
   "codemirror_mode": {
    "name": "ipython",
    "version": 3
   },
   "file_extension": ".py",
   "mimetype": "text/x-python",
   "name": "python",
   "nbconvert_exporter": "python",
   "pygments_lexer": "ipython3",
   "version": "3.4.3+"
  },
  "widgets": {
   "state": {
    "0494ba9cd964474d9d76fb947eb91e47": {
     "views": []
    },
    "0ae2192e146c427aa893abcd9542ae28": {
     "views": []
    },
    "0ebba18a5165417bb0f9b6aad2d9524a": {
     "views": []
    },
    "117d7ca46be5441fa1a79758b8f5e36d": {
     "views": []
    },
    "11916bbfb61e40f9a6a03d32ee6f4c90": {
     "views": []
    },
    "21498fcae89f43579a1ced1cb687fe9d": {
     "views": []
    },
    "2c753bbcebab4ffa9f01c18a11396c8d": {
     "views": [
      {
       "cell": {
        "cell_type": "code",
        "execution_count": 18,
        "metadata": {
         "collapsed": false,
         "run_control": {
          "read_only": false
         },
         "trusted": true
        },
        "outputs": [
         {
          "data": {
           "image/png": "iVBORw0KGgoAAAANSUhEUgAAAlYAAAETCAYAAAD02EhdAAAABHNCSVQICAgIfAhkiAAAAAlwSFlz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\nIRZWkiRJDbGwkiRJaoiFlSRJUkP+H07KAXRHKLh8AAAAAElFTkSuQmCC\n",
           "text/plain": "<matplotlib.figure.Figure at 0x7f26a170e630>"
          },
          "metadata": {},
          "output_type": "display_data"
         }
        ],
        "source": "interact(s1, sg=('delta', 'step', 'ramp', 'unit ramp'),\n         fd=('just delay', 'flip then delay', 'delay then flip'),\n         delay=(-15, 15, 0.25));"
       },
       "cell_index": 3,
       "root": true
      }
     ]
    },
    "3131bd1981494975bfa581eabf41a9cc": {
     "views": []
    },
    "321d0cff41b340ec957c2809cfc5ea51": {
     "views": []
    },
    "3b05ff1998644e3ca8d0ea4b496a663e": {
     "views": []
    },
    "3def3a3e18fc408ba50f5590255bd881": {
     "views": []
    },
    "4751022e30af4c8c87fe96ad8d712315": {
     "views": []
    },
    "47a7cf6d68664020b79e8a639ed6fe84": {
     "views": []
    },
    "499243c240bf46d1a8868b6662ae36f5": {
     "views": []
    },
    "49cef6d77858486fa33511ecd461b378": {
     "views": []
    },
    "4f129585c6a54003a55c616839475fe6": {
     "views": []
    },
    "542b05aaea6f4ba193e83eb03cfec5c0": {
     "views": []
    },
    "5f13ac570a79444b8e459ad13356281b": {
     "views": []
    },
    "601a25993e384a60905c17b73c1dc902": {
     "views": []
    },
    "67194d46eb8f46519982a898f2df2898": {
     "views": []
    },
    "677199d4a8964c2993022ed62a79a0c1": {
     "views": []
    },
    "67d8716cc97c4a839a2859ba51596eff": {
     "views": []
    },
    "6ab45fcd05c2426aa5362147b022d37e": {
     "views": []
    },
    "6ec728c206b74b66b4b949d62dd3c314": {
     "views": []
    },
    "7030d28843f94ad68a969e4db9265b8a": {
     "views": []
    },
    "704fdd2325c14fc387ce32c765e43330": {
     "views": []
    },
    "713edf2534af436fbc822cd11c8541eb": {
     "views": []
    },
    "75fbbae144714bac821b82fb5fd87824": {
     "views": []
    },
    "7860ba88a27d45cf9a473f4e46895ba8": {
     "views": []
    },
    "79d8a9e2963d4b5d9d1655fe547f4c3d": {
     "views": []
    },
    "7dbab3911a8e42da8c1dbc88eee11c37": {
     "views": []
    },
    "7e1c9bdd3c2a44f4a6b66ee0f4950b9b": {
     "views": []
    },
    "7ed79f66874c4fffbfdd4b7150642764": {
     "views": []
    },
    "8cd759a688f2423dbe2e4fcecd7af4b5": {
     "views": []
    },
    "91cd5a74f8b34ccf8b71920244d0a1c2": {
     "views": []
    },
    "93546f4867d94079a63dc376a52e3f5f": {
     "views": []
    },
    "95220e43e8c84d659b6ab312f2ccadf8": {
     "views": []
    },
    "9782f73defa54fea80f430b0819fb80e": {
     "views": []
    },
    "a13e1fbda2fc48babee86b82ba46e8fe": {
     "views": []
    },
    "a4c313574ca342ee9f59435b453bd2df": {
     "views": []
    },
    "b6114ab77b004ebabf8f7bf9d88710aa": {
     "views": []
    },
    "b75d93fa46344f32998f08dcbb6c9782": {
     "views": []
    },
    "b8ac6baef5b94306a7594a90b5b00174": {
     "views": []
    },
    "ba0e5c140c554ce6ad092349931c2fad": {
     "views": []
    },
    "beca6ad86e814d62a53fa999f8221bbb": {
     "views": []
    },
    "c21ff82b5f6d47ccb78deb6f84d383ed": {
     "views": []
    },
    "c6122c62201546fc8126f829cf8e95f4": {
     "views": []
    },
    "c75211f804d4484abfb2ab175fe30984": {
     "views": []
    },
    "c7740d3d6acf49eca682466160c49960": {
     "views": []
    },
    "c8fd9255a81f4892857b4cc5137f1515": {
     "views": []
    },
    "c9f7f67136fd4587bc66b2d51753168a": {
     "views": []
    },
    "cdb92ad6c61c41389e366095f8dbe441": {
     "views": []
    },
    "d1621f537fb848c4ace75d16c1febac7": {
     "views": []
    },
    "d51c4c65d2e7460ca2651d1484d95268": {
     "views": []
    },
    "d8485bc3103c4f16b52ef0c383df7540": {
     "views": []
    },
    "e0da7aadd53e49a9903d526a443eb6be": {
     "views": []
    },
    "e21f969fa6124d3bb162cb4f5fd7f335": {
     "views": []
    },
    "e84d240dcc7848f8bd3a467b520be19a": {
     "views": []
    },
    "e883ab16c0a4404fa7dc403f104746fb": {
     "views": []
    },
    "e92fc60441b54c18888869274b7dbf7d": {
     "views": []
    },
    "f0f3c59cff6a44ff917161eda5881131": {
     "views": []
    },
    "f3a6843a596e44f3a9f8d803e2cc4f51": {
     "views": []
    },
    "faf6872506ec4c08bbae6f2da9f1eda5": {
     "views": []
    },
    "fbbb54b849e246d79f4bc9e3bab6ec1f": {
     "views": []
    }
   },
   "version": "1.0.0"
  }
 },
 "nbformat": 4,
 "nbformat_minor": 0
}
