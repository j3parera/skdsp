{
 "cells": [
  {
   "cell_type": "code",
   "execution_count": 1,
   "metadata": {
    "collapsed": false,
    "run_control": {
     "read_only": false
    }
   },
   "outputs": [],
   "source": [
    "import matplotlib.pyplot as plt\n",
    "%matplotlib inline\n",
    "import skdsp.signal.continuous as cs\n",
    "import skdsp.signal.printer as pt\n",
    "import numpy as np\n",
    "import sympy as sp\n",
    "import scipy.signal as cp\n",
    "from ipywidgets import interact, fixed\n",
    "np.seterr(all='ignore')\n",
    "PI = sp.S.Pi\n",
    "pi = np.pi"
   ]
  },
  {
   "cell_type": "markdown",
   "metadata": {},
   "source": [
    "## 1.- Básicas"
   ]
  },
  {
   "cell_type": "code",
   "execution_count": 42,
   "metadata": {
    "code_folding": [],
    "collapsed": false,
    "run_control": {
     "read_only": false
    }
   },
   "outputs": [],
   "source": [
    "def s1(sg='delta', fd='nothing', delay=0):\n",
    "    npts = 16\n",
    "    ex = []\n",
    "    ey = []\n",
    "    if sg == 'delta':\n",
    "        s = cs.Delta()\n",
    "        ex = [0, 0, -0.25, 0, 0.25, 0]\n",
    "        ey = [0, 1,  0.95, 1, 0.95, 1]\n",
    "        max_ = 1\n",
    "        min_ = 0\n",
    "    elif sg == 'step':\n",
    "        s = cs.Step()\n",
    "        ex = [0, 0]\n",
    "        ey = [0, 1]\n",
    "        max_ = 1\n",
    "        min_ = 0\n",
    "    elif sg == 'ramp':\n",
    "        s = cs.Ramp()\n",
    "        max_ = npts\n",
    "        min_ = -npts\n",
    "    elif sg == 'unit ramp':\n",
    "        s = cs.Ramp() * cs.Step()\n",
    "        max_ = npts\n",
    "        min_ = 0\n",
    "    ex = np.array(ex)    \n",
    "    if fd == 'flip then delay':\n",
    "        s = s.flip().delay(delay)\n",
    "        ex = ex + delay\n",
    "    elif fd == 'delay then flip':\n",
    "        s = s.delay(delay).flip()\n",
    "        ex = ex - delay\n",
    "    elif fd == 'just delay':\n",
    "        s = s.delay(delay)\n",
    "        ex = ex + delay\n",
    "    ns = np.arange(-npts, npts+1, 2**(-5))\n",
    "    ys = s[ns]\n",
    "    plt.figure(figsize=(20, 4))\n",
    "    plt.plot(ns, ys, 'b-', lw=3)\n",
    "    plt.plot(ex, ey, 'b-', lw=3)\n",
    "    plt.xlim([-npts, npts])\n",
    "    range_ = (max_ - min_)*0.1\n",
    "    plt.ylim([min_-range_, max_+range_])\n",
    "    plt.axvline(0, color='k')\n",
    "    plt.axhline(0, color='k')\n",
    "    plt.title(pt.latex(s, mode='inline'), size=20)\n",
    "    plt.grid(True)"
   ]
  },
  {
   "cell_type": "code",
   "execution_count": 43,
   "metadata": {
    "collapsed": false,
    "run_control": {
     "read_only": false
    }
   },
   "outputs": [
    {
     "data": {
      "image/png": "[encoded data removed]",
      "text/plain": [
       "<matplotlib.figure.Figure at 0x7fc181fcec88>"
      ]
     },
     "metadata": {},
     "output_type": "display_data"
    }
   ],
   "source": [
    "interact(s1, sg=('delta', 'step', 'ramp', 'unit ramp'),\n",
    "         fd=('just delay', 'flip then delay', 'delay then flip'),\n",
    "         delay=(-15, 15, 0.25));"
   ]
  },
  {
   "cell_type": "code",
   "execution_count": null,
   "metadata": {
    "collapsed": true,
    "run_control": {
     "read_only": false
    }
   },
   "outputs": [],
   "source": []
  },
  {
   "cell_type": "code",
   "execution_count": null,
   "metadata": {
    "collapsed": true,
    "run_control": {
     "read_only": false
    }
   },
   "outputs": [],
   "source": []
  }
 ],
 "metadata": {
  "kernelspec": {
   "display_name": "Python 3",
   "language": "python",
   "name": "python3"
  },
  "language_info": {
   "codemirror_mode": {
    "name": "ipython",
    "version": 3
   },
   "file_extension": ".py",
   "mimetype": "text/x-python",
   "name": "python",
   "nbconvert_exporter": "python",
   "pygments_lexer": "ipython3",
   "version": "3.4.3+"
  },
  "widgets": {
   "state": {
    "006a014512f840f3b25fe376afcc4321": {
     "views": []
    },
    "013e8a84a63e4478bbc7d95d0da9b28e": {
     "views": []
    },
    "02a958f6c49948f383ec2b8e34d31009": {
     "views": []
    },
    "03663d113ae943f2a12276fa80f5b75d": {
     "views": []
    },
    "03b6cef4a47b4874b68c1d85e0b0e5b5": {
     "views": []
    },
    "05305db9b3bc4e62bebbace93e3366b0": {
     "views": []
    },
    "06650f5170c3459fafa9333d07ea1252": {
     "views": []
    },
    "06a37fc9e6a14ec5941c8c172c13897a": {
     "views": []
    },
    "06bb7e8c8d3f4ed4ab5c0763c782d1d5": {
     "views": []
    },
    "0711fb27e1f74a148c968bbfb7494ac2": {
     "views": []
    },
    "0717b5ca5fd64f34a40c3fe2b8b5f65c": {
     "views": []
    },
    "071a97d486c54222855e805c8c8a5170": {
     "views": []
    },
    "0732f38ad29a4264aea07b0708fcb316": {
     "views": []
    },
    "07a94dc5d2544023b2ff0dffd6782bf4": {
     "views": []
    },
    "07a9fb31671b417f9a0e1cf40e16b6dc": {
     "views": []
    },
    "07b85e0d8bc64db88ab554bb128c24c0": {
     "views": []
    },
    "0841adbca42641f5959db47868518860": {
     "views": []
    },
    "09198df0ca1248c5beeacbb3c2be7e64": {
     "views": []
    },
    "099780ee54c74340ba827132aff342e5": {
     "views": []
    },
    "09b0981960d8431383feac198977b53c": {
     "views": []
    },
    "09f5bd9ae2c948f782d470bd6aed4b63": {
     "views": []
    },
    "0a40fc0c061648f5ae4b7f7fe60df6a5": {
     "views": []
    },
    "0ab47551f31244fda80af0473b795e82": {
     "views": []
    },
    "0c2445a91a7e47d1801cabb2b4b125fb": {
     "views": []
    },
    "0d1ac14b8a9d4f549253a4fa94dec90f": {
     "views": []
    },
    "0d1d4e787d1f43d8a9b852c212f299cd": {
     "views": []
    },
    "0ddda5579af647b89743abaabdfe0a9d": {
     "views": []
    },
    "0de4291c10024d79a626f3b0b3681fab": {
     "views": []
    },
    "0ed797e056eb47e586dac65dd5a3579b": {
     "views": []
    },
    "0f2b916c70e34f198e3c0fe46e7fcd5b": {
     "views": []
    },
    "0f2fbec02ebc4d84affc72d77c558eec": {
     "views": []
    },
    "0f91b2dac01c4fd7983a133c5ff0f0ff": {
     "views": []
    },
    "129d30d0a6c44c81a4023bf9d08e1797": {
     "views": []
    },
    "12f2f2dc6d584272a9b3196668659488": {
     "views": []
    },
    "130829fd0257497da95e47e807ebc225": {
     "views": []
    },
    "13260ef5265e434a85aa96f22e3707ea": {
     "views": []
    },
    "1372cf1275e941d8b9dd733274178c8f": {
     "views": []
    },
    "13abb81a1fbe44c9a9f8274759ba62ec": {
     "views": []
    },
    "13f613d1a55c497e959b4f0b7fa077ae": {
     "views": []
    },
    "14104ae669db4b35aa07c733f247a4f3": {
     "views": []
    },
    "1431373ce5fe4e7ab105b68c8bae99cd": {
     "views": []
    },
    "14c8a922f1d145bdb8afe7fdb4586be6": {
     "views": []
    },
    "14e22d5549ec44b5b24434d5d6ff08da": {
     "views": []
    },
    "15cf57c8512a4814822ef73cf5f1a2b1": {
     "views": []
    },
    "17f6fcbafe6f4d56872ce4a496fc782d": {
     "views": []
    },
    "1838243e4097466ba6e3ae8ea2d1e26d": {
     "views": []
    },
    "18ec9b1be71a45faad099949a34cf4a4": {
     "views": []
    },
    "1a17fa9c7b584bfd8a15cf4db877b028": {
     "views": []
    },
    "1a1e14a0239b4b229176639f6c9851ae": {
     "views": []
    },
    "1a2536db27df42869b529e923a020e88": {
     "views": []
    },
    "1bac7a3f20014e55b527d36de9be064e": {
     "views": []
    },
    "1bb80f4305e44573a0f2697434cfca04": {
     "views": []
    },
    "1c59110047a74327ba37c00cbd43c49c": {
     "views": []
    },
    "1cbc9de47b7c44609da4b3f130a81dfd": {
     "views": []
    },
    "1d0bc2b60e244a41aaf1533a81846c22": {
     "views": []
    },
    "1d101b580ce84831badef36392e91141": {
     "views": []
    },
    "1dad92c560f04a8e9e53e40a52e90710": {
     "views": []
    },
    "1dd735f52a2b4e30972d2e55adb07897": {
     "views": []
    },
    "1e31f9e139204137b981a79587442a4d": {
     "views": []
    },
    "1e548faf856e4ceba520654595b45465": {
     "views": []
    },
    "1f1ed43f002f417196be82c805a23e2a": {
     "views": []
    },
    "1f8a4a151d164718a3e18b73f4a20af8": {
     "views": []
    },
    "1ffe7fc0f5084a6b8936c8a798c672d0": {
     "views": []
    },
    "2064578d471a46bca2021c581e3d720c": {
     "views": []
    },
    "212854a01c54419baf4295b71c6fa6b9": {
     "views": []
    },
    "229a854a855b448fb5c208c44eefa829": {
     "views": []
    },
    "22b66179acf548c2b48ac6fbe15a7442": {
     "views": []
    },
    "23a00ac14b5e4d63a94625231761c9dc": {
     "views": []
    },
    "23e81b600965493a9eb0040be5931276": {
     "views": []
    },
    "242980a164864fe3945128ff5d4edf34": {
     "views": []
    },
    "24820afc64584823a5ee4436d7be190f": {
     "views": []
    },
    "2538219a03ff43d5be2aa1e85f009129": {
     "views": []
    },
    "260b0f51313d43b3b6af8007452a41e8": {
     "views": []
    },
    "265ccf039e33459c882b8e2c30f9c9a2": {
     "views": []
    },
    "26b972e5ade14084acc012c5a9c66716": {
     "views": []
    },
    "26eaa17913ac40249620b59a5358f272": {
     "views": []
    },
    "279bb868fa1d4db685eb4270b38423ae": {
     "views": []
    },
    "27b540d8746e415ab8dbc4d57604dbb8": {
     "views": []
    },
    "2848f68b3d864b759d0b9e547af4500f": {
     "views": []
    },
    "28b1e16b10564d7388f16c8d1666ff8e": {
     "views": []
    },
    "28cfca4df7f74834b10dfb2834e196d5": {
     "views": []
    },
    "291d60e900d84874bcfb169a34a462d8": {
     "views": []
    },
    "2aaa04e20ef74f99aa561ea7f410eb66": {
     "views": []
    },
    "2b638f0fc47649b49f4aa503a5b02c66": {
     "views": []
    },
    "2b87b921e951407cad8b0529e7b3f3bd": {
     "views": []
    },
    "2d1d00627636401f9a80b4afb72adbc7": {
     "views": []
    },
    "2d2d926a51594170913b2a63630d4628": {
     "views": []
    },
    "2db5988bce1b41c19241e8a360b5517c": {
     "views": []
    },
    "2e24688c8a86441985393e3e5b148b22": {
     "views": []
    },
    "2f5259a39adb42838189ddb4d087955a": {
     "views": []
    },
    "2f5ecfaa0c264df9be9a5aff55a21043": {
     "views": []
    },
    "2f70b0323285433ba25050e752da8155": {
     "views": []
    },
    "2f7a408351ba44e9af6b4b6765c0239c": {
     "views": []
    },
    "2fb6f07889fd4b73829c33407aad3689": {
     "views": []
    },
    "2fd925bb919c4a9c9db6dc0869474edd": {
     "views": []
    },
    "2fee41641733444485653d5c32f971cd": {
     "views": []
    },
    "30d3ff9b8d1440cb8190cc91f49cbd1a": {
     "views": []
    },
    "30f44713353147349e11d2db55e4a1d4": {
     "views": []
    },
    "3197b4a773634493b56a2ce478c9c0e3": {
     "views": []
    },
    "3237c9136f9b4b8a8958fc561842b247": {
     "views": []
    },
    "3279e80b8b1448a3a4948d78b3f98f3e": {
     "views": []
    },
    "32f07de1ae5e4ce3a13f6da0598127b3": {
     "views": []
    },
    "334de74491cc4d29949a9d8a21b3321e": {
     "views": []
    },
    "33ba4d51708f48649a7db459103954ff": {
     "views": []
    },
    "3498f3807455448bb1c1d1e3f5f21dff": {
     "views": []
    },
    "357873226cbc436ba55ca43c3af94cf4": {
     "views": []
    },
    "3608d4418a94431e9b3b46cfd9b17a10": {
     "views": []
    },
    "37a61c8fb30a44b5877de08162086614": {
     "views": []
    },
    "37d734d677d74c97b31082b2ae9948bd": {
     "views": []
    },
    "37f0eb7859b240d189a9d7355f340715": {
     "views": []
    },
    "385ac80d48c248c9a30c00c57b478d46": {
     "views": []
    },
    "38d30e8ef9e54d29990f78fa903ffe9a": {
     "views": []
    },
    "3958def0af174e5f9fe3624e366e47b8": {
     "views": []
    },
    "39cc5509c24949ca88292cd025ad9f08": {
     "views": []
    },
    "3a13eaf9e98142f791026fabbc1a6f41": {
     "views": []
    },
    "3c3ef79eed774404b692cd039ef94575": {
     "views": []
    },
    "3c5087bca842465b940257e6e99c8766": {
     "views": []
    },
    "3c7e8a1869624596b2ace89eb0335d29": {
     "views": []
    },
    "3c9272c692434a64a613e2b38255caea": {
     "views": []
    },
    "3cb43a88cd514e9fa0968636baa21279": {
     "views": []
    },
    "3e12413b425046c9a79b2a1114c276e4": {
     "views": []
    },
    "3e5c9c9dfca640eca79c9e9bb585a3b1": {
     "views": []
    },
    "3ef7101b12c148cd8d48e092da984205": {
     "views": []
    },
    "3f38c6557f5b4f228b1ca697a1bbcfb8": {
     "views": []
    },
    "3f6435d8ff754eda92c4139fa117effd": {
     "views": []
    },
    "409764a2ec5a45569443c9a2487501de": {
     "views": []
    },
    "40e4a566ac394e1888a0ef1985c3fa01": {
     "views": []
    },
    "41efd6cd08244b759a79d3b0faefd7c4": {
     "views": []
    },
    "4379779e84414eb88daf5e01698d1795": {
     "views": []
    },
    "4427b658289d43b28dec021b49f12b64": {
     "views": []
    },
    "443d4bf05c304490b156ad28ecca92ff": {
     "views": []
    },
    "4476021cdf174a3a80a5899d2ec2e954": {
     "views": []
    },
    "4481b41e430841cfb5c3b8dc5130cd99": {
     "views": []
    },
    "4578a8c985ad44819c99652c854cd3a0": {
     "views": []
    },
    "45c3aa926b1245c28cb377ddccd46df5": {
     "views": []
    },
    "45e7fe41314a4c3db27ca5c1bcdb6548": {
     "views": []
    },
    "46512adc78d849eea424696aad70297b": {
     "views": []
    },
    "4689231b736e4bd6b88895703b2dc3cf": {
     "views": []
    },
    "46fae910d5724d30937e642fdd6d77b1": {
     "views": []
    },
    "4710b618fb7d4d61a7f2a32e3af68396": {
     "views": []
    },
    "4737852193074edeb948388d9179f658": {
     "views": []
    },
    "478b6dbeb3a7411788715ab700a681a2": {
     "views": []
    },
    "490f6f30c29b4fdc8ad6c5e4317017a4": {
     "views": []
    },
    "492dfd7a5d2d4aeab9f7ba745a340b53": {
     "views": []
    },
    "49f084822d05476499b65564cb1455d0": {
     "views": []
    },
    "49f99ce272114b8f834147aad44e0ff1": {
     "views": []
    },
    "4a0b0f65e7d840fe8aaf35b0c4db6454": {
     "views": []
    },
    "4aa192e2a9fd4f69b0e9748d8093f840": {
     "views": []
    },
    "4b05c25569594c6fb1a4d63eabbc3d5d": {
     "views": []
    },
    "4b069b109b0143658aef2a38796f679b": {
     "views": []
    },
    "4bf81fd1763c4314afb4b7ae866384e6": {
     "views": []
    },
    "4c89905e34fe48e08c9b34e252f2b685": {
     "views": []
    },
    "4cd1c6fe2e344396bc1587ddfba7e333": {
     "views": []
    },
    "4e5726a7a5934624847d41b2e3336b92": {
     "views": []
    },
    "4eb00d0442ac42118c3c41f6871d9c63": {
     "views": []
    },
    "4f54f9dc8b5c484cbc2a2123ed1db537": {
     "views": []
    },
    "5000bd77468f4f47ac4004fefae0fa32": {
     "views": []
    },
    "50a6baa9cdda4cc2a7f3110f91911b5e": {
     "views": []
    },
    "5181a485e73e4edc83b9e387daea50be": {
     "views": []
    },
    "519d57d611a24649a802aeb49a8f5aa6": {
     "views": []
    },
    "522167582d694f278f71ef6795d8700f": {
     "views": []
    },
    "522172ee9eb14fdb928623e493d5a0bb": {
     "views": []
    },
    "54493bf0667047dca8fd979ed858c01f": {
     "views": []
    },
    "548a3492dfbc42ada4b38ddbaaee0f18": {
     "views": []
    },
    "54938fe479cb4023a03e9e9b0550fb4a": {
     "views": []
    },
    "556ce06a2f4a42dd8e95f90ebf328b8d": {
     "views": []
    },
    "55b2261eebe14d2d99f0cc843f6ab1a4": {
     "views": []
    },
    "55fd32e6138747a49b42c563256fb65d": {
     "views": []
    },
    "5695b83dd12b446a92407a2d461993b8": {
     "views": []
    },
    "57947cfd06e041e1b210f219715440d0": {
     "views": []
    },
    "579c1821f9bf403a8a6b8ac982486798": {
     "views": []
    },
    "589de5dc81f24a83aa770fd75efa1a0a": {
     "views": []
    },
    "58a0db9b18da4fd09af7ccd0afb596f2": {
     "views": []
    },
    "58aff9c734124ca99269fcee97cde715": {
     "views": []
    },
    "59301d79701f4e7b877429b846a4b537": {
     "views": []
    },
    "594cddbf45974a0fa487285512376a64": {
     "views": []
    },
    "59ac6665f3b14f449d6f3303600145bf": {
     "views": []
    },
    "59e73694380041cd9cadd418f67eca6b": {
     "views": []
    },
    "5b0ef0a738aa47d4a851fd03dccbcb79": {
     "views": []
    },
    "5bfec3baa7c341bb90aefddf4835944d": {
     "views": []
    },
    "5cc950e7d1074fc3840f331912b75dba": {
     "views": []
    },
    "5e43383d651f462d927171eead218cf2": {
     "views": []
    },
    "5ed02a089eb44e1a865e68303fb337dc": {
     "views": []
    },
    "5fb23c0b115c48a1b3d9948d0e2354cc": {
     "views": []
    },
    "6045ce1417104ef89b2a44b8017c0f24": {
     "views": []
    },
    "605017c6dd64410ca4e7bdf4045562ae": {
     "views": []
    },
    "60605c2bcb5346258c13bac6ffa1c8a6": {
     "views": []
    },
    "608a40bc61d741148ab8e9a4e856aea5": {
     "views": []
    },
    "614265a504fe46c4a46e6e8a743eabae": {
     "views": []
    },
    "618ca1898dcc409b9628e6f6e14edbf3": {
     "views": []
    },
    "62b2eb1ffb954beb9add725d0a1cd3b4": {
     "views": []
    },
    "63ddf751808d4b07af6dc14af40ca342": {
     "views": []
    },
    "64fb774296c9490186658cc8cb640dc6": {
     "views": []
    },
    "652c4c5541f94cd88b15220e8adb0c59": {
     "views": []
    },
    "6532867dc64240ab853e5a847dcb5ba2": {
     "views": []
    },
    "6551559bc7204dc88fd60233638ce90c": {
     "views": []
    },
    "657b15eb746349cc90e4ef20cc32b1c2": {
     "views": []
    },
    "66945322aa0a4832b3b4b40231dd6fff": {
     "views": []
    },
    "66a8aa0bdc08484eadd91c854a7a7585": {
     "views": []
    },
    "67f2acb54fa2491498a9234b7b38726b": {
     "views": []
    },
    "687a3db22a094478895d56c66308beb8": {
     "views": []
    },
    "6936df9274ff48bf81f7682254a4e7fc": {
     "views": []
    },
    "6987b0bd45574c50b7c2125299ff4a8e": {
     "views": []
    },
    "6a88e1bf2230447ebb428fcc85255bba": {
     "views": []
    },
    "6b9687e367a04b5caed7f64d7704f2f0": {
     "views": []
    },
    "6c56661405374de8b314885ec1601c15": {
     "views": []
    },
    "6c8825774a714c8fa071b0b61878d5fb": {
     "views": []
    },
    "6c9391ee22484e07b8e231dd0034c73a": {
     "views": []
    },
    "6d247d86d0ed4338a8f42eb0bff2c987": {
     "views": []
    },
    "6d71c13ca21f46a3883fd1e838859c32": {
     "views": []
    },
    "6da16b7f8d2a4facaa1425c1b4caea4f": {
     "views": []
    },
    "6dbf26d41c134251b38c9702010928ca": {
     "views": []
    },
    "6e779e1cf41b4457b5452df3c69c1ee6": {
     "views": []
    },
    "6f1d61f7cf254d3dbc23524ad78672e7": {
     "views": []
    },
    "71a2e4530ccf4e9a8175305120ee98be": {
     "views": []
    },
    "71a99612fdf343e8bdecb11ce8f1a286": {
     "views": []
    },
    "72392ab6f4234290a852a30c39168a5a": {
     "views": []
    },
    "735d231848fe41fc9a7c97bb7df9b24e": {
     "views": []
    },
    "74eefeed26f647aeac273755d3416e0d": {
     "views": []
    },
    "753dfd4ad85341448fb5fa0337075a03": {
     "views": []
    },
    "76e374e277684842902ad46bfcb0d058": {
     "views": []
    },
    "76f8c31050004d9f9e004753dc750820": {
     "views": []
    },
    "77fa5872c7cc4456bae6ce46c7af5281": {
     "views": []
    },
    "7820647b01304c23a04f024ee0562880": {
     "views": []
    },
    "78730735e050449ba787985efb4c8270": {
     "views": []
    },
    "787bfb4f8df24368a4f5a7c3ab46ecc8": {
     "views": []
    },
    "791c7bdf3095490a83c2cdcb022ad827": {
     "views": []
    },
    "7a4e5106d729485fba79ae4cdd976dd1": {
     "views": []
    },
    "7a6d702bbf8d46c4b930d85f9460c998": {
     "views": []
    },
    "7aa365126bdd43b8a5a6f06ca7b39b5c": {
     "views": []
    },
    "7b4f2a7bb33e4d7da57a8962a582d6d6": {
     "views": []
    },
    "7c3ab4ebb05b4095bf65b006e1b8a26d": {
     "views": []
    },
    "7cf884611fa64426b51c2af218b9398b": {
     "views": []
    },
    "7dea3f4419014f83ab009f389ef75af0": {
     "views": []
    },
    "7df1c4379fc7495e9f52fe82bd5f4f15": {
     "views": []
    },
    "7e57a5668fbf49588e4976878b9e9ad9": {
     "views": []
    },
    "7e9d9f9c91b14f58a28b99e89ab658d9": {
     "views": []
    },
    "7eba3a8994384248a368e19100e56510": {
     "views": []
    },
    "7ed5502ffc524abfaba4011bcd7a7309": {
     "views": []
    },
    "7f8f67ad1a0042628a4c61fe4aa7c900": {
     "views": []
    },
    "7fbd77d4de96448fa7f5f70b5052f2dc": {
     "views": []
    },
    "7ff74f0603074497a2f582a5fc398b80": {
     "views": []
    },
    "7ffe7395b19342ffa03dba04d6899f05": {
     "views": []
    },
    "80bcfbb9423145e69e7a5aa624ad0757": {
     "views": []
    },
    "814021ed57d74492964b82ef44db64d7": {
     "views": []
    },
    "81a7958d6f004c64a1f18caf108c58a3": {
     "views": []
    },
    "8254754987c74ca8966ae70d9384a2a3": {
     "views": []
    },
    "82a1a1dc83974ebea832a511b3f7c78e": {
     "views": []
    },
    "82cd166161a54dccad9095e3c8f231b2": {
     "views": []
    },
    "8412ae92adad44de877b68e7b91c8b8c": {
     "views": []
    },
    "84141a00ed7c42cd91e82e578eac75ae": {
     "views": []
    },
    "850d150c915941f5bb0c31f03e361f54": {
     "views": []
    },
    "85324fc787434d56a9a30186f70b65c1": {
     "views": []
    },
    "8563683e26134d27be33467796513ffb": {
     "views": []
    },
    "85e6602af9494eb787cd483d071f9c96": {
     "views": []
    },
    "8641c5c9b802436a84555b5fcab1fbb3": {
     "views": []
    },
    "865319ec81a54674acac2a5a9d5f2383": {
     "views": []
    },
    "867e26663d30410e9875d60bd6bd914a": {
     "views": []
    },
    "87b39978fdd64ec79b038321bf2b72ac": {
     "views": []
    },
    "88203f57165d416db6a3974ef8d3c196": {
     "views": []
    },
    "886b9ef0deb44601a8f279ee1c8d3f6f": {
     "views": []
    },
    "89a66b2fb1cb49719c52f666dac563a1": {
     "views": []
    },
    "8a22505b95b0491e8550c4571d744ff6": {
     "views": []
    },
    "8ad3957ba5c54f9184a2e62fc186bbd6": {
     "views": []
    },
    "8b54849ef4c8417cb732e1c2703966ab": {
     "views": []
    },
    "8c927d1916c545f99c23d5a0a6f3aebd": {
     "views": []
    },
    "8ced357e22284dc18e89845ad90319f5": {
     "views": []
    },
    "8f8d5ad04c0247099b42d1c82d7b755d": {
     "views": []
    },
    "8fb992f75e4a4d37a4c2dd7775828724": {
     "views": []
    },
    "8ffe876e89f343f391d0784e561050b2": {
     "views": []
    },
    "90394927b6c44bd782448af657e38f7a": {
     "views": []
    },
    "905fa03c8b5d4a758d051580fc1ee49d": {
     "views": []
    },
    "9089765e78aa437c934949c7cd470a28": {
     "views": []
    },
    "912c77d45d204e18a4c069f2f8174a43": {
     "views": []
    },
    "9274934a95774808a95aacfea711e594": {
     "views": []
    },
    "9321d304d7a94a7a98ae93219cd22a33": {
     "views": []
    },
    "932f274a21574b578711f0975ceb1534": {
     "views": []
    },
    "93b0d542a0be4951893128df748c2c4b": {
     "views": []
    },
    "9400e185e6fe4296b619058a505b1866": {
     "views": []
    },
    "9409600039b446f29645b54afa6becde": {
     "views": []
    },
    "94532bef48a640ddba510fb43ac49a04": {
     "views": []
    },
    "96ac86cc600e4dc588d741c534181969": {
     "views": []
    },
    "96b374f913184c91b9a0ef2fc811c639": {
     "views": []
    },
    "96d60e846fef42268895badac91113a2": {
     "views": []
    },
    "97960f0a84dd44e6bbe1bf2a6de68eab": {
     "views": []
    },
    "98f70415c0ec40d4813781af1baf939e": {
     "views": []
    },
    "99e2c391ccfe4cc088239ba87e3574dd": {
     "views": []
    },
    "99edd9f027ec4f71a393f41560ad9fbc": {
     "views": []
    },
    "9aa1f2de292945f5b10d9cb633380384": {
     "views": []
    },
    "9b36b59b38f648a282266f45f95eed98": {
     "views": []
    },
    "9bafb3f707a3449e8fef37a71660dc49": {
     "views": []
    },
    "9c6f72e1521e4a1ca4eacc595c5980d7": {
     "views": []
    },
    "9c82503585604cc5831bf3ae738b91eb": {
     "views": []
    },
    "9cd8c410a1e74722a507937c5fec8e72": {
     "views": []
    },
    "9dff93a476cf492d87140eaa326018fe": {
     "views": []
    },
    "9f2dfaee8e594040a8308ead980c7c0c": {
     "views": []
    },
    "9f30aa9f0377469b833fe53a1c98c8c1": {
     "views": []
    },
    "a0995a66511240878f6659a965cf0b2f": {
     "views": []
    },
    "a1d648dec449446a8aa6087041f3c611": {
     "views": []
    },
    "a1ed3a1f0c1a4e4499f374c42b74c0d7": {
     "views": []
    },
    "a2734356b1434a2a94546308198f23a0": {
     "views": []
    },
    "a2e4e20e8a7142609762b799972391ae": {
     "views": []
    },
    "a2ff77c3f42f489393c2fd60c68ad914": {
     "views": []
    },
    "a47e2a3e04ee4d7fab655b2bbd672ae9": {
     "views": []
    },
    "a494e4e9cd2e4e8c81a7dd63f3af6f9a": {
     "views": []
    },
    "a4b5a4effb2a43f9892ac15a534a3252": {
     "views": []
    },
    "a4cc9dce7b864225a9c0f4a9c832c35e": {
     "views": []
    },
    "a537953f6258404295d666b18eb151d8": {
     "views": []
    },
    "a56021c33646473eb8bcec2643b6dc34": {
     "views": []
    },
    "a5914a2844e249db842ac0b1b885b6ce": {
     "views": []
    },
    "a61cb188a9a94a5c8d5bdf703593a0e6": {
     "views": []
    },
    "a6b00dcc3fe54ca7ab8cd3f27f1509a5": {
     "views": []
    },
    "a6f9bfdbde544d9d908a4157df3fe4df": {
     "views": []
    },
    "a71b6bae9ea4446a8c829a4e42807419": {
     "views": []
    },
    "a779533d0ddb4249a43750958ba09886": {
     "views": []
    },
    "a7e5a2336aac4ecc9e2589af5b5d9d85": {
     "views": []
    },
    "a8b25abfa1304d1c8beeddb86dc7fb10": {
     "views": []
    },
    "a8be34671549494d812b8a5918b7c55e": {
     "views": []
    },
    "a906c093de8f4b1284b280213b4d9350": {
     "views": []
    },
    "a92047172990466aa66ff1ccaf46a10c": {
     "views": []
    },
    "a9dac0c6769540f099aa5fdc576b0f65": {
     "views": []
    },
    "aa2631bc807c427892adb1b7c647d48b": {
     "views": []
    },
    "aa892f87afa545f1aa750fdb198c61ad": {
     "views": []
    },
    "aaf24cb72c754ad694ba72a0ca09c742": {
     "views": []
    },
    "ab224ba1de2b43c18bd179ff4057d50f": {
     "views": []
    },
    "ab477b1c3bf443e8b7d8364f6ec2075b": {
     "views": []
    },
    "abf2c7108bed47aa9f050be37cba12ea": {
     "views": []
    },
    "ac38f09683294ba8b69b149ad1dcc0ca": {
     "views": []
    },
    "ac40576c32d04bc99c7024b188f6e106": {
     "views": []
    },
    "acb17da1cfb74e029b55380fbd756ee6": {
     "views": []
    },
    "ade3486b46be48dfabbc1e39d2e6a16f": {
     "views": []
    },
    "ae3aa2c431c543e194b3801e64195e63": {
     "views": []
    },
    "ae94c8c8109947f19f9621ec1554a482": {
     "views": []
    },
    "af50ef916624467c8e8b729ce2304a07": {
     "views": []
    },
    "af6ee4212e5c413aa3505f7862d6fa2d": {
     "views": []
    },
    "afa44e90429f4f6bb1f954b1608a4e6b": {
     "views": []
    },
    "afb72edb5d6a4cd382fc416c34b039a5": {
     "views": []
    },
    "b0258970d5ba490a9b7aa9db90868eba": {
     "views": []
    },
    "b049902079a24dd48862c5e31d792911": {
     "views": []
    },
    "b0c74f8a80834df897cbd01eae9bc035": {
     "views": []
    },
    "b0cb4e19a69c4b12a8aad8cad10bfe71": {
     "views": []
    },
    "b132cca9292e42c3ba0d38aed61232fc": {
     "views": []
    },
    "b23262c8189c4b5c839d45313786face": {
     "views": []
    },
    "b2a7a7a122b34dd0ad0e44b20a28af65": {
     "views": []
    },
    "b2c83d01d501430bb74c9f779da4b0b8": {
     "views": []
    },
    "b2e0a268ffd848549716d40c31c0b13c": {
     "views": []
    },
    "b3d50438e50f42b5aa21942046f2c5df": {
     "views": []
    },
    "b3dfe9b6c1b548a18c1593c30f28bef0": {
     "views": []
    },
    "b4c3130821fe484a823840f6344cbb7c": {
     "views": []
    },
    "b56becf487224935909f7c1ac4fb41e9": {
     "views": []
    },
    "b5735af9b92d433fbee098994cf20ad4": {
     "views": []
    },
    "b578d6b10bf14c31a701e479f840de04": {
     "views": []
    },
    "b6756958d4344f408f0136c60d26332f": {
     "views": []
    },
    "b6d2a52b64994be4915734afcb507e12": {
     "views": []
    },
    "b82c8b9e6f3242fda6ad58e581c76a63": {
     "views": []
    },
    "b8635efad4f240ef897df2d4a67835d7": {
     "views": []
    },
    "b9e10ca5518e4cffbd0ce4a527739da5": {
     "views": []
    },
    "b9efc5a282664971b8e04f74dd4ecc17": {
     "views": []
    },
    "bad81cc1aa6244338632a7f818a92359": {
     "views": []
    },
    "bb6edbbfa2f84a0b87c65fb89d6ab1b0": {
     "views": []
    },
    "bc9d78e59ae14bb3a36ad527d7cdb7b6": {
     "views": []
    },
    "bded20828cee4464945bfd76e450c9ab": {
     "views": []
    },
    "be5dbf2787ee4192b1f018eb8b87dd4a": {
     "views": []
    },
    "be9179afaf52409b9ad7fa5702156b04": {
     "views": []
    },
    "bf4332d930744b44bcc4b3959d8ced75": {
     "views": []
    },
    "bfb397ad465a4919bfdf5a1944a55599": {
     "views": []
    },
    "c0ee2527cc74475e93171d3b0e6563f3": {
     "views": []
    },
    "c128bf9c22884b7a926d496ec71b0af0": {
     "views": []
    },
    "c17aed312a41459baf6886454c40f77d": {
     "views": []
    },
    "c17f5f473bb64aaebae4214817b11f9b": {
     "views": []
    },
    "c1db178dc2af46f09ae2043aca9e493b": {
     "views": []
    },
    "c1f6f79ec6474c00a3e766288fc3183f": {
     "views": []
    },
    "c21f901328a74c9ea96f1d6f95f574c0": {
     "views": []
    },
    "c2cdf7d23f9c46eba38ce6777f3cc296": {
     "views": []
    },
    "c425b665b9cd4a308c8bdc89b235b5a2": {
     "views": []
    },
    "c474610d9ec34b8591822e8337cc451b": {
     "views": []
    },
    "c589cfe16dd84943b18c384dae2d6aa6": {
     "views": []
    },
    "c664d045512a43939dcb93f049557f92": {
     "views": []
    },
    "c69fc244641849cea82b1a4fc9d606b2": {
     "views": []
    },
    "c720f1ba8e464b4aa9b17ad30906006f": {
     "views": []
    },
    "c828e8fe1710497ebedc662d87476072": {
     "views": []
    },
    "c921bd53995840969ebbebfb8664eafd": {
     "views": []
    },
    "c98c032d931446d5b249437067f28ed3": {
     "views": []
    },
    "c994652fd31c4f3a99dc09cc7af22180": {
     "views": []
    },
    "ca196f5556b34cdf8a8f9bfd0f53aeb8": {
     "views": []
    },
    "ca3ce4457ec345fb99d3da83d44f4fe7": {
     "views": []
    },
    "ca401a69a48b426a8d1f5086f9c4da0b": {
     "views": []
    },
    "ca967d65bd4a485286b5eae302a2f7f8": {
     "views": []
    },
    "caae7e5e2f7d43348c5dcbd095e93c1d": {
     "views": []
    },
    "cbb99b31da3b4387ad2d5fbabc4b1f4c": {
     "views": []
    },
    "cce755a88e1b4ed5aa758592a98c29d6": {
     "views": []
    },
    "cd46e66da23b4b719790f7dbe4ac7388": {
     "views": []
    },
    "cd4c3839f797448b83412e2754765874": {
     "views": []
    },
    "cd584e94af7e4c20a9416ad6d4a39f63": {
     "views": []
    },
    "ce17784f507441649554ade210513015": {
     "views": []
    },
    "ceb4c609ffbf4b689c34254bbe6d0f26": {
     "views": []
    },
    "cef7b72a5f6344fc9d0245af358ccb0a": {
     "views": []
    },
    "cf4dbfb9c784446990df474eec6d511e": {
     "views": []
    },
    "cfa046a6632b4542809b7c9a6e59db1f": {
     "views": [
      {
       "cell": {
        "cell_type": "code",
        "execution_count": 43,
        "metadata": {
         "collapsed": false,
         "run_control": {
          "read_only": false
         },
         "trusted": true
        },
        "outputs": [
         {
          "data": {
           "image/png": "iVBORw0KGgoAAAANSUhEUgAABH4AAAEQCAYAAADGc7OUAAAABHNCSVQICAgIfAhkiAAAAAlwSFlz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\nAAAAYEUp/AAAAACsqP8NxAkFKUDYkWIAAAAASUVORK5CYII=\n",
           "text/plain": "<matplotlib.figure.Figure at 0x7fc181fcec88>"
          },
          "metadata": {},
          "output_type": "display_data"
         }
        ],
        "source": "interact(s1, sg=('delta', 'step', 'ramp', 'unit ramp'),\n         fd=('just delay', 'flip then delay', 'delay then flip'),\n         delay=(-15, 15, 0.25));"
       },
       "cell_index": 3,
       "root": true
      }
     ]
    },
    "cfc27a8f15f741dab441fe0f013d1b8a": {
     "views": []
    },
    "cfd8c6fb541f4fdaa8ac382acf6acd14": {
     "views": []
    },
    "d22a874e96f84d08992f49aa212edf4b": {
     "views": []
    },
    "d2a740d0bd0949fa84075e258aecb0a2": {
     "views": []
    },
    "d30b06a8c53547af8ba8fbec0eb045a3": {
     "views": []
    },
    "d3df3dbc27ec408383e392e1e6ead8f6": {
     "views": []
    },
    "d4315836d66140e19406673f4d57522d": {
     "views": []
    },
    "d4779bc7869c4aa39519d28552082740": {
     "views": []
    },
    "d51f34ac68a94ae3aaacda1726bbfa4c": {
     "views": []
    },
    "d5534a9db9164c3da6e4b3d3b03bf113": {
     "views": []
    },
    "d5a150409d194284b499a9b111639bdc": {
     "views": []
    },
    "d688abaa34ca4104a39f3ed73d16d5cc": {
     "views": []
    },
    "d6df6881781d496da634f3671ea844e8": {
     "views": []
    },
    "d6e0009dbc234c3193898148f084a29d": {
     "views": []
    },
    "d6f2e9e5ca494c308c97182b7119f2a2": {
     "views": []
    },
    "d7979f89b13a48a58b046e863dbecfda": {
     "views": []
    },
    "d8f7d3dcfe2749db81e9f34ef6d170e5": {
     "views": []
    },
    "d933f92b358749f297177b8a361581ad": {
     "views": []
    },
    "d9592472065a4e66a4a5952e232a101e": {
     "views": []
    },
    "da192af8965c43cc8ee26ed17ec26703": {
     "views": []
    },
    "da3d1b4daf174e119e52d0367808df01": {
     "views": []
    },
    "da8e358c06714fe88419de7442eb1fd6": {
     "views": []
    },
    "dbe1f87dbe8848d3bd2d3a8a7b8f2a9d": {
     "views": []
    },
    "dce17032d469493c9f525dedc1469f03": {
     "views": []
    },
    "dd58852df09345a2aa23341130249d61": {
     "views": []
    },
    "de23cff58e814b37b372913ab76df491": {
     "views": []
    },
    "de55b0ef66fc449d855afad1d80b9693": {
     "views": []
    },
    "df8d70fe65e24e2f828298c54956c89e": {
     "views": []
    },
    "dfe79cb4e24a405b852a03582aa64da8": {
     "views": []
    },
    "dffc7a820db64008a8447016a6a1eb23": {
     "views": []
    },
    "e04af4b2962547a1975b82dce25bbdfe": {
     "views": []
    },
    "e0726856f67244e993f362cfe1eab8a5": {
     "views": []
    },
    "e0d522797fbe426b8c19fd2e507be57a": {
     "views": []
    },
    "e15856efad0a4e9d9bf9ec1205960d2f": {
     "views": []
    },
    "e168906f5ad6425abad580b4f10e7256": {
     "views": []
    },
    "e25cbfa64b98424f825127b5ce409206": {
     "views": []
    },
    "e2a44fe855a74f71ab26088dea413e63": {
     "views": []
    },
    "e31e0c42c8354a7198a995851de1427e": {
     "views": []
    },
    "e3ad77a2bc3746b5a552eb08be1b77d4": {
     "views": []
    },
    "e3f8999cb9bd45509f6ed185af871549": {
     "views": []
    },
    "e4113f4d4c764037ba3b075b83508c3c": {
     "views": []
    },
    "e627e341b0c745d195f504e2f11e0c05": {
     "views": []
    },
    "e65bb8c1353d46f29b30e35178bc7ca5": {
     "views": []
    },
    "e775eda09331438cae65bf40d8f499a0": {
     "views": []
    },
    "e7b5e9a43a7e470a8e9e9585ec3fd514": {
     "views": []
    },
    "e83790dee1e5422195b57417fc1d56b8": {
     "views": []
    },
    "e83e835bdf1d4e4da18ce5c993ff3f0c": {
     "views": []
    },
    "e89167eb995644dca6fc8fef688b67ab": {
     "views": []
    },
    "e8d70e6e5d7f4b9790f58fb94c61156f": {
     "views": []
    },
    "e9771c810cda48a38b6dd9819a285469": {
     "views": []
    },
    "ea617ae1ef804b9ca34ddd49dd4d4fc7": {
     "views": []
    },
    "ea62a13ddffa46a9b07e3f3db325b3e7": {
     "views": []
    },
    "eaa9a32918ea4993b0d0d56d55bd0413": {
     "views": []
    },
    "eaef10b5426246cdacc846ca213c7d4a": {
     "views": []
    },
    "eb077d707cce4b04bc6f54166a00e3c8": {
     "views": []
    },
    "eb642e94e6204a3da0e96c3ccaaffb3f": {
     "views": []
    },
    "ebd7473e50644ad8b12ac94b66a68b6a": {
     "views": []
    },
    "ec815b857e94429b83b075da35a9e16c": {
     "views": []
    },
    "edb6d0d6005147c399f2fced27a99371": {
     "views": []
    },
    "ee60d65f888e416b9916c12b62f1141f": {
     "views": []
    },
    "ee6c1c412af84476b5b28d84442bfc82": {
     "views": []
    },
    "ef8ecc2ac1f24b79856c800d2af06135": {
     "views": []
    },
    "f0528d9fcee6456291d5fffd91b77912": {
     "views": []
    },
    "f093335769bc4581a3fa3c97401dc530": {
     "views": []
    },
    "f0a8b3dfddb048c79de51f872eb9b643": {
     "views": []
    },
    "f1e3d3f57fa54ee69fce61a4cba817a3": {
     "views": []
    },
    "f1ee884409444cd9b174b13a7f3d02d8": {
     "views": []
    },
    "f3023428c93e4d4a8eb4accf5c6e1170": {
     "views": []
    },
    "f33e2ae4e1074430aa626d3143fca41e": {
     "views": []
    },
    "f37d8dc8926e4251b4aa789d2553eee0": {
     "views": []
    },
    "f42f11f0c9424a938adc2c532a0e6dd1": {
     "views": []
    },
    "f76524e04024457e810c3321f7a8377a": {
     "views": []
    },
    "f7b450521f9d4998b0bb41c4bc321b9c": {
     "views": []
    },
    "f7b6d7bfc5ad4d288847166d2b9ed657": {
     "views": []
    },
    "f80d53401feb4034b5f61926c187ad65": {
     "views": []
    },
    "f8413a5672bf4feab1a4c9601e90d68b": {
     "views": []
    },
    "f8490b19c36d47f7a3db5deb8b10483c": {
     "views": []
    },
    "f89e30dd87fe49f48fb180ff41cd8f86": {
     "views": []
    },
    "f8b57e4a2a564c4e85d0e4cd876ea8ac": {
     "views": []
    },
    "f8bb5ec3a14645a295abc95e35e8718f": {
     "views": []
    },
    "f900f2fedbf8460c9dd9407efa26b588": {
     "views": []
    },
    "f99a2bb47308423e8580891a0c0c6f8e": {
     "views": []
    },
    "f9c9c53e99c947848123c499a46d8cc9": {
     "views": []
    },
    "faa8cbe15ee442918456ebae2d303d02": {
     "views": []
    },
    "fab36fca43b348f9bd8fe16b21656728": {
     "views": []
    },
    "fb48eb4b90f14c0eab18ae0f5dffa6cc": {
     "views": []
    },
    "fbc6a4ae04c44664a02dd63b735c7b56": {
     "views": []
    },
    "fbfc4302754c45529f053c1acd16eca1": {
     "views": []
    },
    "fd1d9c32bc5f4b45a75bad51fea7017e": {
     "views": []
    },
    "fde181cbb9054d2ebca22a7d83ca051e": {
     "views": []
    },
    "fdf6962a2721472db92551d259b34f8f": {
     "views": []
    },
    "ff0f07c01a6b42d98bc819d94dccee0c": {
     "views": []
    },
    "ff2c05faadb54b3f92efbcca022aa6b4": {
     "views": []
    }
   },
   "version": "1.1.0"
  }
 },
 "nbformat": 4,
 "nbformat_minor": 0
}
