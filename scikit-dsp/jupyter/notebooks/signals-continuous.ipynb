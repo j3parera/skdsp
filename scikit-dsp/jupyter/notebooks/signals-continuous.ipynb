{
 "cells": [
  {
   "cell_type": "code",
   "execution_count": 1,
   "metadata": {
    "collapsed": false,
    "run_control": {
     "read_only": false
    }
   },
   "outputs": [],
   "source": [
    "import matplotlib.pyplot as plt\n",
    "%matplotlib inline\n",
    "import skdsp.signal.continuous as cs\n",
    "import skdsp.signal.printer as pt\n",
    "import numpy as np\n",
    "import sympy as sp\n",
    "import scipy.signal as cp\n",
    "from ipywidgets import interact, fixed\n",
    "np.seterr(all='ignore')\n",
    "PI = sp.S.Pi\n",
    "pi = np.pi"
   ]
  },
  {
   "cell_type": "markdown",
   "metadata": {},
   "source": [
    "## 1.- Básicas"
   ]
  },
  {
   "cell_type": "code",
   "execution_count": 4,
   "metadata": {
    "code_folding": [],
    "collapsed": false,
    "run_control": {
     "read_only": false
    }
   },
   "outputs": [],
   "source": [
    "def s1(sg='delta', fd='just delay', width=16, delay=0):\n",
    "    npts = 16\n",
    "    ex = []\n",
    "    ey = []\n",
    "    if sg == 'delta':\n",
    "        s = cs.Delta()\n",
    "        ex = [0, 0, -0.25, 0, 0.25, 0]\n",
    "        ey = [0, 1,  0.95, 1, 0.95, 1]\n",
    "        max_ = 1\n",
    "        min_ = 0\n",
    "    elif sg == 'step':\n",
    "        s = cs.Step()\n",
    "        ex = [0, 0]\n",
    "        ey = [0, 1]\n",
    "        max_ = 1\n",
    "        min_ = 0\n",
    "    elif sg == 'ramp':\n",
    "        s = cs.Ramp()\n",
    "        max_ = npts\n",
    "        min_ = 0\n",
    "    elif sg == 'rect':\n",
    "        s = cs.Rect(width)\n",
    "        max_ = 1\n",
    "        min_ = 0\n",
    "    elif sg == 'triang':\n",
    "        s = cs.Triang(width)\n",
    "        max_ = 1\n",
    "        min_ = 0\n",
    "    elif sg == 'sin':\n",
    "        s = cs.Sine(width)\n",
    "        max_ = 1\n",
    "        min_ = -1\n",
    "    elif sg == 'cos':\n",
    "        s = cs.Cosine(width)\n",
    "        max_ = 1\n",
    "        min_ = -1\n",
    "    ex = np.array(ex)    \n",
    "    if fd == 'flip then delay':\n",
    "        s = s.flip().delay(delay)\n",
    "        ex = ex + delay\n",
    "    elif fd == 'delay then flip':\n",
    "        s = s.delay(delay).flip()\n",
    "        ex = ex - delay\n",
    "    elif fd == 'just delay':\n",
    "        s = s.delay(delay)\n",
    "        ex = ex + delay\n",
    "    ns = np.arange(-npts, npts+1, 2**(-3))\n",
    "    ys = s[ns]\n",
    "    plt.figure(figsize=(20, 4))\n",
    "    plt.plot(ns, ys, 'b-', lw=3)\n",
    "    plt.plot(ex, ey, 'b-', lw=3)\n",
    "    plt.xlim([-npts, npts])\n",
    "    range_ = (max_ - min_)*0.1\n",
    "    plt.ylim([min_-range_, max_+range_])\n",
    "    plt.axvline(0, color='k')\n",
    "    plt.axhline(0, color='k')\n",
    "    plt.title(pt.latex(s, mode='inline'), size=24)\n",
    "    plt.grid(True)"
   ]
  },
  {
   "cell_type": "code",
   "execution_count": 5,
   "metadata": {
    "collapsed": false,
    "run_control": {
     "read_only": false
    }
   },
   "outputs": [
    {
     "data": {
      "image/png": "[encoded data removed]",
      "text/plain": [
       "<matplotlib.figure.Figure at 0x7f21b3f95a58>"
      ]
     },
     "metadata": {},
     "output_type": "display_data"
    }
   ],
   "source": [
    "interact(s1, sg=('delta', 'step', 'ramp', 'rect', 'triang', 'sin', 'cos'),\n",
    "         fd=('just delay', 'flip then delay', 'delay then flip'),\n",
    "         width=(1, 30, 0.25), delay=(-15, 15, 0.25));"
   ]
  },
  {
   "cell_type": "code",
   "execution_count": null,
   "metadata": {
    "collapsed": true,
    "run_control": {
     "read_only": false
    }
   },
   "outputs": [],
   "source": []
  },
  {
   "cell_type": "code",
   "execution_count": null,
   "metadata": {
    "collapsed": true,
    "run_control": {
     "read_only": false
    }
   },
   "outputs": [],
   "source": []
  }
 ],
 "metadata": {
  "kernelspec": {
   "display_name": "Python 3",
   "language": "python",
   "name": "python3"
  },
  "language_info": {
   "codemirror_mode": {
    "name": "ipython",
    "version": 3
   },
   "file_extension": ".py",
   "mimetype": "text/x-python",
   "name": "python",
   "nbconvert_exporter": "python",
   "pygments_lexer": "ipython3",
   "version": "3.4.3+"
  },
  "widgets": {
   "state": {
    "008b0c12743e41e3a082c21afeeabad9": {
     "views": []
    },
    "0a7c6d84923e4a39990d9f8eb7850b66": {
     "views": []
    },
    "0e680057bd0949d290ae76f38691909b": {
     "views": []
    },
    "0eb3f282524c4c83a0a652cdc7109ab4": {
     "views": []
    },
    "159ae5685e9b4fba8f1114421e46a465": {
     "views": []
    },
    "16d0507ba30c48218c5a22a5d081d32e": {
     "views": []
    },
    "29874e80915d496abb1ea17006829e51": {
     "views": []
    },
    "33d83519be18423f9cab0564dc14ec52": {
     "views": []
    },
    "38fec6412a4145ea8f058281d6c0619e": {
     "views": []
    },
    "43e81d0ea1734792a5b1ccc35af188ef": {
     "views": []
    },
    "5e98cf0890f94b23a67be41637188edc": {
     "views": []
    },
    "5fb4b87ad791471bb28add8eebf07d5f": {
     "views": []
    },
    "873a51b8e6fc45bf8ac0ea3e6f6e2f3b": {
     "views": []
    },
    "9a6cf38b69784dcc8670f0c203980e71": {
     "views": []
    },
    "a352470ae7cc4e32b01b60961ad5057a": {
     "views": []
    },
    "bb7d7c13ec574903972ea29ffdc78046": {
     "views": []
    },
    "e04e5fe60c9e4fe38a38b0ad7b573d7d": {
     "views": []
    },
    "eac432c0cfb14bff9ae712f97521a7ad": {
     "views": []
    },
    "f4545827a8fb48b1bd51ac04d8617e73": {
     "views": [
      {
       "cell": {
        "cell_type": "code",
        "execution_count": 5,
        "metadata": {
         "collapsed": false,
         "run_control": {
          "read_only": false
         },
         "trusted": true
        },
        "outputs": [
         {
          "data": {
           "image/png": "iVBORw0KGgoAAAANSUhEUgAABHsAAAETCAYAAACmzgp+AAAABHNCSVQICAgIfAhkiAAAAAlwSFlz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\n",
           "text/plain": "<matplotlib.figure.Figure at 0x7f21b3f95a58>"
          },
          "metadata": {},
          "output_type": "display_data"
         }
        ],
        "source": "interact(s1, sg=('delta', 'step', 'ramp', 'rect', 'triang', 'sin', 'cos'),\n         fd=('just delay', 'flip then delay', 'delay then flip'),\n         width=(1, 30, 0.25), delay=(-15, 15, 0.25));"
       },
       "cell_index": 3,
       "root": true
      }
     ]
    },
    "f8bf93c9a4c04dbeae3c2dbfeee0db6d": {
     "views": []
    }
   },
   "version": "1.1.0"
  }
 },
 "nbformat": 4,
 "nbformat_minor": 0
}
