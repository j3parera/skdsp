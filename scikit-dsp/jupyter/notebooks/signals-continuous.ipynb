{
 "cells": [
  {
   "cell_type": "code",
   "execution_count": 1,
   "metadata": {
    "collapsed": false,
    "run_control": {
     "read_only": false
    }
   },
   "outputs": [],
   "source": [
    "import matplotlib.pyplot as plt\n",
    "%matplotlib inline\n",
    "import skdsp.signal.continuous as cs\n",
    "import skdsp.signal.printer as pt\n",
    "import numpy as np\n",
    "import sympy as sp\n",
    "import scipy.signal as cp\n",
    "from ipywidgets import interact, fixed\n",
    "np.seterr(all='ignore')\n",
    "PI = sp.S.Pi\n",
    "pi = np.pi"
   ]
  },
  {
   "cell_type": "markdown",
   "metadata": {},
   "source": [
    "## 1.- Básicas"
   ]
  },
  {
   "cell_type": "code",
   "execution_count": 2,
   "metadata": {
    "code_folding": [],
    "collapsed": false,
    "run_control": {
     "read_only": false
    }
   },
   "outputs": [],
   "source": [
    "def s1(sg='delta', fd='just delay', width=16, delay=0):\n",
    "    npts = 16\n",
    "    ex = []\n",
    "    ey = []\n",
    "    if sg == 'delta':\n",
    "        s = cs.Delta()\n",
    "        ex = [0, 0, -0.25, 0, 0.25, 0]\n",
    "        ey = [0, 1,  0.95, 1, 0.95, 1]\n",
    "        max_ = 1\n",
    "        min_ = 0\n",
    "    elif sg == 'step':\n",
    "        s = cs.Step()\n",
    "        ex = [0, 0]\n",
    "        ey = [0, 1]\n",
    "        max_ = 1\n",
    "        min_ = 0\n",
    "    elif sg == 'ramp':\n",
    "        s = cs.Ramp()\n",
    "        max_ = npts\n",
    "        min_ = -npts\n",
    "    elif sg == 'unit ramp':\n",
    "        s = cs.Ramp() * cs.Step()\n",
    "        max_ = npts\n",
    "        min_ = 0\n",
    "    elif sg == 'rect':\n",
    "        s = cs.Rect(width)\n",
    "        max_ = 1\n",
    "        min_ = 0\n",
    "    elif sg == 'triang':\n",
    "        s = cs.Triang(width)\n",
    "        max_ = 1\n",
    "        min_ = 0\n",
    "    elif sg == 'sin':\n",
    "        s = cs.Sine(width)\n",
    "        max_ = 1\n",
    "        min_ = -1\n",
    "    elif sg == 'cos':\n",
    "        s = cs.Cosine(width)\n",
    "        max_ = 1\n",
    "        min_ = -1\n",
    "    ex = np.array(ex)    \n",
    "    if fd == 'flip then delay':\n",
    "        s = s.flip().delay(delay)\n",
    "        ex = ex + delay\n",
    "    elif fd == 'delay then flip':\n",
    "        s = s.delay(delay).flip()\n",
    "        ex = ex - delay\n",
    "    elif fd == 'just delay':\n",
    "        s = s.delay(delay)\n",
    "        ex = ex + delay\n",
    "    ns = np.arange(-npts, npts+1, 2**(-5))\n",
    "    ys = s[ns]\n",
    "    plt.figure(figsize=(20, 4))\n",
    "    plt.plot(ns, ys, 'b-', lw=3)\n",
    "    plt.plot(ex, ey, 'b-', lw=3)\n",
    "    plt.xlim([-npts, npts])\n",
    "    range_ = (max_ - min_)*0.1\n",
    "    plt.ylim([min_-range_, max_+range_])\n",
    "    plt.axvline(0, color='k')\n",
    "    plt.axhline(0, color='k')\n",
    "    plt.title(pt.latex(s, mode='inline'), size=24)\n",
    "    plt.grid(True)"
   ]
  },
  {
   "cell_type": "code",
   "execution_count": 3,
   "metadata": {
    "collapsed": false,
    "run_control": {
     "read_only": false
    }
   },
   "outputs": [
    {
     "data": {
      "image/png": "[encoded data removed]",
      "text/plain": [
       "<matplotlib.figure.Figure at 0x7f0bd177e0f0>"
      ]
     },
     "metadata": {},
     "output_type": "display_data"
    }
   ],
   "source": [
    "interact(s1, sg=('delta', 'step', 'ramp', 'unit ramp', 'rect', 'triang', 'sin', 'cos'),\n",
    "         fd=('just delay', 'flip then delay', 'delay then flip'),\n",
    "         width=(1, 30, 0.25), delay=(-15, 15, 0.25));"
   ]
  },
  {
   "cell_type": "code",
   "execution_count": null,
   "metadata": {
    "collapsed": true,
    "run_control": {
     "read_only": false
    }
   },
   "outputs": [],
   "source": []
  },
  {
   "cell_type": "code",
   "execution_count": null,
   "metadata": {
    "collapsed": true,
    "run_control": {
     "read_only": false
    }
   },
   "outputs": [],
   "source": []
  }
 ],
 "metadata": {
  "kernelspec": {
   "display_name": "Python 3",
   "language": "python",
   "name": "python3"
  },
  "language_info": {
   "codemirror_mode": {
    "name": "ipython",
    "version": 3
   },
   "file_extension": ".py",
   "mimetype": "text/x-python",
   "name": "python",
   "nbconvert_exporter": "python",
   "pygments_lexer": "ipython3",
   "version": "3.4.3+"
  },
  "widgets": {
   "state": {
    "033f3609639a4ed181f0d513766f01ed": {
     "views": []
    },
    "0b2d35e6a8924c71be5376f54a9f6e8b": {
     "views": []
    },
    "1cb10447457d4c9796fb91e44b82bc89": {
     "views": [
      {
       "cell": {
        "cell_type": "code",
        "execution_count": 3,
        "metadata": {
         "collapsed": false,
         "run_control": {
          "read_only": false
         },
         "trusted": true
        },
        "outputs": [
         {
          "data": {
           "image/png": "iVBORw0KGgoAAAANSUhEUgAABHsAAAETCAYAAACmzgp+AAAABHNCSVQICAgIfAhkiAAAAAlwSFlz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\nAAAAgCWi2QMAAACwRDR7AAAAAJbI/wfJGzwqtixyigAAAABJRU5ErkJggg==\n",
           "text/plain": "<matplotlib.figure.Figure at 0x7f0bd177e0f0>"
          },
          "metadata": {},
          "output_type": "display_data"
         }
        ],
        "source": "interact(s1, sg=('delta', 'step', 'ramp', 'unit ramp', 'rect', 'triang', 'sin', 'cos'),\n         fd=('just delay', 'flip then delay', 'delay then flip'),\n         width=(1, 30, 0.25), delay=(-15, 15, 0.25));"
       },
       "cell_index": 3,
       "root": true
      }
     ]
    },
    "3ee07254f78a42eab6c6dd4974873466": {
     "views": []
    },
    "5269fc6471374dda9cbcc7a8eb92a66a": {
     "views": []
    },
    "5907e5787b254123a3b6814345e5fb6b": {
     "views": []
    },
    "5bf1c0391f6745d58731bba808eaef2f": {
     "views": []
    },
    "5fcdabf062f5459c87bfa91f0cc5e327": {
     "views": []
    },
    "6234cb6da0f34540b183ae4b3b738dde": {
     "views": []
    },
    "69168d5cbd904cad9741b44703713958": {
     "views": []
    },
    "754bf82570ea409ca3c3bd22761e2de4": {
     "views": []
    },
    "90c41a5602b9451382274365ec7eca51": {
     "views": []
    },
    "9184529f1b2049b494167fef86f76597": {
     "views": []
    },
    "938f36acceab487d9b7e170d0d64c65a": {
     "views": []
    },
    "9764ca7f612d44ebbf3db829b2a86ebf": {
     "views": []
    },
    "9821accaa163481d9d425362c691b4e7": {
     "views": []
    },
    "9aec633de8ba460da020df269266b6c7": {
     "views": []
    },
    "a5fc23eb0a99448595c7379513f57ae0": {
     "views": []
    },
    "a69bfa6c834e41659deeb1a78cd67090": {
     "views": []
    },
    "ace999c2209f46ee9fdab9d0054ca56f": {
     "views": []
    },
    "b57c65cf2c13489eacd8b3464727069c": {
     "views": []
    },
    "c301d3e60b524b08a1244863962df958": {
     "views": []
    },
    "c585eccd48d0444da9f18838ce82ad46": {
     "views": []
    },
    "d650133e138f410982711b20e861f304": {
     "views": []
    },
    "e3d287e4bb3445e9819f504d4145b88c": {
     "views": []
    },
    "e3efd13e6b5845df9d06b4b2c3837f71": {
     "views": []
    },
    "e7b813566bf64d2e8245aa0e9059433d": {
     "views": []
    },
    "ed05e50111654cddb4c12ffda1d37ddc": {
     "views": []
    },
    "fb28fdbfb6cc48518a50a15db5337243": {
     "views": []
    },
    "fd6dc411ab4844d1be2216acdf53fa32": {
     "views": []
    }
   },
   "version": "1.1.0"
  }
 },
 "nbformat": 4,
 "nbformat_minor": 0
}
