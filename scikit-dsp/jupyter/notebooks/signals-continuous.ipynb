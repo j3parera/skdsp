{
 "cells": [
  {
   "cell_type": "code",
   "execution_count": 1,
   "metadata": {
    "collapsed": false,
    "run_control": {
     "read_only": false
    }
   },
   "outputs": [],
   "source": [
    "import matplotlib.pyplot as plt\n",
    "%matplotlib inline\n",
    "import skdsp.signal.continuous as cs\n",
    "import skdsp.signal.printer as pt\n",
    "import numpy as np\n",
    "import sympy as sp\n",
    "import scipy.signal as cp\n",
    "from ipywidgets import interact, fixed\n",
    "np.seterr(all='ignore')\n",
    "PI = sp.S.Pi\n",
    "pi = np.pi"
   ]
  },
  {
   "cell_type": "markdown",
   "metadata": {},
   "source": [
    "## 1.- Básicas"
   ]
  },
  {
   "cell_type": "code",
   "execution_count": 2,
   "metadata": {
    "code_folding": [],
    "collapsed": false,
    "run_control": {
     "read_only": false
    }
   },
   "outputs": [],
   "source": [
    "def s1(sg='delta', fd='just delay', width=16, delay=0):\n",
    "    npts = 16\n",
    "    ex = []\n",
    "    ey = []\n",
    "    if sg == 'delta':\n",
    "        s = cs.Delta()\n",
    "        ex = [0, 0, -0.25, 0, 0.25, 0]\n",
    "        ey = [0, 1,  0.95, 1, 0.95, 1]\n",
    "        max_ = 1\n",
    "        min_ = 0\n",
    "    elif sg == 'step':\n",
    "        s = cs.Step()\n",
    "        ex = [0, 0]\n",
    "        ey = [0, 1]\n",
    "        max_ = 1\n",
    "        min_ = 0\n",
    "    elif sg == 'ramp':\n",
    "        s = cs.Ramp()\n",
    "        max_ = npts\n",
    "        min_ = -npts\n",
    "    elif sg == 'unit ramp':\n",
    "        s = cs.Ramp() * cs.Step()\n",
    "        max_ = npts\n",
    "        min_ = 0\n",
    "    elif sg == 'rect':\n",
    "        s = cs.Rect(width)\n",
    "        max_ = 1\n",
    "        min_ = 0\n",
    "    elif sg == 'triang':\n",
    "        s = cs.Triang(width)\n",
    "        max_ = 1\n",
    "        min_ = 0\n",
    "    ex = np.array(ex)    \n",
    "    if fd == 'flip then delay':\n",
    "        s = s.flip().delay(delay)\n",
    "        ex = ex + delay\n",
    "    elif fd == 'delay then flip':\n",
    "        s = s.delay(delay).flip()\n",
    "        ex = ex - delay\n",
    "    elif fd == 'just delay':\n",
    "        s = s.delay(delay)\n",
    "        ex = ex + delay\n",
    "    ns = np.arange(-npts, npts+1, 2**(-5))\n",
    "    ys = s[ns]\n",
    "    plt.figure(figsize=(20, 4))\n",
    "    plt.plot(ns, ys, 'b-', lw=3)\n",
    "    plt.plot(ex, ey, 'b-', lw=3)\n",
    "    plt.xlim([-npts, npts])\n",
    "    range_ = (max_ - min_)*0.1\n",
    "    plt.ylim([min_-range_, max_+range_])\n",
    "    plt.axvline(0, color='k')\n",
    "    plt.axhline(0, color='k')\n",
    "    plt.title(pt.latex(s, mode='inline'), size=20)\n",
    "    plt.grid(True)"
   ]
  },
  {
   "cell_type": "code",
   "execution_count": 3,
   "metadata": {
    "collapsed": false,
    "run_control": {
     "read_only": false
    }
   },
   "outputs": [
    {
     "data": {
      "image/png": "[encoded data removed]",
      "text/plain": [
       "<matplotlib.figure.Figure at 0x7f17662a1400>"
      ]
     },
     "metadata": {},
     "output_type": "display_data"
    }
   ],
   "source": [
    "interact(s1, sg=('delta', 'step', 'ramp', 'unit ramp', 'rect', 'triang'),\n",
    "         fd=('just delay', 'flip then delay', 'delay then flip'),\n",
    "         width=(1, 30, 0.25), delay=(-15, 15, 0.25));"
   ]
  },
  {
   "cell_type": "code",
   "execution_count": null,
   "metadata": {
    "collapsed": true,
    "run_control": {
     "read_only": false
    }
   },
   "outputs": [],
   "source": []
  },
  {
   "cell_type": "code",
   "execution_count": null,
   "metadata": {
    "collapsed": true,
    "run_control": {
     "read_only": false
    }
   },
   "outputs": [],
   "source": []
  }
 ],
 "metadata": {
  "kernelspec": {
   "display_name": "Python 3",
   "language": "python",
   "name": "python3"
  },
  "language_info": {
   "codemirror_mode": {
    "name": "ipython",
    "version": 3
   },
   "file_extension": ".py",
   "mimetype": "text/x-python",
   "name": "python",
   "nbconvert_exporter": "python",
   "pygments_lexer": "ipython3",
   "version": "3.4.3+"
  },
  "widgets": {
   "state": {
    "021c01f4d7f9437693a474b22529d80e": {
     "views": []
    },
    "051c74b73e994489956da0f976b4a1ae": {
     "views": []
    },
    "06ae573dbd344acb8dd48e2e76ef4fbd": {
     "views": []
    },
    "072113bfbe93434d9af578231e3c8bf9": {
     "views": []
    },
    "09bfe94512b146db87dafc43610c7052": {
     "views": []
    },
    "0a95050e71be4b058062d448584568d3": {
     "views": []
    },
    "0cb4726db392420aa74ad4d567c1866e": {
     "views": []
    },
    "0f6f35579a0a4b2ca8649d60480872d8": {
     "views": []
    },
    "116c4eefcb5d4cee91e9d5d035ec7307": {
     "views": []
    },
    "16df41d2ae2949e3a1b33376512142d4": {
     "views": []
    },
    "16fcce5aaa98488892ac0bf17bd9ca81": {
     "views": []
    },
    "17618cc767b8429e9d4864bf01de7b4e": {
     "views": []
    },
    "1ba79b0f5b0b4a9abea657f5d5c600e7": {
     "views": []
    },
    "241bf060945c4e559b00e52e594a239d": {
     "views": []
    },
    "2837b9a7428a4fd28be248614bcbbe09": {
     "views": []
    },
    "2efbb194502044c8bb7ace211872a3a6": {
     "views": []
    },
    "32b8141250694172b5572e51db632516": {
     "views": []
    },
    "361b880e1d4544bc8520084795c963e9": {
     "views": []
    },
    "3836a21f72074947908a55cbe5598925": {
     "views": []
    },
    "38bf7e554dae4251b506b58f87f7c0ac": {
     "views": []
    },
    "3e6a7e6bc9304c0c91e2430a9f69f7bf": {
     "views": []
    },
    "42f6fef6b440411d9513015e1daa907a": {
     "views": []
    },
    "44895184e9e1497b88f7bd5c94227c44": {
     "views": []
    },
    "472cc69b17b94e778ff7d8ac4a08b631": {
     "views": []
    },
    "479470f7581348ec85523ccf0dd483cb": {
     "views": []
    },
    "48dde3e8dba94f6f84390019e3cca4e1": {
     "views": []
    },
    "490ac79924874402b975187635e1d66a": {
     "views": []
    },
    "4c529560e7ff4be2a49e3a55c3b91675": {
     "views": []
    },
    "4cdf2be0b97b417da6c7bf6c965aad3a": {
     "views": []
    },
    "4d06c9144dd340bf888cd86220a6df1f": {
     "views": []
    },
    "4d089114ee684184a4866f00977f35f8": {
     "views": []
    },
    "4d1014ab4e4d470bb19380d5a7fadd54": {
     "views": []
    },
    "4f06c942451949e580c3cd47afc7efaa": {
     "views": []
    },
    "4ff88842412448d3a47491b03a73ab14": {
     "views": [
      {
       "cell": {
        "cell_type": "code",
        "execution_count": 3,
        "metadata": {
         "collapsed": false,
         "run_control": {
          "read_only": false
         },
         "trusted": true
        },
        "outputs": [
         {
          "data": {
           "image/png": "iVBORw0KGgoAAAANSUhEUgAABH4AAAESCAYAAACLuxKfAAAABHNCSVQICAgIfAhkiAAAAAlwSFlz\nAAALEgAACxIB0t1+/AAAIABJREFUeJzt3XucXNV14PvfljV6QILFwwibSFYAgxUw6ZCYq5vkhjZO\nJBkHpAwkxoaMBAYExCCBDN1O7gRfnBkk8WoeF8kiHh4GxPAYhO0xRM6EHjnR8JiITmwQWAIJZCCy\nIQgEKIi29vyxu6lSU91d3V1dp06d3/fz4cNeVadPLcnrc1y9OHudEGNEkiRJkiRJzWdM1glIkiRJ\nkiRpdNj4kSRJkiRJalI2fiRJkiRJkpqUjR9JkiRJkqQmZeNHkiRJkiSpSdn4kSRJkiRJalI2fiRJ\nkiRJkpqUjR9JkiRJkqQmZeNHkiTVVAjhQyN5v1kN988dQvijWucyxM8v5P9ekiQ1Cxs/kiSpZnqa\nFKcP9/0m9+chhBlD+YEQwhHAn45SPtUact6SJKlxhBhj1jlIkqQGE0JoBe4Cjowxvl7lz/we8Ecx\nxouG8349hRAOBr4G7AYmABOBpTHGHw/zfEcA/xnY0vPSAcAlMcaflR0zFlgNXBxj/EmV5/3/gB/H\nGO8te+0Z4BvAI8DbwKeBNuArMcZnGyFvSZLUOGz8SJKkDwgh/BD4bVIz5M+rOP6Xgb8Fjosx/tsw\n3j8E+CEwI8a4daT5D5LrfsC3gHNjjNt6XpsGPAx8Psb43BDPtw/wFHBpjHFVz2tfA74E/EaMsbvs\n2KnAvcD/HWPcXcW5/xH47Rjju2Wv9f25XcCiGOOKRslbkiQ1Drd6SZKkPYQQZgJdpLtJvhJC2L+K\nH/tz4M5KTZ0q3z8J2BfYNtR8h+FM4G97mz4AMcYtwG3AWcM4Xxvw74D/WvbaCuAI4MvlB8YYXyQ1\nW+YPdtIQwqdJd/u82+etF4GVwAPAUuDXh9r0Gc28JUlSY7HxI0mS+lpEatTcCPwSqUHQrxDCXsA5\nwLeH836P3wUeizHuGk7CQ3QIcHyF1/+N1AgZqlNIub9/J0zP9rhngD+ucPyNDPJ32uM00na7vp6P\nMZ4bYzw5xvi1oW7vKjNaeUuSpAZi40eSJL0vhHAC8Pcxxh3AlcAO4LwQwkcG+LHPA5sHmAU02PuQ\nGj9rh5PzMHQBfxRCuDOEMAkghDCeNHT61qGcKITwS8AnSHfh9PUy8JsVXn8SOCCE8OsDnHcM0Ar8\nYCj5VGu08pYkSY3Hxo8kSSp3AXAdvH/3RwewN2kQcn/+AFg31PdDCH8SQngohPAocCDwmRDC90MI\n5w03+SrdCjwBfBF4OoRwGvDXwNeGMdz54z3/frPCe28D+4QQ9riLKKYBi/8AzBrgvMcDP+xnns6E\nEMJfhBCuDSEsCyHcH0L4RIPkLUmSGoyNH0mSBEAI4STg72KMb5e9fA2wHVgQQjionx/9DeBHA5y6\n4vsxxntijJ8D/gvwLvD7McYTYozLh/UHqFLPdrLPAn8DTCZtQfsw6U6godqn59+Vtqj1/j1OqvDe\nT4CB7pz5EpW3eUF68tatMcaLYoyXAv8N+GEI4cAq8u01WnlLkqQGY+NHkiT1Op80x+V9McY3gGtJ\njzvv766faaTmUH8Ge/8zwBN1mu/T6yukbU5/CDzf8++uEMKRQzzPL3r+Xekxqb13zHyownv/Cvxq\npRP2bDtriTH+r0rvxxgPjzG+VPbSKuCXSXOZqlXzvCVJUmMam3UCkiQpeyGEPwIejjHurPB2B7AQ\nODuEsDTG+HKf9z/MwI2dwd5vJW21Gii/oxna/J0nY4xfrvRGCOEi4HdijCf2xJ8C/or0Z7yDdIdS\ntX4+wHt79/x7R4X3XqPyHTWQZiI9VG0CMcbdIYSfA3NIg7mrMRp5S5KkBmTjR5IkASwgNQ4+IMa4\nI4RwFfCfgb8A/qzvIQx8F3G/74cQfo203ep/DpRcjPGfgWMGOmYI/iPwO2Xn3gksDiH8BLgphHDE\nEJ6UtY3059u3wnt7A9v7bJ3rNQYI/Zzzi8Blld4IIaztyfn3+rz1IWD/ahLuMRp5S5KkBuRWL0mS\nCi6E8MfA92KM7w5w2A3Aq8CZIYQpfd7bDuw3wM8O9P7xwHv0DH8OIXw4hPArVSU+DD1PJ/swsKnv\nezHGb5LucplQ7flijO+QnnbV9+8E4DD6nxu0HxXuggoh7ANMiTE+3c/PtQB7VXj9AOCFQRPuUeu8\nJUlS47LxI0lSgYUQAvBl4JsDHddz98dSYDzw//Z5ezMDN34Gev93ga6eRgSk7VbvDZL2sMUYf066\n2+XTfd8LIfwy6SlXT5e9dlgIYbBG0H8H/q8+5zqU1FS5t5+f2Y/099LXyaRhzf15iPSUtPLP+g3S\n/y7f7vP6YLnXMm9JktSgbPxIklRsXwQOJm1xunmgfyjNvpkfQvh42Tn+Hvi1AT5joPc/BGwBCCH8\nFvBOjHHbSP5AVVgEfDOEMLX3hZ47bb4FLIwxvtfz2v8DPAs8MMj5lgN79zwWvtcFwFP0P7vo14B/\nrPD6qaRhzf25ElgZQphY9toi0mPWr+x9ocrca5m3JElqUM74kSSp2P4C+CQDN27KRdL3h3bgvJ7X\nHiYNgO7PQO9/A/j/QwjLgG0xxquqzGPYYoz3hBBeBq4LIfxbz8tjgBtjjGvLDt0G/IwK28L6nO9f\nQgitwH8KIRxDelT6vsDsGGN33+NDCB8izRhq6/P6ZGBcjHHrAJ/1v0MIHcBtIYR3ej7rR8DZvQ2r\nanOvVd6SJKmxhRgrPcVTkiSpOiGEccBLwNExxleG+n7RhBB+G1gZYzyqz+sLgXdjjCuyyWxg/eUt\nSZIam1u9JEnSiMQYdwE30s+jxAd7v4AWAZXubPpj4J465zIU/eUtSZIamI0fSZJUC1cCs0MIk4b5\nfiGEEI4AfhW4rc/rhwKvxxj/NZPEBtFf3pIkqfHZ+JEkSSPW81SuLwM3D+f9IgghjCfd+fSl+MG9\n9l9i4KHOmRkkb0mS1OCc8SNJkmomhPD7wPQY4w3Deb+ZhRAuB74bY3yiwnsPAl8se6x9wxgob0mS\n1Pjq2vgJIdhlkiRJkiRJqrEYY6j0et0f594odxh9/etf5+tf/3rWaUhDYt0qr6xd5VEIoWG+t0hD\n4TVXeWTdKo8aqW5DqNjzAQo842fLli1ZpyANmXWrvLJ2Jal+vOYqj6xb5VFe6rawjR9JkiRJkqRm\nV9jGz/z587NOQRoy61Z5Ze1KUv14zVUeWbfKo7zUbd2HO7tXXpIk5YEzfiRJUl70fG+pOOinsHf8\ndHZ2Zp2CNGTWrfLK2pWk+vGaqzyybpVHeanbwjZ+JEmSJEmSmp1bvSRJkipwq5ckScoLt3pJkiRJ\nkiQVUGEbP3nZiyeVs26VV9auJNWP11zlkXWrPMpL3Ra28SNJkiRJktTsnPEjSZJUgTN+JElSXjjj\nR5IkSZIkqYAGbfyEEL4VQtgWQvjnAY65PoSwMYTQFUJoqW2KoyMve/Gkctat8sralaT68ZqrPLJu\nlUd5qdtq7vi5BZjV35shhM8Bh8YYPwEsAFbUKDdJkiRJkiSNQFUzfkIIHwe+G2M8usJ7K4BHYoz/\ntSfeALTGGLdVONYZP5IkKRec8SOp1rZtg1dfhSOPzDoTSc1mtGf8HAxsLYtf6nlNkiRJkgRs3gxH\nHw1HHQUdHVlnI6lIxtb7A+fPn8+0adMAmDRpEi0tLbS2tgKl/XH1iMv34mXx+cbGw4m7urpYtGhR\nw+RjbFxt3NHRkdn13th4uHGvRsnH2Lja2O8LjRkvWQI/+1mKL7uslTPOgCefbJz8so57142Sj7Fx\nNXGW19uOjg66urre768MZDS2ej0DHNfoW706Ozvf/wuT8sK6VV5Zu8ojt3opr7zmNp5XXoFp02DX\nrtJrS5ZAW1tmKTUc61Z51Eh1O9BWr2obP9NIjZ9PVXjvBODPYoyfDyHMADpijDP6OU/DNH4kSZIG\nYuNHUq20tcGyZXu+NnkybNkCEyZkkpKkJjOixk8I4S6gFdgf2AZcBowDYoxxZc8xNwKzgbeBM2KM\n6/s5l40fSZKUCzZ+JNXC9u0wdSrs2JHi8ePh3XfTesUKWLAgu9wkNY8RDXeOMX4pxvixGOP4GOPU\nGOMtMcZv9jZ9eo75SozxsBjjr/fX9Gk05XtIpbywbpVX1q4k1Y/X3MayfHmp6TN9OvzVX5XeW7YM\nuruzyavRWLfKo7zU7aCNH0mSJEnS0O3cuecTvNra0h0+++6b4uefh/vvzyY3ScVR1Yyfmn2YW70k\nSVJOuNVL0kgtXw7nn5/WU6bApk0wbhz85V/CN76RXm9pgfXrIVTcoCFJ1RnRVi9JkiRJ0tB0d8OV\nV5bixYtT0wfgggtg4sS07uqCNWvqn5+k4ihs4ycve/Gkctat8sralaT68ZrbGO69FzZvTuv99oOz\nziq995GP7BkvWVLf3BqRdas8ykvdFrbxI0mSJEmjIcY9mzkXXgh7773nMYsXw4c+lNadnfDoo3VL\nT1LBOONHkiSpAmf8SBquhx6CE05I6732ghdfhP33/+Bx/+E/wLe/ndZz58IDD9QvR0nNxRk/kiRJ\nklQn5Xf7nHNO5aYPwKWXltarV8OGDaObl6RiKmzjJy978aRy1q3yytqVpPrxmputdetg7dq0HjsW\nLr64/2OPOgpOPLEUL1s2urk1MutWeZSXui1s40eSJEmSam3p0tL69NPTY9wH0t5eWt9xB2zdOjp5\nSSouZ/xIkiRV4IwfSUP11FPpLp5eTz8N06cP/nO/93vwwx+m9aJFcO21o5OfpObljB9JkiRJGmXl\nW7Xmzq2u6QN73vWzciW89lpt85JUbIVt/ORlL55UzrpVXlm7klQ/XnOz8cILcNddpbitrfqf/dzn\n4FOfSut33oEbb6xtbnlg3SqP8lK3hW38SJIkSVKtXHMNdHendWsrzJhR/c+GsOddP9dfD2+/XdP0\nJBWYM34kSZIqcMaPpGq9+ipMnQo7d6b44Ydh1qyhnaO7Gz7xCdiyJcUdHbBwYU3TlNTEnPEjSZIk\nSaPkhhtKTZ+WFpg5c+jnGDsWLrmkFF99NezaVZv8JBVbYRs/edmLJ5WzbpVX1q4k1Y/X3Pp6663U\n+OnV3p62bg3HGWfARz6S1lu3wqpVI88vL6xb5VFe6rawjR9JkiRJGqmbb4bXX0/rQw+Fk08e/rkm\nTkyPc++1dCns3j2y/CTJGT+SJEkVOONH0mB27YJDDoGXXkrxihWwYMHIzrl9e5oXtGNHilevhjlz\nRnZOSc3PGT+SJEmSVGN33llq+kyeDPPmjfyckybBueeW4iuuAHvQkkaisI2fvOzFk8pZt8ora1eS\n6sdrbn3s3p22YvW66CKYMKE25160CMaNS+vHHoO1a2tz3kZm3SqP8lK3hW38SJIkSdJwPfggPPts\nWu+zz5536YzUxz62591DS5bU7tySiscZP5IkSRU440dSf2KEGTPg8cdT3N6etmTV0saNcMQRpW1e\nTz6ZHhUvSZU440eSJEmSaqSzs9T0GT8eFi6s/Wd84hNwyimluHxbmSQNRWEbP3nZiyeVs26VV9au\nJNWP19zRV7716owz4KCDRudz2tpK63vugeeeG53PaQTWrfIoL3Vb2MaPJEmSJA3V+vWwZk1ajxkD\nX/3q6H3Wb/4m/MEfpPXu3XDVVaP3WZKalzN+JEmSKnDGj6RKvvCFdPcNwKmnwqpVo/t5f/d38NnP\npvX48bBly+jdYSQpv5zxI0mSJEkjtHEj3HdfKS7fijVaPvMZ+PSn0/rdd+G660b/MyU1l8I2fvKy\nF08qZ90qr6xdSaofr7mj56qr0pYrgNmz6/OUrRDga18rxTfdBG+8MfqfW2/WrfIoL3VbVeMnhDA7\nhPBMCOEnIYQP9LVDCPuHEB4KIXSFEH4UQphf80wlSZIkKSOvvAK33lqK29vr99lz5qRHuwO8+Sas\nWFG/z5aUf4PO+AkhjAF+AnwWeBl4Ajg1xvhM2TGXARNijF8LIRwAPAtMjjF29zmXM34kSVIuOONH\nUrm2Nli2LK1nzIB169LdOPVyyy1w5plpPXlymvUzYUL9Pl9SYxvpjJ9jgY0xxhdijO8BdwNz+hzz\nL8Av96x/GXitb9NHkiRJkvJo+3ZYvrwUt7fXt+kDcNppcPDBab1tG9x2W30/X1J+VdP4ORjYWhb/\ntOe1cjcDR4YQXgb+CVhYm/RGT1724knlrFvllbUrSfXjNbf2li+HHTvSevp0OPHE+ucwbhwsXlyK\nly2D7ib6T+3WrfIoL3U7tkbn+RrwTzHGz4QQDgV+EEI4Osb4Vt8D58+fz7Rp0wCYNGkSLS0ttLa2\nAqW/NGNj48pxV1dXQ+VjbFxt3NXV1VD5GBtXE/dqlHyMjauN/b5Q2/jdd6GjI8XQyUknwZgx2eTz\nyU928ku/BG+91crzz8Pll3dy/PGN9fdlbFykOMvrbUdHB11dXe/3VwZSzYyfGcDXY4yze+J2IMYY\nl5Yd833gP8UY/6En/h9AW4zxf/c5lzN+JElSLjjjRxKku33OPz+tp0yBTZvS3TdZuewyuPzytG5p\ngfXr67/tTFLjGemMnyeAw0IIHw8hjANOBb7T55gNwO/3fNhk4HDg+eGnLEmSJEnZ6u6GK68sxYsX\nZ9v0AbjgApg4Ma27umDNmmzzkdT4Bm38xBh/AXwFWAM8BdwdY9wQQlgQQjin57ArgN8KIfwT8APg\n0hjjv45W0rXQe5uUlCfWrfLK2pWk+vGaWzv33gubN6f1fvvBWWdlmw/AAQfA2WeX4iVLssullqxb\n5VFe6raqGT8xxoeBI/q89s2y9atABiPOJEmSJKn2YtyzqXLhhbD33tnlU+7ii+Gmm9IdSZ2d8Oij\n6RHzklTJoDN+avphzviRJEk54YwfqdgeeghOOCGt99oLXnwR9t8/25zKzZsHt9+e1nPnwgMPZJuP\npGyNdMaPJEmSJBVK+d0+55zTWE0fgEsvLa1Xr4YNG7LLRVJjK2zjJy978aRy1q3yytqVpPrxmjty\n69bB2rVpPXZs2lrVaI48Ek46qRQvW5ZdLrVg3SqP8lK3hW38SJIkSVIlS5eW1qefnh7j3oja20vr\nO+6ArVuzy0VS43LGjyRJUgXO+JGK6amn4KijSvHTT8P06dnlM5jjjivdnbRoEVx7bbb5SMqGM34k\nSZIkqQrlW6bmzm3spg/sedfPypXw2mvZ5SKpMRW28ZOXvXhSOetWeWXtSlL9eM0dvhdegLvuKsVt\nbdnlUq3Zs+Hoo9P6nXfgxhuzzWe4rFvlUV7qtrCNH0mSJEkqd8010N2d1q2tMGNGpulUJYQ97/q5\n/np4++3s8pHUeJzxI0mSVIEzfqRiefVVmDoVdu5M8cMPw6xZ2eZUre5uOPxw2Lw5xR0dsHBhtjlJ\nqi9n/EiSJEnSAG64odT0aWmBmTOzzWcoxo6FSy4pxVdfDbt2ZZePpMZS2MZPXvbiSeWsW+WVtStJ\n9eM1d+jeeis1fnq1t6ctVHkyfz4ceGBab90Kq1Zlms6QWbfKo7zUbWEbP5IkSZIEcPPN8PrraX3o\noXDyydnmMxwTJ6bHufdauhR2784uH0mNwxk/kiRJFTjjRyqGXbvgkEPgpZdSvGIFLFiQbU7DtX17\nmlO0Y0eKV6+GOXOyzUlSfTjjR5IkSZIquPPOUtNn8mSYNy/bfEZi0iQ477xSfMUVYP9aUmEbP3nZ\niyeVs26VV9auJNWP19zq7d6dtkT1uugimDAhu3xqYdEiGDcurR97DNauzTafalm3yqO81G1hGz+S\nJEmSiu3BB+HZZ9N6n33g3HOzzacWPvrRNOi515IlmaUiqUE440eSJKkCZ/xIzS1GmDEDHn88xe3t\naWtUM9i0CY44ojTc+ckn0yPqJTUvZ/xIkiRJUpnOzlLTZ/x4WLgw03Rq6rDD4JRTSnH5djZJxVPY\nxk9e9uJJ5axb5ZW1K0n14zW3OuVboM44Aw46KLtcRkNbW2l9zz3w3HPZ5VIN61Z5lJe6LWzjR5Ik\nSVIxrV8Pa9ak9Zgx8NWvZpvPaDjmGJg5M61374arrso2H0nZccaPJElSBc74kZrXF76Q7oIBOPVU\nWLUq23xGyyOPwPHHp/X48bBlS/Pd2SQpccaPJEmSJAEbN8J995Xi8i1Rzaa1FY49Nq3ffReuuy7T\ndCRlpLCNn7zsxZPKWbfKK2tXkurHa+7Arrqq9LSr2bOb+2lXIaSnlfW66SZ4443s8hmIdas8ykvd\nFrbxI0mSJKlYXnkFbr21FJc3RZrVnDnp0e4Ab74JK1Zkm4+k+nPGjyRJUgXO+JGaT1sbLFuW1jNm\nwLp16a6YZnfLLXDmmWk9eXKa9TNhQqYpSaoxZ/xIkiRJKrTt22H58lLc3l6Mpg/AaafBwQen9bZt\ncNtt2eYjqb4K2/jJy148qZx1q7yydiWpfrzmVrZ8OezYkdbTp8OJJ2abTz2NGweLF5fiZcuguzu7\nfCqxbpVHeanbwjZ+JEmSJBXDzp3Q0VGK29pgTMF+Ezr7bNh337R+/nm4//5s85FUP1XN+AkhzAY6\nSI2ib8UYl1Y4phW4Fvh3wM9jjJ+pcIwzfiRJUi4440dqHsuXw/nnp/WUKbBpU7oLpmguuwwuvzyt\nW1pg/fribHeTmt1AM34GbfyEEMYAPwE+C7wMPAGcGmN8puyYDwPrgJkxxpdCCAfEGF+tcC4bP5Ik\nKRds/EjNobsbDj8cNm9OcUcHLFyYbU5ZefVVmDo13QEF8PDDMGtWtjlJqo2RDnc+FtgYY3whxvge\ncDcwp88xXwLujzG+BFCp6dNo8rIXTypn3SqvrF1Jqh+vuXu6995S02e//eCss7LNJ0sHHJC2fPVa\nsiS7XPqybpVHeanbaho/BwNby+Kf9rxW7nBgvxDCIyGEJ0IIf1qrBCVJkiRpOGLcs7lx4YWw997Z\n5dMILr4Yxo5N685OePTRTNORVAfVbPU6GZgVYzynJz4dODbGeGHZMTcAvwkcD+wN/C/ghBjjpj7n\ncquXJEnKBbd6Sfn30ENwwglpvdde8OKLsP/+2ebUCObNg9tvT+u5c+GBB7LNR9LIDbTVa2wVP/8S\nMLUs/pWe18r9FHg1xvhvwL+FENYCvw5s6nMc8+fPZ9q0aQBMmjSJlpYWWltbgdJtUsbGxsbGxsbG\nWce9GiUfY2Pjocft7SmGVs45B370o8bKL6v40ktbexo/naxeDRs2tDJ9euPkZ2xsPHjc0dFBV1fX\n+/2VgVRzx8+HgGdJw51fAR4Hvhhj3FB2zCeBG4DZwHjgMeALMcan+5yrYe746ezsfP8vTMoL61Z5\nZe0qj7zjR3nlNTdZtw5+53fSeuzY9AjzKVOyzamRzJkD3/lOWs+fD7fckmk61q1yqZHqdkTDnWOM\nvwC+AqwBngLujjFuCCEsCCGc03PMM8DfAP8MPAqs7Nv0kSRJkqR6Wbq0tD79dJs+fbW3l9Z33AFb\nt/Z/rKR8G/SOn5p+WAPd8SNJkjQQ7/iR8uupp+Coo0rx00/D9OnZ5dOojjsO1q5N60WL4Nprs81H\n0vCN9HHukiRJkpQby5aV1nPn2vTpT/ldPytXwmuvZZeLpNFT2MZP72AkKU+sW+WVtStJ9VP0a+4L\nL8Bdd5Xitrbscml0s2fD0Uen9TvvwI03ZpdL0etW+ZSXui1s40eSJElS87nmGujuTuvWVpgxI9N0\nGloIe971c/318Pbb2eUjaXQ440eSJKkCZ/xI+fPqqzB1KuzcmeKHH4ZZs7LNqdF1d8Phh8PmzSnu\n6ICFC7PNSdLQOeNHkiRJUtO74YZS06elBWbOzDafPBg7Fi65pBRffTXs2pVdPpJqr7CNn7zsxZPK\nWbfKK2tXkuqnqNfct95KjZ9e7e1pK5MGN38+HHhgWm/dCqtW1T+Hotat8i0vdVvYxo8kSZKk5nHz\nzfD662l96KFw8snZ5pMnEyemx7n3WroUdu/OLh9JteWMH0mSpAqc8SPlx65dcMgh8NJLKV6xAhYs\nyDanvNm+Pc1H2rEjxatXw5w52eYkqXrO+JEkSZLUtO68s9T0mTwZ5s3LNp88mjQJzjuvFF9xBdj7\nlppDYRs/edmLJ5WzbpVX1q4k1U/Rrrm7d6etSb0uuggmTMgunzxbtAjGjUvrxx6DtWvr99lFq1s1\nh7zUbWEbP5IkSZLy78EH4dln03qffeDcc7PNJ88++tE06LnXkiWZpSKphpzxI0mSVIEzfqTGFyPM\nmAGPP57i9va0RUnDt2kTHHFEabjzk09CS0u2OUkanDN+JEmSJDWdzs5S02f8eFi4MNN0msJhh8Ep\np5Ti8m10kvKpsI2fvOzFk8pZt8ora1eS6qdI19zyrUhnnAEHHZRdLs2kra20vuceeO650f/MItWt\nmkde6rawjR9JkiRJ+bV+PaxZk9ZjxsBXv5ptPs3kmGNg5sy03r0brroq23wkjYwzfiRJkipwxo/U\n2L7whXQ3CsCpp8KqVdnm02weeQSOPz6tx4+HLVu8o0pqZM74kSRJktQ0Nm6E++4rxeVbk1Qbra1w\n7LFp/e67cN11maYjaQQK2/jJy148qZx1q7yydiWpfopwzb3qqtJTp2bP9qlToyGE9JS0XjfdBG+8\nMXqfV4S6VfPJS90WtvEjSZIkKX9eeQVuvbUUlzcnVFtz5qRHuwO8+SasWJFtPpKGxxk/kiRJFTjj\nR2pMbW2wbFlaz5gB69alu1M0Om65Bc48M60nT06zfiZMyDQlSRU440eSJElS7m3fDsuXl+L2dps+\no+200+Dgg9N62za47bZs85E0dIVt/ORlL55UzrpVXlm7klQ/zXzNXb4cduxI6+nT4cQTs82nCMaN\ng8WLS/GyZdDdXfvPaea6VfPKS90WtvEjSZIkKT927oSOjlLc1gZj/G2mLs4+G/bdN62ffx7uvz/b\nfCQNjTN+JEmSKnDGj9RYli+H889P6ylTYNOmdDeK6uOyy+Dyy9O6pQXWr3ebndRInPEjSZIkKbe6\nu+HKK0vx4sU2fertggtg4sS07uqCNWuyzUdS9Qrb+MnLXjypnHWrvLJ2Jal+mvGae++9sHlzWu+3\nH5x1VrZP5kKoAAAXNUlEQVT5FNEBB6QtX72WLKnt+ZuxbtX88lK3hW38SJIkSWp8Me7ZZLjwQth7\n7+zyKbKLL4axY9O6sxMefTTTdCRVyRk/kiRJFTjjR2oMDz0EJ5yQ1nvtBS++CPvvn21ORTZvHtx+\ne1rPnQsPPJBtPpKSEc/4CSHMDiE8E0L4SQihbYDjPh1CeC+E8O+Hm6wkSZIk9Sq/2+ecc2z6ZO3S\nS0vr1athw4bscpFUnUEbPyGEMcCNwCzgSOCLIYRP9nPcEuBvap3kaMjLXjypnHWrvLJ2Jal+muma\nu24drF2b1mPHpq1GytaRR8JJJ5XiZctqc95mqlsVR17qtpo7fo4FNsYYX4gxvgfcDcypcNwFwH3A\nz2qYnyRJkqSCWrq0tD799PQYd2Wvvb20vuMO2Lo1u1wkDW7QGT8hhJOBWTHGc3ri04FjY4wXlh3z\nMeDOGONnQgi3AN+NMf63Cudyxo8kScoFZ/xI2XrqKTjqqFL89NMwfXp2+WhPxx1Xuhtr0SK49tps\n85GKbsQzfqrQAZTP/qn4YZIkSZJUjfItRHPn2vRpNOV3/axcCa+9ll0ukgY2topjXgKmlsW/0vNa\nud8C7g4hBOAA4HMhhPdijN/pe7L58+czbdo0ACZNmkRLSwutra1AaX9cPeLyvXhZfL6x8XDirq4u\nFi1a1DD5GBtXG3d0dGR2vTc2Hm7cq1HyMTauNm6G7wu/+qut3HUXQIrb2horP+NWZs+GQw7p5Pnn\n4Z13WrnxRjjuuOGfr3fdKH8+Y+Nq4iyvtx0dHXR1db3fXxlINVu9PgQ8C3wWeAV4HPhijLHi/Pa8\nbPXq7Ox8/y9MygvrVnll7SqP3OqlvGqGa+7ChXD99Wnd2gqPPJJpOurHqlXwpS+l9X77wYsvwt57\nD+9czVC3Kp5GqtuBtnoN2vjpOcFs4DrS1rBvxRiXhBAWADHGuLLPsf8F+F6jN34kSZIGYuNHysar\nr8LUqbBzZ4offhhmzco2J1XW3Q2HHw6bN6e4oyM17STV34gbPzVMxMaPJEnKBRs/UjYuuwwuvzyt\nW1pg/XoIThBtWMuXw/nnp/WUKbBpE4wbl21OUhHVY7hz7pTvIZXywrpVXlm7klQ/eb7mvvUW3HBD\nKW5vt+nT6ObPhwMPTOutW9P2r+HIc92quPJSt4Vt/EiSJElqLDffDK+/ntaHHgonn5xtPhrcxInp\nce69li6F3buzy0fSB7nVS5IkqQK3ekn1tWsXHHIIvNTz/OAVK2DBgmxzUnW2b09zmXbsSPHq1TBn\nTrY5SUXjVi9JkiRJDe3OO0tNn8mTYd68bPNR9SZNgvPOK8VXXAH2zaXGUdjGT1724knlrFvllbUr\nSfWTx2vu7t1pi1Cviy6CCROyy0dDt2hRaajzY4/B2rVD+/k81q2Ul7otbONHkiRJUmN48EF49tm0\n3mcfOPfcbPPR0H30o2nQc68lSzJLRVIfzviRJEmqwBk/Un3ECDNmwOOPp7i9PW0VUv5s2gRHHFEa\n7vzkk9DSkm1OUlE440eSJElSQ+rsLDV9xo+HhQszTUcjcNhhcMoppbh8+56k7BS28ZOXvXhSOetW\neWXtSlL95O2aW74l6Iwz4KCDsstFI9fWVlrfcw8891x1P5e3upUgP3Vb2MaPJEmSpGytXw9r1qT1\nmDHw1a9mm49G7phjYObMtN69G666Ktt8JDnjR5IkqSJn/Eij7wtfSHeFAJx6KqxalW0+qo1HHoHj\nj0/r8eNhyxbv5JJGmzN+JEmSJDWUjRvhvvtKcfkWIeVbaysce2xav/suXHddpulIhVfYxk9e9uJJ\n5axb5ZW1K0n1k5dr7lVXlZ7+NHu2T39qJiGkp7P1uukmeOONgX8mL3UrlctL3Ra28SNJkiQpG6+8\nArfeWorLmwRqDnPmpEe7A7z5JqxYkW0+UpE540eSJKkCZ/xIo6etDZYtS+sZM2DdunSXiJrLLbfA\nmWem9eTJadbPhAmZpiQ1LWf8SJIkSWoI27fD8uWluL3dpk+zOu00OPjgtN62DW67Ldt8pKIqbOMn\nL3vxpHLWrfLK2pWk+mn0a+7y5bBjR1pPnw4nnphtPho948bB4sWleNky6O6ufGyj161USV7qtrCN\nH0mSJEn1tXMndHSU4rY2GONvJE3t7LNh333T+vnn4f77s81HKiJn/EiSJFXgjB+p9pYvh/PPT+sp\nU2DTpnRXiJrbZZfB5ZendUsLrF/v9j6p1pzxI0mSJClT3d1w5ZWlePFimz5FccEFMHFiWnd1wZo1\n2eYjFU1hGz952YsnlbNulVfWriTVT6Nec++9FzZvTuv99oOzzso2H9XPAQekLV+9liz54DGNWrfS\nQPJSt4Vt/EiSJEmqjxj3/GX/wgth772zy0f1d/HFMHZsWnd2wqOPZpqOVCjO+JEkSarAGT9S7Tz0\nEJxwQlrvtRe8+CLsv3+2Oan+5s2D229P67lz4YEHss1HaibO+JEkSZKUmfK7fc45x6ZPUV16aWm9\nejVs2JBdLlKRFLbxk5e9eFI561Z5Ze1KUv002jV33TpYuzatx45NW35UTEceCSedVIqXLSutG61u\npWrkpW4L2/iRJEmSNPqWLi2tTz89PcZdxdXeXlrfcQds3ZpdLlJROONHkiSpAmf8SCP31FNw1FGl\n+OmnYfr07PJRYzjuuNJdYIsWwbXXZpuP1Ayc8SNJkiSp7sq38syda9NHSfldPytXwmuvZZeLVASF\nbfzkZS+eVM66VV5Zu5JUP41yzX3hBbjrrlLc1pZdLmoss2fD0Uen9TvvwI03Nk7dSkORl7qtqvET\nQpgdQngmhPCTEMIHLtkhhC+FEP6p55+/DyF8qvapSpIkScqLa66B7u60bm2FGTMyTUcNJIQ97/q5\n/nrYuTO7fKRmN+iMnxDCGOAnwGeBl4EngFNjjM+UHTMD2BBjfCOEMBv4eozxA5d2Z/xIkqS8cMaP\nNHyvvgpTp5Z+mX/4YZg1K9uc1Fi6u+Hww2Hz5hR3dMDChdnmJOXZSGf8HAtsjDG+EGN8D7gbmFN+\nQIzx0RjjGz3ho8DBI0lYkiRJUn7dcEOp6dPSAjNnZpuPGs/YsXDJJaX46qth167s8pGaWTWNn4OB\n8ofs/ZSBGztnAQ+NJKl6yMtePKmcdau8snYlqX6yvua+9VZq/PRqb09be6S+5s+HAw9M661bO1m1\nKtN0pCHL+npbrbG1PFkI4TPAGcDv9nfM/PnzmTZtGgCTJk2ipaWF1tZWoPSXZmxsXDnu6upqqHyM\njauNu7q6GiofY+Nq4l6Nko+xcbVx1t8X7r0XXn89xR/7WCcHHACQXT7GjRs/9lgnJ50Ef/3XKf7L\nv+xkyhQ4/vjGyM/YeLA4y+ttR0cHXV1d7/dXBlLNjJ8ZpJk9s3vidiDGGJf2Oe5o4H5gdozxuX7O\n5YwfSZKUC874kYZu1y445BB46aUUr1gBCxZkm5Ma2/btaR7Ujh0pXr0a5swZ+GckfdBIZ/w8ARwW\nQvh4CGEccCrwnT4fMJXU9PnT/po+kiRJkprbnXeWmj6TJ8O8ednmo8Y3aRKcd14pvuIKsOcu1dag\njZ8Y4y+ArwBrgKeAu2OMG0IIC0II5/Qc9h+B/YCbQghPhhAeH7WMa6T3NikpT6xb5ZW1K0n1k9U1\nd/duWFq2J+Cii2DChExSUc4sWgRjx3YC8NhjsHZttvlI1crLd9yqZvzEGB8Gjujz2jfL1mcDZ9c2\nNUmSJEl58eCD8Oyzab3PPnDuudnmo/z46Edh9mz43vdSvGQJHHdctjlJzWTQGT81/TBn/EiSpJxw\nxo9UvRhhxgx4vOe+//b2tGVHqtamTXDEEenOMYAnn4SWlmxzkvJkpDN+JEmSJKlfjzxSavqMHw8L\nF2abj/LnsMPglFNK8dKl/R8raWgK2/jJy148qZx1q7yydiWpfrK45i5ZUlqfcQYcdFDdU1DOdXZ2\n0tZWiu+5B57zsUFqcHn5jlvYxo8kSZKkkfvHf4Qf/CCtx4yBr34123yUX8ccAzNnpvXu3XDVVdnm\nIzULZ/xIkiRV4IwfqTp/8idw771pfeqpsGpVtvko3x55BI4/Pq3Hj4ctW7yDTKqGM34kSZIk1dzG\njXDffaW4fKuONBytrXDssWn97rtw3XWZpiM1hcI2fvKyF08qZ90qr6xdSaqfel5zr7wyPdEL0uO4\nfQqThqu3bkNIT4XrddNN8MYb2eQkDSYv33EL2/iRJEmSNHwvvwy33VaKy39Zl0Zizpz0aHeAN9+E\nFSuyzUfKO2f8SJIkVeCMH2lgl16a7vgBmDED1q1Ld2tItXDLLXDmmWk9eXKa9TNhQqYpSQ3NGT+S\nJEmSaub112H58lLc3m7TR7V12mlw8MFpvW3bnneXSRqawjZ+8rIXTypn3SqvrF1Jqp96XHOXL4e3\n3krr6dPhxBNH/SPV5PrW7bhxsHhxKV62DLq765uTNJi8fMctbONHkiRJ0tDt3AkdHaW4rQ3G+FuF\nRsHZZ8O++6b188/D/fdnm4+UV874kSRJqsAZP1JlN90Ef/ZnaT1lCmzalO7OkEbDZZfB5ZendUsL\nrF/vtkKpEmf8SJIkSRqx7u7SQGdIW3Fs+mg0XXABTJyY1l1dsGZNtvlIeVTYxk9e9uJJ5axb5ZW1\nK0n1M5rX3HvuSU9XAthvPzjrrFH7KBVMf3V7wAFpy1evJUvqk49Ujbx8xy1s40eSJElS9WLc85fu\nCy+EvffOLh8Vx8UXw9ixad3ZCY8+mmk6Uu4440eSJKkCZ/xIe/r+9+Hzn0/rvfaCF1+E/ffPNicV\nx7x5cPvtaT13LjzwQLb5SI3GGT+SJEmSRqT8bp9zzrHpo/q69NLSevVq2LAhu1ykvCls4ycve/Gk\nctat8sralaT6GY1r7j/8A/zwh2k9dmzaeiPV0mB1e+SRcNJJpXjZstHNR6pGXr7jFrbxI0mSJKk6\nS5eW1qefnh7jLtVbe3tpfccdsHVrdrlIeeKMH0mSpAqc8SMlP/4xfOpTpfjpp2H69OzyUbEddxys\nXZvWixbBtddmm4/UKJzxI0mSJGlYyrfUzJ1r00fZKr/rZ+VKeO217HKR8qKwjZ+87MWTylm3yitr\nV5Lqp5bX3BdegLvuKsVtbTU7tbSHaut29mw4+ui0fucduPHG0ctJGkxevuMWtvEjSZIkaWBXXw2/\n+EVat7bCjBmZpiMRwp53/Vx/Pbz9dnb5SHngjB9JkqQKnPGjovv5z+HjH4edO1P88MMwa1a2OUkA\n3d1w+OGweXOKOzpg4cJsc5Ky5owfSZIkSUNyww2lpk9LC8ycmW0+Uq+xY+GSS0rx1VfDrl3Z5SM1\nusI2fvKyF08qZ90qr6xdSaqfWlxzd+zYc3ZKe3vaYiONlqHW7fz5cOCBab11K6xaVfOUpEHl5Ttu\nYRs/kiRJkiq7+WZ4/fW0PvRQOPnkbPOR+po4MT3OvdfSpbB7d3b5SI2sqhk/IYTZQAepUfStGOPS\nCsdcD3wOeBuYH2PsqnCMM34kSVIuOONHRfXuu3DIIfDyyylesQIWLMg2J6mS7dth6tR0hxrA6tUw\nZ062OUlZGdGMnxDCGOBGYBZwJPDFEMIn+xzzOeDQGOMngAXAihFnLUmSJKnu7ryz1PSZPBnmzcs2\nH6k/kybBeeeV4iuuAPv10geNreKYY4GNMcYXAEIIdwNzgGfKjpkD3A4QY3wshPDhEMLkGOO2vif7\n7ndHnnQt/OhHnXzqU61ZpyENiXWrvLJ2lVeN8r1FGoqRXnOXlt3bf9FFMGHCyHOSBtPZ2Ulra+uQ\nf27RovRUr1274LHH0myqadNqnp5UUV6+41bT+DkY2FoW/5TUDBromJd6XvtA4+ekk4aYoSRJUkb8\n3qIi22cfOPfcrLOQBvbRj6ZBzytXpvjCCzNNR2pI1TR+aszHAUiSpLzwe4uK680301YaSVK+VdP4\neQmYWhb/Ss9rfY+ZMsgxAPzhH7rpUpIkNb7vfS/4vUWF9clPwje+4TYv5ccDD8C3vw3vvZd1JlI2\nvve9/v9j1aBP9QohfAh4Fvgs8ArwOPDFGOOGsmNOAP4sxvj5EMIMoCPGOKPCuRrmqV7D3UMqZcm6\nVV5Zu8ojn+qlvPKaqzyybpVHjVS3Az3Va9A7fmKMvwghfAVYQ+lx7htCCAvS23FljPH7IYQTQgib\nSI9zP6OWfwBJkiRJkiQN3aB3/NT0wxrojh9JkqSBeMePJEnKi4Hu+BlT72QkSZIkSZJUH4Vt/HR2\ndmadgjRk1q3yytqVpPrxmqs8sm6VR3mp28I2fiRJkiRJkpqdM34kSZIqcMaPJEnKC2f8SJIkSZIk\nFVBhGz952YsnlbNulVfWriTVj9dc5ZF1qzzKS90WtvEjSZIkSZLU7JzxI0mSVIEzfiRJUl4440eS\nJEmSJKmACtv4yctePKmcdau8snYlqX685iqPrFvlUV7qtrCNn66urqxTkIbMulVeWbuSVD9ec5VH\n1q3yKC91W9jGz/bt27NOQRoy61Z5Ze1KUv14zVUeWbfKo7zUbWEbP5IkSZIkSc2usI2fLVu2ZJ2C\nNGTWrfLK2pWk+vGaqzyybpVHeanbuj/OvW4fJkmSJEmSVBD9Pc69ro0fSZIkSZIk1U9ht3pJkiRJ\nkiQ1Oxs/kiRJkiRJTapwjZ8QwikhhB+HEH4RQjim7PWPhxDeCSGs7/nnpizzlMr1V7c9730thLAx\nhLAhhDAzqxylwYQQLgsh/LTsOjs765yk/oQQZocQngkh/CSE0JZ1PlI1QghbQgj/FEJ4MoTweNb5\nSP0JIXwrhLAthPDPZa/tG0JYE0J4NoTwNyGED2eZo9RXP3Wbi++3hWv8AD8C/gj4nxXe2xRjPKbn\nn/PrnJc0kIp1G0KYDvwJMB34HHBTCKHiQC+pQVxTdp19OOtkpEpCCGOAG4FZwJHAF0MIn8w2K6kq\nu4HWGONvxBiPzToZaQC3kK6x5dqBv40xHgH8HfC1umclDaxS3UIOvt8WrvETY3w2xrgRqPTLsb8w\nqyENULdzgLtjjN0xxi3ARsAvempkXmeVB8cCG2OML8QY3wPuJl1vpUYXKOD3e+VPjPHvgdf7vDwH\nuK1nfRswt65JSYPop24hB99v/T+GPU3ruT3rkRDC72adjFSFg4GtZfFLPa9JjeorIYSuEMJfewu3\nGljfa+tP8dqqfIjAD0IIT4QQzs46GWmIDowxbgOIMf4LcGDG+UjVavjvt2OzTmA0hBB+AEwuf4n0\nf4R/EWP8bj8/9jIwNcb4es8MldUhhF+LMb41yulKwLDrVmooA9UxcBNweYwxhhD+CrgG+HL9s5Sk\npvU7McZXQggfITWANvT8F2opj2LWCUhVyMX326Zs/MQY/2AYP/MePbdtxRjXhxCeAw4H1tc4Pami\n4dQt6Q6fKWXxr/S8JmViCHV8M2BDU43qJWBqWey1VbkQY3yl598/DyE8QNq2aONHebEthDA5xrgt\nhHAQ8LOsE5IGE2P8eVnYsN9vi77V6/29eCGEA3qGORJCOAQ4DHg+q8SkAZTvIf0OcGoIYVwI4VdJ\ndetTPNSQer7E9fr3wI+zykUaxBPAYT1P/BwHnEq63koNK4SwVwjhl3rWewMz8Tqrxhb44Pfa+T3r\necCD9U5IqsIedZuX77dNecfPQEIIc4EbgAOA74UQumKMnwN+D7g8hLCL9ESEBTHG7RmmKr2vv7qN\nMT4dQrgHeBp4Dzg/xuhtsWpUy0IILaRr7BZgQbbpSJXFGH8RQvgKsIb0H8m+FWPckHFa0mAmAw+E\nECLpO/6dMcY1GeckVRRCuAtoBfYPIbwIXAYsAe4NIZwJvEB6cq3UMPqp28/k4ftt8HdESZIkSZKk\n5lT0rV6SJEmSJElNy8aPJEmSJElSk7LxI0mSJEmS1KRs/EiSJEmSJDUpGz+SJEmSJElNysaPJEmS\nJElSk7LxI0mSJEmS1KRs/EiSJEmSJDWp/wNxudY0qLmTNAAAAABJRU5ErkJggg==\n",
           "text/plain": "<matplotlib.figure.Figure at 0x7f17662a1400>"
          },
          "metadata": {},
          "output_type": "display_data"
         }
        ],
        "source": "interact(s1, sg=('delta', 'step', 'ramp', 'unit ramp', 'rect', 'triang'),\n         fd=('just delay', 'flip then delay', 'delay then flip'),\n         width=(1, 30, 0.25), delay=(-15, 15, 0.25));"
       },
       "cell_index": 3,
       "root": true
      }
     ]
    },
    "50fc202035f34cc4bc7a9169a2565f3c": {
     "views": []
    },
    "568620e9013148b3a911a8e96b8f41ea": {
     "views": []
    },
    "58ed5446104645de99d55ba725fbe835": {
     "views": []
    },
    "5c0cc94286d948e6a458467afb9057f0": {
     "views": []
    },
    "5fd32a97570741e5bc17dafc177c10b4": {
     "views": []
    },
    "61337189fa754523895dafee0032b06f": {
     "views": []
    },
    "6419596dc3d94bad8dc030259d69360c": {
     "views": []
    },
    "64a6a34e1dde4d9394b3552a344dc19d": {
     "views": []
    },
    "6515dfe3d6884f32b2ec533f17e91505": {
     "views": []
    },
    "6743696c363947898e88fcab49a93806": {
     "views": []
    },
    "68c7158bdf724e68928852862df55433": {
     "views": []
    },
    "6cfd69bf27684382b3e619d8c63f0081": {
     "views": []
    },
    "6e008ee57d8c47ef8569fd773c0ffff7": {
     "views": []
    },
    "7081b562b8c1473ebc25cbff1b0007c2": {
     "views": []
    },
    "721144903ca6493a98ce274e407f7697": {
     "views": []
    },
    "72520be503e048cf87da36140a3d9d1d": {
     "views": []
    },
    "7420d19d09e74ceab13525bc9f7c0200": {
     "views": []
    },
    "82292a641f78426591d49bd661504f30": {
     "views": []
    },
    "823edbf3afa4495e83af302bee700eca": {
     "views": []
    },
    "8968df15b02f4923a9d8051a532109df": {
     "views": []
    },
    "8977a0c8b5f14ff0b0c7c8f86c0bb592": {
     "views": []
    },
    "8a023527e03a437e9b0a5f182d2a12ad": {
     "views": []
    },
    "8a2275cb90824e0b8a86b9ebdb73d0e3": {
     "views": []
    },
    "8e64b432a78f4d9a9fe5f64f52213928": {
     "views": []
    },
    "912a861a0aa94db8aab6a55be873ddcb": {
     "views": []
    },
    "9411258b8da6424ab96dd990307fd0fa": {
     "views": []
    },
    "95e010a4795e420fafa9d2ffba24b499": {
     "views": []
    },
    "975e8f76442349b0a0be57c705a95e78": {
     "views": []
    },
    "99bfa4a87c3f48e28bb111355b6f2d4c": {
     "views": []
    },
    "9c0409e63db0408eb1b60a57b2760821": {
     "views": []
    },
    "a553be8663c5448ab3dba6e7a1b01f34": {
     "views": []
    },
    "a57aebf313974b019115c1a5cd530730": {
     "views": []
    },
    "a5bc1f8231304bf7b2602492d36c75f6": {
     "views": []
    },
    "a5ead1ea0c374b57aa8a72f6ee373a99": {
     "views": []
    },
    "a777d77c562448fe8bdce8d1c519966a": {
     "views": []
    },
    "ac7d6d357cb3414c9bc0e17be71c3afd": {
     "views": []
    },
    "ada926d81db34888bcad5bb825f59a06": {
     "views": []
    },
    "af6895715fc24e65bb1e3ef29a9e3c0d": {
     "views": []
    },
    "bc9af41862594e8f8531310c41164b99": {
     "views": []
    },
    "c11d1e3fae444b398fd2395a1d58c49f": {
     "views": []
    },
    "c17102b674f1435b8849d932e9b56b52": {
     "views": []
    },
    "c47537eaa7744919a253580a54dc0e48": {
     "views": []
    },
    "c731208529f1461299a7348bc56a1977": {
     "views": []
    },
    "c79f703437764d54bdabff715047a653": {
     "views": []
    },
    "c8456db6c45a45f48f2c408ca4db4f07": {
     "views": []
    },
    "d254f4c90e784c86bbc06c5f43327b2e": {
     "views": []
    },
    "df1c8484c31e4c5f9cde3447ef56fca0": {
     "views": []
    },
    "e05dedef60dc4126b5186cad11235a87": {
     "views": []
    },
    "e6dbb3fe912445f8a830a24927016370": {
     "views": []
    },
    "f1c82bc7bf324d32b7c2394feb94decf": {
     "views": []
    },
    "f2e6570cfffc4790a29002f7c52eabc8": {
     "views": []
    },
    "f4a8cf9b33f14a11ae16d99908968350": {
     "views": []
    },
    "f78c3f80fb514d04b10a531a516b137d": {
     "views": []
    },
    "fa4f0820c1ca4c86b13d3e2cbc30395d": {
     "views": []
    },
    "fcef9753bf19451aacf8fd52183e774a": {
     "views": []
    },
    "feba36503009438bb1bdff1ec54522d1": {
     "views": []
    }
   },
   "version": "1.1.0"
  }
 },
 "nbformat": 4,
 "nbformat_minor": 0
}
