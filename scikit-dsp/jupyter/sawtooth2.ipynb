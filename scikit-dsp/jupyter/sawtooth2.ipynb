{
 "cells": [
  {
   "cell_type": "code",
   "execution_count": 7,
   "metadata": {
    "collapsed": false,
    "run_control": {
     "read_only": false
    }
   },
   "outputs": [],
   "source": [
    "import matplotlib.pyplot as plt\n",
    "%matplotlib inline\n",
    "import skdsp.signal.discrete as ds\n",
    "import numpy as np\n",
    "import scipy.fftpack as fftp\n",
    "from ipywidgets import interactive, IntSlider, FloatSlider, HBox, VBox, Checkbox\n",
    "from IPython.display import display, set_matplotlib_close"
   ]
  },
  {
   "cell_type": "code",
   "execution_count": 8,
   "metadata": {
    "code_folding": [
     0
    ],
    "collapsed": false,
    "run_control": {
     "read_only": false
    }
   },
   "outputs": [],
   "source": [
    "def saw(N=8, width=0, offset=0, shift=0, center=True):\n",
    "    npts = 32\n",
    "    s = offset + (ds.SawTooth(N, width) >> shift)\n",
    "    n = np.arange(-npts, npts+1)\n",
    "    plt.figure(figsize=(20, 7))\n",
    "    plt.subplot(2, 2, (1, 2))\n",
    "    plt.stem(n, s[-npts:npts+1], markerfmt='bo', linefmt='b-', basefmt='k-')\n",
    "    plt.axis([-npts-0.5, npts+0.5, -2.1, 2.1])\n",
    "    plt.axvline(0, color='k')\n",
    "    plt.axhline(0, color='k')\n",
    "    plt.grid(True)\n",
    "    X = s.dfs()\n",
    "    if center:\n",
    "        X = fftp.fftshift(X)\n",
    "        kidx = np.arange(-int(N/2), int((N-1)/2)+1)\n",
    "    else:\n",
    "        kidx = np.arange(0, N)\n",
    "    plt.subplot(2, 2, 3)\n",
    "    mX = np.abs(X)\n",
    "    plt.stem(kidx, mX)\n",
    "    min_ = min(0, np.min(mX))\n",
    "    max_ = np.max(mX)\n",
    "    dr = (max_ - min_)\n",
    "    plt.axis([kidx[0]-0.5, kidx[-1]+0.5, min_-0.1*dr, max_+0.1*dr])\n",
    "    plt.axhline(0, color='k')\n",
    "    plt.axvline(0, color='k')\n",
    "    plt.grid(True)\n",
    "    plt.subplot(2, 2, 4)\n",
    "    plt.stem(kidx, np.angle(X))\n",
    "    plt.axis([kidx[0]-0.5, kidx[-1]+0.5, -np.pi-0.5, np.pi+0.5])\n",
    "    plt.axhline(0, color='k')\n",
    "    plt.axvline(0, color='k')\n",
    "    plt.grid(True)"
   ]
  },
  {
   "cell_type": "code",
   "execution_count": 46,
   "metadata": {
    "collapsed": false,
    "run_control": {
     "read_only": false
    },
    "scrolled": true
   },
   "outputs": [],
   "source": [
    "Nw = IntSlider(value=4, min=2, max=32, step=1, continuous_update=False)\n",
    "ww = IntSlider(value=0, min=0, max=32, step=1, continuous_update=False)\n",
    "ow = FloatSlider(value=0, min=-1.0, max=1.0, step=0.1, continuous_update=False)\n",
    "sw = IntSlider(value=0, min=-64, max=64, step=1, continuous_update=False)\n",
    "cw = Checkbox(value=True, description='DFS centrada')\n",
    "vb1 = VBox(children=[Nw, ww])\n",
    "vb2 = VBox(children=[ow, sw])\n",
    "vb3 = VBox(children=[cw])\n",
    "hb1 = HBox(children=[vb1, vb2, vb3])\n",
    "w = interactive(saw, N=Nw, width=ww, offset=ow, shift=sw, center=cw)"
   ]
  },
  {
   "cell_type": "code",
   "execution_count": 47,
   "metadata": {
    "collapsed": false,
    "run_control": {
     "read_only": false
    },
    "scrolled": true
   },
   "outputs": [],
   "source": [
    "display(hb1)"
   ]
  }
 ],
 "metadata": {
  "kernelspec": {
   "display_name": "Python 3",
   "language": "python",
   "name": "python3"
  },
  "language_info": {
   "codemirror_mode": {
    "name": "ipython",
    "version": 3
   },
   "file_extension": ".py",
   "mimetype": "text/x-python",
   "name": "python",
   "nbconvert_exporter": "python",
   "pygments_lexer": "ipython3",
   "version": "3.4.3+"
  },
  "widgets": {
   "state": {
    "00344488edf04ae0a7fae4586eab17c6": {
     "views": []
    },
    "008757a1bb504407a52ab6abf60c99c2": {
     "views": []
    },
    "00cfec7b2795444093e5e1191df4d4f7": {
     "views": []
    },
    "01072e6e05384dbab6e653516f388f2a": {
     "views": []
    },
    "01152b2d095545ad801ec0a92d675914": {
     "views": []
    },
    "022e74ebdd7c498395d0aeb69fdb3269": {
     "views": []
    },
    "032e44ad8e95406792954930999fac82": {
     "views": []
    },
    "036103b0745d4654a720e27225162645": {
     "views": []
    },
    "03c181fc6774436e83e03d33bfb122d2": {
     "views": []
    },
    "047808c6d06240e9a696b74c4a1aff02": {
     "views": []
    },
    "0519d443d15a4b1486ce6fe89f1c8540": {
     "views": []
    },
    "05794f2e140245b2b170d2e63ee9a460": {
     "views": []
    },
    "05980cdc546a43c0897883c140cddc66": {
     "views": []
    },
    "0716e69fc7bf4155885835072ec9bff7": {
     "views": []
    },
    "07d922da8429495b81c4f6f7340a68cc": {
     "views": []
    },
    "0825d4ea794344ebaf200fc9ecf86ff4": {
     "views": []
    },
    "0988cfffb2ca4029a38746bd4e2a56f3": {
     "views": []
    },
    "09be54be4d13432899667afdde518999": {
     "views": []
    },
    "0a3c1e5092444585bd6d57af5e6b6758": {
     "views": []
    },
    "0a64d16a5b3f4b1ba0d2467d8c19b380": {
     "views": []
    },
    "0a7b8f80a76d49f68bfab8971508f152": {
     "views": []
    },
    "0b312794bbdf41ee80136bee6db6e948": {
     "views": []
    },
    "0b48ee414d1342bcaa42acf0db33d275": {
     "views": []
    },
    "0b8518f72bb64f788318b3def9f2fd09": {
     "views": []
    },
    "0ba1a5307d2b4938815a04e4f0f725e5": {
     "views": []
    },
    "0bea68992c784703946bc168ef6dcbc9": {
     "views": []
    },
    "0c660a32c6d746e7a5502247dbaeb874": {
     "views": []
    },
    "0cdc5c2cdc1343c1b352d6474d656865": {
     "views": []
    },
    "0d39df83ce3645a1be4793100041fc62": {
     "views": []
    },
    "0d413cad650f400aaa8279433724353f": {
     "views": []
    },
    "0df43907c9674c83af844aa0dd463bac": {
     "views": []
    },
    "0e969db524834fd9a81bb5021049b57a": {
     "views": []
    },
    "0fd51768dec04ab08aac6b3f8d1fa261": {
     "views": []
    },
    "108a0916005548f28499847661344b5c": {
     "views": []
    },
    "10a690d6e62f4e349b0d8c4eb29ae2c9": {
     "views": []
    },
    "11aacca1c623496780445afde5251162": {
     "views": []
    },
    "1288dad7baad481c9846d3267b7818b0": {
     "views": []
    },
    "12fa563dac2942529eb980a3ed76e3a9": {
     "views": []
    },
    "14b1c2597ffa42ae9bed3a3ecfd127d3": {
     "views": []
    },
    "1502436d984741b29be37cc263b94793": {
     "views": []
    },
    "15314cc1f91d4a36a8455eaa1ec2785f": {
     "views": []
    },
    "1570c123a03f4c77a784b6a3c4950dda": {
     "views": []
    },
    "15dcbb6acd724bbe99286ce86e5a9460": {
     "views": []
    },
    "15e0177b7f8e4ca49bba2ac660ecc5f7": {
     "views": []
    },
    "164aadc5f6424853a179335e74e5b8d4": {
     "views": []
    },
    "16665c0f969e4d6ea91f161647fb4b7d": {
     "views": []
    },
    "16fb33ce8b4549168e5adbdada0b92cf": {
     "views": []
    },
    "176d2746161f45708641a67aadb634cd": {
     "views": []
    },
    "181833ee0c654004a6dbb9b3f0e4802d": {
     "views": []
    },
    "184ee54739554f1b9413499ebaf1a178": {
     "views": []
    },
    "18818bcd58ec41cd95f0cde9f40c5386": {
     "views": []
    },
    "19a55653a92348dfb93ba4188e86e55e": {
     "views": []
    },
    "19f73651651c4822a2e3afdb07699de1": {
     "views": []
    },
    "19f8287f3fb54558b450c49289f9a4b0": {
     "views": []
    },
    "1c0c97505032476081b517ea2b492b4d": {
     "views": []
    },
    "1c32bfe8f99d4b638d00e4d9fa83f86d": {
     "views": []
    },
    "1dc9bce7a07c4ff79f2fc7a76711d079": {
     "views": []
    },
    "1ea9aea0ba37493aa69013617a3fcabe": {
     "views": []
    },
    "1eabff3f46b2465983f9c4913acee28e": {
     "views": []
    },
    "1eeb5ccb8207406aae0a3a46ed5f0651": {
     "views": []
    },
    "1efabc1f2a2444b69169c355dd9b840b": {
     "views": []
    },
    "1f9527bcfd364b8c86aeb83f45cacf3a": {
     "views": []
    },
    "1fc30f1fdefc4c46855137408ba4acb1": {
     "views": []
    },
    "1fea8f1a664541e8ae8eb682f5c380bb": {
     "views": []
    },
    "20bb6a0ec57e42de834ee28d6e520b38": {
     "views": []
    },
    "21d8d47bd81a4ea3bb2521368f5f3db0": {
     "views": []
    },
    "2297704df7044ea6be154fa40c07f5f7": {
     "views": []
    },
    "22bdf12e5548431ab48b05d9d0d9d5d7": {
     "views": []
    },
    "23c1a15846f548628e03cda19477365d": {
     "views": []
    },
    "2418de60331d4506ace9417f5110f240": {
     "views": []
    },
    "244c98e74cdf4f0eab8debcb6e6ad0c7": {
     "views": []
    },
    "246fd56f4b1844f4a9d9f1521fe739b1": {
     "views": []
    },
    "24be74b5708e4f11ac55576e3feea243": {
     "views": []
    },
    "252d45b391894c9795e25aa7f996c3c1": {
     "views": []
    },
    "25d39c277e83480b9f0876ffa79848f6": {
     "views": []
    },
    "26282884021e41249c2bb9d491a8af5e": {
     "views": []
    },
    "27311541530f466a9c15ab9091e70408": {
     "views": []
    },
    "27b0dc3a59cb47cbb5a657d5bd2909c3": {
     "views": []
    },
    "27bbe22c7f50404e80bae48d859c7c49": {
     "views": []
    },
    "28074ba1c57c4406b0ff6d5e2c85c7e3": {
     "views": []
    },
    "285ad7fe94ec471c8bff8df98d88b6b5": {
     "views": []
    },
    "28baa458e4bd4323bc18d8ccbe6f93a8": {
     "views": []
    },
    "28cd94cfb04e44848e1f702f5b8ef120": {
     "views": []
    },
    "29e81b237c9c4005b739e9c9c6eb3a2c": {
     "views": []
    },
    "2a219e5b4d89440c98d704b470e882f6": {
     "views": []
    },
    "2a288e3528724749bff77f69515751fa": {
     "views": []
    },
    "2b47be6a97e34f30bc96fb54146be77e": {
     "views": []
    },
    "2b4fcb60d7a849e5952d67d0d4fbf3c7": {
     "views": []
    },
    "2c1b4b9e977c4304a6eefdcf45b0f974": {
     "views": []
    },
    "2c37b6c8224e42ad94479220d5382e51": {
     "views": []
    },
    "2cc0d13c946748f4a593e4f3d468dbba": {
     "views": []
    },
    "2e914c941ec6475e928d9f5fddd4e5a7": {
     "views": []
    },
    "2facd9cca03a407fb304d1d031798462": {
     "views": []
    },
    "3037fa29791e45aaa6d86bc904277732": {
     "views": []
    },
    "309e0be99c424c229ab7ea09f3d42908": {
     "views": []
    },
    "31686fad665a4718a4963d3429e85212": {
     "views": []
    },
    "3180e24472424a1db8cd03d9057b5d66": {
     "views": []
    },
    "319700f328e8418696ced14922edfcbe": {
     "views": []
    },
    "320fb81aa52545628db8c7bceaca82d6": {
     "views": []
    },
    "32841f46bc884d41be4870defc72bd2b": {
     "views": []
    },
    "32a573587685462ba6c677dab87b8781": {
     "views": []
    },
    "336c86318edd47c98e596229aed45ce9": {
     "views": []
    },
    "33a936bffa2f4710be6e18eac47891b0": {
     "views": []
    },
    "348defb6693c4f8d873b870870852cdb": {
     "views": []
    },
    "34a1be6e0366446a91ce3487a63ca22f": {
     "views": []
    },
    "351324ab8fb64c628dab05bf2ea5de5e": {
     "views": []
    },
    "3530f61b480142b181759416af580917": {
     "views": []
    },
    "3549d89fffe34ba08c486e017a2ee36c": {
     "views": []
    },
    "355723b1a9e24c6b9567a3940e689b7f": {
     "views": []
    },
    "3561d21ea48947e2ac7c72a8fe68e5e1": {
     "views": []
    },
    "356b7dbad5fe4c8698a4e00089c0e16e": {
     "views": []
    },
    "35903c6be9db40d29f905ffcf4b31add": {
     "views": []
    },
    "35fcbd02ebc14cc88ac2daa892e785d3": {
     "views": []
    },
    "370ea030031b4d85bbef64caf6eb88d7": {
     "views": []
    },
    "372a94853ff947b1bebcf292a64beda6": {
     "views": []
    },
    "3757133e86af4222a1dcdeec671c0207": {
     "views": []
    },
    "37b15d98396b48b4a54658b1a660ee79": {
     "views": []
    },
    "37ed95b2c59d41b2a44cdaf4b473ee1f": {
     "views": []
    },
    "38152ac969f64827b9847c7b52d9749f": {
     "views": []
    },
    "383019fe6f4242d2945e3a2103416d09": {
     "views": []
    },
    "384347f704154d869d9415d62ddff19f": {
     "views": []
    },
    "38543cea6105483da6f0484067be8fe9": {
     "views": []
    },
    "38cb00fed7b54f7aa4a324d99c325a85": {
     "views": []
    },
    "3957783b8dcb4b5a9196b92310722748": {
     "views": []
    },
    "39c5b81d83134fe2ba172d01e0b0cfe4": {
     "views": []
    },
    "39d8f1ca4cca47dda8f56b9e911a09dc": {
     "views": []
    },
    "3a00f2f87e3b4cac82c97ece33a36166": {
     "views": []
    },
    "3a04fac78d5c4607ab962a54fc670455": {
     "views": []
    },
    "3a0ace6309524a7dbf8e52365c47d5fc": {
     "views": []
    },
    "3a1c2f18c043431fada02669910cc1c0": {
     "views": []
    },
    "3b0ff9b3e10f41a9a82269999551627d": {
     "views": []
    },
    "3b44861e8a344459b3868b767d9e8ffe": {
     "views": []
    },
    "3c5cc6c3f7fb496fb05b393ec0dc5865": {
     "views": []
    },
    "3ca1d022a5c84b6d9bf4d830538f34b0": {
     "views": []
    },
    "3dd4da46d4ca47509a353f4fe2df17eb": {
     "views": []
    },
    "3e5fcd1037b842a08a76db0d4906de73": {
     "views": []
    },
    "3e7ca863b2e1470aa942569a7a960c06": {
     "views": []
    },
    "3e82b793bbb34a04852cf426c61396c2": {
     "views": []
    },
    "3eb8f248db7d4b40bb328c9c78154a7b": {
     "views": []
    },
    "3ed7d531b02342cea8f0d2ea73ffdb62": {
     "views": []
    },
    "3f09bc7c49a442b78dd844b4a6394270": {
     "views": []
    },
    "3f1766a7f56f4af29343e2c1aa32eba6": {
     "views": []
    },
    "402de90c74c341ca916de486eb7df1e7": {
     "views": []
    },
    "40525acc5c6c49ae9a0201c4ad876c28": {
     "views": []
    },
    "4141c45b1bab4b6c8d4e90f9f5653d70": {
     "views": []
    },
    "4173084b67c34f63bc49f9d5f2b99445": {
     "views": []
    },
    "42324f3e55144136a77858fe73d72dec": {
     "views": []
    },
    "42d215ebb69d4ae19d6660a7a0a03b6f": {
     "views": []
    },
    "42e25f2b18e349e3871f9622eed81a89": {
     "views": []
    },
    "4349ecad79fd48dab914bd4b611ef99a": {
     "views": []
    },
    "4355844ade134d88bd13bade3a2f4ce6": {
     "views": []
    },
    "437eecdfb0e34570b917d795d4c709fb": {
     "views": []
    },
    "4401840a7f2442bfa2d5f5ba9bbc7248": {
     "views": []
    },
    "4412c48a875b4c9f85a92e2387731e07": {
     "views": []
    },
    "44a8f4d30ccc407085e3d9721d079b04": {
     "views": []
    },
    "4541364eb23f4ed4bbceec575c18b921": {
     "views": []
    },
    "45c19ba844754f268091c95b047b08c4": {
     "views": []
    },
    "46a84124f7c4466e9c4cd4a39bfd5c50": {
     "views": []
    },
    "47e0e7c5e36047dca92ccf62c5013dab": {
     "views": []
    },
    "4926a7c38c494279852bf20aeab30d0e": {
     "views": []
    },
    "49662c98ab5e4d98ab67483c63e952a0": {
     "views": []
    },
    "4a21864c41f547a88b5315ebb367a269": {
     "views": []
    },
    "4a50de4b2cd44a348ced9448c9459ad6": {
     "views": []
    },
    "4a6ebe66a300440b9d46f03370dda8bd": {
     "views": []
    },
    "4ab49d0f917749e08c8aec2549378b9d": {
     "views": []
    },
    "4b5363798db84ff89c0d848c0ff0cfab": {
     "views": []
    },
    "4bbf1fa05b4d4517b0b9a873da89d55a": {
     "views": []
    },
    "4bc6dfee25d34b5e8ed1a52a2bdc12cf": {
     "views": []
    },
    "4c4e3e9603234533817d1de3e587caab": {
     "views": []
    },
    "4c75582efb5b4cfd9c429c3e460b3417": {
     "views": []
    },
    "4c85490d93ea4fff82348d5f46664ae0": {
     "views": []
    },
    "4c8c3b895cb44db98fc64850b9421e3a": {
     "views": []
    },
    "4cc3316c6e4440088906667a6eb163ae": {
     "views": []
    },
    "4d6051871b374657af58aaf6ed6ab01e": {
     "views": []
    },
    "4db98b074792407baa3adce13bf8e09a": {
     "views": []
    },
    "4de2bf4dd3a74154b6f1556529b712b7": {
     "views": []
    },
    "4e49347d8c724d7784b4d58ade28bf78": {
     "views": []
    },
    "4f917897174f42c18e9ad613dcc26e61": {
     "views": []
    },
    "4f972711f2154d1693a13d17d0a9d154": {
     "views": []
    },
    "501ffa9a425346139455a9cc6f90ae8d": {
     "views": []
    },
    "507adb369b38467ab63953002ec40c0c": {
     "views": []
    },
    "51348c508a6c43778fad25c4da330b8a": {
     "views": []
    },
    "514f9769bf664ee49b1e8e05a2996dd8": {
     "views": []
    },
    "52027e371a954c918b73e9523b326afc": {
     "views": []
    },
    "523e84b29b894ae381134bcd418c6407": {
     "views": []
    },
    "52851e134838407e934158812c77782d": {
     "views": []
    },
    "535e1e5c2b08432cae027bf4f3ef1145": {
     "views": []
    },
    "5381de69273a41c4b37a74e23f89a5c6": {
     "views": []
    },
    "53af87d6afd040d6a2424ab16e7ae6c4": {
     "views": []
    },
    "53e907546d184eaaa33af0cf708230e0": {
     "views": []
    },
    "56538518643145088d030ab0e544e584": {
     "views": []
    },
    "568dca0b34af46c6b5fd338f58a155cf": {
     "views": []
    },
    "56bfdb7e6ec44caea8b4bbc2a5898b60": {
     "views": []
    },
    "56f36c60dcb9449f856fdbf4f67431d4": {
     "views": []
    },
    "57613c96a0744faab6a72e1de86d4fdf": {
     "views": []
    },
    "5789b7c2414146f5ab4ef6420ac36b7f": {
     "views": []
    },
    "57cb67aaf62d40f39b503f366f821181": {
     "views": []
    },
    "5827f39a7bcb4f5bb89030f8b5cabab0": {
     "views": []
    },
    "5861a421394048bc8f8e892b4d210061": {
     "views": []
    },
    "58ff542d9a094affb00485667c93f826": {
     "views": []
    },
    "5adb878f14954bc7b426f565e50827d0": {
     "views": []
    },
    "5ba8115f535c4fd2b4561f6293c7392b": {
     "views": []
    },
    "5c16348a75f7472a81db30b07b59fb99": {
     "views": []
    },
    "5d38589c7f934e94b8250191adb9ad64": {
     "views": []
    },
    "5d63bea8992149c0ab049d6b9c0a477e": {
     "views": []
    },
    "5e366afcb6f84a0f88e0063dc239c8c2": {
     "views": []
    },
    "5ec31f2089524f72bdbd9d15bfc2e0e3": {
     "views": []
    },
    "5ef997de588b4c68b6a040005c84542e": {
     "views": []
    },
    "5f4a8d72e4ad451fb9b6cb354cab22c2": {
     "views": []
    },
    "5fa9a46e712340dcaba9feb9987d84b3": {
     "views": [
      {
       "cell": {
        "cell_type": "code",
        "execution_count": 47,
        "metadata": {
         "collapsed": false,
         "run_control": {
          "read_only": false
         },
         "scrolled": true,
         "trusted": true
        },
        "outputs": [],
        "source": "display(hb1)"
       },
       "cell_index": 3,
       "root": true
      }
     ]
    },
    "60625564b9014698854927c4ee592bcd": {
     "views": []
    },
    "60f6d8ccf8c9401183fefd43cc61df29": {
     "views": []
    },
    "6114cafedf744b85b0685a530c312869": {
     "views": []
    },
    "621bc30eeda04036964b5d634e1f3a44": {
     "views": []
    },
    "6235bfac46e9408d8c90ee444da5f260": {
     "views": []
    },
    "624690e3dd32487e96086bd8c076df17": {
     "views": []
    },
    "6334601dbe484bdb8b2181b4707b7039": {
     "views": []
    },
    "63408ddc947f478382cf8445f7dd90bd": {
     "views": []
    },
    "6351203e9f594395b17f16f3b729a6c9": {
     "views": []
    },
    "64396b063ed64e7b89c94f3ff6460308": {
     "views": []
    },
    "6442beb159904a61af32c867bff84051": {
     "views": []
    },
    "647ccfdbf3044c8cb6a4a6313d986fa8": {
     "views": []
    },
    "651880649ca14098a1b597605d18a5c2": {
     "views": []
    },
    "65d5a6ecb5f8447cac39aa85895ea5b2": {
     "views": []
    },
    "665da81157d4435298b426adee8b8052": {
     "views": []
    },
    "667b19100b7d4e06a37ed0a0ea1a90fe": {
     "views": []
    },
    "66ac925b5328456c8b66ea694663d38a": {
     "views": []
    },
    "675b1633a83b492181e18657e2717def": {
     "views": []
    },
    "6806f7a3942c466bb66be67d943ab3d4": {
     "views": []
    },
    "698c87ff62784f3898596d768602aac3": {
     "views": []
    },
    "69e12311edd94d128118cedc2dfa7c36": {
     "views": []
    },
    "6b1d108afa774cd6ac6d0bfe96ac0104": {
     "views": []
    },
    "6b55404aa5d943018355bb89b637d9ee": {
     "views": []
    },
    "6b7f8c3a21594138ae9740fbfb50a059": {
     "views": []
    },
    "6b891137b6b4497a84d2bc2067c00398": {
     "views": []
    },
    "6c99cb5bc9cc4a799cfb46167d71555b": {
     "views": []
    },
    "6c9db8a183c3494691d8c2afa21e664b": {
     "views": []
    },
    "6ce86cf41e2349e28123c2d1f21c9b69": {
     "views": []
    },
    "6d04014b3829487fa840d3506e5c90dc": {
     "views": []
    },
    "6d0b9f976f7340cdb471ccd58d19f3b3": {
     "views": []
    },
    "6e8222c00b2c4313856c409fde54d42e": {
     "views": []
    },
    "6ea0166100c044d49b6c3327bd5e2906": {
     "views": []
    },
    "6eb5996aa0ee473ab084f31ac52617ae": {
     "views": []
    },
    "6f0c7698e0a840d180f27f37d96f92f0": {
     "views": []
    },
    "6f15b8e1237c4bb98a2ba907aa3423db": {
     "views": []
    },
    "6f55d05b050c4146a149245c2e2ab83a": {
     "views": []
    },
    "6f7e97e88f4844f08cb2d8e3d7efadc4": {
     "views": []
    },
    "7008f602c68b4d2c89253a2144cd1e18": {
     "views": []
    },
    "708af0b04d1e49cbbdcb58321e638ff7": {
     "views": []
    },
    "717c1cfba0ee44cf9b53fd579434235b": {
     "views": []
    },
    "71985ab6dbb14068bc25a66346260248": {
     "views": []
    },
    "71b6c2ec3a1044d892a135e71253cf99": {
     "views": []
    },
    "71cc4974f1a04303bd0442dd53cf7597": {
     "views": []
    },
    "723a3c7691be4ac6aeb1909ccf3bee0d": {
     "views": []
    },
    "729b1bba78ff460e8924cb91a8cb2c95": {
     "views": []
    },
    "73439ea7875244c595b09cf50675f030": {
     "views": []
    },
    "73c3770aea3842a49ca93048b58b418f": {
     "views": []
    },
    "73cf106e2459494381016cac97cf09d8": {
     "views": []
    },
    "7515f6ab10454e48a3651a3b0306320a": {
     "views": []
    },
    "75b478f4f17d4409b196ff014f23f00c": {
     "views": []
    },
    "75bdfa19b5174f37b20a7f672af1f8c1": {
     "views": []
    },
    "76432c4ee868481280d7895283f49e4a": {
     "views": []
    },
    "76c816d7866f4f2593761bcd476e3e3b": {
     "views": []
    },
    "77f36ca6cfcc4fa9bb49c2c2db80c080": {
     "views": []
    },
    "7893db77e69b4322bdf9a61921f7f964": {
     "views": []
    },
    "78a6ec02a1594f2290e938f86e1a116d": {
     "views": []
    },
    "78dfa00d75c74b89b0bb34b50fcc2cf9": {
     "views": []
    },
    "7abbf641ebfc486481d307717a6a4501": {
     "views": []
    },
    "7ac8c3d95caa4d7daf1a2e7f954019f2": {
     "views": []
    },
    "7baee77ef89b483898fa293e356b2f33": {
     "views": []
    },
    "7c541e671504446fae9edbcdcf55a3b6": {
     "views": []
    },
    "7ca1535d63364945816a52117043e727": {
     "views": []
    },
    "7cdb1afa9d9449a8b924e3c45045aa44": {
     "views": []
    },
    "7d6e866776d247008fbd027a006599a5": {
     "views": []
    },
    "7e6a9e759aa14963adbda0b3ef335f65": {
     "views": []
    },
    "7f0ab4f4ce6c45849d4819afbea1b37b": {
     "views": []
    },
    "7f95e297194445ce80949b97dcb7dee8": {
     "views": []
    },
    "80eb13666fc84197af378700022882c9": {
     "views": []
    },
    "82cbb2a2caba4fc9b8759a1e6e426a3b": {
     "views": []
    },
    "84074aef502b4beb9539a47b3b46444c": {
     "views": []
    },
    "848f3edb8ce842c5acfc94324675f5d1": {
     "views": []
    },
    "84ded3524be742e1ad3a9f7bee5f8921": {
     "views": []
    },
    "855d32d67d99404ca327de31ea0d8900": {
     "views": []
    },
    "85cb2498b422472c8d3d7483675a7524": {
     "views": []
    },
    "861765646d584e33b4105ac1fdc11afa": {
     "views": []
    },
    "86a4fdee530844f6a402cec0ceca4f0d": {
     "views": []
    },
    "86de8a1a2f6540939c10bb2e1892f4a0": {
     "views": []
    },
    "870260801f6a4e0ab156f20aa25a7298": {
     "views": []
    },
    "8750e438ac0c408abf7b49576e41635f": {
     "views": []
    },
    "87894d8ef91040cc9c43d345dab838dc": {
     "views": []
    },
    "878b7092d2ed41dfa7aeb238733d9c09": {
     "views": []
    },
    "8817a8832a5b4969a8b754373cac21cf": {
     "views": []
    },
    "895dec48119d44f3a96c4af5ecf7772b": {
     "views": []
    },
    "8989294d8e2b4c3799dd42212b6fe205": {
     "views": []
    },
    "8a04035b4f494b20a1947bd35c44fddf": {
     "views": []
    },
    "8ac9ae251da3406a8159f5add075762e": {
     "views": []
    },
    "8ace19c4040e4eaa84a5f13a4a083941": {
     "views": []
    },
    "8ad02a24620447c79f424687b3af8841": {
     "views": []
    },
    "8ae598dd75964c4585db0babad31c1da": {
     "views": []
    },
    "8bca978fb40e4cef9cc12561c155c5a6": {
     "views": []
    },
    "8bfe6e8aa290422aa23dbf52d536d678": {
     "views": []
    },
    "8c8857851e6940efb964ff48e0db7275": {
     "views": []
    },
    "8cd88c5e21704383a0239b89924ae8d4": {
     "views": []
    },
    "8de0d608c40143c6b814c2eabd676b35": {
     "views": []
    },
    "8df702787d8b42418ab04c05daf41f86": {
     "views": []
    },
    "8e48e523cdfe4d859d2a0ac853c401df": {
     "views": []
    },
    "8f0c9a4c559c45038ab787dfd328c12b": {
     "views": []
    },
    "8f3436a181084f9895234dfd8b1f030a": {
     "views": []
    },
    "90037be5eaf04186a3bff2276f2a1935": {
     "views": []
    },
    "9004eadefd744d999a12fe1cb59e2f82": {
     "views": []
    },
    "900f7c8fff98438b88975a783c59ffbd": {
     "views": []
    },
    "90380cddba964d25b91fe7f2289b26d9": {
     "views": []
    },
    "907e87ff2b42425c98ce0b1975d3237b": {
     "views": []
    },
    "90b36d10efb74a48b09ef66828b2c43a": {
     "views": []
    },
    "913f422541eb4c7da80453ec590bf1ab": {
     "views": []
    },
    "91441211377f45a0bccf71525580c94c": {
     "views": []
    },
    "91a5034118cd4d4886f0cede97d65cff": {
     "views": []
    },
    "91aba830357b4453a55b405a7fd9d8c1": {
     "views": []
    },
    "91e45df4531944de8b88854f9fe4f78c": {
     "views": []
    },
    "934c78a35727458296398e2c6a80797d": {
     "views": []
    },
    "93cff5cc17c74dffbc01596240d1e315": {
     "views": []
    },
    "945aeea4a02649b3a4afefde216eda6e": {
     "views": []
    },
    "94c230f9927f4f26a4d8ca640e8ceed3": {
     "views": []
    },
    "950ff8418c5b4cb4aafa05e5c8993139": {
     "views": []
    },
    "956baaa12bcf4d41a947951d2409d4c5": {
     "views": []
    },
    "958484598b2242ff973ec747359573cb": {
     "views": []
    },
    "95cf57bed9624afe8a77dd2780be694f": {
     "views": []
    },
    "96dc2d84617a41b18cabd5d0bcaade91": {
     "views": []
    },
    "9772c34390e84886b3cbbeb3aaa40be6": {
     "views": []
    },
    "99a3b0609b2644bf830f800ffe30f539": {
     "views": []
    },
    "99d05b5853ec48c3b699b9b213fd9d88": {
     "views": []
    },
    "9a0ac5585c7d450eaade5f58ee5c5621": {
     "views": []
    },
    "9a98945b8cc7439a9ef1353dd05f0c49": {
     "views": []
    },
    "9b224569af7e48d5a051e0f2201a7aeb": {
     "views": []
    },
    "9b268cd00d434d7d9e4bc216a534918d": {
     "views": []
    },
    "9bf5efe0c0af40788bb2affe7852aadf": {
     "views": []
    },
    "9d1d0db26b484b4d96080ac04282e701": {
     "views": []
    },
    "9d5e15f32897453a8992d67ce57f3b4b": {
     "views": []
    },
    "9da0857640494c63a5bde6b89a6e1200": {
     "views": []
    },
    "9e1cdf0bbbcc41718cecdf232a86888b": {
     "views": []
    },
    "9eda7b6886554489839c8cf0f0b8ac5f": {
     "views": []
    },
    "9edcc5dc73d74eb79fd9ccb9d62559b0": {
     "views": []
    },
    "9f18899c5d084fe6a1024806719debe2": {
     "views": []
    },
    "9f5b5bf74b5440d5910d90dfc1e88cb0": {
     "views": []
    },
    "9fa9375c6fa84b55a7c0df634c1081a5": {
     "views": []
    },
    "9fd3522d7b674af69527a05fb0547444": {
     "views": []
    },
    "9fe394cb30594dd6b883473d8ff8f59c": {
     "views": []
    },
    "a05bd1fce3d64b1ba8a7931151679334": {
     "views": []
    },
    "a06d777e9214477894287ea18c58e8b8": {
     "views": []
    },
    "a0ac5cbadab643f88885ac10be76f41a": {
     "views": []
    },
    "a0c81563b05f4dfcad2ba9f9b40ca6f8": {
     "views": []
    },
    "a148a7de03b64e6995b5330f281355d0": {
     "views": []
    },
    "a16109ba1ab04c11b8f48b8e7b848a48": {
     "views": []
    },
    "a2bc0253c95746f2902a5609ec48dd60": {
     "views": []
    },
    "a395bb4d219149b384ef1f915bae9681": {
     "views": []
    },
    "a49dbd77798f40c29f2a4dd0c174c4c6": {
     "views": []
    },
    "a4b70892ec8b4c89a4f5df188d76c214": {
     "views": []
    },
    "a5488e4ff07a40ca8153ff4fe0f06eca": {
     "views": []
    },
    "a63f70b509074d11a30b549681246a6f": {
     "views": []
    },
    "a6b5679c8c0243a8b0acb1b88a101648": {
     "views": []
    },
    "a6d30f84d0064b2f8ecef14a983a10fc": {
     "views": []
    },
    "a7003ba9d30043e489239747a6e99f41": {
     "views": []
    },
    "a816d69418d7411089502b88d55d37e2": {
     "views": []
    },
    "aa8561335d914f59a522c526c6d4ca4a": {
     "views": []
    },
    "aac455ea877a467ebc86b7200697c11a": {
     "views": []
    },
    "aafe8bcf6fb74a758a3ef9b5bbb3eefd": {
     "views": []
    },
    "abd5fdd6a5cc4dbb98bbc5c5f187b809": {
     "views": []
    },
    "ac54973090e3451abcc6a6f4e1819fbb": {
     "views": []
    },
    "ae6eaea21a87426989a234eac8d93a93": {
     "views": []
    },
    "ae8884411a6049f3b64b3b77ba05e4af": {
     "views": []
    },
    "aea9b8c9c71140f897da6d2bcb9a0436": {
     "views": []
    },
    "aefcfc8e29594406b47bc5672c035828": {
     "views": []
    },
    "af2eea8443a4466a8b55475ec310a15e": {
     "views": []
    },
    "af3990cac8fc4dafb43a143ee05abd08": {
     "views": []
    },
    "af7071c309294be6a9aaf2b53644b001": {
     "views": []
    },
    "afa61bd75e064291bedf2601dfbd74bd": {
     "views": []
    },
    "affd4599ed88436aadc0fc0461ecf32c": {
     "views": []
    },
    "b08326877e93442a90d2955a05cbf2b9": {
     "views": []
    },
    "b0d5e6e92cf24988baf2cc1a150ce52a": {
     "views": []
    },
    "b0f272cb97ce4cc08fc8873d5036403a": {
     "views": []
    },
    "b10dc117b4f7465cb556804b2ebe1331": {
     "views": []
    },
    "b1eb34ae341b4191b1ec6e4ce2ac2428": {
     "views": []
    },
    "b2242af8dec64396ad18d4d58cb1b7ca": {
     "views": []
    },
    "b23a1b53e8e04c638cfa36ecc8d24390": {
     "views": []
    },
    "b23cc4a6456f48af8218078641ef8492": {
     "views": []
    },
    "b2d3f38122b54a8e99e901827f0a1046": {
     "views": []
    },
    "b447cc492b0240189b7d4dc1be89fead": {
     "views": []
    },
    "b490df8439ff4e92bdbb88f11508b79c": {
     "views": []
    },
    "b4c9cc0ee7f944e4ab0bcb8eb6d2ec04": {
     "views": []
    },
    "b4f8d222c70e4a41af48e0f2a799f9c7": {
     "views": []
    },
    "b5b0bb528e6345428485fe2a5ad73b3e": {
     "views": []
    },
    "b64369f9c1f440898b0508283cd9771b": {
     "views": []
    },
    "b89e5406c0024e65a6f6dd49a1ab2e2b": {
     "views": []
    },
    "b90384c6fb484a8eb72febea184cba0f": {
     "views": []
    },
    "b96aa48bfcc14a57b25ba8dacfa26d04": {
     "views": []
    },
    "b9ae5ce298fd429d9cd55e0465ce4163": {
     "views": []
    },
    "ba173c99918a45ef80b608816e0f5735": {
     "views": []
    },
    "ba715796583b44a6a18197a739940973": {
     "views": []
    },
    "ba758903e9d74353acef6962aab3c44b": {
     "views": []
    },
    "ba77a83d23e841db880a8ef8af4438d9": {
     "views": []
    },
    "bb0d452d222949a7b611acca060bd42e": {
     "views": []
    },
    "bc0799789c3c416eb9dcacd1117b292a": {
     "views": []
    },
    "bd29aed106b54fda910a55479776a0ce": {
     "views": []
    },
    "bd42a326031446d09fcbc769e3c76922": {
     "views": []
    },
    "bd92b3f8d2c948d6817f12226ab333e3": {
     "views": []
    },
    "bf0484f700314ab7ac4dc9a5f044feb8": {
     "views": []
    },
    "bf54c18d9fe946529f9aebe2eaa4adef": {
     "views": []
    },
    "bf68a3d06c5b4ceba3fb228ec2813173": {
     "views": []
    },
    "c009fd01bd434523b855cf38d6977133": {
     "views": []
    },
    "c02164bf1f5b43f6804959916ea96da9": {
     "views": []
    },
    "c0bc6c6815aa4f94b6a910f7619f78e9": {
     "views": []
    },
    "c0d2c6336d17466db6737467e7fdbf78": {
     "views": []
    },
    "c11ce36d821c4efb8f2f6a5fd9ae8190": {
     "views": []
    },
    "c13edfb5df604789a8cb2c8f0e58cb0c": {
     "views": []
    },
    "c17f0b16f1de4d10b501a8b9a54322df": {
     "views": []
    },
    "c21e290893d94862beb29646179503d5": {
     "views": []
    },
    "c2e5cc215b0c46528cba666c40d0fa2f": {
     "views": []
    },
    "c2fce23d9f394f0a9b6d412226bb6257": {
     "views": []
    },
    "c4092dfa2e5044f3b0e902f174716e23": {
     "views": []
    },
    "c43ed4055a1e45748cfcac18e8cbbe92": {
     "views": []
    },
    "c47b22c0f53249caaff7f2856e71c0d9": {
     "views": []
    },
    "c491726d4dac461f88551e5b738a4b39": {
     "views": []
    },
    "c4f71f684fca4b3f89859f9560d2124b": {
     "views": []
    },
    "c528db340f2e4ea1b015b46c21f19aec": {
     "views": []
    },
    "c6e26810a9be499292eeec2488b5b8e3": {
     "views": []
    },
    "c70c9c4f9cf544f189acbc8c4a4fd442": {
     "views": []
    },
    "c72c7fe559f84e15bd6f744e89bcf942": {
     "views": []
    },
    "c73e63011c8f496baa59e0fd9f4f70bb": {
     "views": []
    },
    "c7a7180165a64c56b72ec2d630f6a020": {
     "views": []
    },
    "c7f0951ab84d4f9c98b158157ab14f69": {
     "views": []
    },
    "c806b7c04e5b4a1597bc21cae118806f": {
     "views": []
    },
    "c83921e954644c94af0ddf3e71092dae": {
     "views": []
    },
    "c8c1deface704cea9ca2b98e89359a5e": {
     "views": []
    },
    "c99295d763024803a824210daf15288c": {
     "views": []
    },
    "caed9fde1d794705ba6fc4d8793e9943": {
     "views": []
    },
    "cb439227d48a463a90a1a4edaa578a61": {
     "views": []
    },
    "cbc3446b35d54f57af610a070a083cd0": {
     "views": []
    },
    "cc65f4b16d52496ca878aa0fad5cc4fb": {
     "views": []
    },
    "cccab3a8b84f4297aed00dbc59b80e14": {
     "views": []
    },
    "cdba92cdfb294a28962ed904b7d2f6e0": {
     "views": []
    },
    "cde8b44cabc143e09b46710b28d7f660": {
     "views": []
    },
    "cdfe6b4dc4b84546b5f8eedf599994e4": {
     "views": []
    },
    "ce2379d671a84a039e91edcf5c0fe1ab": {
     "views": []
    },
    "ce4fb5e5ca1a464385f089113cae2af4": {
     "views": []
    },
    "ce63751b401645fa8f455ccd154df58c": {
     "views": []
    },
    "ce69e82d80744841a79c0215d67b93e6": {
     "views": []
    },
    "cec09a80ef624554931bc61e3f7a2b41": {
     "views": []
    },
    "cf184152e5e94adab0204b496ea24261": {
     "views": []
    },
    "cf8dfac024ea40efbad42f143c1bdc93": {
     "views": []
    },
    "cfeb838f5dfd41bf8725741e123a4da7": {
     "views": []
    },
    "d03b761123724e76a5eda2a55cd686aa": {
     "views": []
    },
    "d094cc4f0cf643a8b75031d5acf375ee": {
     "views": []
    },
    "d1a48010bcb84079b07b120ac32d0a0f": {
     "views": []
    },
    "d267d7ced90b4060af15a973f8877cf2": {
     "views": []
    },
    "d278d60425e244f29f4b3f362044fdb2": {
     "views": []
    },
    "d2ee8a40d2a94c02bf2640573b5a2780": {
     "views": []
    },
    "d4bb4df156a6494b9dbb7aa32387c566": {
     "views": []
    },
    "d4d729e7d11d4d4cad7c8d9751aba38c": {
     "views": []
    },
    "d5ae84fa7243438c954fbf99ba85f71b": {
     "views": []
    },
    "d6648bc0473640a2a7dc5f067a7842ae": {
     "views": []
    },
    "d701ddc5a3f441d8b66fa122483f9b42": {
     "views": []
    },
    "d7408de48779462483ae967c83507586": {
     "views": []
    },
    "d76ab7dc98c14c16b5d87723dbda45f7": {
     "views": []
    },
    "d7af16baf8934e13b0c53853e9133fac": {
     "views": []
    },
    "d86a35f550de478aafa28d50f90458d5": {
     "views": []
    },
    "d95d57669ad647ddb6618ec09dc58185": {
     "views": []
    },
    "d95ef74fd0be41ad9be8d3deb66b4320": {
     "views": []
    },
    "d9cd5481adf449029bcd3c8ec571b552": {
     "views": []
    },
    "da883aa35e154fecb4d392c41ca0d631": {
     "views": []
    },
    "dac685fc7b024f37a2f39fcde5353cf2": {
     "views": []
    },
    "db460349e2c94c529c24c699c74b817a": {
     "views": []
    },
    "dba2fa5439364734863b158cb4b58e92": {
     "views": []
    },
    "dbb532fb48e74e01a66c1503d7f5b084": {
     "views": []
    },
    "dbb7cc7924aa4d16b78b0c04a0a5f073": {
     "views": []
    },
    "dbf79a5ea584480cb3347189e5ce4b8f": {
     "views": []
    },
    "dc5c0ce48b0d41a2ad3f6e4d65fc85f0": {
     "views": []
    },
    "dca37f450d984b5789d0ecee6b4d4427": {
     "views": []
    },
    "dcaee0744a104a3c858414f1ac7e983a": {
     "views": []
    },
    "dd30da1fd1ce4e338ad8c55ae5ee565d": {
     "views": []
    },
    "dd3bb77af6354da2ae33f9b7f423c9fd": {
     "views": []
    },
    "de7f73681e7a4131be50567ed98e3ab9": {
     "views": []
    },
    "dfd3ec1ad080485aa128b64154419e01": {
     "views": []
    },
    "e12f51cc3138456c99bfd104282b9ec0": {
     "views": []
    },
    "e1b4ca200a244893b70c98ee5a7e3b63": {
     "views": []
    },
    "e2911ec11f6e438b823575fdec4496bf": {
     "views": []
    },
    "e33cf41e76cb495b8b68367d4426e8f3": {
     "views": []
    },
    "e33cfcb059a141c78147eed512fd4837": {
     "views": []
    },
    "e37d9a58e1004125919e2e06940300ed": {
     "views": []
    },
    "e3922f8b91d64a3396579ef43ac44225": {
     "views": []
    },
    "e3d4f1eedaec48fea1eca3d7a672e17b": {
     "views": []
    },
    "e3fb63b9c6dd40d6b3e89b28dfb1ef91": {
     "views": []
    },
    "e41958da8cc545c0b146ecfd062e9855": {
     "views": []
    },
    "e491015e7c2244b0972ad63d034f99a8": {
     "views": []
    },
    "e4c75195cd2448758ffc2cbbbdd0c1b4": {
     "views": []
    },
    "e4e410d262614b9096b618a033a49147": {
     "views": []
    },
    "e53e6b2ed2eb463bb4e4c5875cf9eeb2": {
     "views": []
    },
    "e61f41b70e4841ba9ee4357aa1cd4748": {
     "views": []
    },
    "e6b61354a5ab4b6aa7f562b42fdf604b": {
     "views": []
    },
    "e6f033dc1fa348df9001b25333c39ba0": {
     "views": []
    },
    "e71d44a13c5a4a588e42fcfa3eb3b646": {
     "views": []
    },
    "e73cde52a275498d8348540549fdf0d9": {
     "views": []
    },
    "e749b85f75274031ad8dc5a4f5ff9ff8": {
     "views": []
    },
    "e7620261d50c43fbb92fbdf939d8e3c4": {
     "views": []
    },
    "e76662ad676f42829aa7cb5094e93f19": {
     "views": []
    },
    "e8034bd7e2ce48198f2f7e546cd03452": {
     "views": []
    },
    "e865f970e84a4510a78cae6277775ae6": {
     "views": []
    },
    "e892f1926e2144c98c9fb5f4a4d9fcb1": {
     "views": []
    },
    "e91897e1a8af4615a0a8ec77246a7c9f": {
     "views": []
    },
    "e92ba9819f604c1b8782c122b67df5ca": {
     "views": []
    },
    "e9bad1bba25849ee90e870d95e3b0079": {
     "views": []
    },
    "e9d62042b91341f39053c783ba59a0a4": {
     "views": []
    },
    "ea5f4b01bda840c0b349cb6445eb9969": {
     "views": []
    },
    "eb7c772830e04b248553a9c7beb0a473": {
     "views": []
    },
    "ebb75e7670074c6ab63d2538a258289d": {
     "views": []
    },
    "ebc4c298349641cab75995a859bfa959": {
     "views": []
    },
    "ec0107b0fe7b4cdc8630ee94671b049e": {
     "views": []
    },
    "ec3697fc0b534fff845959b6422fff51": {
     "views": []
    },
    "ec440da5724c452984ed360f97e45143": {
     "views": []
    },
    "ec6d06639d57484ca591c65972b69e9d": {
     "views": []
    },
    "ecb4ae3f099f45e0a83b857b41f71aed": {
     "views": []
    },
    "ed05d643f5e641b3afb11d98558527ff": {
     "views": []
    },
    "ed442c1cbfa24a7b8543405b5e1d3d5c": {
     "views": []
    },
    "ed7de4ac395c4d9091e7842719f5e102": {
     "views": []
    },
    "ee8be59cae604641b3140313737d6739": {
     "views": []
    },
    "eea6c21c5e5843ffae0c74e74b8b1c58": {
     "views": []
    },
    "ef78f92a4ef744d9931080bc39c21cea": {
     "views": []
    },
    "efab6dc25ab5457dbe0d49199f7feb5a": {
     "views": []
    },
    "efb6cdd525904dc3828659403662f828": {
     "views": []
    },
    "efd40310e090478f9c1a29363ebbe321": {
     "views": []
    },
    "f026967f53544055bd90d8ec9c2a1fd3": {
     "views": []
    },
    "f15553e8afed405481d270b35d3be2f9": {
     "views": []
    },
    "f2433df498c4455d832f85d9d945ef53": {
     "views": []
    },
    "f2c0613d46904ff393459aa77eee3ac1": {
     "views": []
    },
    "f368bc59fddb44e1b0b29e8f55f7b14f": {
     "views": []
    },
    "f36dd0bda317446e9531043c5c067ecc": {
     "views": []
    },
    "f3abadd8ccb746a68983ae89c20f291b": {
     "views": []
    },
    "f424df6d130042daba58a47ccedc6c23": {
     "views": []
    },
    "f4e79ed6a897450690d0f83c9c0c8df6": {
     "views": []
    },
    "f59fa682c1ef4c26b6e2ba3f405df7d1": {
     "views": []
    },
    "f5adda9318f243e8863d731ebc269dd1": {
     "views": []
    },
    "f632039a030c41128f40f50769986254": {
     "views": []
    },
    "f6f46a712fe843b4a1ae1f7ef30b7832": {
     "views": []
    },
    "f7a3b2865e764dc0a803f48e61e576eb": {
     "views": []
    },
    "f7b0014638a7410386f28debdc966251": {
     "views": []
    },
    "f87a4f5ab16d4038aacc750786d0bca2": {
     "views": []
    },
    "f8b4b12c1ab14d70842964b914b4bcb7": {
     "views": []
    },
    "f9902f3a440741e7a44e103d135c65f7": {
     "views": []
    },
    "f9e6ad0ba7da49899d09a2de3685af8b": {
     "views": []
    },
    "fa3e7cb2cafc442f90b5d509cc33e4f0": {
     "views": []
    },
    "fa75dafa70694d2bbb1b8da82edd7858": {
     "views": []
    },
    "fa90639efd79470a9ed2ab1fb2e0e636": {
     "views": []
    },
    "fb249ac26dea49afaff55141896ac840": {
     "views": []
    },
    "fba21ef3e66040728a5b08f9e76768ac": {
     "views": []
    },
    "fba97a0e331946ef975f3a6a2c2f7775": {
     "views": []
    },
    "fbc3d6d3f47a4ef18411d92f423e5fee": {
     "views": []
    },
    "fbc9845a78384acdb0891ece5bc06d6f": {
     "views": []
    },
    "fe743fdab8b34e9c8af2b35cba4ae9d6": {
     "views": []
    },
    "ff6e7f7820e34d77abc5c5f04dd3e752": {
     "views": []
    },
    "ffa572e2840a431790037620ed06bc5c": {
     "views": []
    },
    "ffd5ea5082154784afe668c3568340a7": {
     "views": []
    }
   },
   "version": "1.1.0"
  }
 },
 "nbformat": 4,
 "nbformat_minor": 0
}
